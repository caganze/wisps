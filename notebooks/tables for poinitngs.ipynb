{
 "cells": [
  {
   "cell_type": "code",
   "execution_count": 1,
   "metadata": {},
   "outputs": [
    {
     "name": "stdout",
     "output_type": "stream",
     "text": [
      "Adding 145 sources from /Users/caganze/research/splat//resources/Spectra/Public/LRIS-RED/ to spectral database\n",
      "Adding 89 sources from /Users/caganze/research/splat//resources/Spectra/Public/MAGE/ to spectral database\n",
      "Adding 2404 sources from /Users/caganze/research/splat//resources/Spectra/Public/SPEX-PRISM/ to spectral database\n"
     ]
    }
   ],
   "source": [
    "import wisps\n",
    "import splat\n",
    "import numpy as np\n",
    "import matplotlib.pyplot as plt\n",
    "import pandas as pd\n",
    "import astropy.units as u\n",
    "import wisps.simulations as wispsim\n",
    "%matplotlib inline"
   ]
  },
  {
   "cell_type": "code",
   "execution_count": 2,
   "metadata": {},
   "outputs": [],
   "source": [
    "#wispsim.make_pointings()"
   ]
  },
  {
   "cell_type": "code",
   "execution_count": 3,
   "metadata": {},
   "outputs": [],
   "source": [
    "pnts=pd.read_pickle(wisps.OUTPUT_FILES+'/pointings_correctedf110.pkl')"
   ]
  },
  {
   "cell_type": "code",
   "execution_count": 4,
   "metadata": {},
   "outputs": [],
   "source": [
    "tabl=pd.DataFrame()"
   ]
  },
  {
   "cell_type": "code",
   "execution_count": 5,
   "metadata": {},
   "outputs": [],
   "source": [
    "def get_observation(x):\n",
    "    try:\n",
    "        return x.observation_date[0]\n",
    "    except:\n",
    "        return "
   ]
  },
  {
   "cell_type": "code",
   "execution_count": 6,
   "metadata": {},
   "outputs": [],
   "source": [
    "tabl['Pointing']=[x.name.replace('par', 'wisps-').upper() for x in pnts]\n",
    "tabl['l']=[x.coord.galactic.l.to(u.deg) for x in pnts]\n",
    "tabl['b']=[x.coord.galactic.b.to(u.deg) for x in pnts]\n",
    "tabl['G141time']=[x.exposure_time for x in pnts]\n",
    "tabl['obsdate']=[get_observation(x) for  x in pnts]\n",
    "tabl['imgtime']=[x.imag_exptime for x in pnts]"
   ]
  },
  {
   "cell_type": "code",
   "execution_count": 7,
   "metadata": {},
   "outputs": [],
   "source": [
    "tbs=tabl[tabl.obsdate.isna()]"
   ]
  },
  {
   "cell_type": "code",
   "execution_count": 8,
   "metadata": {},
   "outputs": [
    {
     "data": {
      "text/html": [
       "<div>\n",
       "<style scoped>\n",
       "    .dataframe tbody tr th:only-of-type {\n",
       "        vertical-align: middle;\n",
       "    }\n",
       "\n",
       "    .dataframe tbody tr th {\n",
       "        vertical-align: top;\n",
       "    }\n",
       "\n",
       "    .dataframe thead th {\n",
       "        text-align: right;\n",
       "    }\n",
       "</style>\n",
       "<table border=\"1\" class=\"dataframe\">\n",
       "  <thead>\n",
       "    <tr style=\"text-align: right;\">\n",
       "      <th></th>\n",
       "      <th>Pointing</th>\n",
       "      <th>l</th>\n",
       "      <th>b</th>\n",
       "      <th>G141time</th>\n",
       "      <th>obsdate</th>\n",
       "      <th>imgtime</th>\n",
       "    </tr>\n",
       "  </thead>\n",
       "  <tbody>\n",
       "  </tbody>\n",
       "</table>\n",
       "</div>"
      ],
      "text/plain": [
       "Empty DataFrame\n",
       "Columns: [Pointing, l, b, G141time, obsdate, imgtime]\n",
       "Index: []"
      ]
     },
     "execution_count": 8,
     "metadata": {},
     "output_type": "execute_result"
    }
   ],
   "source": [
    "tbs"
   ]
  },
  {
   "cell_type": "code",
   "execution_count": 9,
   "metadata": {},
   "outputs": [],
   "source": [
    "dfn=wisps.get_big_file()"
   ]
  },
  {
   "cell_type": "code",
   "execution_count": 10,
   "metadata": {
    "scrolled": true
   },
   "outputs": [
    {
     "data": {
      "text/plain": [
       "exposure_time           2506.0\n",
       "observation_date    2011-04-19\n",
       "expt_f140w               203.0\n",
       "Name: 191180, dtype: object"
      ]
     },
     "execution_count": 10,
     "metadata": {},
     "output_type": "execute_result"
    }
   ],
   "source": [
    "dfn=dfn[dfn.pointing.str.lower().str.startswith('goodsn-111')]\n",
    "dfn[['exposure_time', 'observation_date', 'expt_f140w']].iloc[0]"
   ]
  },
  {
   "cell_type": "code",
   "execution_count": 11,
   "metadata": {},
   "outputs": [],
   "source": [
    "dfnsml=dfn[['exposure_time', 'observation_date', 'expt_f140w']].iloc[0]\n",
    "tabl.at[81,'G141time']=dfnsml.exposure_time\n",
    "tabl.at[81,'obsdate']=dfnsml.observation_date\n",
    "tabl.at[81,'imgtime']=dfnsml.expt_f140w\n"
   ]
  },
  {
   "cell_type": "code",
   "execution_count": 12,
   "metadata": {},
   "outputs": [
    {
     "data": {
      "text/plain": [
       "Pointing         GOODSN-114\n",
       "l           125d56m48.3881s\n",
       "b            54d46m34.9693s\n",
       "G141time             2506.0\n",
       "obsdate          2011-04-19\n",
       "imgtime               203.0\n",
       "Name: 81, dtype: object"
      ]
     },
     "execution_count": 12,
     "metadata": {},
     "output_type": "execute_result"
    }
   ],
   "source": [
    "tabl.iloc[81]"
   ]
  },
  {
   "cell_type": "code",
   "execution_count": 13,
   "metadata": {},
   "outputs": [],
   "source": [
    "def round_float(x):\n",
    "    return np.round(x, 1)"
   ]
  },
  {
   "cell_type": "code",
   "execution_count": 14,
   "metadata": {},
   "outputs": [],
   "source": [
    "mags_df=pd.DataFrame([x.mag_limits for x in pnts]).applymap(round_float)"
   ]
  },
  {
   "cell_type": "code",
   "execution_count": 15,
   "metadata": {},
   "outputs": [],
   "source": [
    "df=tabl.join(mags_df)"
   ]
  },
  {
   "cell_type": "code",
   "execution_count": 16,
   "metadata": {},
   "outputs": [],
   "source": [
    "#df"
   ]
  },
  {
   "cell_type": "code",
   "execution_count": 17,
   "metadata": {},
   "outputs": [],
   "source": [
    "df.to_latex(wisps.LIBRARIES+'/pointings.tex', index=False, escape=False,\n",
    "            na_rep='\\\\nodata')"
   ]
  },
  {
   "cell_type": "code",
   "execution_count": 19,
   "metadata": {},
   "outputs": [
    {
     "data": {
      "text/plain": [
       "'/volumes/LaCie/wispsdata/libraries/'"
      ]
     },
     "execution_count": 19,
     "metadata": {},
     "output_type": "execute_result"
    }
   ],
   "source": [
    "wisps.LIBRARIES"
   ]
  },
  {
   "cell_type": "code",
   "execution_count": 20,
   "metadata": {},
   "outputs": [],
   "source": [
    "import popsims"
   ]
  },
  {
   "cell_type": "code",
   "execution_count": 25,
   "metadata": {},
   "outputs": [
    {
     "data": {
      "text/plain": [
       "dict_keys(['WFIRST_WFIJ', 'WFIRST_WFIY', 'WFIRST_WFIZ', 'WFIRST_WFIH', 'WFIRST_WFIF', 'WFIRST_WFIR', 'EUCLID_J', 'EUCLID_H', 'EUCLID_Y', 'NIRCAM_F115W', 'NIRCAM_F140M', 'NIRCAM_F150W', 'NIRCAM_F200W', 'WFC3_F110W', 'WFC3_F140W', 'WFC3_F160W', 'VISTA_Z', 'VISTA_Y', 'VISTA_J', 'VISTA_H', 'VISTA_KS', 'UKIDSS_Z', 'UKIDSS_Y', 'UKIDSS_J', 'UKIDSS_H', 'UKIDSS_K', 'LSST_G', 'LSST_R', '2MASS J', '2MASS H', 'PANSTARRS_R', 'PANSTARRS_I', 'PANSTARRS_Z', 'PANSTARRS_Y', 'LSST_I', 'LSST_Z', 'LSST_Y', 'SDSS_R', 'SDSS_I', 'SDSS_Z'])"
      ]
     },
     "execution_count": 25,
     "metadata": {},
     "output_type": "execute_result"
    }
   ],
   "source": [
    "popsims.POLYNOMIALS['absmags']['dwarfs'].keys()"
   ]
  },
  {
   "cell_type": "code",
   "execution_count": null,
   "metadata": {},
   "outputs": [],
   "source": []
  }
 ],
 "metadata": {
  "kernelspec": {
   "display_name": "Python 3",
   "language": "python",
   "name": "python3"
  },
  "language_info": {
   "codemirror_mode": {
    "name": "ipython",
    "version": 3
   },
   "file_extension": ".py",
   "mimetype": "text/x-python",
   "name": "python",
   "nbconvert_exporter": "python",
   "pygments_lexer": "ipython3",
   "version": "3.8.5"
  }
 },
 "nbformat": 4,
 "nbformat_minor": 4
}
