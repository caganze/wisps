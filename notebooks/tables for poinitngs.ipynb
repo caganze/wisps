{
 "cells": [
  {
   "cell_type": "code",
   "execution_count": 2,
   "metadata": {},
   "outputs": [],
   "source": [
    "import wisps\n",
    "import splat\n",
    "import numpy as np\n",
    "import matplotlib.pyplot as plt\n",
    "import pandas as pd\n",
    "import astropy.units as u\n",
    "import wisps.simulations as wispsim\n",
    "%matplotlib inline"
   ]
  },
  {
   "cell_type": "code",
   "execution_count": 3,
   "metadata": {},
   "outputs": [
    {
     "name": "stdout",
     "output_type": "stream",
     "text": [
      "535\n",
      "missing magnitude limits ['par306', 'par402']\n"
     ]
    }
   ],
   "source": [
    "#wispsim.make_pointings()"
   ]
  },
  {
   "cell_type": "code",
   "execution_count": 4,
   "metadata": {},
   "outputs": [],
   "source": [
    "pnts=pd.read_pickle(wisps.OUTPUT_FILES+'/pointings_correctedf110.pkl')"
   ]
  },
  {
   "cell_type": "code",
   "execution_count": 5,
   "metadata": {},
   "outputs": [],
   "source": [
    "tabl=pd.DataFrame()"
   ]
  },
  {
   "cell_type": "code",
   "execution_count": 6,
   "metadata": {},
   "outputs": [],
   "source": [
    "def get_observation(x):\n",
    "    try:\n",
    "        return x.observation_date[0]\n",
    "    except:\n",
    "        return "
   ]
  },
  {
   "cell_type": "code",
   "execution_count": 7,
   "metadata": {},
   "outputs": [],
   "source": [
    "tabl['Pointing']=[x.name.replace('par', 'wisps-').upper() for x in pnts]\n",
    "tabl['l']=[x.coord.galactic.l.to(u.deg) for x in pnts]\n",
    "tabl['b']=[x.coord.galactic.b.to(u.deg) for x in pnts]\n",
    "tabl['G141time']=[x.exposure_time for x in pnts]\n",
    "tabl['obsdate']=[get_observation(x) for  x in pnts]\n",
    "tabl['imgtime']=[x.imag_exptime for x in pnts]"
   ]
  },
  {
   "cell_type": "code",
   "execution_count": 8,
   "metadata": {},
   "outputs": [],
   "source": [
    "tbs=tabl[tabl.obsdate.isna()]"
   ]
  },
  {
   "cell_type": "code",
   "execution_count": 9,
   "metadata": {},
   "outputs": [
    {
     "data": {
      "text/html": [
       "<div>\n",
       "<style scoped>\n",
       "    .dataframe tbody tr th:only-of-type {\n",
       "        vertical-align: middle;\n",
       "    }\n",
       "\n",
       "    .dataframe tbody tr th {\n",
       "        vertical-align: top;\n",
       "    }\n",
       "\n",
       "    .dataframe thead th {\n",
       "        text-align: right;\n",
       "    }\n",
       "</style>\n",
       "<table border=\"1\" class=\"dataframe\">\n",
       "  <thead>\n",
       "    <tr style=\"text-align: right;\">\n",
       "      <th></th>\n",
       "      <th>Pointing</th>\n",
       "      <th>l</th>\n",
       "      <th>b</th>\n",
       "      <th>G141time</th>\n",
       "      <th>obsdate</th>\n",
       "      <th>imgtime</th>\n",
       "    </tr>\n",
       "  </thead>\n",
       "  <tbody>\n",
       "    <tr>\n",
       "      <th>81</th>\n",
       "      <td>GOODSN-111</td>\n",
       "      <td>126d04m25.445s</td>\n",
       "      <td>54d50m09.1776s</td>\n",
       "      <td>NaN</td>\n",
       "      <td>None</td>\n",
       "      <td>NaN</td>\n",
       "    </tr>\n",
       "  </tbody>\n",
       "</table>\n",
       "</div>"
      ],
      "text/plain": [
       "      Pointing               l               b  G141time obsdate  imgtime\n",
       "81  GOODSN-111  126d04m25.445s  54d50m09.1776s       NaN    None      NaN"
      ]
     },
     "execution_count": 9,
     "metadata": {},
     "output_type": "execute_result"
    }
   ],
   "source": [
    "tbs"
   ]
  },
  {
   "cell_type": "code",
   "execution_count": 10,
   "metadata": {},
   "outputs": [],
   "source": [
    "dfn=wisps.get_big_file()"
   ]
  },
  {
   "cell_type": "code",
   "execution_count": 11,
   "metadata": {
    "scrolled": true
   },
   "outputs": [
    {
     "data": {
      "text/plain": [
       "exposure_time           2506.0\n",
       "observation_date    2011-04-19\n",
       "expt_f140w               203.0\n",
       "Name: 191180, dtype: object"
      ]
     },
     "execution_count": 11,
     "metadata": {},
     "output_type": "execute_result"
    }
   ],
   "source": [
    "dfn=dfn[dfn.pointing.str.lower().str.startswith('goodsn-111')]\n",
    "dfn[['exposure_time', 'observation_date', 'expt_f140w']].iloc[0]"
   ]
  },
  {
   "cell_type": "code",
   "execution_count": 12,
   "metadata": {},
   "outputs": [],
   "source": [
    "dfnsml=dfn[['exposure_time', 'observation_date', 'expt_f140w']].iloc[0]\n",
    "tabl.at[81,'G141time']=dfnsml.exposure_time\n",
    "tabl.at[81,'obsdate']=dfnsml.observation_date\n",
    "tabl.at[81,'imgtime']=dfnsml.expt_f140w\n"
   ]
  },
  {
   "cell_type": "code",
   "execution_count": 13,
   "metadata": {},
   "outputs": [
    {
     "data": {
      "text/plain": [
       "Pointing        GOODSN-111\n",
       "l           126d04m25.445s\n",
       "b           54d50m09.1776s\n",
       "G141time            2506.0\n",
       "obsdate         2011-04-19\n",
       "imgtime              203.0\n",
       "Name: 81, dtype: object"
      ]
     },
     "execution_count": 13,
     "metadata": {},
     "output_type": "execute_result"
    }
   ],
   "source": [
    "tabl.iloc[81]"
   ]
  },
  {
   "cell_type": "code",
   "execution_count": 14,
   "metadata": {},
   "outputs": [],
   "source": [
    "def round_float(x):\n",
    "    return np.round(x, 1)"
   ]
  },
  {
   "cell_type": "code",
   "execution_count": 15,
   "metadata": {},
   "outputs": [],
   "source": [
    "mags_df=pd.DataFrame([x.mag_limits for x in pnts]).applymap(round_float)"
   ]
  },
  {
   "cell_type": "code",
   "execution_count": 17,
   "metadata": {},
   "outputs": [],
   "source": [
    "df=tabl.join(mags_df)"
   ]
  },
  {
   "cell_type": "code",
   "execution_count": 15,
   "metadata": {},
   "outputs": [],
   "source": [
    "#df"
   ]
  },
  {
   "cell_type": "code",
   "execution_count": 18,
   "metadata": {},
   "outputs": [],
   "source": [
    "df.to_latex(wisps.LIBRARIES+'/pointings.tex', index=False, escape=False,\n",
    "            na_rep='\\\\nodata')"
   ]
  },
  {
   "cell_type": "code",
   "execution_count": 23,
   "metadata": {},
   "outputs": [
    {
     "data": {
      "text/plain": [
       "array([-0.21776493,  0.4024389 ,  1.32173191])"
      ]
     },
     "execution_count": 23,
     "metadata": {},
     "output_type": "execute_result"
    }
   ],
   "source": [
    "wispsim.MAG_LIMITS['snr_exp']['F110']"
   ]
  },
  {
   "cell_type": "code",
   "execution_count": null,
   "metadata": {},
   "outputs": [],
   "source": []
  }
 ],
 "metadata": {
  "kernelspec": {
   "display_name": "Python 3",
   "language": "python",
   "name": "python3"
  },
  "language_info": {
   "codemirror_mode": {
    "name": "ipython",
    "version": 3
   },
   "file_extension": ".py",
   "mimetype": "text/x-python",
   "name": "python",
   "nbconvert_exporter": "python",
   "pygments_lexer": "ipython3",
   "version": "3.8.5"
  }
 },
 "nbformat": 4,
 "nbformat_minor": 4
}
