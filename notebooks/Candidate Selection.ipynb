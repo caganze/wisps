{
 "cells": [
  {
   "cell_type": "code",
   "execution_count": 1,
   "metadata": {},
   "outputs": [
    {
     "name": "stdout",
     "output_type": "stream",
     "text": [
      "Adding 2404 sources from /Users/caganze/research/splat//resources/Spectra/Public/SPEX-PRISM/ to spectral database\n",
      "Adding 145 sources from /Users/caganze/research/splat//resources/Spectra/Public/LRIS-RED/ to spectral database\n",
      "Adding 89 sources from /Users/caganze/research/splat//resources/Spectra/Public/MAGE/ to spectral database\n"
     ]
    }
   ],
   "source": [
    "import splat\n",
    "import wisps\n",
    "import matplotlib.pyplot as plt\n",
    "from wisps.data_analysis import selection_criteria as sel_crt\n",
    "\n",
    "import numpy as np\n",
    "import pandas as pd\n",
    "\n",
    "import numba\n",
    "import matplotlib as mpl\n",
    "mpl.rcParams['font.size'] = 18\n",
    "\n",
    "from itertools import combinations\n",
    "#%%capture  output\n",
    "import itertools\n",
    "from tqdm import tqdm\n",
    "\n",
    "\n",
    "import seaborn as sns \n",
    "cmap=sns.light_palette((260, 75, 60), input=\"husl\", as_cmap=True)\n",
    "from tensorflow import keras\n",
    "\n",
    "from scipy import stats"
   ]
  },
  {
   "cell_type": "code",
   "execution_count": 2,
   "metadata": {},
   "outputs": [],
   "source": [
    "def get_indices(x):\n",
    "    if x is None :\n",
    "        return pd.Series({})\n",
    "    else:\n",
    "        return  pd.Series(x.indices)\n",
    "    \n",
    "def get_spt(x):\n",
    "    if x is None:\n",
    "        return np.nan\n",
    "    else:\n",
    "        return x.spectral_type[0]\n",
    "\n",
    "def reclassify(s):\n",
    "    if s is None:\n",
    "        return None\n",
    "    #spt_unc=s.spectral_type[1\n",
    "    #rngs=[[1.17,1.35],[1.45,1.67]]\n",
    "    rngs=[[1.15, 1.65]]\n",
    "    spt, spt_e= splat.classifyByStandard(s.splat_spectrum, fitrange=[[1.15, 1.65]], \n",
    "                                         sptrange=['M0','Y1'], average=True)\n",
    "    #s.classify_by_standard(comprange=rngs)\n",
    "    #print(wisps.make_spt_number(spt))\n",
    "    #spt, spt_e=wisps.classify_by_templates(s, comprange=rngs)\n",
    "    s.spectral_type=(np.round(wisps.make_spt_number(spt)), spt_e)\n",
    "    s.calculate_distance(use_spt_unc=True, use_index_type=False)\n",
    "    \n",
    "    return s\n",
    "\n",
    "def reclassify_by_templ(s):\n",
    "    if s is None:\n",
    "        return None\n",
    "    #spt_unc=s.spectral_type[1\n",
    "    #rngs=[[1.17,1.35],[1.45,1.67]]\n",
    "    rngs=[[1.17, 1.67]]\n",
    "    #spt, spt_e= splat.classifyByStandard(s.splat_spectrum, fitrange=[[1.15, 1.65]], \n",
    "    #                                     sptrange=['M0','Y1'], average=True)\n",
    "    #s.classify_by_standard(comprange=rngs)\n",
    "    #print(wisps.make_spt_number(spt))\n",
    "    spt, spt_e=wisps.classify_by_templates(s, comprange=rngs)\n",
    "    s.spectral_type=(np.round(wisps.make_spt_number(spt)), spt_e)\n",
    "    s.calculate_distance(use_spt_unc=True, use_index_type=False)\n",
    "    \n",
    "    return s\n"
   ]
  },
  {
   "cell_type": "code",
   "execution_count": 3,
   "metadata": {},
   "outputs": [],
   "source": [
    "def get_cands(by_templates=False):\n",
    "    #read in the data\n",
    "    cands0=pd.read_hdf(wisps.LIBRARIES+'/objects_of_interest.hdf', key='all')\n",
    "    if by_templates:\n",
    "        spectra=[reclassify_by_templ(x) for x in cands0.spectra]\n",
    "    else:\n",
    "        spectra= [reclassify(x) for x in cands0.spectra]\n",
    "    cands0['spectra']=spectra\n",
    "    cands=cands0.spectra.apply(get_indices)\n",
    "    cands['spectra']=cands0.spectra\n",
    "    cands['grism_id']=cands0.grism_id\n",
    "    cands['spt']=cands0.spectra.apply(get_spt)\n",
    "    canddf=cands[~cands.spectra.isna()].reset_index(drop=True)\n",
    "    canddf['spt']=canddf.spectra.apply(lambda x: x.spectral_type[0])\n",
    "    canddf['spt_er']=canddf.spectra.apply(lambda x: x.spectral_type[1])\n",
    "    canddf['distance']=canddf.spectra.apply(lambda x: x.distance['val'].value)\n",
    "    canddf['distance_er']=canddf.spectra.apply(lambda x: x.distance['er'].value)\n",
    "    canddf['coord']=canddf.spectra.apply(lambda x:x.coords)\n",
    "    canddf['designation']=canddf.spectra.apply(lambda x: x.designation)\n",
    "    #canddf['index_type_er']=canddf.spectra.apply(lambda x: x.index_type[1])\n",
    "    canddfj=canddf.join(canddf.spectra.apply(lambda x: pd.Series(x.mags)))\n",
    "    canddff=canddfj.join(canddf.spectra.apply(lambda x: pd.Series(x.snr)))\n",
    "    canddff['spectra']=canddf.spectra\n",
    "\n",
    "    canddff=canddff.drop_duplicates('designation')\n",
    "    #visuallty excluded\n",
    "    exclude=list(set(['J01253527-0001383', 'J20220361-3113264', \n",
    "             'J05300520-0723374', 'J05315184-0723016',\n",
    "             'J14313999+2447186', 'J15343866+5014150', 'J10044909+5258293',\n",
    "             'J14193494+5256146', 'J15474619+2057475',\n",
    "            'J10003065+0217017', 'J02170287-0513385', \n",
    "            'J12363034+6215023']))\n",
    "    ucds=wisps.Annotator.reformat_table((canddff[(canddff.spt>=17) & \\\n",
    "                                                 (~(canddff.designation.str.upper().isin(exclude))) \\\n",
    "    ]).reset_index(drop=True)).sort_values(by='designation')\n",
    "    #remove some objects by name\n",
    "    ucds=(ucds[~ ucds.grism_id.isin(['par199-00124'])]).reset_index(drop=True).sort_values(by='spt')\n",
    "    return ucds"
   ]
  },
  {
   "cell_type": "code",
   "execution_count": 4,
   "metadata": {},
   "outputs": [],
   "source": [
    "#ucds=pd.read_pickle('~/research/wisps/libraries/real_ucds.pkl')\n",
    "#selection objects \n",
    "rfdict=pd.read_pickle(wisps.OUTPUT_FILES+'/random_forest_classifier.pkl') #the classifier \n",
    "indices_to_use= pd.read_pickle(wisps.OUTPUT_FILES+'/best_indices_to_use.pkl')\n",
    "neural_network= keras.models.load_model(wisps.OUTPUT_FILES+'/deep_model_september23.h5')\n",
    "#neural_network= keras.models.load_model(wisps.OUTPUT_FILES+'/conv_model_withspt_snr_september17.h5')"
   ]
  },
  {
   "cell_type": "code",
   "execution_count": 5,
   "metadata": {},
   "outputs": [],
   "source": [
    "import wisps.data_analysis.selection_criteria as sel_crt\n",
    "indices_to_use= pd.read_pickle(wisps.OUTPUT_FILES+'/best_indices_to_use.pkl')\n",
    "slc_crts=sel_crt.crts_from_file()"
   ]
  },
  {
   "cell_type": "code",
   "execution_count": 6,
   "metadata": {},
   "outputs": [],
   "source": [
    "big=wisps.get_big_file()"
   ]
  },
  {
   "cell_type": "code",
   "execution_count": 7,
   "metadata": {},
   "outputs": [],
   "source": [
    "#define a number of selectors \n",
    "#each selection should a column of zeros and ones corresponding\n",
    "#to where objects were selected\n",
    "#each selector input is the simulated df\n",
    "def f_test_fx(x, df1, df2):\n",
    "    return stats.f.cdf(x, df1, df2)\n",
    "\n",
    "def select_by_indices(df, idx, spt_range):\n",
    "    print(spt_range)\n",
    "    bs=idx.shapes\n",
    "    bx=[x for x in bs if x.shape_name==spt_range][0]\n",
    "    _, bools= bx._select(np.array([df[idx.xkey].values, df[idx.ykey].values]))\n",
    "    return bools\n",
    "        \n",
    "\n",
    "def apply_scale(x):\n",
    "    ##remove nans \n",
    "    ##this is the same scaling used \n",
    "    ## same scaling used for \n",
    "    #replace nans\n",
    "    y=x\n",
    "    if np.isnan(y) or np.isinf(y) or abs(y) > 1e10:\n",
    "        y=-99\n",
    "    return y\n",
    "\n",
    "\n",
    "def select_by_random_forest(df):\n",
    "    #use the classification given by my rf classifier\n",
    "    \n",
    "    rf=rfdict['classifier']\n",
    "    #min_max_scaler=rfdict['sclr']\n",
    "    features=rfdict['feats']\n",
    "    \n",
    "    #apply logs to problematic features the same way I did on my classification\n",
    "    pred_df=df.copy()\n",
    "    \n",
    "    for c in features:\n",
    "        if c not in ['spt', 'f_test', 'x']:\n",
    "            pred_df.assign(c=np.log10(pred_df[c].apply(apply_scale)))\n",
    "        else:\n",
    "            pred_df.assign(c=pred_df[c].apply(apply_scale))\n",
    "            \n",
    "    pred_df[features]=pred_df[features].applymap(apply_scale)\n",
    "    #make predictions\n",
    "    probs=rf.predict_proba(pred_df[features].values)\n",
    "    labels=np.logical_or.reduce((\n",
    "                                 probs[:,2] > .8, \\\n",
    "                                 probs[:,3] >.8 ,\\\n",
    "                                 probs[:,4] >0.8))\n",
    "    \n",
    "    #labels=np.logical_or.reduce([ probs[:, 0]<0.05, labels ])\n",
    "    #labels=rf.predict(pred_df[features].values)\n",
    " \n",
    "    return {'probs': probs, 'labels': labels}\n",
    "\n",
    "\n",
    "\n",
    "def select_by_neuralnet(df):\n",
    "    #define features (start with indices alone)\n",
    "    #apply logs to problematic features the same way I did on my classification\n",
    "    features=rfdict['feats']\n",
    "    \n",
    "    pred_df=df.copy()\n",
    "    \n",
    "    for c in features:\n",
    "        if c not in ['spt']:\n",
    "            pred_df.assign(c=np.log10(pred_df[c].apply(apply_scale)))\n",
    "        else:\n",
    "            pred_df.assign(c=pred_df[c].apply(apply_scale))\n",
    "            \n",
    "    pred_df[features]=pred_df[features].applymap(apply_scale)\n",
    "    #probs= neural_network.predict(  pred_df[features].values)\n",
    "    #need to reshape\n",
    "    #probs=neural_network.predict(  pred_df[features].values.reshape(-1, len(features), 1))\n",
    "    \n",
    "    #my cuts\n",
    "    #labels=np.logical_or.reduce((probs[:, 2] > .7, probs[:,3] >.5 , probs[:,4] >0.5))\n",
    "    #labels=probs[:,0] <0.5\n",
    "    #labels=neural_network.predict_classes(  pred_df[features].values.reshape(-1, len(features), 1))\n",
    "    #labels=neural_network.predict(  pred_df[features].values.reshape(-1, len(features), 1))\n",
    "    probs= neural_network(  pred_df[features].values, training=False)\n",
    "    labels=np.logical_or.reduce((\n",
    "                                probs[:, 2] > .8, \\\n",
    "                                 probs[:,3] >.8 ,\\\n",
    "                                 probs[:,4] >0.8))\n",
    "    \n",
    "    #labels=np.logical_or.reduce([probs[:, 1]>0.9, labels ])\n",
    "    #labels=neural_network.predict_classes(  pred_df[features].values)\n",
    "    #labels=np.logical_or.reduce([ probs[:, 0]<0.05, labels ])\n",
    " \n",
    "    return {'probs': probs, 'labels': labels}\n",
    "\n"
   ]
  },
  {
   "cell_type": "code",
   "execution_count": 8,
   "metadata": {},
   "outputs": [],
   "source": [
    "def ucd_selection_method(ro):\n",
    "    select=''\n",
    "    if ro.index_label:\n",
    "        select +=\"Indices, \"\n",
    "    if ro.selected_by_nn:\n",
    "        select +=\"DNN, \"\n",
    "    if ro.selected_by_rf:\n",
    "        select +=\"RF \"\n",
    "    if select.endswith(', '):\n",
    "        select=select.replace(',', '')\n",
    "    return select"
   ]
  },
  {
   "cell_type": "code",
   "execution_count": 9,
   "metadata": {},
   "outputs": [],
   "source": [
    "def label_ucds(ucds):\n",
    "    ucds['x']=ucds.spectra.apply(lambda x: x.spex_chi/x.line_chi)\n",
    "    ucds['line_chi']=ucds.spectra.apply(lambda x: x.line_chi)\n",
    "    ucds['spex_chi']=ucds.spectra.apply(lambda x: x.spex_chi)\n",
    "    ucds['f_test']=ucds.spectra.apply(lambda x: x.f_test)\n",
    "    ls=select_by_neuralnet(ucds)\n",
    "    rf_ls= select_by_random_forest(ucds)\n",
    "    #add labels for index selection\n",
    "    ucds['selected_by_rf']=rf_ls['labels']\n",
    "    ucds['selected_by_nn']=ls['labels']\n",
    "    \n",
    "    \n",
    "    for idxk, k in indices_to_use:\n",
    "        idx=slc_crts[idxk]\n",
    "        ucds['selected_by_{}'.format(k)]= select_by_indices(ucds, idx, k)\n",
    "        \n",
    "    ucds['index_label']=np.logical_or.reduce([ucds['selected_by_{}'.format(x)].values \n",
    "                                                  for x in  np.vstack(indices_to_use)[:,1]])\n",
    "    #make that colormap\n",
    "    ucds['selection']=ucds.apply(ucd_selection_method, axis=1).values\n",
    "    return ucds"
   ]
  },
  {
   "cell_type": "code",
   "execution_count": 70,
   "metadata": {},
   "outputs": [],
   "source": [
    "def formatted_distance(x):\n",
    "    d= str(int(round(np.nan_to_num(x.distance['val'].value), 0)))\n",
    "    der=[str(int(abs(round(np.nan_to_num(x.distance['er'].value[0]), 0)))),\\\n",
    "            str(int(abs(round(np.nan_to_num(x.distance['er'].value[1]), 0))))]\n",
    "         \n",
    "    if abs(x.distance['er'].value[0])/x.distance['val'].value >1.0:\n",
    "        der=[str(x.distance['er'].value[0]), str(x.distance['er'].value[1])]\n",
    "        #return \"$\\\\approx$\"+d\n",
    "        return d+'$^{+'+der[0]+'}'+'_{-'+der[1]+'}$'\n",
    "    else:\n",
    "        return d+'$^{+'+der[0]+'}'+'_{-'+der[1]+'}$'\n",
    "        #return r'$'+d+'\\substack{+'+der[0]+'\\\\\\ -'+der[-1]+'}$'\n",
    "    #return d+'$^{+'+der[0]+'}'+'_{-'+der[1]+'}$'"
   ]
  },
  {
   "cell_type": "code",
   "execution_count": 11,
   "metadata": {},
   "outputs": [],
   "source": [
    "def latex_version(ucds, additional_cols=[]):\n",
    "    missed_bools=(ucds.selection=='').values\n",
    "    labelled=wisps.Annotator.group_by_spt(ucds, spt_label='spt', assign_number=False)\n",
    "\n",
    "    #for idxk, k in indices_to_use:\n",
    "    #    idx=slc_crts[idxk]\n",
    "    #    labelled['selected_by_{}'.format(k)]= select_by_indices(labelled, idx, k)\n",
    "\n",
    "    #labelled['index_label']=np.logical_or.reduce([labelled['selected_by_{}'.format(x)].values \n",
    "    #                                              for x in  np.vstack(indices_to_use)[:,1]])\n",
    "    missed=ucds[ucds.grism_id.str.upper().isin(['PAR322-00030',  'PAR50-00017',  \\\n",
    "                                     'PAR170-00053', 'PAR293-00059',  \\\n",
    "                                     'PAR104-00019'])]\n",
    "    fdf=ucds[~missed_bools]\n",
    "    latc_df=pd.DataFrame()\n",
    "    latc_df['Shortname']=fdf.spectra.apply(lambda x: x.shortname.upper())\n",
    "    latc_df['designation']=fdf.spectra.apply(lambda x: x.designation.upper())\n",
    "    latc_df['grism id']=fdf.spectra.apply(lambda x: x.name.upper().replace('_', '-'))\n",
    "    latc_df['snrj']=fdf.spectra.apply(lambda x: int(round(x.snr['snr1'])))\n",
    "    latc_df['spt']=fdf.spectra.apply(lambda x: splat.typeToNum(x.spectral_type[0]) +r'$\\pm$'+ str(round(x.spectral_type[1], 1)))\n",
    "    latc_df['ra']=fdf.spectra.apply(lambda x: x.ra.value)\n",
    "    latc_df['dec']=fdf.spectra.apply(lambda x: x.dec.value)\n",
    "    latc_df['f110']=fdf.spectra.apply(lambda x:  str(round(x.mags['F110W'][0],3)) +r'$\\pm$'+ str(round(x.mags['F110W'][1],3)))\n",
    "    #latc_df['f110_er']=fdf.spectra.apply(lambda x: round(x.mags['F110W'][1], 1))\n",
    "    latc_df['f140']=fdf.spectra.apply(lambda x:  str(round(x.mags['F140W'][0],3)) +r'$\\pm$'+  str(round(x.mags['F140W'][1],3)))\n",
    "    #latc_df['f140_er']=fdf.spectra.apply(lambda x: round(x.mags['F140W'][1], 1))\n",
    "    latc_df['f160']=fdf.spectra.apply(lambda x:   str(round(x.mags['F160W'][0],3)) + r'$\\pm$'+ str(round(x.mags['F160W'][1],3)))\n",
    "    #latc_df['f160_er']=fdf.spectra.apply(lambda x: round(x.mags['F160W'][1], 1))\n",
    "    latc_df['distance']=fdf.spectra.apply(formatted_distance)\n",
    "    latc_df['Selected By']= fdf['selection']\n",
    "    latc_df=latc_df.replace('nan$\\\\pm$nan', '\\nodata')\n",
    "    return latc_df"
   ]
  },
  {
   "cell_type": "code",
   "execution_count": 12,
   "metadata": {},
   "outputs": [],
   "source": [
    "ucds=get_cands(by_templates=False)"
   ]
  },
  {
   "cell_type": "code",
   "execution_count": 13,
   "metadata": {},
   "outputs": [],
   "source": [
    "ucds_by_templates=get_cands(by_templates=True)\n"
   ]
  },
  {
   "cell_type": "code",
   "execution_count": 14,
   "metadata": {},
   "outputs": [],
   "source": [
    "ucds_missed=ucds_by_templates[~ucds_by_templates.designation.isin(ucds.designation)]"
   ]
  },
  {
   "cell_type": "code",
   "execution_count": 15,
   "metadata": {},
   "outputs": [],
   "source": [
    "def classsify_by_standard_only(s):\n",
    "    spt, spt_e= splat.classifyByStandard(s.splat_spectrum, fitrange=[[1.15, 1.65]], \n",
    "                                         sptrange=['M0','Y1'], average=True)\n",
    "    return spt, spt_e"
   ]
  },
  {
   "cell_type": "code",
   "execution_count": 16,
   "metadata": {},
   "outputs": [],
   "source": [
    "old_classification=ucds_missed.spectra.apply( classsify_by_standard_only)\n",
    "ucds_missed['spt_by_standard']=np.vstack(old_classification)[:,0]\n",
    "ucds_missed['spt_er_by_standard']=np.vstack(old_classification)[:,1]"
   ]
  },
  {
   "cell_type": "code",
   "execution_count": 111,
   "metadata": {},
   "outputs": [],
   "source": [
    "ucds_missed=ucds_missed[ucds_missed.selection!='']"
   ]
  },
  {
   "cell_type": "code",
   "execution_count": 112,
   "metadata": {},
   "outputs": [
    {
     "name": "stdout",
     "output_type": "stream",
     "text": [
      "M7-L0\n",
      "L0-L5\n",
      "L5-T0\n",
      "T0-T5\n",
      "T5-T9\n",
      "Y dwarfs\n",
      "subdwarfs\n"
     ]
    }
   ],
   "source": [
    "ucds_missed=label_ucds(ucds_missed.reset_index(drop=True))"
   ]
  },
  {
   "cell_type": "code",
   "execution_count": 113,
   "metadata": {},
   "outputs": [
    {
     "data": {
      "text/plain": [
       "77"
      ]
     },
     "execution_count": 113,
     "metadata": {},
     "output_type": "execute_result"
    }
   ],
   "source": [
    "len(ucds_missed)"
   ]
  },
  {
   "cell_type": "code",
   "execution_count": 20,
   "metadata": {},
   "outputs": [
    {
     "name": "stdout",
     "output_type": "stream",
     "text": [
      "M7-L0\n",
      "L0-L5\n",
      "L5-T0\n",
      "T0-T5\n",
      "T5-T9\n",
      "Y dwarfs\n",
      "subdwarfs\n"
     ]
    }
   ],
   "source": [
    "ucds=label_ucds(ucds)"
   ]
  },
  {
   "cell_type": "code",
   "execution_count": 21,
   "metadata": {},
   "outputs": [],
   "source": [
    "ucds.grism_id=ucds.grism_id.str.lower()\n",
    "ucds=ucds[ucds.snr1>=3]\n",
    "#big.grism_id=big.grism_id.str.lower()"
   ]
  },
  {
   "cell_type": "code",
   "execution_count": 71,
   "metadata": {},
   "outputs": [],
   "source": [
    "labeld_df=latex_version(ucds)"
   ]
  },
  {
   "cell_type": "code",
   "execution_count": 72,
   "metadata": {},
   "outputs": [],
   "source": [
    "assert len(labeld_df)==len(ucds)"
   ]
  },
  {
   "cell_type": "code",
   "execution_count": 136,
   "metadata": {},
   "outputs": [],
   "source": [
    "col_list=['designation','grism id', 'f110', 'f140', 'f160', \\\n",
    "          'snrj', 'spt', 'distance','Selected By']\n",
    "add_colist=['designation','grism id', 'f110', 'f140', 'f160', \\\n",
    "          'snrj', 'spt', 'spt_std', 'distance','Selected By']"
   ]
  },
  {
   "cell_type": "code",
   "execution_count": 137,
   "metadata": {},
   "outputs": [],
   "source": [
    "cands_missed_latex_version=(latex_version(ucds_missed))[col_list]"
   ]
  },
  {
   "cell_type": "code",
   "execution_count": 138,
   "metadata": {},
   "outputs": [],
   "source": [
    "def format_missed_spt(spt, spter):\n",
    "    return spt.replace('.0:', '.0') +r'$\\pm$'+ str(np.round(spter, 1))"
   ]
  },
  {
   "cell_type": "code",
   "execution_count": 133,
   "metadata": {},
   "outputs": [],
   "source": [
    "#"
   ]
  },
  {
   "cell_type": "code",
   "execution_count": 139,
   "metadata": {},
   "outputs": [],
   "source": [
    "cands_missed_latex_version['spt_std']=[format_missed_spt(x, y) for x, y in  zip(ucds_missed.spt_by_standard.values, \\\n",
    "                             ucds_missed.spt_er_by_standard.values.astype(float))]"
   ]
  },
  {
   "cell_type": "code",
   "execution_count": 140,
   "metadata": {},
   "outputs": [],
   "source": [
    "cands_missed_latex_version[add_colist].sort_values(by='designation').to_latex('/users/caganze/research/wisps/libraries/candidates_missed.tex',\n",
    "             header=True, index=False, escape=False, na_rep=' ')"
   ]
  },
  {
   "cell_type": "code",
   "execution_count": 65,
   "metadata": {},
   "outputs": [],
   "source": [
    "#"
   ]
  },
  {
   "cell_type": "code",
   "execution_count": 76,
   "metadata": {},
   "outputs": [],
   "source": [
    "mlabeld_df_mask=labeld_df.spt.str.startswith('M').values"
   ]
  },
  {
   "cell_type": "code",
   "execution_count": 77,
   "metadata": {},
   "outputs": [],
   "source": [
    "labeld_df[col_list][mlabeld_df_mask].to_latex('/users/caganze/research/wisps/libraries/candidates_m.tex',\n",
    "             header=True, index=False, escape=False, na_rep=' ')\n",
    "                    \n",
    "labeld_df[col_list][~mlabeld_df_mask].to_latex('/users/caganze/research/wisps/libraries/candidates_lt.tex',\n",
    "             header=True, index=False, escape=False, na_rep=' ')"
   ]
  },
  {
   "cell_type": "code",
   "execution_count": 28,
   "metadata": {},
   "outputs": [],
   "source": [
    "#ucds.selection.values"
   ]
  },
  {
   "cell_type": "code",
   "execution_count": 29,
   "metadata": {},
   "outputs": [],
   "source": [
    "ucds.to_pickle(wisps.LIBRARIES+'/new_real_ucds.pkl')"
   ]
  },
  {
   "cell_type": "code",
   "execution_count": 30,
   "metadata": {},
   "outputs": [],
   "source": [
    "selection_table={}\n",
    "selection_table['rf']={}\n",
    "selection_table['nn']={}\n",
    "selection_table['indices']={}"
   ]
  },
  {
   "cell_type": "code",
   "execution_count": 31,
   "metadata": {},
   "outputs": [],
   "source": [
    "labelled=ucds"
   ]
  },
  {
   "cell_type": "code",
   "execution_count": null,
   "metadata": {},
   "outputs": [],
   "source": []
  },
  {
   "cell_type": "code",
   "execution_count": 32,
   "metadata": {},
   "outputs": [],
   "source": [
    "def relabel_spectral_range(spt):\n",
    "    if (spt>=17) & (spt<= 19):\n",
    "        return 'M7-L0'\n",
    "    if (spt>=20) & (spt<= 24):\n",
    "        return 'L0-L5'\n",
    "    if (spt>=25) & (spt<= 29):\n",
    "        return 'L5-T0'\n",
    "    if (spt>=30) & (spt<= 34):\n",
    "        return 'T0-T5'\n",
    "    if (spt>=34) & (spt<= 39):\n",
    "        return 'T5-Y0'"
   ]
  },
  {
   "cell_type": "code",
   "execution_count": 33,
   "metadata": {},
   "outputs": [],
   "source": [
    "labelled['spt_range']=labelled.spt.apply(relabel_spectral_range)"
   ]
  },
  {
   "cell_type": "code",
   "execution_count": 34,
   "metadata": {},
   "outputs": [
    {
     "name": "stdout",
     "output_type": "stream",
     "text": [
      "L0-L5\n",
      "selected by rf 14\n",
      "selected by NN 19\n",
      "selected by indices 19\n",
      "L5-T0\n",
      "selected by rf 4\n",
      "selected by NN 5\n",
      "selected by indices 5\n",
      "M7-L0\n",
      "selected by rf 106\n",
      "selected by NN 120\n",
      "selected by indices 126\n",
      "T0-T5\n",
      "selected by rf 7\n",
      "selected by NN 7\n",
      "selected by indices 7\n",
      "T5-Y0\n",
      "selected by rf 3\n",
      "selected by NN 3\n",
      "selected by indices 3\n"
     ]
    }
   ],
   "source": [
    "\n",
    "\n",
    "#rfselection=pd.read_csv(wisps.OUTPUT_FILES+'/selected_by_rf.csv')\n",
    "#nnres=pd.read_pickle(wisps.OUTPUT_FILES+'/deep_neural_net_classifier_results.pkl')\n",
    "\n",
    "#rfselection.shape\n",
    "\n",
    "#nnsel= pd.concat(nnres['selected'])\n",
    "\n",
    "nnselection =pd.DataFrame()\n",
    "rfselection=pd.DataFrame()\n",
    "\n",
    "#nnselection['grism_id']=ucds.grism_id[ls['labels']]\n",
    "#rfselection['grism_id']= ucds.grism_id[rf_ls['labels']]\n",
    "#nnselection=nnselection.drop_duplicates('grism_id')\n",
    "\n",
    "\n",
    "\n",
    "\n",
    "for g in labelled.groupby('spt_range'):\n",
    "    df0=g[1]\n",
    "    print ('{}'.format(g[0]))\n",
    "    print ('selected by rf {}'.format(len(df0[df0.selected_by_rf])))\n",
    "    print ('selected by NN {}'.format(len(df0[df0.selected_by_nn])))\n",
    "    print ('selected by indices {}'.format(len(df0[df0.index_label])))\n",
    "    selection_table['rf'][g[0]]=len(df0[df0.selected_by_rf])\n",
    "    selection_table['nn'][g[0]]=len(df0[df0.selected_by_nn])\n",
    "    selection_table['indices'][g[0]]=len(df0[df0.index_label])\n",
    "    #print ('selected by rf or indices {}'.format(len(df0[np.logical_or(df0.index_label,df0.selected_by_rf) ])))\n",
    "    #print ('selected by NOT rf and indices {}'.format(len(df0[np.logical_and(df0.index_label,~df0.selected_by_rf) ])))\n",
    "    #print ('selected by rf and NOT indices {}'.format(len(df0[np.logical_and(~df0.index_label,df0.selected_by_rf) ])))\n",
    "    #print ('selected by NN or indices {}'.format(len(df0[np.logical_or(df0.index_label,df0.selected_by_nn) ])))\n",
    "    #print ('selected by NOT NN and indices {}'.format(len(df0[np.logical_and(df0.index_label,~df0.selected_by_nn) ])))\n",
    "    #print ('selected by NN and NOT indices {}'.format(len(df0[np.logical_and(~df0.index_label,df0.selected_by_nn) ])))\n",
    "    #print ('---------------------------------------------------------------- ')"
   ]
  },
  {
   "cell_type": "code",
   "execution_count": 86,
   "metadata": {},
   "outputs": [
    {
     "data": {
      "text/plain": [
       "154"
      ]
     },
     "execution_count": 86,
     "metadata": {},
     "output_type": "execute_result"
    }
   ],
   "source": [
    "labelled.selected_by_nn.sum()"
   ]
  },
  {
   "cell_type": "code",
   "execution_count": 87,
   "metadata": {},
   "outputs": [
    {
     "data": {
      "text/plain": [
       "134"
      ]
     },
     "execution_count": 87,
     "metadata": {},
     "output_type": "execute_result"
    }
   ],
   "source": [
    "labelled.selected_by_rf.sum()"
   ]
  },
  {
   "cell_type": "code",
   "execution_count": 88,
   "metadata": {},
   "outputs": [
    {
     "data": {
      "text/plain": [
       "160"
      ]
     },
     "execution_count": 88,
     "metadata": {},
     "output_type": "execute_result"
    }
   ],
   "source": [
    "labelled.index_label.sum()"
   ]
  },
  {
   "cell_type": "code",
   "execution_count": 35,
   "metadata": {},
   "outputs": [
    {
     "data": {
      "text/plain": [
       "(129, 26, 10, 165)"
      ]
     },
     "execution_count": 35,
     "metadata": {},
     "output_type": "execute_result"
    }
   ],
   "source": [
    "len(ucds[ucds.spt.between(17, 19)]), \\\n",
    "len(ucds[ucds.spt.between(20, 29)]),  \\\n",
    "len(ucds[ucds.spt.between(30, 39)]),\\\n",
    "len(ucds)"
   ]
  },
  {
   "cell_type": "code",
   "execution_count": 89,
   "metadata": {},
   "outputs": [
    {
     "data": {
      "text/plain": [
       "11"
      ]
     },
     "execution_count": 89,
     "metadata": {},
     "output_type": "execute_result"
    }
   ],
   "source": [
    "165-154"
   ]
  },
  {
   "cell_type": "code",
   "execution_count": 36,
   "metadata": {},
   "outputs": [
    {
     "data": {
      "text/plain": [
       "165"
      ]
     },
     "execution_count": 36,
     "metadata": {},
     "output_type": "execute_result"
    }
   ],
   "source": [
    "129+26+10"
   ]
  },
  {
   "cell_type": "code",
   "execution_count": 37,
   "metadata": {},
   "outputs": [
    {
     "data": {
      "text/plain": [
       "(129, 21, 5, 7, 3, 165)"
      ]
     },
     "execution_count": 37,
     "metadata": {},
     "output_type": "execute_result"
    }
   ],
   "source": [
    "len(ucds[ucds.spt.between(17, 19)]), \\\n",
    "len(ucds[ucds.spt.between(20, 24)]),  \\\n",
    "len(ucds[ucds.spt.between(25, 29)]),\\\n",
    "len(ucds[ucds.spt.between(30, 34)]),\\\n",
    "len(ucds[ucds.spt.between(35, 39)]),\\\n",
    "len(ucds)"
   ]
  },
  {
   "cell_type": "code",
   "execution_count": 38,
   "metadata": {},
   "outputs": [
    {
     "data": {
      "text/plain": [
       "(129, 21, 5, 7, 3)"
      ]
     },
     "execution_count": 38,
     "metadata": {},
     "output_type": "execute_result"
    }
   ],
   "source": [
    "129, 21, 5, 7, 3,"
   ]
  },
  {
   "cell_type": "code",
   "execution_count": 39,
   "metadata": {},
   "outputs": [],
   "source": [
    "lp=select_by_neuralnet(big)"
   ]
  },
  {
   "cell_type": "code",
   "execution_count": 40,
   "metadata": {},
   "outputs": [],
   "source": [
    "rf_lp=select_by_random_forest(big)"
   ]
  },
  {
   "cell_type": "code",
   "execution_count": 41,
   "metadata": {},
   "outputs": [
    {
     "data": {
      "text/plain": [
       "182"
      ]
     },
     "execution_count": 41,
     "metadata": {},
     "output_type": "execute_result"
    }
   ],
   "source": [
    "len(big[(big.snr1>=3.0) & (rf_lp['labels']) & big.mstar_flag.astype(bool)])"
   ]
  },
  {
   "cell_type": "code",
   "execution_count": 42,
   "metadata": {},
   "outputs": [
    {
     "data": {
      "text/plain": [
       "435"
      ]
     },
     "execution_count": 42,
     "metadata": {},
     "output_type": "execute_result"
    }
   ],
   "source": [
    "len(big[(big.snr1>=3.0) & lp['labels'] &   big.mstar_flag.astype(bool) ])"
   ]
  },
  {
   "cell_type": "code",
   "execution_count": 43,
   "metadata": {},
   "outputs": [
    {
     "data": {
      "text/plain": [
       "(46561, 207703)"
      ]
     },
     "execution_count": 43,
     "metadata": {},
     "output_type": "execute_result"
    }
   ],
   "source": [
    "len(big[big.mstar_flag.astype(bool)]), len(big[~big.mstar_flag.astype(bool)])"
   ]
  },
  {
   "cell_type": "code",
   "execution_count": 44,
   "metadata": {},
   "outputs": [
    {
     "data": {
      "text/plain": [
       "165"
      ]
     },
     "execution_count": 44,
     "metadata": {},
     "output_type": "execute_result"
    }
   ],
   "source": [
    "len(ucds)"
   ]
  },
  {
   "cell_type": "code",
   "execution_count": 81,
   "metadata": {},
   "outputs": [
    {
     "data": {
      "text/plain": [
       "1080.0000000000002"
      ]
     },
     "execution_count": 81,
     "metadata": {},
     "output_type": "execute_result"
    }
   ],
   "source": [
    "import astropy.units as u\n",
    "0.3*(u.arcmin**-2).to(u.deg**-2)"
   ]
  },
  {
   "cell_type": "code",
   "execution_count": 84,
   "metadata": {},
   "outputs": [
    {
     "data": {
      "text/latex": [
       "$275 \\; \\mathrm{\\frac{1}{deg^{2}}}$"
      ],
      "text/plain": [
       "<Quantity 275. 1 / deg2>"
      ]
     },
     "execution_count": 84,
     "metadata": {},
     "output_type": "execute_result"
    }
   ],
   "source": [
    "165/(0.6*u.deg**2)"
   ]
  },
  {
   "cell_type": "code",
   "execution_count": null,
   "metadata": {},
   "outputs": [],
   "source": [
    "log J-SNR0 -a*m0=c"
   ]
  },
  {
   "cell_type": "code",
   "execution_count": 148,
   "metadata": {},
   "outputs": [],
   "source": [
    "def jsnr0(c, a, m0):\n",
    "    return (c-(a*m0))"
   ]
  },
  {
   "cell_type": "code",
   "execution_count": 149,
   "metadata": {},
   "outputs": [],
   "source": [
    "abcs=[(-0.22, 0.17, 5.6), (-0.24, 0.10, 6.1), (-0.23, 0.17, 5.9 )]\n",
    "m0s=[19.6, 19.8, 18.6]"
   ]
  },
  {
   "cell_type": "code",
   "execution_count": 150,
   "metadata": {},
   "outputs": [
    {
     "name": "stdout",
     "output_type": "stream",
     "text": [
      "2.2679999999999993\n",
      "4.119999999999999\n",
      "2.738\n"
     ]
    }
   ],
   "source": [
    "for m0, abc in zip(m0s, abcs):\n",
    "    print ( jsnr0(abc[-1], abc[1], m0))"
   ]
  },
  {
   "cell_type": "code",
   "execution_count": null,
   "metadata": {},
   "outputs": [],
   "source": []
  },
  {
   "cell_type": "code",
   "execution_count": 151,
   "metadata": {},
   "outputs": [
    {
     "ename": "NameError",
     "evalue": "name 'volumes' is not defined",
     "output_type": "error",
     "traceback": [
      "\u001b[0;31m---------------------------------------------------------------------\u001b[0m",
      "\u001b[0;31mNameError\u001b[0m                           Traceback (most recent call last)",
      "\u001b[0;32m<ipython-input-151-4a6a1bd0a266>\u001b[0m in \u001b[0;36m<module>\u001b[0;34m\u001b[0m\n\u001b[0;32m----> 1\u001b[0;31m \u001b[0mvolumes\u001b[0m\u001b[0;34m\u001b[0m\u001b[0;34m\u001b[0m\u001b[0m\n\u001b[0m",
      "\u001b[0;31mNameError\u001b[0m: name 'volumes' is not defined"
     ]
    }
   ],
   "source": []
  },
  {
   "cell_type": "code",
   "execution_count": null,
   "metadata": {},
   "outputs": [],
   "source": []
  },
  {
   "cell_type": "code",
   "execution_count": null,
   "metadata": {},
   "outputs": [],
   "source": []
  }
 ],
 "metadata": {
  "kernelspec": {
   "display_name": "Python 3",
   "language": "python",
   "name": "python3"
  },
  "language_info": {
   "codemirror_mode": {
    "name": "ipython",
    "version": 3
   },
   "file_extension": ".py",
   "mimetype": "text/x-python",
   "name": "python",
   "nbconvert_exporter": "python",
   "pygments_lexer": "ipython3",
   "version": "3.8.5"
  }
 },
 "nbformat": 4,
 "nbformat_minor": 4
}
