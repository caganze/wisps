{
 "cells": [
  {
   "cell_type": "code",
   "execution_count": 1,
   "metadata": {},
   "outputs": [
    {
     "name": "stdout",
     "output_type": "stream",
     "text": [
      "Adding 145 sources from /Users/caganze/research/splat//resources/Spectra/Public/LRIS-RED/ to spectral database\n",
      "Adding 89 sources from /Users/caganze/research/splat//resources/Spectra/Public/MAGE/ to spectral database\n",
      "Adding 2404 sources from /Users/caganze/research/splat//resources/Spectra/Public/SPEX-PRISM/ to spectral database\n"
     ]
    }
   ],
   "source": [
    "import splat\n",
    "import wisps\n",
    "import matplotlib.pyplot as plt\n",
    "from wisps.data_analysis import selection_criteria as sel_crt\n",
    "\n",
    "import numpy as np\n",
    "import pandas as pd\n",
    "\n",
    "import numba\n",
    "import matplotlib as mpl\n",
    "mpl.rcParams['font.size'] = 18\n",
    "\n",
    "from itertools import combinations\n",
    "#%%capture  output\n",
    "import itertools\n",
    "from tqdm import tqdm\n",
    "\n",
    "\n",
    "import seaborn as sns \n",
    "cmap=sns.light_palette((260, 75, 60), input=\"husl\", as_cmap=True)\n",
    "from tensorflow import keras\n",
    "\n",
    "from scipy import stats"
   ]
  },
  {
   "cell_type": "code",
   "execution_count": 2,
   "metadata": {},
   "outputs": [],
   "source": [
    "def get_indices(x):\n",
    "    if x is None :\n",
    "        return pd.Series({})\n",
    "    else:\n",
    "        return  pd.Series(x.indices)\n",
    "    \n",
    "def get_spt(x):\n",
    "    if x is None:\n",
    "        return np.nan\n",
    "    else:\n",
    "        return x.spectral_type[0]\n",
    "\n",
    "def reclassify(s, reload_spectrum=False):\n",
    "    if s is None:\n",
    "        return None\n",
    "    if reload_spectrum:\n",
    "        s=wisps.Source(filename=s.name.replace('g141', 'G141'))\n",
    "    #spt_unc=s.spectral_type[1\n",
    "    #rngs=[[1.17,1.35],[1.45,1.67]]\n",
    "    rngs=[[1.15, 1.65]]\n",
    "    spt, spt_e= splat.classifyByStandard(s.splat_spectrum, fitrange=[[1.15, 1.65]], \n",
    "                                         sptrange=['M0','Y1'], average=True)\n",
    "    #s.classify_by_standard(comprange=rngs)\n",
    "    #print(wisps.make_spt_number(spt))\n",
    "    #spt, spt_e=wisps.classify_by_templates(s, comprange=rngs)\n",
    "    s.spectral_type=(np.round(wisps.make_spt_number(spt)), spt_e)\n",
    "    s.calculate_distance(use_spt_unc=True, use_index_type=False)\n",
    "    \n",
    "    return s\n",
    "\n",
    "def reclassify_by_templ(s):\n",
    "    if s is None:\n",
    "        return None\n",
    "    #spt_unc=s.spectral_type[1\n",
    "    #rngs=[[1.17,1.35],[1.45,1.67]]\n",
    "    rngs=[[1.17, 1.67]]\n",
    "    #spt, spt_e= splat.classifyByStandard(s.splat_spectrum, fitrange=[[1.15, 1.65]], \n",
    "    #                                     sptrange=['M0','Y1'], average=True)\n",
    "    #s.classify_by_standard(comprange=rngs)\n",
    "    #print(wisps.make_spt_number(spt))\n",
    "    spt, spt_e=wisps.classify_by_templates(s, comprange=rngs)\n",
    "    s.spectral_type=(np.round(wisps.make_spt_number(spt)), spt_e)\n",
    "    s.calculate_distance(use_spt_unc=True, use_index_type=False)\n",
    "    \n",
    "    return s\n"
   ]
  },
  {
   "cell_type": "code",
   "execution_count": 3,
   "metadata": {},
   "outputs": [],
   "source": [
    "def get_cands(by_templates=False,  reload_spectrum=False):\n",
    "    #read in the data\n",
    "    cands0=pd.read_hdf(wisps.LIBRARIES+'/objects_of_interest.hdf', key='all')\n",
    "    if by_templates:\n",
    "        spectra=[reclassify_by_templ(x) for x in cands0.spectra]\n",
    "    else:\n",
    "        spectra= [reclassify(x,  reload_spectrum= reload_spectrum) for x in tqdm(cands0.spectra)]\n",
    "    cands0['spectra']=spectra\n",
    "    cands=cands0.spectra.apply(get_indices)\n",
    "    cands['spectra']=cands0.spectra\n",
    "    cands['grism_id']=cands0.grism_id\n",
    "    cands['spt']=cands0.spectra.apply(get_spt)\n",
    "    canddf=cands[~cands.spectra.isna()].reset_index(drop=True)\n",
    "    canddf['spt']=canddf.spectra.apply(lambda x: x.spectral_type[0])\n",
    "    canddf['spt_er']=canddf.spectra.apply(lambda x: x.spectral_type[1])\n",
    "    canddf['distance']=canddf.spectra.apply(lambda x: x.distance['val'].value)\n",
    "    canddf['distance_er']=canddf.spectra.apply(lambda x: x.distance['er'].value)\n",
    "    canddf['coord']=canddf.spectra.apply(lambda x:x.coords)\n",
    "    canddf['designation']=canddf.spectra.apply(lambda x: x.designation)\n",
    "    #canddf['index_type_er']=canddf.spectra.apply(lambda x: x.index_type[1])\n",
    "    canddfj=canddf.join(canddf.spectra.apply(lambda x: pd.Series(x.mags)))\n",
    "    canddff=canddfj.join(canddf.spectra.apply(lambda x: pd.Series(x.snr)))\n",
    "    canddff['spectra']=canddf.spectra\n",
    "\n",
    "    canddff=canddff.drop_duplicates('designation')\n",
    "    #visuallty excluded\n",
    "    exclude=list(set(['J01253527-0001383', 'J20220361-3113264', \n",
    "             'J05300520-0723374', 'J05315184-0723016',\n",
    "             'J14313999+2447186', 'J15343866+5014150', 'J10044909+5258293',\n",
    "             'J14193494+5256146', 'J15474619+2057475',\n",
    "            'J10003065+0217017', 'J02170287-0513385', \n",
    "            'J12363034+6215023']))\n",
    "    ucds=wisps.Annotator.reformat_table((canddff[(canddff.spt>=17) & \\\n",
    "                                                 (~(canddff.designation.str.upper().isin(exclude))) \\\n",
    "    ]).reset_index(drop=True)).sort_values(by='designation')\n",
    "    #remove some objects by name\n",
    "    ucds=(ucds[~ ucds.grism_id.isin(['par199-00124'])]).reset_index(drop=True).sort_values(by='spt')\n",
    "    return ucds, canddff"
   ]
  },
  {
   "cell_type": "code",
   "execution_count": 4,
   "metadata": {},
   "outputs": [],
   "source": [
    "def get_f1(y_true, y_pred): #taken from old keras source code\n",
    "    true_positives = K.sum(K.round(K.clip(y_true * y_pred, 0, 1)))\n",
    "    possible_positives = K.sum(K.round(K.clip(y_true, 0, 1)))\n",
    "    predicted_positives = K.sum(K.round(K.clip(y_pred, 0, 1)))\n",
    "    precision = true_positives / (predicted_positives + K.epsilon())\n",
    "    recall = true_positives / (possible_positives + K.epsilon())\n",
    "    f1_val = 2*(precision*recall)/(precision+recall)\n",
    "    return f1_val"
   ]
  },
  {
   "cell_type": "code",
   "execution_count": null,
   "metadata": {},
   "outputs": [],
   "source": []
  },
  {
   "cell_type": "code",
   "execution_count": 5,
   "metadata": {},
   "outputs": [],
   "source": [
    "#ucds=pd.read_pickle('~/research/wisps/libraries/real_ucds.pkl')\n",
    "#selection objects \n",
    "#indices_to_use= pd.read_pickle(wisps.OUTPUT_FILES+'/best_indices_to_use.pkl')\n",
    "#neural_network= keras.models.load_model(wisps.OUTPUT_FILES+'/conv_model_withspt_snr_september17.h5')"
   ]
  },
  {
   "cell_type": "code",
   "execution_count": 6,
   "metadata": {},
   "outputs": [],
   "source": [
    "#neural_network"
   ]
  },
  {
   "cell_type": "code",
   "execution_count": null,
   "metadata": {},
   "outputs": [],
   "source": []
  },
  {
   "cell_type": "code",
   "execution_count": 7,
   "metadata": {},
   "outputs": [],
   "source": [
    "big=wisps.get_big_file()"
   ]
  },
  {
   "cell_type": "code",
   "execution_count": 8,
   "metadata": {},
   "outputs": [],
   "source": [
    "#define a number of selectors \n",
    "#each selection should a column of zeros and ones corresponding\n",
    "#to where objects were selected\n",
    "#each selector input is the simulated df\n",
    "def f_test_fx(x, df1, df2):\n",
    "    return stats.f.cdf(x, df1, df2)\n",
    "\n",
    "def select_by_indices(df, idx, spt_range):\n",
    "    print(spt_range)\n",
    "    bs=idx.shapes\n",
    "    bx=[x for x in bs if x.shape_name==spt_range][0]\n",
    "    _, bools= bx._select(np.array([df[idx.xkey].values, df[idx.ykey].values]))\n",
    "    return bools\n",
    "        \n",
    "\n",
    "def apply_scale(x):\n",
    "    ##remove nans \n",
    "    ##this is the same scaling used \n",
    "    ## same scaling used for \n",
    "    #replace nans\n",
    "    y=x\n",
    "    if np.isnan(y) or np.isinf(y) or abs(y) > 1e10:\n",
    "        y=-99\n",
    "    return y\n",
    "\n",
    "\n",
    "def select_by_random_forest(df):\n",
    "    #use the classification given by my rf classifier\n",
    "    \n",
    "    rf=rfdict['classifier']\n",
    "    #min_max_scaler=rfdict['sclr']\n",
    "    features=rfdict['feats']\n",
    "    \n",
    "    #apply logs to problematic features the same way I did on my classification\n",
    "    pred_df=df.copy()\n",
    "    \n",
    "    for c in features:\n",
    "        if c not in ['spt', 'f_test', 'x']:\n",
    "            pred_df.assign(c=np.log10(pred_df[c].apply(apply_scale)))\n",
    "        else:\n",
    "            pred_df.assign(c=pred_df[c].apply(apply_scale))\n",
    "            \n",
    "    pred_df[features]=pred_df[features].applymap(apply_scale)\n",
    "    #make predictions\n",
    "    probs=rf.predict_proba(pred_df[features].values)\n",
    "    labels=np.logical_or.reduce((\n",
    "                                probs[:,1]>0.5,\\\n",
    "                                probs[:, 2] >0.5, \\\n",
    "                                 probs[:,3] >.5 ,\\\n",
    "                                 probs[:,4] >0.5, \\\n",
    "                                 probs[:,5] >0.5))\n",
    "    \n",
    "    #labels=np.logical_or.reduce([ probs[:, 0]<0.05, labels ])\n",
    "    #labels=rf.predict(pred_df[features].values)\n",
    " \n",
    "    return {'probs': probs, 'labels': labels}\n",
    "\n",
    "\n",
    "\n",
    "def select_by_neuralnet(df):\n",
    "    #define features (start with indices alone)\n",
    "    #apply logs to problematic features the same way I did on my classification\n",
    "    features=rfdict['feats']\n",
    "    \n",
    "    pred_df=df.copy()\n",
    "    \n",
    "    for c in features:\n",
    "        if c not in ['spt']:\n",
    "            pred_df.assign(c=np.log10(pred_df[c].apply(apply_scale)))\n",
    "        else:\n",
    "            pred_df.assign(c=pred_df[c].apply(apply_scale))\n",
    "            \n",
    "    pred_df[features]=pred_df[features].applymap(apply_scale)\n",
    "    #probs= neural_network.predict(  pred_df[features].values)\n",
    "    #need to reshape\n",
    "    #probs=neural_network.predict(  pred_df[features].values.reshape(-1, len(features), 1))\n",
    "    \n",
    "    #my cuts\n",
    "    #labels=np.logical_or.reduce((probs[:, 2] > .7, probs[:,3] >.5 , probs[:,4] >0.5))\n",
    "    #labels=probs[:,0] <0.5\n",
    "    #labels=neural_network.predict_classes(  pred_df[features].values.reshape(-1, len(features), 1))\n",
    "    #labels=neural_network.predict(  pred_df[features].values.reshape(-1, len(features), 1))\n",
    "    probs= neural_network(  pred_df[features].values, training=False)\n",
    "    labels=np.logical_or.reduce((\n",
    "                                probs[:,1]>0.5,\\\n",
    "                                probs[:, 2] >0.5, \\\n",
    "                                 probs[:,3] >.5 ,\\\n",
    "                                 probs[:,4] >0.5, \\\n",
    "                                 probs[:,5] >0.5))\n",
    "    \n",
    "    #labels=np.logical_or.reduce([probs[:, 1]>0.9, labels ])\n",
    "    #labels=neural_network.predict_classes(  pred_df[features].values)\n",
    "    #labels=np.logical_or.reduce([ probs[:, 0]<0.05, labels ])\n",
    " \n",
    "    return {'probs': probs, 'labels': labels}\n",
    "\n"
   ]
  },
  {
   "cell_type": "code",
   "execution_count": 9,
   "metadata": {},
   "outputs": [],
   "source": [
    "def ucd_selection_method(ro):\n",
    "    select=''\n",
    "    if ro.index_label:\n",
    "        select +=\"Indices, \"\n",
    "    if ro.selected_by_nn:\n",
    "        select +=\"DNN, \"\n",
    "    if ro.selected_by_rf:\n",
    "        select +=\"RF \"\n",
    "    if select.endswith(', '):\n",
    "        select=select.replace(',', '')\n",
    "    return select"
   ]
  },
  {
   "cell_type": "code",
   "execution_count": 10,
   "metadata": {},
   "outputs": [],
   "source": [
    "def label_ucds(ucds):\n",
    "    ucds['x']=ucds.spectra.apply(lambda x: x.spex_chi/x.line_chi)\n",
    "    ucds['line_chi']=ucds.spectra.apply(lambda x: x.line_chi)\n",
    "    ucds['spex_chi']=ucds.spectra.apply(lambda x: x.spex_chi)\n",
    "    ucds['f_test']=ucds.spectra.apply(lambda x: x.f_test)\n",
    "    ls=select_by_neuralnet(ucds)\n",
    "    rf_ls= select_by_random_forest(ucds)\n",
    "    #add labels for index selection\n",
    "    ucds['selected_by_rf']=rf_ls['labels']\n",
    "    ucds['selected_by_nn']=ls['labels']\n",
    "    \n",
    "    \n",
    "    for idxk, k in indices_to_use:\n",
    "        idx=slc_crts[idxk]\n",
    "        ucds['selected_by_{}'.format(k)]= select_by_indices(ucds, idx, k)\n",
    "        \n",
    "    ucds['index_label']=np.logical_or.reduce([ucds['selected_by_{}'.format(x)].values \n",
    "                                                  for x in  np.vstack(indices_to_use)[:,1]])\n",
    "    #make that colormap\n",
    "    ucds['selection']=ucds.apply(ucd_selection_method, axis=1).values\n",
    "    return ucds"
   ]
  },
  {
   "cell_type": "code",
   "execution_count": 11,
   "metadata": {},
   "outputs": [],
   "source": [
    "def formatted_distance(x):\n",
    "    d= str(int(round(np.nan_to_num(x.distance['val'].value), 0)))\n",
    "    der=[str(int(abs(round(np.nan_to_num(x.distance['er'].value[0]), 0)))),\\\n",
    "            str(int(abs(round(np.nan_to_num(x.distance['er'].value[1]), 0))))]\n",
    "         \n",
    "    if abs(x.distance['er'].value[0])/x.distance['val'].value >1.0:\n",
    "        der=[str(x.distance['er'].value[0]), str(x.distance['er'].value[1])]\n",
    "        #return \"$\\\\approx$\"+d\n",
    "        return d+'$^{+'+der[0]+'}'+'_{-'+der[1]+'}$'\n",
    "    else:\n",
    "        return d+'$^{+'+der[0]+'}'+'_{-'+der[1]+'}$'\n",
    "        #return r'$'+d+'\\substack{+'+der[0]+'\\\\\\ -'+der[-1]+'}$'\n",
    "    #return d+'$^{+'+der[0]+'}'+'_{-'+der[1]+'}$'"
   ]
  },
  {
   "cell_type": "code",
   "execution_count": 12,
   "metadata": {},
   "outputs": [],
   "source": [
    "def latex_version(ucds, additional_cols=[]):\n",
    "    #missed_bools=(ucds.selection=='').values\n",
    "    labelled=wisps.Annotator.group_by_spt(ucds, spt_label='spt', assign_number=False)\n",
    "\n",
    "    #for idxk, k in indices_to_use:\n",
    "    #    idx=slc_crts[idxk]\n",
    "    #    labelled['selected_by_{}'.format(k)]= select_by_indices(labelled, idx, k)\n",
    "\n",
    "    #labelled['index_label']=np.logical_or.reduce([labelled['selected_by_{}'.format(x)].values \n",
    "    #                                              for x in  np.vstack(indices_to_use)[:,1]])\n",
    "    fdf=ucds\n",
    "    latc_df=pd.DataFrame()\n",
    "    latc_df['Shortname']=fdf.spectra.apply(lambda x: x.shortname.upper())\n",
    "    latc_df['designation']=fdf.spectra.apply(lambda x: x.designation.upper())\n",
    "    latc_df['grism id']=fdf.spectra.apply(lambda x: x.name.upper().replace('_', '-'))\n",
    "    latc_df['snrj']=fdf.spectra.apply(lambda x: int(round(x.snr['snr1'])))\n",
    "    latc_df['spt']=fdf.spectra.apply(lambda x: splat.typeToNum(x.spectral_type[0]) +r'$\\pm$'+ str(round(x.spectral_type[1], 1)))\n",
    "    latc_df['ra']=fdf.spectra.apply(lambda x: x.ra.value)\n",
    "    latc_df['dec']=fdf.spectra.apply(lambda x: x.dec.value)\n",
    "    latc_df['f110']=fdf.spectra.apply(lambda x:  str(round(x.mags['F110W'][0],3)) +r'$\\pm$'+ str(round(x.mags['F110W'][1],3)))\n",
    "    #latc_df['f110_er']=fdf.spectra.apply(lambda x: round(x.mags['F110W'][1], 1))\n",
    "    latc_df['f140']=fdf.spectra.apply(lambda x:  str(round(x.mags['F140W'][0],3)) +r'$\\pm$'+  str(round(x.mags['F140W'][1],3)))\n",
    "    #latc_df['f140_er']=fdf.spectra.apply(lambda x: round(x.mags['F140W'][1], 1))\n",
    "    latc_df['f160']=fdf.spectra.apply(lambda x:   str(round(x.mags['F160W'][0],3)) + r'$\\pm$'+ str(round(x.mags['F160W'][1],3)))\n",
    "    #latc_df['f160_er']=fdf.spectra.apply(lambda x: round(x.mags['F160W'][1], 1))\n",
    "    latc_df['distance']=fdf.spectra.apply(formatted_distance)\n",
    "    latc_df['Selected By']= fdf['selection']\n",
    "    latc_df=latc_df.replace('nan$\\\\pm$nan', '\\nodata')\n",
    "    return latc_df"
   ]
  },
  {
   "cell_type": "code",
   "execution_count": 13,
   "metadata": {},
   "outputs": [],
   "source": [
    "EXPORT_DIR=wisps.OUTPUT_FILES+'/deep_model_july17_2021_min_entropy.h5'\n",
    "neural_network = keras.models.load_model(EXPORT_DIR, custom_objects={\"get_f1\": get_f1},\\\n",
    "                                   compile=False)\n",
    "rfdict=pd.read_pickle(wisps.OUTPUT_FILES+'/random_forest_classifier_plusys_july172021.pkl')\n",
    "import wisps.data_analysis.selection_criteria as sel_crt\n",
    "indices_to_use= pd.read_pickle(wisps.OUTPUT_FILES+'/best_indices_to_use.pkl')\n",
    "slc_crts=sel_crt.crts_from_file()#the classifier \n"
   ]
  },
  {
   "cell_type": "code",
   "execution_count": 14,
   "metadata": {},
   "outputs": [
    {
     "name": "stdout",
     "output_type": "stream",
     "text": [
      "M7-L0\n",
      "L0-L5\n",
      "L5-T0\n",
      "T0-T5\n",
      "T5-T9\n",
      "Y dwarfs\n",
      "subdwarfs\n"
     ]
    },
    {
     "data": {
      "text/plain": [
       "164"
      ]
     },
     "execution_count": 14,
     "metadata": {},
     "output_type": "execute_result"
    }
   ],
   "source": [
    "#ucds=get_cands(by_templates=False)\n",
    "#stick itht the current sample no more addition\n",
    "ucds=pd.read_pickle(wisps.LIBRARIES+'/new_real_ucds.pkl')\n",
    "ucds=label_ucds(ucds)\n",
    "ucds=ucds[ucds.selection !='']\n",
    "len(ucds)"
   ]
  },
  {
   "cell_type": "code",
   "execution_count": 15,
   "metadata": {},
   "outputs": [],
   "source": [
    "#ucds_by_templates=get_cands(by_templates=True)\n"
   ]
  },
  {
   "cell_type": "code",
   "execution_count": 16,
   "metadata": {},
   "outputs": [],
   "source": [
    "#ucds_missed=ucds_by_templates[~ucds_by_templates.designation.isin(ucds.designation)]"
   ]
  },
  {
   "cell_type": "code",
   "execution_count": 17,
   "metadata": {},
   "outputs": [],
   "source": [
    "def classsify_by_standard_only(s):\n",
    "    spt, spt_e= splat.classifyByStandard(s.splat_spectrum, fitrange=[[1.15, 1.65]], \n",
    "                                         sptrange=['M0','Y1'], average=True)\n",
    "    return spt, spt_e"
   ]
  },
  {
   "cell_type": "code",
   "execution_count": 18,
   "metadata": {},
   "outputs": [],
   "source": [
    "#old_classification=ucds_missed.spectra.apply( classsify_by_standard_only)\n",
    "#ucds_missed['spt_by_standard']=np.vstack(old_classification)[:,0]\n",
    "#ucds_missed['spt_er_by_standard']=np.vstack(old_classification)[:,1]"
   ]
  },
  {
   "cell_type": "code",
   "execution_count": null,
   "metadata": {},
   "outputs": [],
   "source": []
  },
  {
   "cell_type": "code",
   "execution_count": 19,
   "metadata": {},
   "outputs": [],
   "source": [
    "#ucds_missed=label_ucds(ucds_missed.reset_index(drop=True))\n",
    "#ucds_missed=ucds_missed[ucds_missed.selection!='']"
   ]
  },
  {
   "cell_type": "code",
   "execution_count": 20,
   "metadata": {},
   "outputs": [],
   "source": [
    "#indices_to_use"
   ]
  },
  {
   "cell_type": "code",
   "execution_count": null,
   "metadata": {},
   "outputs": [],
   "source": []
  },
  {
   "cell_type": "code",
   "execution_count": 21,
   "metadata": {},
   "outputs": [],
   "source": [
    "#ucds.grism_id=ucds.grism_id.str.lower()\n",
    "#ucds=ucds[ucds.snr1>=3]\n",
    "#big.grism_id=big.grism_id.str.lower()"
   ]
  },
  {
   "cell_type": "code",
   "execution_count": null,
   "metadata": {},
   "outputs": [],
   "source": []
  },
  {
   "cell_type": "code",
   "execution_count": 22,
   "metadata": {},
   "outputs": [],
   "source": [
    "#labeld_df=latex_version(ucds)"
   ]
  },
  {
   "cell_type": "code",
   "execution_count": 23,
   "metadata": {},
   "outputs": [],
   "source": [
    "#labeld_df=labeld_df.sort_values('designation')"
   ]
  },
  {
   "cell_type": "code",
   "execution_count": 24,
   "metadata": {},
   "outputs": [],
   "source": [
    "#labeld_df"
   ]
  },
  {
   "cell_type": "code",
   "execution_count": 25,
   "metadata": {},
   "outputs": [],
   "source": [
    "#len(ucds), len(labeld_df)"
   ]
  },
  {
   "cell_type": "code",
   "execution_count": 26,
   "metadata": {},
   "outputs": [],
   "source": [
    "#ucds"
   ]
  },
  {
   "cell_type": "code",
   "execution_count": 27,
   "metadata": {},
   "outputs": [],
   "source": [
    "#assert len(labeld_df)==len(ucds)"
   ]
  },
  {
   "cell_type": "code",
   "execution_count": 28,
   "metadata": {},
   "outputs": [],
   "source": [
    "col_list=['designation','grism id', 'f110', 'f140', 'f160', \\\n",
    "          'snrj', 'spt', 'distance','Selected By']\n",
    "add_colist=['designation','grism id', 'f110', 'f140', 'f160', \\\n",
    "          'snrj', 'spt', 'spt_std', 'distance','Selected By']"
   ]
  },
  {
   "cell_type": "code",
   "execution_count": 29,
   "metadata": {},
   "outputs": [],
   "source": [
    "#cands_missed_latex_version=(latex_version(ucds_missed))[col_list]"
   ]
  },
  {
   "cell_type": "code",
   "execution_count": 30,
   "metadata": {},
   "outputs": [],
   "source": [
    "def format_missed_spt(spt, spter):\n",
    "    return spt.replace('.0:', '.0') +r'$\\pm$'+ str(np.round(spter, 1))"
   ]
  },
  {
   "cell_type": "code",
   "execution_count": 31,
   "metadata": {},
   "outputs": [],
   "source": [
    "#"
   ]
  },
  {
   "cell_type": "code",
   "execution_count": 32,
   "metadata": {},
   "outputs": [],
   "source": [
    "#cands_missed_latex_version['spt_std']=[format_missed_spt(x, y) for x, y in  zip(ucds_missed.spt_by_standard.values, \\\n",
    "#                             ucds_missed.spt_er_by_standard.values.astype(float))]"
   ]
  },
  {
   "cell_type": "code",
   "execution_count": 33,
   "metadata": {},
   "outputs": [],
   "source": [
    "#cands_missed_latex_version[add_colist].sort_values(by='designation').to_latex('/users/caganze/research/wisps/libraries/candidates_missed.tex',\n",
    "#             header=True, index=False, escape=False, na_rep=' ')"
   ]
  },
  {
   "cell_type": "code",
   "execution_count": 34,
   "metadata": {},
   "outputs": [],
   "source": [
    "#"
   ]
  },
  {
   "cell_type": "code",
   "execution_count": 35,
   "metadata": {},
   "outputs": [],
   "source": [
    "#mlabeld_df_mask=labeld_df.spt.str.startswith('M').values"
   ]
  },
  {
   "cell_type": "code",
   "execution_count": 36,
   "metadata": {},
   "outputs": [],
   "source": [
    "#labeld_df[col_list][mlabeld_df_mask].to_latex('/users/caganze/research/wisps/libraries/candidates_m.tex',\n",
    "#             header=True, index=False, escape=False, na_rep=' ')\n",
    "                    \n",
    "#labeld_df[col_list][~mlabeld_df_mask].to_latex('/users/caganze/research/wisps/libraries/candidates_lt.tex',\n",
    "#             header=True, index=False, escape=False, na_rep=' ')"
   ]
  },
  {
   "cell_type": "code",
   "execution_count": 37,
   "metadata": {},
   "outputs": [],
   "source": [
    "#ucds.selection.values"
   ]
  },
  {
   "cell_type": "code",
   "execution_count": 38,
   "metadata": {},
   "outputs": [],
   "source": [
    "#ucds=pd.read_pickle(wisps.LIBRARIES+'/new_real_ucds.pkl')"
   ]
  },
  {
   "cell_type": "code",
   "execution_count": 39,
   "metadata": {},
   "outputs": [],
   "source": [
    "selection_table={}\n",
    "selection_table['rf']={}\n",
    "selection_table['nn']={}\n",
    "selection_table['indices']={}"
   ]
  },
  {
   "cell_type": "code",
   "execution_count": 40,
   "metadata": {},
   "outputs": [],
   "source": [
    "labelled=ucds"
   ]
  },
  {
   "cell_type": "code",
   "execution_count": null,
   "metadata": {},
   "outputs": [],
   "source": []
  },
  {
   "cell_type": "code",
   "execution_count": 41,
   "metadata": {},
   "outputs": [],
   "source": [
    "def relabel_spectral_range(spt):\n",
    "    if (spt>=17) & (spt<= 19):\n",
    "        return 'M7-L0'\n",
    "    if (spt>=20) & (spt<= 24):\n",
    "        return 'L0-L5'\n",
    "    if (spt>=25) & (spt<= 29):\n",
    "        return 'L5-T0'\n",
    "    if (spt>=30) & (spt<= 34):\n",
    "        return 'T0-T5'\n",
    "    if (spt>=34) & (spt<= 39):\n",
    "        return 'T5-Y0'"
   ]
  },
  {
   "cell_type": "code",
   "execution_count": 42,
   "metadata": {},
   "outputs": [],
   "source": [
    "labelled['spt_range']=labelled.spt.apply(relabel_spectral_range)"
   ]
  },
  {
   "cell_type": "code",
   "execution_count": 43,
   "metadata": {},
   "outputs": [
    {
     "name": "stdout",
     "output_type": "stream",
     "text": [
      "L0-L5\n",
      "selected by rf 21\n",
      "selected by NN 19\n",
      "selected by indices 21\n",
      "L5-T0\n",
      "selected by rf 5\n",
      "selected by NN 5\n",
      "selected by indices 5\n",
      "M7-L0\n",
      "selected by rf 120\n",
      "selected by NN 124\n",
      "selected by indices 125\n",
      "T0-T5\n",
      "selected by rf 7\n",
      "selected by NN 7\n",
      "selected by indices 7\n",
      "T5-Y0\n",
      "selected by rf 3\n",
      "selected by NN 3\n",
      "selected by indices 3\n"
     ]
    }
   ],
   "source": [
    "\n",
    "\n",
    "#rfselection=pd.read_csv(wisps.OUTPUT_FILES+'/selected_by_rf.csv')\n",
    "#nnres=pd.read_pickle(wisps.OUTPUT_FILES+'/deep_neural_net_classifier_results.pkl')\n",
    "\n",
    "#rfselection.shape\n",
    "\n",
    "#nnsel= pd.concat(nnres['selected'])\n",
    "\n",
    "nnselection =pd.DataFrame()\n",
    "rfselection=pd.DataFrame()\n",
    "\n",
    "#nnselection['grism_id']=ucds.grism_id[ls['labels']]\n",
    "#rfselection['grism_id']= ucds.grism_id[rf_ls['labels']]\n",
    "#nnselection=nnselection.drop_duplicates('grism_id')\n",
    "\n",
    "\n",
    "\n",
    "\n",
    "for g in labelled.groupby('spt_range'):\n",
    "    df0=g[1]\n",
    "    print ('{}'.format(g[0]))\n",
    "    print ('selected by rf {}'.format(len(df0[df0.selected_by_rf])))\n",
    "    print ('selected by NN {}'.format(len(df0[df0.selected_by_nn])))\n",
    "    print ('selected by indices {}'.format(len(df0[df0.index_label])))\n",
    "    selection_table['rf'][g[0]]=len(df0[df0.selected_by_rf])\n",
    "    selection_table['nn'][g[0]]=len(df0[df0.selected_by_nn])\n",
    "    selection_table['indices'][g[0]]=len(df0[df0.index_label])\n",
    "    #print ('selected by rf or indices {}'.format(len(df0[np.logical_or(df0.index_label,df0.selected_by_rf) ])))\n",
    "    #print ('selected by NOT rf and indices {}'.format(len(df0[np.logical_and(df0.index_label,~df0.selected_by_rf) ])))\n",
    "    #print ('selected by rf and NOT indices {}'.format(len(df0[np.logical_and(~df0.index_label,df0.selected_by_rf) ])))\n",
    "    #print ('selected by NN or indices {}'.format(len(df0[np.logical_or(df0.index_label,df0.selected_by_nn) ])))\n",
    "    #print ('selected by NOT NN and indices {}'.format(len(df0[np.logical_and(df0.index_label,~df0.selected_by_nn) ])))\n",
    "    #print ('selected by NN and NOT indices {}'.format(len(df0[np.logical_and(~df0.index_label,df0.selected_by_nn) ])))\n",
    "    #print ('---------------------------------------------------------------- ')"
   ]
  },
  {
   "cell_type": "code",
   "execution_count": 44,
   "metadata": {},
   "outputs": [
    {
     "data": {
      "text/plain": [
       "158"
      ]
     },
     "execution_count": 44,
     "metadata": {},
     "output_type": "execute_result"
    }
   ],
   "source": [
    "labelled.selected_by_nn.sum()"
   ]
  },
  {
   "cell_type": "code",
   "execution_count": 45,
   "metadata": {},
   "outputs": [
    {
     "data": {
      "text/plain": [
       "156"
      ]
     },
     "execution_count": 45,
     "metadata": {},
     "output_type": "execute_result"
    }
   ],
   "source": [
    "labelled.selected_by_rf.sum()"
   ]
  },
  {
   "cell_type": "code",
   "execution_count": 46,
   "metadata": {},
   "outputs": [
    {
     "data": {
      "text/plain": [
       "161"
      ]
     },
     "execution_count": 46,
     "metadata": {},
     "output_type": "execute_result"
    }
   ],
   "source": [
    "labelled.index_label.sum()"
   ]
  },
  {
   "cell_type": "code",
   "execution_count": 47,
   "metadata": {},
   "outputs": [
    {
     "data": {
      "text/plain": [
       "(128, 26, 10, 164)"
      ]
     },
     "execution_count": 47,
     "metadata": {},
     "output_type": "execute_result"
    }
   ],
   "source": [
    "len(ucds[ucds.spt.between(17, 19)]), \\\n",
    "len(ucds[ucds.spt.between(20, 29)]),  \\\n",
    "len(ucds[ucds.spt.between(30, 39)]),\\\n",
    "len(ucds)"
   ]
  },
  {
   "cell_type": "code",
   "execution_count": 48,
   "metadata": {},
   "outputs": [
    {
     "data": {
      "text/plain": [
       "144    17.0\n",
       "48     17.0\n",
       "43     18.0\n",
       "Name: spt, dtype: float64"
      ]
     },
     "execution_count": 48,
     "metadata": {},
     "output_type": "execute_result"
    }
   ],
   "source": [
    "labelled[np.logical_and(labelled.selected_by_nn, ~labelled.index_label)].spt"
   ]
  },
  {
   "cell_type": "code",
   "execution_count": 49,
   "metadata": {},
   "outputs": [
    {
     "data": {
      "text/plain": [
       "144    17.0\n",
       "48     17.0\n",
       "Name: spt, dtype: float64"
      ]
     },
     "execution_count": 49,
     "metadata": {},
     "output_type": "execute_result"
    }
   ],
   "source": [
    "labelled[np.logical_and(labelled.selected_by_rf, ~labelled.index_label)].spt"
   ]
  },
  {
   "cell_type": "code",
   "execution_count": 50,
   "metadata": {},
   "outputs": [
    {
     "data": {
      "text/plain": [
       "(128, 21, 5, 7, 3, 164)"
      ]
     },
     "execution_count": 50,
     "metadata": {},
     "output_type": "execute_result"
    }
   ],
   "source": [
    "len(ucds[ucds.spt.between(17, 19)]), \\\n",
    "len(ucds[ucds.spt.between(20, 24)]),  \\\n",
    "len(ucds[ucds.spt.between(25, 29)]),\\\n",
    "len(ucds[ucds.spt.between(30, 34)]),\\\n",
    "len(ucds[ucds.spt.between(35, 39)]),\\\n",
    "len(ucds)"
   ]
  },
  {
   "cell_type": "code",
   "execution_count": 51,
   "metadata": {},
   "outputs": [],
   "source": [
    "real_probs_rf=select_by_random_forest(ucds)"
   ]
  },
  {
   "cell_type": "code",
   "execution_count": 52,
   "metadata": {},
   "outputs": [],
   "source": [
    "def ucds_real_labels(spt_range):\n",
    "    \n",
    "    if spt_range =='M7-L0':\n",
    "        return 1\n",
    "    if spt_range.startswith('L'):\n",
    "        return 2\n",
    "    if spt_range.startswith('T'):\n",
    "        return 3\n",
    "    "
   ]
  },
  {
   "cell_type": "code",
   "execution_count": 53,
   "metadata": {},
   "outputs": [],
   "source": [
    "real_labels= ucds.spt_range.apply( ucds_real_labels)"
   ]
  },
  {
   "cell_type": "code",
   "execution_count": null,
   "metadata": {},
   "outputs": [],
   "source": []
  },
  {
   "cell_type": "code",
   "execution_count": 54,
   "metadata": {},
   "outputs": [],
   "source": [
    "lp=select_by_neuralnet(big)"
   ]
  },
  {
   "cell_type": "code",
   "execution_count": 55,
   "metadata": {},
   "outputs": [],
   "source": [
    "rf_lp=select_by_random_forest(big)"
   ]
  },
  {
   "cell_type": "code",
   "execution_count": 56,
   "metadata": {},
   "outputs": [
    {
     "data": {
      "text/plain": [
       "254264"
      ]
     },
     "execution_count": 56,
     "metadata": {},
     "output_type": "execute_result"
    }
   ],
   "source": [
    "len(rf_lp['labels'])"
   ]
  },
  {
   "cell_type": "code",
   "execution_count": 57,
   "metadata": {},
   "outputs": [
    {
     "data": {
      "text/plain": [
       "(46561, 6)"
      ]
     },
     "execution_count": 57,
     "metadata": {},
     "output_type": "execute_result"
    }
   ],
   "source": [
    "np.shape(rf_lp['probs'][ big.mstar_flag.astype(bool)])"
   ]
  },
  {
   "cell_type": "code",
   "execution_count": 58,
   "metadata": {},
   "outputs": [],
   "source": [
    "#previous best-fit model\n",
    "rf=rfdict['classifier']\n",
    "features=np.array([r'H$_2$O-1/J-Cont', r'H$_2$O-2/H$_2$O-1', r'$H-cont/H$_2$O-1$', \\\n",
    "                   r'CH$_4$/H$_2$O-1', r'H$_2$O-2/J-Cont',r'H-cont/J-Cont', r'CH$_4$/J-Cont', \\\n",
    "                   'H-cont/$H_2O-2$', r'CH$_4$/H$_2$O-2', r'CH$_4$/H-Cont', r'H$_2$O-1+H$_2$O-2/J-Cont',\n",
    "                   r'H$_2$O-1+H$_2$O-2/H-Cont', r'H$_2$O-1+CH$_4$/J-Cont', r'H$_2$O-2+CH$_4$/J-Cont',\n",
    "                   r'H$_2$O-1+CH$_4$/H-Cont', r'H$_2$O-2+CH$_4$/H-Cont', 'SpT',  r'$\\chi_T^2/\\chi_L^2$', 'F-test', 'J-SNR',\\\n",
    "                   'JH-SNR', 'H-SNR', 'Median-SNR'])"
   ]
  },
  {
   "cell_type": "code",
   "execution_count": 59,
   "metadata": {},
   "outputs": [
    {
     "name": "stderr",
     "output_type": "stream",
     "text": [
      "findfont: Font family ['serif'] not found. Falling back to DejaVu Sans.\n",
      "findfont: Font family ['serif'] not found. Falling back to DejaVu Sans.\n"
     ]
    },
    {
     "data": {
      "image/png": "[encoded data removed]",
      "text/plain": [
       "<Figure size 640x640 with 1 Axes>"
      ]
     },
     "metadata": {},
     "output_type": "display_data"
    }
   ],
   "source": [
    "###--------------------------------------------\n",
    "fig, ax=plt.subplots(figsize=(8, 8))\n",
    "\n",
    "feature_names=features\n",
    "tree_feature_importances = (\n",
    "    rf.feature_importances_)\n",
    "    \n",
    "sorted_idx = tree_feature_importances.argsort()\n",
    "\n",
    "x_ticks = np.arange(0, len(feature_names))\n",
    "ax.bar(x_ticks, tree_feature_importances[sorted_idx])\n",
    "ax.set_xticklabels(feature_names[sorted_idx], rotation='vertical')\n",
    "ax.set_xticks(x_ticks)\n",
    "ax.set_title(\"Random Forest Feature Importance \")\n",
    "plt.tight_layout()\n",
    "plt.savefig(wisps.OUTPUT_FIGURES+'/rffeatureimportance.pdf', bbox_inches='tight')"
   ]
  },
  {
   "cell_type": "code",
   "execution_count": 60,
   "metadata": {},
   "outputs": [
    {
     "data": {
      "text/plain": [
       "6"
      ]
     },
     "execution_count": 60,
     "metadata": {},
     "output_type": "execute_result"
    }
   ],
   "source": [
    "colors=['#111111', '#FF4136', '#FF851B', '#B10DC9', '#39CCCC','#0074D9']\n",
    "classes=['CTM', r'M7-M9', 'L', 'T', 'Y', 'Sd']\n",
    "len(classes)"
   ]
  },
  {
   "cell_type": "code",
   "execution_count": 61,
   "metadata": {},
   "outputs": [],
   "source": [
    "#for idx in np.arange(6):\n",
    "#    plt.hist(wisps.drop_nan(np.log10(lp['probs'][ big.mstar_flag.astype(bool).values][:,idx])))"
   ]
  },
  {
   "cell_type": "code",
   "execution_count": 91,
   "metadata": {},
   "outputs": [
    {
     "data": {
      "image/png": "[encoded data removed]",
      "text/plain": [
       "<Figure size 1200x480 with 2 Axes>"
      ]
     },
     "metadata": {},
     "output_type": "display_data"
    }
   ],
   "source": [
    "fig, ax=plt.subplots(ncols=2, figsize=(10*1.5, 4*1.5))\n",
    "for idx in np.arange(0,6):\n",
    "    _ = ax[0].hist(wisps.drop_nan(np.log10(rf_lp['probs'][ (big.class_star !=0).values][:,idx])), \\\n",
    "                histtype='step', bins=100, color=colors[idx],\\\n",
    "                   label=classes[idx], cumulative=False, density=False, log=True, lw=2,\n",
    "                  range=[-2, 0])\n",
    "    _= ax[1].hist(wisps.drop_nan(np.log10(lp['probs'][  (big.class_star !=0).values][:,idx])), \\\n",
    "              histtype='step',bins=100, color=colors[idx], label=classes[idx],\\\n",
    "                  cumulative=False, density=False, log=True, lw=2, range=[-2, 0])\n",
    "    \n",
    "for a in ax:\n",
    "    a.set( ylabel='Number ', ylim=[5, 0.5e5])\n",
    "    a.legend(fontsize=14, loc='upper left')\n",
    "    a.minorticks_on()\n",
    "    a.axvline(np.log10(0.8), linestyle='--', color='k', alpha=0.5)\n",
    "    a.axvline(np.log10(0.5), linestyle='--', color='k', alpha=0.5)\n",
    "    a.text(np.log10(0.8), 1e4, '80%', verticalalignment='top', c='b', fontsize=12)\n",
    "    a.text(np.log10(0.5), 1e4, '50%', verticalalignment='top', c='b', fontsize=12)\n",
    "ax[0].set(xlabel='Log RF Probability')\n",
    "ax[1].set(xlabel='Log DNN Probability')\n",
    "plt.tight_layout()\n",
    "plt.savefig(wisps.OUTPUT_FIGURES+'/mlprobabilities.pdf', bbox_inches='tight')"
   ]
  },
  {
   "cell_type": "code",
   "execution_count": 93,
   "metadata": {},
   "outputs": [
    {
     "data": {
      "text/plain": [
       "(46561, 254264)"
      ]
     },
     "execution_count": 93,
     "metadata": {},
     "output_type": "execute_result"
    }
   ],
   "source": [
    "len(big[big.mstar_flag.astype(bool)]), len(big)"
   ]
  },
  {
   "cell_type": "code",
   "execution_count": 63,
   "metadata": {},
   "outputs": [
    {
     "data": {
      "text/plain": [
       "550"
      ]
     },
     "execution_count": 63,
     "metadata": {},
     "output_type": "execute_result"
    }
   ],
   "source": [
    "len(big[(big.snr1>=3.0) & (rf_lp['labels']) & big.mstar_flag.astype(bool)])"
   ]
  },
  {
   "cell_type": "code",
   "execution_count": 64,
   "metadata": {},
   "outputs": [
    {
     "data": {
      "text/plain": [
       "753"
      ]
     },
     "execution_count": 64,
     "metadata": {},
     "output_type": "execute_result"
    }
   ],
   "source": [
    "len(big[(big.snr1>=3.0) & lp['labels'] &   big.mstar_flag.astype(bool) ])"
   ]
  },
  {
   "cell_type": "code",
   "execution_count": 65,
   "metadata": {},
   "outputs": [
    {
     "data": {
      "text/plain": [
       "(46561, 207703)"
      ]
     },
     "execution_count": 65,
     "metadata": {},
     "output_type": "execute_result"
    }
   ],
   "source": [
    "len(big[big.mstar_flag.astype(bool)]), len(big[~big.mstar_flag.astype(bool)])"
   ]
  },
  {
   "cell_type": "code",
   "execution_count": 66,
   "metadata": {},
   "outputs": [
    {
     "data": {
      "text/plain": [
       "164"
      ]
     },
     "execution_count": 66,
     "metadata": {},
     "output_type": "execute_result"
    }
   ],
   "source": [
    "len(ucds)"
   ]
  },
  {
   "cell_type": "code",
   "execution_count": 67,
   "metadata": {},
   "outputs": [
    {
     "data": {
      "text/plain": [
       "1080.0000000000002"
      ]
     },
     "execution_count": 67,
     "metadata": {},
     "output_type": "execute_result"
    }
   ],
   "source": [
    "import astropy.units as u\n",
    "0.3*(u.arcmin**-2).to(u.deg**-2)"
   ]
  },
  {
   "cell_type": "code",
   "execution_count": null,
   "metadata": {},
   "outputs": [],
   "source": []
  },
  {
   "cell_type": "code",
   "execution_count": 68,
   "metadata": {},
   "outputs": [],
   "source": [
    "nn_select_bool= np.logical_and.reduce([big.mstar_flag.astype(bool), lp['labels'], \\\n",
    "                                       big.snr1>3 ])\n",
    "rf_select_bool= np.logical_and.reduce([big.mstar_flag.astype(bool), rf_lp['labels'], \\\n",
    "                                       big.snr1>3 ])"
   ]
  },
  {
   "cell_type": "code",
   "execution_count": 69,
   "metadata": {},
   "outputs": [
    {
     "data": {
      "text/plain": [
       "array([False, False, False, ..., False, False, False])"
      ]
     },
     "execution_count": 69,
     "metadata": {},
     "output_type": "execute_result"
    }
   ],
   "source": [
    "nn_select_bool"
   ]
  },
  {
   "cell_type": "code",
   "execution_count": 70,
   "metadata": {},
   "outputs": [
    {
     "data": {
      "text/plain": [
       "(TensorShape([753, 6]), TensorShape([254264, 6]))"
      ]
     },
     "execution_count": 70,
     "metadata": {},
     "output_type": "execute_result"
    }
   ],
   "source": [
    "np.shape(lp['probs'][nn_select_bool]), np.shape(lp['probs'])"
   ]
  },
  {
   "cell_type": "code",
   "execution_count": 71,
   "metadata": {},
   "outputs": [
    {
     "data": {
      "text/plain": [
       "((550, 6), (254264, 6))"
      ]
     },
     "execution_count": 71,
     "metadata": {},
     "output_type": "execute_result"
    }
   ],
   "source": [
    "np.shape(rf_lp['probs'][rf_select_bool]), np.shape(rf_lp['probs'])"
   ]
  },
  {
   "cell_type": "code",
   "execution_count": 72,
   "metadata": {},
   "outputs": [
    {
     "data": {
      "text/plain": [
       "224"
      ]
     },
     "execution_count": 72,
     "metadata": {},
     "output_type": "execute_result"
    }
   ],
   "source": [
    "nnlbls=np.argmax(lp['probs'][nn_select_bool], axis=1)\n",
    "len(nnlbls[nnlbls==5])"
   ]
  },
  {
   "cell_type": "code",
   "execution_count": 73,
   "metadata": {},
   "outputs": [
    {
     "data": {
      "text/plain": [
       "28"
      ]
     },
     "execution_count": 73,
     "metadata": {},
     "output_type": "execute_result"
    }
   ],
   "source": [
    "rflbls=np.argmax(rf_lp['probs'][rf_select_bool], axis=1)\n",
    "len(rflbls[rflbls==5])"
   ]
  },
  {
   "cell_type": "code",
   "execution_count": 74,
   "metadata": {},
   "outputs": [
    {
     "data": {
      "text/plain": [
       "113"
      ]
     },
     "execution_count": 74,
     "metadata": {},
     "output_type": "execute_result"
    }
   ],
   "source": [
    "len(ucds[ucds.grism_id.str.lower().str.startswith('par')])"
   ]
  },
  {
   "cell_type": "code",
   "execution_count": 75,
   "metadata": {},
   "outputs": [],
   "source": [
    "#h=plt.hist(np.argmax(lp['probs'][nn_select_bool], axis=1))"
   ]
  },
  {
   "cell_type": "code",
   "execution_count": 98,
   "metadata": {},
   "outputs": [],
   "source": [
    "#resave this one object\n",
    "s=ucds[ucds.designation =='J01101162-0225003'].spectra.values[0]"
   ]
  },
  {
   "cell_type": "code",
   "execution_count": 104,
   "metadata": {},
   "outputs": [
    {
     "data": {
      "image/png": "[encoded data removed]",
      "text/plain": [
       "<Figure size 640x640 with 3 Axes>"
      ]
     },
     "metadata": {},
     "output_type": "display_data"
    }
   ],
   "source": [
    "#replot one of the UCDS\n",
    "s.plot(compare_to_sds=True, comprange=[[1.2, 1.65]], \\\n",
    "      save=True, filename='/Users/caganze/research/wisps/figures/ltwarfs/spectrum3.pdf')"
   ]
  },
  {
   "cell_type": "code",
   "execution_count": 76,
   "metadata": {},
   "outputs": [
    {
     "ename": "NameError",
     "evalue": "name 'jhj' is not defined",
     "output_type": "error",
     "traceback": [
      "\u001b[0;31m---------------------------------------------------------------------------\u001b[0m",
      "\u001b[0;31mNameError\u001b[0m                                 Traceback (most recent call last)",
      "\u001b[0;32m<ipython-input-76-7dd693c553a9>\u001b[0m in \u001b[0;36m<module>\u001b[0;34m\u001b[0m\n\u001b[0;32m----> 1\u001b[0;31m \u001b[0mjhj\u001b[0m\u001b[0;34m\u001b[0m\u001b[0;34m\u001b[0m\u001b[0m\n\u001b[0m",
      "\u001b[0;31mNameError\u001b[0m: name 'jhj' is not defined"
     ]
    }
   ],
   "source": [
    "jhj"
   ]
  },
  {
   "cell_type": "code",
   "execution_count": null,
   "metadata": {
    "scrolled": false
   },
   "outputs": [],
   "source": [
    "ucds, cds=get_cands(by_templates=False,  reload_spectrum=False)"
   ]
  },
  {
   "cell_type": "code",
   "execution_count": null,
   "metadata": {},
   "outputs": [],
   "source": [
    "vls=wisps.Annotator.reformat_table(cds)[['spt', 'spt_er',\n",
    "       'distance', 'distance_er', 'coord', 'designation', 'F110W', 'F110W_er',\n",
    "       'F160W', 'F160W_er', 'F140W', 'F140W_er', 'grism_id']]"
   ]
  },
  {
   "cell_type": "code",
   "execution_count": null,
   "metadata": {},
   "outputs": [],
   "source": [
    "vls['ra']=vls.coord.apply(lambda x: x.ra.degree)\n",
    "vls['dec']=vls.coord.apply(lambda x: x.dec.degree)"
   ]
  },
  {
   "cell_type": "code",
   "execution_count": null,
   "metadata": {},
   "outputs": [],
   "source": [
    "vls[['ra', 'dec', 'F110W', 'F110W_er', 'F160W', 'F160W_er','F140W', 'F140W_er',\\\n",
    "     'designation', 'grism_id']].to_csv('~/caganze_masterlist_deepfieldBDs.txt', \\\n",
    "                                         sep=' ')"
   ]
  },
  {
   "cell_type": "code",
   "execution_count": null,
   "metadata": {},
   "outputs": [],
   "source": [
    "log J-SNR0 -a*m0=c"
   ]
  },
  {
   "cell_type": "code",
   "execution_count": null,
   "metadata": {},
   "outputs": [],
   "source": [
    "def jsnr0(c, a, m0):\n",
    "    return (c-(a*m0))"
   ]
  },
  {
   "cell_type": "code",
   "execution_count": null,
   "metadata": {},
   "outputs": [],
   "source": [
    "abcs=[(-0.22, 0.17, 5.6), (-0.24, 0.10, 6.1), (-0.23, 0.17, 5.9 )]\n",
    "m0s=[19.6, 19.8, 18.6]"
   ]
  },
  {
   "cell_type": "code",
   "execution_count": null,
   "metadata": {},
   "outputs": [],
   "source": [
    "for m0, abc in zip(m0s, abcs):\n",
    "    print ( jsnr0(abc[-1], abc[1], m0))"
   ]
  },
  {
   "cell_type": "code",
   "execution_count": null,
   "metadata": {},
   "outputs": [],
   "source": []
  },
  {
   "cell_type": "code",
   "execution_count": null,
   "metadata": {},
   "outputs": [],
   "source": []
  },
  {
   "cell_type": "code",
   "execution_count": null,
   "metadata": {},
   "outputs": [],
   "source": []
  },
  {
   "cell_type": "code",
   "execution_count": null,
   "metadata": {},
   "outputs": [],
   "source": []
  },
  {
   "cell_type": "code",
   "execution_count": null,
   "metadata": {},
   "outputs": [],
   "source": []
  }
 ],
 "metadata": {
  "kernelspec": {
   "display_name": "Python 3 (ipykernel)",
   "language": "python",
   "name": "python3"
  },
  "language_info": {
   "codemirror_mode": {
    "name": "ipython",
    "version": 3
   },
   "file_extension": ".py",
   "mimetype": "text/x-python",
   "name": "python",
   "nbconvert_exporter": "python",
   "pygments_lexer": "ipython3",
   "version": "3.9.7"
  }
 },
 "nbformat": 4,
 "nbformat_minor": 4
}
