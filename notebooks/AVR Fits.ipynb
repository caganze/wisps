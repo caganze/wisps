{
 "cells": [
  {
   "cell_type": "code",
   "execution_count": 1,
   "metadata": {},
   "outputs": [],
   "source": [
    "import numpy as np\n",
    "import matplotlib.pyplot as plt\n",
    "import pandas as pd\n",
    "%matplotlib inline"
   ]
  },
  {
   "cell_type": "markdown",
   "metadata": {},
   "source": [
    "Data from https://academic.oup.com/mnras/article/475/1/1093/4733293"
   ]
  },
  {
   "cell_type": "code",
   "execution_count": 2,
   "metadata": {},
   "outputs": [],
   "source": [
    "#for |z| > 270 pc\n",
    "metal_rich='1.6±0.5,11.3±1.3 * 2.4±0.4,14.9±1.4 * 3.0±0.3,14.0±1.3 * \\\n",
    "3.5±0.3,12.2±1.1 * 4.1±0.3,15.4±1.1 * 4.6±0.3,16.2±1.0*5.3±0.4,17.7±0.9*\\\n",
    "5.9±0.4,20.0±1.1* 6.7±0.6,23.2±1.7* 8.0±0.8,24.8±2.0* 8.9±0.6,23.2±3.0'"
   ]
  },
  {
   "cell_type": "code",
   "execution_count": 3,
   "metadata": {},
   "outputs": [],
   "source": [
    "metal_poor='3.1±0.7,17.0±1.6 *3.9±0.3 ,19.2±1.7 * 4.6±0.3 ,18.1±1.3 *\\\n",
    "5.2±0.4 ,18.7±1.0 * 5.8±0.4 ,24.2±1.1 *6.7±0.5 ,32.8±1.7 *7.5±0.6 ,\\\n",
    "39.5±2.2 *8.6±0.7,44.2±2.7 * 10.1±0.6,47.0±3.7 '"
   ]
  },
  {
   "cell_type": "code",
   "execution_count": 4,
   "metadata": {},
   "outputs": [],
   "source": [
    "def reformat_sub_sub_string(st):\n",
    "    return [float(st.split('±')[0]),  float(st.split('±')[-1])]\n",
    "def reformat_sub_string(st):\n",
    "    vals=st.split(',') \n",
    "    return {'age':reformat_sub_sub_string(vals[0]),\n",
    "    'sigma_w':reformat_sub_sub_string(vals[-1])}\n",
    "def reformat_string(st):\n",
    "    vals=st.split('*')\n",
    "    return [reformat_sub_string(x) for x in vals]"
   ]
  },
  {
   "cell_type": "code",
   "execution_count": 5,
   "metadata": {},
   "outputs": [],
   "source": [
    "poor_vals=np.array(reformat_string(metal_poor))"
   ]
  },
  {
   "cell_type": "code",
   "execution_count": 6,
   "metadata": {},
   "outputs": [],
   "source": [
    "#all\n"
   ]
  },
  {
   "cell_type": "code",
   "execution_count": 7,
   "metadata": {},
   "outputs": [],
   "source": [
    "df_poor=pd.DataFrame.from_records(poor_vals)"
   ]
  },
  {
   "cell_type": "code",
   "execution_count": 8,
   "metadata": {},
   "outputs": [],
   "source": [
    "#df_poor\n",
    "def avr_yu(sigma, verbose=False, disk='thin', direction='vertical', height='above'):\n",
    "    verboseprint = print if verbose else lambda *a, **k: None\n",
    "    #the dictionary has thin disk and thick disk\n",
    "    #thin disk  AVR is for [Fe<H] <-0.2 and two different fits for \n",
    "    #|z| > 270 pc and |z|<270\n",
    "    _, tau1, sigma10= 0.385, 0.261, 57.15747\n",
    "    \n",
    "    beta_dict={'thin':{'vertical': [[0.54, 0.13], [0.48, 0.14]],\n",
    "              'azimuthal':[[0.30, 0.09],[0.4, 0.12]],\n",
    "              'radial': [ [0.28, 0.08], [0.36, 0.28]]},\n",
    "               'thick':{'vertical': [[0.56, 0.14], [0.51, 0.15]],\n",
    "              'azimuthal':[[0.34, 0.12],[0.42, 0.14]],\n",
    "              'radial': [ [0.34, 0.17], [0.39, 0.13]]}}\n",
    "    \n",
    "    beta=beta_dict[disk][direction][0]\n",
    "    if  height=='below':\n",
    "         beta=beta_dict[disk][direction][1]\n",
    "    if height=='median':\n",
    "        vals=np.array([beta_dict[disk][direction][0], beta_dict[disk][direction][1]])\n",
    "        beta=[(vals[:,0]).mean(), (vals[:,1]**2).sum()**0.5]\n",
    "    verboseprint(\"Assuming Yu & Liu 2018, {} disk {} velocities \".format(disk, direction))\n",
    "    if np.isscalar(sigma):\n",
    "        betas=(np.random.normal(beta[0], beta[-1], 10000))\n",
    "        #sigmas= sigma**(np.random.normal(beta[0], beta[-1], 10000))\n",
    "        #sigmas=((sigma/sigma10)**(1/betas))*(10+tau1)-tau1\n",
    "        sigmas= sigma**(betas)\n",
    "        return np.nanmedian(sigmas), np.nanstd(sigmas)\n",
    "    else:\n",
    "        betas=(np.random.normal(beta[0], beta[-1], (10000, len(sigma))))\n",
    "        #sigmas= sigma**(np.random.normal(beta[0], beta[-1], 10000))\n",
    "        #sigmas=((sigma/sigma10)**(1/betas))*(10+tau1)-tau1\n",
    "        sigmas= sigma**(betas)\n",
    "        #sigmas= sigma**(np.random.normal(beta[0], beta[-1], (10000, len(sigma))))\n",
    "        return np.vstack([np.nanmedian(sigmas, axis=0), np.nanstd(sigmas, axis=0)])"
   ]
  },
  {
   "cell_type": "code",
   "execution_count": 9,
   "metadata": {},
   "outputs": [],
   "source": [
    "mx=np.nanmax(np.vstack(df_poor.sigma_w.values)[:,0])\n",
    "mn=np.nanmin(np.vstack(df_poor.sigma_w.values)[:,0])"
   ]
  },
  {
   "cell_type": "code",
   "execution_count": 10,
   "metadata": {},
   "outputs": [
    {
     "data": {
      "text/plain": [
       "Text(0.5, 0, '')"
      ]
     },
     "execution_count": 10,
     "metadata": {},
     "output_type": "execute_result"
    },
    {
     "data": {
      "image/png": "[encoded data removed]",
      "text/plain": [
       "<Figure size 432x288 with 1 Axes>"
      ]
     },
     "metadata": {
      "needs_background": "light"
     },
     "output_type": "display_data"
    }
   ],
   "source": [
    "plt.errorbar(np.vstack(df_poor.age.values)[:,0],\n",
    "             np.vstack(df_poor.sigma_w.values)[:,0],\n",
    "             xerr=np.vstack(df_poor.age.values)[:,1],\n",
    "             yerr=np.vstack(df_poor.sigma_w.values)[:,1], fmt='o', color='k')\n",
    "plt.plot(avr_yu(np.arange(mn, mx, 0.2), disk='thick')[0], np.arange(mn, mx, 0.2))\n",
    "plt.plot(avr_yu(np.arange(mn, mx, 0.2), disk='thin')[0], np.arange(mn, mx, 0.2))\n",
    "plt.plot(avr_yu(np.arange(mn, mx, 0.2), height='below')[0], np.arange(mn, mx, 0.2))\n",
    "\n",
    "#plt.plot(avr_yu(np.arange(mn, mx),  height='below')[0], np.arange(mn, mx))\n",
    "#plt.plot(avr_yu(np.arange(mn, mx, 0.2),  height='median', disk='thick')[0], np.arange(mn, mx, 0.2))\n",
    "plt.xlabel('')\n"
   ]
  },
  {
   "cell_type": "code",
   "execution_count": 11,
   "metadata": {},
   "outputs": [
    {
     "name": "stdout",
     "output_type": "stream",
     "text": [
      "Assuming Yu & Liu 2018, thin disk vertical velocities \n"
     ]
    },
    {
     "data": {
      "text/plain": [
       "(4.166164080745701, 1.5620739800325172)"
      ]
     },
     "execution_count": 11,
     "metadata": {},
     "output_type": "execute_result"
    }
   ],
   "source": [
    "avr_yu(14., verbose=True, disk='thin', direction='vertical', height='above')"
   ]
  },
  {
   "cell_type": "code",
   "execution_count": 12,
   "metadata": {},
   "outputs": [
    {
     "name": "stdout",
     "output_type": "stream",
     "text": [
      "Assuming Yu & Liu 2018, thick disk vertical velocities \n"
     ]
    },
    {
     "data": {
      "text/plain": [
       "(4.360364258153445, 1.8120162758703753)"
      ]
     },
     "execution_count": 12,
     "metadata": {},
     "output_type": "execute_result"
    }
   ],
   "source": [
    "avr_yu(14., verbose=True, disk='thick', direction='vertical', height='above')"
   ]
  },
  {
   "cell_type": "code",
   "execution_count": 13,
   "metadata": {},
   "outputs": [
    {
     "name": "stdout",
     "output_type": "stream",
     "text": [
      "Adding 89 sources from /Users/caganze/research/splat//resources/Spectra/Public/MAGE/ to spectral database\n",
      "Adding 2404 sources from /Users/caganze/research/splat//resources/Spectra/Public/SPEX-PRISM/ to spectral database\n",
      "Adding 145 sources from /Users/caganze/research/splat//resources/Spectra/Public/LRIS-RED/ to spectral database\n"
     ]
    }
   ],
   "source": [
    "import popsims"
   ]
  },
  {
   "cell_type": "code",
   "execution_count": 16,
   "metadata": {},
   "outputs": [],
   "source": [
    " d=popsims.make_systems(model_name='baraffe1998', recompute=False, range=[0.01, 0.1, 8, 14.0])"
   ]
  },
  {
   "cell_type": "code",
   "execution_count": 20,
   "metadata": {},
   "outputs": [],
   "source": [
    "d=pd.read_csv('/users/caganze/research/wisps/evmodels/baraffe1998.csv')"
   ]
  },
  {
   "cell_type": "code",
   "execution_count": 32,
   "metadata": {},
   "outputs": [
    {
     "data": {
      "text/html": [
       "<div>\n",
       "<style scoped>\n",
       "    .dataframe tbody tr th:only-of-type {\n",
       "        vertical-align: middle;\n",
       "    }\n",
       "\n",
       "    .dataframe tbody tr th {\n",
       "        vertical-align: top;\n",
       "    }\n",
       "\n",
       "    .dataframe thead th {\n",
       "        text-align: right;\n",
       "    }\n",
       "</style>\n",
       "<table border=\"1\" class=\"dataframe\">\n",
       "  <thead>\n",
       "    <tr style=\"text-align: right;\">\n",
       "      <th></th>\n",
       "      <th>mass</th>\n",
       "      <th>age</th>\n",
       "      <th>temperature</th>\n",
       "      <th>gravity</th>\n",
       "      <th>luminosity</th>\n",
       "      <th>Mv</th>\n",
       "      <th>Mr</th>\n",
       "      <th>Mi</th>\n",
       "      <th>Mj</th>\n",
       "      <th>Mh</th>\n",
       "      <th>Mk</th>\n",
       "      <th>Ml</th>\n",
       "      <th>Mm</th>\n",
       "      <th>metallicity</th>\n",
       "      <th>y</th>\n",
       "      <th>l_mix</th>\n",
       "    </tr>\n",
       "  </thead>\n",
       "  <tbody>\n",
       "    <tr>\n",
       "      <th>0</th>\n",
       "      <td>0.02</td>\n",
       "      <td>0.00102</td>\n",
       "      <td>2542</td>\n",
       "      <td>3.794</td>\n",
       "      <td>-2.49</td>\n",
       "      <td>15.50</td>\n",
       "      <td>14.08</td>\n",
       "      <td>11.87</td>\n",
       "      <td>8.78</td>\n",
       "      <td>8.18</td>\n",
       "      <td>7.76</td>\n",
       "      <td>7.16</td>\n",
       "      <td>7.43</td>\n",
       "      <td>0.0</td>\n",
       "      <td>0.275</td>\n",
       "      <td>1.0</td>\n",
       "    </tr>\n",
       "    <tr>\n",
       "      <th>1</th>\n",
       "      <td>0.02</td>\n",
       "      <td>0.00115</td>\n",
       "      <td>2538</td>\n",
       "      <td>3.807</td>\n",
       "      <td>-2.50</td>\n",
       "      <td>15.56</td>\n",
       "      <td>14.13</td>\n",
       "      <td>11.92</td>\n",
       "      <td>8.82</td>\n",
       "      <td>8.21</td>\n",
       "      <td>7.80</td>\n",
       "      <td>7.20</td>\n",
       "      <td>7.46</td>\n",
       "      <td>0.0</td>\n",
       "      <td>0.275</td>\n",
       "      <td>1.0</td>\n",
       "    </tr>\n",
       "    <tr>\n",
       "      <th>2</th>\n",
       "      <td>0.02</td>\n",
       "      <td>0.00128</td>\n",
       "      <td>2535</td>\n",
       "      <td>3.821</td>\n",
       "      <td>-2.52</td>\n",
       "      <td>15.61</td>\n",
       "      <td>14.19</td>\n",
       "      <td>11.97</td>\n",
       "      <td>8.85</td>\n",
       "      <td>8.25</td>\n",
       "      <td>7.84</td>\n",
       "      <td>7.24</td>\n",
       "      <td>7.50</td>\n",
       "      <td>0.0</td>\n",
       "      <td>0.275</td>\n",
       "      <td>1.0</td>\n",
       "    </tr>\n",
       "    <tr>\n",
       "      <th>3</th>\n",
       "      <td>0.02</td>\n",
       "      <td>0.00144</td>\n",
       "      <td>2530</td>\n",
       "      <td>3.834</td>\n",
       "      <td>-2.54</td>\n",
       "      <td>15.67</td>\n",
       "      <td>14.24</td>\n",
       "      <td>12.01</td>\n",
       "      <td>8.89</td>\n",
       "      <td>8.29</td>\n",
       "      <td>7.87</td>\n",
       "      <td>7.27</td>\n",
       "      <td>7.54</td>\n",
       "      <td>0.0</td>\n",
       "      <td>0.275</td>\n",
       "      <td>1.0</td>\n",
       "    </tr>\n",
       "    <tr>\n",
       "      <th>4</th>\n",
       "      <td>0.02</td>\n",
       "      <td>0.00161</td>\n",
       "      <td>2527</td>\n",
       "      <td>3.847</td>\n",
       "      <td>-2.55</td>\n",
       "      <td>15.73</td>\n",
       "      <td>14.29</td>\n",
       "      <td>12.06</td>\n",
       "      <td>8.93</td>\n",
       "      <td>8.33</td>\n",
       "      <td>7.91</td>\n",
       "      <td>7.31</td>\n",
       "      <td>7.58</td>\n",
       "      <td>0.0</td>\n",
       "      <td>0.275</td>\n",
       "      <td>1.0</td>\n",
       "    </tr>\n",
       "    <tr>\n",
       "      <th>...</th>\n",
       "      <td>...</td>\n",
       "      <td>...</td>\n",
       "      <td>...</td>\n",
       "      <td>...</td>\n",
       "      <td>...</td>\n",
       "      <td>...</td>\n",
       "      <td>...</td>\n",
       "      <td>...</td>\n",
       "      <td>...</td>\n",
       "      <td>...</td>\n",
       "      <td>...</td>\n",
       "      <td>...</td>\n",
       "      <td>...</td>\n",
       "      <td>...</td>\n",
       "      <td>...</td>\n",
       "      <td>...</td>\n",
       "    </tr>\n",
       "    <tr>\n",
       "      <th>5295</th>\n",
       "      <td>1.00</td>\n",
       "      <td>2.51622</td>\n",
       "      <td>6070</td>\n",
       "      <td>4.375</td>\n",
       "      <td>4.29</td>\n",
       "      <td>4.39</td>\n",
       "      <td>4.06</td>\n",
       "      <td>3.77</td>\n",
       "      <td>3.38</td>\n",
       "      <td>3.12</td>\n",
       "      <td>3.10</td>\n",
       "      <td>NaN</td>\n",
       "      <td>NaN</td>\n",
       "      <td>-0.5</td>\n",
       "      <td>0.250</td>\n",
       "      <td>1.0</td>\n",
       "    </tr>\n",
       "    <tr>\n",
       "      <th>5296</th>\n",
       "      <td>1.00</td>\n",
       "      <td>3.18167</td>\n",
       "      <td>6097</td>\n",
       "      <td>4.350</td>\n",
       "      <td>4.20</td>\n",
       "      <td>4.31</td>\n",
       "      <td>3.98</td>\n",
       "      <td>3.69</td>\n",
       "      <td>3.30</td>\n",
       "      <td>3.05</td>\n",
       "      <td>3.03</td>\n",
       "      <td>NaN</td>\n",
       "      <td>NaN</td>\n",
       "      <td>-0.5</td>\n",
       "      <td>0.250</td>\n",
       "      <td>1.0</td>\n",
       "    </tr>\n",
       "    <tr>\n",
       "      <th>5297</th>\n",
       "      <td>1.00</td>\n",
       "      <td>4.00556</td>\n",
       "      <td>6129</td>\n",
       "      <td>4.313</td>\n",
       "      <td>4.09</td>\n",
       "      <td>4.19</td>\n",
       "      <td>3.87</td>\n",
       "      <td>3.58</td>\n",
       "      <td>3.20</td>\n",
       "      <td>2.95</td>\n",
       "      <td>2.93</td>\n",
       "      <td>NaN</td>\n",
       "      <td>NaN</td>\n",
       "      <td>-0.5</td>\n",
       "      <td>0.250</td>\n",
       "      <td>1.0</td>\n",
       "    </tr>\n",
       "    <tr>\n",
       "      <th>5298</th>\n",
       "      <td>1.00</td>\n",
       "      <td>5.01958</td>\n",
       "      <td>6160</td>\n",
       "      <td>4.253</td>\n",
       "      <td>3.92</td>\n",
       "      <td>4.01</td>\n",
       "      <td>3.69</td>\n",
       "      <td>3.42</td>\n",
       "      <td>3.04</td>\n",
       "      <td>2.79</td>\n",
       "      <td>2.77</td>\n",
       "      <td>NaN</td>\n",
       "      <td>NaN</td>\n",
       "      <td>-0.5</td>\n",
       "      <td>0.250</td>\n",
       "      <td>1.0</td>\n",
       "    </tr>\n",
       "    <tr>\n",
       "      <th>5299</th>\n",
       "      <td>1.00</td>\n",
       "      <td>6.32528</td>\n",
       "      <td>6126</td>\n",
       "      <td>4.139</td>\n",
       "      <td>3.66</td>\n",
       "      <td>3.75</td>\n",
       "      <td>3.43</td>\n",
       "      <td>3.15</td>\n",
       "      <td>2.77</td>\n",
       "      <td>2.51</td>\n",
       "      <td>2.50</td>\n",
       "      <td>NaN</td>\n",
       "      <td>NaN</td>\n",
       "      <td>-0.5</td>\n",
       "      <td>0.250</td>\n",
       "      <td>1.0</td>\n",
       "    </tr>\n",
       "  </tbody>\n",
       "</table>\n",
       "<p>5300 rows × 16 columns</p>\n",
       "</div>"
      ],
      "text/plain": [
       "      mass      age  temperature  gravity  luminosity     Mv     Mr     Mi  \\\n",
       "0     0.02  0.00102         2542    3.794       -2.49  15.50  14.08  11.87   \n",
       "1     0.02  0.00115         2538    3.807       -2.50  15.56  14.13  11.92   \n",
       "2     0.02  0.00128         2535    3.821       -2.52  15.61  14.19  11.97   \n",
       "3     0.02  0.00144         2530    3.834       -2.54  15.67  14.24  12.01   \n",
       "4     0.02  0.00161         2527    3.847       -2.55  15.73  14.29  12.06   \n",
       "...    ...      ...          ...      ...         ...    ...    ...    ...   \n",
       "5295  1.00  2.51622         6070    4.375        4.29   4.39   4.06   3.77   \n",
       "5296  1.00  3.18167         6097    4.350        4.20   4.31   3.98   3.69   \n",
       "5297  1.00  4.00556         6129    4.313        4.09   4.19   3.87   3.58   \n",
       "5298  1.00  5.01958         6160    4.253        3.92   4.01   3.69   3.42   \n",
       "5299  1.00  6.32528         6126    4.139        3.66   3.75   3.43   3.15   \n",
       "\n",
       "        Mj    Mh    Mk    Ml    Mm  metallicity      y  l_mix  \n",
       "0     8.78  8.18  7.76  7.16  7.43          0.0  0.275    1.0  \n",
       "1     8.82  8.21  7.80  7.20  7.46          0.0  0.275    1.0  \n",
       "2     8.85  8.25  7.84  7.24  7.50          0.0  0.275    1.0  \n",
       "3     8.89  8.29  7.87  7.27  7.54          0.0  0.275    1.0  \n",
       "4     8.93  8.33  7.91  7.31  7.58          0.0  0.275    1.0  \n",
       "...    ...   ...   ...   ...   ...          ...    ...    ...  \n",
       "5295  3.38  3.12  3.10   NaN   NaN         -0.5  0.250    1.0  \n",
       "5296  3.30  3.05  3.03   NaN   NaN         -0.5  0.250    1.0  \n",
       "5297  3.20  2.95  2.93   NaN   NaN         -0.5  0.250    1.0  \n",
       "5298  3.04  2.79  2.77   NaN   NaN         -0.5  0.250    1.0  \n",
       "5299  2.77  2.51  2.50   NaN   NaN         -0.5  0.250    1.0  \n",
       "\n",
       "[5300 rows x 16 columns]"
      ]
     },
     "execution_count": 32,
     "metadata": {},
     "output_type": "execute_result"
    }
   ],
   "source": [
    "d"
   ]
  },
  {
   "cell_type": "code",
   "execution_count": null,
   "metadata": {},
   "outputs": [],
   "source": []
  }
 ],
 "metadata": {
  "kernelspec": {
   "display_name": "Python 3",
   "language": "python",
   "name": "python3"
  },
  "language_info": {
   "codemirror_mode": {
    "name": "ipython",
    "version": 3
   },
   "file_extension": ".py",
   "mimetype": "text/x-python",
   "name": "python",
   "nbconvert_exporter": "python",
   "pygments_lexer": "ipython3",
   "version": "3.8.5"
  }
 },
 "nbformat": 4,
 "nbformat_minor": 4
}
