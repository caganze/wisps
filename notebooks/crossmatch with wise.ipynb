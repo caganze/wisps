{
 "cells": [
  {
   "cell_type": "code",
   "execution_count": 51,
   "metadata": {},
   "outputs": [],
   "source": [
    "import wisps\n",
    "import numpy as np\n",
    "import astroquery\n",
    "import splat\n",
    "from astropy.coordinates import SkyCoord\n",
    "import astropy.units as u\n",
    "import pandas as pd\n",
    "from astroquery.vizier import Vizier\n",
    "from astropy.table import Table\n",
    "from astropy.coordinates import Angle"
   ]
  },
  {
   "cell_type": "code",
   "execution_count": 6,
   "metadata": {},
   "outputs": [],
   "source": [
    "cands=pd.read_pickle(wisps.LIBRARIES+'/new_real_ucds.pkl')"
   ]
  },
  {
   "cell_type": "code",
   "execution_count": 10,
   "metadata": {},
   "outputs": [],
   "source": [
    "coords=SkyCoord(cands.spectra.apply(lambda x:x.coords).values)"
   ]
  },
  {
   "cell_type": "code",
   "execution_count": 58,
   "metadata": {},
   "outputs": [],
   "source": [
    "df=Table()\n",
    "df['_RAJ2000']=coords.ra\n",
    "df['_DEJ2000']=coords.dec"
   ]
  },
  {
   "cell_type": "code",
   "execution_count": 59,
   "metadata": {},
   "outputs": [],
   "source": [
    "#df"
   ]
  },
  {
   "cell_type": "code",
   "execution_count": 60,
   "metadata": {},
   "outputs": [],
   "source": [
    "res=Vizier.query_region(df, radius=Angle(10, \"arcsec\"), catalog='WISE')"
   ]
  },
  {
   "cell_type": "code",
   "execution_count": 61,
   "metadata": {},
   "outputs": [
    {
     "data": {
      "text/plain": [
       "Empty TableList"
      ]
     },
     "execution_count": 61,
     "metadata": {},
     "output_type": "execute_result"
    }
   ],
   "source": [
    "res"
   ]
  },
  {
   "cell_type": "code",
   "execution_count": 63,
   "metadata": {},
   "outputs": [],
   "source": [
    "res=Vizier.query_region(df, radius=Angle(10, \"arcsec\"), catalog='2MASS')"
   ]
  },
  {
   "cell_type": "code",
   "execution_count": 66,
   "metadata": {},
   "outputs": [
    {
     "data": {
      "text/plain": [
       "Empty TableList"
      ]
     },
     "execution_count": 66,
     "metadata": {},
     "output_type": "execute_result"
    }
   ],
   "source": [
    "res"
   ]
  },
  {
   "cell_type": "code",
   "execution_count": 64,
   "metadata": {},
   "outputs": [],
   "source": [
    "res=Vizier.query_region(df, radius=Angle(10, \"arcsec\"))"
   ]
  },
  {
   "cell_type": "code",
   "execution_count": 65,
   "metadata": {},
   "outputs": [
    {
     "data": {
      "text/plain": [
       "Empty TableList"
      ]
     },
     "execution_count": 65,
     "metadata": {},
     "output_type": "execute_result"
    }
   ],
   "source": [
    "res"
   ]
  },
  {
   "cell_type": "code",
   "execution_count": 68,
   "metadata": {},
   "outputs": [
    {
     "data": {
      "text/plain": [
       "Empty TableList"
      ]
     },
     "execution_count": 68,
     "metadata": {},
     "output_type": "execute_result"
    }
   ],
   "source": [
    "Vizier.query_region(df, radius=5*u.deg)"
   ]
  },
  {
   "cell_type": "code",
   "execution_count": 72,
   "metadata": {},
   "outputs": [],
   "source": [
    "df.to_pandas().to_csv('/users/caganze/desktop/ra_decs_WFC3.csv')"
   ]
  },
  {
   "cell_type": "code",
   "execution_count": 73,
   "metadata": {},
   "outputs": [],
   "source": [
    "#5 arcsec\n",
    "gaia_results=pd.read_csv('/users/caganze/research/wisps/data/gaia_isp_crossmatch-result.csv')"
   ]
  },
  {
   "cell_type": "code",
   "execution_count": 77,
   "metadata": {},
   "outputs": [],
   "source": [
    "gaia_results_2arcsec=pd.read_csv('/users/caganze/research/wisps/data/gaia_cf3_2arcsec_cross.csv')"
   ]
  },
  {
   "cell_type": "code",
   "execution_count": 78,
   "metadata": {},
   "outputs": [
    {
     "data": {
      "text/html": [
       "<div>\n",
       "<style scoped>\n",
       "    .dataframe tbody tr th:only-of-type {\n",
       "        vertical-align: middle;\n",
       "    }\n",
       "\n",
       "    .dataframe tbody tr th {\n",
       "        vertical-align: top;\n",
       "    }\n",
       "\n",
       "    .dataframe thead th {\n",
       "        text-align: right;\n",
       "    }\n",
       "</style>\n",
       "<table border=\"1\" class=\"dataframe\">\n",
       "  <thead>\n",
       "    <tr style=\"text-align: right;\">\n",
       "      <th></th>\n",
       "      <th>source_id</th>\n",
       "      <th>ra</th>\n",
       "      <th>dec</th>\n",
       "      <th>parallax</th>\n",
       "      <th>parallax_error</th>\n",
       "      <th>phot_g_mean_mag</th>\n",
       "      <th>bp_rp</th>\n",
       "      <th>dr2_radial_velocity</th>\n",
       "      <th>dr2_radial_velocity_error</th>\n",
       "    </tr>\n",
       "  </thead>\n",
       "  <tbody>\n",
       "    <tr>\n",
       "      <th>0</th>\n",
       "      <td>4128310302796800256</td>\n",
       "      <td>258.119725</td>\n",
       "      <td>-19.500291</td>\n",
       "      <td>1.145933</td>\n",
       "      <td>0.783533</td>\n",
       "      <td>20.335526</td>\n",
       "      <td>1.326612</td>\n",
       "      <td>NaN</td>\n",
       "      <td>NaN</td>\n",
       "    </tr>\n",
       "    <tr>\n",
       "      <th>1</th>\n",
       "      <td>4128310302796800384</td>\n",
       "      <td>258.110317</td>\n",
       "      <td>-19.504995</td>\n",
       "      <td>NaN</td>\n",
       "      <td>NaN</td>\n",
       "      <td>20.822922</td>\n",
       "      <td>NaN</td>\n",
       "      <td>NaN</td>\n",
       "      <td>NaN</td>\n",
       "    </tr>\n",
       "    <tr>\n",
       "      <th>2</th>\n",
       "      <td>4128310302796806784</td>\n",
       "      <td>258.115452</td>\n",
       "      <td>-19.497078</td>\n",
       "      <td>1.189043</td>\n",
       "      <td>1.046714</td>\n",
       "      <td>20.583714</td>\n",
       "      <td>1.044197</td>\n",
       "      <td>NaN</td>\n",
       "      <td>NaN</td>\n",
       "    </tr>\n",
       "    <tr>\n",
       "      <th>3</th>\n",
       "      <td>4128310302796807296</td>\n",
       "      <td>258.109720</td>\n",
       "      <td>-19.499920</td>\n",
       "      <td>NaN</td>\n",
       "      <td>NaN</td>\n",
       "      <td>20.916595</td>\n",
       "      <td>0.099331</td>\n",
       "      <td>NaN</td>\n",
       "      <td>NaN</td>\n",
       "    </tr>\n",
       "    <tr>\n",
       "      <th>4</th>\n",
       "      <td>4128310302796807424</td>\n",
       "      <td>258.108771</td>\n",
       "      <td>-19.500418</td>\n",
       "      <td>NaN</td>\n",
       "      <td>NaN</td>\n",
       "      <td>20.651249</td>\n",
       "      <td>0.995247</td>\n",
       "      <td>NaN</td>\n",
       "      <td>NaN</td>\n",
       "    </tr>\n",
       "    <tr>\n",
       "      <th>...</th>\n",
       "      <td>...</td>\n",
       "      <td>...</td>\n",
       "      <td>...</td>\n",
       "      <td>...</td>\n",
       "      <td>...</td>\n",
       "      <td>...</td>\n",
       "      <td>...</td>\n",
       "      <td>...</td>\n",
       "      <td>...</td>\n",
       "    </tr>\n",
       "    <tr>\n",
       "      <th>1995</th>\n",
       "      <td>4089437000471209856</td>\n",
       "      <td>276.268906</td>\n",
       "      <td>-23.557748</td>\n",
       "      <td>0.087550</td>\n",
       "      <td>0.337358</td>\n",
       "      <td>19.163607</td>\n",
       "      <td>1.302040</td>\n",
       "      <td>NaN</td>\n",
       "      <td>NaN</td>\n",
       "    </tr>\n",
       "    <tr>\n",
       "      <th>1996</th>\n",
       "      <td>4089437000471210624</td>\n",
       "      <td>276.270008</td>\n",
       "      <td>-23.556445</td>\n",
       "      <td>0.028091</td>\n",
       "      <td>0.612953</td>\n",
       "      <td>19.620580</td>\n",
       "      <td>NaN</td>\n",
       "      <td>NaN</td>\n",
       "      <td>NaN</td>\n",
       "    </tr>\n",
       "    <tr>\n",
       "      <th>1997</th>\n",
       "      <td>4089437000471211392</td>\n",
       "      <td>276.271876</td>\n",
       "      <td>-23.554253</td>\n",
       "      <td>-0.502561</td>\n",
       "      <td>0.355395</td>\n",
       "      <td>19.264282</td>\n",
       "      <td>NaN</td>\n",
       "      <td>NaN</td>\n",
       "      <td>NaN</td>\n",
       "    </tr>\n",
       "    <tr>\n",
       "      <th>1998</th>\n",
       "      <td>4089437000471211520</td>\n",
       "      <td>276.267068</td>\n",
       "      <td>-23.558669</td>\n",
       "      <td>0.890829</td>\n",
       "      <td>0.430815</td>\n",
       "      <td>19.394316</td>\n",
       "      <td>1.486912</td>\n",
       "      <td>NaN</td>\n",
       "      <td>NaN</td>\n",
       "    </tr>\n",
       "    <tr>\n",
       "      <th>1999</th>\n",
       "      <td>4089437000471211648</td>\n",
       "      <td>276.264498</td>\n",
       "      <td>-23.561047</td>\n",
       "      <td>0.320502</td>\n",
       "      <td>0.938979</td>\n",
       "      <td>19.390879</td>\n",
       "      <td>1.540987</td>\n",
       "      <td>NaN</td>\n",
       "      <td>NaN</td>\n",
       "    </tr>\n",
       "  </tbody>\n",
       "</table>\n",
       "<p>2000 rows × 9 columns</p>\n",
       "</div>"
      ],
      "text/plain": [
       "                source_id          ra        dec  parallax  parallax_error  \\\n",
       "0     4128310302796800256  258.119725 -19.500291  1.145933        0.783533   \n",
       "1     4128310302796800384  258.110317 -19.504995       NaN             NaN   \n",
       "2     4128310302796806784  258.115452 -19.497078  1.189043        1.046714   \n",
       "3     4128310302796807296  258.109720 -19.499920       NaN             NaN   \n",
       "4     4128310302796807424  258.108771 -19.500418       NaN             NaN   \n",
       "...                   ...         ...        ...       ...             ...   \n",
       "1995  4089437000471209856  276.268906 -23.557748  0.087550        0.337358   \n",
       "1996  4089437000471210624  276.270008 -23.556445  0.028091        0.612953   \n",
       "1997  4089437000471211392  276.271876 -23.554253 -0.502561        0.355395   \n",
       "1998  4089437000471211520  276.267068 -23.558669  0.890829        0.430815   \n",
       "1999  4089437000471211648  276.264498 -23.561047  0.320502        0.938979   \n",
       "\n",
       "      phot_g_mean_mag     bp_rp  dr2_radial_velocity  \\\n",
       "0           20.335526  1.326612                  NaN   \n",
       "1           20.822922       NaN                  NaN   \n",
       "2           20.583714  1.044197                  NaN   \n",
       "3           20.916595  0.099331                  NaN   \n",
       "4           20.651249  0.995247                  NaN   \n",
       "...               ...       ...                  ...   \n",
       "1995        19.163607  1.302040                  NaN   \n",
       "1996        19.620580       NaN                  NaN   \n",
       "1997        19.264282       NaN                  NaN   \n",
       "1998        19.394316  1.486912                  NaN   \n",
       "1999        19.390879  1.540987                  NaN   \n",
       "\n",
       "      dr2_radial_velocity_error  \n",
       "0                           NaN  \n",
       "1                           NaN  \n",
       "2                           NaN  \n",
       "3                           NaN  \n",
       "4                           NaN  \n",
       "...                         ...  \n",
       "1995                        NaN  \n",
       "1996                        NaN  \n",
       "1997                        NaN  \n",
       "1998                        NaN  \n",
       "1999                        NaN  \n",
       "\n",
       "[2000 rows x 9 columns]"
      ]
     },
     "execution_count": 78,
     "metadata": {},
     "output_type": "execute_result"
    }
   ],
   "source": [
    "gaia_results_2arcsec"
   ]
  },
  {
   "cell_type": "code",
   "execution_count": null,
   "metadata": {},
   "outputs": [],
   "source": []
  }
 ],
 "metadata": {
  "kernelspec": {
   "display_name": "Python 3",
   "language": "python",
   "name": "python3"
  },
  "language_info": {
   "codemirror_mode": {
    "name": "ipython",
    "version": 3
   },
   "file_extension": ".py",
   "mimetype": "text/x-python",
   "name": "python",
   "nbconvert_exporter": "python",
   "pygments_lexer": "ipython3",
   "version": "3.8.5"
  }
 },
 "nbformat": 4,
 "nbformat_minor": 2
}
