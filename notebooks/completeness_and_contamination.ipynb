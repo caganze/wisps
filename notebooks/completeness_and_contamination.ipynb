{
 "cells": [
  {
   "cell_type": "markdown",
   "metadata": {},
   "source": [
    "This demonstrates all the steps in my candidate selection before conducting visual inspection"
   ]
  },
  {
   "cell_type": "code",
   "execution_count": 1,
   "metadata": {},
   "outputs": [
    {
     "name": "stdout",
     "output_type": "stream",
     "text": [
      "Adding 89 sources from /Users/caganze/research/splat//resources/Spectra/Public/MAGE/ to spectral database\n",
      "Adding 145 sources from /Users/caganze/research/splat//resources/Spectra/Public/LRIS-RED/ to spectral database\n",
      "Adding 2404 sources from /Users/caganze/research/splat//resources/Spectra/Public/SPEX-PRISM/ to spectral database\n"
     ]
    }
   ],
   "source": [
    "import numpy as np\n",
    "import splat\n",
    "import wisps.data_analysis as wispd\n",
    "from wisps.data_analysis import selection_criteria as sel_crt\n",
    "import shapey\n",
    "import matplotlib.pyplot as plt\n",
    "import pandas as pd\n",
    "import seaborn as sns\n",
    "from scipy import stats\n",
    "import wisps\n",
    "\n",
    "import matplotlib as mpl\n",
    "\n",
    "from tqdm import tqdm\n",
    "import random\n",
    "import matplotlib.pyplot as plt\n",
    "%matplotlib inline"
   ]
  },
  {
   "cell_type": "code",
   "execution_count": 2,
   "metadata": {},
   "outputs": [],
   "source": [
    "#some functions \n",
    "def get_indices(x):\n",
    "    if x is None :\n",
    "        return pd.Series({})\n",
    "    else:\n",
    "        return  pd.concat([pd.Series(x.indices), pd.Series(x.mags), pd.Series(x.snr)])\n",
    "    \n",
    "def get_spt(x):\n",
    "    if x is None:\n",
    "        return np.nan\n",
    "    else:\n",
    "        return x.spectral_type[0]\n",
    "#change f-test definition\n",
    "def f_test_fx(x, df1, df2):\n",
    "    return stats.f.cdf(x, df1, df2)\n",
    "\n",
    "def box_parameters(idx, spt_range):\n",
    "    bs=idx.shapes\n",
    "    b=[x for x in bs if x.shape_name==spt_range][0]\n",
    "    print ('{}  {} m: {} b: {} s:{}, comp : {}, cont: {}'.format(spt_range, idx,  round(b.coeffs[0], 2), round(b.coeffs[1], 2), round(b.scatter, 2), round(idx.completeness[spt_range], 2),  round(idx.contamination[spt_range], 3)))"
   ]
  },
  {
   "cell_type": "code",
   "execution_count": 3,
   "metadata": {},
   "outputs": [],
   "source": [
    "cands=pd.read_pickle(wisps.LIBRARIES+'/new_real_ucds.pkl')"
   ]
  },
  {
   "cell_type": "code",
   "execution_count": 4,
   "metadata": {},
   "outputs": [],
   "source": [
    "#use the same columns for all data sets\n",
    "alldata=wisps.get_big_file()\n",
    "spex=wisps.Annotator.reformat_table(wisps.datasets['spex'])\n",
    "\n",
    "cands['line_chi']=cands.spectra.apply(lambda x : x.line_chi)\n",
    "cands['spex_chi']=cands.spectra.apply(lambda x: x.spex_chi)\n",
    "cands['f_test']=cands.spectra.apply(lambda x: x.f_test)\n",
    "\n",
    "spex_df=wisps.Annotator.reformat_table(wisps.datasets['spex']).reset_index(drop=True)\n",
    "manj=wisps.Annotator.reformat_table(wisps.datasets['manjavacas']).reset_index(drop=True)\n",
    "schn=wisps.Annotator.reformat_table(wisps.datasets['schneider']).reset_index(drop=True)\n",
    "ydwarfs=(manj[manj['spt'].apply(wisps.make_spt_number)>38].append(schn)).reset_index(drop=True)\n",
    "spex_df['spt']=np.vstack(spex_df['spt'].values)[:,0]\n",
    "manj['spt']=np.vstack(manj['spt'].values)[:,0]\n",
    "schn['spt']=np.vstack(schn['spt'].values)[:,0]\n",
    "\n",
    "cands.grism_id=cands.grism_id.apply(lambda x: x.lower())\n",
    "\n",
    "cands['spt']=np.vstack(cands['spt'].values)\n",
    "                           "
   ]
  },
  {
   "cell_type": "code",
   "execution_count": 5,
   "metadata": {},
   "outputs": [],
   "source": [
    "#add x values \n",
    "spex['x']=spex.spex_chi/spex.line_chi\n",
    "alldata['x']=alldata.spex_chi/alldata.line_chi\n",
    "cands['x']=cands.spex_chi/cands.line_chi\n",
    "\n",
    "spex['f_test']=f_test_fx(spex.x.values, spex.dof.values-1, spex.dof.values-2)\n",
    "alldata['f_test']=f_test_fx(alldata.x.values, alldata.nG141.values-1, alldata.nG141.values-2)\n",
    "\n",
    "alldata=alldata.sort_values('x')\n",
    "spex=spex.sort_values('x')\n",
    "cands=cands.sort_values('x')"
   ]
  },
  {
   "cell_type": "code",
   "execution_count": 6,
   "metadata": {},
   "outputs": [],
   "source": [
    "alldata['datalabel']='alldata'\n",
    "spex['datalabel']='spex'\n",
    "cands['datalabel']='ucds'\n",
    "combined_ftest_df=pd.concat([cands, spex, alldata[(alldata.snr1>=3.) &  (alldata.mstar_flag !=0)]])"
   ]
  },
  {
   "cell_type": "code",
   "execution_count": 7,
   "metadata": {},
   "outputs": [],
   "source": [
    "#stats.f.cdf(.85564068, 108-1, 108+2)"
   ]
  },
  {
   "cell_type": "code",
   "execution_count": 8,
   "metadata": {},
   "outputs": [],
   "source": [
    "#list(spex[['x', 'dof']][spex.f_test.values >0.2].values)"
   ]
  },
  {
   "cell_type": "code",
   "execution_count": 9,
   "metadata": {},
   "outputs": [
    {
     "data": {
      "text/plain": [
       "0.012860483242400623"
      ]
     },
     "execution_count": 9,
     "metadata": {},
     "output_type": "execute_result"
    }
   ],
   "source": [
    "len(spex[np.logical_and(spex.f_test.values > 0.9, np.vstack(spex.spt.values)[:,0] >=17.)])/len(spex)"
   ]
  },
  {
   "cell_type": "code",
   "execution_count": 10,
   "metadata": {},
   "outputs": [
    {
     "data": {
      "text/plain": [
       "0.798908807482463"
      ]
     },
     "execution_count": 10,
     "metadata": {},
     "output_type": "execute_result"
    }
   ],
   "source": [
    "len(spex[np.logical_and(spex.f_test.values < 0.02, np.vstack(spex.spt.values)[:,0] >=17.)])/len(spex)"
   ]
  },
  {
   "cell_type": "code",
   "execution_count": 11,
   "metadata": {},
   "outputs": [
    {
     "data": {
      "text/plain": [
       "0.0"
      ]
     },
     "execution_count": 11,
     "metadata": {},
     "output_type": "execute_result"
    }
   ],
   "source": [
    "len(cands[np.logical_and(cands.f_test.values > 0.9, np.vstack(cands.spt.values)[:,0] >=17.)])/len(cands)"
   ]
  },
  {
   "cell_type": "code",
   "execution_count": 12,
   "metadata": {},
   "outputs": [
    {
     "data": {
      "text/plain": [
       "0.9878787878787879"
      ]
     },
     "execution_count": 12,
     "metadata": {},
     "output_type": "execute_result"
    }
   ],
   "source": [
    "len(cands[np.logical_and(cands.f_test.values < 0.02, np.vstack(cands.spt.values)[:,0] >=17.)])/len(cands)"
   ]
  },
  {
   "cell_type": "code",
   "execution_count": 13,
   "metadata": {},
   "outputs": [],
   "source": [
    "#star_ids=alldata[alldata['class_star'] !=0]\n",
    "#stars=wisps.Annotator.reformat_table(star_ids).reset_index(drop=True)\n",
    "#cy=stars[stars.grism_id.isin(cx.grism_id)]"
   ]
  },
  {
   "cell_type": "code",
   "execution_count": 14,
   "metadata": {},
   "outputs": [
    {
     "data": {
      "text/plain": [
       "[<matplotlib.lines.Line2D at 0x7fe149e4e190>]"
      ]
     },
     "execution_count": 14,
     "metadata": {},
     "output_type": "execute_result"
    },
    {
     "name": "stderr",
     "output_type": "stream",
     "text": [
      "findfont: Font family ['serif'] not found. Falling back to DejaVu Sans.\n"
     ]
    },
    {
     "data": {
      "image/png": "[encoded data removed]",
      "text/plain": [
       "<Figure size 432x288 with 1 Axes>"
      ]
     },
     "metadata": {
      "needs_background": "light"
     },
     "output_type": "display_data"
    }
   ],
   "source": [
    "plt.plot(cands.x[cands.x<1.], '.')"
   ]
  },
  {
   "cell_type": "code",
   "execution_count": 15,
   "metadata": {},
   "outputs": [],
   "source": [
    "dt=alldata[(alldata.f_test<0.02) &   (alldata.snr1>=3.) &  (alldata.mstar_flag !=0)].reset_index(drop=True)\n",
    "dt['spt']=(dt['spt']).apply(wisps.make_spt_number).apply(float)"
   ]
  },
  {
   "cell_type": "code",
   "execution_count": 16,
   "metadata": {},
   "outputs": [],
   "source": [
    "dt=wisps.Annotator.reformat_table(dt).reset_index(drop=True)"
   ]
  },
  {
   "cell_type": "code",
   "execution_count": 17,
   "metadata": {},
   "outputs": [
    {
     "data": {
      "text/plain": [
       "7392"
      ]
     },
     "execution_count": 17,
     "metadata": {},
     "output_type": "execute_result"
    }
   ],
   "source": [
    "len(alldata[(alldata.f_test<0.02) &   (alldata.snr1>=3.) &  (alldata.mstar_flag !=0)])"
   ]
  },
  {
   "cell_type": "code",
   "execution_count": 18,
   "metadata": {},
   "outputs": [
    {
     "data": {
      "text/plain": [
       "dict_keys(['spex', 'subd', 'manjavacas', 'schneider', 'ucd_data'])"
      ]
     },
     "execution_count": 18,
     "metadata": {},
     "output_type": "execute_result"
    }
   ],
   "source": [
    "wisps.datasets.keys()"
   ]
  },
  {
   "cell_type": "code",
   "execution_count": null,
   "metadata": {},
   "outputs": [],
   "source": [
    "s="
   ]
  },
  {
   "cell_type": "code",
   "execution_count": null,
   "metadata": {},
   "outputs": [],
   "source": []
  },
  {
   "cell_type": "code",
   "execution_count": 19,
   "metadata": {},
   "outputs": [],
   "source": [
    "#wisps.Annotator.reformat_table(wisps.datasets['subd'])"
   ]
  },
  {
   "cell_type": "code",
   "execution_count": 20,
   "metadata": {},
   "outputs": [
    {
     "name": "stderr",
     "output_type": "stream",
     "text": [
      "  0%|          | 0/120 [00:00<?, ?it/s]\n"
     ]
    },
    {
     "name": "stdout",
     "output_type": "stream",
     "text": [
      "                                   H_2O-1/J-Cont  \\\n",
      "1      (0.9877222942222559, 0.01538306258892232)   \n",
      "2      (0.9894581356361968, 0.01832897590627683)   \n",
      "5      (1.0273497666176268, 0.00894342261767974)   \n",
      "7     (0.9052853595047226, 0.014568258357838803)   \n",
      "10     (1.0592244114645273, 0.02080616240180751)   \n",
      "16     (0.9533624906313637, 0.01996922545609339)   \n",
      "17    (1.0252126850114571, 0.021812028106100907)   \n",
      "24     (0.943202883154658, 0.008261315831926738)   \n",
      "25    (0.9405917956814457, 0.008174109325398271)   \n",
      "26    (1.0187043673911578, 0.014565032404817836)   \n",
      "30     (1.009822462001476, 0.032329608991326045)   \n",
      "33    (0.9101904255736111, 0.014763478491502184)   \n",
      "37    (0.9566257384173351, 0.019736203074726632)   \n",
      "43    (1.0454034434224844, 0.012307951561224852)   \n",
      "53    (0.7287515854240871, 0.010903493203462684)   \n",
      "55     (1.055719646043543, 0.016347372655427028)   \n",
      "61     (1.010814488202124, 0.021775490864027535)   \n",
      "63     (0.9848471191125634, 0.03582997819314132)   \n",
      "68    (1.0023022590133415, 0.028971026228531496)   \n",
      "73       (1.0300510356639, 0.010651958031711836)   \n",
      "78    (1.0001602443195123, 0.004705096245298311)   \n",
      "79    (1.0026236340731765, 0.017996340539129674)   \n",
      "81    (0.9546040568847345, 0.023280888903517618)   \n",
      "82    (0.9394013125175985, 0.020290561386539254)   \n",
      "86    (1.0312100375465363, 0.007563851025951889)   \n",
      "87     (0.9788601060850141, 0.01713996620182355)   \n",
      "88      (0.961871880459711, 0.03289577304891043)   \n",
      "89    (1.0166728878747364, 0.029328523646127636)   \n",
      "90    (0.8435507802757951, 0.017416084280331173)   \n",
      "92   (0.9122912489148551, 0.0076152283508483885)   \n",
      "93    (1.0208042719878527, 0.013749324912766356)   \n",
      "94    (1.0279302819890659, 0.016280412217304516)   \n",
      "95    (1.0324806768868635, 0.007857435321737147)   \n",
      "96    (1.0381797249501221, 0.007966261807211387)   \n",
      "98    (0.9751622436125915, 0.010634661376646148)   \n",
      "99     (1.0203368748138941, 0.01431889483738494)   \n",
      "105    (1.029093103419798, 0.028999643304295653)   \n",
      "108    (1.0124446592557796, 0.01728680832606979)   \n",
      "110   (1.0463689794376738, 0.017821529834947135)   \n",
      "111    (1.036556071377674, 0.013008771119936183)   \n",
      "112   (1.0198166080401991, 0.005233039914688855)   \n",
      "\n",
      "                                  H_2O-2/H_2O-1              Names  Spts  \\\n",
      "1     (0.5833977998834897, 0.02582718825875329)  J00145014-0838231  M7.0   \n",
      "2    (0.5916451043807787, 0.018971704372354483)  J00145014-0838231  M7.0   \n",
      "5    (0.6166392722480385, 0.014160935706970794)  J00355161+3934466  M5.0   \n",
      "7    (0.5770618322464057, 0.024031007388620126)  J00412179+3547133  M8.0   \n",
      "10   (0.6632128354276045, 0.025861871487860417)  J00554279+1301043  M6.0   \n",
      "16   (0.5527962405083665, 0.024766356609904457)  J01151621+3130061  M7.0   \n",
      "17   (0.5934544111115561, 0.025601773260054042)  J01423153+0523285  M5.0   \n",
      "24   (0.5125386039808786, 0.007706602340201425)  J03060166-0330590  M7.0   \n",
      "25   (0.5544154084155517, 0.016650158199074547)  J03060166-0330590  M7.0   \n",
      "26    (0.6152200881317188, 0.01589188875838428)    J0320141+314504  M6.0   \n",
      "30    (0.5580481089092525, 0.04208272105646619)  J03335134+0014068  M7.0   \n",
      "33   (0.5016803208205249, 0.014304490270049623)  J04353580+2115092  M7.0   \n",
      "37   (0.5076772634388125, 0.026783338099472215)  J04592121+1540592  M7.0   \n",
      "43   (0.6053829969852762, 0.010970892681184074)  J07234305+0316218  M5.0   \n",
      "53   (0.4070341401518914, 0.014590874188467674)  J11582077+0435014  T0.0   \n",
      "55    (0.6805173488556495, 0.01444887179810098)  J12094860+4330054  M4.0   \n",
      "61   (0.5174476592560455, 0.019069471299688695)  J12563716-0224522  M6.0   \n",
      "63    (0.502722537300103, 0.024617120333607648)  J13121941+1731039  L1.0   \n",
      "68    (0.610520043349865, 0.013936134313429046)  J13593574+3031039  M7.0   \n",
      "73   (0.6299156529250453, 0.011442997187595476)  J15180281+2238334  M5.0   \n",
      "78   (0.5246651187473899, 0.009531565078884837)  J15291416-2907227  M6.0   \n",
      "79   (0.5458888755621637, 0.018513001193503253)  J15412408+5425598  M7.0   \n",
      "81    (0.583161717000037, 0.024479244414645045)  J15561873+1300527  M8.0   \n",
      "82   (0.4925417917324124, 0.028309776505224826)  J15590462-0356280  M7.0   \n",
      "86   (0.4341157098472259, 0.008247726000104013)  J16262034+3925190  M7.0   \n",
      "87   (0.5841457603732318, 0.019437643193920502)  J16403197+1231068  M7.0   \n",
      "88   (0.5493667860325165, 0.037605142990693896)  J16403561+2922225  M6.0   \n",
      "89    (0.6145583927700016, 0.04506430402306462)  J17330480+0041270  M6.0   \n",
      "90     (0.42200243525421, 0.015915940560496885)  J17561080+2815238  L1.0   \n",
      "92    (0.483478806087584, 0.005046533473272245)  J18261131+3014201  M7.0   \n",
      "93   (0.6365285754903929, 0.029312973446284203)  J18355309-3217129  M6.0   \n",
      "94    (0.6413351855305369, 0.02399761735157059)  J18530004-4133275  M6.0   \n",
      "95   (0.6468199738110169, 0.008244661854817916)  J19294099-4310368  M5.0   \n",
      "96     (0.683779921026073, 0.01701488541615144)  J19294099-4310368  M5.0   \n",
      "98   (0.4365901871752006, 0.016329814233359115)  J20402724+6959237  M7.0   \n",
      "99   (0.6706002684992145, 0.018094267647268705)    J2059203+175223  M6.0   \n",
      "105  (0.6467120100665147, 0.026953093598940422)    J2300152+371720  M5.0   \n",
      "108   (0.5905590723958044, 0.01685872725713088)  J23311807+4607310  M6.0   \n",
      "110  (0.6601503569379072, 0.013426217397273179)  J23324713+5102189  M4.0   \n",
      "111  (0.5402070197113102, 0.009087461306254275)  J23345156+0250419  M5.0   \n",
      "112  (0.7148838247002167, 0.005885788816412177)  J23470713+0219127  M5.0   \n",
      "\n",
      "    data_type  spt_range  \n",
      "1    subdwarf  subdwarfs  \n",
      "2    subdwarf  subdwarfs  \n",
      "5    subdwarf  subdwarfs  \n",
      "7    subdwarf  subdwarfs  \n",
      "10   subdwarf  subdwarfs  \n",
      "16   subdwarf  subdwarfs  \n",
      "17   subdwarf  subdwarfs  \n",
      "24   subdwarf  subdwarfs  \n",
      "25   subdwarf  subdwarfs  \n",
      "26   subdwarf  subdwarfs  \n",
      "30   subdwarf  subdwarfs  \n",
      "33   subdwarf  subdwarfs  \n",
      "37   subdwarf  subdwarfs  \n",
      "43   subdwarf  subdwarfs  \n",
      "53   subdwarf  subdwarfs  \n",
      "55   subdwarf  subdwarfs  \n",
      "61   subdwarf  subdwarfs  \n",
      "63   subdwarf  subdwarfs  \n",
      "68   subdwarf  subdwarfs  \n",
      "73   subdwarf  subdwarfs  \n",
      "78   subdwarf  subdwarfs  \n",
      "79   subdwarf  subdwarfs  \n",
      "81   subdwarf  subdwarfs  \n",
      "82   subdwarf  subdwarfs  \n",
      "86   subdwarf  subdwarfs  \n",
      "87   subdwarf  subdwarfs  \n",
      "88   subdwarf  subdwarfs  \n",
      "89   subdwarf  subdwarfs  \n",
      "90   subdwarf  subdwarfs  \n",
      "92   subdwarf  subdwarfs  \n",
      "93   subdwarf  subdwarfs  \n",
      "94   subdwarf  subdwarfs  \n",
      "95   subdwarf  subdwarfs  \n",
      "96   subdwarf  subdwarfs  \n",
      "98   subdwarf  subdwarfs  \n",
      "99   subdwarf  subdwarfs  \n",
      "105  subdwarf  subdwarfs  \n",
      "108  subdwarf  subdwarfs  \n",
      "110  subdwarf  subdwarfs  \n",
      "111  subdwarf  subdwarfs  \n",
      "112  subdwarf  subdwarfs  \n",
      "                                   H_2O-1/J-Cont  \\\n",
      "0     (0.9398479010983853, 0.030017500894320783)   \n",
      "1     (0.9199643191795661, 0.001772599844524275)   \n",
      "2       (0.770069045599305, 0.01085073925414998)   \n",
      "3       (1.06192416261782, 0.004782695420666368)   \n",
      "4     (0.7969892081959861, 0.005403812185232954)   \n",
      "...                                          ...   \n",
      "2488   (1.029093103419798, 0.028999643304295653)   \n",
      "2489   (1.0124446592557796, 0.01728680832606979)   \n",
      "2490  (1.0463689794376738, 0.017821529834947135)   \n",
      "2491   (1.036556071377674, 0.013008771119936183)   \n",
      "2492  (1.0198166080401991, 0.005233039914688855)   \n",
      "\n",
      "                                   H_2O-2/H_2O-1  Spts              Names  \\\n",
      "0      (0.5666923002159088, 0.06678205127064618)  19.0   11735_10002.fits   \n",
      "1      (0.7026119310817478, 0.00251190517407193)  20.0   11855_10002.fits   \n",
      "2     (0.7144925754272053, 0.013839481281851888)  24.0   10069_10003.fits   \n",
      "3     (0.6711665028035716, 0.006657676052229885)  16.0   10144_10004.fits   \n",
      "4     (0.4920549025597993, 0.007727808605829823)  21.0   11982_10005.fits   \n",
      "...                                          ...   ...                ...   \n",
      "2488  (0.6467120100665147, 0.026953093598940422)  M5.0    J2300152+371720   \n",
      "2489   (0.5905590723958044, 0.01685872725713088)  M6.0  J23311807+4607310   \n",
      "2490  (0.6601503569379072, 0.013426217397273179)  M4.0  J23324713+5102189   \n",
      "2491  (0.5402070197113102, 0.009087461306254275)  M5.0  J23345156+0250419   \n",
      "2492  (0.7148838247002167, 0.005885788816412177)  M5.0  J23470713+0219127   \n",
      "\n",
      "      data_type  spt_range  \n",
      "0     templates      M7-L0  \n",
      "1     templates      M7-L0  \n",
      "2     templates      L0-L5  \n",
      "3     templates      trash  \n",
      "4     templates      L0-L5  \n",
      "...         ...        ...  \n",
      "2488   subdwarf  subdwarfs  \n",
      "2489   subdwarf  subdwarfs  \n",
      "2490   subdwarf  subdwarfs  \n",
      "2491   subdwarf  subdwarfs  \n",
      "2492   subdwarf  subdwarfs  \n",
      "\n",
      "[2493 rows x 6 columns]\n",
      "                                                x  \\\n",
      "2        (0.770069045599305, 0.01085073925414998)   \n",
      "4      (0.7969892081959861, 0.005403812185232954)   \n",
      "13    (0.8021996085206511, 0.0034645353959408495)   \n",
      "14      (0.8811299968608983, 0.01971145256287043)   \n",
      "17     (0.8611305878676826, 0.011449635880424408)   \n",
      "...                                           ...   \n",
      "2390   (0.7670413881271279, 0.003733009963935319)   \n",
      "2394    (0.8774132617332854, 0.01168325871834928)   \n",
      "2417   (0.7895667412158439, 0.010213066908332754)   \n",
      "2423   (0.7618057342320459, 0.002725371032894318)   \n",
      "2446   (0.8567920004765579, 0.002066634388678683)   \n",
      "\n",
      "                                                y  \n",
      "2      (0.7144925754272053, 0.013839481281851888)  \n",
      "4      (0.4920549025597993, 0.007727808605829823)  \n",
      "13      (0.706825596419068, 0.004595723397194179)  \n",
      "14     (0.6844573228869237, 0.024947318585486072)  \n",
      "17     (0.6401133814919124, 0.014496247872041807)  \n",
      "...                                           ...  \n",
      "2390  (0.5515937572383076, 0.0057603046925959285)  \n",
      "2394    (0.7524858995253216, 0.01537223229577552)  \n",
      "2417    (0.703041252207142, 0.008945092383606836)  \n",
      "2423  (0.5865947734988448, 0.0056846281672074195)  \n",
      "2446  (0.6122910246690552, 0.0034128340535080344)  \n",
      "\n",
      "[677 rows x 2 columns]\n"
     ]
    },
    {
     "ename": "AttributeError",
     "evalue": "'tuple' object has no attribute 'dtype'",
     "output_type": "error",
     "traceback": [
      "\u001b[0;31m---------------------------------------------------------------------\u001b[0m",
      "\u001b[0;31mAttributeError\u001b[0m                      Traceback (most recent call last)",
      "\u001b[0;32m<ipython-input-20-cacdf6cdcf69>\u001b[0m in \u001b[0;36m<module>\u001b[0;34m\u001b[0m\n\u001b[1;32m      1\u001b[0m \u001b[0;31m#get criteria\u001b[0m\u001b[0;34m\u001b[0m\u001b[0;34m\u001b[0m\u001b[0;34m\u001b[0m\u001b[0m\n\u001b[1;32m      2\u001b[0m \u001b[0;31m##only run this if new data\u001b[0m\u001b[0;34m\u001b[0m\u001b[0;34m\u001b[0m\u001b[0;34m\u001b[0m\u001b[0m\n\u001b[0;32m----> 3\u001b[0;31m \u001b[0mgbhio\u001b[0m\u001b[0;34m=\u001b[0m\u001b[0msel_crt\u001b[0m\u001b[0;34m.\u001b[0m\u001b[0msave_criteria\u001b[0m\u001b[0;34m(\u001b[0m\u001b[0mconts\u001b[0m\u001b[0;34m=\u001b[0m\u001b[0mdt\u001b[0m\u001b[0;34m)\u001b[0m\u001b[0;34m\u001b[0m\u001b[0;34m\u001b[0m\u001b[0m\n\u001b[0m\u001b[1;32m      4\u001b[0m \u001b[0mcrts\u001b[0m\u001b[0;34m=\u001b[0m\u001b[0msel_crt\u001b[0m\u001b[0;34m.\u001b[0m\u001b[0mcrts_from_file\u001b[0m\u001b[0;34m(\u001b[0m\u001b[0;34m)\u001b[0m\u001b[0;34m\u001b[0m\u001b[0;34m\u001b[0m\u001b[0m\n\u001b[1;32m      5\u001b[0m \u001b[0mcontamns\u001b[0m\u001b[0;34m=\u001b[0m\u001b[0mpd\u001b[0m\u001b[0;34m.\u001b[0m\u001b[0mDataFrame\u001b[0m\u001b[0;34m(\u001b[0m\u001b[0;34m[\u001b[0m \u001b[0mx\u001b[0m\u001b[0;34m.\u001b[0m\u001b[0mcontamination\u001b[0m \u001b[0;32mfor\u001b[0m \u001b[0mx\u001b[0m \u001b[0;32min\u001b[0m \u001b[0mcrts\u001b[0m\u001b[0;34m.\u001b[0m\u001b[0mvalues\u001b[0m\u001b[0;34m(\u001b[0m\u001b[0;34m)\u001b[0m\u001b[0;34m]\u001b[0m\u001b[0;34m)\u001b[0m\u001b[0;34m\u001b[0m\u001b[0;34m\u001b[0m\u001b[0m\n",
      "\u001b[0;32m~/research/wisps/wisps/data_analysis/selection_criteria.py\u001b[0m in \u001b[0;36msave_criteria\u001b[0;34m(**kwargs)\u001b[0m\n\u001b[1;32m    548\u001b[0m         \u001b[0;31m#print (tpl_ids[[x_key, y_key, 'Names', 'Spts']])\u001b[0m\u001b[0;34m\u001b[0m\u001b[0;34m\u001b[0m\u001b[0;34m\u001b[0m\u001b[0m\n\u001b[1;32m    549\u001b[0m         \u001b[0midspace\u001b[0m\u001b[0;34m.\u001b[0m\u001b[0msubdwarfs\u001b[0m\u001b[0;34m=\u001b[0m\u001b[0mall_sds\u001b[0m\u001b[0;34m[\u001b[0m\u001b[0;34m[\u001b[0m\u001b[0mx_key\u001b[0m\u001b[0;34m,\u001b[0m \u001b[0my_key\u001b[0m\u001b[0;34m,\u001b[0m \u001b[0;34m'Names'\u001b[0m\u001b[0;34m,\u001b[0m \u001b[0;34m'Spts'\u001b[0m\u001b[0;34m]\u001b[0m\u001b[0;34m]\u001b[0m\u001b[0;34m\u001b[0m\u001b[0;34m\u001b[0m\u001b[0m\n\u001b[0;32m--> 550\u001b[0;31m         \u001b[0midspace\u001b[0m\u001b[0;34m.\u001b[0m\u001b[0mtemplates\u001b[0m\u001b[0;34m=\u001b[0m\u001b[0mtpl_ids\u001b[0m\u001b[0;34m[\u001b[0m\u001b[0;34m[\u001b[0m\u001b[0mx_key\u001b[0m\u001b[0;34m,\u001b[0m \u001b[0my_key\u001b[0m\u001b[0;34m,\u001b[0m \u001b[0;34m'Names'\u001b[0m\u001b[0;34m,\u001b[0m \u001b[0;34m'Spts'\u001b[0m\u001b[0;34m]\u001b[0m\u001b[0;34m]\u001b[0m\u001b[0;34m\u001b[0m\u001b[0;34m\u001b[0m\u001b[0m\n\u001b[0m\u001b[1;32m    551\u001b[0m         \u001b[0;31m#idspace._spex_sample=tpl_ids\u001b[0m\u001b[0;34m\u001b[0m\u001b[0;34m\u001b[0m\u001b[0;34m\u001b[0m\u001b[0m\n\u001b[1;32m    552\u001b[0m         \u001b[0;31m#annotated_df=Annotator.group_by_spt(tpl_ids)\u001b[0m\u001b[0;34m\u001b[0m\u001b[0;34m\u001b[0m\u001b[0;34m\u001b[0m\u001b[0m\n",
      "\u001b[0;32m~/research/wisps/wisps/data_analysis/selection_criteria.py\u001b[0m in \u001b[0;36mtemplates\u001b[0;34m(self, new_data)\u001b[0m\n\u001b[1;32m    165\u001b[0m         \u001b[0mprint\u001b[0m \u001b[0;34m(\u001b[0m\u001b[0mannotated_df\u001b[0m\u001b[0;34m)\u001b[0m\u001b[0;34m\u001b[0m\u001b[0;34m\u001b[0m\u001b[0m\n\u001b[1;32m    166\u001b[0m \u001b[0;34m\u001b[0m\u001b[0m\n\u001b[0;32m--> 167\u001b[0;31m         \u001b[0mself\u001b[0m\u001b[0;34m.\u001b[0m\u001b[0m_calc_completeness\u001b[0m\u001b[0;34m(\u001b[0m\u001b[0mannotated_df\u001b[0m\u001b[0;34m)\u001b[0m\u001b[0;34m\u001b[0m\u001b[0;34m\u001b[0m\u001b[0m\n\u001b[0m\u001b[1;32m    168\u001b[0m \u001b[0;34m\u001b[0m\u001b[0m\n\u001b[1;32m    169\u001b[0m     \u001b[0;31m#@classmethod\u001b[0m\u001b[0;34m\u001b[0m\u001b[0;34m\u001b[0m\u001b[0;34m\u001b[0m\u001b[0m\n",
      "\u001b[0;32m~/research/wisps/wisps/data_analysis/selection_criteria.py\u001b[0m in \u001b[0;36m_calc_completeness\u001b[0;34m(self, annotated_df)\u001b[0m\n\u001b[1;32m    220\u001b[0m                 \u001b[0mto_use\u001b[0m\u001b[0;34m=\u001b[0m\u001b[0mdf\u001b[0m\u001b[0;34m[\u001b[0m\u001b[0;34m[\u001b[0m\u001b[0mself\u001b[0m\u001b[0;34m.\u001b[0m\u001b[0mxkey\u001b[0m\u001b[0;34m,\u001b[0m \u001b[0mself\u001b[0m\u001b[0;34m.\u001b[0m\u001b[0mykey\u001b[0m\u001b[0;34m]\u001b[0m\u001b[0;34m]\u001b[0m\u001b[0;34m\u001b[0m\u001b[0;34m\u001b[0m\u001b[0m\n\u001b[1;32m    221\u001b[0m                 \u001b[0mto_use\u001b[0m\u001b[0;34m.\u001b[0m\u001b[0mcolumns\u001b[0m\u001b[0;34m=\u001b[0m\u001b[0;34m[\u001b[0m\u001b[0;34m'x'\u001b[0m\u001b[0;34m,\u001b[0m \u001b[0;34m'y'\u001b[0m\u001b[0;34m]\u001b[0m\u001b[0;34m\u001b[0m\u001b[0;34m\u001b[0m\u001b[0m\n\u001b[0;32m--> 222\u001b[0;31m                 \u001b[0mself\u001b[0m\u001b[0;34m.\u001b[0m\u001b[0madd_box\u001b[0m\u001b[0;34m(\u001b[0m\u001b[0mto_use\u001b[0m\u001b[0;34m,\u001b[0m \u001b[0mname\u001b[0m\u001b[0;34m,\u001b[0m \u001b[0;34m'#0074D9'\u001b[0m\u001b[0;34m,\u001b[0m \u001b[0;36m5.\u001b[0m\u001b[0;34m,\u001b[0m \u001b[0mxshift\u001b[0m\u001b[0;34m=\u001b[0m\u001b[0;36m0.3\u001b[0m\u001b[0;34m)\u001b[0m\u001b[0;34m\u001b[0m\u001b[0;34m\u001b[0m\u001b[0m\n\u001b[0m\u001b[1;32m    223\u001b[0m \u001b[0;34m\u001b[0m\u001b[0m\n\u001b[1;32m    224\u001b[0m \u001b[0;34m\u001b[0m\u001b[0m\n",
      "\u001b[0;32m~/research/wisps/wisps/data_analysis/selection_criteria.py\u001b[0m in \u001b[0;36madd_box\u001b[0;34m(self, df, name, color, coeff, xshift)\u001b[0m\n\u001b[1;32m    198\u001b[0m         \u001b[0mbox\u001b[0m\u001b[0;34m.\u001b[0m\u001b[0mxshift\u001b[0m\u001b[0;34m=\u001b[0m\u001b[0mxshift\u001b[0m\u001b[0;34m\u001b[0m\u001b[0;34m\u001b[0m\u001b[0m\n\u001b[1;32m    199\u001b[0m         \u001b[0;31m#print (ddf.values.T, name)\u001b[0m\u001b[0;34m\u001b[0m\u001b[0;34m\u001b[0m\u001b[0;34m\u001b[0m\u001b[0m\n\u001b[0;32m--> 200\u001b[0;31m         \u001b[0mbox\u001b[0m\u001b[0;34m.\u001b[0m\u001b[0mdata\u001b[0m\u001b[0;34m=\u001b[0m\u001b[0mnp\u001b[0m\u001b[0;34m.\u001b[0m\u001b[0marray\u001b[0m\u001b[0;34m(\u001b[0m\u001b[0mddf\u001b[0m\u001b[0;34m.\u001b[0m\u001b[0mvalues\u001b[0m\u001b[0;34m.\u001b[0m\u001b[0mT\u001b[0m\u001b[0;34m)\u001b[0m\u001b[0;34m\u001b[0m\u001b[0;34m\u001b[0m\u001b[0m\n\u001b[0m\u001b[1;32m    201\u001b[0m         \u001b[0;31m#add this to the existing\u001b[0m\u001b[0;34m\u001b[0m\u001b[0;34m\u001b[0m\u001b[0;34m\u001b[0m\u001b[0m\n\u001b[1;32m    202\u001b[0m         \u001b[0mself\u001b[0m\u001b[0;34m.\u001b[0m\u001b[0m_shapes\u001b[0m\u001b[0;34m.\u001b[0m\u001b[0mappend\u001b[0m\u001b[0;34m(\u001b[0m\u001b[0mbox\u001b[0m\u001b[0;34m)\u001b[0m\u001b[0;34m\u001b[0m\u001b[0;34m\u001b[0m\u001b[0m\n",
      "\u001b[0;32m~/research/shapey/shapey/core.py\u001b[0m in \u001b[0;36mdata\u001b[0;34m(self, input)\u001b[0m\n\u001b[1;32m    315\u001b[0m                                 \u001b[0;32mif\u001b[0m \u001b[0minput\u001b[0m\u001b[0;34m.\u001b[0m\u001b[0mshape\u001b[0m\u001b[0;34m[\u001b[0m\u001b[0;36m0\u001b[0m\u001b[0;34m]\u001b[0m \u001b[0;34m==\u001b[0m\u001b[0;36m2\u001b[0m\u001b[0;34m:\u001b[0m\u001b[0;34m\u001b[0m\u001b[0;34m\u001b[0m\u001b[0m\n\u001b[1;32m    316\u001b[0m                                         \u001b[0mxerr\u001b[0m\u001b[0;34m=\u001b[0m\u001b[0mnp\u001b[0m\u001b[0;34m.\u001b[0m\u001b[0mzeros\u001b[0m\u001b[0;34m(\u001b[0m\u001b[0mlen\u001b[0m\u001b[0;34m(\u001b[0m\u001b[0mx\u001b[0m\u001b[0;34m)\u001b[0m\u001b[0;34m)\u001b[0m \u001b[0;31m#i don't use this much\u001b[0m\u001b[0;34m\u001b[0m\u001b[0;34m\u001b[0m\u001b[0m\n\u001b[0;32m--> 317\u001b[0;31m                                         \u001b[0mmu\u001b[0m\u001b[0;34m=\u001b[0m\u001b[0mnp\u001b[0m\u001b[0;34m.\u001b[0m\u001b[0mnanmean\u001b[0m\u001b[0;34m(\u001b[0m\u001b[0my\u001b[0m\u001b[0;34m)\u001b[0m\u001b[0;34m\u001b[0m\u001b[0;34m\u001b[0m\u001b[0m\n\u001b[0m\u001b[1;32m    318\u001b[0m                                         \u001b[0msigma\u001b[0m\u001b[0;34m=\u001b[0m\u001b[0mnp\u001b[0m\u001b[0;34m.\u001b[0m\u001b[0mnanstd\u001b[0m\u001b[0;34m(\u001b[0m\u001b[0my\u001b[0m\u001b[0;34m)\u001b[0m\u001b[0;34m\u001b[0m\u001b[0;34m\u001b[0m\u001b[0m\n\u001b[1;32m    319\u001b[0m                                         \u001b[0myerr\u001b[0m\u001b[0;34m=\u001b[0m \u001b[0mnp\u001b[0m\u001b[0;34m.\u001b[0m\u001b[0mrandom\u001b[0m\u001b[0;34m.\u001b[0m\u001b[0mnormal\u001b[0m\u001b[0;34m(\u001b[0m\u001b[0mmu\u001b[0m\u001b[0;34m,\u001b[0m \u001b[0msigma\u001b[0m\u001b[0;34m,\u001b[0m \u001b[0mlen\u001b[0m\u001b[0;34m(\u001b[0m\u001b[0my\u001b[0m\u001b[0;34m)\u001b[0m\u001b[0;34m)\u001b[0m\u001b[0;34m\u001b[0m\u001b[0;34m\u001b[0m\u001b[0m\n",
      "\u001b[0;32m<__array_function__ internals>\u001b[0m in \u001b[0;36mnanmean\u001b[0;34m(*args, **kwargs)\u001b[0m\n",
      "\u001b[0;32m/opt/anaconda3/lib/python3.8/site-packages/numpy/lib/nanfunctions.py\u001b[0m in \u001b[0;36mnanmean\u001b[0;34m(a, axis, dtype, out, keepdims)\u001b[0m\n\u001b[1;32m    948\u001b[0m     \u001b[0mcnt\u001b[0m \u001b[0;34m=\u001b[0m \u001b[0mnp\u001b[0m\u001b[0;34m.\u001b[0m\u001b[0msum\u001b[0m\u001b[0;34m(\u001b[0m\u001b[0;34m~\u001b[0m\u001b[0mmask\u001b[0m\u001b[0;34m,\u001b[0m \u001b[0maxis\u001b[0m\u001b[0;34m=\u001b[0m\u001b[0maxis\u001b[0m\u001b[0;34m,\u001b[0m \u001b[0mdtype\u001b[0m\u001b[0;34m=\u001b[0m\u001b[0mnp\u001b[0m\u001b[0;34m.\u001b[0m\u001b[0mintp\u001b[0m\u001b[0;34m,\u001b[0m \u001b[0mkeepdims\u001b[0m\u001b[0;34m=\u001b[0m\u001b[0mkeepdims\u001b[0m\u001b[0;34m)\u001b[0m\u001b[0;34m\u001b[0m\u001b[0;34m\u001b[0m\u001b[0m\n\u001b[1;32m    949\u001b[0m     \u001b[0mtot\u001b[0m \u001b[0;34m=\u001b[0m \u001b[0mnp\u001b[0m\u001b[0;34m.\u001b[0m\u001b[0msum\u001b[0m\u001b[0;34m(\u001b[0m\u001b[0marr\u001b[0m\u001b[0;34m,\u001b[0m \u001b[0maxis\u001b[0m\u001b[0;34m=\u001b[0m\u001b[0maxis\u001b[0m\u001b[0;34m,\u001b[0m \u001b[0mdtype\u001b[0m\u001b[0;34m=\u001b[0m\u001b[0mdtype\u001b[0m\u001b[0;34m,\u001b[0m \u001b[0mout\u001b[0m\u001b[0;34m=\u001b[0m\u001b[0mout\u001b[0m\u001b[0;34m,\u001b[0m \u001b[0mkeepdims\u001b[0m\u001b[0;34m=\u001b[0m\u001b[0mkeepdims\u001b[0m\u001b[0;34m)\u001b[0m\u001b[0;34m\u001b[0m\u001b[0;34m\u001b[0m\u001b[0m\n\u001b[0;32m--> 950\u001b[0;31m     \u001b[0mavg\u001b[0m \u001b[0;34m=\u001b[0m \u001b[0m_divide_by_count\u001b[0m\u001b[0;34m(\u001b[0m\u001b[0mtot\u001b[0m\u001b[0;34m,\u001b[0m \u001b[0mcnt\u001b[0m\u001b[0;34m,\u001b[0m \u001b[0mout\u001b[0m\u001b[0;34m=\u001b[0m\u001b[0mout\u001b[0m\u001b[0;34m)\u001b[0m\u001b[0;34m\u001b[0m\u001b[0;34m\u001b[0m\u001b[0m\n\u001b[0m\u001b[1;32m    951\u001b[0m \u001b[0;34m\u001b[0m\u001b[0m\n\u001b[1;32m    952\u001b[0m     \u001b[0misbad\u001b[0m \u001b[0;34m=\u001b[0m \u001b[0;34m(\u001b[0m\u001b[0mcnt\u001b[0m \u001b[0;34m==\u001b[0m \u001b[0;36m0\u001b[0m\u001b[0;34m)\u001b[0m\u001b[0;34m\u001b[0m\u001b[0;34m\u001b[0m\u001b[0m\n",
      "\u001b[0;32m/opt/anaconda3/lib/python3.8/site-packages/numpy/lib/nanfunctions.py\u001b[0m in \u001b[0;36m_divide_by_count\u001b[0;34m(a, b, out)\u001b[0m\n\u001b[1;32m    215\u001b[0m         \u001b[0;32melse\u001b[0m\u001b[0;34m:\u001b[0m\u001b[0;34m\u001b[0m\u001b[0;34m\u001b[0m\u001b[0m\n\u001b[1;32m    216\u001b[0m             \u001b[0;32mif\u001b[0m \u001b[0mout\u001b[0m \u001b[0;32mis\u001b[0m \u001b[0;32mNone\u001b[0m\u001b[0;34m:\u001b[0m\u001b[0;34m\u001b[0m\u001b[0;34m\u001b[0m\u001b[0m\n\u001b[0;32m--> 217\u001b[0;31m                 \u001b[0;32mreturn\u001b[0m \u001b[0ma\u001b[0m\u001b[0;34m.\u001b[0m\u001b[0mdtype\u001b[0m\u001b[0;34m.\u001b[0m\u001b[0mtype\u001b[0m\u001b[0;34m(\u001b[0m\u001b[0ma\u001b[0m \u001b[0;34m/\u001b[0m \u001b[0mb\u001b[0m\u001b[0;34m)\u001b[0m\u001b[0;34m\u001b[0m\u001b[0;34m\u001b[0m\u001b[0m\n\u001b[0m\u001b[1;32m    218\u001b[0m             \u001b[0;32melse\u001b[0m\u001b[0;34m:\u001b[0m\u001b[0;34m\u001b[0m\u001b[0;34m\u001b[0m\u001b[0m\n\u001b[1;32m    219\u001b[0m                 \u001b[0;31m# This is questionable, but currently a numpy scalar can\u001b[0m\u001b[0;34m\u001b[0m\u001b[0;34m\u001b[0m\u001b[0;34m\u001b[0m\u001b[0m\n",
      "\u001b[0;31mAttributeError\u001b[0m: 'tuple' object has no attribute 'dtype'"
     ]
    }
   ],
   "source": [
    "#get criteria \n",
    "##only run this if new data\n",
    "gbhio=sel_crt.save_criteria(conts=dt)\n",
    "crts=sel_crt.crts_from_file()\n",
    "contamns=pd.DataFrame([ x.contamination for x in crts.values()])\n",
    "compls=pd.DataFrame([ x.completeness for x in crts.values()])\n",
    "\n",
    "contamns.index=[x for x in crts.keys()]\n",
    "compls.index=[x for x in crts.keys()]"
   ]
  },
  {
   "cell_type": "code",
   "execution_count": null,
   "metadata": {},
   "outputs": [],
   "source": [
    "%%capture\n",
    "'''\n",
    "contamns.style.apply(lambda x: [\"background-color: #7FDBFF\" \n",
    "                          if (i >= 0 and (v < 0.1 \n",
    "                                          and v > 0. )) \n",
    "                          else \"\" for i, v in enumerate(x)], axis = 1)\n",
    "'''"
   ]
  },
  {
   "cell_type": "code",
   "execution_count": null,
   "metadata": {},
   "outputs": [],
   "source": [
    "def get_toplowest_contam(subtype, n):\n",
    "    top=contamns.sort_values('L5-T0')[:n]\n",
    "    return {subtype: [x  for x in top.index]}"
   ]
  },
  {
   "cell_type": "code",
   "execution_count": null,
   "metadata": {},
   "outputs": [],
   "source": [
    "ordered={}\n",
    "for k in ['M7-L0', 'L0-L5', 'L5-T0', 'T0-T5', 'T5-T9', 'Y dwarfs', 'subdwarfs']:\n",
    "    ordered.update(get_toplowest_contam(k, 6))"
   ]
  },
  {
   "cell_type": "code",
   "execution_count": null,
   "metadata": {},
   "outputs": [],
   "source": [
    "to_use= ordered\n"
   ]
  },
  {
   "cell_type": "code",
   "execution_count": null,
   "metadata": {},
   "outputs": [],
   "source": [
    "spex['spt']=np.vstack(spex.spt.values)[:,0]"
   ]
  },
  {
   "cell_type": "code",
   "execution_count": null,
   "metadata": {},
   "outputs": [],
   "source": [
    "from tqdm import tqdm"
   ]
  },
  {
   "cell_type": "code",
   "execution_count": null,
   "metadata": {},
   "outputs": [],
   "source": [
    "def multiplte_indices_selection(k):\n",
    "    stat_dict={}\n",
    "    indices= [crts[index_name] for index_name in to_use[k]]\n",
    "    #make selections for each index separately\n",
    "    cand_bools=[]\n",
    "    spex_bools=[]\n",
    "    trash_bools=[]\n",
    "    for idx in indices:\n",
    "        xkey=idx.xkey\n",
    "        ykey=idx.ykey\n",
    "        bx=[x for x in idx.shapes if x.shape_name==k][0]\n",
    "        _, cbools=bx._select(np.array([cands[xkey].values,cands[ykey].values]))\n",
    "        _, spbools=bx._select(np.array([spex[xkey].values,spex[ykey].values]))\n",
    "        _, trbools=bx._select(np.array([dt[xkey].values, dt[ykey].values]))\n",
    "        \n",
    "        cand_bools.append(cbools)\n",
    "        spex_bools.append(spbools)\n",
    "        trash_bools.append(trbools)\n",
    "        \n",
    "    cands_in_that_class_bool=cands.spt.apply(lambda x: wisps.is_in_that_classification(x, k))\n",
    "    spex_in_that_class_bool=spex.spt.apply(lambda x: wisps.is_in_that_classification(x, k))\n",
    "\n",
    "    cand_bools.append(cands_in_that_class_bool)\n",
    "    spex_bools.append(spex_in_that_class_bool)\n",
    "    \n",
    "    cands_selected=cands[np.logical_and.reduce(cand_bools, axis=0)]\n",
    "    spexs_selected=spex[np.logical_and.reduce(spex_bools, axis=0)]\n",
    "    \n",
    "    print (' {} selected {} out of {} UCDS'.format(k, len( cands_selected), len(cands[cands_in_that_class_bool])))\n",
    "    print ('overall completeness {}'.format( len(spexs_selected)/len(spex[spex_in_that_class_bool])))\n",
    "    print ('total contaminants {}'.format(len(dt[np.logical_and.reduce(trash_bools)])))\n",
    "    print ('-------------------------------------------')"
   ]
  },
  {
   "cell_type": "code",
   "execution_count": null,
   "metadata": {},
   "outputs": [],
   "source": [
    "#for k in ['M7-L0', 'L0-L5', 'L5-T0', 'T0-T5', 'T5-T9', 'Y dwarfs']:\n",
    "#    multiplte_indices_selection(k)"
   ]
  },
  {
   "cell_type": "code",
   "execution_count": null,
   "metadata": {},
   "outputs": [],
   "source": [
    "contamns.idxmin(axis=0)"
   ]
  },
  {
   "cell_type": "code",
   "execution_count": null,
   "metadata": {},
   "outputs": [],
   "source": [
    "from collections import OrderedDict\n",
    "ordered=[(k, contamns.idxmin(axis=0)[k]) for k in ['M7-L0', 'L0-L5', 'L5-T0', 'T0-T5', 'T5-T9', 'Y dwarfs', 'subdwarfs']]\n",
    "to_use=  [ (y, x) for x, y in ordered]"
   ]
  },
  {
   "cell_type": "code",
   "execution_count": null,
   "metadata": {},
   "outputs": [],
   "source": [
    "to_use"
   ]
  },
  {
   "cell_type": "code",
   "execution_count": null,
   "metadata": {},
   "outputs": [],
   "source": [
    "import pickle\n",
    "#save the random forest\n",
    "output_file=wisps.OUTPUT_FILES+'/best_indices_to_use.pkl'\n",
    "with open(output_file, 'wb') as file:\n",
    "    pickle.dump(to_use,file)"
   ]
  },
  {
   "cell_type": "code",
   "execution_count": null,
   "metadata": {},
   "outputs": [],
   "source": [
    "fp={}"
   ]
  },
  {
   "cell_type": "code",
   "execution_count": null,
   "metadata": {},
   "outputs": [],
   "source": [
    "cands=cands[cands.grism_id.isin(dt.grism_id)]"
   ]
  },
  {
   "cell_type": "code",
   "execution_count": null,
   "metadata": {},
   "outputs": [],
   "source": [
    "def plot_index_box(index_name, box_name, ax):\n",
    "    \n",
    "    #get the index and the box\n",
    "    idx=crts[index_name]\n",
    "    bx=[x for x in idx.shapes if x.shape_name==box_name][0]\n",
    "    \n",
    "    xkey=idx.xkey\n",
    "    ykey=idx.ykey\n",
    "\n",
    "    to_use_df=spex_df\n",
    "    if box_name.lower()=='y dwarfs':\n",
    "        to_use_df=ydwarfs\n",
    "    if box_name.lower()=='subdwarfs':\n",
    "        to_use_df=wisps.Annotator.reformat_table(idx.subdwarfs)\n",
    "        to_use_df['spt']=17\n",
    "        \n",
    "    xlim=[ bx.xrange[0]-.5*abs(np.ptp(bx.xrange)), bx.xrange[1]+.5*abs(np.ptp(bx.xrange))]\n",
    "    ylim=[ bx.yrange[0]-.5*abs(np.ptp(bx.yrange)), bx.yrange[1]+.5*abs(np.ptp(bx.yrange))]\n",
    "    \n",
    "    if box_name.upper()=='T5-T9':\n",
    "        print ('changin scale')\n",
    "        print (bx.xrange[1])\n",
    "        xlim=[ bx.xrange[0]-0.2*abs(np.ptp(bx.xrange)), np.round(bx.xrange[1]+0.2*abs(np.ptp(bx.xrange)))]\n",
    "\n",
    "    \n",
    "    #remove nans from background\n",
    "    bckgrd= dt[[xkey, ykey]].replace(-np.inf, np.nan).replace(np.inf, np.nan).dropna()\n",
    "   # ax.scatter(bckgrd[xkey], bckgrd[ykey], s=1, c='#111111', label='Background')\n",
    "    \n",
    "    bckgrd=bckgrd[(bckgrd[xkey].between(xlim[0], xlim[1])) & (bckgrd[ykey].between(ylim[0], ylim[1]))]\n",
    "\n",
    "    h=ax.hist2d(bckgrd[xkey].apply(float).values, bckgrd[ykey].apply(float).values, \\\n",
    "                cmap='gist_yarg', vmin=50, vmax=1000)\n",
    "    \n",
    "    cands_slctd, cands_bools=bx._select(np.array([cands[xkey].values,cands[ykey].values]))\n",
    "   \n",
    "    trash_slctd, trsh_bools=bx._select(np.array([dt[xkey].values, dt[ykey].values]))\n",
    "    \n",
    "    #simul_slctd, simul_bools=bx._select(np.array([simulated_data[xkey].values, simulated_data[ykey].values]))\n",
    "    \n",
    "    print (len(cands_slctd[0]), len((cands)))\n",
    "    cands_in_that_class_bool=(cands).spt.apply(lambda x: wisps.is_in_that_classification(x, box_name))\n",
    "    \n",
    "    spexs_slctd_in_that_class_bool= (to_use_df).spt.apply(lambda x: wisps.is_in_that_classification(x, box_name))\n",
    "    \n",
    "    #simulated_in_that_class_bool=(simulated_data[simul_bools]).spt.apply(lambda x: wisps.is_in_that_classification(x, box_name))\n",
    "    \n",
    "    if box_name.lower()=='subdwarfs':\n",
    "         spexs_slctd_in_that_class_bool=np.ones(len(to_use_df), dtype=bool)\n",
    "    \n",
    "    \n",
    "   \n",
    "    \n",
    "    cands_in_that_class=np.array([cands_slctd[0], \\\n",
    "                                  cands_slctd[1]])\n",
    "    \n",
    "    #simulated_in_that_class= np.array([simul_slctd[0][simulated_in_that_class_bool], simul_slctd[1][simulated_in_that_class_bool]])\n",
    "    \n",
    "    spexs_slctd_in_that_class=np.array([to_use_df[xkey][spexs_slctd_in_that_class_bool], to_use_df[ykey][spexs_slctd_in_that_class_bool]])\n",
    "    \n",
    "\n",
    "    #ax.scatter( simulated_in_that_class[0],    simulated_in_that_class[1], facecolors='none', s=10, \n",
    "    #           edgecolors='#001f3f', label='simulated')\n",
    "    \n",
    "    ax.scatter(spexs_slctd_in_that_class[0], spexs_slctd_in_that_class[1],  facecolors='none',\\\n",
    "               edgecolors='#0074D9',  label='Templates', s=50.)\n",
    "\n",
    "    #ax.scatter(cands[xkey], cands[ykey], marker='x', facecolors='#FF851B', s=40., alpha=0.5)\n",
    "    \n",
    "    \n",
    "    ax.scatter( cands_in_that_class[0],    cands_in_that_class[1], marker ='+',  s=150., alpha=1.,\n",
    "               facecolors='#FF851B', label='Discovered UCDs')\n",
    "    ax.scatter(cands[xkey].values, cands[ykey].values, marker='+',  s=150., alpha=0.3,\n",
    "               facecolors='#FF851B')\n",
    "    \n",
    "    \n",
    "    bx.color='None'\n",
    "    bx.alpha=1.\n",
    "    bx.linewidth=3\n",
    "    bx.linestyle='-'\n",
    "    bx.edgecolor='#0074D9'\n",
    "    bx.plot(ax=ax, only_shape=True, highlight=False)\n",
    "    \n",
    "    #cb = plt.colorbar(h[3], ax=ax, orientation='horizontal')\n",
    "    #cb.set_label('Counts in bin', fontsize=16)\n",
    "    \n",
    "    plt.tight_layout()\n",
    "    \n",
    "    ax.set_xlabel(r'$'+str(idx.name.split(' ')[0])+'$', fontsize=14)\n",
    "    ax.set_ylabel(r'$'+str(idx.name.split(' ')[1])+'$', fontsize=14)\n",
    "    \n",
    "    ax.set_title(box_name, fontsize=18)\n",
    "    \n",
    "    xbuffer=np.nanstd(to_use_df[[xkey,ykey]])\n",
    "    \n",
    "   \n",
    "    \n",
    "    ax.minorticks_on()\n",
    "    \n",
    "\n",
    "    if (trash_slctd.shape[1])==0:\n",
    "        fprate=0.0\n",
    "    else:\n",
    "        fprate=(trash_slctd.shape[1]- cands_slctd.shape[1])/trash_slctd.shape[1]\n",
    "        if box_name.lower()=='subdwarfs':\n",
    "                fprate=1.\n",
    "    \n",
    "    fp[box_name]=  fprate\n",
    "    \n",
    "        \n",
    "    ax.set_xlim(xlim)\n",
    "    ax.set_ylim(ylim)\n",
    "    \n",
    "    plt.tight_layout()\n",
    "    print (' {} selected {}'.format(box_name, len(bx.select( bckgrd))))\n",
    "    \n",
    "    return {str(box_name): bx}\n",
    "    \n",
    "    "
   ]
  },
  {
   "cell_type": "code",
   "execution_count": null,
   "metadata": {},
   "outputs": [],
   "source": [
    "to_use"
   ]
  },
  {
   "cell_type": "raw",
   "metadata": {},
   "source": [
    "cands"
   ]
  },
  {
   "cell_type": "code",
   "execution_count": null,
   "metadata": {},
   "outputs": [],
   "source": []
  },
  {
   "cell_type": "code",
   "execution_count": null,
   "metadata": {},
   "outputs": [],
   "source": [
    "idx=crts[to_use[1][0]]"
   ]
  },
  {
   "cell_type": "code",
   "execution_count": null,
   "metadata": {},
   "outputs": [],
   "source": [
    "import matplotlib"
   ]
  },
  {
   "cell_type": "code",
   "execution_count": null,
   "metadata": {},
   "outputs": [],
   "source": [
    "fig, ax=plt.subplots(nrows=3, ncols=3, figsize=(12, 14))\n",
    "\n",
    "bxs=[]\n",
    "for idx, k in enumerate(to_use):\n",
    "    print (idx, k)\n",
    "    b=plot_index_box( k[0], k[1], np.concatenate(ax)[idx])\n",
    "    bxs.append(b)\n",
    "\n",
    "\n",
    "\n",
    "plt.tight_layout()\n",
    "\n",
    "cax = fig.add_axes([0.5, 0.1, .3, 0.03])\n",
    "norm= matplotlib.colors.Normalize(vmin=50,vmax=1000)\n",
    "mp=matplotlib.cm.ScalarMappable(norm=norm, cmap='gist_yarg')# vmin=10, vmax=5000)\n",
    "cbar=plt.colorbar(mp, cax=cax, orientation='horizontal')\n",
    "cbar.ax.set_xlabel(r'Number of Contaminants', fontsize=18)\n",
    "\n",
    "\n",
    "fig.delaxes(np.concatenate(ax)[-1])\n",
    "fig.delaxes(np.concatenate(ax)[-2])\n",
    "\n",
    "\n",
    "\n",
    "np.concatenate(ax)[-4].set_title(r'$\\geq$ T9 ', fontsize=18)\n",
    "#subdindx_index_crt=crts['H_2O-1/J-Cont H_2O-2/H_2O-1']\n",
    "#subdrfs=wisps.Annotator.reformat_table(dummy_index_crt.subdwarfs)\n",
    "#tpls=wisps.Annotator.reformat_table(spex_df[spex_df.metallicity_class.isna()])\n",
    "#a=np.concatenate(ax)[-1]\n",
    "#tpls=tpls[tpls.spt>16]\n",
    "\n",
    "#a.scatter(dt[subdindx_index_crt.xkey], dt[subdindx_index_crt.ykey], s=1., c='#111111', alpha=0.1)\n",
    "#a.scatter(tpls[subdindx_index_crt.xkey], tpls[subdindx_index_crt.ykey], marker='+', facecolors='#0074D9',  label='SpeX', s=5.)\n",
    "#a.scatter(subdrfs[subdindx_index_crt.xkey], subdrfs[subdindx_index_crt.ykey], marker='+', facecolors='#2ECC40',  label='SpeX', s=30.)\n",
    "\n",
    "\n",
    "#a.set_xlim([0., 1.35])\n",
    "#a.set_ylim([0., 1.25])\n",
    "#a.set_title('subdwarfs', fontsize=18)\n",
    "#a.set_xlabel(r'$'+str(subdindx_index_crt.name.split(' ')[0])+'$', fontsize=15)\n",
    "#a.set_ylabel(r'$'+str(subdindx_index_crt.name.split(' ')[1])+'$', fontsize=15)\n",
    "\n",
    "np.concatenate(ax)[-3].legend(loc='center left', bbox_to_anchor=(1, 0.5))\n",
    "\n",
    "plt.savefig(wisps.OUTPUT_FIGURES+'/index_index_plots.pdf', \n",
    "            bbox_inches='tight', rasterized=True,  dpi=150)"
   ]
  },
  {
   "cell_type": "code",
   "execution_count": null,
   "metadata": {},
   "outputs": [],
   "source": []
  },
  {
   "cell_type": "code",
   "execution_count": null,
   "metadata": {},
   "outputs": [],
   "source": [
    "#.grism_id.to_csv('/users/caganze/desktop/true_brown_dwarfs.csv')"
   ]
  },
  {
   "cell_type": "code",
   "execution_count": null,
   "metadata": {},
   "outputs": [],
   "source": [
    "bx_dict={}\n",
    "for b in bxs:\n",
    "    bx_dict.update(b)"
   ]
  },
  {
   "cell_type": "code",
   "execution_count": null,
   "metadata": {},
   "outputs": [],
   "source": [
    "#invert to use\n",
    "inv_to_use = {v: k for k, v in to_use}"
   ]
  },
  {
   "cell_type": "code",
   "execution_count": null,
   "metadata": {},
   "outputs": [],
   "source": [
    "ncandidates=[]\n",
    "for spt_range in bx_dict.keys():\n",
    "    idx_name=inv_to_use[spt_range]\n",
    "    idx=crts[idx_name]\n",
    "    s, bools=(bx_dict[spt_range])._select(np.array([dt[idx.xkey].values, dt[idx.ykey].values]))\n",
    "    ncandidates.append(dt[bools])"
   ]
  },
  {
   "cell_type": "code",
   "execution_count": null,
   "metadata": {},
   "outputs": [],
   "source": [
    "candsss=(pd.concat(ncandidates).drop_duplicates(subset='grism_id'))\n",
    "cands.grism_id=cands.grism_id.apply(lambda x: x.lower().strip())\n",
    "good_indices=[crts[x] for x in inv_to_use.values()]"
   ]
  },
  {
   "cell_type": "code",
   "execution_count": null,
   "metadata": {},
   "outputs": [],
   "source": [
    "len(candsss), len(candsss[candsss.grism_id.isin(cands.grism_id.apply(lambda x: x.lower().strip())) & (candsss.spt.apply(wisps.make_spt_number)>16)])"
   ]
  },
  {
   "cell_type": "code",
   "execution_count": null,
   "metadata": {},
   "outputs": [],
   "source": [
    "len(candsss.drop_duplicates('grism_id'))/len(alldata)"
   ]
  },
  {
   "cell_type": "code",
   "execution_count": null,
   "metadata": {},
   "outputs": [],
   "source": [
    "len(candsss[candsss.grism_id.isin(cands.grism_id) & (candsss.spt.apply(wisps.make_spt_number).between(35, 40))])"
   ]
  },
  {
   "cell_type": "code",
   "execution_count": null,
   "metadata": {},
   "outputs": [],
   "source": [
    "len(candsss), len(dt), len(alldata[alldata.mstar_flag !=0])"
   ]
  },
  {
   "cell_type": "code",
   "execution_count": null,
   "metadata": {},
   "outputs": [],
   "source": [
    "len(dt)/len(alldata)"
   ]
  },
  {
   "cell_type": "code",
   "execution_count": null,
   "metadata": {},
   "outputs": [],
   "source": [
    "candsss.to_pickle(wisps.OUTPUT_FILES+'/selected_by_indices.pkl')"
   ]
  },
  {
   "cell_type": "code",
   "execution_count": null,
   "metadata": {},
   "outputs": [],
   "source": [
    "#print out table\n",
    "def round_tuple(tpl, n=2):\n",
    "    return round(tpl[0], n), round(tpl[1],n)\n",
    "\n",
    "for index, k in to_use:\n",
    "    spt_range=k\n",
    "    sindex=crts[index]\n",
    "    bs=sindex.shapes\n",
    "    bs=[x for x in bs if x.shape_name==spt_range]\n",
    "\n",
    "    bx=bs[0]\n",
    "    \n",
    "    print (\" {} & {} &  {} & {} & {} & {} & {} & {} & {}  & {} \\\\\\ \".format(spt_range,sindex.xkey, sindex.ykey, \n",
    "                                                                           round_tuple(bx.vertices[0]), round_tuple(bx.vertices[1])\n",
    "                                                                          , round_tuple(bx.vertices[2]), round_tuple(bx.vertices[3]),\n",
    "                                                                          round(sindex.completeness[spt_range], 2), \n",
    "                                                                            round(sindex.contamination[spt_range], 7),\n",
    "                                                                           round(fp[spt_range],6)))\n",
    "    "
   ]
  },
  {
   "cell_type": "code",
   "execution_count": null,
   "metadata": {},
   "outputs": [],
   "source": [
    "len(candsss)"
   ]
  },
  {
   "cell_type": "code",
   "execution_count": null,
   "metadata": {},
   "outputs": [],
   "source": [
    "#ghjk"
   ]
  },
  {
   "cell_type": "code",
   "execution_count": null,
   "metadata": {},
   "outputs": [],
   "source": [
    "stars= alldata[alldata.mstar_flag !=0]"
   ]
  },
  {
   "cell_type": "code",
   "execution_count": null,
   "metadata": {},
   "outputs": [],
   "source": [
    "cands_dff=(cands[np.logical_and(cands['snr1'] >=3., cands['spt'] >=17)]).sort_values('spt')\n",
    "spex_df=spex_df.sort_values('spt')\n",
    "\n",
    "star_snr=stars[['snr1', 'snr2', 'snr3', 'snr4']].apply(np.log10).dropna()\n",
    "star_snr=(star_snr[star_snr.snr1.between(-1, 4) & star_snr.snr3.between(-1, 4) & star_snr.snr4.between(-1, 4)]).reset_index(drop=True)\n",
    "\n",
    "\n",
    "fig, (ax, ax1)=plt.subplots(ncols=2, figsize=(12, 6))\n",
    "\n",
    "h=ax.hist2d(star_snr['snr1'], star_snr['snr3'], cmap='gist_yarg', bins=10, label='Point Sources')\n",
    "#ax.scatter(star_snr['snr1'], star_snr['snr3'], c='#111111', s=1, alpha=0.1)\n",
    "cb = plt.colorbar(h[3], ax=ax, orientation='horizontal')\n",
    "cb.set_label('Counts in bin', fontsize=16)\n",
    "plt.tight_layout()\n",
    "\n",
    "#ax.scatter(star_snr['snr1'],  star_snr['snr4'], s=1., c='k', alpha=0.1, \n",
    "#            label='3D-HST or WISP')\n",
    "\n",
    "\n",
    "ax.scatter(spex_df['snr1'].apply(np.log10), spex_df['snr3'].apply(np.log10),\n",
    "            s=10, c=spex_df.spt, \n",
    "            cmap='coolwarm',  marker='o', alpha=0.1, vmin=15, vmax=40) \n",
    "ax.scatter(spex_df['snr1'].apply(np.log10)[0], spex_df['snr3'].apply(np.log10)[0],\n",
    "            s=10, c=spex_df.spt[0], \n",
    "            cmap='coolwarm', label='Templates', marker='o', alpha=1., vmin=15, vmax=40) \n",
    "ax.scatter(cands_dff['snr1'].apply(np.log10), cands_dff['snr3'].apply(np.log10), \n",
    "           c=cands_dff['spt'], s=40,  marker='*', cmap='coolwarm', label='UCDs'\n",
    "           , vmin=15, vmax=40) \n",
    "ax.set_xlim([-0.5, 4])\n",
    "ax.set_ylim([-0.5, 4])\n",
    "ax.set_xlabel('Log J-SNR', fontsize=18)\n",
    "ax.set_ylabel('Log H-SNR', fontsize=18)\n",
    "ax.legend(fontsize=18, loc='upper left')\n",
    "\n",
    "ax.axhline(np.log10(3), c='k', xmin=np.log10(3)-0.2, linestyle='--')\n",
    "ax.axvline(np.log10(3), c='k', ymin=np.log10(3)-0.2, linestyle='--')\n",
    "\n",
    "\n",
    "\n",
    "#ax1.scatter(stars['snr1'].apply(np.log10), stars['snr4'].apply(np.log10), s=1., c='k', alpha=0.1, \n",
    "#            label='3D-HST or WISP')\n",
    "#ax1.scatter(star_snr['snr1'], star_snr['snr4'], c='#111111', s=1, alpha=0.1)\n",
    "h1=ax1.hist2d(star_snr['snr1'], star_snr['snr4'], cmap='gist_yarg', bins=10, label='Point Sources')\n",
    "\n",
    "mp=ax1.scatter(spex_df['snr1'].apply(np.log10), spex_df['snr4'].apply(np.log10), s=10, c=spex_df.spt, \n",
    "            cmap='coolwarm', label='Templates',  marker='o', alpha=0.1, vmin=15, vmax=40)\n",
    "\n",
    "ax1.scatter(cands_dff['snr1'].apply(np.log10), cands_dff['snr4'].apply(np.log10), \n",
    "                       c=cands_dff['spt'], s=40, marker='*', cmap='coolwarm', label='UCDs',  vmin=15, vmax=40) \n",
    "ax1.set_xlim([-0.5, 4])\n",
    "ax1.set_ylim([-0.5, 4])\n",
    "ax1.set_xlabel(' Log J-SNR', fontsize=18)\n",
    "ax1.set_ylabel('Log MEDIAN-SNR', fontsize=18)\n",
    "#ax.legend(fontsize=18)\n",
    "\n",
    "ax1.axhline(np.log10(3), c='k', xmin=np.log10(3)-0.2, linestyle='--')\n",
    "ax1.axvline(np.log10(3), c='k', ymin=np.log10(3)-0.2, linestyle='--')\n",
    "\n",
    "cb1 = plt.colorbar(h1[3], ax=ax1, orientation='horizontal')\n",
    "cb1.set_label('Counts in bin', fontsize=16)\n",
    "#plt.tight_layout()\n",
    "import matplotlib\n",
    "cax = fig.add_axes([1.01, 0.21, .03, 0.7])\n",
    "norm= matplotlib.colors.Normalize(vmin=15,vmax=40)\n",
    "mp=matplotlib.cm.ScalarMappable(norm=norm, cmap='coolwarm')\n",
    "cbar=plt.colorbar(mp, cax=cax, orientation='vertical')\n",
    "cbar.ax.set_ylabel(r'Spectral Type', fontsize=18)\n",
    "\n",
    "ax.minorticks_on()\n",
    "ax1.minorticks_on()\n",
    "\n",
    "cbar.ax.set_yticks([ 17, 20, 25, 30, 35, 40])\n",
    "cbar.ax.set_yticklabels(['M5', 'L0', 'L5', 'T0', 'T5', 'Y0'])\n",
    "plt.tight_layout()\n",
    "\n",
    "plt.savefig(wisps.OUTPUT_FIGURES+'/snr_cutplots.pdf', \\\n",
    "            bbox_inches='tight',rasterized=True,  dpi=100)"
   ]
  },
  {
   "cell_type": "code",
   "execution_count": null,
   "metadata": {},
   "outputs": [],
   "source": [
    "#import wisps"
   ]
  },
  {
   "cell_type": "code",
   "execution_count": null,
   "metadata": {},
   "outputs": [],
   "source": [
    "big=wisps.get_big_file()\n",
    "bigsnr=big[big.snr1>=3.]"
   ]
  },
  {
   "cell_type": "code",
   "execution_count": null,
   "metadata": {},
   "outputs": [],
   "source": [
    "#"
   ]
  },
  {
   "cell_type": "code",
   "execution_count": null,
   "metadata": {},
   "outputs": [],
   "source": [
    "fig, ax=plt.subplots(figsize=(10, 6))\n",
    "h=ax.hist(big.snr1.apply(np.log10).values, range=[-3, 4], bins=32, histtype='step',  linestyle=':', \n",
    "          label='All', log=True, linewidth=3)\n",
    "h=ax.hist(stars.snr1.apply(np.log10).values, range=[-3, 4], bins=32, histtype='step', linewidth=3, label='Point Sources',\n",
    "          linestyle='--', log=True)\n",
    "h=ax.hist(stars[stars.snr1>3].snr1.apply(np.log10).values, range=[-3, 4], bins=32, histtype='step', linewidth=3,\n",
    "          label='Selected',\n",
    "          log=True)\n",
    "#h=ax.hist(bigsnr.snr1.apply(np.log10).values, range=[-3, 4], bins=32, histtype='step', linewidth=3, log=True)\n",
    "ax.minorticks_on()\n",
    "plt.xlabel('Log SNR')\n",
    "plt.ylabel('Number')\n",
    "plt.legend()\n",
    "plt.savefig(wisps.OUTPUT_FIGURES+'/snr_distribution.pdf', bbox_inches='tight',  facecolor='white', transparent=False)"
   ]
  },
  {
   "cell_type": "code",
   "execution_count": null,
   "metadata": {},
   "outputs": [],
   "source": [
    "#s3=wisps.Source(filename='goodss-01-G141_47749')\n",
    "#s4=wisps.Source(filename='goodss-01-G141_45524')"
   ]
  },
  {
   "cell_type": "code",
   "execution_count": null,
   "metadata": {},
   "outputs": [],
   "source": [
    "bools=np.logical_and(stars.snr1.between(3, 1000), stars.f_test.between(1e-3, 1))"
   ]
  },
  {
   "cell_type": "code",
   "execution_count": null,
   "metadata": {},
   "outputs": [],
   "source": [
    "#s4._best_fit_line"
   ]
  },
  {
   "cell_type": "markdown",
   "metadata": {},
   "source": [
    "fig, ax=plt.subplots(figsize=(8, 8))\n",
    "plt.plot(s4.wave, s4.flux, color='#111111', label='Flux')\n",
    "plt.plot(s4.wave, s4.noise,  '#39CCCC', label='Noise')\n",
    "std=splat.getStandard(s4.spectral_type[0])\n",
    "std.normalize(range=[1.2, 1.5])\n",
    "chi, scale=splat.compareSpectra(s4.splat_spectrum, std,  comprange=[[1.2, 1.5]], statistic='chisqr', scale=True) \n",
    "std.scale(scale)\n",
    "plt.plot(std.wave, std.flux, color='y', label='Best fit template')\n",
    "plt.plot( s4._best_fit_line[0], color='#FF4136', label='Best fit line')\n",
    "plt.xlim([1.1, 1.7])\n",
    "plt.ylim([0, 0.1])\n",
    "plt.xlabel('Wavelength (micron)')\n",
    "plt.ylabel('Normalized Flux')\n",
    "plt.legend()\n",
    "plt.savefig(wisps.OUTPUT_FIGURES+'/example_line_fit.pdf', bbox_inches='tight',  facecolor='white', transparent=False)"
   ]
  },
  {
   "cell_type": "code",
   "execution_count": null,
   "metadata": {},
   "outputs": [],
   "source": [
    "compls.keys()"
   ]
  },
  {
   "cell_type": "code",
   "execution_count": null,
   "metadata": {},
   "outputs": [],
   "source": [
    "fig, ax=plt.subplots(figsize=(8,6))\n",
    "\n",
    "#for k in  ['L0-L5', 'L5-T0', 'M7-L0', 'T0-T5', 'T5-T9','subdwarfs']:\n",
    "ax.scatter(compls['M7-L0'].values, contamns['M7-L0'].values,  facecolors='none', edgecolors='#0074D9', \n",
    "           label='M7-L0')\n",
    "ax.scatter(compls['L0-L5'].values, contamns['L0-L5'].values, marker='^',  facecolors='none',\\\n",
    "           edgecolors='#FF851B', label='L0-L5')\n",
    "\n",
    "ax.scatter(compls['L5-T0'].values, contamns['L5-T0'].values, marker='s',  facecolors='none',\n",
    "           edgecolors='#2ECC40', label='L5-T0')\n",
    "\n",
    "ax.scatter(compls['T0-T5'].values, contamns['T0-T5'].values, marker='$...$',  facecolors='none', \n",
    "           edgecolors='#FF4136',\n",
    "           label='T0-T5')\n",
    "ax.scatter(compls['T5-T9'].values, contamns['T5-T9'].values, marker='X',  facecolors='none',\n",
    "           edgecolors='#111111',\n",
    "           label='T5-T9')\n",
    "    #h=plt.hist(contams[k].values,  bins='auto', histtype='step',\n",
    "    #      label='All', log=True, linewidth=3)\n",
    "ax.set_xlabel('Completeness')\n",
    "ax.set_ylabel('Contamination')\n",
    "plt.legend()\n",
    "ax.set_yscale('log')\n",
    "plt.savefig(wisps.OUTPUT_FIGURES+'/completeness_contam.pdf', bbox_inches='tight',  facecolor='white', transparent=False)"
   ]
  },
  {
   "cell_type": "code",
   "execution_count": null,
   "metadata": {},
   "outputs": [],
   "source": [
    "compl_contam_table=pd.DataFrame(columns=contamns.columns, index=contamns.index)"
   ]
  },
  {
   "cell_type": "code",
   "execution_count": null,
   "metadata": {},
   "outputs": [],
   "source": [
    "for k in compl_contam_table.columns:\n",
    "    for idx in compl_contam_table.index:\n",
    "        compl_contam_table.loc[idx, k]=(round(compls.loc[idx, k], 2), \\\n",
    "                                        round(contamns.loc[idx, k], 3))\n",
    "                                        "
   ]
  },
  {
   "cell_type": "code",
   "execution_count": null,
   "metadata": {},
   "outputs": [],
   "source": [
    "(compl_contam_table[['M7-L0', 'L0-L5', 'T0-T5',\\\n",
    "                    'T5-T9', 'Y dwarfs', 'subdwarfs']]).to_latex()"
   ]
  },
  {
   "cell_type": "code",
   "execution_count": 21,
   "metadata": {},
   "outputs": [],
   "source": [
    "s=wisps.Source(filename='goodss-11-g141_39408')"
   ]
  },
  {
   "cell_type": "code",
   "execution_count": 33,
   "metadata": {},
   "outputs": [
    {
     "data": {
      "text/plain": [
       "[(-1.0, 30.0)]"
      ]
     },
     "execution_count": 33,
     "metadata": {},
     "output_type": "execute_result"
    },
    {
     "data": {
      "image/png": "[encoded data removed]",
      "text/plain": [
       "<Figure size 432x288 with 1 Axes>"
      ]
     },
     "metadata": {
      "needs_background": "light"
     },
     "output_type": "display_data"
    }
   ],
   "source": [
    "fig, ax=plt.subplots()\n",
    "mask=np.logical_and(s.wave >1.1, s.wave<1.7)\n",
    "plt.plot(s.wave[mask], s.flux[mask])\n",
    "ax.set(ylim=[-1., 30.])"
   ]
  },
  {
   "cell_type": "code",
   "execution_count": null,
   "metadata": {},
   "outputs": [],
   "source": []
  }
 ],
 "metadata": {
  "kernelspec": {
   "display_name": "Python 3",
   "language": "python",
   "name": "python3"
  },
  "language_info": {
   "codemirror_mode": {
    "name": "ipython",
    "version": 3
   },
   "file_extension": ".py",
   "mimetype": "text/x-python",
   "name": "python",
   "nbconvert_exporter": "python",
   "pygments_lexer": "ipython3",
   "version": "3.8.5"
  }
 },
 "nbformat": 4,
 "nbformat_minor": 4
}
