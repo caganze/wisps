{
 "cells": [
  {
   "cell_type": "code",
   "execution_count": 2,
   "metadata": {},
   "outputs": [],
   "source": [
    "import splat\n",
    "import wisps\n",
    "import matplotlib.pyplot as plt\n",
    "from wisps.data_analysis import selection_criteria as sel_crt\n",
    "\n",
    "import numpy as np\n",
    "import pandas as pd\n",
    "\n",
    "import numba\n",
    "import matplotlib as mpl\n",
    "mpl.rcParams['font.size'] = 18\n",
    "\n",
    "from itertools import combinations\n",
    "#%%capture  output\n",
    "import itertools\n",
    "from tqdm import tqdm\n",
    "\n",
    "\n",
    "import seaborn as sns \n",
    "cmap=sns.light_palette((260, 75, 60), input=\"husl\", as_cmap=True)\n",
    "from tensorflow import keras\n",
    "\n",
    "from scipy import stats"
   ]
  },
  {
   "cell_type": "code",
   "execution_count": 3,
   "metadata": {},
   "outputs": [],
   "source": [
    "ucds=pd.read_pickle('~/research/wisps/libraries/real_ucds.pkl')\n",
    "#selection objects \n",
    "rfdict=pd.read_pickle(wisps.OUTPUT_FILES+'/random_forest_classifier.pkl') #the classifier \n",
    "indices_to_use= pd.read_pickle(wisps.OUTPUT_FILES+'/best_indices_to_use.pkl')\n",
    "neural_network= keras.models.load_model(wisps.OUTPUT_FILES+'/deep_model_september23.h5')\n",
    "#neural_network= keras.models.load_model(wisps.OUTPUT_FILES+'/conv_model_withspt_snr_september17.h5')"
   ]
  },
  {
   "cell_type": "code",
   "execution_count": 4,
   "metadata": {},
   "outputs": [],
   "source": [
    "import wisps.data_analysis.selection_criteria as sel_crt\n",
    "indices_to_use= pd.read_pickle(wisps.OUTPUT_FILES+'/best_indices_to_use.pkl')\n",
    "slc_crts=sel_crt.crts_from_file()"
   ]
  },
  {
   "cell_type": "code",
   "execution_count": 5,
   "metadata": {},
   "outputs": [],
   "source": [
    "big=wisps.get_big_file()"
   ]
  },
  {
   "cell_type": "code",
   "execution_count": 6,
   "metadata": {},
   "outputs": [],
   "source": [
    "#define a number of selectors \n",
    "#each selection should a column of zeros and ones corresponding\n",
    "#to where objects were selected\n",
    "#each selector input is the simulated df\n",
    "def f_test_fx(x, df1, df2):\n",
    "    return stats.f.cdf(x, df1, df2)\n",
    "\n",
    "def select_by_indices(df, idx, spt_range):\n",
    "    print(spt_range)\n",
    "    bs=idx.shapes\n",
    "    bx=[x for x in bs if x.shape_name==spt_range][0]\n",
    "    _, bools= bx._select(np.array([df[idx.xkey].values, df[idx.ykey].values]))\n",
    "    return bools\n",
    "        \n",
    "\n",
    "def apply_scale(x):\n",
    "    ##remove nans \n",
    "    ##this is the same scaling used \n",
    "    ## same scaling used for \n",
    "    #replace nans\n",
    "    y=x\n",
    "    if np.isnan(y) or np.isinf(y) or abs(y) > 1e10:\n",
    "        y=-99\n",
    "    return y\n",
    "\n",
    "\n",
    "def select_by_random_forest(df):\n",
    "    #use the classification given by my rf classifier\n",
    "    \n",
    "    rf=rfdict['classifier']\n",
    "    #min_max_scaler=rfdict['sclr']\n",
    "    features=rfdict['feats']\n",
    "    \n",
    "    #apply logs to problematic features the same way I did on my classification\n",
    "    pred_df=df.copy()\n",
    "    \n",
    "    for c in features:\n",
    "        if c not in ['spt', 'f_test', 'x']:\n",
    "            pred_df.assign(c=np.log10(pred_df[c].apply(apply_scale)))\n",
    "        else:\n",
    "            pred_df.assign(c=pred_df[c].apply(apply_scale))\n",
    "            \n",
    "    pred_df[features]=pred_df[features].applymap(apply_scale)\n",
    "    #make predictions\n",
    "    probs=rf.predict_proba(pred_df[features].values)\n",
    "    \n",
    "    #use my selection probability cutoffs\n",
    "    #return the predictions\n",
    "    \n",
    "    labels=np.logical_or.reduce((probs[:, 2] > .8, probs[:,3] >.8 , probs[:,4] >0.8))\n",
    " \n",
    "    return labels\n",
    "\n",
    "\n",
    "\n",
    "def select_by_neuralnet(df):\n",
    "    #define features (start with indices alone)\n",
    "    #apply logs to problematic features the same way I did on my classification\n",
    "    features=rfdict['feats']\n",
    "    \n",
    "    pred_df=df.copy()\n",
    "    \n",
    "    for c in features:\n",
    "        if c not in ['spt']:\n",
    "            pred_df.assign(c=np.log10(pred_df[c].apply(apply_scale)))\n",
    "        else:\n",
    "            pred_df.assign(c=pred_df[c].apply(apply_scale))\n",
    "            \n",
    "    pred_df[features]=pred_df[features].applymap(apply_scale)\n",
    "    #probs= neural_network.predict(  pred_df[features].values)\n",
    "    #need to reshape\n",
    "    #probs=neural_network.predict(  pred_df[features].values.reshape(-1, len(features), 1))\n",
    "    \n",
    "    #my cuts\n",
    "    #labels=np.logical_or.reduce((probs[:, 2] > .7, probs[:,3] >.5 , probs[:,4] >0.5))\n",
    "    #labels=probs[:,0] <0.5\n",
    "    labels=neural_network.predict_classes(  pred_df[features].values.reshape(-1, len(features), 1))\n",
    " \n",
    "    return labels\n",
    "\n"
   ]
  },
  {
   "cell_type": "code",
   "execution_count": 7,
   "metadata": {},
   "outputs": [],
   "source": [
    "ucds['x']=ucds.spectra.apply(lambda x: x.spex_chi/x.line_chi)\n",
    "ucds['line_chi']=ucds.spectra.apply(lambda x: x.line_chi)\n",
    "ucds['spex_chi']=ucds.spectra.apply(lambda x: x.spex_chi)\n",
    "ucds['f_test']=ucds.spectra.apply(lambda x: x.f_test)"
   ]
  },
  {
   "cell_type": "code",
   "execution_count": 8,
   "metadata": {},
   "outputs": [],
   "source": [
    "#ucds.columns"
   ]
  },
  {
   "cell_type": "code",
   "execution_count": 9,
   "metadata": {},
   "outputs": [],
   "source": [
    "#ucds['x']="
   ]
  },
  {
   "cell_type": "code",
   "execution_count": 10,
   "metadata": {},
   "outputs": [],
   "source": [
    "ls=select_by_neuralnet(ucds)"
   ]
  },
  {
   "cell_type": "code",
   "execution_count": 11,
   "metadata": {},
   "outputs": [
    {
     "data": {
      "text/plain": [
       "array([2, 2, 2, 2, 2, 2, 2, 2, 2, 1, 1, 2, 1, 2, 2, 2, 2, 2, 2, 2, 2, 2,\n",
       "       2, 2, 2, 2, 2, 2, 2, 2, 2, 2, 2, 2, 2, 2, 1, 2, 2, 2, 2, 2, 2, 2,\n",
       "       2, 2, 2, 1, 2, 2, 2, 2, 2, 2, 1, 1, 2, 2, 2, 2, 2, 2, 2, 1, 2, 2,\n",
       "       2, 2, 1, 2, 2, 2, 2, 2, 2, 2, 1, 2, 2, 2, 2, 2, 2, 1, 2, 2, 2, 2,\n",
       "       2, 2, 2, 2, 2, 1, 2, 2, 2, 2, 2, 1, 2, 2, 2, 2, 2, 2, 2, 1, 2, 2,\n",
       "       2, 2, 2, 2, 2, 2, 2, 2, 2, 2, 1, 2, 1, 2, 1, 2, 2, 2, 2, 2, 2, 1,\n",
       "       2, 2, 1, 2, 2, 2, 2, 0, 2, 2, 2, 2, 2, 2, 2, 2, 2, 2, 2, 2, 2, 2,\n",
       "       2, 2, 1, 2, 0, 2, 2, 2, 2, 2, 2, 2, 2, 2, 2, 2, 2, 2, 2, 2, 2, 2,\n",
       "       2, 2, 2, 2, 2, 2, 2, 2, 2, 2, 2, 2, 2, 2, 3, 3, 3, 3, 3, 3, 3, 0,\n",
       "       3, 3, 3, 3, 3, 3, 3, 3, 3, 3, 3, 3, 3, 3, 3, 3, 3, 3, 3, 3, 3, 3,\n",
       "       4, 4, 4, 4, 4, 4, 4, 4, 4, 4, 4])"
      ]
     },
     "execution_count": 11,
     "metadata": {},
     "output_type": "execute_result"
    }
   ],
   "source": [
    "ls"
   ]
  },
  {
   "cell_type": "code",
   "execution_count": 12,
   "metadata": {},
   "outputs": [
    {
     "data": {
      "text/plain": [
       "208"
      ]
     },
     "execution_count": 12,
     "metadata": {},
     "output_type": "execute_result"
    }
   ],
   "source": [
    "len(ucds[ls>=2])"
   ]
  },
  {
   "cell_type": "code",
   "execution_count": 13,
   "metadata": {},
   "outputs": [],
   "source": [
    "lp=select_by_neuralnet(big)"
   ]
  },
  {
   "cell_type": "code",
   "execution_count": 14,
   "metadata": {},
   "outputs": [
    {
     "data": {
      "text/plain": [
       "1761"
      ]
     },
     "execution_count": 14,
     "metadata": {},
     "output_type": "execute_result"
    }
   ],
   "source": [
    "len(big[np.logical_and(big.snr1>=3, lp>=2)])-129"
   ]
  },
  {
   "cell_type": "code",
   "execution_count": 15,
   "metadata": {},
   "outputs": [
    {
     "name": "stdout",
     "output_type": "stream",
     "text": [
      "M7-L0\n",
      "L0-L5\n",
      "L5-T0\n",
      "T0-T5\n",
      "T5-T9\n",
      "Y dwarfs\n",
      "subdwarfs\n",
      "L0-L5\n",
      "selected by rf 21\n",
      "selected by NN 0\n",
      "selected by indices 16\n",
      "selected by rf and indices 16\n",
      "selected by NOT rf and indices 0\n",
      "selected by rf and NOT indices 5\n",
      "selected by NN and indices 0\n",
      "selected by NOT NN and indices 16\n",
      "selected by NN and NOT indices 0\n",
      "---------------------------------------------------------------- \n",
      "L5-T0\n",
      "selected by rf 9\n",
      "selected by NN 0\n",
      "selected by indices 8\n",
      "selected by rf and indices 8\n",
      "selected by NOT rf and indices 0\n",
      "selected by rf and NOT indices 1\n",
      "selected by NN and indices 0\n",
      "selected by NOT NN and indices 8\n",
      "selected by NN and NOT indices 0\n",
      "---------------------------------------------------------------- \n",
      "M7-L0\n",
      "selected by rf 116\n",
      "selected by NN 5\n",
      "selected by indices 175\n",
      "selected by rf and indices 104\n",
      "selected by NOT rf and indices 71\n",
      "selected by rf and NOT indices 12\n",
      "selected by NN and indices 5\n",
      "selected by NOT NN and indices 170\n",
      "selected by NN and NOT indices 0\n",
      "---------------------------------------------------------------- \n",
      "T0-T5\n",
      "selected by rf 5\n",
      "selected by NN 0\n",
      "selected by indices 3\n",
      "selected by rf and indices 3\n",
      "selected by NOT rf and indices 0\n",
      "selected by rf and NOT indices 2\n",
      "selected by NN and indices 0\n",
      "selected by NOT NN and indices 3\n",
      "selected by NN and NOT indices 0\n",
      "---------------------------------------------------------------- \n",
      "T5-T9\n",
      "selected by rf 3\n",
      "selected by NN 0\n",
      "selected by indices 3\n",
      "selected by rf and indices 3\n",
      "selected by NOT rf and indices 0\n",
      "selected by rf and NOT indices 0\n",
      "selected by NN and indices 0\n",
      "selected by NOT NN and indices 3\n",
      "selected by NN and NOT indices 0\n",
      "---------------------------------------------------------------- \n"
     ]
    }
   ],
   "source": [
    "\n",
    "\n",
    "rfselection=pd.read_csv(wisps.OUTPUT_FILES+'/selected_by_rf.csv')\n",
    "#nnres=pd.read_pickle(wisps.OUTPUT_FILES+'/deep_neural_net_classifier_results.pkl')\n",
    "\n",
    "#rfselection.shape\n",
    "\n",
    "#nnsel= pd.concat(nnres['selected'])\n",
    "\n",
    "nnselection =pd.DataFrame()\n",
    "\n",
    "nnselection['grism_id']=ucds.grism_id[ls]\n",
    "#nnselection=nnselection.drop_duplicates('grism_id')\n",
    "\n",
    "\n",
    "\n",
    "labelled=wisps.Annotator.group_by_spt(ucds, spt_label='spt', assign_number=False)\n",
    "\n",
    "for idxk, k in indices_to_use:\n",
    "    idx=slc_crts[idxk]\n",
    "    labelled['selected_by_{}'.format(k)]= select_by_indices(labelled, idx, k)\n",
    "\n",
    "labelled['index_label']=np.logical_or.reduce([labelled['selected_by_{}'.format(x)].values \n",
    "                                              for x in  np.vstack(indices_to_use)[:,1]])\n",
    "\n",
    "#add labels for index selection\n",
    "labelled['selected_by_rf']=labelled.grism_id.str.lower().isin(rfselection.grism_id.str.lower())\n",
    "labelled['selected_by_nn']=labelled.grism_id.str.lower().isin(nnselection.grism_id.str.lower())\n",
    "for g in labelled.groupby('spt_range'):\n",
    "    df0=g[1]\n",
    "    print ('{}'.format(g[0]))\n",
    "    print ('selected by rf {}'.format(len(df0[df0.selected_by_rf])))\n",
    "    print ('selected by NN {}'.format(len(df0[df0.selected_by_nn])))\n",
    "    print ('selected by indices {}'.format(len(df0[df0.index_label])))\n",
    "    print ('selected by rf and indices {}'.format(len(df0[np.logical_and(df0.index_label,df0.selected_by_rf) ])))\n",
    "    print ('selected by NOT rf and indices {}'.format(len(df0[np.logical_and(df0.index_label,~df0.selected_by_rf) ])))\n",
    "    print ('selected by rf and NOT indices {}'.format(len(df0[np.logical_and(~df0.index_label,df0.selected_by_rf) ])))\n",
    "    print ('selected by NN and indices {}'.format(len(df0[np.logical_and(df0.index_label,df0.selected_by_nn) ])))\n",
    "    print ('selected by NOT NN and indices {}'.format(len(df0[np.logical_and(df0.index_label,~df0.selected_by_nn) ])))\n",
    "    print ('selected by NN and NOT indices {}'.format(len(df0[np.logical_and(~df0.index_label,df0.selected_by_nn) ])))\n",
    "    print ('---------------------------------------------------------------- ')"
   ]
  },
  {
   "cell_type": "code",
   "execution_count": 16,
   "metadata": {},
   "outputs": [
    {
     "data": {
      "text/plain": [
       "231"
      ]
     },
     "execution_count": 16,
     "metadata": {},
     "output_type": "execute_result"
    }
   ],
   "source": [
    "len(ucds)"
   ]
  },
  {
   "cell_type": "code",
   "execution_count": 17,
   "metadata": {},
   "outputs": [
    {
     "data": {
      "text/latex": [
       "$180 \\; \\mathrm{}$"
      ],
      "text/plain": [
       "<Quantity 180.>"
      ]
     },
     "execution_count": 17,
     "metadata": {},
     "output_type": "execute_result"
    }
   ],
   "source": [
    "import astropy.units as u\n",
    "(0.5*u.deg**2).to(u.arcmin**2)*(0.1/u.arcmin**2)"
   ]
  },
  {
   "cell_type": "code",
   "execution_count": 18,
   "metadata": {},
   "outputs": [
    {
     "name": "stdout",
     "output_type": "stream",
     "text": [
      " loss 0.0\n",
      " cross_entropy 0.0\n",
      " precision 0.0\n",
      " recall 0.0\n",
      " accuracy 0.0\n",
      " falseneg 0.0\n",
      " falsepos 0.0\n",
      " truepos 0.0\n"
     ]
    }
   ],
   "source": [
    "for m in neural_network.metrics:\n",
    "     print (' {} {}'.format(m.name, m.result()))"
   ]
  },
  {
   "cell_type": "code",
   "execution_count": null,
   "metadata": {},
   "outputs": [],
   "source": []
  },
  {
   "cell_type": "markdown",
   "metadata": {},
   "source": [
    "### "
   ]
  }
 ],
 "metadata": {
  "kernelspec": {
   "display_name": "Python 3",
   "language": "python",
   "name": "python3"
  },
  "language_info": {
   "codemirror_mode": {
    "name": "ipython",
    "version": 3
   },
   "file_extension": ".py",
   "mimetype": "text/x-python",
   "name": "python",
   "nbconvert_exporter": "python",
   "pygments_lexer": "ipython3",
   "version": "3.8.5"
  }
 },
 "nbformat": 4,
 "nbformat_minor": 4
}
