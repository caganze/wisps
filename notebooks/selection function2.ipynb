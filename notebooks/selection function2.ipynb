{
 "cells": [
  {
   "cell_type": "code",
   "execution_count": 1,
   "metadata": {},
   "outputs": [
    {
     "name": "stdout",
     "output_type": "stream",
     "text": [
      "Adding 89 sources from /Users/caganze/research/splat//resources/Spectra/Public/MAGE/ to spectral database\n",
      "Adding 2404 sources from /Users/caganze/research/splat//resources/Spectra/Public/SPEX-PRISM/ to spectral database\n",
      "Adding 145 sources from /Users/caganze/research/splat//resources/Spectra/Public/LRIS-RED/ to spectral database\n"
     ]
    }
   ],
   "source": [
    "import splat\n",
    "import wisps\n",
    "import matplotlib.pyplot as plt\n",
    "from wisps.data_analysis import selection_criteria as sel_crt\n",
    "from wisps.simulations import selection_function as slf\n",
    "import numpy as np\n",
    "import pandas as pd\n",
    "\n",
    "import numba\n",
    "import matplotlib as mpl\n",
    "mpl.rcParams['font.size'] = 18\n",
    "\n",
    "from itertools import combinations\n",
    "#%%capture  output\n",
    "import itertools\n",
    "from tqdm import tqdm\n",
    "\n",
    "\n",
    "import seaborn as sns \n",
    "cmap=sns.light_palette((260, 75, 60), input=\"husl\", as_cmap=True)\n",
    "from tensorflow import keras\n",
    "\n",
    "from scipy import stats"
   ]
  },
  {
   "cell_type": "code",
   "execution_count": 2,
   "metadata": {},
   "outputs": [],
   "source": [
    "rfdict=pd.read_pickle(wisps.OUTPUT_FILES+'/random_forest_classifier.pkl') #the classifier \n",
    "neural_network= keras.models.load_model(wisps.OUTPUT_FILES+'/deep_model_september23.h5')\n",
    "features=rfdict['feats']\n",
    "#probs= neural_network\n",
    "#labels=np.logical_or.reduce((probs[:, 2] > .95, probs[:,3] >.95 , probs[:,4] >0.8))\n"
   ]
  },
  {
   "cell_type": "code",
   "execution_count": 3,
   "metadata": {},
   "outputs": [],
   "source": [
    "#cands[features]"
   ]
  },
  {
   "cell_type": "code",
   "execution_count": null,
   "metadata": {},
   "outputs": [],
   "source": []
  },
  {
   "cell_type": "code",
   "execution_count": 4,
   "metadata": {},
   "outputs": [],
   "source": [
    "%matplotlib inline"
   ]
  },
  {
   "cell_type": "code",
   "execution_count": 5,
   "metadata": {},
   "outputs": [],
   "source": [
    "def get_f1(y_true, y_pred): #taken from old keras source code\n",
    "    true_positives = K.sum(K.round(K.clip(y_true * y_pred, 0, 1)))\n",
    "    possible_positives = K.sum(K.round(K.clip(y_true, 0, 1)))\n",
    "    predicted_positives = K.sum(K.round(K.clip(y_pred, 0, 1)))\n",
    "    precision = true_positives / (predicted_positives + K.epsilon())\n",
    "    recall = true_positives / (possible_positives + K.epsilon())\n",
    "    f1_val = 2*(precision*recall)/(precision+recall)\n",
    "    return f1_val"
   ]
  },
  {
   "cell_type": "code",
   "execution_count": 6,
   "metadata": {},
   "outputs": [],
   "source": [
    "#read in some data\n",
    "sf=pd.read_pickle(wisps.LIBRARIES+'/selection_function.pkl.gz') #the simulated spectral data"
   ]
  },
  {
   "cell_type": "code",
   "execution_count": 7,
   "metadata": {},
   "outputs": [],
   "source": [
    "#selection objects \n",
    "#rfdict=pd.read_pickle(wisps.OUTPUT_FILES+'/random_forest_classifier.pkl') #the classifier \n",
    "indices_to_use= pd.read_pickle(wisps.OUTPUT_FILES+'/best_indices_to_use.pkl')\n",
    "#neural_network= keras.models.load_model(wisps.OUTPUT_FILES+'/deep_model_september23.h5')\n",
    "EXPORT_DIR=wisps.OUTPUT_FILES+'/deep_model_july17_2021_min_entropy.h5'\n",
    "neural_network = keras.models.load_model(EXPORT_DIR, custom_objects={\"get_f1\": get_f1},\\\n",
    "                                   compile=False)\n",
    "rfdict=pd.read_pickle(wisps.OUTPUT_FILES+'/random_forest_classifier_plusys_july172021.pkl')"
   ]
  },
  {
   "cell_type": "code",
   "execution_count": 8,
   "metadata": {},
   "outputs": [],
   "source": [
    "#some formatting\n",
    "sampled_data=pd.DataFrame.from_records(pd.DataFrame(sf).values.flatten())\n",
    "sampled_data['sp_old']=np.vstack(sampled_data.sp_old.values)[:,0]\n",
    "sampled_data['spt_new']=np.vstack(sampled_data.spt_new.values)[:,0]"
   ]
  },
  {
   "cell_type": "code",
   "execution_count": 9,
   "metadata": {},
   "outputs": [],
   "source": [
    "#things that missed their classification \n",
    "sampled_data['missed_label']=sampled_data['sp_old'].apply(wisps.make_spt_number) != sampled_data['spt_new'].apply(wisps.make_spt_number)\n",
    "sampled_data['missed_label']=1-sampled_data.missed_label.apply(int).apply(float)\n",
    "sampled_data['Names']=['spctr'+ str(idx) for idx in sampled_data.index]\n",
    "sampled_data['spt']=sampled_data['sp_old'].apply(wisps.make_spt_number)"
   ]
  },
  {
   "cell_type": "code",
   "execution_count": 10,
   "metadata": {},
   "outputs": [],
   "source": [
    "#selection criteria\n",
    "slc_crts=sel_crt.crts_from_file()"
   ]
  },
  {
   "cell_type": "code",
   "execution_count": 11,
   "metadata": {},
   "outputs": [
    {
     "data": {
      "text/plain": [
       "[('H_2O-1/J-Cont H_2O-2+CH_4/H-Cont', 'M7-L0'),\n",
       " ('H_2O-1/J-Cont H_2O-2+CH_4/H-Cont', 'L0-L5'),\n",
       " ('H_2O-1+H_2O-2/H-Cont H_2O-1+CH_4/J-Cont', 'L5-T0'),\n",
       " ('H_2O-2/J-Cont H_2O-1+H_2O-2/H-Cont', 'T0-T5'),\n",
       " ('H_2O-1+H_2O-2/J-Cont H_2O-1+CH_4/H-Cont', 'T5-T9'),\n",
       " ('CH_4/H-Cont H_2O-1+H_2O-2/J-Cont', 'Y dwarfs'),\n",
       " ('H_2O-1+CH_4/J-Cont H_2O-2+CH_4/J-Cont', 'subdwarfs')]"
      ]
     },
     "execution_count": 11,
     "metadata": {},
     "output_type": "execute_result"
    }
   ],
   "source": [
    "indices_to_use"
   ]
  },
  {
   "cell_type": "code",
   "execution_count": 12,
   "metadata": {},
   "outputs": [],
   "source": [
    "#define a number of selectors \n",
    "#each selection should a column of zeros and ones corresponding\n",
    "#to where objects were selected\n",
    "#each selector input is the simulated df\n",
    "def f_test_fx(x, df1, df2):\n",
    "    return stats.f.cdf(x, df1, df2)\n",
    "\n",
    "def select_by_indices(df, idx, spt_range):\n",
    "    print(spt_range)\n",
    "    bs=idx.shapes\n",
    "    bx=[x for x in bs if x.shape_name==spt_range][0]\n",
    "    _, bools= bx._select(np.array([df[idx.xkey].values, df[idx.ykey].values]))\n",
    "    return bools\n",
    "        \n",
    "\n",
    "def apply_scale(x):\n",
    "    ##remove nans \n",
    "    ##this is the same scaling used \n",
    "    ## same scaling used for \n",
    "    #replace nans\n",
    "    y=x\n",
    "    if np.isnan(y) or np.isinf(y) or abs(y) > 1e10:\n",
    "        y=-99\n",
    "    return y\n",
    "\n",
    "def select_by_random_forest(df):\n",
    "    #use the classification given by my rf classifier\n",
    "    \n",
    "    rf=rfdict['classifier']\n",
    "    #min_max_scaler=rfdict['sclr']\n",
    "    features=rfdict['feats']\n",
    "    \n",
    "    #apply logs to problematic features the same way I did on my classification\n",
    "    pred_df=df.copy()\n",
    "    \n",
    "    for c in features:\n",
    "        if c not in ['spt', 'f_test', 'x']:\n",
    "            pred_df.assign(c=np.log10(pred_df[c].apply(apply_scale)))\n",
    "        else:\n",
    "            pred_df.assign(c=pred_df[c].apply(apply_scale))\n",
    "            \n",
    "    pred_df[features]=pred_df[features].applymap(apply_scale)\n",
    "    #make predictions\n",
    "    probs=rf.predict_proba(pred_df[features].values)\n",
    "    labels=np.logical_or.reduce((\n",
    "                                probs[:,1]>0.5,\\\n",
    "                                probs[:, 2] >0.5, \\\n",
    "                                 probs[:,3] >.5 ,\\\n",
    "                                 probs[:,4] >0.5, \\\n",
    "                                 probs[:,5] >0.5))\n",
    "    \n",
    "    #labels=np.logical_or.reduce([ probs[:, 0]<0.05, labels ])\n",
    "    #labels=rf.predict(pred_df[features].values)\n",
    " \n",
    "    return {'probs': probs, 'labels': labels}\n",
    "\n",
    "\n",
    "\n",
    "def select_by_neuralnet(df):\n",
    "    #define features (start with indices alone)\n",
    "    #apply logs to problematic features the same way I did on my classification\n",
    "    features=rfdict['feats']\n",
    "    \n",
    "    pred_df=df.copy()\n",
    "    \n",
    "    for c in features:\n",
    "        if c not in ['spt']:\n",
    "            pred_df.assign(c=np.log10(pred_df[c].apply(apply_scale)))\n",
    "        else:\n",
    "            pred_df.assign(c=pred_df[c].apply(apply_scale))\n",
    "            \n",
    "    pred_df[features]=pred_df[features].applymap(apply_scale)\n",
    "    #probs= neural_network.predict(  pred_df[features].values)\n",
    "    #need to reshape\n",
    "    #probs=neural_network.predict(  pred_df[features].values.reshape(-1, len(features), 1))\n",
    "    \n",
    "    #my cuts\n",
    "    #labels=np.logical_or.reduce((probs[:, 2] > .7, probs[:,3] >.5 , probs[:,4] >0.5))\n",
    "    #labels=probs[:,0] <0.5\n",
    "    #labels=neural_network.predict_classes(  pred_df[features].values.reshape(-1, len(features), 1))\n",
    "    #labels=neural_network.predict(  pred_df[features].values.reshape(-1, len(features), 1))\n",
    "    probs= neural_network(  pred_df[features].values, training=False)\n",
    "    labels=np.logical_or.reduce((\n",
    "                                probs[:,1]>0.5,\\\n",
    "                                probs[:, 2] >0.5, \\\n",
    "                                 probs[:,3] >.5 ,\\\n",
    "                                 probs[:,4] >0.5, \\\n",
    "                                 probs[:,5] >0.5))\n",
    "    \n",
    "    #labels=np.logical_or.reduce([probs[:, 1]>0.9, labels ])\n",
    "    #labels=neural_network.predict_classes(  pred_df[features].values)\n",
    "    #labels=np.logical_or.reduce([ probs[:, 0]<0.05, labels ])\n",
    " \n",
    "    return {'probs': probs, 'labels': labels}\n",
    "\n"
   ]
  },
  {
   "cell_type": "code",
   "execution_count": 13,
   "metadata": {},
   "outputs": [
    {
     "name": "stdout",
     "output_type": "stream",
     "text": [
      "M7-L0\n",
      "L0-L5\n",
      "L5-T0\n",
      "T0-T5\n",
      "T5-T9\n",
      "Y dwarfs\n",
      "subdwarfs\n"
     ]
    }
   ],
   "source": [
    "df=wisps.Annotator.reformat_table(sampled_data)\n",
    "#indices\n",
    "for idxk, k in indices_to_use:\n",
    "    idx=slc_crts[idxk]\n",
    "    df['selected_by_{}'.format(k)]= select_by_indices(df, idx, k)"
   ]
  },
  {
   "cell_type": "code",
   "execution_count": null,
   "metadata": {},
   "outputs": [],
   "source": []
  },
  {
   "cell_type": "code",
   "execution_count": 14,
   "metadata": {},
   "outputs": [],
   "source": [
    "df['x']=df.spex_chi/df.line_chi\n",
    "df['f_test']= f_test_fx(df.x, df.dof-1, df.dof-2)"
   ]
  },
  {
   "cell_type": "code",
   "execution_count": 15,
   "metadata": {},
   "outputs": [
    {
     "data": {
      "text/plain": [
       "[<matplotlib.lines.Line2D at 0x7fb40bec1040>]"
      ]
     },
     "execution_count": 15,
     "metadata": {},
     "output_type": "execute_result"
    },
    {
     "name": "stderr",
     "output_type": "stream",
     "text": [
      "findfont: Font family ['serif'] not found. Falling back to DejaVu Sans.\n"
     ]
    },
    {
     "data": {
      "image/png": "[encoded data removed]",
      "text/plain": [
       "<Figure size 432x288 with 1 Axes>"
      ]
     },
     "metadata": {
      "needs_background": "light"
     },
     "output_type": "display_data"
    }
   ],
   "source": [
    "plt.plot(df.spex_chi/df.line_chi, df.f_test, '.')"
   ]
  },
  {
   "cell_type": "code",
   "execution_count": 16,
   "metadata": {},
   "outputs": [],
   "source": [
    "df['f_test_label']=np.logical_and.reduce([df.f_test<0.02, df.x <0.5, df.snr1>=3.])"
   ]
  },
  {
   "cell_type": "code",
   "execution_count": 17,
   "metadata": {},
   "outputs": [],
   "source": [
    "#machine learning\n",
    "df['rf_label']=select_by_random_forest(df)['labels']\n",
    "df['neural_net_label']=select_by_neuralnet(df)['labels']\n",
    "\n",
    "df['rf_label']=np.logical_and(df['rf_label'], df.snr1>=3. ).apply(int)\n",
    "df['neural_net_label']=np.logical_and(df['neural_net_label'], df.snr1>=3. ).apply(int)"
   ]
  },
  {
   "cell_type": "code",
   "execution_count": 18,
   "metadata": {},
   "outputs": [],
   "source": [
    "#indices and total\n",
    "df.f_test_label=(df['f_test_label']).apply(int)\n",
    "\n",
    "df['index_label']=np.logical_or.reduce([df['selected_by_{}'.format(x)].values for x in  np.vstack(indices_to_use)[:,1]]).astype(int)\n",
    "df['idx_ft_label']=np.logical_and(df['index_label'].apply(bool), df['f_test_label'].apply(bool) ).apply(int)\n",
    "\n",
    "\n",
    "df['tot_label']=np.logical_or.reduce((df['idx_ft_label'].apply(bool), df['rf_label'].apply(bool), df['neural_net_label'].apply(bool)))\n",
    "df.tot_label=np.logical_and(df.tot_label.values, (df.snr1>=3.).values).astype(int)\n",
    "\n",
    "#put things on log-scale\n",
    "df['logsnr']=df['snr1'].apply(np.log10)"
   ]
  },
  {
   "cell_type": "code",
   "execution_count": 19,
   "metadata": {},
   "outputs": [],
   "source": [
    "df_small=(df[['logsnr', 'spt','tot_label']]).reset_index(drop=True).dropna().values"
   ]
  },
  {
   "cell_type": "code",
   "execution_count": 20,
   "metadata": {},
   "outputs": [],
   "source": [
    "#x, y= np.meshgrid(df_small[:,0], df_small[:,1])\n",
    "\n",
    "\n",
    "x= df_small[:,0]\n",
    "y= df_small[:,1]\n",
    "z= df_small[:,2]\n",
    "xx, yy, zz = np.meshgrid(x, y,z, indexing='ij',sparse=True)"
   ]
  },
  {
   "cell_type": "code",
   "execution_count": 21,
   "metadata": {},
   "outputs": [
    {
     "data": {
      "text/plain": [
       "((46958, 1, 1), (1, 46958, 1), (1, 1, 46958))"
      ]
     },
     "execution_count": 21,
     "metadata": {},
     "output_type": "execute_result"
    }
   ],
   "source": [
    "xx.shape, yy.shape, zz.shape"
   ]
  },
  {
   "cell_type": "code",
   "execution_count": null,
   "metadata": {},
   "outputs": [],
   "source": []
  },
  {
   "cell_type": "code",
   "execution_count": 22,
   "metadata": {},
   "outputs": [],
   "source": [
    "df=df[np.logical_and(df.logsnr.between(0.36, 2), df.spt.between(16, 40))].reset_index(drop=True)"
   ]
  },
  {
   "cell_type": "code",
   "execution_count": 23,
   "metadata": {},
   "outputs": [
    {
     "data": {
      "text/plain": [
       "24.0"
      ]
     },
     "execution_count": 23,
     "metadata": {},
     "output_type": "execute_result"
    }
   ],
   "source": [
    "np.ptp(df.spt)"
   ]
  },
  {
   "cell_type": "code",
   "execution_count": 24,
   "metadata": {},
   "outputs": [],
   "source": [
    "import matplotlib.colors as mcolors\n",
    "import matplotlib\n",
    "#mymap=mcolors.LinearSegmentedColormap.from_list('my_colormap', colors)"
   ]
  },
  {
   "cell_type": "code",
   "execution_count": 25,
   "metadata": {},
   "outputs": [],
   "source": [
    "cmap='cubehelix'"
   ]
  },
  {
   "cell_type": "code",
   "execution_count": 26,
   "metadata": {},
   "outputs": [
    {
     "data": {
      "image/png": "[encoded data removed]",
      "text/plain": [
       "<Figure size 792x720 with 5 Axes>"
      ]
     },
     "metadata": {
      "needs_background": "light"
     },
     "output_type": "display_data"
    }
   ],
   "source": [
    "fig, ax=plt.subplots(ncols=2, nrows=2, figsize=(5.5*2, 5*2), \n",
    "                     sharex=False, sharey=True)\n",
    "wisps.plot_annotated_heatmap(ax[0][0], df, int(np.ptp(df.spt)), ['logsnr', 'spt', 'idx_ft_label'], cmap=cmap)\n",
    "wisps.plot_annotated_heatmap(ax[0][1], df, int(np.ptp(df.spt)), ['logsnr', 'spt', 'rf_label'],  cmap=cmap)\n",
    "wisps.plot_annotated_heatmap(ax[1][0], df, int(np.ptp(df.spt)), ['logsnr', 'spt', 'neural_net_label'],  cmap=cmap)\n",
    "wisps.plot_annotated_heatmap(ax[1][1], df, int(np.ptp(df.spt)), ['logsnr', 'spt', 'tot_label'],  cmap=cmap)\n",
    "#df.plot.hexbin(x='logsnr', y='spt', C='idx_ft_label', reduce_C_function=np.nanmean, gridsize=50, cmap=cmap, ax=ax[0][0])\n",
    "#df.plot.hexbin(x='logsnr', y='spt', C='rf_label', reduce_C_function=np.nanmean, gridsize=50, cmap=cmap, ax=ax[0][1])\n",
    "#df.plot.hexbin(x='logsnr', y='spt', C='neural_net_label', reduce_C_function=np.nanmean, gridsize=50, cmap=cmap, ax=ax[1][0])\n",
    "#df.plot.hexbin(x='logsnr', y='spt', C='tot_label', reduce_C_function=np.nanmean, gridsize=50, cmap=cmap, ax=ax[1][1])\n",
    "\n",
    "#ax[0][0].scatter( sf.data.snr1.apply(np.log10), sf.data.spt, marker='+', color='#111111', alpha=.05)\n",
    "\n",
    "\n",
    "ax[0][0].set_title('Indices, F-test ', fontsize=18)\n",
    "ax[0][1].set_title('Random Forest', fontsize=18)\n",
    "ax[1][0].set_title('Neural Network', fontsize=18)\n",
    "ax[1][1].set_title('Total (or) ', fontsize=18)\n",
    "\n",
    "for a in np.concatenate(ax):\n",
    "    a.set_xlabel('Log SNR-J', fontsize=18)\n",
    "    a.set_ylabel('SpT', fontsize=18)\n",
    "    a.axvline(np.log10(3), linestyle='--', color='#111111')\n",
    "    \n",
    "\n",
    "    a.tick_params(which='major',direction='inout')\n",
    "    a.tick_params(which='minor',direction='out')\n",
    "    \n",
    "    a.minorticks_on()\n",
    "    #a.set_yticks(np.arange(17, 42),  minor=True)\n",
    "    a.set_yticks([17, 20, 25, 30, 35, 40], minor=False)\n",
    "    a.set_yticklabels(['M7', 'L0', 'L5', 'T0', 'T5', 'Y0'], minor=False)\n",
    "    #a.set_xlim([0., 2.3])\n",
    "    #a.set_ylim([17., 42.])\n",
    "    \n",
    "plt.tight_layout()\n",
    "\n",
    "cax = fig.add_axes([1.01, 0.06, .03, 0.9])\n",
    "norm= matplotlib.colors.Normalize(vmin=0.0,vmax=1.0)\n",
    "mp=matplotlib.cm.ScalarMappable(norm=norm, cmap=cmap)\n",
    "cbar=plt.colorbar(mp, cax=cax, orientation='vertical')\n",
    "cbar.ax.set_ylabel(r'Selection Probability', fontsize=18)\n",
    "\n",
    "plt.savefig(wisps.OUTPUT_FIGURES+'/selection_function_samples.pdf', bbox_inches='tight', dpi=200)"
   ]
  },
  {
   "cell_type": "code",
   "execution_count": 27,
   "metadata": {},
   "outputs": [],
   "source": [
    "#save partial of the data to use for my selection function calculations\n",
    "df2=(df[['logsnr', 'tot_label', 'spt']])"
   ]
  },
  {
   "cell_type": "code",
   "execution_count": 28,
   "metadata": {},
   "outputs": [],
   "source": [
    "df2.logsnr=df2.logsnr.apply(lambda x: np.round(x, 1))"
   ]
  },
  {
   "cell_type": "code",
   "execution_count": 29,
   "metadata": {},
   "outputs": [],
   "source": [
    "#df2.groupby(['spt', 'logsnr'])['tot_label'].mean().plot()"
   ]
  },
  {
   "cell_type": "code",
   "execution_count": 30,
   "metadata": {},
   "outputs": [],
   "source": [
    "df2.to_pickle(wisps.OUTPUT_FILES+'/selection_function_lookup_table.pkl')"
   ]
  },
  {
   "cell_type": "code",
   "execution_count": 31,
   "metadata": {},
   "outputs": [],
   "source": [
    "#df2"
   ]
  },
  {
   "cell_type": "code",
   "execution_count": 32,
   "metadata": {},
   "outputs": [
    {
     "ename": "NameError",
     "evalue": "name 'wispsim' is not defined",
     "output_type": "error",
     "traceback": [
      "\u001b[0;31m---------------------------------------------------------------------------\u001b[0m",
      "\u001b[0;31mNameError\u001b[0m                                 Traceback (most recent call last)",
      "\u001b[0;32m<ipython-input-32-d2a6dcbc36fc>\u001b[0m in \u001b[0;36m<module>\u001b[0;34m\u001b[0m\n\u001b[0;32m----> 1\u001b[0;31m \u001b[0mwispsim\u001b[0m\u001b[0;34m.\u001b[0m\u001b[0mMAG_LIMITS\u001b[0m\u001b[0;34m\u001b[0m\u001b[0;34m\u001b[0m\u001b[0m\n\u001b[0m",
      "\u001b[0;31mNameError\u001b[0m: name 'wispsim' is not defined"
     ]
    }
   ],
   "source": []
  },
  {
   "cell_type": "code",
   "execution_count": null,
   "metadata": {},
   "outputs": [],
   "source": []
  }
 ],
 "metadata": {
  "kernelspec": {
   "display_name": "Python 3",
   "language": "python",
   "name": "python3"
  },
  "language_info": {
   "codemirror_mode": {
    "name": "ipython",
    "version": 3
   },
   "file_extension": ".py",
   "mimetype": "text/x-python",
   "name": "python",
   "nbconvert_exporter": "python",
   "pygments_lexer": "ipython3",
   "version": "3.8.5"
  }
 },
 "nbformat": 4,
 "nbformat_minor": 4
}
