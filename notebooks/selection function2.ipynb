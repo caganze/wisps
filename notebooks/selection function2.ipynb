{
 "cells": [
  {
   "cell_type": "code",
   "execution_count": 1,
   "metadata": {},
   "outputs": [
    {
     "name": "stdout",
     "output_type": "stream",
     "text": [
      "Adding 89 sources from /Users/caganze/research/splat//resources/Spectra/Public/MAGE/ to spectral database\n",
      "Adding 145 sources from /Users/caganze/research/splat//resources/Spectra/Public/LRIS-RED/ to spectral database\n",
      "Adding 2404 sources from /Users/caganze/research/splat//resources/Spectra/Public/SPEX-PRISM/ to spectral database\n"
     ]
    }
   ],
   "source": [
    "import splat\n",
    "import wisps\n",
    "import matplotlib.pyplot as plt\n",
    "from wisps.data_analysis import selection_criteria as sel_crt\n",
    "from wisps.simulations import selection_function as slf\n",
    "import numpy as np\n",
    "import pandas as pd\n",
    "\n",
    "import numba\n",
    "import matplotlib as mpl\n",
    "mpl.rcParams['font.size'] = 18\n",
    "\n",
    "from itertools import combinations\n",
    "#%%capture  output\n",
    "import itertools\n",
    "from tqdm import tqdm\n",
    "\n",
    "\n",
    "import seaborn as sns \n",
    "cmap=sns.light_palette((260, 75, 60), input=\"husl\", as_cmap=True)\n",
    "from tensorflow import keras\n",
    "\n",
    "from scipy import stats"
   ]
  },
  {
   "cell_type": "code",
   "execution_count": 2,
   "metadata": {},
   "outputs": [],
   "source": [
    "rfdict=pd.read_pickle(wisps.OUTPUT_FILES+'/random_forest_classifier.pkl') #the classifier \n",
    "neural_network= keras.models.load_model(wisps.OUTPUT_FILES+'/deep_model_september23.h5')\n",
    "features=rfdict['feats']\n",
    "#probs= neural_network\n",
    "#labels=np.logical_or.reduce((probs[:, 2] > .95, probs[:,3] >.95 , probs[:,4] >0.8))\n"
   ]
  },
  {
   "cell_type": "code",
   "execution_count": 3,
   "metadata": {},
   "outputs": [],
   "source": [
    "#cands[features]"
   ]
  },
  {
   "cell_type": "code",
   "execution_count": null,
   "metadata": {},
   "outputs": [],
   "source": []
  },
  {
   "cell_type": "code",
   "execution_count": 4,
   "metadata": {},
   "outputs": [],
   "source": [
    "%matplotlib inline"
   ]
  },
  {
   "cell_type": "code",
   "execution_count": 5,
   "metadata": {},
   "outputs": [],
   "source": [
    "#read in some data\n",
    "sf=pd.read_pickle(wisps.OUTPUT_FILES+'/selection_function.pkl.gz') #the simulated spectral data"
   ]
  },
  {
   "cell_type": "code",
   "execution_count": 6,
   "metadata": {},
   "outputs": [],
   "source": [
    "#selection objects \n",
    "rfdict=pd.read_pickle(wisps.OUTPUT_FILES+'/random_forest_classifier.pkl') #the classifier \n",
    "indices_to_use= pd.read_pickle(wisps.OUTPUT_FILES+'/best_indices_to_use.pkl')\n",
    "neural_network= keras.models.load_model(wisps.OUTPUT_FILES+'/deep_model_september23.h5')"
   ]
  },
  {
   "cell_type": "code",
   "execution_count": 7,
   "metadata": {},
   "outputs": [],
   "source": [
    "#some formatting\n",
    "sampled_data=pd.DataFrame.from_records(pd.DataFrame(sf).values.flatten())\n",
    "sampled_data['sp_old']=np.vstack(sampled_data.sp_old.values)[:,0]\n",
    "sampled_data['spt_new']=np.vstack(sampled_data.spt_new.values)[:,0]"
   ]
  },
  {
   "cell_type": "code",
   "execution_count": 8,
   "metadata": {},
   "outputs": [],
   "source": [
    "#things that missed their classification \n",
    "sampled_data['missed_label']=sampled_data['sp_old'].apply(wisps.make_spt_number) != sampled_data['spt_new'].apply(wisps.make_spt_number)\n",
    "sampled_data['missed_label']=1-sampled_data.missed_label.apply(int).apply(float)\n",
    "sampled_data['Names']=['spctr'+ str(idx) for idx in sampled_data.index]\n",
    "sampled_data['spt']=sampled_data['sp_old'].apply(wisps.make_spt_number)"
   ]
  },
  {
   "cell_type": "code",
   "execution_count": 9,
   "metadata": {},
   "outputs": [],
   "source": [
    "#selection criteria\n",
    "slc_crts=sel_crt.crts_from_file()"
   ]
  },
  {
   "cell_type": "code",
   "execution_count": 10,
   "metadata": {},
   "outputs": [
    {
     "data": {
      "text/plain": [
       "[('CH_4/J-Cont H_2O-1+H_2O-2/J-Cont', 'M7-L0'),\n",
       " ('CH_4/H-Cont H_2O-1+H_2O-2/H-Cont', 'L0-L5'),\n",
       " ('CH_4/H-Cont H_2O-1+H_2O-2/H-Cont', 'L5-T0'),\n",
       " ('H_2O-1/J-Cont H_2O-2/J-Cont', 'T0-T5'),\n",
       " ('H_2O-2/H_2O-1 H_2O-1+H_2O-2/J-Cont', 'T5-T9'),\n",
       " ('H_2O-1/J-Cont H_2O-2/H_2O-1', 'Y dwarfs'),\n",
       " ('CH_4/H-Cont H_2O-1+CH_4/J-Cont', 'subdwarfs')]"
      ]
     },
     "execution_count": 10,
     "metadata": {},
     "output_type": "execute_result"
    }
   ],
   "source": [
    "indices_to_use"
   ]
  },
  {
   "cell_type": "code",
   "execution_count": 11,
   "metadata": {},
   "outputs": [],
   "source": [
    "#define a number of selectors \n",
    "#each selection should a column of zeros and ones corresponding\n",
    "#to where objects were selected\n",
    "#each selector input is the simulated df\n",
    "def f_test_fx(x, df1, df2):\n",
    "    return stats.f.cdf(x, df1, df2)\n",
    "\n",
    "def select_by_indices(df, idx, spt_range):\n",
    "    print(spt_range)\n",
    "    bs=idx.shapes\n",
    "    bx=[x for x in bs if x.shape_name==spt_range][0]\n",
    "    _, bools= bx._select(np.array([df[idx.xkey].values, df[idx.ykey].values]))\n",
    "    return bools\n",
    "        \n",
    "\n",
    "def apply_scale(x):\n",
    "    ##remove nans \n",
    "    ##this is the same scaling used \n",
    "    ## same scaling used for \n",
    "    #replace nans\n",
    "    y=x\n",
    "    if np.isnan(y) or np.isinf(y) or abs(y) > 1e10:\n",
    "        y=-99\n",
    "    return y\n",
    "\n",
    "def select_by_random_forest(df):\n",
    "    #use the classification given by my rf classifier\n",
    "    \n",
    "    rf=rfdict['classifier']\n",
    "    #min_max_scaler=rfdict['sclr']\n",
    "    features=rfdict['feats']\n",
    "    \n",
    "    #apply logs to problematic features the same way I did on my classification\n",
    "    pred_df=df.copy()\n",
    "    \n",
    "    for c in features:\n",
    "        if c not in ['spt', 'f_test', 'x']:\n",
    "            pred_df.assign(c=np.log10(pred_df[c].apply(apply_scale)))\n",
    "        else:\n",
    "            pred_df.assign(c=pred_df[c].apply(apply_scale))\n",
    "            \n",
    "    pred_df[features]=pred_df[features].applymap(apply_scale)\n",
    "    #make predictions\n",
    "    probs=rf.predict_proba(pred_df[features].values)\n",
    "    labels=np.logical_or.reduce((\n",
    "                                 probs[:,2] > .8, \\\n",
    "                                 probs[:,3] >.8 ,\\\n",
    "                                 probs[:,4] >0.8))\n",
    "    \n",
    "    #labels=np.logical_or.reduce([ probs[:, 0]<0.05, labels ])\n",
    "    #labels=rf.predict(pred_df[features].values)\n",
    " \n",
    "    return {'probs': probs, 'labels': labels}\n",
    "\n",
    "\n",
    "\n",
    "def select_by_neuralnet(df):\n",
    "    #define features (start with indices alone)\n",
    "    #apply logs to problematic features the same way I did on my classification\n",
    "    features=rfdict['feats']\n",
    "    \n",
    "    pred_df=df.copy()\n",
    "    \n",
    "    for c in features:\n",
    "        if c not in ['spt']:\n",
    "            pred_df.assign(c=np.log10(pred_df[c].apply(apply_scale)))\n",
    "        else:\n",
    "            pred_df.assign(c=pred_df[c].apply(apply_scale))\n",
    "            \n",
    "    pred_df[features]=pred_df[features].applymap(apply_scale)\n",
    "    #probs= neural_network.predict(  pred_df[features].values)\n",
    "    #need to reshape\n",
    "    #probs=neural_network.predict(  pred_df[features].values.reshape(-1, len(features), 1))\n",
    "    \n",
    "    #my cuts\n",
    "    #labels=np.logical_or.reduce((probs[:, 2] > .7, probs[:,3] >.5 , probs[:,4] >0.5))\n",
    "    #labels=probs[:,0] <0.5\n",
    "    #labels=neural_network.predict_classes(  pred_df[features].values.reshape(-1, len(features), 1))\n",
    "    #labels=neural_network.predict(  pred_df[features].values.reshape(-1, len(features), 1))\n",
    "    probs= neural_network(  pred_df[features].values, training=False)\n",
    "    labels=np.logical_or.reduce((\n",
    "                                probs[:, 2] > .8, \\\n",
    "                                 probs[:,3] >.8 ,\\\n",
    "                                 probs[:,4] >0.8))\n",
    "    \n",
    "    #labels=np.logical_or.reduce([probs[:, 1]>0.9, labels ])\n",
    "    #labels=neural_network.predict_classes(  pred_df[features].values)\n",
    "    #labels=np.logical_or.reduce([ probs[:, 0]<0.05, labels ])\n",
    " \n",
    "    return {'probs': probs, 'labels': labels}\n",
    "\n"
   ]
  },
  {
   "cell_type": "code",
   "execution_count": 12,
   "metadata": {},
   "outputs": [
    {
     "name": "stdout",
     "output_type": "stream",
     "text": [
      "M7-L0\n",
      "L0-L5\n",
      "L5-T0\n",
      "T0-T5\n",
      "T5-T9\n",
      "Y dwarfs\n",
      "subdwarfs\n"
     ]
    }
   ],
   "source": [
    "df=wisps.Annotator.reformat_table(sampled_data)\n",
    "#indices\n",
    "for idxk, k in indices_to_use:\n",
    "    idx=slc_crts[idxk]\n",
    "    df['selected_by_{}'.format(k)]= select_by_indices(df, idx, k)"
   ]
  },
  {
   "cell_type": "code",
   "execution_count": null,
   "metadata": {},
   "outputs": [],
   "source": []
  },
  {
   "cell_type": "code",
   "execution_count": 13,
   "metadata": {},
   "outputs": [],
   "source": [
    "df['x']=df.spex_chi/df.line_chi\n",
    "df['f_test']= f_test_fx(df.x, df.dof-2, df.dof-2)"
   ]
  },
  {
   "cell_type": "code",
   "execution_count": 14,
   "metadata": {},
   "outputs": [
    {
     "data": {
      "text/plain": [
       "[<matplotlib.lines.Line2D at 0x7fd0270ed3d0>]"
      ]
     },
     "execution_count": 14,
     "metadata": {},
     "output_type": "execute_result"
    },
    {
     "name": "stderr",
     "output_type": "stream",
     "text": [
      "findfont: Font family ['serif'] not found. Falling back to DejaVu Sans.\n"
     ]
    },
    {
     "data": {
      "image/png": "[encoded data removed]",
      "text/plain": [
       "<Figure size 432x288 with 1 Axes>"
      ]
     },
     "metadata": {
      "needs_background": "light"
     },
     "output_type": "display_data"
    }
   ],
   "source": [
    "plt.plot(df.spex_chi/df.line_chi, df.f_test, '.')"
   ]
  },
  {
   "cell_type": "code",
   "execution_count": 15,
   "metadata": {},
   "outputs": [],
   "source": [
    "df['f_test_label']=np.logical_and.reduce([df.f_test<0.02, df.x <0.5, df.snr1>=3.])"
   ]
  },
  {
   "cell_type": "code",
   "execution_count": 16,
   "metadata": {},
   "outputs": [
    {
     "data": {
      "text/html": [
       "<div>\n",
       "<style scoped>\n",
       "    .dataframe tbody tr th:only-of-type {\n",
       "        vertical-align: middle;\n",
       "    }\n",
       "\n",
       "    .dataframe tbody tr th {\n",
       "        vertical-align: top;\n",
       "    }\n",
       "\n",
       "    .dataframe thead th {\n",
       "        text-align: right;\n",
       "    }\n",
       "</style>\n",
       "<table border=\"1\" class=\"dataframe\">\n",
       "  <thead>\n",
       "    <tr style=\"text-align: right;\">\n",
       "      <th></th>\n",
       "      <th>snr1</th>\n",
       "      <th>snr2</th>\n",
       "      <th>snr3</th>\n",
       "      <th>snr4</th>\n",
       "      <th>H_2O-1/J-Cont</th>\n",
       "      <th>H_2O-1/J-Cont_er</th>\n",
       "      <th>H_2O-2/H_2O-1</th>\n",
       "      <th>H_2O-2/H_2O-1_er</th>\n",
       "      <th>H-cont/H_2O-1</th>\n",
       "      <th>H-cont/H_2O-1_er</th>\n",
       "      <th>...</th>\n",
       "      <th>spt</th>\n",
       "      <th>selected_by_M7-L0</th>\n",
       "      <th>selected_by_L0-L5</th>\n",
       "      <th>selected_by_L5-T0</th>\n",
       "      <th>selected_by_T0-T5</th>\n",
       "      <th>selected_by_T5-T9</th>\n",
       "      <th>selected_by_Y dwarfs</th>\n",
       "      <th>selected_by_subdwarfs</th>\n",
       "      <th>x</th>\n",
       "      <th>f_test_label</th>\n",
       "    </tr>\n",
       "  </thead>\n",
       "  <tbody>\n",
       "    <tr>\n",
       "      <th>0</th>\n",
       "      <td>0.499550</td>\n",
       "      <td>0.527347</td>\n",
       "      <td>0.620136</td>\n",
       "      <td>0.466286</td>\n",
       "      <td>0.461276</td>\n",
       "      <td>340.241244</td>\n",
       "      <td>0.318430</td>\n",
       "      <td>115.346789</td>\n",
       "      <td>0.451722</td>\n",
       "      <td>35.601412</td>\n",
       "      <td>...</td>\n",
       "      <td>16.0</td>\n",
       "      <td>False</td>\n",
       "      <td>False</td>\n",
       "      <td>False</td>\n",
       "      <td>True</td>\n",
       "      <td>False</td>\n",
       "      <td>False</td>\n",
       "      <td>False</td>\n",
       "      <td>0.218380</td>\n",
       "      <td>False</td>\n",
       "    </tr>\n",
       "    <tr>\n",
       "      <th>1</th>\n",
       "      <td>790.451567</td>\n",
       "      <td>681.140545</td>\n",
       "      <td>586.462721</td>\n",
       "      <td>651.735011</td>\n",
       "      <td>1.018357</td>\n",
       "      <td>0.001814</td>\n",
       "      <td>0.774223</td>\n",
       "      <td>0.001998</td>\n",
       "      <td>0.666789</td>\n",
       "      <td>0.001454</td>\n",
       "      <td>...</td>\n",
       "      <td>16.0</td>\n",
       "      <td>False</td>\n",
       "      <td>False</td>\n",
       "      <td>False</td>\n",
       "      <td>False</td>\n",
       "      <td>False</td>\n",
       "      <td>False</td>\n",
       "      <td>True</td>\n",
       "      <td>0.179782</td>\n",
       "      <td>True</td>\n",
       "    </tr>\n",
       "    <tr>\n",
       "      <th>2</th>\n",
       "      <td>739.318045</td>\n",
       "      <td>635.871251</td>\n",
       "      <td>548.908679</td>\n",
       "      <td>609.047843</td>\n",
       "      <td>1.015985</td>\n",
       "      <td>0.001887</td>\n",
       "      <td>0.772109</td>\n",
       "      <td>0.002164</td>\n",
       "      <td>0.668432</td>\n",
       "      <td>0.001535</td>\n",
       "      <td>...</td>\n",
       "      <td>16.0</td>\n",
       "      <td>False</td>\n",
       "      <td>False</td>\n",
       "      <td>False</td>\n",
       "      <td>False</td>\n",
       "      <td>False</td>\n",
       "      <td>False</td>\n",
       "      <td>True</td>\n",
       "      <td>0.178201</td>\n",
       "      <td>True</td>\n",
       "    </tr>\n",
       "    <tr>\n",
       "      <th>3</th>\n",
       "      <td>524.267530</td>\n",
       "      <td>449.891938</td>\n",
       "      <td>389.180977</td>\n",
       "      <td>432.550142</td>\n",
       "      <td>1.020417</td>\n",
       "      <td>0.002715</td>\n",
       "      <td>0.773065</td>\n",
       "      <td>0.003035</td>\n",
       "      <td>0.665772</td>\n",
       "      <td>0.002127</td>\n",
       "      <td>...</td>\n",
       "      <td>16.0</td>\n",
       "      <td>False</td>\n",
       "      <td>False</td>\n",
       "      <td>False</td>\n",
       "      <td>False</td>\n",
       "      <td>False</td>\n",
       "      <td>False</td>\n",
       "      <td>True</td>\n",
       "      <td>0.177681</td>\n",
       "      <td>True</td>\n",
       "    </tr>\n",
       "    <tr>\n",
       "      <th>4</th>\n",
       "      <td>10.671102</td>\n",
       "      <td>9.191451</td>\n",
       "      <td>7.926347</td>\n",
       "      <td>8.781317</td>\n",
       "      <td>0.972485</td>\n",
       "      <td>0.130464</td>\n",
       "      <td>0.810739</td>\n",
       "      <td>0.154011</td>\n",
       "      <td>0.734960</td>\n",
       "      <td>0.116483</td>\n",
       "      <td>...</td>\n",
       "      <td>16.0</td>\n",
       "      <td>True</td>\n",
       "      <td>False</td>\n",
       "      <td>False</td>\n",
       "      <td>False</td>\n",
       "      <td>False</td>\n",
       "      <td>False</td>\n",
       "      <td>True</td>\n",
       "      <td>0.645574</td>\n",
       "      <td>False</td>\n",
       "    </tr>\n",
       "    <tr>\n",
       "      <th>...</th>\n",
       "      <td>...</td>\n",
       "      <td>...</td>\n",
       "      <td>...</td>\n",
       "      <td>...</td>\n",
       "      <td>...</td>\n",
       "      <td>...</td>\n",
       "      <td>...</td>\n",
       "      <td>...</td>\n",
       "      <td>...</td>\n",
       "      <td>...</td>\n",
       "      <td>...</td>\n",
       "      <td>...</td>\n",
       "      <td>...</td>\n",
       "      <td>...</td>\n",
       "      <td>...</td>\n",
       "      <td>...</td>\n",
       "      <td>...</td>\n",
       "      <td>...</td>\n",
       "      <td>...</td>\n",
       "      <td>...</td>\n",
       "      <td>...</td>\n",
       "    </tr>\n",
       "    <tr>\n",
       "      <th>48195</th>\n",
       "      <td>992.032734</td>\n",
       "      <td>709.706880</td>\n",
       "      <td>441.833092</td>\n",
       "      <td>87.513321</td>\n",
       "      <td>0.036457</td>\n",
       "      <td>0.000829</td>\n",
       "      <td>-0.317864</td>\n",
       "      <td>0.016617</td>\n",
       "      <td>15.090121</td>\n",
       "      <td>0.334054</td>\n",
       "      <td>...</td>\n",
       "      <td>39.0</td>\n",
       "      <td>False</td>\n",
       "      <td>False</td>\n",
       "      <td>False</td>\n",
       "      <td>True</td>\n",
       "      <td>True</td>\n",
       "      <td>True</td>\n",
       "      <td>False</td>\n",
       "      <td>0.010384</td>\n",
       "      <td>True</td>\n",
       "    </tr>\n",
       "    <tr>\n",
       "      <th>48196</th>\n",
       "      <td>-0.367410</td>\n",
       "      <td>-0.189143</td>\n",
       "      <td>0.215426</td>\n",
       "      <td>-0.062394</td>\n",
       "      <td>0.042102</td>\n",
       "      <td>20.319807</td>\n",
       "      <td>0.026900</td>\n",
       "      <td>43.813108</td>\n",
       "      <td>-0.011115</td>\n",
       "      <td>24.379621</td>\n",
       "      <td>...</td>\n",
       "      <td>39.0</td>\n",
       "      <td>False</td>\n",
       "      <td>False</td>\n",
       "      <td>False</td>\n",
       "      <td>True</td>\n",
       "      <td>True</td>\n",
       "      <td>True</td>\n",
       "      <td>False</td>\n",
       "      <td>0.164763</td>\n",
       "      <td>False</td>\n",
       "    </tr>\n",
       "    <tr>\n",
       "      <th>48197</th>\n",
       "      <td>63.619214</td>\n",
       "      <td>44.848733</td>\n",
       "      <td>28.652297</td>\n",
       "      <td>6.251594</td>\n",
       "      <td>0.043352</td>\n",
       "      <td>0.013298</td>\n",
       "      <td>-0.333808</td>\n",
       "      <td>0.847524</td>\n",
       "      <td>13.025825</td>\n",
       "      <td>12.189928</td>\n",
       "      <td>...</td>\n",
       "      <td>39.0</td>\n",
       "      <td>False</td>\n",
       "      <td>False</td>\n",
       "      <td>False</td>\n",
       "      <td>True</td>\n",
       "      <td>True</td>\n",
       "      <td>True</td>\n",
       "      <td>False</td>\n",
       "      <td>0.010801</td>\n",
       "      <td>True</td>\n",
       "    </tr>\n",
       "    <tr>\n",
       "      <th>48198</th>\n",
       "      <td>35.661891</td>\n",
       "      <td>24.906881</td>\n",
       "      <td>17.886417</td>\n",
       "      <td>3.596588</td>\n",
       "      <td>0.017966</td>\n",
       "      <td>0.023223</td>\n",
       "      <td>-0.237303</td>\n",
       "      <td>453.443809</td>\n",
       "      <td>18.601695</td>\n",
       "      <td>791.315962</td>\n",
       "      <td>...</td>\n",
       "      <td>39.0</td>\n",
       "      <td>False</td>\n",
       "      <td>False</td>\n",
       "      <td>False</td>\n",
       "      <td>True</td>\n",
       "      <td>True</td>\n",
       "      <td>True</td>\n",
       "      <td>False</td>\n",
       "      <td>0.012375</td>\n",
       "      <td>True</td>\n",
       "    </tr>\n",
       "    <tr>\n",
       "      <th>48199</th>\n",
       "      <td>0.380830</td>\n",
       "      <td>0.008695</td>\n",
       "      <td>-0.308252</td>\n",
       "      <td>0.008695</td>\n",
       "      <td>0.028212</td>\n",
       "      <td>67.730566</td>\n",
       "      <td>0.102597</td>\n",
       "      <td>47.912869</td>\n",
       "      <td>0.228203</td>\n",
       "      <td>22.938345</td>\n",
       "      <td>...</td>\n",
       "      <td>39.0</td>\n",
       "      <td>False</td>\n",
       "      <td>False</td>\n",
       "      <td>False</td>\n",
       "      <td>True</td>\n",
       "      <td>False</td>\n",
       "      <td>True</td>\n",
       "      <td>False</td>\n",
       "      <td>0.188524</td>\n",
       "      <td>False</td>\n",
       "    </tr>\n",
       "  </tbody>\n",
       "</table>\n",
       "<p>48200 rows × 54 columns</p>\n",
       "</div>"
      ],
      "text/plain": [
       "             snr1        snr2        snr3        snr4  H_2O-1/J-Cont  \\\n",
       "0        0.499550    0.527347    0.620136    0.466286       0.461276   \n",
       "1      790.451567  681.140545  586.462721  651.735011       1.018357   \n",
       "2      739.318045  635.871251  548.908679  609.047843       1.015985   \n",
       "3      524.267530  449.891938  389.180977  432.550142       1.020417   \n",
       "4       10.671102    9.191451    7.926347    8.781317       0.972485   \n",
       "...           ...         ...         ...         ...            ...   \n",
       "48195  992.032734  709.706880  441.833092   87.513321       0.036457   \n",
       "48196   -0.367410   -0.189143    0.215426   -0.062394       0.042102   \n",
       "48197   63.619214   44.848733   28.652297    6.251594       0.043352   \n",
       "48198   35.661891   24.906881   17.886417    3.596588       0.017966   \n",
       "48199    0.380830    0.008695   -0.308252    0.008695       0.028212   \n",
       "\n",
       "       H_2O-1/J-Cont_er  H_2O-2/H_2O-1  H_2O-2/H_2O-1_er  H-cont/H_2O-1  \\\n",
       "0            340.241244       0.318430        115.346789       0.451722   \n",
       "1              0.001814       0.774223          0.001998       0.666789   \n",
       "2              0.001887       0.772109          0.002164       0.668432   \n",
       "3              0.002715       0.773065          0.003035       0.665772   \n",
       "4              0.130464       0.810739          0.154011       0.734960   \n",
       "...                 ...            ...               ...            ...   \n",
       "48195          0.000829      -0.317864          0.016617      15.090121   \n",
       "48196         20.319807       0.026900         43.813108      -0.011115   \n",
       "48197          0.013298      -0.333808          0.847524      13.025825   \n",
       "48198          0.023223      -0.237303        453.443809      18.601695   \n",
       "48199         67.730566       0.102597         47.912869       0.228203   \n",
       "\n",
       "       H-cont/H_2O-1_er  ...   spt  selected_by_M7-L0  selected_by_L0-L5  \\\n",
       "0             35.601412  ...  16.0              False              False   \n",
       "1              0.001454  ...  16.0              False              False   \n",
       "2              0.001535  ...  16.0              False              False   \n",
       "3              0.002127  ...  16.0              False              False   \n",
       "4              0.116483  ...  16.0               True              False   \n",
       "...                 ...  ...   ...                ...                ...   \n",
       "48195          0.334054  ...  39.0              False              False   \n",
       "48196         24.379621  ...  39.0              False              False   \n",
       "48197         12.189928  ...  39.0              False              False   \n",
       "48198        791.315962  ...  39.0              False              False   \n",
       "48199         22.938345  ...  39.0              False              False   \n",
       "\n",
       "       selected_by_L5-T0  selected_by_T0-T5  selected_by_T5-T9  \\\n",
       "0                  False               True              False   \n",
       "1                  False              False              False   \n",
       "2                  False              False              False   \n",
       "3                  False              False              False   \n",
       "4                  False              False              False   \n",
       "...                  ...                ...                ...   \n",
       "48195              False               True               True   \n",
       "48196              False               True               True   \n",
       "48197              False               True               True   \n",
       "48198              False               True               True   \n",
       "48199              False               True              False   \n",
       "\n",
       "       selected_by_Y dwarfs  selected_by_subdwarfs         x  f_test_label  \n",
       "0                     False                  False  0.218380         False  \n",
       "1                     False                   True  0.179782          True  \n",
       "2                     False                   True  0.178201          True  \n",
       "3                     False                   True  0.177681          True  \n",
       "4                     False                   True  0.645574         False  \n",
       "...                     ...                    ...       ...           ...  \n",
       "48195                  True                  False  0.010384          True  \n",
       "48196                  True                  False  0.164763         False  \n",
       "48197                  True                  False  0.010801          True  \n",
       "48198                  True                  False  0.012375          True  \n",
       "48199                  True                  False  0.188524         False  \n",
       "\n",
       "[48200 rows x 54 columns]"
      ]
     },
     "execution_count": 16,
     "metadata": {},
     "output_type": "execute_result"
    }
   ],
   "source": [
    "df"
   ]
  },
  {
   "cell_type": "code",
   "execution_count": 17,
   "metadata": {},
   "outputs": [
    {
     "data": {
      "text/plain": [
       "{'probs': array([[3.53382652e-01, 0.00000000e+00, 3.97521565e-02, 6.06474025e-01,\n",
       "         3.91166909e-04],\n",
       "        [9.28915790e-04, 9.99056568e-01, 1.45157345e-05, 0.00000000e+00,\n",
       "         0.00000000e+00],\n",
       "        [9.07233333e-04, 9.99078251e-01, 1.45157345e-05, 0.00000000e+00,\n",
       "         0.00000000e+00],\n",
       "        ...,\n",
       "        [4.54904403e-04, 0.00000000e+00, 0.00000000e+00, 9.77309446e-05,\n",
       "         9.99447365e-01],\n",
       "        [4.63670678e-04, 0.00000000e+00, 0.00000000e+00, 8.26091187e-05,\n",
       "         9.99453720e-01],\n",
       "        [9.27343756e-02, 0.00000000e+00, 0.00000000e+00, 1.36406599e-01,\n",
       "         7.70859025e-01]]),\n",
       " 'labels': array([False, False, False, ...,  True,  True, False])}"
      ]
     },
     "execution_count": 17,
     "metadata": {},
     "output_type": "execute_result"
    }
   ],
   "source": [
    "select_by_random_forest(df)"
   ]
  },
  {
   "cell_type": "code",
   "execution_count": 18,
   "metadata": {},
   "outputs": [],
   "source": [
    "#machine learning\n",
    "df['rf_label']=select_by_random_forest(df)['labels']\n",
    "df['neural_net_label']=select_by_neuralnet(df)['labels']\n",
    "\n",
    "df['rf_label']=np.logical_and(df['rf_label'], df.snr1>=3. ).apply(int)\n",
    "df['neural_net_label']=np.logical_and(df['neural_net_label'], df.snr1>=3. ).apply(int)"
   ]
  },
  {
   "cell_type": "code",
   "execution_count": 19,
   "metadata": {},
   "outputs": [],
   "source": [
    "#indices and total\n",
    "df.f_test_label=(df['f_test_label']).apply(int)\n",
    "\n",
    "df['index_label']=np.logical_or.reduce([df['selected_by_{}'.format(x)].values for x in  np.vstack(indices_to_use)[:,1]]).astype(int)\n",
    "df['idx_ft_label']=np.logical_and(df['index_label'].apply(bool), df['f_test_label'].apply(bool) ).apply(int)\n",
    "\n",
    "\n",
    "df['tot_label']=np.logical_or.reduce((df['idx_ft_label'].apply(bool), df['rf_label'].apply(bool), df['neural_net_label'].apply(bool)))\n",
    "df.tot_label=np.logical_and(df.tot_label.values, (df.snr1>=3.).values).astype(int)\n",
    "\n",
    "#put things on log-scale\n",
    "df['logsnr']=df['snr1'].apply(np.log10)"
   ]
  },
  {
   "cell_type": "code",
   "execution_count": 20,
   "metadata": {},
   "outputs": [],
   "source": [
    "df_small=(df[['logsnr', 'spt','tot_label']]).reset_index(drop=True).dropna().values"
   ]
  },
  {
   "cell_type": "code",
   "execution_count": 21,
   "metadata": {},
   "outputs": [],
   "source": [
    "#x, y= np.meshgrid(df_small[:,0], df_small[:,1])\n",
    "\n",
    "\n",
    "x= df_small[:,0]\n",
    "y= df_small[:,1]\n",
    "z= df_small[:,2]\n",
    "xx, yy, zz = np.meshgrid(x, y,z, indexing='ij',sparse=True)"
   ]
  },
  {
   "cell_type": "code",
   "execution_count": 22,
   "metadata": {},
   "outputs": [
    {
     "data": {
      "text/plain": [
       "((46958, 1, 1), (1, 46958, 1), (1, 1, 46958))"
      ]
     },
     "execution_count": 22,
     "metadata": {},
     "output_type": "execute_result"
    }
   ],
   "source": [
    "xx.shape, yy.shape, zz.shape"
   ]
  },
  {
   "cell_type": "code",
   "execution_count": null,
   "metadata": {},
   "outputs": [],
   "source": []
  },
  {
   "cell_type": "code",
   "execution_count": 23,
   "metadata": {},
   "outputs": [],
   "source": [
    "df=df[np.logical_and(df.logsnr.between(0.36, 2), df.spt.between(16, 40))].reset_index(drop=True)"
   ]
  },
  {
   "cell_type": "code",
   "execution_count": 24,
   "metadata": {},
   "outputs": [
    {
     "data": {
      "text/plain": [
       "24.0"
      ]
     },
     "execution_count": 24,
     "metadata": {},
     "output_type": "execute_result"
    }
   ],
   "source": [
    "np.ptp(df.spt)"
   ]
  },
  {
   "cell_type": "code",
   "execution_count": 25,
   "metadata": {},
   "outputs": [],
   "source": [
    "import matplotlib.colors as mcolors\n",
    "import matplotlib\n",
    "#mymap=mcolors.LinearSegmentedColormap.from_list('my_colormap', colors)"
   ]
  },
  {
   "cell_type": "code",
   "execution_count": 26,
   "metadata": {},
   "outputs": [],
   "source": [
    "cmap='cubehelix'"
   ]
  },
  {
   "cell_type": "code",
   "execution_count": 27,
   "metadata": {},
   "outputs": [
    {
     "data": {
      "image/png": "[encoded data removed]",
      "text/plain": [
       "<Figure size 792x720 with 5 Axes>"
      ]
     },
     "metadata": {
      "needs_background": "light"
     },
     "output_type": "display_data"
    }
   ],
   "source": [
    "fig, ax=plt.subplots(ncols=2, nrows=2, figsize=(5.5*2, 5*2), \n",
    "                     sharex=False, sharey=True)\n",
    "wisps.plot_annotated_heatmap(ax[0][0], df, int(np.ptp(df.spt)), ['logsnr', 'spt', 'idx_ft_label'], cmap=cmap)\n",
    "wisps.plot_annotated_heatmap(ax[0][1], df, int(np.ptp(df.spt)), ['logsnr', 'spt', 'rf_label'],  cmap=cmap)\n",
    "wisps.plot_annotated_heatmap(ax[1][0], df, int(np.ptp(df.spt)), ['logsnr', 'spt', 'neural_net_label'],  cmap=cmap)\n",
    "wisps.plot_annotated_heatmap(ax[1][1], df, int(np.ptp(df.spt)), ['logsnr', 'spt', 'tot_label'],  cmap=cmap)\n",
    "#df.plot.hexbin(x='logsnr', y='spt', C='idx_ft_label', reduce_C_function=np.nanmean, gridsize=50, cmap=cmap, ax=ax[0][0])\n",
    "#df.plot.hexbin(x='logsnr', y='spt', C='rf_label', reduce_C_function=np.nanmean, gridsize=50, cmap=cmap, ax=ax[0][1])\n",
    "#df.plot.hexbin(x='logsnr', y='spt', C='neural_net_label', reduce_C_function=np.nanmean, gridsize=50, cmap=cmap, ax=ax[1][0])\n",
    "#df.plot.hexbin(x='logsnr', y='spt', C='tot_label', reduce_C_function=np.nanmean, gridsize=50, cmap=cmap, ax=ax[1][1])\n",
    "\n",
    "#ax[0][0].scatter( sf.data.snr1.apply(np.log10), sf.data.spt, marker='+', color='#111111', alpha=.05)\n",
    "\n",
    "\n",
    "ax[0][0].set_title('Indices, F-test ', fontsize=18)\n",
    "ax[0][1].set_title('Random Forest', fontsize=18)\n",
    "ax[1][0].set_title('Neural Network', fontsize=18)\n",
    "ax[1][1].set_title('Total (or) ', fontsize=18)\n",
    "\n",
    "for a in np.concatenate(ax):\n",
    "    a.set_xlabel('Log SNR-J', fontsize=18)\n",
    "    a.set_ylabel('SpT', fontsize=18)\n",
    "    a.axvline(np.log10(3), linestyle='--', color='#111111')\n",
    "    \n",
    "\n",
    "    a.tick_params(which='major',direction='inout')\n",
    "    a.tick_params(which='minor',direction='out')\n",
    "    \n",
    "    a.minorticks_on()\n",
    "    #a.set_yticks(np.arange(17, 42),  minor=True)\n",
    "    a.set_yticks([17, 20, 25, 30, 35, 40], minor=False)\n",
    "    a.set_yticklabels(['M7', 'L0', 'L5', 'T0', 'T5', 'Y0'], minor=False)\n",
    "    #a.set_xlim([0., 2.3])\n",
    "    #a.set_ylim([17., 42.])\n",
    "    \n",
    "plt.tight_layout()\n",
    "\n",
    "cax = fig.add_axes([1.01, 0.06, .03, 0.9])\n",
    "norm= matplotlib.colors.Normalize(vmin=0.0,vmax=1.0)\n",
    "mp=matplotlib.cm.ScalarMappable(norm=norm, cmap=cmap)\n",
    "cbar=plt.colorbar(mp, cax=cax, orientation='vertical')\n",
    "cbar.ax.set_ylabel(r'Selection Probability', fontsize=18)\n",
    "\n",
    "plt.savefig(wisps.OUTPUT_FIGURES+'/selection_function_samples.pdf', bbox_inches='tight', dpi=200)"
   ]
  },
  {
   "cell_type": "code",
   "execution_count": 28,
   "metadata": {},
   "outputs": [],
   "source": [
    "#save partial of the data to use for my selection function calculations\n",
    "df2=(df[['logsnr', 'tot_label', 'spt']])"
   ]
  },
  {
   "cell_type": "code",
   "execution_count": 29,
   "metadata": {},
   "outputs": [],
   "source": [
    "df2.logsnr=df2.logsnr.apply(lambda x: np.round(x, 1))"
   ]
  },
  {
   "cell_type": "code",
   "execution_count": 30,
   "metadata": {},
   "outputs": [],
   "source": [
    "#df2.groupby(['spt', 'logsnr'])['tot_label'].mean().plot()"
   ]
  },
  {
   "cell_type": "code",
   "execution_count": 31,
   "metadata": {},
   "outputs": [],
   "source": [
    "df2.to_pickle(wisps.OUTPUT_FILES+'/selection_function_lookup_table.pkl')"
   ]
  },
  {
   "cell_type": "code",
   "execution_count": null,
   "metadata": {},
   "outputs": [],
   "source": []
  }
 ],
 "metadata": {
  "kernelspec": {
   "display_name": "Python 3",
   "language": "python",
   "name": "python3"
  },
  "language_info": {
   "codemirror_mode": {
    "name": "ipython",
    "version": 3
   },
   "file_extension": ".py",
   "mimetype": "text/x-python",
   "name": "python",
   "nbconvert_exporter": "python",
   "pygments_lexer": "ipython3",
   "version": "3.8.5"
  }
 },
 "nbformat": 4,
 "nbformat_minor": 4
}
