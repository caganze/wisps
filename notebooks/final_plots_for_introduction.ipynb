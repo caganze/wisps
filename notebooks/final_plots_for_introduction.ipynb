{
 "cells": [
  {
   "cell_type": "code",
   "execution_count": 1,
   "metadata": {},
   "outputs": [],
   "source": [
    "#colors that I use http://clrs.cc/"
   ]
  },
  {
   "cell_type": "code",
   "execution_count": 2,
   "metadata": {},
   "outputs": [
    {
     "name": "stdout",
     "output_type": "stream",
     "text": [
      "Adding 145 sources from /Users/caganze/research/splat//resources/Spectra/Public/LRIS-RED/ to spectral database\n",
      "Adding 89 sources from /Users/caganze/research/splat//resources/Spectra/Public/MAGE/ to spectral database\n",
      "Adding 2404 sources from /Users/caganze/research/splat//resources/Spectra/Public/SPEX-PRISM/ to spectral database\n"
     ]
    }
   ],
   "source": [
    "import splat\n",
    "import wisps\n",
    "import numpy as np\n",
    "import matplotlib.pyplot as plt\n",
    "import matplotlib\n",
    "import seaborn as sns\n",
    "import pandas as pd\n",
    "%matplotlib inline\n",
    "import splat.plot as splt\n",
    "import warnings\n",
    "\n",
    "import matplotlib as mpl\n",
    "\n",
    "#import mplcyberpunk\n",
    "\n",
    "#plt.style.use(\"cyberpunk\")"
   ]
  },
  {
   "cell_type": "code",
   "execution_count": 3,
   "metadata": {},
   "outputs": [],
   "source": [
    "splat.initializeStandards()"
   ]
  },
  {
   "cell_type": "markdown",
   "metadata": {},
   "source": [
    "spectral standards"
   ]
  },
  {
   "cell_type": "code",
   "execution_count": 4,
   "metadata": {},
   "outputs": [],
   "source": [
    "import splat.photometry as sphot"
   ]
  },
  {
   "cell_type": "code",
   "execution_count": 5,
   "metadata": {},
   "outputs": [],
   "source": [
    "f140=sphot.filterProfile('WFC3 F140W')\n",
    "f160=sphot.filterProfile('WFC3 F160W')\n",
    "f110=sphot.filterProfile('WFC3 F110W')\n",
    "j_filt=sphot.filterProfile('2MASS J')\n",
    "h_filt=sphot.filterProfile('2MASS H')"
   ]
  },
  {
   "cell_type": "code",
   "execution_count": 6,
   "metadata": {},
   "outputs": [],
   "source": [
    "from matplotlib import patches"
   ]
  },
  {
   "cell_type": "code",
   "execution_count": 7,
   "metadata": {},
   "outputs": [],
   "source": [
    "#standards\n"
   ]
  },
  {
   "cell_type": "code",
   "execution_count": 8,
   "metadata": {},
   "outputs": [
    {
     "name": "stdout",
     "output_type": "stream",
     "text": [
      "Type Y0.0 is not in dwarf standards: try one of the following:\n",
      "['L0.0', 'L1.0', 'L2.0', 'L3.0', 'L4.0', 'L5.0', 'L6.0', 'L7.0', 'L8.0', 'L9.0', 'M0.0', 'M1.0', 'M2.0', 'M3.0', 'M4.0', 'M5.0', 'M6.0', 'M7.0', 'M8.0', 'M9.0', 'T0.0', 'T1.0', 'T2.0', 'T3.0', 'T4.0', 'T5.0', 'T6.0', 'T7.0', 'T8.0', 'T9.0']\n",
      "\n",
      "Warning: spectrum object has a flux vector of zero length - maybe empty?\n",
      "\n",
      "Warning: normalize is attempting to divide by nan; ignoring\n",
      "[ spectrum of , SPEX-PRISM spectrum of 2MASS J15031961+2525196 (T5.0), SPEX-PRISM spectrum of SDSS J120747.17+024424.8 (T0.0), SPEX-PRISM spectrum of SDSS J083506.16+195304.4 (L5.0), SPEX-PRISM spectrum of 2MASP J0345432+254023 (L0.0), SPEX-PRISM spectrum of VB 8 (M7.0)]\n",
      "[]\n"
     ]
    },
    {
     "ename": "AttributeError",
     "evalue": "'list' object has no attribute 'value'",
     "output_type": "error",
     "traceback": [
      "\u001b[0;31m---------------------------------------------------------------------------\u001b[0m",
      "\u001b[0;31mAttributeError\u001b[0m                            Traceback (most recent call last)",
      "\u001b[0;32m<ipython-input-8-23bc2219ef05>\u001b[0m in \u001b[0;36m<module>\u001b[0;34m\u001b[0m\n\u001b[1;32m     18\u001b[0m \u001b[0;32mfor\u001b[0m \u001b[0;34m[\u001b[0m\u001b[0midx\u001b[0m\u001b[0;34m,\u001b[0m \u001b[0ms\u001b[0m\u001b[0;34m]\u001b[0m\u001b[0;34m,\u001b[0m \u001b[0mspt\u001b[0m  \u001b[0;32min\u001b[0m \u001b[0mzip\u001b[0m\u001b[0;34m(\u001b[0m\u001b[0menumerate\u001b[0m\u001b[0;34m(\u001b[0m\u001b[0mstandards\u001b[0m\u001b[0;34m)\u001b[0m\u001b[0;34m,\u001b[0m \u001b[0mst_spts\u001b[0m\u001b[0;34m)\u001b[0m\u001b[0;34m:\u001b[0m\u001b[0;34m\u001b[0m\u001b[0;34m\u001b[0m\u001b[0m\n\u001b[1;32m     19\u001b[0m     \u001b[0mprint\u001b[0m \u001b[0;34m(\u001b[0m\u001b[0ms\u001b[0m\u001b[0;34m.\u001b[0m\u001b[0mwave\u001b[0m\u001b[0;34m)\u001b[0m\u001b[0;34m\u001b[0m\u001b[0;34m\u001b[0m\u001b[0m\n\u001b[0;32m---> 20\u001b[0;31m     \u001b[0max\u001b[0m\u001b[0;34m.\u001b[0m\u001b[0mstep\u001b[0m\u001b[0;34m(\u001b[0m\u001b[0ms\u001b[0m\u001b[0;34m.\u001b[0m\u001b[0mwave\u001b[0m\u001b[0;34m.\u001b[0m\u001b[0mvalue\u001b[0m\u001b[0;34m,\u001b[0m \u001b[0ms\u001b[0m\u001b[0;34m.\u001b[0m\u001b[0mflux\u001b[0m\u001b[0;34m.\u001b[0m\u001b[0mvalue\u001b[0m\u001b[0;34m+\u001b[0m\u001b[0midx\u001b[0m\u001b[0;34m/\u001b[0m\u001b[0;36m4\u001b[0m\u001b[0;34m,\u001b[0m \u001b[0mc\u001b[0m\u001b[0;34m=\u001b[0m\u001b[0;34m'#111111'\u001b[0m\u001b[0;34m)\u001b[0m\u001b[0;34m\u001b[0m\u001b[0;34m\u001b[0m\u001b[0m\n\u001b[0m\u001b[1;32m     21\u001b[0m     \u001b[0msmrng\u001b[0m\u001b[0;34m=\u001b[0m\u001b[0mnp\u001b[0m\u001b[0;34m.\u001b[0m\u001b[0mlogical_and\u001b[0m\u001b[0;34m(\u001b[0m\u001b[0ms\u001b[0m\u001b[0;34m.\u001b[0m\u001b[0mwave\u001b[0m\u001b[0;34m.\u001b[0m\u001b[0mvalue\u001b[0m\u001b[0;34m>\u001b[0m\u001b[0;36m1.35\u001b[0m\u001b[0;34m,\u001b[0m \u001b[0ms\u001b[0m\u001b[0;34m.\u001b[0m\u001b[0mwave\u001b[0m\u001b[0;34m.\u001b[0m\u001b[0mvalue\u001b[0m\u001b[0;34m<=\u001b[0m\u001b[0;36m1.45\u001b[0m\u001b[0;34m)\u001b[0m\u001b[0;34m\u001b[0m\u001b[0;34m\u001b[0m\u001b[0m\n\u001b[1;32m     22\u001b[0m     \u001b[0max\u001b[0m\u001b[0;34m.\u001b[0m\u001b[0mtext\u001b[0m\u001b[0;34m(\u001b[0m\u001b[0;36m1.38\u001b[0m\u001b[0;34m,\u001b[0m  \u001b[0mnp\u001b[0m\u001b[0;34m.\u001b[0m\u001b[0mnanmedian\u001b[0m\u001b[0;34m(\u001b[0m\u001b[0ms\u001b[0m\u001b[0;34m.\u001b[0m\u001b[0mflux\u001b[0m\u001b[0;34m.\u001b[0m\u001b[0mvalue\u001b[0m\u001b[0;34m[\u001b[0m\u001b[0msmrng\u001b[0m\u001b[0;34m]\u001b[0m\u001b[0;34m+\u001b[0m\u001b[0midx\u001b[0m\u001b[0;34m/\u001b[0m\u001b[0;36m4\u001b[0m\u001b[0;34m)\u001b[0m\u001b[0;34m+\u001b[0m\u001b[0;36m0.06\u001b[0m\u001b[0;34m,\u001b[0m \u001b[0mspt\u001b[0m\u001b[0;34m,\u001b[0m \u001b[0;34m{\u001b[0m\u001b[0;34m'fontsize'\u001b[0m\u001b[0;34m:\u001b[0m\u001b[0;36m17\u001b[0m\u001b[0;34m}\u001b[0m\u001b[0;34m,\u001b[0m \u001b[0mcolor\u001b[0m\u001b[0;34m=\u001b[0m\u001b[0;34m'#111111'\u001b[0m\u001b[0;34m)\u001b[0m\u001b[0;34m\u001b[0m\u001b[0;34m\u001b[0m\u001b[0m\n",
      "\u001b[0;31mAttributeError\u001b[0m: 'list' object has no attribute 'value'"
     ]
    },
    {
     "name": "stderr",
     "output_type": "stream",
     "text": [
      "findfont: Font family ['serif'] not found. Falling back to DejaVu Sans.\n"
     ]
    },
    {
     "data": {
      "image/png": "[encoded data removed]",
      "text/plain": [
       "<Figure size 432x576 with 1 Axes>"
      ]
     },
     "metadata": {
      "needs_background": "light"
     },
     "output_type": "display_data"
    }
   ],
   "source": [
    "#spectral standards\n",
    "#bands=[[1.246, 1.295],[1.15, 1.20], [1.62,1.67], [1.55, 1.60], [1.38, 1.43]]\n",
    "bands=[[1.246, 1.295],[1.15, 1.20], [1.62,1.67], [1.56, 1.61], [1.38, 1.43]]\n",
    "bandlabels=['J-cont', 'H$_2$O-1', 'CH$_4$', 'H-cont', 'H$_2$O-2']\n",
    "st_spts=[splat.typeToNum(x) for x in np.flip([17, 20, 25, 30, 35, 40])]\n",
    "standards=[splat.getStandard(x) for x in st_spts]\n",
    "\n",
    "\n",
    "for s in standards: \n",
    "    s.normalize()\n",
    "minima = 15.0\n",
    "maxima = 40.0\n",
    "print (standards)\n",
    "\n",
    "fig, ax=plt.subplots(figsize=(6, 8))\n",
    "#plt.style.use('dark_background')\n",
    "\n",
    "for [idx, s], spt  in zip(enumerate(standards), st_spts):\n",
    "    print (s.wave)\n",
    "    ax.step(s.wave.value, s.flux.value+idx/4, c='#111111')\n",
    "    smrng=np.logical_and(s.wave.value>1.35, s.wave.value<=1.45)\n",
    "    ax.text(1.38,  np.nanmedian(s.flux.value[smrng]+idx/4)+0.06, spt, {'fontsize':17}, color='#111111')\n",
    "\n",
    "for wrng, wlabel in zip(bands,  bandlabels):\n",
    "    rect=patches.Rectangle((wrng[0], -0.1), wrng[1]-wrng[0], 2.6, angle=0.0, color='#0074D9', alpha=0.3)\n",
    "    ax.add_patch(rect)\n",
    "    ax.text(wrng[0],2.35,wlabel, {'fontsize':17}, color='#111111')\n",
    "    \n",
    "ax.set_xlabel(r'$\\lambda$ ( micron)', fontsize=20)\n",
    "ax.set_ylabel(r'Normalized Flux + offset', fontsize=20)\n",
    "ax.set_xlim([1.15, 1.7])\n",
    "ax.set_ylim([-0.1, 2.5])\n",
    "ax.axhline(0, linestyle='--')\n",
    "\n",
    "plt.minorticks_on()\n",
    "plt.tight_layout()\n",
    "plt.savefig(wisps.OUTPUT_FIGURES+'/standards.pdf',  \\\n",
    "            bbox_inches='tight',  facecolor='white', transparent=False)"
   ]
  },
  {
   "cell_type": "code",
   "execution_count": null,
   "metadata": {},
   "outputs": [],
   "source": [
    "#show the data \n",
    "fig, ax=plt.subplots()"
   ]
  },
  {
   "cell_type": "code",
   "execution_count": null,
   "metadata": {},
   "outputs": [],
   "source": []
  },
  {
   "cell_type": "code",
   "execution_count": null,
   "metadata": {},
   "outputs": [],
   "source": [
    "jhknkl"
   ]
  },
  {
   "cell_type": "markdown",
   "metadata": {},
   "source": [
    "spex sample"
   ]
  },
  {
   "cell_type": "code",
   "execution_count": null,
   "metadata": {},
   "outputs": [],
   "source": [
    "d=wisps.datasets['spex']"
   ]
  },
  {
   "cell_type": "code",
   "execution_count": null,
   "metadata": {},
   "outputs": [],
   "source": [
    "d2=wisps.datasets['schneider']"
   ]
  },
  {
   "cell_type": "code",
   "execution_count": null,
   "metadata": {},
   "outputs": [],
   "source": [
    "d3=wisps.datasets['manjavacas']"
   ]
  },
  {
   "cell_type": "code",
   "execution_count": null,
   "metadata": {},
   "outputs": [],
   "source": [
    "d['snrj']=d.snr1.apply(np.log10)\n",
    "d2['snrj']=d2.snr1.apply(np.log10)\n",
    "d3['snrj']=d3.snr1.apply(np.log10)"
   ]
  },
  {
   "cell_type": "code",
   "execution_count": null,
   "metadata": {},
   "outputs": [],
   "source": [
    "#d2=d.replace(np.inf, np.nan).replace(-np.inf, np.nan).dropna()"
   ]
  },
  {
   "cell_type": "code",
   "execution_count": null,
   "metadata": {},
   "outputs": [],
   "source": [
    "#d=d[d.spt>=17.]"
   ]
  },
  {
   "cell_type": "code",
   "execution_count": null,
   "metadata": {},
   "outputs": [],
   "source": [
    "#ds=d[d['metallicity_cls']=='d/sd']"
   ]
  },
  {
   "cell_type": "code",
   "execution_count": null,
   "metadata": {},
   "outputs": [],
   "source": [
    "#d2"
   ]
  },
  {
   "cell_type": "code",
   "execution_count": null,
   "metadata": {},
   "outputs": [],
   "source": [
    "#len(spex_data)"
   ]
  },
  {
   "cell_type": "code",
   "execution_count": null,
   "metadata": {},
   "outputs": [],
   "source": []
  },
  {
   "cell_type": "markdown",
   "metadata": {},
   "source": [
    "Filters"
   ]
  },
  {
   "cell_type": "code",
   "execution_count": null,
   "metadata": {},
   "outputs": [],
   "source": [
    "import splat.photometry as sphot\n",
    "t0=splat.Spectrum(splat.STDS_DWARF_SPEX_KEYS['T0.0'])"
   ]
  },
  {
   "cell_type": "code",
   "execution_count": null,
   "metadata": {},
   "outputs": [],
   "source": [
    "f140=sphot.filterProfile('WFC3 F140W')"
   ]
  },
  {
   "cell_type": "code",
   "execution_count": null,
   "metadata": {},
   "outputs": [],
   "source": [
    "f160=sphot.filterProfile('WFC3 F160W')\n",
    "f110=sphot.filterProfile('WFC3 F110W')\n",
    "j_filt=sphot.filterProfile('2MASS J')\n",
    "h_filt=sphot.filterProfile('2MASS H')"
   ]
  },
  {
   "cell_type": "code",
   "execution_count": null,
   "metadata": {},
   "outputs": [],
   "source": [
    "t0.scale(np.nanmax(f140[1]))"
   ]
  },
  {
   "cell_type": "code",
   "execution_count": null,
   "metadata": {},
   "outputs": [],
   "source": [
    "t0.shortname"
   ]
  },
  {
   "cell_type": "code",
   "execution_count": null,
   "metadata": {},
   "outputs": [],
   "source": [
    "cmap=plt.cm.viridis"
   ]
  },
  {
   "cell_type": "code",
   "execution_count": null,
   "metadata": {},
   "outputs": [],
   "source": [
    "l5std=splat.getSpectrum(spt=25, young=False, snr=100, vlm=True)[0]"
   ]
  },
  {
   "cell_type": "code",
   "execution_count": null,
   "metadata": {},
   "outputs": [],
   "source": [
    "\n",
    "t5std=splat.getStandard(35)\n",
    "l5std.normalize()\n",
    "t5std.normalize()"
   ]
  },
  {
   "cell_type": "code",
   "execution_count": null,
   "metadata": {},
   "outputs": [],
   "source": [
    "(f140[1]).max()"
   ]
  },
  {
   "cell_type": "code",
   "execution_count": null,
   "metadata": {},
   "outputs": [],
   "source": [
    "fig, ax=plt.subplots(figsize=(10, 6))\n",
    "\n",
    "#2mass\n",
    "ax.plot( j_filt[0], j_filt[1]/((j_filt[1]).max()), alpha=1., color='#AAAAAA',linewidth=5)\n",
    "ax.plot( h_filt[0], h_filt[1]/((h_filt[1]).max()), alpha=1., color='#AAAAAA',linewidth=5)\n",
    "\n",
    "#wfc3\n",
    "ax.fill_between(f110[0], f110[1]*(1/(f110[1]).max()), 0, alpha=0.1, color='#0074D9')\n",
    "ax.fill_between( f140[0], f140[1]*(1/(f140[1]).max()), 0, alpha=0.1, color='#FF851B')\n",
    "ax.fill_between( f160[0], f160[1]*(1/(f160[1]).max()), 0, alpha=0.1, color='#FF4136')\n",
    "\n",
    "\n",
    "\n",
    "ax.plot(l5std.wave, l5std.flux,  c='#111111')\n",
    "ax.plot(t5std.wave, t5std.flux,  c='#111111')\n",
    "\n",
    "ax.text(1.0, 0.1, 'F110W', {'fontsize':18} )\n",
    "ax.text(1.2, 1.0, 'J', {'fontsize':18} )\n",
    "ax.text(1.4, 0.1, 'F140W', {'fontsize':18} )\n",
    "ax.text(1.6, 0.1, 'F160W', {'fontsize':18} )\n",
    "ax.text(1.75, 1.0, 'H', {'fontsize':18} )\n",
    "\n",
    "\n",
    "ax.set_xlim([0.8, 2.0])\n",
    "ax.set_ylim([-0.0, 1.1])\n",
    "ax.set_xlabel(r'$\\lambda$ ( micron)', fontsize=18)\n",
    "ax.set_ylabel(r'Normalized Flux', fontsize=18)\n",
    "plt.minorticks_on()\n",
    "plt.tight_layout()\n",
    "plt.savefig(wisps.OUTPUT_FIGURES+'/filter_profiles.pdf', bbox_inches='tight')"
   ]
  },
  {
   "cell_type": "markdown",
   "metadata": {},
   "source": [
    "Sky positions "
   ]
  },
  {
   "cell_type": "code",
   "execution_count": null,
   "metadata": {},
   "outputs": [],
   "source": [
    "t=pd.read_csv(wisps.OUTPUT_FILES+'/observation_log.csv').drop_duplicates(subset='POINTING')"
   ]
  },
  {
   "cell_type": "code",
   "execution_count": null,
   "metadata": {},
   "outputs": [],
   "source": [
    "#t"
   ]
  },
  {
   "cell_type": "code",
   "execution_count": null,
   "metadata": {},
   "outputs": [],
   "source": [
    "t_wisp=t[t.POINTING.str.contains('par*')]\n",
    "t_hst3d=t[t.POINTING.str.contains('pa*').apply(lambda x: not x)]"
   ]
  },
  {
   "cell_type": "code",
   "execution_count": null,
   "metadata": {},
   "outputs": [],
   "source": [
    "#t_hst3d"
   ]
  },
  {
   "cell_type": "markdown",
   "metadata": {},
   "source": [
    "This is an illustration of the modified snr"
   ]
  },
  {
   "cell_type": "code",
   "execution_count": null,
   "metadata": {},
   "outputs": [],
   "source": [
    "sp=wisps.Spectrum(filename='par32-00079')\n",
    "sp=sp.splat_spectrum\n",
    "sp.normalize()\n",
    "#flag=sp.isEmpty()\n",
    "snr1=np.array(sp.flux/sp.noise)\n",
    "snr=snr1[~np.isnan(snr1)]\n",
    "xgrid=np.linspace(np.nanmin(snr), np.nanmax(snr), len(sp.wave))\n",
    "cdf=wisps.kde_statsmodels_m(snr, xgrid)"
   ]
  },
  {
   "cell_type": "code",
   "execution_count": null,
   "metadata": {},
   "outputs": [],
   "source": [
    "#sp1=wisps.Source(name='aegis-03-G141_17053')\n",
    "#sp2=wisps.Source(name='Par32_BEAM_79A')"
   ]
  },
  {
   "cell_type": "code",
   "execution_count": null,
   "metadata": {},
   "outputs": [],
   "source": [
    "sp1=wisps.Source(name='goodss-01-G141_45889')\n",
    "sp2=wisps.Source(name='goodsn-24-G141_21552')"
   ]
  },
  {
   "cell_type": "code",
   "execution_count": null,
   "metadata": {},
   "outputs": [],
   "source": [
    "sp1.normalize(wrange=[1.1, 1.65])\n",
    "sp2.normalize(wrange=[1.1, 1.65])"
   ]
  },
  {
   "cell_type": "code",
   "execution_count": null,
   "metadata": {},
   "outputs": [],
   "source": [
    "std1=splat.getStandard(sp1.spectral_type)"
   ]
  },
  {
   "cell_type": "code",
   "execution_count": null,
   "metadata": {},
   "outputs": [],
   "source": [
    "std2=splat.getStandard(sp2.spectral_type)"
   ]
  },
  {
   "cell_type": "code",
   "execution_count": null,
   "metadata": {},
   "outputs": [],
   "source": [
    "std1.normalize(), std2.normalize()"
   ]
  },
  {
   "cell_type": "code",
   "execution_count": null,
   "metadata": {},
   "outputs": [],
   "source": [
    "fig, (ax2, ax1)=plt.subplots(1, 2, figsize=(10,4), sharex=False, sharey=True)\n",
    "\n",
    "\n",
    "ax1.step(sp1.wave, sp1.flux*5.55, c='#111111')\n",
    "ax1.step(std1.wave, std1.flux, c='#01FF70')\n",
    "\n",
    "ax1.plot(sp1.wave, (sp1.flux*sp1.sensitivity_curve)/(sp1.flux*sp1.sensitivity_curve).max(), c='#0074D9')\n",
    "ax1.set_title(sp1.shortname.upper(), fontsize=18)\n",
    "\n",
    "\n",
    "ax2.step(sp2.wave, sp2.flux*5.5, c='#111111')\n",
    "ax2.step(std2.wave, std2.flux, c='#01FF70')\n",
    "a2=ax2.step(sp2.wave, (sp2.flux*sp2.sensitivity_curve)/(sp2.flux*sp2.sensitivity_curve).max(), c='#0074D9')\n",
    "\n",
    "\n",
    "ax1.fill_between(sp1.wave, sp1.sensitivity_curve/sp1.sensitivity_curve.max(), 1., alpha=0.5,  color='#DDDDDD')\n",
    "ax2.fill_between(sp2.wave, sp2.sensitivity_curve/sp2.sensitivity_curve.max(), 1., alpha=0.5,  color='#DDDDDD')\n",
    "\n",
    "ax2.set_title(sp2.shortname.upper(), fontsize=18)\n",
    "\n",
    "for a in [ax1, ax2]:\n",
    "    a.set_xlim([1.1, 1.7])\n",
    "    a.set_xlabel(r'$\\lambda$ ( micron)', fontsize=18)\n",
    "    a.set_ylabel(r'Normalized Flux', fontsize=18)\n",
    "    a.set_ylim([0., 1.05])\n",
    "\n",
    "\n",
    "#plt.legend( ['Spectrum/Sensitivity', 'Sensitivity', 'Spectrum'], bbox_to_anchor=(0.3, 0.5), fontsize=18)\n",
    "#ax2.legend(['spectrum/sensitivity', 'sensitivity', 'spectrum'], loc='best')\n",
    "#plt.tight_layout()\n",
    "\n",
    "plt.show()\n",
    "fig.savefig(wisps.OUTPUT_FIGURES+'/sensitivity_illustration.pdf', bbox_inches='tight', fontsize=16)\n"
   ]
  },
  {
   "cell_type": "code",
   "execution_count": null,
   "metadata": {},
   "outputs": [],
   "source": [
    "import pymc3 as pm"
   ]
  },
  {
   "cell_type": "code",
   "execution_count": null,
   "metadata": {},
   "outputs": [],
   "source": []
  }
 ],
 "metadata": {
  "kernelspec": {
   "display_name": "Python 3",
   "language": "python",
   "name": "python3"
  },
  "language_info": {
   "codemirror_mode": {
    "name": "ipython",
    "version": 3
   },
   "file_extension": ".py",
   "mimetype": "text/x-python",
   "name": "python",
   "nbconvert_exporter": "python",
   "pygments_lexer": "ipython3",
   "version": "3.8.5"
  }
 },
 "nbformat": 4,
 "nbformat_minor": 4
}
