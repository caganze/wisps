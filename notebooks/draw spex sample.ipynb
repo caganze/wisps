{
 "cells": [
  {
   "cell_type": "code",
   "execution_count": 1,
   "metadata": {},
   "outputs": [],
   "source": [
    "#add spex templates to selection function\n",
    "#select the highest SNR spectra of each spectral type i.e "
   ]
  },
  {
   "cell_type": "code",
   "execution_count": 2,
   "metadata": {},
   "outputs": [
    {
     "name": "stdout",
     "output_type": "stream",
     "text": [
      "/users/caganze/research/splat\n",
      "\n",
      "\n",
      "Welcome to the Spex Prism Library Analysis Toolkit (SPLAT)!\n",
      "If you make use of any features of this toolkit for your research, please remember to cite the SPLAT paper:\n",
      "\n",
      "Burgasser et al. (2017, Astro. Soc. India Conf. Series 14, p. 7); Bibcode: 2017ASInC..14....7B\n",
      "\n",
      "If you make use of any spectra or models in this toolkit, please remember to cite the original source.\n",
      "Please report any errors are feature requests to our github page, https://github.com/aburgasser/splat/\n",
      "\n",
      "\n"
     ]
    }
   ],
   "source": [
    "import splat\n",
    "import wisps\n",
    "import pandas as pd\n",
    "import numpy as np\n",
    "import matplotlib.pyplot as plt\n",
    "import copy\n",
    "import numba\n",
    "%matplotlib inline"
   ]
  },
  {
   "cell_type": "code",
   "execution_count": null,
   "metadata": {},
   "outputs": [],
   "source": []
  },
  {
   "cell_type": "code",
   "execution_count": 3,
   "metadata": {},
   "outputs": [],
   "source": [
    "#pectra=pd.read_pickle(wisps.OUTPUT_FILES+'/l_t_dwarfs_spex.pkl.gz')"
   ]
  },
  {
   "cell_type": "code",
   "execution_count": 4,
   "metadata": {},
   "outputs": [],
   "source": [
    "from scipy import stats"
   ]
  },
  {
   "cell_type": "code",
   "execution_count": 5,
   "metadata": {},
   "outputs": [],
   "source": [
    "data=wisps.datasets['spex']"
   ]
  },
  {
   "cell_type": "code",
   "execution_count": 6,
   "metadata": {},
   "outputs": [],
   "source": [
    "x=np.sort((data.spex_chi/data.line_chi).values)"
   ]
  },
  {
   "cell_type": "code",
   "execution_count": 7,
   "metadata": {},
   "outputs": [
    {
     "data": {
      "text/plain": [
       "array([1.63090026e-67, 3.28692237e-67, 3.59751326e-67, ...,\n",
       "       1.34897921e+01, 2.05481348e+01, 2.38230760e+01])"
      ]
     },
     "execution_count": 7,
     "metadata": {},
     "output_type": "execute_result"
    }
   ],
   "source": [
    "x"
   ]
  },
  {
   "cell_type": "code",
   "execution_count": 8,
   "metadata": {},
   "outputs": [
    {
     "data": {
      "text/plain": [
       "<matplotlib.legend.Legend at 0x7fd67ca08790>"
      ]
     },
     "execution_count": 8,
     "metadata": {},
     "output_type": "execute_result"
    },
    {
     "name": "stderr",
     "output_type": "stream",
     "text": [
      "findfont: Font family ['serif'] not found. Falling back to DejaVu Sans.\n",
      "findfont: Generic family 'serif' not found because none of the following families were found: \n"
     ]
    },
    {
     "data": {
      "image/png": "[encoded data removed]",
      "text/plain": [
       "<Figure size 432x288 with 1 Axes>"
      ]
     },
     "metadata": {
      "needs_background": "light"
     },
     "output_type": "display_data"
    }
   ],
   "source": [
    "plt.plot(x, stats.f.cdf(x, 518, 111, x.mean(), np.ptp(x)), lw=5, alpha=0.6, label='scalled')\n",
    "plt.plot(x, stats.f.cdf(x, 518, 111), lw=5, alpha=0.6, label='unscalled')\n",
    "plt.axvline(1)\n",
    "plt.legend()"
   ]
  },
  {
   "cell_type": "code",
   "execution_count": 9,
   "metadata": {},
   "outputs": [],
   "source": [
    "#dofs=[x.splat_spectrum.toInstrument('WFC3-G141').dof for x in pectra ]"
   ]
  },
  {
   "cell_type": "code",
   "execution_count": 10,
   "metadata": {},
   "outputs": [],
   "source": [
    "splat.initializeStandards()"
   ]
  },
  {
   "cell_type": "code",
   "execution_count": 11,
   "metadata": {},
   "outputs": [],
   "source": [
    "spts=np.array([splat.typeToNum(x) for x in np.arange(16, 42)])"
   ]
  },
  {
   "cell_type": "code",
   "execution_count": null,
   "metadata": {},
   "outputs": [],
   "source": []
  },
  {
   "cell_type": "code",
   "execution_count": 12,
   "metadata": {},
   "outputs": [],
   "source": [
    "#remove object from forbidden list\n",
    "splat_db0=splat.searchLibrary(vlm=True, giant=False, young=False)\n",
    "splat_db0['SHORTNAME']=splat_db0.DESIGNATION.apply(splat.designationToShortName)\n",
    "splat_db=splat_db0[~splat_db0.SHORTNAME.isin(wisps.FORBIDDEN_LIST)].reset_index(drop=True)"
   ]
  },
  {
   "cell_type": "code",
   "execution_count": 13,
   "metadata": {},
   "outputs": [],
   "source": [
    "df=splat_db[splat_db.SPEX_TYPE.isin(spts)]"
   ]
  },
  {
   "cell_type": "code",
   "execution_count": 14,
   "metadata": {},
   "outputs": [],
   "source": [
    "splat_within_snr=df[df.MEDIAN_SNR.between(5, 200)]"
   ]
  },
  {
   "cell_type": "code",
   "execution_count": 15,
   "metadata": {},
   "outputs": [
    {
     "name": "stdout",
     "output_type": "stream",
     "text": [
      "Could not import regions, which is required for some of the functionalities of this module.\n"
     ]
    }
   ],
   "source": [
    "import splat.database as splatdb"
   ]
  },
  {
   "cell_type": "code",
   "execution_count": 16,
   "metadata": {},
   "outputs": [],
   "source": [
    "#binary vetting\n",
    "folder='/volumes/LaCie/wispsdata/data/'\n",
    "bindf=pd.read_csv(folder+'/binaries.txt', names=['name', ' '], sep=',')"
   ]
  },
  {
   "cell_type": "code",
   "execution_count": 17,
   "metadata": {},
   "outputs": [],
   "source": [
    "groups=splat_within_snr.sort_values('MEDIAN_SNR',ascending=False).groupby('SPEX_TYPE')"
   ]
  },
  {
   "cell_type": "code",
   "execution_count": 18,
   "metadata": {},
   "outputs": [],
   "source": [
    "picks=[]\n",
    "for g in groups:\n",
    "    picks.append(g[1].nlargest(20,'MEDIAN_SNR'  ))"
   ]
  },
  {
   "cell_type": "code",
   "execution_count": 19,
   "metadata": {},
   "outputs": [],
   "source": [
    "df_picks=pd.concat(picks)"
   ]
  },
  {
   "cell_type": "code",
   "execution_count": 20,
   "metadata": {},
   "outputs": [],
   "source": [
    "#s=splat.getSpectrum(lucky=True)[0]\n",
    "#s.toInstrument('WFC3') forget smoothing"
   ]
  },
  {
   "cell_type": "code",
   "execution_count": 21,
   "metadata": {},
   "outputs": [],
   "source": [
    "\n",
    "def create_splat_source(filename):\n",
    "    try:\n",
    "        #create a wisps spectrum\n",
    "        #retrieve splat spectrum\n",
    "\n",
    "        splat_s=splat.getSpectrum(filename=filename)[0]\n",
    "        #spt=splat.typeToNum(splat_s.spex_type)\n",
    "        #splat_s.toInstrument('WFC3-G141')\n",
    "\n",
    "        #create a source object\n",
    "        s=wisps.Spectrum( \n",
    "                       wave=splat_s.wave.value, \n",
    "                       flux=splat_s.flux.value,\n",
    "                      noise=splat_s.noise.value,\n",
    "                    contam= np.ones_like(splat_s.noise.value))\n",
    "        \n",
    "        #put it on wisps resolution\n",
    "        \n",
    "        s._splat_spectrum=splat_s\n",
    "\n",
    "        s.normalize()\n",
    "        return s\n",
    "    except:\n",
    "        return \n"
   ]
  },
  {
   "cell_type": "code",
   "execution_count": 22,
   "metadata": {},
   "outputs": [],
   "source": [
    "import wisps"
   ]
  },
  {
   "cell_type": "code",
   "execution_count": 23,
   "metadata": {},
   "outputs": [],
   "source": [
    "df_picks['spt']=df_picks.SPEX_TYPE.apply(wisps.make_spt_number)"
   ]
  },
  {
   "cell_type": "code",
   "execution_count": 24,
   "metadata": {},
   "outputs": [],
   "source": [
    "df_picks=df_picks.sort_values(by='spt')"
   ]
  },
  {
   "cell_type": "code",
   "execution_count": 25,
   "metadata": {},
   "outputs": [],
   "source": [
    "%%capture\n",
    "spectra=df_picks.DATA_FILE.apply(create_splat_source)"
   ]
  },
  {
   "cell_type": "code",
   "execution_count": 26,
   "metadata": {},
   "outputs": [
    {
     "data": {
      "text/plain": [
       "1034    anon spectrum\n",
       "1167    anon spectrum\n",
       "178     anon spectrum\n",
       "855     anon spectrum\n",
       "1256    anon spectrum\n",
       "            ...      \n",
       "236     anon spectrum\n",
       "317     anon spectrum\n",
       "799     anon spectrum\n",
       "1401    anon spectrum\n",
       "428              None\n",
       "Name: DATA_FILE, Length: 443, dtype: object"
      ]
     },
     "execution_count": 26,
     "metadata": {},
     "output_type": "execute_result"
    }
   ],
   "source": [
    "spectra"
   ]
  },
  {
   "cell_type": "code",
   "execution_count": 27,
   "metadata": {},
   "outputs": [],
   "source": [
    "def plot_sp_sp(s, a, shortname):\n",
    "    std=splat.STDS_DWARF_SPEX[splat.typeToNum(s.spectral_type[0])]\n",
    "    std.normalize(waverange=[1.1, 1.7])\n",
    "    mask2=np.logical_and(std.wave.value>0.8, std.wave.value<2.5)\n",
    "    \n",
    "    mask=np.logical_and(s.wave>0.8, s.wave<2.5)\n",
    "    a.plot(s.wave[mask], s.flux[mask], label=shortname,linewidth=3)\n",
    "    a.plot(std.wave.value[mask2], std.flux.value[mask2], linestyle='--', label='std', alpha=0.5)\n",
    "    \n",
    "    \n",
    "    a.set_title(\"{} \".format(s.spectral_type ))\n",
    "    a.legend()\n"
   ]
  },
  {
   "cell_type": "code",
   "execution_count": 28,
   "metadata": {},
   "outputs": [
    {
     "data": {
      "text/plain": [
       "anon spectrum"
      ]
     },
     "execution_count": 28,
     "metadata": {},
     "output_type": "execute_result"
    }
   ],
   "source": [
    "(spectra.iloc[0])"
   ]
  },
  {
   "cell_type": "code",
   "execution_count": 29,
   "metadata": {},
   "outputs": [],
   "source": [
    "#for idx, s in enumerate(spectra.dropna().values):\n",
    "#    s.normalize()\n",
    "#    fig, ax=plt.subplots()\n",
    "#    plot_sp_sp(s, ax, idx)\n",
    "    \n",
    "    \n",
    "   "
   ]
  },
  {
   "cell_type": "code",
   "execution_count": 30,
   "metadata": {},
   "outputs": [],
   "source": [
    "def make_wisps(splat_s):\n",
    "    try:\n",
    "        s=wisps.Spectrum(wave=splat_s.wave.value, \n",
    "                           flux=splat_s.flux.value,\n",
    "                          noise=splat_s.noise.value,\n",
    "                        contam= np.ones_like(splat_s.noise.value))\n",
    "        s.dof=len(s.wave)\n",
    "        return s\n",
    "    except:\n",
    "        return \n"
   ]
  },
  {
   "cell_type": "code",
   "execution_count": 31,
   "metadata": {},
   "outputs": [],
   "source": [
    "import glob\n",
    "from astropy.io import ascii"
   ]
  },
  {
   "cell_type": "code",
   "execution_count": 32,
   "metadata": {},
   "outputs": [],
   "source": [
    "ydwarfs_stds=pd.read_pickle('/volumes/LaCie/wispsdata/db/ystandards.pkl')\n",
    "\n",
    "#get y dwarfs\n",
    "def get_shortname(n):\n",
    "        return splat.designationToShortName(n).replace('J', 'WISE')\n",
    "\n",
    "schn='/Volumes/Lacie/schneider/*.txt'\n",
    "schntb=pd.read_csv('/Volumes/Lacie/wispsdata/data/schneider2015.txt', \n",
    "                   delimiter=' ').drop(columns='Unnamed: 14')\n",
    "schntb['shortname']=schntb.Name.apply(get_shortname)\n",
    "spectra_schn=[]\n",
    "for f in glob.glob(schn):\n",
    "    d=ascii.read(f).to_pandas()\n",
    "    shortname=(f.split('/')[-1]).split('.txt')[0]\n",
    "    s=splat.Spectrum(wave=d.col1, \n",
    "                     flux=d.col2,\n",
    "                     noise=d.col3, \n",
    "                     name=shortname)\n",
    "    #measure snr \n",
    "    mask= np.logical_and(d.col1>1.0, d.col1<2.4)\n",
    "    snr= (np.nanmedian(d.col2[mask]/d.col3[mask]))\n",
    "    spectra_schn.append([s, snr])"
   ]
  },
  {
   "cell_type": "code",
   "execution_count": 33,
   "metadata": {},
   "outputs": [],
   "source": [
    "ydwarfs_data=[make_wisps(x) for x in np.array(spectra_schn).flatten()]"
   ]
  },
  {
   "cell_type": "code",
   "execution_count": 34,
   "metadata": {},
   "outputs": [],
   "source": [
    "ydwarfs_data =[x for  x in ydwarfs_data if x]"
   ]
  },
  {
   "cell_type": "code",
   "execution_count": 35,
   "metadata": {},
   "outputs": [
    {
     "name": "stdout",
     "output_type": "stream",
     "text": [
      "\n",
      "Retrieving 2 files\n",
      "\n",
      "\n",
      "Retrieving 14 files\n",
      "\n"
     ]
    }
   ],
   "source": [
    "t9s=[make_wisps(x) for x in splat.getSpectrum(spt='T9.0')]\n",
    "t8s=[make_wisps(x) for x in splat.getSpectrum(spt='T8.0')]\n",
    "y0=[make_wisps(x ) for x in ydwarfs_stds.spec]\n",
    "y1=[make_wisps(x) for x in ydwarfs_stds.spec]\n",
    "#l3s=[make_wisps(x) for x in splat.getSpectrum(spt='L3.0', binary=False, vlm=True, young=False)]"
   ]
  },
  {
   "cell_type": "code",
   "execution_count": 36,
   "metadata": {},
   "outputs": [],
   "source": [
    "extras=[x for x in np.concatenate([t9s, t8s, y0, y1])]\n",
    "extras=[x for x in extras if x]"
   ]
  },
  {
   "cell_type": "code",
   "execution_count": 37,
   "metadata": {},
   "outputs": [],
   "source": [
    "retain=np.append(spectra.dropna().values, extras)\n",
    "retain=np.append(retain, ydwarfs_data)"
   ]
  },
  {
   "cell_type": "code",
   "execution_count": 46,
   "metadata": {},
   "outputs": [],
   "source": [
    "dfsp=pd.DataFrame()\n",
    "dfsp['spectra']=retain\n",
    "dfsp['spt']= [x.spectral_type for x in retain]\n",
    "dfsp['splat_spectra']=[x.splat_spectrum for x in retain]"
   ]
  },
  {
   "cell_type": "code",
   "execution_count": 47,
   "metadata": {},
   "outputs": [],
   "source": [
    "import pickle\n",
    "with open(wisps.OUTPUT_FILES+'/l_t_dwarfs_spex.pkl', 'wb') as file:\n",
    "    pickle.dump(retain,file)"
   ]
  },
  {
   "cell_type": "code",
   "execution_count": 69,
   "metadata": {},
   "outputs": [],
   "source": [
    "#create another file with just spectra interpolated\n",
    "df_spectra_only=pd.DataFrame()\n",
    "df_spectra_only['spt']= [x.spectral_type for x in retain]\n",
    "df_spectra_only['flux']= [x.splat_spectrum.flux.value for  x in retain]\n",
    "df_spectra_only['wave']=[x.splat_spectrum.wave.value for  x in retain]\n",
    "df_spectra_only['noise']=[x.splat_spectrum.noise.value for  x in retain]"
   ]
  },
  {
   "cell_type": "code",
   "execution_count": 71,
   "metadata": {},
   "outputs": [],
   "source": [
    "df_spectra_only.to_hdf('/volumes/LaCie/popsimsdata/spectral_templates_data.h5', key='singles')"
   ]
  },
  {
   "cell_type": "code",
   "execution_count": 72,
   "metadata": {},
   "outputs": [
    {
     "data": {
      "text/plain": [
       "[(0.0, 11.0)]"
      ]
     },
     "execution_count": 72,
     "metadata": {},
     "output_type": "execute_result"
    },
    {
     "data": {
      "image/png": "[encoded data removed]",
      "text/plain": [
       "<Figure size 432x288 with 1 Axes>"
      ]
     },
     "metadata": {
      "needs_background": "light"
     },
     "output_type": "display_data"
    }
   ],
   "source": [
    "#visualize spectra\n",
    "fig, ax=plt.subplots()\n",
    "for x in dfsp['splat_spectra'].values:\n",
    "    s.normalize()\n",
    "    plt.plot(x.wave, x.flux.value+np.random.random()*10, c='b', alpha=0.1)\n",
    "\n",
    "ax.set(ylim=[0, 11])"
   ]
  },
  {
   "cell_type": "code",
   "execution_count": 48,
   "metadata": {},
   "outputs": [
    {
     "data": {
      "text/plain": [
       "478"
      ]
     },
     "execution_count": 48,
     "metadata": {},
     "output_type": "execute_result"
    }
   ],
   "source": [
    "len(dfsp)"
   ]
  },
  {
   "cell_type": "code",
   "execution_count": 42,
   "metadata": {},
   "outputs": [
    {
     "ename": "NameError",
     "evalue": "name 'hgjbknl' is not defined",
     "output_type": "error",
     "traceback": [
      "\u001b[0;31m---------------------------------------------------------------------------\u001b[0m",
      "\u001b[0;31mNameError\u001b[0m                                 Traceback (most recent call last)",
      "\u001b[0;32m/var/folders/p5/jqfspzln0z965dsfd1pj_5900000gp/T/ipykernel_41774/1377231677.py\u001b[0m in \u001b[0;36m<module>\u001b[0;34m\u001b[0m\n\u001b[0;32m----> 1\u001b[0;31m \u001b[0mhgjbknl\u001b[0m\u001b[0;34m\u001b[0m\u001b[0;34m\u001b[0m\u001b[0m\n\u001b[0m",
      "\u001b[0;31mNameError\u001b[0m: name 'hgjbknl' is not defined"
     ]
    }
   ],
   "source": [
    "hgjbknl"
   ]
  },
  {
   "cell_type": "code",
   "execution_count": null,
   "metadata": {},
   "outputs": [],
   "source": [
    "rdpck=pd.read_pickle(wisps.OUTPUT_FILES+'/l_t_dwarfs_spex.pkl')"
   ]
  },
  {
   "cell_type": "code",
   "execution_count": null,
   "metadata": {},
   "outputs": [],
   "source": [
    "bindf['shortname']=bindf.name.apply(str).apply(splat.designationToShortName)"
   ]
  },
  {
   "cell_type": "code",
   "execution_count": null,
   "metadata": {},
   "outputs": [],
   "source": [
    "splat_within_snr['shortname']=splat_within_snr.DESIGNATION.apply(splat.designationToShortName)"
   ]
  },
  {
   "cell_type": "code",
   "execution_count": null,
   "metadata": {},
   "outputs": [],
   "source": [
    "bsample=splat_within_snr[ ~ (splat_within_snr.shortname.isin(bindf.shortname) |\n",
    "                             np.isnan(splat_db['PARALLAX']) | (splat_within_snr['SBINARY'] =='Y'))]"
   ]
  },
  {
   "cell_type": "code",
   "execution_count": null,
   "metadata": {},
   "outputs": [],
   "source": [
    "bsample=bsample.reset_index(drop=True)"
   ]
  },
  {
   "cell_type": "code",
   "execution_count": null,
   "metadata": {},
   "outputs": [],
   "source": [
    "%%capture\n",
    "bsample_spectra=bsample.DATA_FILE.apply(create_splat_source)"
   ]
  },
  {
   "cell_type": "code",
   "execution_count": null,
   "metadata": {},
   "outputs": [],
   "source": [
    "bsample['spectra']=bsample_spectra"
   ]
  },
  {
   "cell_type": "code",
   "execution_count": null,
   "metadata": {},
   "outputs": [],
   "source": [
    "from matplotlib.backends.backend_pdf import PdfPages"
   ]
  },
  {
   "cell_type": "code",
   "execution_count": null,
   "metadata": {},
   "outputs": [],
   "source": [
    "bsample=bsample.drop_duplicates(subset='shortname').reset_index(drop=True)"
   ]
  },
  {
   "cell_type": "code",
   "execution_count": null,
   "metadata": {},
   "outputs": [],
   "source": [
    "dfextr=pd.DataFrame()\n",
    "#dfextr['NAME']=['J045853.90+643451.9', 'WISE1738+2732', 'WISE1738+2732']\n",
    "dfextr['SPEX_TYPE']=[x.spectral_type for x in extras]\n",
    "#dfextr['shortname']=['J045853.90+643451.9', 'WISE1738+2732', 'WISE1738+2732']\n",
    "dfextr['spectra']=extras\n"
   ]
  },
  {
   "cell_type": "code",
   "execution_count": null,
   "metadata": {},
   "outputs": [],
   "source": [
    "#add T9 and y dwarfs\n",
    "#dfextr\n",
    "bspl=bsample.append(dfextr, ignore_index=True, verify_integrity=True, sort=True)"
   ]
  },
  {
   "cell_type": "code",
   "execution_count": null,
   "metadata": {},
   "outputs": [],
   "source": [
    "bspl=bspl[~bspl.spectra.isna()]"
   ]
  },
  {
   "cell_type": "code",
   "execution_count": null,
   "metadata": {},
   "outputs": [],
   "source": [
    "%%capture\n",
    "with PdfPages(wisps.OUTPUT_FIGURES+'/multipage_binaries.pdf') as pdf:\n",
    "    \n",
    "    for g in np.array_split(bspl, int(len(bspl)/4)):\n",
    "        fig, ax=plt.subplots(ncols=2, nrows=2)\n",
    "        \n",
    "        plot_sp_sp(g.spectra.iloc[0], ax[0][0], g.shortname.iloc[0])\n",
    "        plot_sp_sp(g.spectra.iloc[1], ax[0][1],  g.shortname.iloc[1])\n",
    "        plot_sp_sp(g.spectra.iloc[2], ax[1][0],  g.shortname.iloc[2])\n",
    "        plot_sp_sp(g.spectra.iloc[3], ax[1][1],  g.shortname.iloc[3])\n",
    "\n",
    "        pdf.savefig() \n",
    "        plt.close()"
   ]
  },
  {
   "cell_type": "code",
   "execution_count": null,
   "metadata": {},
   "outputs": [],
   "source": [
    "bspl.reset_index(drop=True).to_pickle(wisps.OUTPUT_FILES+'/binary_spex.pkl')"
   ]
  },
  {
   "cell_type": "code",
   "execution_count": null,
   "metadata": {},
   "outputs": [],
   "source": [
    "(bspl[['SOURCE_KEY', 'NAME', 'DESIGNATION', 'RA', 'DEC', 'DISCOVERY_REFERENCE',\n",
    "       'OPT_TYPE', 'NIR_TYPE', 'LIT_TYPE',\n",
    "       'J_2MASS',\n",
    "       'H_2MASS_E', 'GRAVITY_CLASS_NIR','BINARY', 'SBINARY','SIMBAD_NAME', 'SIMBAD_SPT',\n",
    "       'SIMBAD_SPT_REF', 'PARALLAX', 'PARALLAX_E', 'DISTANCE',\n",
    "       'SPEX_GRAVITY_CLASSIFICATION', \n",
    "       'shortname']]).to_excel(wisps.OUTPUT_FILES+\"/nonbinaries.xlsx\")  "
   ]
  },
  {
   "cell_type": "code",
   "execution_count": null,
   "metadata": {},
   "outputs": [],
   "source": []
  }
 ],
 "metadata": {
  "kernelspec": {
   "display_name": "Python 3 (ipykernel)",
   "language": "python",
   "name": "python3"
  },
  "language_info": {
   "codemirror_mode": {
    "name": "ipython",
    "version": 3
   },
   "file_extension": ".py",
   "mimetype": "text/x-python",
   "name": "python",
   "nbconvert_exporter": "python",
   "pygments_lexer": "ipython3",
   "version": "3.9.7"
  }
 },
 "nbformat": 4,
 "nbformat_minor": 4
}
