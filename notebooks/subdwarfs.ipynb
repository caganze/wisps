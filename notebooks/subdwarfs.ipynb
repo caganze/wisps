{
 "cells": [
  {
   "cell_type": "code",
   "execution_count": 1,
   "metadata": {},
   "outputs": [
    {
     "name": "stdout",
     "output_type": "stream",
     "text": [
      "Adding 89 sources from /Users/caganze/research/splat//resources/Spectra/Public/MAGE/ to spectral database\n",
      "Adding 145 sources from /Users/caganze/research/splat//resources/Spectra/Public/LRIS-RED/ to spectral database\n",
      "Adding 2404 sources from /Users/caganze/research/splat//resources/Spectra/Public/SPEX-PRISM/ to spectral database\n"
     ]
    }
   ],
   "source": [
    "import splat\n",
    "import wisps\n",
    "import pandas as pd\n",
    "import numpy as np\n",
    "import matplotlib.pyplot as plt\n",
    "import copy\n",
    "import numba\n",
    "from tqdm import tqdm\n",
    "%matplotlib inline"
   ]
  },
  {
   "cell_type": "code",
   "execution_count": 2,
   "metadata": {},
   "outputs": [],
   "source": [
    "#s= wisps.Source(filename='par32-00075')"
   ]
  },
  {
   "cell_type": "code",
   "execution_count": 3,
   "metadata": {},
   "outputs": [],
   "source": [
    "#s.plot(compare_to_sds=True, comprange=[[1.15, 1.6]])"
   ]
  },
  {
   "cell_type": "code",
   "execution_count": 4,
   "metadata": {},
   "outputs": [],
   "source": [
    "#s.distance"
   ]
  },
  {
   "cell_type": "code",
   "execution_count": 5,
   "metadata": {},
   "outputs": [],
   "source": [
    "#ghvj"
   ]
  },
  {
   "cell_type": "code",
   "execution_count": 6,
   "metadata": {},
   "outputs": [],
   "source": [
    "exclude=[]"
   ]
  },
  {
   "cell_type": "code",
   "execution_count": 7,
   "metadata": {},
   "outputs": [
    {
     "data": {
      "text/plain": [
       "117"
      ]
     },
     "execution_count": 7,
     "metadata": {},
     "output_type": "execute_result"
    }
   ],
   "source": [
    "len(splat.searchLibrary(vlm=True, giant=False, subdwarf=True, spt=[15, 29], young=False))"
   ]
  },
  {
   "cell_type": "code",
   "execution_count": 8,
   "metadata": {},
   "outputs": [
    {
     "data": {
      "text/plain": [
       "117"
      ]
     },
     "execution_count": 8,
     "metadata": {},
     "output_type": "execute_result"
    }
   ],
   "source": [
    "len(splat.searchLibrary(vlm=True, giant=False, subdwarf=True, metallicity_class='sd', spt=[15, 29]))"
   ]
  },
  {
   "cell_type": "code",
   "execution_count": 9,
   "metadata": {},
   "outputs": [],
   "source": [
    "#remove object from forbidden list\n",
    "splat_db0=splat.searchLibrary(vlm=True, giant=False, subdwarf=True, spt=[15, 29], young=False)\n",
    "splat_db0['SHORTNAME']=splat_db0.DESIGNATION.apply(splat.designationToShortName)\n",
    "splat_db=splat_db0[~splat_db0.SHORTNAME.isin(wisps.FORBIDDEN_LIST)].reset_index(drop=True)"
   ]
  },
  {
   "cell_type": "code",
   "execution_count": 10,
   "metadata": {},
   "outputs": [],
   "source": [
    "splat_within_snr=splat_db[splat_db.MEDIAN_SNR.between(5, 200)]"
   ]
  },
  {
   "cell_type": "code",
   "execution_count": 11,
   "metadata": {},
   "outputs": [],
   "source": [
    "def create_splat_source(filename):\n",
    "    try:\n",
    "        #create a wisps spectrum\n",
    "        #retrieve splat spectrum\n",
    "\n",
    "        splat_s=splat.getSpectrum(filename=filename)[0]\n",
    "        #trim\n",
    "        #splat_s.trim([1.1, 1.7])\n",
    "        \n",
    "        #spt=splat.typeToNum(splat_s.spex_type)\n",
    "        #splat_s.toInstrument('WFC3-G141')\n",
    "\n",
    "        #create a source object\n",
    "        s=wisps.Spectrum( \n",
    "                       wave=splat_s.wave.value, \n",
    "                       flux=splat_s.flux.value,\n",
    "                      noise=splat_s.noise.value,\n",
    "                      contam= np.zeros(len(splat_s.wave.value)))\n",
    "        \n",
    "        #put it on wisps resolution\n",
    "        \n",
    "        s._splat_spectrum=splat_s\n",
    "\n",
    "        s.normalize()\n",
    "        return np.array([s, splat_s])\n",
    "    except OSError:\n",
    "        return np.array([None, None])\n",
    "    "
   ]
  },
  {
   "cell_type": "code",
   "execution_count": 12,
   "metadata": {},
   "outputs": [],
   "source": [
    "#splat_within_snr.head(5)"
   ]
  },
  {
   "cell_type": "code",
   "execution_count": null,
   "metadata": {},
   "outputs": [],
   "source": []
  },
  {
   "cell_type": "code",
   "execution_count": 13,
   "metadata": {},
   "outputs": [],
   "source": [
    "%%capture\n",
    "tqdm.pandas()\n",
    "spectra=splat_within_snr.DATA_FILE.progress_apply(create_splat_source)"
   ]
  },
  {
   "cell_type": "code",
   "execution_count": 14,
   "metadata": {},
   "outputs": [
    {
     "data": {
      "text/plain": [
       "100"
      ]
     },
     "execution_count": 14,
     "metadata": {},
     "output_type": "execute_result"
    }
   ],
   "source": [
    "len(splat_within_snr)"
   ]
  },
  {
   "cell_type": "code",
   "execution_count": 15,
   "metadata": {},
   "outputs": [
    {
     "data": {
      "text/plain": [
       "dict_keys(['M0.0', 'M1.0', 'M2.0', 'M3.0', 'M4.0', 'M5.0', 'M6.0', 'M7.0', 'M8.0', 'M9.0', 'L0.0', 'L1.0', 'L2.0', 'L3.0', 'L4.0', 'L5.0', 'L6.0', 'L7.0', 'L8.0', 'L9.0', 'T0.0', 'T1.0', 'T2.0', 'T3.0', 'T4.0', 'T5.0', 'T6.0', 'T7.0', 'T8.0', 'T9.0', 'Y0.0', 'Y1.0'])"
      ]
     },
     "execution_count": 15,
     "metadata": {},
     "output_type": "execute_result"
    }
   ],
   "source": [
    "splat.STDS_DWARF_SPEX.keys()"
   ]
  },
  {
   "cell_type": "code",
   "execution_count": 16,
   "metadata": {},
   "outputs": [
    {
     "data": {
      "text/plain": [
       "dict_keys(['d/sdM4.0', 'd/sdM5.0', 'd/sdM6.0', 'd/sdM7.0', 'd/sdM8.0', 'd/sdM9.0', 'd/sdL0.0', 'd/sdL1.0', 'd/sdL7.0'])"
      ]
     },
     "execution_count": 16,
     "metadata": {},
     "output_type": "execute_result"
    }
   ],
   "source": [
    "splat.STDS_DSD_SPEX.keys()"
   ]
  },
  {
   "cell_type": "code",
   "execution_count": 17,
   "metadata": {},
   "outputs": [
    {
     "data": {
      "text/plain": [
       "dict_keys(['M0.0', 'M1.0', 'M2.0', 'M3.0', 'M4.0', 'M5.0', 'M6.0', 'M7.0', 'M8.0', 'M9.0', 'L0.0', 'L1.0', 'L2.0', 'L3.0', 'L4.0', 'L5.0', 'L6.0', 'L7.0', 'L8.0', 'L9.0', 'T0.0', 'T1.0', 'T2.0', 'T3.0', 'T4.0', 'T5.0', 'T6.0', 'T7.0', 'T8.0', 'T9.0', 'Y0.0', 'Y1.0'])"
      ]
     },
     "execution_count": 17,
     "metadata": {},
     "output_type": "execute_result"
    }
   ],
   "source": [
    "splat.STDS_DWARF_SPEX.keys()"
   ]
  },
  {
   "cell_type": "code",
   "execution_count": 18,
   "metadata": {},
   "outputs": [],
   "source": [
    "EXCLUDE=['J05585891-2903267', 'J10462067+2354307', 'J1252301-432155',  'J14270666+4808164',\\\n",
    "        'J16130315+6502051', 'J21225635+3656002', 'J00180652+2853259', 'J00255117-0748069', \\\n",
    "         'J00524886+1712434', 'J01002474+171127', 'J01572792+0116433', 'J02243259+1730043', \n",
    "         'J03301720+3505001','J03303847-2348463', 'J04024315+1730136', 'J04520994-2245084', \n",
    "        'J06095784+6954460', 'J08305161+3612577', 'J23311819+460727', 'J2325168-043101', \n",
    "         'J22211039-1958053', 'J13312833+2447114', 'J1227050-0447207', 'J04470652-1946392',\n",
    "         'J00554418+2506235', 'J01012732+3521529', 'J02064420-242826', 'J02193629-2639526',\n",
    "         'J07212276+0308490',  'J07522108+1809283', 'J10130734-1356204', 'J09042301+4638192', \n",
    "        'J10153992+4758285', 'J10171562+4654066', 'J11181466+0941131', 'J12053656+1513229', \\\n",
    "         'J12182812+1325080', 'J12341578+2037054', 'J13035292+5115064', 'J13133115+3322468',\n",
    "        'J15281990+2221148', 'J15225932-0244530', 'J23311819+4607273', 'J23295021+5055528', \n",
    "        'J15202948+1434391', 'J0148-4225', 'J02064420-2428267', 'J02320825-4437059',\\\n",
    "         'J12274209+2512586', 'J13512862+5506575','J00575764+2013040', 'J22314276-3451471', \\\n",
    "         'J0720341-490235']"
   ]
  },
  {
   "cell_type": "code",
   "execution_count": 19,
   "metadata": {},
   "outputs": [],
   "source": [
    "def plot_sp_sp(s, a, shortname, spt):\n",
    "    \n",
    "    std=splat.STDS_DWARF_SPEX[spt]\n",
    "    _, scale=splat.compareSpectra(s.splat_spectrum, std,  comprange=[[0.8, 1.3]], statistic='chisqr', scale=True) \n",
    "    std.scale(scale)\n",
    "    xlim=[0.8, 2.5 ]\n",
    "    mask= np.logical_and(s.wave>xlim[0],  s.wave<xlim[-1])\n",
    "    a.plot(s.wave, s.flux, label=shortname,linewidth=3, c='k')\n",
    "    a.plot(std.wave.value, std.flux.value, linestyle='--', label='{} std'.format(spt),\\\n",
    "           alpha=0.5)\n",
    "    sd_std=None\n",
    "    try:\n",
    "        sd_type, _= splat.classifyByStandard(s.splat_spectrum, comprange=[[0.8, 1.3]], sd=True)\n",
    "        sd_std=splat.STDS_SD_SPEX[sd_type]\n",
    "        _, sd_scale=splat.compareSpectra(s.splat_spectrum, sd_std,  comprange=[[0.8, 1.3]], statistic='chisqr', scale=True) \n",
    "        sd_std.scale(sd_scale)\n",
    "        a.plot(sd_std.wave.value, sd_std.flux.value, linestyle='-.', label='{}  std'.format(sd_type),\\\n",
    "           alpha=0.5)\n",
    "    except KeyError:\n",
    "        pass\n",
    "    \n",
    "   \n",
    "    \n",
    "    d_sd_std=None\n",
    "    try:\n",
    "        dsd_type, _= splat.classifyByStandard(s.splat_spectrum, comprange=[[0.8, 1.3]], dsd=True)\n",
    "        d_sd_std=splat.STDS_DSD_SPEX[dsd_type]\n",
    "        _, d_sd_scale=splat.compareSpectra(s.splat_spectrum, d_sd_std,  comprange=[[0.8, 1.3]], statistic='chisqr', scale=True) \n",
    "        d_sd_std.scale(d_sd_scale)\n",
    "        a.plot(d_sd_std.wave.value, d_sd_std.flux.value, linestyle=':', label='{} std'.format(dsd_type),\\\n",
    "           alpha=0.5)\n",
    "    except KeyError:\n",
    "        pass\n",
    "    \n",
    "    \n",
    "    #a.set_title(\"{} \".format(s.spectral_type ))\n",
    "    a.legend(fontsize=10)\n",
    "    a.set(ylim=[np.nanmin(s.flux[mask]), np.nanmax(s.flux[mask])], xlim=xlim)\n",
    "    if shortname in EXCLUDE:\n",
    "        a.plot([0, 1], [0, 1], transform=a.transAxes, color='r')\n",
    "        a.plot([1, 0], [0, 1], transform=a.transAxes, color='r')\n",
    "\n",
    "\n"
   ]
  },
  {
   "cell_type": "code",
   "execution_count": 20,
   "metadata": {},
   "outputs": [],
   "source": [
    "def make_wisps(splat_s):\n",
    "    try:\n",
    "        s=wisps.Spectrum(wave=splat_s.wave.value, \n",
    "                           flux=splat_s.flux.value,\n",
    "                          noise=splat_s.noise.value)\n",
    "        return {'s':s, 'splat_sp': splat_s}\n",
    "    except:\n",
    "        return "
   ]
  },
  {
   "cell_type": "code",
   "execution_count": 21,
   "metadata": {},
   "outputs": [],
   "source": [
    "fdf=pd.DataFrame()\n",
    "fdf['spectra']=np.vstack(spectra)[:,0]\n",
    "fdf['splat_spectra']=np.vstack(spectra)[:,-1]\n",
    "fdf['shortname']=splat_within_snr.SHORTNAME\n",
    "fdf['designation']=splat_within_snr.DESIGNATION\n",
    "fdf['spex_type']=splat_within_snr.SPEX_TYPE\n",
    "fdf['opt_type']=splat_within_snr.OPT_TYPE"
   ]
  },
  {
   "cell_type": "code",
   "execution_count": 22,
   "metadata": {},
   "outputs": [],
   "source": [
    "fdf=fdf.dropna(subset=['spectra'])"
   ]
  },
  {
   "cell_type": "code",
   "execution_count": 23,
   "metadata": {},
   "outputs": [
    {
     "data": {
      "text/plain": [
       "(100, 100)"
      ]
     },
     "execution_count": 23,
     "metadata": {},
     "output_type": "execute_result"
    }
   ],
   "source": [
    "len(splat_within_snr.OPT_TYPE), len(splat_within_snr)"
   ]
  },
  {
   "cell_type": "code",
   "execution_count": 24,
   "metadata": {},
   "outputs": [],
   "source": [
    "from matplotlib.backends.backend_pdf import PdfPages"
   ]
  },
  {
   "cell_type": "code",
   "execution_count": 25,
   "metadata": {},
   "outputs": [],
   "source": [
    "#b"
   ]
  },
  {
   "cell_type": "code",
   "execution_count": 26,
   "metadata": {},
   "outputs": [],
   "source": [
    "%%capture\n",
    "#with PdfPages(wisps.OUTPUT_FIGURES+'/multipage_subdwarf.pdf') as pdf:\n",
    "    \n",
    "#    for g in np.array_split(fdf, int(len(fdf)/4)):\n",
    "#        fig, ax=plt.subplots(ncols=2, nrows=2, figsize=(12, 6))\n",
    "       \n",
    "        \n",
    "#        plot_sp_sp(g.spectra.iloc[0], ax[0][0], g.designation.iloc[0],\\\n",
    "#                   g.spex_type.iloc[0])\n",
    "#        plot_sp_sp(g.spectra.iloc[1], ax[0][1],  g.designation.iloc[1], \\\n",
    "#                   g.spex_type.iloc[1])\n",
    "#        plot_sp_sp(g.spectra.iloc[2], ax[1][0],  g.designation.iloc[2],\\\n",
    "#                  g.spex_type.iloc[2])\n",
    "#        plot_sp_sp(g.spectra.iloc[3], ax[1][1],  g.designation.iloc[3],\\\n",
    "#                   g.spex_type.iloc[3])\n",
    "\n",
    " #       pdf.savefig() \n",
    " #       plt.close()"
   ]
  },
  {
   "cell_type": "code",
   "execution_count": 27,
   "metadata": {},
   "outputs": [],
   "source": [
    "fdf=fdf[~fdf.designation.isin(EXCLUDE)]"
   ]
  },
  {
   "cell_type": "code",
   "execution_count": 28,
   "metadata": {},
   "outputs": [],
   "source": [
    "fdf.to_pickle(wisps.OUTPUT_FILES+'/subdwarfs_templates.pkl')"
   ]
  },
  {
   "cell_type": "code",
   "execution_count": 29,
   "metadata": {},
   "outputs": [],
   "source": [
    "spectra_only=[]\n",
    "for _, ro in fdf.iterrows():\n",
    "    s=ro.spectra\n",
    "    s._filename=ro.designation\n",
    "    spectra_only.append(s)"
   ]
  },
  {
   "cell_type": "code",
   "execution_count": 30,
   "metadata": {},
   "outputs": [],
   "source": [
    "import pickle\n",
    "output_file=(wisps.LIBRARIES+'/subdwarfs.pkl')\n",
    "with open(output_file, 'wb') as file:\n",
    "    pickle.dump(spectra_only,file)"
   ]
  },
  {
   "cell_type": "code",
   "execution_count": 31,
   "metadata": {},
   "outputs": [
    {
     "data": {
      "text/plain": [
       "Index(['spectra', 'splat_spectra', 'shortname', 'designation', 'spex_type',\n",
       "       'opt_type'],\n",
       "      dtype='object')"
      ]
     },
     "execution_count": 31,
     "metadata": {},
     "output_type": "execute_result"
    }
   ],
   "source": [
    "fdf.columns"
   ]
  },
  {
   "cell_type": "code",
   "execution_count": 32,
   "metadata": {},
   "outputs": [],
   "source": [
    "def get_indices(sp):\n",
    "    f_test={\"f_test\": sp.f_test, 'line_chi': sp.line_chi, 'name': sp.name, 'spex_chi': sp.spex_chi, \\\n",
    "    'spt': sp.spectral_type,  'dof': sp.dof}\n",
    "    return  pd.Series({**sp.snr, **sp.indices, **f_test})"
   ]
  },
  {
   "cell_type": "code",
   "execution_count": 33,
   "metadata": {},
   "outputs": [],
   "source": [
    "fdf.join(fdf.spectra.apply(get_indices)).drop('spectra', axis=1).to_pickle(wisps.LIBRARIES+'/subd_templates.pkl')"
   ]
  },
  {
   "cell_type": "code",
   "execution_count": 35,
   "metadata": {},
   "outputs": [],
   "source": [
    "#fdf.col"
   ]
  },
  {
   "cell_type": "code",
   "execution_count": null,
   "metadata": {},
   "outputs": [],
   "source": []
  }
 ],
 "metadata": {
  "kernelspec": {
   "display_name": "Python 3",
   "language": "python",
   "name": "python3"
  },
  "language_info": {
   "codemirror_mode": {
    "name": "ipython",
    "version": 3
   },
   "file_extension": ".py",
   "mimetype": "text/x-python",
   "name": "python",
   "nbconvert_exporter": "python",
   "pygments_lexer": "ipython3",
   "version": "3.8.5"
  }
 },
 "nbformat": 4,
 "nbformat_minor": 2
}
