{
 "cells": [
  {
   "cell_type": "code",
   "execution_count": 1,
   "metadata": {},
   "outputs": [],
   "source": [
    "import numpy as np\n",
    "import splat\n",
    "import wisps\n",
    "import pandas as pd\n",
    "from scipy import stats\n",
    "import numba"
   ]
  },
  {
   "cell_type": "code",
   "execution_count": 2,
   "metadata": {},
   "outputs": [],
   "source": [
    "stype='std'"
   ]
  },
  {
   "cell_type": "code",
   "execution_count": 3,
   "metadata": {},
   "outputs": [],
   "source": [
    "spex_df=pd.read_pickle(wisps.OUTPUT_FILES+'/'+str(stype)+'spex_sample.pkl' )"
   ]
  },
  {
   "cell_type": "code",
   "execution_count": 4,
   "metadata": {},
   "outputs": [
    {
     "data": {
      "text/plain": [
       "(2649, 3)"
      ]
     },
     "execution_count": 4,
     "metadata": {},
     "output_type": "execute_result"
    }
   ],
   "source": [
    "spex_df.shape"
   ]
  },
  {
   "cell_type": "code",
   "execution_count": 5,
   "metadata": {},
   "outputs": [],
   "source": [
    "forbidden=['J0148+1202',  'J0331+4130', 'J0338-4409', 'J0343+3155',\n",
    "' J0344+3204', '0344+3200', 'J0344+3156', 'J0344+3203',\n",
    "'J0345+3205','J0419+2712', 'J0435+2254','J0438+2519',\n",
    "'J0448-4432', 'J0448-4432', 'J0501-3341', 'J0512-2949',\n",
    "'J0610-2151','J0621+6558','J0624-1045', 'J0628-0959',\n",
    "'J0815+1041','J0822+1700', 'J0935+0019','J0950+0540',\n",
    "'J1004+5023','J1050-2940','J1132-3018','J1132-3018',\n",
    "'J1132-3018','J1132-3018','J1132-3018','J1132-3018',\n",
    "'J1132-3018','J1132-3018', 'J1132-3018','J1132-3018',\n",
    "'J1138-1314','J1209-3041','J1211-2821','J1224-2744',\n",
    "'J1257-0204','J1303+2351','J1312+0051','J1317-1427',\n",
    "'J1325-2128', 'J1420-1752', 'J1423+0116','J1629+1415',\n",
    "'J1642-2355','J1642-2355','J1659+3515','J1726-1158',\n",
    "'J1729+4352','J1829+5032','J1839-3744','J1924+5506',\n",
    "'J1932+0133', 'J1932-3921', 'J1945-4149', 'J2001-3805',\n",
    "'J2024-3422', 'J2028+6925', 'J2034+6727','J2151-3349']"
   ]
  },
  {
   "cell_type": "code",
   "execution_count": 6,
   "metadata": {},
   "outputs": [
    {
     "data": {
      "text/html": [
       "<div>\n",
       "<style scoped>\n",
       "    .dataframe tbody tr th:only-of-type {\n",
       "        vertical-align: middle;\n",
       "    }\n",
       "\n",
       "    .dataframe tbody tr th {\n",
       "        vertical-align: top;\n",
       "    }\n",
       "\n",
       "    .dataframe thead th {\n",
       "        text-align: right;\n",
       "    }\n",
       "</style>\n",
       "<table border=\"1\" class=\"dataframe\">\n",
       "  <thead>\n",
       "    <tr style=\"text-align: right;\">\n",
       "      <th></th>\n",
       "      <th>splat</th>\n",
       "      <th>wisps</th>\n",
       "      <th>shortname</th>\n",
       "    </tr>\n",
       "  </thead>\n",
       "  <tbody>\n",
       "    <tr>\n",
       "      <th>0</th>\n",
       "      <td>SPEX-PRISM spectrum of 2MASS J0000286-124515</td>\n",
       "      <td>anon spectrum</td>\n",
       "      <td>J0000-1245</td>\n",
       "    </tr>\n",
       "    <tr>\n",
       "      <th>1</th>\n",
       "      <td>SPEX-PRISM spectrum of 2MASS J0000286-124515</td>\n",
       "      <td>anon spectrum</td>\n",
       "      <td>J0000-1245</td>\n",
       "    </tr>\n",
       "    <tr>\n",
       "      <th>2</th>\n",
       "      <td>SPEX-PRISM spectrum of SDSS J000112.18+153535.5</td>\n",
       "      <td>anon spectrum</td>\n",
       "      <td>J0001+1535</td>\n",
       "    </tr>\n",
       "    <tr>\n",
       "      <th>3</th>\n",
       "      <td>SPEX-PRISM spectrum of 2MASS J00013044+1010146</td>\n",
       "      <td>anon spectrum</td>\n",
       "      <td>J0001+1010</td>\n",
       "    </tr>\n",
       "    <tr>\n",
       "      <th>4</th>\n",
       "      <td>SPEX-PRISM spectrum of WISE J000131.93-084126.9</td>\n",
       "      <td>anon spectrum</td>\n",
       "      <td>J0001-0841</td>\n",
       "    </tr>\n",
       "    <tr>\n",
       "      <th>...</th>\n",
       "      <td>...</td>\n",
       "      <td>...</td>\n",
       "      <td>...</td>\n",
       "    </tr>\n",
       "    <tr>\n",
       "      <th>2644</th>\n",
       "      <td>SPEX-PRISM spectrum of SSSPM J2356-3426</td>\n",
       "      <td>anon spectrum</td>\n",
       "      <td>J2356-3426</td>\n",
       "    </tr>\n",
       "    <tr>\n",
       "      <th>2645</th>\n",
       "      <td>SPEX-PRISM spectrum of 2MASSI J2356547-155310</td>\n",
       "      <td>anon spectrum</td>\n",
       "      <td>J2356-1553</td>\n",
       "    </tr>\n",
       "    <tr>\n",
       "      <th>2646</th>\n",
       "      <td>SPEX-PRISM spectrum of WISE J235716.49+122741.8</td>\n",
       "      <td>anon spectrum</td>\n",
       "      <td>J2357+1227</td>\n",
       "    </tr>\n",
       "    <tr>\n",
       "      <th>2647</th>\n",
       "      <td>SPEX-PRISM spectrum of 2MASS J23590855+2338326</td>\n",
       "      <td>anon spectrum</td>\n",
       "      <td>J2359+2338</td>\n",
       "    </tr>\n",
       "    <tr>\n",
       "      <th>2648</th>\n",
       "      <td>SPEX-PRISM spectrum of SSSPM J2400-2008</td>\n",
       "      <td>anon spectrum</td>\n",
       "      <td>J2359-2007</td>\n",
       "    </tr>\n",
       "  </tbody>\n",
       "</table>\n",
       "<p>2649 rows × 3 columns</p>\n",
       "</div>"
      ],
      "text/plain": [
       "                                                splat          wisps  \\\n",
       "0        SPEX-PRISM spectrum of 2MASS J0000286-124515  anon spectrum   \n",
       "1        SPEX-PRISM spectrum of 2MASS J0000286-124515  anon spectrum   \n",
       "2     SPEX-PRISM spectrum of SDSS J000112.18+153535.5  anon spectrum   \n",
       "3      SPEX-PRISM spectrum of 2MASS J00013044+1010146  anon spectrum   \n",
       "4     SPEX-PRISM spectrum of WISE J000131.93-084126.9  anon spectrum   \n",
       "...                                               ...            ...   \n",
       "2644          SPEX-PRISM spectrum of SSSPM J2356-3426  anon spectrum   \n",
       "2645    SPEX-PRISM spectrum of 2MASSI J2356547-155310  anon spectrum   \n",
       "2646  SPEX-PRISM spectrum of WISE J235716.49+122741.8  anon spectrum   \n",
       "2647   SPEX-PRISM spectrum of 2MASS J23590855+2338326  anon spectrum   \n",
       "2648          SPEX-PRISM spectrum of SSSPM J2400-2008  anon spectrum   \n",
       "\n",
       "       shortname  \n",
       "0     J0000-1245  \n",
       "1     J0000-1245  \n",
       "2     J0001+1535  \n",
       "3     J0001+1010  \n",
       "4     J0001-0841  \n",
       "...          ...  \n",
       "2644  J2356-3426  \n",
       "2645  J2356-1553  \n",
       "2646  J2357+1227  \n",
       "2647  J2359+2338  \n",
       "2648  J2359-2007  \n",
       "\n",
       "[2649 rows x 3 columns]"
      ]
     },
     "execution_count": 6,
     "metadata": {},
     "output_type": "execute_result"
    }
   ],
   "source": [
    "spex_df"
   ]
  },
  {
   "cell_type": "code",
   "execution_count": 7,
   "metadata": {},
   "outputs": [],
   "source": [
    "spex_df['shortname']=spex_df.splat.apply(lambda x:x.shortname)"
   ]
  },
  {
   "cell_type": "code",
   "execution_count": 8,
   "metadata": {},
   "outputs": [],
   "source": [
    "spex_df=(spex_df[~ spex_df.shortname.isin(forbidden)]).reset_index(drop=True)"
   ]
  },
  {
   "cell_type": "code",
   "execution_count": 9,
   "metadata": {},
   "outputs": [
    {
     "data": {
      "text/plain": [
       "(2566, 3)"
      ]
     },
     "execution_count": 9,
     "metadata": {},
     "output_type": "execute_result"
    }
   ],
   "source": [
    "spex_df.shape"
   ]
  },
  {
   "cell_type": "code",
   "execution_count": 10,
   "metadata": {},
   "outputs": [],
   "source": [
    "def add_new_columns(row):\n",
    "    return pd.concat([pd.Series(row.wisps.indices), pd.Series(row.wisps.snr)])"
   ]
  },
  {
   "cell_type": "code",
   "execution_count": 20,
   "metadata": {},
   "outputs": [],
   "source": [
    "indices=pd.DataFrame(spex_df.apply(add_new_columns, axis=1))\n",
    "#snr=pd.DataFrame(spex_df.apply(add_new_columns, axis=1))"
   ]
  },
  {
   "cell_type": "code",
   "execution_count": 21,
   "metadata": {},
   "outputs": [],
   "source": [
    "all_spex=splat.searchLibrary(vlm=True, giant=False)"
   ]
  },
  {
   "cell_type": "code",
   "execution_count": 22,
   "metadata": {},
   "outputs": [],
   "source": [
    "spex_df['data_file']=[x.data_file for x in spex_df.splat]"
   ]
  },
  {
   "cell_type": "code",
   "execution_count": 23,
   "metadata": {},
   "outputs": [],
   "source": [
    "all_spex.columns=[x.lower() for x in all_spex.columns]"
   ]
  },
  {
   "cell_type": "code",
   "execution_count": 24,
   "metadata": {},
   "outputs": [],
   "source": [
    "merged=spex_df.merge(all_spex, on='data_file', how='inner')"
   ]
  },
  {
   "cell_type": "code",
   "execution_count": 25,
   "metadata": {},
   "outputs": [],
   "source": [
    "for c in ['shortname', 'wisps', 'data_file', 'metallicity_class', 'gravity_class_nir', 'sbinary', 'h_2mass', 'j_2mass' ]:\n",
    "          indices[c]=merged[c]"
   ]
  },
  {
   "cell_type": "code",
   "execution_count": 26,
   "metadata": {},
   "outputs": [],
   "source": [
    "indices['f_test']=(indices['wisps']).apply(lambda x: x.f_test)\n",
    "indices['dof']=(indices['wisps']).apply(lambda x: x.dof)\n",
    "indices['line_chi']=(indices['wisps']).apply(lambda x: x.line_chi)\n",
    "indices['spex_chi']=(indices['wisps']).apply(lambda x: x.spex_chi)\n",
    "indices['spt']=(indices['wisps']).apply(lambda x: x.spectral_type)"
   ]
  },
  {
   "cell_type": "code",
   "execution_count": 27,
   "metadata": {},
   "outputs": [],
   "source": [
    "indices.drop( columns='wisps').to_pickle(wisps.LIBRARIES+'/spex_data_set_table.pkl')"
   ]
  },
  {
   "cell_type": "code",
   "execution_count": null,
   "metadata": {},
   "outputs": [],
   "source": []
  }
 ],
 "metadata": {
  "kernelspec": {
   "display_name": "Python 3",
   "language": "python",
   "name": "python3"
  },
  "language_info": {
   "codemirror_mode": {
    "name": "ipython",
    "version": 3
   },
   "file_extension": ".py",
   "mimetype": "text/x-python",
   "name": "python",
   "nbconvert_exporter": "python",
   "pygments_lexer": "ipython3",
   "version": "3.8.5"
  }
 },
 "nbformat": 4,
 "nbformat_minor": 4
}
