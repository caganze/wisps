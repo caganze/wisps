{
 "cells": [
  {
   "cell_type": "code",
   "execution_count": 1,
   "metadata": {},
   "outputs": [
    {
     "name": "stdout",
     "output_type": "stream",
     "text": [
      "Adding 2404 sources from /Users/caganze/research/splat//resources/Spectra/Public/SPEX-PRISM/ to spectral database\n",
      "Adding 145 sources from /Users/caganze/research/splat//resources/Spectra/Public/LRIS-RED/ to spectral database\n",
      "Adding 89 sources from /Users/caganze/research/splat//resources/Spectra/Public/MAGE/ to spectral database\n"
     ]
    }
   ],
   "source": [
    "import splat\n",
    "import wisps\n",
    "import matplotlib.pyplot as plt\n",
    "from wisps.data_analysis import selection_criteria as sel_crt\n",
    "\n",
    "import numpy as np\n",
    "import pandas as pd\n",
    "\n",
    "import numba\n",
    "import matplotlib as mpl\n",
    "mpl.rcParams['font.size'] = 18\n",
    "\n",
    "from itertools import combinations\n",
    "#%%capture  output\n",
    "import itertools\n",
    "from tqdm import tqdm\n",
    "\n",
    "\n",
    "import seaborn as sns \n",
    "cmap=sns.light_palette((260, 75, 60), input=\"husl\", as_cmap=True)\n",
    "from tensorflow import keras\n",
    "\n",
    "from scipy import stats"
   ]
  },
  {
   "cell_type": "code",
   "execution_count": 2,
   "metadata": {},
   "outputs": [],
   "source": [
    "ucds=pd.read_pickle('~/research/wisps/libraries/real_ucds.pkl')\n",
    "#selection objects \n",
    "rfdict=pd.read_pickle(wisps.OUTPUT_FILES+'/random_forest_classifier.pkl') #the classifier \n",
    "indices_to_use= pd.read_pickle(wisps.OUTPUT_FILES+'/best_indices_to_use.pkl')\n",
    "neural_network= keras.models.load_model(wisps.OUTPUT_FILES+'/deep_model_september23.h5')\n",
    "#neural_network= keras.models.load_model(wisps.OUTPUT_FILES+'/conv_model_withspt_snr_september17.h5')"
   ]
  },
  {
   "cell_type": "code",
   "execution_count": 3,
   "metadata": {},
   "outputs": [],
   "source": [
    "import wisps.data_analysis.selection_criteria as sel_crt\n",
    "indices_to_use= pd.read_pickle(wisps.OUTPUT_FILES+'/best_indices_to_use.pkl')\n",
    "slc_crts=sel_crt.crts_from_file()"
   ]
  },
  {
   "cell_type": "code",
   "execution_count": 4,
   "metadata": {},
   "outputs": [],
   "source": [
    "big=wisps.get_big_file()"
   ]
  },
  {
   "cell_type": "code",
   "execution_count": 5,
   "metadata": {},
   "outputs": [],
   "source": [
    "#define a number of selectors \n",
    "#each selection should a column of zeros and ones corresponding\n",
    "#to where objects were selected\n",
    "#each selector input is the simulated df\n",
    "def f_test_fx(x, df1, df2):\n",
    "    return stats.f.cdf(x, df1, df2)\n",
    "\n",
    "def select_by_indices(df, idx, spt_range):\n",
    "    print(spt_range)\n",
    "    bs=idx.shapes\n",
    "    bx=[x for x in bs if x.shape_name==spt_range][0]\n",
    "    _, bools= bx._select(np.array([df[idx.xkey].values, df[idx.ykey].values]))\n",
    "    return bools\n",
    "        \n",
    "\n",
    "def apply_scale(x):\n",
    "    ##remove nans \n",
    "    ##this is the same scaling used \n",
    "    ## same scaling used for \n",
    "    #replace nans\n",
    "    y=x\n",
    "    if np.isnan(y) or np.isinf(y) or abs(y) > 1e10:\n",
    "        y=-99\n",
    "    return y\n",
    "\n",
    "\n",
    "def select_by_random_forest(df):\n",
    "    #use the classification given by my rf classifier\n",
    "    \n",
    "    rf=rfdict['classifier']\n",
    "    #min_max_scaler=rfdict['sclr']\n",
    "    features=rfdict['feats']\n",
    "    \n",
    "    #apply logs to problematic features the same way I did on my classification\n",
    "    pred_df=df.copy()\n",
    "    \n",
    "    for c in features:\n",
    "        if c not in ['spt', 'f_test', 'x']:\n",
    "            pred_df.assign(c=np.log10(pred_df[c].apply(apply_scale)))\n",
    "        else:\n",
    "            pred_df.assign(c=pred_df[c].apply(apply_scale))\n",
    "            \n",
    "    pred_df[features]=pred_df[features].applymap(apply_scale)\n",
    "    #make predictions\n",
    "    probs=rf.predict_proba(pred_df[features].values)\n",
    "    labels=np.logical_or.reduce((probs[:, 2] > .8, probs[:,3] >.8 , probs[:,4] >0.85))\n",
    " \n",
    "    return {'probs': probs, 'labels': labels}\n",
    "\n",
    "\n",
    "\n",
    "def select_by_neuralnet(df):\n",
    "    #define features (start with indices alone)\n",
    "    #apply logs to problematic features the same way I did on my classification\n",
    "    features=rfdict['feats']\n",
    "    \n",
    "    pred_df=df.copy()\n",
    "    \n",
    "    for c in features:\n",
    "        if c not in ['spt']:\n",
    "            pred_df.assign(c=np.log10(pred_df[c].apply(apply_scale)))\n",
    "        else:\n",
    "            pred_df.assign(c=pred_df[c].apply(apply_scale))\n",
    "            \n",
    "    pred_df[features]=pred_df[features].applymap(apply_scale)\n",
    "    #probs= neural_network.predict(  pred_df[features].values)\n",
    "    #need to reshape\n",
    "    #probs=neural_network.predict(  pred_df[features].values.reshape(-1, len(features), 1))\n",
    "    \n",
    "    #my cuts\n",
    "    #labels=np.logical_or.reduce((probs[:, 2] > .7, probs[:,3] >.5 , probs[:,4] >0.5))\n",
    "    #labels=probs[:,0] <0.5\n",
    "    #labels=neural_network.predict_classes(  pred_df[features].values.reshape(-1, len(features), 1))\n",
    "    #labels=neural_network.predict(  pred_df[features].values.reshape(-1, len(features), 1))\n",
    "    probs= neural_network(  pred_df[features].values, training=False)\n",
    "    labels=np.logical_or.reduce((probs[:, 2] > .95, probs[:,3] >.95 , probs[:,4] >0.8))\n",
    "  \n",
    " \n",
    "    return {'probs': probs, 'labels': labels}\n",
    "\n"
   ]
  },
  {
   "cell_type": "code",
   "execution_count": 6,
   "metadata": {},
   "outputs": [],
   "source": [
    "ucds['x']=ucds.spectra.apply(lambda x: x.spex_chi/x.line_chi)\n",
    "ucds['line_chi']=ucds.spectra.apply(lambda x: x.line_chi)\n",
    "ucds['spex_chi']=ucds.spectra.apply(lambda x: x.spex_chi)\n",
    "ucds['f_test']=ucds.spectra.apply(lambda x: x.f_test)"
   ]
  },
  {
   "cell_type": "code",
   "execution_count": 7,
   "metadata": {},
   "outputs": [],
   "source": [
    "#ucds.columns"
   ]
  },
  {
   "cell_type": "code",
   "execution_count": 8,
   "metadata": {},
   "outputs": [],
   "source": [
    "#ucds['x']="
   ]
  },
  {
   "cell_type": "code",
   "execution_count": 9,
   "metadata": {},
   "outputs": [],
   "source": [
    "ls=select_by_neuralnet(ucds)\n",
    "rf_ls= select_by_random_forest(ucds)"
   ]
  },
  {
   "cell_type": "code",
   "execution_count": 10,
   "metadata": {},
   "outputs": [],
   "source": [
    "max_probs=np.nanmax(ls['probs'], axis=1)\n",
    "argma_probs=np.argmax(ls['probs'], axis=1)"
   ]
  },
  {
   "cell_type": "code",
   "execution_count": 11,
   "metadata": {},
   "outputs": [],
   "source": [
    "#argma_probs"
   ]
  },
  {
   "cell_type": "code",
   "execution_count": 12,
   "metadata": {},
   "outputs": [],
   "source": [
    "#ucds.columns"
   ]
  },
  {
   "cell_type": "code",
   "execution_count": 13,
   "metadata": {},
   "outputs": [],
   "source": [
    "lp=select_by_neuralnet(big)"
   ]
  },
  {
   "cell_type": "code",
   "execution_count": 14,
   "metadata": {},
   "outputs": [],
   "source": [
    "pred_max_probs=np.nanmax(lp['probs'], axis=1)\n",
    "pred_argma_probs=np.argmax(lp['probs'], axis=1)"
   ]
  },
  {
   "cell_type": "code",
   "execution_count": 15,
   "metadata": {},
   "outputs": [
    {
     "data": {
      "text/plain": [
       "231"
      ]
     },
     "execution_count": 15,
     "metadata": {},
     "output_type": "execute_result"
    }
   ],
   "source": [
    "len(big[big.grism_id.str.lower().isin(ucds.grism_id.str.lower())])"
   ]
  },
  {
   "cell_type": "code",
   "execution_count": 16,
   "metadata": {},
   "outputs": [
    {
     "data": {
      "text/plain": [
       "[<matplotlib.lines.Line2D at 0x7fd29831c0a0>]"
      ]
     },
     "execution_count": 16,
     "metadata": {},
     "output_type": "execute_result"
    },
    {
     "data": {
      "image/png": "[encoded data removed]",
      "text/plain": [
       "<Figure size 640x480 with 1 Axes>"
      ]
     },
     "metadata": {},
     "output_type": "display_data"
    }
   ],
   "source": [
    "plt.plot(big.spt.values, pred_max_probs, '.', alpha=0.1)\n",
    "plt.plot(ucds.spt.values, max_probs, '.')"
   ]
  },
  {
   "cell_type": "code",
   "execution_count": 17,
   "metadata": {},
   "outputs": [
    {
     "data": {
      "text/plain": [
       "[Text(0, 0.5, 'Class'),\n",
       " Text(0.5, 0, 'Max Probability'),\n",
       " [<matplotlib.axis.YTick at 0x7fd2986ebf70>,\n",
       "  <matplotlib.axis.YTick at 0x7fd2986eb610>,\n",
       "  <matplotlib.axis.YTick at 0x7fd298465820>,\n",
       "  <matplotlib.axis.YTick at 0x7fd2986fd250>,\n",
       "  <matplotlib.axis.YTick at 0x7fd298703ee0>],\n",
       " [Text(0, 0.0, 'Gal'),\n",
       "  Text(0, 1.0, 'Early M'),\n",
       "  Text(0, 2.0, 'M7-L0'),\n",
       "  Text(0, 3.0, 'L'),\n",
       "  Text(0, 4.0, 'T')]]"
      ]
     },
     "execution_count": 17,
     "metadata": {},
     "output_type": "execute_result"
    },
    {
     "data": {
      "image/png": "[encoded data removed]",
      "text/plain": [
       "<Figure size 640x480 with 1 Axes>"
      ]
     },
     "metadata": {},
     "output_type": "display_data"
    }
   ],
   "source": [
    "fig, ax=plt.subplots()\n",
    "ax.scatter(pred_max_probs, pred_argma_probs, s=10., alpha=0.1, label='Selected')\n",
    "ax.scatter(max_probs, argma_probs, s=50., marker='+', label='Real')\n",
    "\n",
    "ax.set(ylabel='Class', xlabel='Max Probability',\n",
    "       yticks=[0., 1., 2., 3., 4.], yticklabels=['Gal', 'Early M', 'M7-L0', 'L', 'T'])\n"
   ]
  },
  {
   "cell_type": "code",
   "execution_count": 18,
   "metadata": {},
   "outputs": [
    {
     "data": {
      "text/html": [
       "<div>\n",
       "<style scoped>\n",
       "    .dataframe tbody tr th:only-of-type {\n",
       "        vertical-align: middle;\n",
       "    }\n",
       "\n",
       "    .dataframe tbody tr th {\n",
       "        vertical-align: top;\n",
       "    }\n",
       "\n",
       "    .dataframe thead th {\n",
       "        text-align: right;\n",
       "    }\n",
       "</style>\n",
       "<table border=\"1\" class=\"dataframe\">\n",
       "  <thead>\n",
       "    <tr style=\"text-align: right;\">\n",
       "      <th></th>\n",
       "      <th>snr1</th>\n",
       "      <th>spt</th>\n",
       "      <th>spt_er</th>\n",
       "      <th>grism_id</th>\n",
       "      <th>distance</th>\n",
       "    </tr>\n",
       "  </thead>\n",
       "  <tbody>\n",
       "    <tr>\n",
       "      <th>164</th>\n",
       "      <td>7.224470</td>\n",
       "      <td>18.0</td>\n",
       "      <td>3.041381</td>\n",
       "      <td>goodss-06-g141_11322</td>\n",
       "      <td>1762.435593</td>\n",
       "    </tr>\n",
       "    <tr>\n",
       "      <th>172</th>\n",
       "      <td>86.875617</td>\n",
       "      <td>18.0</td>\n",
       "      <td>0.500000</td>\n",
       "      <td>par133-00012</td>\n",
       "      <td>397.910099</td>\n",
       "    </tr>\n",
       "    <tr>\n",
       "      <th>198</th>\n",
       "      <td>4.351430</td>\n",
       "      <td>21.0</td>\n",
       "      <td>4.031129</td>\n",
       "      <td>goodsn-15-G141_29162</td>\n",
       "      <td>2768.008613</td>\n",
       "    </tr>\n",
       "  </tbody>\n",
       "</table>\n",
       "</div>"
      ],
      "text/plain": [
       "          snr1   spt    spt_er              grism_id     distance\n",
       "164   7.224470  18.0  3.041381  goodss-06-g141_11322  1762.435593\n",
       "172  86.875617  18.0  0.500000          par133-00012   397.910099\n",
       "198   4.351430  21.0  4.031129  goodsn-15-G141_29162  2768.008613"
      ]
     },
     "execution_count": 18,
     "metadata": {},
     "output_type": "execute_result"
    }
   ],
   "source": [
    "ucds[argma_probs==0.][['snr1', 'spt',  'spt_er', 'grism_id', 'distance']]"
   ]
  },
  {
   "cell_type": "code",
   "execution_count": 19,
   "metadata": {},
   "outputs": [
    {
     "data": {
      "text/html": [
       "<div>\n",
       "<style scoped>\n",
       "    .dataframe tbody tr th:only-of-type {\n",
       "        vertical-align: middle;\n",
       "    }\n",
       "\n",
       "    .dataframe tbody tr th {\n",
       "        vertical-align: top;\n",
       "    }\n",
       "\n",
       "    .dataframe thead th {\n",
       "        text-align: right;\n",
       "    }\n",
       "</style>\n",
       "<table border=\"1\" class=\"dataframe\">\n",
       "  <thead>\n",
       "    <tr style=\"text-align: right;\">\n",
       "      <th></th>\n",
       "      <th>snr1</th>\n",
       "      <th>spt</th>\n",
       "      <th>spt_er</th>\n",
       "      <th>grism_id</th>\n",
       "      <th>distance</th>\n",
       "    </tr>\n",
       "  </thead>\n",
       "  <tbody>\n",
       "    <tr>\n",
       "      <th>94</th>\n",
       "      <td>29.827710</td>\n",
       "      <td>17.0</td>\n",
       "      <td>1.118034</td>\n",
       "      <td>par434-00015</td>\n",
       "      <td>785.975485</td>\n",
       "    </tr>\n",
       "    <tr>\n",
       "      <th>93</th>\n",
       "      <td>23.163735</td>\n",
       "      <td>17.0</td>\n",
       "      <td>1.118034</td>\n",
       "      <td>par322-00030</td>\n",
       "      <td>744.652774</td>\n",
       "    </tr>\n",
       "    <tr>\n",
       "      <th>91</th>\n",
       "      <td>10.730531</td>\n",
       "      <td>17.0</td>\n",
       "      <td>1.118034</td>\n",
       "      <td>par473-00018</td>\n",
       "      <td>1091.894585</td>\n",
       "    </tr>\n",
       "    <tr>\n",
       "      <th>138</th>\n",
       "      <td>31.640446</td>\n",
       "      <td>17.0</td>\n",
       "      <td>1.118034</td>\n",
       "      <td>par260-00025</td>\n",
       "      <td>1022.168256</td>\n",
       "    </tr>\n",
       "    <tr>\n",
       "      <th>127</th>\n",
       "      <td>27.354046</td>\n",
       "      <td>17.0</td>\n",
       "      <td>1.118034</td>\n",
       "      <td>par332-00058</td>\n",
       "      <td>840.600721</td>\n",
       "    </tr>\n",
       "    <tr>\n",
       "      <th>108</th>\n",
       "      <td>22.803283</td>\n",
       "      <td>17.0</td>\n",
       "      <td>1.118034</td>\n",
       "      <td>par235-00024</td>\n",
       "      <td>578.622542</td>\n",
       "    </tr>\n",
       "    <tr>\n",
       "      <th>109</th>\n",
       "      <td>22.428460</td>\n",
       "      <td>17.0</td>\n",
       "      <td>1.118034</td>\n",
       "      <td>par50-00017</td>\n",
       "      <td>651.183596</td>\n",
       "    </tr>\n",
       "    <tr>\n",
       "      <th>118</th>\n",
       "      <td>26.662131</td>\n",
       "      <td>17.0</td>\n",
       "      <td>1.118034</td>\n",
       "      <td>par443-00009</td>\n",
       "      <td>821.168037</td>\n",
       "    </tr>\n",
       "    <tr>\n",
       "      <th>70</th>\n",
       "      <td>66.063315</td>\n",
       "      <td>17.0</td>\n",
       "      <td>1.118034</td>\n",
       "      <td>par356-00013</td>\n",
       "      <td>582.009531</td>\n",
       "    </tr>\n",
       "    <tr>\n",
       "      <th>26</th>\n",
       "      <td>28.282862</td>\n",
       "      <td>17.0</td>\n",
       "      <td>1.118034</td>\n",
       "      <td>par170-00053</td>\n",
       "      <td>949.742261</td>\n",
       "    </tr>\n",
       "    <tr>\n",
       "      <th>18</th>\n",
       "      <td>14.026343</td>\n",
       "      <td>17.0</td>\n",
       "      <td>1.118034</td>\n",
       "      <td>par198-00018</td>\n",
       "      <td>656.029846</td>\n",
       "    </tr>\n",
       "    <tr>\n",
       "      <th>5</th>\n",
       "      <td>26.850969</td>\n",
       "      <td>17.0</td>\n",
       "      <td>1.118034</td>\n",
       "      <td>par104-00019</td>\n",
       "      <td>1243.092579</td>\n",
       "    </tr>\n",
       "    <tr>\n",
       "      <th>11</th>\n",
       "      <td>37.235118</td>\n",
       "      <td>17.0</td>\n",
       "      <td>1.118034</td>\n",
       "      <td>par103-00017</td>\n",
       "      <td>736.105393</td>\n",
       "    </tr>\n",
       "    <tr>\n",
       "      <th>54</th>\n",
       "      <td>43.331991</td>\n",
       "      <td>17.0</td>\n",
       "      <td>1.118034</td>\n",
       "      <td>par137-00018</td>\n",
       "      <td>668.066109</td>\n",
       "    </tr>\n",
       "    <tr>\n",
       "      <th>67</th>\n",
       "      <td>54.300937</td>\n",
       "      <td>17.0</td>\n",
       "      <td>1.118034</td>\n",
       "      <td>aegis-10-G141_15910</td>\n",
       "      <td>602.455533</td>\n",
       "    </tr>\n",
       "    <tr>\n",
       "      <th>51</th>\n",
       "      <td>41.583027</td>\n",
       "      <td>17.0</td>\n",
       "      <td>1.118034</td>\n",
       "      <td>par457-00011</td>\n",
       "      <td>714.677111</td>\n",
       "    </tr>\n",
       "    <tr>\n",
       "      <th>49</th>\n",
       "      <td>39.936721</td>\n",
       "      <td>17.0</td>\n",
       "      <td>1.118034</td>\n",
       "      <td>par371-00027</td>\n",
       "      <td>615.988050</td>\n",
       "    </tr>\n",
       "    <tr>\n",
       "      <th>42</th>\n",
       "      <td>30.794305</td>\n",
       "      <td>17.0</td>\n",
       "      <td>1.118034</td>\n",
       "      <td>par321-00040</td>\n",
       "      <td>1102.676237</td>\n",
       "    </tr>\n",
       "    <tr>\n",
       "      <th>45</th>\n",
       "      <td>31.770879</td>\n",
       "      <td>17.0</td>\n",
       "      <td>1.118034</td>\n",
       "      <td>par332-00036</td>\n",
       "      <td>690.824547</td>\n",
       "    </tr>\n",
       "    <tr>\n",
       "      <th>162</th>\n",
       "      <td>89.458439</td>\n",
       "      <td>18.0</td>\n",
       "      <td>1.118034</td>\n",
       "      <td>par231-00012</td>\n",
       "      <td>217.557917</td>\n",
       "    </tr>\n",
       "  </tbody>\n",
       "</table>\n",
       "</div>"
      ],
      "text/plain": [
       "          snr1   spt    spt_er             grism_id     distance\n",
       "94   29.827710  17.0  1.118034         par434-00015   785.975485\n",
       "93   23.163735  17.0  1.118034         par322-00030   744.652774\n",
       "91   10.730531  17.0  1.118034         par473-00018  1091.894585\n",
       "138  31.640446  17.0  1.118034         par260-00025  1022.168256\n",
       "127  27.354046  17.0  1.118034         par332-00058   840.600721\n",
       "108  22.803283  17.0  1.118034         par235-00024   578.622542\n",
       "109  22.428460  17.0  1.118034          par50-00017   651.183596\n",
       "118  26.662131  17.0  1.118034         par443-00009   821.168037\n",
       "70   66.063315  17.0  1.118034         par356-00013   582.009531\n",
       "26   28.282862  17.0  1.118034         par170-00053   949.742261\n",
       "18   14.026343  17.0  1.118034         par198-00018   656.029846\n",
       "5    26.850969  17.0  1.118034         par104-00019  1243.092579\n",
       "11   37.235118  17.0  1.118034         par103-00017   736.105393\n",
       "54   43.331991  17.0  1.118034         par137-00018   668.066109\n",
       "67   54.300937  17.0  1.118034  aegis-10-G141_15910   602.455533\n",
       "51   41.583027  17.0  1.118034         par457-00011   714.677111\n",
       "49   39.936721  17.0  1.118034         par371-00027   615.988050\n",
       "42   30.794305  17.0  1.118034         par321-00040  1102.676237\n",
       "45   31.770879  17.0  1.118034         par332-00036   690.824547\n",
       "162  89.458439  18.0  1.118034         par231-00012   217.557917"
      ]
     },
     "execution_count": 19,
     "metadata": {},
     "output_type": "execute_result"
    }
   ],
   "source": [
    "ucds[argma_probs==1.][['snr1', 'spt', 'spt_er', 'grism_id', 'distance']]"
   ]
  },
  {
   "cell_type": "code",
   "execution_count": 20,
   "metadata": {},
   "outputs": [],
   "source": [
    "#"
   ]
  },
  {
   "cell_type": "code",
   "execution_count": 21,
   "metadata": {},
   "outputs": [
    {
     "data": {
      "text/plain": [
       "[Text(0.5, 0, 'Class'),\n",
       " Text(0, 0.5, 'Number'),\n",
       " [<matplotlib.axis.XTick at 0x7fd29896ae20>,\n",
       "  <matplotlib.axis.XTick at 0x7fd29896ae80>,\n",
       "  <matplotlib.axis.XTick at 0x7fd29895ab20>,\n",
       "  <matplotlib.axis.XTick at 0x7fd298b1f400>,\n",
       "  <matplotlib.axis.XTick at 0x7fd298b1fd90>],\n",
       " [Text(0.0, 0, 'Gal'),\n",
       "  Text(1.0, 0, 'Early M'),\n",
       "  Text(2.0, 0, 'M7-L0'),\n",
       "  Text(3.0, 0, 'L'),\n",
       "  Text(4.0, 0, 'T')]]"
      ]
     },
     "execution_count": 21,
     "metadata": {},
     "output_type": "execute_result"
    },
    {
     "data": {
      "image/png": "[encoded data removed]",
      "text/plain": [
       "<Figure size 640x480 with 1 Axes>"
      ]
     },
     "metadata": {},
     "output_type": "display_data"
    }
   ],
   "source": [
    "fig, ax=plt.subplots()\n",
    "h=plt.hist(pred_argma_probs, log=True,   label='All predictions')\n",
    "h=plt.hist(argma_probs[(argma_probs >=2. )], \\\n",
    "           label='SNR cut')\n",
    "\n",
    "ax.set(xlabel='Class', ylabel='Number',\n",
    "       xticks=[0., 1., 2., 3., 4.], xticklabels=['Gal', 'Early M', 'M7-L0', 'L', 'T'])\n"
   ]
  },
  {
   "cell_type": "code",
   "execution_count": 22,
   "metadata": {},
   "outputs": [],
   "source": [
    "ucds.grism_id=ucds.grism_id.str.lower()\n",
    "big.grism_id=big.grism_id.str.lower()"
   ]
  },
  {
   "cell_type": "code",
   "execution_count": 23,
   "metadata": {},
   "outputs": [
    {
     "data": {
      "text/plain": [
       "[('H_2O-1/J-Cont H_2O-2+CH_4/H-Cont', 'M7-L0'),\n",
       " ('H_2O-1/J-Cont H_2O-2+CH_4/H-Cont', 'L0-L5'),\n",
       " ('H_2O-1/J-Cont H_2O-1+H_2O-2/H-Cont', 'L5-T0'),\n",
       " ('H_2O-1/J-Cont H_2O-2/H_2O-1', 'T0-T5'),\n",
       " ('H_2O-2/H_2O-1 H_2O-1+H_2O-2/J-Cont', 'T5-T9'),\n",
       " ('H_2O-1/J-Cont H_2O-2/H_2O-1', 'Y dwarfs'),\n",
       " ('H_2O-1/J-Cont CH_4/J-Cont', 'subdwarfs')]"
      ]
     },
     "execution_count": 23,
     "metadata": {},
     "output_type": "execute_result"
    }
   ],
   "source": [
    "indices_to_use"
   ]
  },
  {
   "cell_type": "code",
   "execution_count": 24,
   "metadata": {},
   "outputs": [
    {
     "name": "stdout",
     "output_type": "stream",
     "text": [
      "M7-L0\n",
      "L0-L5\n",
      "L5-T0\n",
      "T0-T5\n",
      "T5-T9\n",
      "Y dwarfs\n",
      "subdwarfs\n",
      "L0-L5\n",
      "selected by rf 14\n",
      "selected by NN 16\n",
      "selected by indices 16\n",
      "selected by rf and indices 13\n",
      "selected by NOT rf and indices 3\n",
      "selected by rf and NOT indices 1\n",
      "selected by NN and indices 14\n",
      "selected by NOT NN and indices 2\n",
      "selected by NN and NOT indices 2\n",
      "---------------------------------------------------------------- \n",
      "L5-T0\n",
      "selected by rf 7\n",
      "selected by NN 8\n",
      "selected by indices 8\n",
      "selected by rf and indices 7\n",
      "selected by NOT rf and indices 1\n",
      "selected by rf and NOT indices 0\n",
      "selected by NN and indices 8\n",
      "selected by NOT NN and indices 0\n",
      "selected by NN and NOT indices 0\n",
      "---------------------------------------------------------------- \n",
      "M7-L0\n",
      "selected by rf 163\n",
      "selected by NN 144\n",
      "selected by indices 175\n",
      "selected by rf and indices 157\n",
      "selected by NOT rf and indices 18\n",
      "selected by rf and NOT indices 6\n",
      "selected by NN and indices 135\n",
      "selected by NOT NN and indices 40\n",
      "selected by NN and NOT indices 9\n",
      "---------------------------------------------------------------- \n",
      "T0-T5\n",
      "selected by rf 5\n",
      "selected by NN 5\n",
      "selected by indices 3\n",
      "selected by rf and indices 3\n",
      "selected by NOT rf and indices 0\n",
      "selected by rf and NOT indices 2\n",
      "selected by NN and indices 3\n",
      "selected by NOT NN and indices 0\n",
      "selected by NN and NOT indices 2\n",
      "---------------------------------------------------------------- \n",
      "T5-T9\n",
      "selected by rf 3\n",
      "selected by NN 3\n",
      "selected by indices 3\n",
      "selected by rf and indices 3\n",
      "selected by NOT rf and indices 0\n",
      "selected by rf and NOT indices 0\n",
      "selected by NN and indices 3\n",
      "selected by NOT NN and indices 0\n",
      "selected by NN and NOT indices 0\n",
      "---------------------------------------------------------------- \n"
     ]
    }
   ],
   "source": [
    "\n",
    "\n",
    "#rfselection=pd.read_csv(wisps.OUTPUT_FILES+'/selected_by_rf.csv')\n",
    "#nnres=pd.read_pickle(wisps.OUTPUT_FILES+'/deep_neural_net_classifier_results.pkl')\n",
    "\n",
    "#rfselection.shape\n",
    "\n",
    "#nnsel= pd.concat(nnres['selected'])\n",
    "\n",
    "nnselection =pd.DataFrame()\n",
    "rfselection=pd.DataFrame()\n",
    "\n",
    "nnselection['grism_id']=ucds.grism_id[ls['labels']]\n",
    "rfselection['grism_id']= ucds.grism_id[rf_ls['labels']]\n",
    "#nnselection=nnselection.drop_duplicates('grism_id')\n",
    "\n",
    "\n",
    "\n",
    "labelled=wisps.Annotator.group_by_spt(ucds, spt_label='spt', assign_number=False)\n",
    "\n",
    "for idxk, k in indices_to_use:\n",
    "    idx=slc_crts[idxk]\n",
    "    labelled['selected_by_{}'.format(k)]= select_by_indices(labelled, idx, k)\n",
    "\n",
    "labelled['index_label']=np.logical_or.reduce([labelled['selected_by_{}'.format(x)].values \n",
    "                                              for x in  np.vstack(indices_to_use)[:,1]])\n",
    "\n",
    "#add labels for index selection\n",
    "labelled['selected_by_rf']=labelled.grism_id.str.lower().isin(rfselection.grism_id.str.lower())\n",
    "labelled['selected_by_nn']=labelled.grism_id.str.lower().isin(nnselection.grism_id.str.lower())\n",
    "for g in labelled.groupby('spt_range'):\n",
    "    df0=g[1]\n",
    "    print ('{}'.format(g[0]))\n",
    "    print ('selected by rf {}'.format(len(df0[df0.selected_by_rf])))\n",
    "    print ('selected by NN {}'.format(len(df0[df0.selected_by_nn])))\n",
    "    print ('selected by indices {}'.format(len(df0[df0.index_label])))\n",
    "    print ('selected by rf and indices {}'.format(len(df0[np.logical_and(df0.index_label,df0.selected_by_rf) ])))\n",
    "    print ('selected by NOT rf and indices {}'.format(len(df0[np.logical_and(df0.index_label,~df0.selected_by_rf) ])))\n",
    "    print ('selected by rf and NOT indices {}'.format(len(df0[np.logical_and(~df0.index_label,df0.selected_by_rf) ])))\n",
    "    print ('selected by NN and indices {}'.format(len(df0[np.logical_and(df0.index_label,df0.selected_by_nn) ])))\n",
    "    print ('selected by NOT NN and indices {}'.format(len(df0[np.logical_and(df0.index_label,~df0.selected_by_nn) ])))\n",
    "    print ('selected by NN and NOT indices {}'.format(len(df0[np.logical_and(~df0.index_label,df0.selected_by_nn) ])))\n",
    "    print ('---------------------------------------------------------------- ')"
   ]
  },
  {
   "cell_type": "code",
   "execution_count": 25,
   "metadata": {},
   "outputs": [],
   "source": [
    "#"
   ]
  },
  {
   "cell_type": "code",
   "execution_count": 26,
   "metadata": {},
   "outputs": [],
   "source": [
    "def ucd_selection_method(ro):\n",
    "    select=''\n",
    "    if ro.index_label:\n",
    "        select +=\"Indices, \"\n",
    "    if ro.selected_by_nn:\n",
    "        select +=\"DNN, \"\n",
    "    if ro.selected_by_nn:\n",
    "        select +=\"RF \"\n",
    "    if select.endswith(', '):\n",
    "        select=select.replace(',', '')\n",
    "    return select"
   ]
  },
  {
   "cell_type": "code",
   "execution_count": 27,
   "metadata": {},
   "outputs": [],
   "source": [
    "#make that colormap\n",
    "ucds['selection']=ucds.apply(ucd_selection_method, axis=1).values"
   ]
  },
  {
   "cell_type": "code",
   "execution_count": 45,
   "metadata": {},
   "outputs": [],
   "source": [
    "bools=(uc['selection']=='').values"
   ]
  },
  {
   "cell_type": "code",
   "execution_count": 50,
   "metadata": {},
   "outputs": [
    {
     "ename": "ValueError",
     "evalue": "Shapes (254264,) and (231,) are incompatible",
     "output_type": "error",
     "traceback": [
      "\u001b[0;31m---------------------------------------------------------------------------\u001b[0m",
      "\u001b[0;31mValueError\u001b[0m                                Traceback (most recent call last)",
      "\u001b[0;32m<ipython-input-50-1cefac51b9f3>\u001b[0m in \u001b[0;36m<module>\u001b[0;34m\u001b[0m\n\u001b[0;32m----> 1\u001b[0;31m \u001b[0mlp\u001b[0m\u001b[0;34m[\u001b[0m\u001b[0;34m'probs'\u001b[0m\u001b[0;34m]\u001b[0m\u001b[0;34m[\u001b[0m\u001b[0mbools\u001b[0m\u001b[0;34m]\u001b[0m\u001b[0;34m\u001b[0m\u001b[0;34m\u001b[0m\u001b[0m\n\u001b[0m",
      "\u001b[0;32m/opt/anaconda3/lib/python3.8/site-packages/tensorflow/python/util/dispatch.py\u001b[0m in \u001b[0;36mwrapper\u001b[0;34m(*args, **kwargs)\u001b[0m\n\u001b[1;32m    199\u001b[0m     \u001b[0;34m\"\"\"Call target, and fall back on dispatchers if there is a TypeError.\"\"\"\u001b[0m\u001b[0;34m\u001b[0m\u001b[0;34m\u001b[0m\u001b[0m\n\u001b[1;32m    200\u001b[0m     \u001b[0;32mtry\u001b[0m\u001b[0;34m:\u001b[0m\u001b[0;34m\u001b[0m\u001b[0;34m\u001b[0m\u001b[0m\n\u001b[0;32m--> 201\u001b[0;31m       \u001b[0;32mreturn\u001b[0m \u001b[0mtarget\u001b[0m\u001b[0;34m(\u001b[0m\u001b[0;34m*\u001b[0m\u001b[0margs\u001b[0m\u001b[0;34m,\u001b[0m \u001b[0;34m**\u001b[0m\u001b[0mkwargs\u001b[0m\u001b[0;34m)\u001b[0m\u001b[0;34m\u001b[0m\u001b[0;34m\u001b[0m\u001b[0m\n\u001b[0m\u001b[1;32m    202\u001b[0m     \u001b[0;32mexcept\u001b[0m \u001b[0;34m(\u001b[0m\u001b[0mTypeError\u001b[0m\u001b[0;34m,\u001b[0m \u001b[0mValueError\u001b[0m\u001b[0;34m)\u001b[0m\u001b[0;34m:\u001b[0m\u001b[0;34m\u001b[0m\u001b[0;34m\u001b[0m\u001b[0m\n\u001b[1;32m    203\u001b[0m       \u001b[0;31m# Note: convert_to_eager_tensor currently raises a ValueError, not a\u001b[0m\u001b[0;34m\u001b[0m\u001b[0;34m\u001b[0m\u001b[0;34m\u001b[0m\u001b[0m\n",
      "\u001b[0;32m/opt/anaconda3/lib/python3.8/site-packages/tensorflow/python/ops/array_ops.py\u001b[0m in \u001b[0;36m_slice_helper\u001b[0;34m(tensor, slice_spec, var)\u001b[0m\n\u001b[1;32m    966\u001b[0m   \u001b[0;34m(\u001b[0m\u001b[0misinstance\u001b[0m\u001b[0;34m(\u001b[0m\u001b[0mslice_spec\u001b[0m\u001b[0;34m,\u001b[0m \u001b[0mops\u001b[0m\u001b[0;34m.\u001b[0m\u001b[0mTensor\u001b[0m\u001b[0;34m)\u001b[0m \u001b[0;32mand\u001b[0m \u001b[0mslice_spec\u001b[0m\u001b[0;34m.\u001b[0m\u001b[0mdtype\u001b[0m \u001b[0;34m==\u001b[0m \u001b[0mdtypes\u001b[0m\u001b[0;34m.\u001b[0m\u001b[0mbool\u001b[0m\u001b[0;34m)\u001b[0m \u001b[0;32mor\u001b[0m\u001b[0;31m \u001b[0m\u001b[0;31m\\\u001b[0m\u001b[0;34m\u001b[0m\u001b[0;34m\u001b[0m\u001b[0m\n\u001b[1;32m    967\u001b[0m   \u001b[0;34m(\u001b[0m\u001b[0misinstance\u001b[0m\u001b[0;34m(\u001b[0m\u001b[0mslice_spec\u001b[0m\u001b[0;34m,\u001b[0m \u001b[0mnp\u001b[0m\u001b[0;34m.\u001b[0m\u001b[0mndarray\u001b[0m\u001b[0;34m)\u001b[0m \u001b[0;32mand\u001b[0m \u001b[0mslice_spec\u001b[0m\u001b[0;34m.\u001b[0m\u001b[0mdtype\u001b[0m \u001b[0;34m==\u001b[0m \u001b[0mbool\u001b[0m\u001b[0;34m)\u001b[0m\u001b[0;34m:\u001b[0m\u001b[0;34m\u001b[0m\u001b[0;34m\u001b[0m\u001b[0m\n\u001b[0;32m--> 968\u001b[0;31m     \u001b[0;32mreturn\u001b[0m \u001b[0mboolean_mask\u001b[0m\u001b[0;34m(\u001b[0m\u001b[0mtensor\u001b[0m\u001b[0;34m=\u001b[0m\u001b[0mtensor\u001b[0m\u001b[0;34m,\u001b[0m \u001b[0mmask\u001b[0m\u001b[0;34m=\u001b[0m\u001b[0mslice_spec\u001b[0m\u001b[0;34m)\u001b[0m\u001b[0;34m\u001b[0m\u001b[0;34m\u001b[0m\u001b[0m\n\u001b[0m\u001b[1;32m    969\u001b[0m \u001b[0;34m\u001b[0m\u001b[0m\n\u001b[1;32m    970\u001b[0m   \u001b[0;32mif\u001b[0m \u001b[0;32mnot\u001b[0m \u001b[0misinstance\u001b[0m\u001b[0;34m(\u001b[0m\u001b[0mslice_spec\u001b[0m\u001b[0;34m,\u001b[0m \u001b[0;34m(\u001b[0m\u001b[0mlist\u001b[0m\u001b[0;34m,\u001b[0m \u001b[0mtuple\u001b[0m\u001b[0;34m)\u001b[0m\u001b[0;34m)\u001b[0m\u001b[0;34m:\u001b[0m\u001b[0;34m\u001b[0m\u001b[0;34m\u001b[0m\u001b[0m\n",
      "\u001b[0;32m/opt/anaconda3/lib/python3.8/site-packages/tensorflow/python/util/dispatch.py\u001b[0m in \u001b[0;36mwrapper\u001b[0;34m(*args, **kwargs)\u001b[0m\n\u001b[1;32m    199\u001b[0m     \u001b[0;34m\"\"\"Call target, and fall back on dispatchers if there is a TypeError.\"\"\"\u001b[0m\u001b[0;34m\u001b[0m\u001b[0;34m\u001b[0m\u001b[0m\n\u001b[1;32m    200\u001b[0m     \u001b[0;32mtry\u001b[0m\u001b[0;34m:\u001b[0m\u001b[0;34m\u001b[0m\u001b[0;34m\u001b[0m\u001b[0m\n\u001b[0;32m--> 201\u001b[0;31m       \u001b[0;32mreturn\u001b[0m \u001b[0mtarget\u001b[0m\u001b[0;34m(\u001b[0m\u001b[0;34m*\u001b[0m\u001b[0margs\u001b[0m\u001b[0;34m,\u001b[0m \u001b[0;34m**\u001b[0m\u001b[0mkwargs\u001b[0m\u001b[0;34m)\u001b[0m\u001b[0;34m\u001b[0m\u001b[0;34m\u001b[0m\u001b[0m\n\u001b[0m\u001b[1;32m    202\u001b[0m     \u001b[0;32mexcept\u001b[0m \u001b[0;34m(\u001b[0m\u001b[0mTypeError\u001b[0m\u001b[0;34m,\u001b[0m \u001b[0mValueError\u001b[0m\u001b[0;34m)\u001b[0m\u001b[0;34m:\u001b[0m\u001b[0;34m\u001b[0m\u001b[0;34m\u001b[0m\u001b[0m\n\u001b[1;32m    203\u001b[0m       \u001b[0;31m# Note: convert_to_eager_tensor currently raises a ValueError, not a\u001b[0m\u001b[0;34m\u001b[0m\u001b[0;34m\u001b[0m\u001b[0;34m\u001b[0m\u001b[0m\n",
      "\u001b[0;32m/opt/anaconda3/lib/python3.8/site-packages/tensorflow/python/ops/array_ops.py\u001b[0m in \u001b[0;36mboolean_mask\u001b[0;34m(tensor, mask, name, axis)\u001b[0m\n\u001b[1;32m   1749\u001b[0m     \u001b[0;32mif\u001b[0m \u001b[0maxis_value\u001b[0m \u001b[0;32mis\u001b[0m \u001b[0;32mnot\u001b[0m \u001b[0;32mNone\u001b[0m\u001b[0;34m:\u001b[0m\u001b[0;34m\u001b[0m\u001b[0;34m\u001b[0m\u001b[0m\n\u001b[1;32m   1750\u001b[0m       \u001b[0maxis\u001b[0m \u001b[0;34m=\u001b[0m \u001b[0maxis_value\u001b[0m\u001b[0;34m\u001b[0m\u001b[0;34m\u001b[0m\u001b[0m\n\u001b[0;32m-> 1751\u001b[0;31m       \u001b[0mshape_tensor\u001b[0m\u001b[0;34m[\u001b[0m\u001b[0maxis\u001b[0m\u001b[0;34m:\u001b[0m\u001b[0maxis\u001b[0m \u001b[0;34m+\u001b[0m \u001b[0mndims_mask\u001b[0m\u001b[0;34m]\u001b[0m\u001b[0;34m.\u001b[0m\u001b[0massert_is_compatible_with\u001b[0m\u001b[0;34m(\u001b[0m\u001b[0mshape_mask\u001b[0m\u001b[0;34m)\u001b[0m\u001b[0;34m\u001b[0m\u001b[0;34m\u001b[0m\u001b[0m\n\u001b[0m\u001b[1;32m   1752\u001b[0m \u001b[0;34m\u001b[0m\u001b[0m\n\u001b[1;32m   1753\u001b[0m     \u001b[0mleading_size\u001b[0m \u001b[0;34m=\u001b[0m \u001b[0mgen_math_ops\u001b[0m\u001b[0;34m.\u001b[0m\u001b[0mprod\u001b[0m\u001b[0;34m(\u001b[0m\u001b[0mshape\u001b[0m\u001b[0;34m(\u001b[0m\u001b[0mtensor\u001b[0m\u001b[0;34m)\u001b[0m\u001b[0;34m[\u001b[0m\u001b[0maxis\u001b[0m\u001b[0;34m:\u001b[0m\u001b[0maxis\u001b[0m \u001b[0;34m+\u001b[0m \u001b[0mndims_mask\u001b[0m\u001b[0;34m]\u001b[0m\u001b[0;34m,\u001b[0m \u001b[0;34m[\u001b[0m\u001b[0;36m0\u001b[0m\u001b[0;34m]\u001b[0m\u001b[0;34m)\u001b[0m\u001b[0;34m\u001b[0m\u001b[0;34m\u001b[0m\u001b[0m\n",
      "\u001b[0;32m/opt/anaconda3/lib/python3.8/site-packages/tensorflow/python/framework/tensor_shape.py\u001b[0m in \u001b[0;36massert_is_compatible_with\u001b[0;34m(self, other)\u001b[0m\n\u001b[1;32m   1132\u001b[0m     \"\"\"\n\u001b[1;32m   1133\u001b[0m     \u001b[0;32mif\u001b[0m \u001b[0;32mnot\u001b[0m \u001b[0mself\u001b[0m\u001b[0;34m.\u001b[0m\u001b[0mis_compatible_with\u001b[0m\u001b[0;34m(\u001b[0m\u001b[0mother\u001b[0m\u001b[0;34m)\u001b[0m\u001b[0;34m:\u001b[0m\u001b[0;34m\u001b[0m\u001b[0;34m\u001b[0m\u001b[0m\n\u001b[0;32m-> 1134\u001b[0;31m       \u001b[0;32mraise\u001b[0m \u001b[0mValueError\u001b[0m\u001b[0;34m(\u001b[0m\u001b[0;34m\"Shapes %s and %s are incompatible\"\u001b[0m \u001b[0;34m%\u001b[0m \u001b[0;34m(\u001b[0m\u001b[0mself\u001b[0m\u001b[0;34m,\u001b[0m \u001b[0mother\u001b[0m\u001b[0;34m)\u001b[0m\u001b[0;34m)\u001b[0m\u001b[0;34m\u001b[0m\u001b[0;34m\u001b[0m\u001b[0m\n\u001b[0m\u001b[1;32m   1135\u001b[0m \u001b[0;34m\u001b[0m\u001b[0m\n\u001b[1;32m   1136\u001b[0m   \u001b[0;32mdef\u001b[0m \u001b[0mmost_specific_compatible_shape\u001b[0m\u001b[0;34m(\u001b[0m\u001b[0mself\u001b[0m\u001b[0;34m,\u001b[0m \u001b[0mother\u001b[0m\u001b[0;34m)\u001b[0m\u001b[0;34m:\u001b[0m\u001b[0;34m\u001b[0m\u001b[0;34m\u001b[0m\u001b[0m\n",
      "\u001b[0;31mValueError\u001b[0m: Shapes (254264,) and (231,) are incompatible"
     ]
    }
   ],
   "source": [
    "lp['probs'][bools]"
   ]
  },
  {
   "cell_type": "code",
   "execution_count": 42,
   "metadata": {},
   "outputs": [
    {
     "data": {
      "text/plain": [
       "93     2.444365e-12\n",
       "92     8.198932e-01\n",
       "109    4.152920e-02\n",
       "26     2.575347e-03\n",
       "22     9.217332e-07\n",
       "5      1.549633e-21\n",
       "8      4.089232e-05\n",
       "162    6.835985e-01\n",
       "172    1.000000e+00\n",
       "204    5.876166e-07\n",
       "206    1.342386e-07\n",
       "210    3.025772e-11\n",
       "218    1.184731e-03\n",
       "Name: f_test, dtype: float64"
      ]
     },
     "execution_count": 42,
     "metadata": {},
     "output_type": "execute_result"
    }
   ],
   "source": [
    "ucds[ucds['selection']=='']['f_test']"
   ]
  },
  {
   "cell_type": "code",
   "execution_count": 29,
   "metadata": {},
   "outputs": [],
   "source": [
    "def formatted_distance(x):\n",
    "    d= str(int(round(x.distance['val'].value, 0)))\n",
    "    der=[str(int(abs(round(x.distance['er'].value[0], 0)))),\\\n",
    "            str(int(abs(round(x.distance['er'].value[0], 0))))]\n",
    "         \n",
    "    if abs(x.distance['er'].value[0])/x.distance['val'].value >0.9:\n",
    "        return \"$\\\\approx$\"+d\n",
    "    else:\n",
    "        #return r'$'+d+'\\substack{+'+der[0]+'\\\\\\ -'+der[-1]+'}$'\n",
    "        return d+'$^{+'+der[0]+'}'+'_{-'+der[1]+'}$'"
   ]
  },
  {
   "cell_type": "code",
   "execution_count": 30,
   "metadata": {},
   "outputs": [],
   "source": [
    "fdf=ucds"
   ]
  },
  {
   "cell_type": "code",
   "execution_count": 31,
   "metadata": {},
   "outputs": [],
   "source": [
    "latc_df=pd.DataFrame()\n",
    "latc_df['Shortname']=fdf.spectra.apply(lambda x: x.shortname.upper())\n",
    "latc_df['designation']=fdf.spectra.apply(lambda x: x.designation.upper())\n",
    "latc_df['grism id']=fdf.spectra.apply(lambda x: x.name.upper().replace('_', '-'))\n",
    "latc_df['snrj']=fdf.spectra.apply(lambda x: int(round(x.snr['snr1'])))\n",
    "latc_df['spt']=fdf.spectra.apply(lambda x: splat.typeToNum(x.spectral_type[0]) +r'$\\pm$'+ str(round(x.spectral_type[1], 1)))\n",
    "latc_df['ra']=fdf.spectra.apply(lambda x: x.ra.value)\n",
    "latc_df['dec']=fdf.spectra.apply(lambda x: x.dec.value)\n",
    "latc_df['f110']=fdf.spectra.apply(lambda x:  str(round(x.mags['F110W'][0],3)) +r'$\\pm$'+ str(round(x.mags['F110W'][1],3)))\n",
    "#latc_df['f110_er']=fdf.spectra.apply(lambda x: round(x.mags['F110W'][1], 1))\n",
    "latc_df['f140']=fdf.spectra.apply(lambda x:  str(round(x.mags['F140W'][0],3)) +r'$\\pm$'+  str(round(x.mags['F140W'][1],3)))\n",
    "#latc_df['f140_er']=fdf.spectra.apply(lambda x: round(x.mags['F140W'][1], 1))\n",
    "latc_df['f160']=fdf.spectra.apply(lambda x:   str(round(x.mags['F160W'][0],3)) + r'$\\pm$'+ str(round(x.mags['F160W'][1],3)))\n",
    "#latc_df['f160_er']=fdf.spectra.apply(lambda x: round(x.mags['F160W'][1], 1))\n",
    "latc_df['distance']=fdf.spectra.apply(formatted_distance)\n",
    "latc_df['Selected By']= fdf['selection']\n",
    "latc_df=latc_df.replace('nan$\\\\pm$nan', '\\nodata')"
   ]
  },
  {
   "cell_type": "code",
   "execution_count": 32,
   "metadata": {},
   "outputs": [],
   "source": [
    "col_list=['designation','grism id', 'f110', 'f140', 'f160', \\\n",
    "          'snrj', 'spt', 'distance','Selected By']"
   ]
  },
  {
   "cell_type": "code",
   "execution_count": 33,
   "metadata": {},
   "outputs": [],
   "source": [
    "latc_df[col_list].to_latex(wisps.LIBRARIES+'/candidates.tex',\n",
    "             header=True, index=False, escape=False, na_rep=' ')"
   ]
  },
  {
   "cell_type": "code",
   "execution_count": 34,
   "metadata": {},
   "outputs": [],
   "source": [
    "latc_df[col_list].to_latex('/users/caganze/desktop/candidates.tex',\n",
    "             header=True, index=False, escape=False, na_rep=' ')"
   ]
  },
  {
   "cell_type": "code",
   "execution_count": 35,
   "metadata": {},
   "outputs": [
    {
     "data": {
      "text/plain": [
       "array([['M7.0$\\\\pm$1.1', 'PAR322-00030', 23],\n",
       "       ['M7.0$\\\\pm$1.1', 'PAR83-00004', 105],\n",
       "       ['M7.0$\\\\pm$1.1', 'PAR50-00017', 22],\n",
       "       ['M7.0$\\\\pm$1.1', 'PAR170-00053', 28],\n",
       "       ['M7.0$\\\\pm$1.1', 'PAR293-00059', 8],\n",
       "       ['M7.0$\\\\pm$1.1', 'PAR104-00019', 27],\n",
       "       ['M7.0$\\\\pm$1.1', 'PAR52-00082', 7],\n",
       "       ['M8.0$\\\\pm$1.1', 'PAR231-00012', 89],\n",
       "       ['M8.0$\\\\pm$0.5', 'PAR133-00012', 87],\n",
       "       ['L2.0$\\\\pm$2.1', 'PAR244-00072', 6],\n",
       "       ['L3.0$\\\\pm$5.0', 'COSMOS-27-G141-17304', 5],\n",
       "       ['L4.0$\\\\pm$6.0', 'COSMOS-09-G141-16730', 4],\n",
       "       ['L8.0$\\\\pm$3.0', 'PAR201-00044', 4]], dtype=object)"
      ]
     },
     "execution_count": 35,
     "metadata": {},
     "output_type": "execute_result"
    }
   ],
   "source": [
    "latc_df[['spt', 'grism id', 'snrj']][latc_df['Selected By']==''].values"
   ]
  },
  {
   "cell_type": "code",
   "execution_count": 36,
   "metadata": {},
   "outputs": [],
   "source": [
    "lp=select_by_neuralnet(big)"
   ]
  },
  {
   "cell_type": "code",
   "execution_count": 37,
   "metadata": {},
   "outputs": [],
   "source": [
    "rf_lp=select_by_random_forest(big)"
   ]
  },
  {
   "cell_type": "code",
   "execution_count": 38,
   "metadata": {},
   "outputs": [
    {
     "data": {
      "text/plain": [
       "744"
      ]
     },
     "execution_count": 38,
     "metadata": {},
     "output_type": "execute_result"
    }
   ],
   "source": [
    "len(big[(big.snr1>=3) & lp['labels']])"
   ]
  },
  {
   "cell_type": "code",
   "execution_count": 39,
   "metadata": {},
   "outputs": [
    {
     "data": {
      "text/plain": [
       "246"
      ]
     },
     "execution_count": 39,
     "metadata": {},
     "output_type": "execute_result"
    }
   ],
   "source": [
    "len(big[(big.snr1>=3) & rf_lp['labels']])"
   ]
  },
  {
   "cell_type": "code",
   "execution_count": 40,
   "metadata": {},
   "outputs": [],
   "source": [
    "#latc_df"
   ]
  },
  {
   "cell_type": "markdown",
   "metadata": {},
   "source": [
    "### "
   ]
  }
 ],
 "metadata": {
  "kernelspec": {
   "display_name": "Python 3",
   "language": "python",
   "name": "python3"
  },
  "language_info": {
   "codemirror_mode": {
    "name": "ipython",
    "version": 3
   },
   "file_extension": ".py",
   "mimetype": "text/x-python",
   "name": "python",
   "nbconvert_exporter": "python",
   "pygments_lexer": "ipython3",
   "version": "3.8.5"
  }
 },
 "nbformat": 4,
 "nbformat_minor": 4
}
