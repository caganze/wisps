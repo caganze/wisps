{
 "cells": [
  {
   "cell_type": "code",
   "execution_count": 1,
   "metadata": {},
   "outputs": [
    {
     "name": "stdout",
     "output_type": "stream",
     "text": [
      "Adding 89 sources from /Users/caganze/research/splat//resources/Spectra/Public/MAGE/ to spectral database\n",
      "Adding 145 sources from /Users/caganze/research/splat//resources/Spectra/Public/LRIS-RED/ to spectral database\n",
      "Adding 2404 sources from /Users/caganze/research/splat//resources/Spectra/Public/SPEX-PRISM/ to spectral database\n"
     ]
    }
   ],
   "source": [
    "from astropy.io import fits\n",
    "import numpy as np\n",
    "import pandas as pd\n",
    "import matplotlib.pyplot as plt\n",
    "import wisps\n",
    "from tqdm import tqdm\n",
    "from astropy.table import Table\n",
    "%matplotlib inline\n"
   ]
  },
  {
   "cell_type": "code",
   "execution_count": 2,
   "metadata": {},
   "outputs": [],
   "source": [
    "#Crossmatches using topcat\n",
    "hdus=fits.open(wisps.LIBRARIES+'/master_crossmatch.fits')\n",
    "ucds=pd.read_pickle(wisps.LIBRARIES+'/new_real_ucds.pkl')"
   ]
  },
  {
   "cell_type": "code",
   "execution_count": 3,
   "metadata": {},
   "outputs": [
    {
     "data": {
      "text/plain": [
       "7"
      ]
     },
     "execution_count": 3,
     "metadata": {},
     "output_type": "execute_result"
    }
   ],
   "source": [
    "len(hdus)"
   ]
  },
  {
   "cell_type": "code",
   "execution_count": 4,
   "metadata": {},
   "outputs": [],
   "source": [
    "simbad=Table(hdus[1].data).to_pandas()\n",
    "tmass=Table(hdus[2].data).to_pandas()\n",
    "gaia=Table(hdus[3].data).to_pandas()\n",
    "panstarrs=Table(hdus[4].data).to_pandas()\n",
    "sdss=Table(hdus[5].data).to_pandas()\n",
    "yise=Table(hdus[6].data).to_pandas()\n",
    "#closest objects\n",
    "gaia['gaia_distance']=np.nanmedian(1000/np.random.normal(gaia.parallax, gaia.parallax_error, size=( 1000, len(gaia))), \n",
    "             axis=0)\n",
    "gaia['gaia_distance_er']=np.nanstd(1000/np.random.normal(gaia.parallax, gaia.parallax_error, size=( 1000, len(gaia))), \n",
    "             axis=0)"
   ]
  },
  {
   "cell_type": "code",
   "execution_count": 5,
   "metadata": {},
   "outputs": [],
   "source": [
    "merged_yise=ucds.merge(yise, on='grism_id')\n",
    "merged_ps1=ucds.merge(panstarrs, on='grism_id')\n",
    "merged_gaia=ucds.merge(gaia, on='grism_id')\n",
    "merged_tmass=ucds.merge(tmass, on='grism_id')\n",
    "merged_sdss=ucds.merge(sdss, on='grism_id')\n",
    "merged_simbad=ucds.merge(simbad, on='grism_id')"
   ]
  },
  {
   "cell_type": "code",
   "execution_count": 6,
   "metadata": {},
   "outputs": [
    {
     "data": {
      "text/html": [
       "<div>\n",
       "<style scoped>\n",
       "    .dataframe tbody tr th:only-of-type {\n",
       "        vertical-align: middle;\n",
       "    }\n",
       "\n",
       "    .dataframe tbody tr th {\n",
       "        vertical-align: top;\n",
       "    }\n",
       "\n",
       "    .dataframe thead th {\n",
       "        text-align: right;\n",
       "    }\n",
       "</style>\n",
       "<table border=\"1\" class=\"dataframe\">\n",
       "  <thead>\n",
       "    <tr style=\"text-align: right;\">\n",
       "      <th></th>\n",
       "      <th>designation</th>\n",
       "      <th>spt</th>\n",
       "      <th>angDist</th>\n",
       "    </tr>\n",
       "  </thead>\n",
       "  <tbody>\n",
       "    <tr>\n",
       "      <th>0</th>\n",
       "      <td>J14201199+5254145</td>\n",
       "      <td>17.0</td>\n",
       "      <td>0.468783</td>\n",
       "    </tr>\n",
       "    <tr>\n",
       "      <th>1</th>\n",
       "      <td>J15563316+2107548</td>\n",
       "      <td>17.0</td>\n",
       "      <td>0.303790</td>\n",
       "    </tr>\n",
       "    <tr>\n",
       "      <th>2</th>\n",
       "      <td>J15451481+1155008</td>\n",
       "      <td>17.0</td>\n",
       "      <td>0.555157</td>\n",
       "    </tr>\n",
       "    <tr>\n",
       "      <th>3</th>\n",
       "      <td>J09260832+1239515</td>\n",
       "      <td>17.0</td>\n",
       "      <td>0.374577</td>\n",
       "    </tr>\n",
       "    <tr>\n",
       "      <th>4</th>\n",
       "      <td>J01101162-0225003</td>\n",
       "      <td>17.0</td>\n",
       "      <td>0.390088</td>\n",
       "    </tr>\n",
       "    <tr>\n",
       "      <th>5</th>\n",
       "      <td>J11252211+5319527</td>\n",
       "      <td>18.0</td>\n",
       "      <td>0.721248</td>\n",
       "    </tr>\n",
       "    <tr>\n",
       "      <th>6</th>\n",
       "      <td>J09275744+6027467</td>\n",
       "      <td>21.0</td>\n",
       "      <td>0.345769</td>\n",
       "    </tr>\n",
       "    <tr>\n",
       "      <th>7</th>\n",
       "      <td>J16252493+5721274</td>\n",
       "      <td>24.0</td>\n",
       "      <td>0.389257</td>\n",
       "    </tr>\n",
       "  </tbody>\n",
       "</table>\n",
       "</div>"
      ],
      "text/plain": [
       "         designation   spt   angDist\n",
       "0  J14201199+5254145  17.0  0.468783\n",
       "1  J15563316+2107548  17.0  0.303790\n",
       "2  J15451481+1155008  17.0  0.555157\n",
       "3  J09260832+1239515  17.0  0.374577\n",
       "4  J01101162-0225003  17.0  0.390088\n",
       "5  J11252211+5319527  18.0  0.721248\n",
       "6  J09275744+6027467  21.0  0.345769\n",
       "7  J16252493+5721274  24.0  0.389257"
      ]
     },
     "execution_count": 6,
     "metadata": {},
     "output_type": "execute_result"
    }
   ],
   "source": [
    "merged_sdss[['designation', 'spt', 'angDist']]"
   ]
  },
  {
   "cell_type": "code",
   "execution_count": 7,
   "metadata": {},
   "outputs": [
    {
     "data": {
      "text/html": [
       "<div>\n",
       "<style scoped>\n",
       "    .dataframe tbody tr th:only-of-type {\n",
       "        vertical-align: middle;\n",
       "    }\n",
       "\n",
       "    .dataframe tbody tr th {\n",
       "        vertical-align: top;\n",
       "    }\n",
       "\n",
       "    .dataframe thead th {\n",
       "        text-align: right;\n",
       "    }\n",
       "</style>\n",
       "<table border=\"1\" class=\"dataframe\">\n",
       "  <thead>\n",
       "    <tr style=\"text-align: right;\">\n",
       "      <th></th>\n",
       "      <th>designation</th>\n",
       "      <th>spt</th>\n",
       "      <th>angDist</th>\n",
       "    </tr>\n",
       "  </thead>\n",
       "  <tbody>\n",
       "    <tr>\n",
       "      <th>0</th>\n",
       "      <td>J00114889-0653461</td>\n",
       "      <td>17.0</td>\n",
       "      <td>0.331333</td>\n",
       "    </tr>\n",
       "    <tr>\n",
       "      <th>1</th>\n",
       "      <td>J14271276+2631084</td>\n",
       "      <td>17.0</td>\n",
       "      <td>0.048559</td>\n",
       "    </tr>\n",
       "    <tr>\n",
       "      <th>2</th>\n",
       "      <td>J17391964+4554544</td>\n",
       "      <td>17.0</td>\n",
       "      <td>0.296146</td>\n",
       "    </tr>\n",
       "    <tr>\n",
       "      <th>3</th>\n",
       "      <td>J15451481+1155008</td>\n",
       "      <td>17.0</td>\n",
       "      <td>0.108182</td>\n",
       "    </tr>\n",
       "    <tr>\n",
       "      <th>4</th>\n",
       "      <td>J03324721-2744089</td>\n",
       "      <td>17.0</td>\n",
       "      <td>0.389567</td>\n",
       "    </tr>\n",
       "    <tr>\n",
       "      <th>5</th>\n",
       "      <td>J01101162-0225003</td>\n",
       "      <td>17.0</td>\n",
       "      <td>0.301248</td>\n",
       "    </tr>\n",
       "    <tr>\n",
       "      <th>6</th>\n",
       "      <td>J09081156+3246358</td>\n",
       "      <td>17.0</td>\n",
       "      <td>0.160391</td>\n",
       "    </tr>\n",
       "    <tr>\n",
       "      <th>7</th>\n",
       "      <td>J23333806+3921333</td>\n",
       "      <td>18.0</td>\n",
       "      <td>0.079681</td>\n",
       "    </tr>\n",
       "    <tr>\n",
       "      <th>8</th>\n",
       "      <td>J23333951+3925052</td>\n",
       "      <td>18.0</td>\n",
       "      <td>0.214139</td>\n",
       "    </tr>\n",
       "    <tr>\n",
       "      <th>9</th>\n",
       "      <td>J14024558+5410246</td>\n",
       "      <td>18.0</td>\n",
       "      <td>0.176452</td>\n",
       "    </tr>\n",
       "    <tr>\n",
       "      <th>10</th>\n",
       "      <td>J23333572+3922141</td>\n",
       "      <td>18.0</td>\n",
       "      <td>0.104383</td>\n",
       "    </tr>\n",
       "    <tr>\n",
       "      <th>11</th>\n",
       "      <td>J09275744+6027467</td>\n",
       "      <td>21.0</td>\n",
       "      <td>0.133171</td>\n",
       "    </tr>\n",
       "    <tr>\n",
       "      <th>12</th>\n",
       "      <td>J16252493+5721274</td>\n",
       "      <td>24.0</td>\n",
       "      <td>0.580792</td>\n",
       "    </tr>\n",
       "  </tbody>\n",
       "</table>\n",
       "</div>"
      ],
      "text/plain": [
       "          designation   spt   angDist\n",
       "0   J00114889-0653461  17.0  0.331333\n",
       "1   J14271276+2631084  17.0  0.048559\n",
       "2   J17391964+4554544  17.0  0.296146\n",
       "3   J15451481+1155008  17.0  0.108182\n",
       "4   J03324721-2744089  17.0  0.389567\n",
       "5   J01101162-0225003  17.0  0.301248\n",
       "6   J09081156+3246358  17.0  0.160391\n",
       "7   J23333806+3921333  18.0  0.079681\n",
       "8   J23333951+3925052  18.0  0.214139\n",
       "9   J14024558+5410246  18.0  0.176452\n",
       "10  J23333572+3922141  18.0  0.104383\n",
       "11  J09275744+6027467  21.0  0.133171\n",
       "12  J16252493+5721274  24.0  0.580792"
      ]
     },
     "execution_count": 7,
     "metadata": {},
     "output_type": "execute_result"
    }
   ],
   "source": [
    "merged_ps1[['designation', 'spt', 'angDist']]"
   ]
  },
  {
   "cell_type": "code",
   "execution_count": 8,
   "metadata": {},
   "outputs": [
    {
     "data": {
      "text/html": [
       "<div>\n",
       "<style scoped>\n",
       "    .dataframe tbody tr th:only-of-type {\n",
       "        vertical-align: middle;\n",
       "    }\n",
       "\n",
       "    .dataframe tbody tr th {\n",
       "        vertical-align: top;\n",
       "    }\n",
       "\n",
       "    .dataframe thead th {\n",
       "        text-align: right;\n",
       "    }\n",
       "</style>\n",
       "<table border=\"1\" class=\"dataframe\">\n",
       "  <thead>\n",
       "    <tr style=\"text-align: right;\">\n",
       "      <th></th>\n",
       "      <th>designation</th>\n",
       "      <th>spt</th>\n",
       "      <th>angDist</th>\n",
       "      <th>plx</th>\n",
       "    </tr>\n",
       "  </thead>\n",
       "  <tbody>\n",
       "    <tr>\n",
       "      <th>0</th>\n",
       "      <td>J10001957+0218224</td>\n",
       "      <td>17.0</td>\n",
       "      <td>0.149941</td>\n",
       "      <td>NaN</td>\n",
       "    </tr>\n",
       "    <tr>\n",
       "      <th>1</th>\n",
       "      <td>J03321669-2750086</td>\n",
       "      <td>17.0</td>\n",
       "      <td>0.008347</td>\n",
       "      <td>NaN</td>\n",
       "    </tr>\n",
       "    <tr>\n",
       "      <th>2</th>\n",
       "      <td>J03324721-2744089</td>\n",
       "      <td>17.0</td>\n",
       "      <td>0.141745</td>\n",
       "      <td>NaN</td>\n",
       "    </tr>\n",
       "    <tr>\n",
       "      <th>3</th>\n",
       "      <td>J03325279-2751257</td>\n",
       "      <td>17.0</td>\n",
       "      <td>0.121929</td>\n",
       "      <td>NaN</td>\n",
       "    </tr>\n",
       "    <tr>\n",
       "      <th>4</th>\n",
       "      <td>J03324208-2749116</td>\n",
       "      <td>18.0</td>\n",
       "      <td>0.025925</td>\n",
       "      <td>NaN</td>\n",
       "    </tr>\n",
       "    <tr>\n",
       "      <th>5</th>\n",
       "      <td>J09275744+6027467</td>\n",
       "      <td>21.0</td>\n",
       "      <td>0.338178</td>\n",
       "      <td>19.2071</td>\n",
       "    </tr>\n",
       "    <tr>\n",
       "      <th>6</th>\n",
       "      <td>J10004273+0220589</td>\n",
       "      <td>23.0</td>\n",
       "      <td>0.122471</td>\n",
       "      <td>NaN</td>\n",
       "    </tr>\n",
       "    <tr>\n",
       "      <th>7</th>\n",
       "      <td>J03074119-7243574</td>\n",
       "      <td>34.0</td>\n",
       "      <td>0.325186</td>\n",
       "      <td>NaN</td>\n",
       "    </tr>\n",
       "    <tr>\n",
       "      <th>8</th>\n",
       "      <td>J12324241-0033067</td>\n",
       "      <td>37.0</td>\n",
       "      <td>0.142522</td>\n",
       "      <td>NaN</td>\n",
       "    </tr>\n",
       "    <tr>\n",
       "      <th>9</th>\n",
       "      <td>J13052550-2538287</td>\n",
       "      <td>38.0</td>\n",
       "      <td>0.227814</td>\n",
       "      <td>NaN</td>\n",
       "    </tr>\n",
       "  </tbody>\n",
       "</table>\n",
       "</div>"
      ],
      "text/plain": [
       "         designation   spt   angDist      plx\n",
       "0  J10001957+0218224  17.0  0.149941      NaN\n",
       "1  J03321669-2750086  17.0  0.008347      NaN\n",
       "2  J03324721-2744089  17.0  0.141745      NaN\n",
       "3  J03325279-2751257  17.0  0.121929      NaN\n",
       "4  J03324208-2749116  18.0  0.025925      NaN\n",
       "5  J09275744+6027467  21.0  0.338178  19.2071\n",
       "6  J10004273+0220589  23.0  0.122471      NaN\n",
       "7  J03074119-7243574  34.0  0.325186      NaN\n",
       "8  J12324241-0033067  37.0  0.142522      NaN\n",
       "9  J13052550-2538287  38.0  0.227814      NaN"
      ]
     },
     "execution_count": 8,
     "metadata": {},
     "output_type": "execute_result"
    }
   ],
   "source": [
    "merged_simbad[['designation', 'spt', 'angDist', 'plx']]"
   ]
  },
  {
   "cell_type": "code",
   "execution_count": 9,
   "metadata": {},
   "outputs": [
    {
     "data": {
      "text/html": [
       "<div>\n",
       "<style scoped>\n",
       "    .dataframe tbody tr th:only-of-type {\n",
       "        vertical-align: middle;\n",
       "    }\n",
       "\n",
       "    .dataframe tbody tr th {\n",
       "        vertical-align: top;\n",
       "    }\n",
       "\n",
       "    .dataframe thead th {\n",
       "        text-align: right;\n",
       "    }\n",
       "</style>\n",
       "<table border=\"1\" class=\"dataframe\">\n",
       "  <thead>\n",
       "    <tr style=\"text-align: right;\">\n",
       "      <th></th>\n",
       "      <th>designation</th>\n",
       "      <th>spt</th>\n",
       "      <th>angDist</th>\n",
       "    </tr>\n",
       "  </thead>\n",
       "  <tbody>\n",
       "    <tr>\n",
       "      <th>0</th>\n",
       "      <td>J09275744+6027467</td>\n",
       "      <td>21.0</td>\n",
       "      <td>0.320841</td>\n",
       "    </tr>\n",
       "    <tr>\n",
       "      <th>1</th>\n",
       "      <td>J16252493+5721274</td>\n",
       "      <td>24.0</td>\n",
       "      <td>0.296365</td>\n",
       "    </tr>\n",
       "  </tbody>\n",
       "</table>\n",
       "</div>"
      ],
      "text/plain": [
       "         designation   spt   angDist\n",
       "0  J09275744+6027467  21.0  0.320841\n",
       "1  J16252493+5721274  24.0  0.296365"
      ]
     },
     "execution_count": 9,
     "metadata": {},
     "output_type": "execute_result"
    }
   ],
   "source": [
    "merged_gaia[['designation', 'spt', 'angDist']]"
   ]
  },
  {
   "cell_type": "code",
   "execution_count": 10,
   "metadata": {},
   "outputs": [
    {
     "data": {
      "text/html": [
       "<div>\n",
       "<style scoped>\n",
       "    .dataframe tbody tr th:only-of-type {\n",
       "        vertical-align: middle;\n",
       "    }\n",
       "\n",
       "    .dataframe tbody tr th {\n",
       "        vertical-align: top;\n",
       "    }\n",
       "\n",
       "    .dataframe thead th {\n",
       "        text-align: right;\n",
       "    }\n",
       "</style>\n",
       "<table border=\"1\" class=\"dataframe\">\n",
       "  <thead>\n",
       "    <tr style=\"text-align: right;\">\n",
       "      <th></th>\n",
       "      <th>designation</th>\n",
       "      <th>spt</th>\n",
       "      <th>angDist</th>\n",
       "    </tr>\n",
       "  </thead>\n",
       "  <tbody>\n",
       "    <tr>\n",
       "      <th>0</th>\n",
       "      <td>J09275744+6027467</td>\n",
       "      <td>21.0</td>\n",
       "      <td>0.335232</td>\n",
       "    </tr>\n",
       "  </tbody>\n",
       "</table>\n",
       "</div>"
      ],
      "text/plain": [
       "         designation   spt   angDist\n",
       "0  J09275744+6027467  21.0  0.335232"
      ]
     },
     "execution_count": 10,
     "metadata": {},
     "output_type": "execute_result"
    }
   ],
   "source": [
    "merged_tmass[['designation', 'spt', 'angDist']]"
   ]
  },
  {
   "cell_type": "code",
   "execution_count": 11,
   "metadata": {},
   "outputs": [
    {
     "data": {
      "text/plain": [
       "[Text(0.5, 0, 'G-BP'), Text(0, 0.5, 'RP-BP')]"
      ]
     },
     "execution_count": 11,
     "metadata": {},
     "output_type": "execute_result"
    },
    {
     "name": "stderr",
     "output_type": "stream",
     "text": [
      "findfont: Font family ['serif'] not found. Falling back to DejaVu Sans.\n"
     ]
    },
    {
     "data": {
      "image/png": "[encoded data removed]",
      "text/plain": [
       "<Figure size 432x288 with 1 Axes>"
      ]
     },
     "metadata": {
      "needs_background": "light"
     },
     "output_type": "display_data"
    }
   ],
   "source": [
    "fig, ax=plt.subplots()\n",
    "ax.scatter(gaia.phot_g_mean_mag-gaia.phot_bp_mean_mag, \\\n",
    "           gaia.phot_rp_mean_mag-gaia.phot_bp_mean_mag, s=50, c='k')\n",
    "ax.set(xlabel='G-BP', ylabel='RP-BP')"
   ]
  },
  {
   "cell_type": "code",
   "execution_count": 12,
   "metadata": {},
   "outputs": [
    {
     "data": {
      "text/plain": [
       "[Text(0.5, 0, 'i-z'), Text(0, 0.5, 'spectral type')]"
      ]
     },
     "execution_count": 12,
     "metadata": {},
     "output_type": "execute_result"
    },
    {
     "data": {
      "image/png": "[encoded data removed]",
      "text/plain": [
       "<Figure size 432x288 with 1 Axes>"
      ]
     },
     "metadata": {
      "needs_background": "light"
     },
     "output_type": "display_data"
    }
   ],
   "source": [
    "fig, ax=plt.subplots()\n",
    "ax.scatter(merged_ps1.imag-merged_ps1.zmag, \\\n",
    "          merged_ps1.spt, s=50, c='k')\n",
    "ax.set(xlabeL='i-z', ylabel='spectral type')"
   ]
  },
  {
   "cell_type": "code",
   "execution_count": 13,
   "metadata": {},
   "outputs": [],
   "source": [
    "def invert_parallax(plx, plx_er):\n",
    "    plxs=np.random.normal(plx, plx_er, 1000)\n",
    "    return np.nanmedian(1/plxs)"
   ]
  },
  {
   "cell_type": "code",
   "execution_count": null,
   "metadata": {},
   "outputs": [],
   "source": []
  },
  {
   "cell_type": "code",
   "execution_count": 14,
   "metadata": {},
   "outputs": [],
   "source": [
    "#splat."
   ]
  },
  {
   "cell_type": "code",
   "execution_count": 16,
   "metadata": {},
   "outputs": [],
   "source": [
    "#gaia.sort_values('distance')[['grism_id', 'ra', 'dec', 'angDist', 'distance', 'ruwe', 'pmra', 'pmdec']]"
   ]
  },
  {
   "cell_type": "code",
   "execution_count": 17,
   "metadata": {},
   "outputs": [],
   "source": [
    "def get_source(grism_id):\n",
    "    return  wisps.Source(filename=grism_id.replace('g141', 'G141'))"
   ]
  },
  {
   "cell_type": "code",
   "execution_count": null,
   "metadata": {},
   "outputs": [],
   "source": []
  },
  {
   "cell_type": "code",
   "execution_count": 18,
   "metadata": {},
   "outputs": [],
   "source": [
    "gaia['spectra']=gaia.grism_id.apply(get_source)\n"
   ]
  },
  {
   "cell_type": "code",
   "execution_count": 28,
   "metadata": {},
   "outputs": [],
   "source": [
    "gaia['distance']=gaia.spectra.apply(lambda x: pd.Series(x.distance)).val\n",
    "gaia['distance_er']=np.nanmedian(gaia.spectra.apply(lambda x: pd.Series(x.distance['er'])),axis=1)"
   ]
  },
  {
   "cell_type": "code",
   "execution_count": 21,
   "metadata": {},
   "outputs": [
    {
     "data": {
      "text/html": [
       "<div>\n",
       "<style scoped>\n",
       "    .dataframe tbody tr th:only-of-type {\n",
       "        vertical-align: middle;\n",
       "    }\n",
       "\n",
       "    .dataframe tbody tr th {\n",
       "        vertical-align: top;\n",
       "    }\n",
       "\n",
       "    .dataframe thead th {\n",
       "        text-align: right;\n",
       "    }\n",
       "</style>\n",
       "<table border=\"1\" class=\"dataframe\">\n",
       "  <thead>\n",
       "    <tr style=\"text-align: right;\">\n",
       "      <th></th>\n",
       "      <th>val</th>\n",
       "      <th>er</th>\n",
       "    </tr>\n",
       "  </thead>\n",
       "  <tbody>\n",
       "    <tr>\n",
       "      <th>0</th>\n",
       "      <td>345.01233634604586 pc</td>\n",
       "      <td>[472.5406692564998 pc, 143.40970878877292 pc]</td>\n",
       "    </tr>\n",
       "    <tr>\n",
       "      <th>1</th>\n",
       "      <td>1433.386473395499 pc</td>\n",
       "      <td>[29927.191867744095 pc, 956.7075688723071 pc]</td>\n",
       "    </tr>\n",
       "    <tr>\n",
       "      <th>2</th>\n",
       "      <td>173.23394356655064 pc</td>\n",
       "      <td>[57.64403567864696 pc, 39.84319225281541 pc]</td>\n",
       "    </tr>\n",
       "    <tr>\n",
       "      <th>3</th>\n",
       "      <td>474.2342259788546 pc</td>\n",
       "      <td>[610.9536831965803 pc, 193.11494845344936 pc]</td>\n",
       "    </tr>\n",
       "    <tr>\n",
       "      <th>4</th>\n",
       "      <td>299.1160540021351 pc</td>\n",
       "      <td>[199.16126735389423 pc, 91.40787604771151 pc]</td>\n",
       "    </tr>\n",
       "    <tr>\n",
       "      <th>5</th>\n",
       "      <td>286.2952701508367 pc</td>\n",
       "      <td>[185.04573928320622 pc, 95.72798843062631 pc]</td>\n",
       "    </tr>\n",
       "    <tr>\n",
       "      <th>6</th>\n",
       "      <td>49.12978590042506 pc</td>\n",
       "      <td>[10.733581987031371 pc, 9.090136744380466 pc]</td>\n",
       "    </tr>\n",
       "    <tr>\n",
       "      <th>7</th>\n",
       "      <td>317.066160374889 pc</td>\n",
       "      <td>[147.4155567836982 pc, 113.3828049725077 pc]</td>\n",
       "    </tr>\n",
       "    <tr>\n",
       "      <th>8</th>\n",
       "      <td>345.0854393213799 pc</td>\n",
       "      <td>[166.61483568698935 pc, 98.40890993219708 pc]</td>\n",
       "    </tr>\n",
       "    <tr>\n",
       "      <th>9</th>\n",
       "      <td>447.38496969265884 pc</td>\n",
       "      <td>[211.44185334521057 pc, 131.27416544103005 pc]</td>\n",
       "    </tr>\n",
       "    <tr>\n",
       "      <th>10</th>\n",
       "      <td>641.6280461286948 pc</td>\n",
       "      <td>[993.0755923484948 pc, 243.19058567761664 pc]</td>\n",
       "    </tr>\n",
       "    <tr>\n",
       "      <th>11</th>\n",
       "      <td>533.9083671485512 pc</td>\n",
       "      <td>[4697.791335947625 pc, 480.4166559440555 pc]</td>\n",
       "    </tr>\n",
       "    <tr>\n",
       "      <th>12</th>\n",
       "      <td>429.1632950958168 pc</td>\n",
       "      <td>[207.4904003424639 pc, 117.021387839944 pc]</td>\n",
       "    </tr>\n",
       "    <tr>\n",
       "      <th>13</th>\n",
       "      <td>502.2309613336681 pc</td>\n",
       "      <td>[17634.350624822844 pc, 294.6173858296763 pc]</td>\n",
       "    </tr>\n",
       "    <tr>\n",
       "      <th>14</th>\n",
       "      <td>561.1609515743562 pc</td>\n",
       "      <td>[793.9605358459216 pc, 228.18616094988124 pc]</td>\n",
       "    </tr>\n",
       "    <tr>\n",
       "      <th>15</th>\n",
       "      <td>712.6058185232521 pc</td>\n",
       "      <td>[1243.1632095155953 pc, 293.74336132265705 pc]</td>\n",
       "    </tr>\n",
       "    <tr>\n",
       "      <th>16</th>\n",
       "      <td>617.5568575346385 pc</td>\n",
       "      <td>[853.073689402017 pc, 244.0168216167072 pc]</td>\n",
       "    </tr>\n",
       "    <tr>\n",
       "      <th>17</th>\n",
       "      <td>492.6700771648382 pc</td>\n",
       "      <td>[198.38979916185906 pc, 131.35053965565567 pc]</td>\n",
       "    </tr>\n",
       "    <tr>\n",
       "      <th>18</th>\n",
       "      <td>316.22871429602947 pc</td>\n",
       "      <td>[131.48391569699663 pc, 83.80996116907755 pc]</td>\n",
       "    </tr>\n",
       "    <tr>\n",
       "      <th>19</th>\n",
       "      <td>431.6176942198914 pc</td>\n",
       "      <td>[300.33315542368393 pc, 123.89434115351725 pc]</td>\n",
       "    </tr>\n",
       "    <tr>\n",
       "      <th>20</th>\n",
       "      <td>588.487304168974 pc</td>\n",
       "      <td>[289.1341013379466 pc, 171.10458062297664 pc]</td>\n",
       "    </tr>\n",
       "    <tr>\n",
       "      <th>21</th>\n",
       "      <td>523.4291561954481 pc</td>\n",
       "      <td>[259.740764600921 pc, 141.83319946735054 pc]</td>\n",
       "    </tr>\n",
       "    <tr>\n",
       "      <th>22</th>\n",
       "      <td>416.3244997979194 pc</td>\n",
       "      <td>[206.51470968249242 pc, 114.9823726443393 pc]</td>\n",
       "    </tr>\n",
       "    <tr>\n",
       "      <th>23</th>\n",
       "      <td>531.9595479412341 pc</td>\n",
       "      <td>[683.0173489528419 pc, 226.13204365511285 pc]</td>\n",
       "    </tr>\n",
       "    <tr>\n",
       "      <th>24</th>\n",
       "      <td>558.5265272643567 pc</td>\n",
       "      <td>[749.896288403128 pc, 237.9109613241282 pc]</td>\n",
       "    </tr>\n",
       "    <tr>\n",
       "      <th>25</th>\n",
       "      <td>320.5452988949293 pc</td>\n",
       "      <td>[247.3747875480937 pc, 106.2114754800327 pc]</td>\n",
       "    </tr>\n",
       "    <tr>\n",
       "      <th>26</th>\n",
       "      <td>749.7513111367365 pc</td>\n",
       "      <td>[975.0415345266532 pc, 304.1738300335438 pc]</td>\n",
       "    </tr>\n",
       "    <tr>\n",
       "      <th>27</th>\n",
       "      <td>190.54737956006204 pc</td>\n",
       "      <td>[81.87921274138813 pc, 48.21204671134143 pc]</td>\n",
       "    </tr>\n",
       "    <tr>\n",
       "      <th>28</th>\n",
       "      <td>675.2842587380667 pc</td>\n",
       "      <td>[942.4363291818106 pc, 256.2300395483488 pc]</td>\n",
       "    </tr>\n",
       "    <tr>\n",
       "      <th>29</th>\n",
       "      <td>494.1851111450153 pc</td>\n",
       "      <td>[348.03988560895334 pc, 152.01582202572263 pc]</td>\n",
       "    </tr>\n",
       "    <tr>\n",
       "      <th>30</th>\n",
       "      <td>400.3746607420517 pc</td>\n",
       "      <td>[203.88939550966984 pc, 113.93300069959525 pc]</td>\n",
       "    </tr>\n",
       "    <tr>\n",
       "      <th>31</th>\n",
       "      <td>431.93336689368255 pc</td>\n",
       "      <td>[214.68853701935586 pc, 119.84184381500921 pc]</td>\n",
       "    </tr>\n",
       "    <tr>\n",
       "      <th>32</th>\n",
       "      <td>375.7576156005047 pc</td>\n",
       "      <td>[172.17314720279882 pc, 107.67174927234333 pc]</td>\n",
       "    </tr>\n",
       "    <tr>\n",
       "      <th>33</th>\n",
       "      <td>263.30978490938026 pc</td>\n",
       "      <td>[91.8603023970137 pc, 63.0394989878761 pc]</td>\n",
       "    </tr>\n",
       "    <tr>\n",
       "      <th>34</th>\n",
       "      <td>513.3904350405255 pc</td>\n",
       "      <td>[681.4443947393752 pc, 210.15677543068233 pc]</td>\n",
       "    </tr>\n",
       "    <tr>\n",
       "      <th>35</th>\n",
       "      <td>397.76945480239243 pc</td>\n",
       "      <td>[257.97064466660134 pc, 116.72480561625417 pc]</td>\n",
       "    </tr>\n",
       "    <tr>\n",
       "      <th>36</th>\n",
       "      <td>442.14758868105 pc</td>\n",
       "      <td>[105.03321186126993 pc, 88.41433045076258 pc]</td>\n",
       "    </tr>\n",
       "    <tr>\n",
       "      <th>37</th>\n",
       "      <td>312.36757801151765 pc</td>\n",
       "      <td>[411.1975799038906 pc, 124.43289330543942 pc]</td>\n",
       "    </tr>\n",
       "    <tr>\n",
       "      <th>38</th>\n",
       "      <td>385.64746904961146 pc</td>\n",
       "      <td>[188.29942577524844 pc, 106.92440897188209 pc]</td>\n",
       "    </tr>\n",
       "    <tr>\n",
       "      <th>39</th>\n",
       "      <td>501.00972019386813 pc</td>\n",
       "      <td>[263.13996188509964 pc, 144.45282027869087 pc]</td>\n",
       "    </tr>\n",
       "  </tbody>\n",
       "</table>\n",
       "</div>"
      ],
      "text/plain": [
       "                      val                                              er\n",
       "0   345.01233634604586 pc   [472.5406692564998 pc, 143.40970878877292 pc]\n",
       "1    1433.386473395499 pc   [29927.191867744095 pc, 956.7075688723071 pc]\n",
       "2   173.23394356655064 pc    [57.64403567864696 pc, 39.84319225281541 pc]\n",
       "3    474.2342259788546 pc   [610.9536831965803 pc, 193.11494845344936 pc]\n",
       "4    299.1160540021351 pc   [199.16126735389423 pc, 91.40787604771151 pc]\n",
       "5    286.2952701508367 pc   [185.04573928320622 pc, 95.72798843062631 pc]\n",
       "6    49.12978590042506 pc   [10.733581987031371 pc, 9.090136744380466 pc]\n",
       "7     317.066160374889 pc    [147.4155567836982 pc, 113.3828049725077 pc]\n",
       "8    345.0854393213799 pc   [166.61483568698935 pc, 98.40890993219708 pc]\n",
       "9   447.38496969265884 pc  [211.44185334521057 pc, 131.27416544103005 pc]\n",
       "10   641.6280461286948 pc   [993.0755923484948 pc, 243.19058567761664 pc]\n",
       "11   533.9083671485512 pc    [4697.791335947625 pc, 480.4166559440555 pc]\n",
       "12   429.1632950958168 pc     [207.4904003424639 pc, 117.021387839944 pc]\n",
       "13   502.2309613336681 pc   [17634.350624822844 pc, 294.6173858296763 pc]\n",
       "14   561.1609515743562 pc   [793.9605358459216 pc, 228.18616094988124 pc]\n",
       "15   712.6058185232521 pc  [1243.1632095155953 pc, 293.74336132265705 pc]\n",
       "16   617.5568575346385 pc     [853.073689402017 pc, 244.0168216167072 pc]\n",
       "17   492.6700771648382 pc  [198.38979916185906 pc, 131.35053965565567 pc]\n",
       "18  316.22871429602947 pc   [131.48391569699663 pc, 83.80996116907755 pc]\n",
       "19   431.6176942198914 pc  [300.33315542368393 pc, 123.89434115351725 pc]\n",
       "20    588.487304168974 pc   [289.1341013379466 pc, 171.10458062297664 pc]\n",
       "21   523.4291561954481 pc    [259.740764600921 pc, 141.83319946735054 pc]\n",
       "22   416.3244997979194 pc   [206.51470968249242 pc, 114.9823726443393 pc]\n",
       "23   531.9595479412341 pc   [683.0173489528419 pc, 226.13204365511285 pc]\n",
       "24   558.5265272643567 pc     [749.896288403128 pc, 237.9109613241282 pc]\n",
       "25   320.5452988949293 pc    [247.3747875480937 pc, 106.2114754800327 pc]\n",
       "26   749.7513111367365 pc    [975.0415345266532 pc, 304.1738300335438 pc]\n",
       "27  190.54737956006204 pc    [81.87921274138813 pc, 48.21204671134143 pc]\n",
       "28   675.2842587380667 pc    [942.4363291818106 pc, 256.2300395483488 pc]\n",
       "29   494.1851111450153 pc  [348.03988560895334 pc, 152.01582202572263 pc]\n",
       "30   400.3746607420517 pc  [203.88939550966984 pc, 113.93300069959525 pc]\n",
       "31  431.93336689368255 pc  [214.68853701935586 pc, 119.84184381500921 pc]\n",
       "32   375.7576156005047 pc  [172.17314720279882 pc, 107.67174927234333 pc]\n",
       "33  263.30978490938026 pc      [91.8603023970137 pc, 63.0394989878761 pc]\n",
       "34   513.3904350405255 pc   [681.4443947393752 pc, 210.15677543068233 pc]\n",
       "35  397.76945480239243 pc  [257.97064466660134 pc, 116.72480561625417 pc]\n",
       "36     442.14758868105 pc   [105.03321186126993 pc, 88.41433045076258 pc]\n",
       "37  312.36757801151765 pc   [411.1975799038906 pc, 124.43289330543942 pc]\n",
       "38  385.64746904961146 pc  [188.29942577524844 pc, 106.92440897188209 pc]\n",
       "39  501.00972019386813 pc  [263.13996188509964 pc, 144.45282027869087 pc]"
      ]
     },
     "execution_count": 21,
     "metadata": {},
     "output_type": "execute_result"
    }
   ],
   "source": [
    "gaia.spectra.apply(lambda x: pd.Series(x.distance))"
   ]
  },
  {
   "cell_type": "code",
   "execution_count": null,
   "metadata": {},
   "outputs": [],
   "source": [
    "simbad.merge(tmass, on='grism_id')[['grism_id', 'sp_type', 'redshift', 'plx']].values"
   ]
  },
  {
   "cell_type": "code",
   "execution_count": null,
   "metadata": {},
   "outputs": [],
   "source": [
    "hgjk"
   ]
  },
  {
   "cell_type": "code",
   "execution_count": null,
   "metadata": {},
   "outputs": [],
   "source": [
    "merged_gaia[['distance', 'gai_distance', 'spt']]"
   ]
  },
  {
   "cell_type": "code",
   "execution_count": null,
   "metadata": {},
   "outputs": [],
   "source": [
    "merged_gaia.gaia_distance_er"
   ]
  },
  {
   "cell_type": "code",
   "execution_count": null,
   "metadata": {},
   "outputs": [],
   "source": []
  }
 ],
 "metadata": {
  "kernelspec": {
   "display_name": "Python 3",
   "language": "python",
   "name": "python3"
  },
  "language_info": {
   "codemirror_mode": {
    "name": "ipython",
    "version": 3
   },
   "file_extension": ".py",
   "mimetype": "text/x-python",
   "name": "python",
   "nbconvert_exporter": "python",
   "pygments_lexer": "ipython3",
   "version": "3.8.5"
  }
 },
 "nbformat": 4,
 "nbformat_minor": 4
}
