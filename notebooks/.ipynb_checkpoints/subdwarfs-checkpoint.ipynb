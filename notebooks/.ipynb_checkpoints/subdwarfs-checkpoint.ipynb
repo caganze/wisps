{
 "cells": [
  {
   "cell_type": "code",
   "execution_count": 1,
   "metadata": {},
   "outputs": [
    {
     "name": "stdout",
     "output_type": "stream",
     "text": [
      "Adding 89 sources from /Users/caganze/research/splat//resources/Spectra/Public/MAGE/ to spectral database\n",
      "Adding 145 sources from /Users/caganze/research/splat//resources/Spectra/Public/LRIS-RED/ to spectral database\n",
      "Adding 2404 sources from /Users/caganze/research/splat//resources/Spectra/Public/SPEX-PRISM/ to spectral database\n"
     ]
    }
   ],
   "source": [
    "import splat\n",
    "import wisps\n",
    "import pandas as pd\n",
    "import numpy as np\n",
    "import matplotlib.pyplot as plt\n",
    "import copy\n",
    "import numba\n",
    "from tqdm import tqdm\n",
    "%matplotlib inline"
   ]
  },
  {
   "cell_type": "code",
   "execution_count": 2,
   "metadata": {},
   "outputs": [],
   "source": [
    "#remove object from forbidden list\n",
    "splat_db0=splat.searchLibrary(vlm=True, giant=False, subdwarf=True, young=False)\n",
    "splat_db0['SHORTNAME']=splat_db0.DESIGNATION.apply(splat.designationToShortName)\n",
    "splat_db=splat_db0[~splat_db0.SHORTNAME.isin(wisps.FORBIDDEN_LIST)].reset_index(drop=True)"
   ]
  },
  {
   "cell_type": "code",
   "execution_count": 3,
   "metadata": {},
   "outputs": [],
   "source": [
    "splat_within_snr=splat_db[splat_db.MEDIAN_SNR.between(5, 200)]"
   ]
  },
  {
   "cell_type": "code",
   "execution_count": 4,
   "metadata": {},
   "outputs": [],
   "source": [
    "def create_splat_source(filename):\n",
    "    try:\n",
    "        #create a wisps spectrum\n",
    "        #retrieve splat spectrum\n",
    "\n",
    "        splat_s=splat.getSpectrum(filename=filename)[0]\n",
    "        #trim\n",
    "        #splat_s.trim([1.1, 1.7])\n",
    "        \n",
    "        #spt=splat.typeToNum(splat_s.spex_type)\n",
    "        #splat_s.toInstrument('WFC3-G141')\n",
    "\n",
    "        #create a source object\n",
    "        s=wisps.Spectrum( \n",
    "                       wave=splat_s.wave.value, \n",
    "                       flux=splat_s.flux.value,\n",
    "                      noise=splat_s.noise.value,\n",
    "                      contam= np.zeros(len(splat_s.wave.value)))\n",
    "        \n",
    "        #put it on wisps resolution\n",
    "        \n",
    "        s._splat_spectrum=splat_s\n",
    "\n",
    "        s.normalize()\n",
    "        return s \n",
    "    except OSError:\n",
    "        return \n",
    "    "
   ]
  },
  {
   "cell_type": "code",
   "execution_count": 5,
   "metadata": {},
   "outputs": [],
   "source": [
    "#splat_within_snr.head(5)"
   ]
  },
  {
   "cell_type": "code",
   "execution_count": null,
   "metadata": {},
   "outputs": [],
   "source": []
  },
  {
   "cell_type": "code",
   "execution_count": 6,
   "metadata": {},
   "outputs": [],
   "source": [
    "%%capture\n",
    "tqdm.pandas()\n",
    "spectra=splat_within_snr.DATA_FILE.progress_apply(create_splat_source)"
   ]
  },
  {
   "cell_type": "code",
   "execution_count": 7,
   "metadata": {},
   "outputs": [
    {
     "data": {
      "text/plain": [
       "128"
      ]
     },
     "execution_count": 7,
     "metadata": {},
     "output_type": "execute_result"
    }
   ],
   "source": [
    "len(splat_within_snr)"
   ]
  },
  {
   "cell_type": "code",
   "execution_count": 8,
   "metadata": {},
   "outputs": [
    {
     "data": {
      "text/plain": [
       "dict_keys(['M0.0', 'M1.0', 'M2.0', 'M3.0', 'M4.0', 'M5.0', 'M6.0', 'M7.0', 'M8.0', 'M9.0', 'L0.0', 'L1.0', 'L2.0', 'L3.0', 'L4.0', 'L5.0', 'L6.0', 'L7.0', 'L8.0', 'L9.0', 'T0.0', 'T1.0', 'T2.0', 'T3.0', 'T4.0', 'T5.0', 'T6.0', 'T7.0', 'T8.0', 'T9.0', 'Y0.0', 'Y1.0'])"
      ]
     },
     "execution_count": 8,
     "metadata": {},
     "output_type": "execute_result"
    }
   ],
   "source": [
    "splat.STDS_DWARF_SPEX.keys()"
   ]
  },
  {
   "cell_type": "code",
   "execution_count": 9,
   "metadata": {},
   "outputs": [],
   "source": [
    "def plot_sp_sp(s, a, shortname, spt):\n",
    "    std=splat.STDS_DWARF_SPEX[spt]\n",
    "    std.normalize(waverange=[1.0, 1.3])\n",
    "    chi, scale=splat.compareSpectra(s.splat_spectrum, std,  comprange=[[1.1, 1.7]], statistic='chisqr', scale=True) \n",
    "    std.scale(scale)\n",
    "    mask2=np.logical_and(std.wave.value>0.8, std.wave.value<2.5)\n",
    "    mask=np.logical_and(s.wave>0.8, s.wave<2.5)\n",
    "    a.plot(s.wave[mask], s.flux[mask], label=shortname,linewidth=3)\n",
    "    a.plot(std.wave.value[mask2], std.flux.value[mask2], linestyle='--', label='{} std'.format(spt),\\\n",
    "           alpha=0.5)\n",
    "    \n",
    "    \n",
    "    #a.set_title(\"{} \".format(s.spectral_type ))\n",
    "    a.legend(fontsize=14)\n"
   ]
  },
  {
   "cell_type": "code",
   "execution_count": 10,
   "metadata": {},
   "outputs": [],
   "source": [
    "def make_wisps(splat_s):\n",
    "    try:\n",
    "        s=wisps.Spectrum(wave=splat_s.wave.value, \n",
    "                           flux=splat_s.flux.value,\n",
    "                          noise=splat_s.noise.value)\n",
    "        return s\n",
    "    except:\n",
    "        return "
   ]
  },
  {
   "cell_type": "code",
   "execution_count": 11,
   "metadata": {},
   "outputs": [],
   "source": [
    "#gh"
   ]
  },
  {
   "cell_type": "code",
   "execution_count": 12,
   "metadata": {},
   "outputs": [],
   "source": [
    "fdf=pd.DataFrame()\n",
    "fdf['spectra']=spectra\n",
    "fdf['shortname']=splat_within_snr.SHORTNAME\n",
    "fdf['designation']=splat_within_snr.DESIGNATION\n",
    "fdf['spex_type']=splat_within_snr.SPEX_TYPE\n",
    "fdf['opt_type']=splat_within_snr.OPT_TYPE"
   ]
  },
  {
   "cell_type": "code",
   "execution_count": 13,
   "metadata": {},
   "outputs": [],
   "source": [
    "fdf=fdf.dropna(subset=['spectra'])"
   ]
  },
  {
   "cell_type": "code",
   "execution_count": 14,
   "metadata": {},
   "outputs": [
    {
     "data": {
      "text/plain": [
       "(128, 128)"
      ]
     },
     "execution_count": 14,
     "metadata": {},
     "output_type": "execute_result"
    }
   ],
   "source": [
    "len(splat_within_snr.OPT_TYPE), len(splat_within_snr)"
   ]
  },
  {
   "cell_type": "code",
   "execution_count": 15,
   "metadata": {},
   "outputs": [],
   "source": [
    "from matplotlib.backends.backend_pdf import PdfPages"
   ]
  },
  {
   "cell_type": "code",
   "execution_count": 16,
   "metadata": {},
   "outputs": [],
   "source": [
    "%%capture\n",
    "with PdfPages(wisps.OUTPUT_FIGURES+'/multipage_subdwarf.pdf') as pdf:\n",
    "    \n",
    "    for g in np.array_split(fdf, int(len(fdf)/4)):\n",
    "        fig, ax=plt.subplots(ncols=2, nrows=2, figsize=(12, 6))\n",
    "       \n",
    "        \n",
    "        plot_sp_sp(g.spectra.iloc[0], ax[0][0], g.designation.iloc[0],\\\n",
    "                   g.spex_type.iloc[0])\n",
    "        plot_sp_sp(g.spectra.iloc[1], ax[0][1],  g.designation.iloc[1], \\\n",
    "                   g.spex_type.iloc[1])\n",
    "        plot_sp_sp(g.spectra.iloc[2], ax[1][0],  g.designation.iloc[2],\\\n",
    "                  g.spex_type.iloc[2])\n",
    "        plot_sp_sp(g.spectra.iloc[3], ax[1][1],  g.designation.iloc[3],\\\n",
    "                   g.spex_type.iloc[3])\n",
    "\n",
    "        pdf.savefig() \n",
    "        plt.close()"
   ]
  },
  {
   "cell_type": "code",
   "execution_count": 17,
   "metadata": {},
   "outputs": [],
   "source": [
    "fdf.to_pickle(wisps.OUTPUT_FILES+'/subdwarfs_templates.pkl')"
   ]
  },
  {
   "cell_type": "code",
   "execution_count": 18,
   "metadata": {},
   "outputs": [],
   "source": [
    "spectra_only=[]\n",
    "for _, ro in fdf.iterrows():\n",
    "    s=ro.spectra\n",
    "    s._filename=ro.designation\n",
    "    spectra_only.append(s)"
   ]
  },
  {
   "cell_type": "code",
   "execution_count": 19,
   "metadata": {},
   "outputs": [],
   "source": [
    "import pickle\n",
    "output_file=(wisps.LIBRARIES+'/subdwarfs.pkl')\n",
    "with open(output_file, 'wb') as file:\n",
    "    pickle.dump(spectra_only,file)"
   ]
  },
  {
   "cell_type": "code",
   "execution_count": null,
   "metadata": {},
   "outputs": [],
   "source": []
  }
 ],
 "metadata": {
  "kernelspec": {
   "display_name": "Python 3",
   "language": "python",
   "name": "python3"
  },
  "language_info": {
   "codemirror_mode": {
    "name": "ipython",
    "version": 3
   },
   "file_extension": ".py",
   "mimetype": "text/x-python",
   "name": "python",
   "nbconvert_exporter": "python",
   "pygments_lexer": "ipython3",
   "version": "3.8.5"
  }
 },
 "nbformat": 4,
 "nbformat_minor": 2
}
