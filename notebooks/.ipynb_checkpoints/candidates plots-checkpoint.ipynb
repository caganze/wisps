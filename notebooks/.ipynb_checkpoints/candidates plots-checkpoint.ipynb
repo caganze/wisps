{
 "cells": [
  {
   "cell_type": "code",
   "execution_count": 1,
   "metadata": {},
   "outputs": [
    {
     "name": "stdout",
     "output_type": "stream",
     "text": [
      "Adding 145 sources from /Users/caganze/research/splat//resources/Spectra/Public/LRIS-RED/ to spectral database\n",
      "Adding 2404 sources from /Users/caganze/research/splat//resources/Spectra/Public/SPEX-PRISM/ to spectral database\n",
      "Adding 89 sources from /Users/caganze/research/splat//resources/Spectra/Public/MAGE/ to spectral database\n",
      "\n",
      "Warning: spectrum object has a flux vector of zero length - maybe empty?\n",
      "\n",
      "Warning: normalize is attempting to divide by nan; ignoring\n",
      "\n",
      "Warning: spectrum object has a flux vector of zero length - maybe empty?\n",
      "\n",
      "Warning: normalize is attempting to divide by nan; ignoring\n",
      "\n",
      "Warning: spectrum object has a flux vector of zero length - maybe empty?\n",
      "\n",
      "Warning: normalize is attempting to divide by nan; ignoring\n",
      "\n",
      "Warning: spectrum object has a flux vector of zero length - maybe empty?\n",
      "\n",
      "Warning: normalize is attempting to divide by nan; ignoring\n",
      "\n",
      "Warning: spectrum object has a flux vector of zero length - maybe empty?\n",
      "\n",
      "Warning: normalize is attempting to divide by nan; ignoring\n"
     ]
    }
   ],
   "source": [
    "import splat\n",
    "import matplotlib.pyplot as plt\n",
    "import numpy as np\n",
    "import pandas as pd\n",
    "import matplotlib as mpl\n",
    "from astropy.visualization import ZScaleInterval\n",
    "import matplotlib\n",
    "import wisps\n",
    "import wisps.simulations as wispsim\n",
    "import seaborn as sns\n",
    "import matplotlib.colors as mcolors\n",
    "\n",
    "from astropy.coordinates import SkyCoord\n",
    "import astropy.coordinates as astrocoord\n",
    "import astropy.units as u\n",
    "\n",
    "import matplotlib as mpl\n",
    "mpl.rcParams['font.size'] = 18\n",
    "%matplotlib inline"
   ]
  },
  {
   "cell_type": "code",
   "execution_count": 2,
   "metadata": {},
   "outputs": [],
   "source": [
    "#MIX MY COLORMAP WITH COOOLWARM \n",
    "colors1 = plt.cm.coolwarm(np.linspace(0., 1, 256))\n",
    "colors2=plt.cm.YlOrBr(np.linspace(0., 1, 256))\n",
    "colors = np.vstack((colors1+colors1)/2)\n",
    "mymap=mcolors.LinearSegmentedColormap.from_list('my_colormap', colors)"
   ]
  },
  {
   "cell_type": "code",
   "execution_count": 3,
   "metadata": {},
   "outputs": [],
   "source": [
    "mymap_r=mymap.reversed(name='revers')"
   ]
  },
  {
   "cell_type": "code",
   "execution_count": 4,
   "metadata": {},
   "outputs": [
    {
     "name": "stdout",
     "output_type": "stream",
     "text": [
      "helo\n"
     ]
    }
   ],
   "source": [
    "print ('helo')"
   ]
  },
  {
   "cell_type": "code",
   "execution_count": 5,
   "metadata": {},
   "outputs": [],
   "source": [
    "def get_indices(x):\n",
    "    if x is None :\n",
    "        return pd.Series({})\n",
    "    else:\n",
    "        return  pd.Series(x.indices)\n",
    "    \n",
    "def get_spt(x):\n",
    "    if x is None:\n",
    "        return np.nan\n",
    "    else:\n",
    "        return x.spectral_type[0]\n",
    "    \n",
    "def classify_by_templates(s):\n",
    "    spt=s.spectral_type[0]\n",
    "    spt_unc=s.spectral_type[1]\n",
    "    if spt_unc== 0.0: spt_unc=1\n",
    "        \n",
    "    if spt<20:\n",
    "        pass\n",
    "        \n",
    "    return \n",
    "\n",
    "def reclassify(s):\n",
    "    if s is None:\n",
    "        return None\n",
    "    #spt_unc=s.spectral_type[1\n",
    "    #rngs=[[1.15,1.35],[1.45,1.67]]\n",
    "    rngs=[1.17, 1.65]\n",
    "    #spt,spt_e = splat.classifyByStandard(s.splat_spectrum,fit_ranges=rngs, average=True)\n",
    "    #s.classify_by_standard(comprange=rngs)\n",
    "    #print(wisps.make_spt_number(spt))\n",
    "    spt, spt_e=wisps.classify_by_templates(s, comprange=rngs)\n",
    "    s.spectral_type=(np.round(wisps.make_spt_number(spt)), spt_e)\n",
    "    s.calculate_distance(use_spt_unc=True, use_index_type=False)\n",
    "    \n",
    "    return s\n",
    "    \n"
   ]
  },
  {
   "cell_type": "code",
   "execution_count": 6,
   "metadata": {},
   "outputs": [],
   "source": [
    "#jklj"
   ]
  },
  {
   "cell_type": "code",
   "execution_count": 7,
   "metadata": {},
   "outputs": [],
   "source": [
    "rngo=np.array([[1.2,1.35],[1.45,1.65]])\n",
    "rng1=np.array([1.2, 1.6])\n"
   ]
  },
  {
   "cell_type": "code",
   "execution_count": 8,
   "metadata": {},
   "outputs": [
    {
     "data": {
      "text/plain": [
       "2"
      ]
     },
     "execution_count": 8,
     "metadata": {},
     "output_type": "execute_result"
    }
   ],
   "source": [
    "len(np.shape(rngo))"
   ]
  },
  {
   "cell_type": "code",
   "execution_count": 9,
   "metadata": {},
   "outputs": [],
   "source": [
    "#read in the data\n",
    "cands0=pd.read_hdf(wisps.LIBRARIES+'/objects_of_interest.h5', key='all')"
   ]
  },
  {
   "cell_type": "code",
   "execution_count": 10,
   "metadata": {},
   "outputs": [],
   "source": [
    "spectra= [reclassify(x) for x in cands0.spectra]"
   ]
  },
  {
   "cell_type": "code",
   "execution_count": 11,
   "metadata": {},
   "outputs": [],
   "source": [
    "cands0['spectra']=spectra"
   ]
  },
  {
   "cell_type": "code",
   "execution_count": 12,
   "metadata": {},
   "outputs": [],
   "source": [
    "cands=cands0.spectra.apply(get_indices)\n",
    "cands['spectra']=cands0.spectra"
   ]
  },
  {
   "cell_type": "code",
   "execution_count": 13,
   "metadata": {},
   "outputs": [],
   "source": [
    "cands['grism_id']=cands0.grism_id\n",
    "cands['spt']=cands0.spectra.apply(get_spt)"
   ]
  },
  {
   "cell_type": "code",
   "execution_count": 14,
   "metadata": {},
   "outputs": [],
   "source": [
    "canddf=cands[~cands.spectra.isna()].reset_index(drop=True)"
   ]
  },
  {
   "cell_type": "code",
   "execution_count": 15,
   "metadata": {},
   "outputs": [],
   "source": [
    "canddf['spt']=canddf.spectra.apply(lambda x: x.spectral_type[0])\n",
    "canddf['spt_er']=canddf.spectra.apply(lambda x: x.spectral_type[1])\n",
    "canddf['distance']=canddf.spectra.apply(lambda x: x.distance['val'].value)\n",
    "canddf['distance_er']=canddf.spectra.apply(lambda x: x.distance['er'].value)\n",
    "canddf['coord']=canddf.spectra.apply(lambda x:x.coords)\n",
    "canddf['designation']=canddf.spectra.apply(lambda x: x.designation)\n",
    "#canddf['index_type_er']=canddf.spectra.apply(lambda x: x.index_type[1])"
   ]
  },
  {
   "cell_type": "code",
   "execution_count": 16,
   "metadata": {},
   "outputs": [],
   "source": [
    "canddfj=canddf.join(canddf.spectra.apply(lambda x: pd.Series(x.mags)))\n",
    "canddff=canddfj.join(canddf.spectra.apply(lambda x: pd.Series(x.snr)))\n",
    "canddff['spectra']=canddf.spectra\n",
    "\n",
    "canddff=canddff.drop_duplicates('designation')"
   ]
  },
  {
   "cell_type": "code",
   "execution_count": 17,
   "metadata": {},
   "outputs": [],
   "source": [
    "ucds=wisps.Annotator.reformat_table((canddff[(canddff.spt>=17) &(canddff.snr1 >=3.)]).reset_index(drop=True)).sort_values(by='spt')"
   ]
  },
  {
   "cell_type": "code",
   "execution_count": 20,
   "metadata": {},
   "outputs": [
    {
     "name": "stdout",
     "output_type": "stream",
     "text": [
      " "
     ]
    }
   ],
   "source": [
    "\n",
    "#%prun "
   ]
  },
  {
   "cell_type": "code",
   "execution_count": null,
   "metadata": {},
   "outputs": [],
   "source": [
    "ghj"
   ]
  },
  {
   "cell_type": "code",
   "execution_count": null,
   "metadata": {},
   "outputs": [],
   "source": [
    "#remove some objects by name\n",
    "ucds=(ucds[~ ucds.grism_id.isin(['par199-00124'])]).reset_index(drop=True).sort_values(by='spt')"
   ]
  },
  {
   "cell_type": "code",
   "execution_count": null,
   "metadata": {},
   "outputs": [],
   "source": [
    "fig, ax=plt.subplots()\n",
    "plt.scatter(ucds.snr4.apply(np.log10), ucds.spt_er,  c=ucds.spt)\n",
    "plt.xlabel('Log J-SNR')\n",
    "plt.ylabel('SPT ER')"
   ]
  },
  {
   "cell_type": "code",
   "execution_count": null,
   "metadata": {},
   "outputs": [],
   "source": [
    "OBSERVED_POINTINGS =pd.read_pickle(wisps.OUTPUT_FILES+'/pointings.pkl')\n"
   ]
  },
  {
   "cell_type": "code",
   "execution_count": null,
   "metadata": {},
   "outputs": [],
   "source": [
    "mdwarfs=(ucds.sort_values('spt')[ucds.spt.between(17, 20)])\n",
    "ldwarfs=(ucds.sort_values('spt')[ucds.spt.between(20, 30)])\n",
    "tdwarfs=(ucds.sort_values('spt')[ucds.spt.between(30, 40)])\n",
    "\n",
    "coords=SkyCoord(ucds.coord.values)\n",
    "\n",
    "galoc=coords.transform_to(astrocoord.Galactocentric(galcen_distance=8.3*u.kpc))\n",
    "x, y, z=galoc.cartesian.xyz\n",
    "\n",
    "r=(x**2+y**2)**0.5\n",
    "\n",
    "ucds['pointing']=ucds.grism_id.apply(wispsim.get_proper_pointing)\n",
    "pntcoords=SkyCoord([x.coord for x in OBSERVED_POINTINGS \n",
    "                    if not (x.name.lower() in ucds.pointing.str.lower().values)])"
   ]
  },
  {
   "cell_type": "code",
   "execution_count": null,
   "metadata": {},
   "outputs": [],
   "source": [
    "#plt.style.use('dark_background')"
   ]
  },
  {
   "cell_type": "code",
   "execution_count": null,
   "metadata": {},
   "outputs": [],
   "source": [
    "fig, (ax, ax1)=plt.subplots(figsize=(11, 4), ncols=2)\n",
    "\n",
    "sc=ax.scatter(r[mdwarfs.index], z[mdwarfs.index], s=150, cmap='coolwarm',  marker='*', edgecolors='#111111', label='M')\n",
    "sc=ax.scatter(r[ldwarfs.index], z[ldwarfs.index], s=150, cmap='coolwarm',  marker='o', edgecolors='#111111', label='L')\n",
    "sc=ax.scatter(r[tdwarfs.index], z[tdwarfs.index], s=150, cmap='coolwarm',  marker='^', edgecolors='#111111', label='T')\n",
    "\n",
    "ax.minorticks_on()\n",
    "\n",
    "sc=ax1.scatter(x[mdwarfs.index], y[mdwarfs.index], s=150, cmap='coolwarm',  marker='*', edgecolors='#111111')\n",
    "sc=ax1.scatter(x[ldwarfs.index], y[ldwarfs.index], s=150, cmap='coolwarm',  marker='o', edgecolors='#111111')\n",
    "sc=ax1.scatter(x[tdwarfs.index], y[tdwarfs.index], s=150, cmap='coolwarm',  marker='^', edgecolors='#111111')\n",
    "\n",
    "ax.minorticks_on()\n",
    "\n",
    "\n",
    "\n",
    "ax.set_ylabel('Z (pc)', fontsize=20)\n",
    "ax.set_xlabel('R (pc)', fontsize=20)\n",
    "ax1.set_ylabel('X (pc)', fontsize=20)\n",
    "ax1.set_xlabel('Y (pc)', fontsize=20)\n",
    "\n",
    "ax.minorticks_on()\n",
    "ax1.minorticks_on()\n",
    "\n",
    "\n",
    "#add the sun\n",
    "#Rsun=83000.\n",
    "#Zsun=27.\n",
    "\n",
    "#ax1.scatter(0., 0.)\n",
    "#ax.scatter(8300, 27., marker='')\n",
    "ax.legend()\n",
    "#plt.grid(color='#7FDBFF')\n",
    "#mplcyberpunk.make_lines_glow(ax)\n",
    "#mplcyberpunk.make_lines_glow(ax1)\n",
    "\n",
    "\n",
    "plt.tight_layout()\n",
    "plt.savefig(wisps.OUTPUT_FIGURES+'/candidate_distances.pdf', bbox_inches='tight')"
   ]
  },
  {
   "cell_type": "code",
   "execution_count": null,
   "metadata": {},
   "outputs": [],
   "source": [
    "fig = plt.figure(figsize=(8, 8))\n",
    "ax = fig.add_subplot(111, projection='mollweide')\n",
    "\n",
    "ax.scatter(pntcoords.galactic.l.wrap_at(180*u.deg).radian, pntcoords.galactic.b.wrap_at(180*u.deg).radian, c='grey', marker='x', alpha=0.5)\n",
    "\n",
    "c=ax.scatter(galoc.galactic.l.wrap_at(180*u.deg).radian[mdwarfs.index], galoc.galactic.b.wrap_at(180*u.deg).radian[mdwarfs.index], \n",
    "             marker='*', edgecolors='#111111', s=150)\n",
    "c=ax.scatter(galoc.galactic.l.wrap_at(180*u.deg).radian[ldwarfs.index], galoc.galactic.b.wrap_at(180*u.deg).radian[ldwarfs.index], \n",
    "             marker='o', edgecolors='#111111', s=150)\n",
    "c=ax.scatter(galoc.galactic.l.wrap_at(180*u.deg).radian[tdwarfs.index], galoc.galactic.b.wrap_at(180*u.deg).radian[tdwarfs.index], \n",
    "             marker='^', edgecolors='#111111', s=150)\n",
    "\n",
    "\n",
    "\n",
    "\n",
    "             \n",
    "\n",
    "#plt.xlabel(\"l\", fontsize=18)\n",
    "#plt.ylabel(\"b\", fontsize=18)\n",
    "plt.grid(color='#7FDBFF')\n",
    "plt.minorticks_on()\n",
    "#mplcyberpunk.make_lines_glow(ax)\n",
    "\n",
    "plt.tight_layout()\n",
    "plt.savefig(wisps.OUTPUT_FIGURES+'/candidate_skymap.pdf', bbox_inches='tight')"
   ]
  },
  {
   "cell_type": "code",
   "execution_count": null,
   "metadata": {},
   "outputs": [],
   "source": [
    "#4*533*0.1"
   ]
  },
  {
   "cell_type": "code",
   "execution_count": null,
   "metadata": {},
   "outputs": [],
   "source": [
    "bucds=abs(galoc.galactic.b.wrap_at(180*u.deg).to(u.deg).value)\n",
    "bpnts=abs(pntcoords.galactic.l.wrap_at(180*u.deg).to(u.deg).value)\n",
    "\n",
    "areanorth= len(bpnts[np.logical_and(bpnts >0, bpnts <= 30.) ])*4.1*(u.arcmin**2)\n",
    "areamid= len(bpnts[np.logical_and(bpnts >30, bpnts <= 60.) ])*4.1*(u.arcmin**2)\n",
    "areasouth= len(bpnts[np.logical_and(bpnts >30, bpnts <= 90.) ])*4.1*(u.arcmin**2)\n",
    "\n",
    "print ('ucds density in north {}'.format(len(bucds[np.logical_and(bucds >0, bucds <= 30.) ])/areanorth))\n",
    "print ('ucds density in middle {}'.format(len(bucds[np.logical_and(bucds >30, bucds <=60) ])/areamid))\n",
    "print ('ucds density in south {}'.format(len(bucds[np.logical_and(bucds >60, bucds <=90) ])/areasouth))"
   ]
  },
  {
   "cell_type": "code",
   "execution_count": null,
   "metadata": {},
   "outputs": [],
   "source": [
    "fig, (ax, ax1)=plt.subplots(nrows=2)\n",
    "\n",
    "sns.distplot(r.value, ax=ax)\n",
    "\n",
    "sns.distplot(z.value, ax=ax1)\n",
    "\n",
    "ax.axvline(8300, c='k')\n",
    "\n",
    "ax.set_xlabel('R (pc)')\n",
    "ax1.set_ylabel('z (pc)')"
   ]
  },
  {
   "cell_type": "code",
   "execution_count": null,
   "metadata": {},
   "outputs": [],
   "source": [
    "len(z[abs(z.value) > 1000.]), len(z[abs(z.value) <= 1000.])"
   ]
  },
  {
   "cell_type": "code",
   "execution_count": null,
   "metadata": {},
   "outputs": [],
   "source": [
    "fdf=ucds.sort_values(by='spt')[['grism_id', 'distance', 'spt','spectra']]"
   ]
  },
  {
   "cell_type": "code",
   "execution_count": null,
   "metadata": {},
   "outputs": [],
   "source": [
    "latc_df=pd.DataFrame()"
   ]
  },
  {
   "cell_type": "code",
   "execution_count": null,
   "metadata": {},
   "outputs": [],
   "source": [
    "latc_df['Shortname']=fdf.spectra.apply(lambda x: x.shortname.upper())\n",
    "latc_df['designation']=fdf.spectra.apply(lambda x: x.designation.upper())\n",
    "latc_df['grism id']=fdf.spectra.apply(lambda x: x.name.upper())\n",
    "latc_df['snrj']=fdf.spectra.apply(lambda x: int(round(x.snr['snr1'])))\n",
    "latc_df['spt']=fdf.spectra.apply(lambda x: splat.typeToNum(x.spectral_type[0]) +r'$\\pm$'+ str(x.spectral_type[1]))\n",
    "latc_df['ra']=fdf.spectra.apply(lambda x: x.ra.value)\n",
    "latc_df['dec']=fdf.spectra.apply(lambda x: x.dec.value)\n",
    "latc_df['f110']=fdf.spectra.apply(lambda x:  str(round(x.mags['F110W'][0],3)) +r'$\\pm$'+ str(round(x.mags['F110W'][1],3)))\n",
    "#latc_df['f110_er']=fdf.spectra.apply(lambda x: round(x.mags['F110W'][1], 1))\n",
    "latc_df['f140']=fdf.spectra.apply(lambda x:  str(round(x.mags['F140W'][0],3)) +r'$\\pm$'+  str(round(x.mags['F140W'][1],3)))\n",
    "#latc_df['f140_er']=fdf.spectra.apply(lambda x: round(x.mags['F140W'][1], 1))\n",
    "latc_df['f160']=fdf.spectra.apply(lambda x:   str(round(x.mags['F160W'][0],3)) + r'$\\pm$'+ str(round(x.mags['F160W'][1],3)))\n",
    "#latc_df['f160_er']=fdf.spectra.apply(lambda x: round(x.mags['F160W'][1], 1))\n",
    "latc_df['distance']=fdf.spectra.apply(lambda x: str(int(round(x.distance['val'].value, 0)))  + r'$\\pm$'+ \n",
    "                                                 str((int(round(x.distance['er'].value, 0)))))"
   ]
  },
  {
   "cell_type": "code",
   "execution_count": null,
   "metadata": {},
   "outputs": [],
   "source": [
    "latc_df=latc_df.replace('nan$\\\\pm$nan', 'nodata')"
   ]
  },
  {
   "cell_type": "code",
   "execution_count": null,
   "metadata": {},
   "outputs": [],
   "source": [
    "#get the right sequence of coplumns\n",
    "col_list=['designation','grism id', 'ra', 'dec', 'f110', 'f140', 'f160', 'snrj', 'spt', 'distance']"
   ]
  },
  {
   "cell_type": "code",
   "execution_count": null,
   "metadata": {},
   "outputs": [],
   "source": [
    "latc_df[col_list].to_latex(wisps.LIBRARIES+'/candidates.tex',\n",
    "             header=True, index=False, na_rep=' ')"
   ]
  },
  {
   "cell_type": "code",
   "execution_count": null,
   "metadata": {},
   "outputs": [],
   "source": [
    "fdf=fdf.reset_index(drop=True)"
   ]
  },
  {
   "cell_type": "markdown",
   "metadata": {},
   "source": [
    "#########################"
   ]
  },
  {
   "cell_type": "code",
   "execution_count": null,
   "metadata": {},
   "outputs": [],
   "source": [
    "spdwarf=splat.searchLibrary(giant=False, ucd=True, binary=False)\n",
    "spdwarf.shortname=spdwarf.DESIGNATION.apply(splat.designationToShortName)\n",
    "spdwarf=spdwarf[~ ( spdwarf.shortname.isin(wisps.FORBIDDEN_LIST)\n",
    "               | (spdwarf.H_2MASS_E > 0.4) | (spdwarf.J_2MASS_E > 0.4) | (spdwarf.MEDIAN_SNR <3) )]\n",
    "#spdwarf=spdwarf[~spdwarf.]\n",
    "spdwarf.SPEX_TYPE=spdwarf.SPEX_TYPE.apply(wisps.make_spt_number)"
   ]
  },
  {
   "cell_type": "code",
   "execution_count": null,
   "metadata": {},
   "outputs": [],
   "source": [
    "def format_jk_zhang(row):\n",
    "    jmag=np.nan\n",
    "    hmag=np.nan\n",
    "    jmag_er=np.nan\n",
    "    hmag_er=np.nan\n",
    "    if row['J'] !='none':\n",
    "        #print ((row['J']).split('±'))\n",
    "        #row['J_mag']=(row['J']).split('±')[0]\n",
    "        #row['J_er']=(row['J']).split('±')[-1]\n",
    "        jmag=(row['J']).split('±')[0]\n",
    "        jmag_er=(row['J']).split('±')[1]\n",
    "        \n",
    "    if row['H'] !='none':\n",
    "        #print ((row['H']).split('±'))\n",
    "        #row['H_mag']=(row['H']).split('±')[0]\n",
    "        #row['H_er']=(row['H']).split('±')[-1]\n",
    "        hmag=(row['H']).split('±')[0]\n",
    "        hmag_er=(row['H']).split('±')[1]\n",
    "        \n",
    "    spt=splat.typeToNum(row[' SpT'])\n",
    "        \n",
    "    return pd.Series({'H':jmag, 'J':hmag, 'H_er':hmag_er, 'J_er':jmag_er, 'SpTn':spt})\n",
    "\n",
    "def format_jk_manj(row):\n",
    "    jmag=np.nan\n",
    "    hmag=np.nan\n",
    "    jmag_er=np.nan\n",
    "    hmag_er=np.nan\n",
    "    if str(row['J (mag)']) !='nan':\n",
    "        #ignore others\n",
    "        if not str(row['J (mag)']).startswith('>'):\n",
    "            jmag=((row['J (mag)']).split('+or-')[0]).strip()\n",
    "            jmag_er=((row['J (mag)']).split('+or-')[1]).strip()\n",
    "\n",
    "    if str(row['H (mag)']) !='nan':\n",
    "        if not str(row['J (mag)']).startswith('>'):\n",
    "            hmag=(row['H (mag)']).split('+or-')[0]\n",
    "            hmag_er=(row['H (mag)']).split('+or-')[1]\n",
    "        \n",
    "    spt=splat.typeToNum(row['SpT'])\n",
    "        \n",
    "    return pd.Series({'H':jmag, 'J':hmag, 'H_er':hmag_er, 'J_er':jmag_er, 'SpTn':spt})"
   ]
  },
  {
   "cell_type": "code",
   "execution_count": null,
   "metadata": {},
   "outputs": [],
   "source": [
    "fdf=ucds\n",
    "pols=wisps.POLYNOMIAL_RELATIONS\n",
    "color_pol=pols['colors']"
   ]
  },
  {
   "cell_type": "code",
   "execution_count": null,
   "metadata": {},
   "outputs": [],
   "source": [
    "#zhang\n",
    "zhng=pd.read_csv('~/research/wisps/data/zhang_data.csv')\n",
    "zhng_clrs=zhng.apply(format_jk_zhang, axis=1 ).applymap(float)"
   ]
  },
  {
   "cell_type": "code",
   "execution_count": null,
   "metadata": {},
   "outputs": [],
   "source": [
    "#manjavacas\n",
    "man_df0=pd.read_csv('/users/caganze/research/wisps/data/manjavaca_phot.txt', sep='\\t',  index_col=None)\n",
    "man_clrs=man_df0.apply(format_jk_manj, axis=1 ).applymap(float)"
   ]
  },
  {
   "cell_type": "code",
   "execution_count": null,
   "metadata": {},
   "outputs": [],
   "source": [
    "man_clrs.columns"
   ]
  },
  {
   "cell_type": "code",
   "execution_count": null,
   "metadata": {},
   "outputs": [],
   "source": [
    "fdf['J']=fdf['F140W']+color_pol['j_f140'][0](fdf['spt'])\n",
    "fdf['J_er']=(fdf['F140W_er']**2+color_pol['j_f140'][1]**2)**0.5\n",
    "\n",
    "fdf['H']=fdf['F160W']+color_pol['h_f160'][0](fdf['spt'])\n",
    "fdf['H_er']=(fdf['F160W_er']**2+color_pol['h_f160'][1]**2)**0.5"
   ]
  },
  {
   "cell_type": "code",
   "execution_count": null,
   "metadata": {},
   "outputs": [],
   "source": [
    "fdf['J_110']=fdf['F110W']+color_pol['j_f110'][0](fdf['spt'])\n",
    "fdf['J_110_er']=(fdf['F110W_er']**2+color_pol['j_f110'][1]**2)**0.5"
   ]
  },
  {
   "cell_type": "code",
   "execution_count": null,
   "metadata": {},
   "outputs": [],
   "source": [
    "ucd_wisp=fdf[fdf.grism_id.str.startswith('par')]\n",
    "ucd_hst3d=fdf[~fdf.grism_id.str.startswith('par')]"
   ]
  },
  {
   "cell_type": "code",
   "execution_count": null,
   "metadata": {},
   "outputs": [],
   "source": [
    "#remove planets\n",
    "man_clrs=man_clrs[abs(man_clrs['H']-man_clrs['J']<2)]\n",
    "spdwarf=spdwarf[(spdwarf['J_2MASS']-spdwarf['H_2MASS']<2) &(spdwarf.SPEX_TYPE >=17.)]"
   ]
  },
  {
   "cell_type": "code",
   "execution_count": null,
   "metadata": {},
   "outputs": [],
   "source": [
    "fig, ax=plt.subplots(figsize=(8, 6))\n",
    "\n",
    "\n",
    "\n",
    "ax.errorbar(spdwarf['J_2MASS']-spdwarf['H_2MASS'], spdwarf.SPEX_TYPE, fmt='D', \n",
    "            xerr=(spdwarf.J_2MASS_E**2+spdwarf.H_2MASS_E**2)**0.5, color='#0074D9', \n",
    "            mfc='white',  label='Templates')\n",
    "\n",
    "#ax.errorbar(spsubdwarf['J_2MASS']-spsubdwarf['H_2MASS'],spsubdwarf.SPEX_TYPE, fmt='D', \n",
    "#            xerr=(spsubdwarf.J_2MASS_E**2+spsubdwarf.H_2MASS_E**2)**0.5, color='#2ECC40', mfc='white', label='Spex Subdwarfs')\n",
    "\n",
    "ax.errorbar(-man_clrs['J']+man_clrs['H'], man_clrs['SpTn'], fmt='^', \n",
    "            xerr=(man_clrs['J_er']**2+man_clrs['H_er']**2)**0.5, color='#001f3f', label='Cloud-Atlas')\n",
    "\n",
    "#ax.errorbar(-zhng_clrs['J']+zhng_clrs['H'],zhng_clrs.SpTn, fmt='*', \n",
    "#            xerr=(zhng_clrs.J_er**2+zhng_clrs.H_er**2)**0.5, color='#FF4136', label='Primeval')\n",
    "\n",
    "\n",
    "\n",
    "ax.errorbar(ucd_wisp['J_110']-ucd_wisp['H'], ucd_wisp['spt'], fmt='o', \n",
    "            xerr=(ucd_wisp['J_110_er']**2+ucd_wisp['H_er']**2)**0.5, \n",
    "            yerr=ucd_wisp['spt_er'], color='#111111', label=r'WISP')\n",
    "\n",
    "ax.errorbar(ucd_hst3d['J']-ucd_hst3d['H'], ucd_hst3d['spt'], fmt='D',\n",
    "            xerr=(ucd_hst3d['J_er']**2+ucd_hst3d['H_er']**2)**0.5, \n",
    "            yerr=ucd_hst3d['spt_er'], color='#FF851B', label=r'3D-HST')\n",
    "\n",
    "\n",
    "ax.set_ylim([15, 42])\n",
    "ax.set_xlim([-1.5, 2.3])\n",
    "ax.invert_yaxis()\n",
    "\n",
    "\n",
    "ax.set_yticks([17, 20, 25, 30, 35, 40])\n",
    "ax.set_yticklabels(['M7', 'L0', 'L5', 'T0', 'T5', 'Y0'])\n",
    "\n",
    "\n",
    "ax.minorticks_on()\n",
    "ax.set_ylabel('Spectral Type', fontsize=18)\n",
    "ax.set_xlabel(r'J - H', fontsize=18)\n",
    "\n",
    "ax.legend(fontsize=18)\n",
    "#mplcyberpunk.make_lines_glow(ax)\n",
    "#plt.grid(which='both', color='#7FDBFF')\n",
    "plt.tight_layout()\n",
    "\n",
    "plt.savefig(wisps.OUTPUT_FIGURES+'/color_color_plots.pdf', bbox_inches='tight')\n"
   ]
  },
  {
   "cell_type": "code",
   "execution_count": null,
   "metadata": {},
   "outputs": [],
   "source": [
    "wispsucd=ucds[ucds.grism_id.str.lower().str.startswith('par')]\n",
    "hst3ducd=ucds[~ucds.grism_id.str.lower().str.startswith('par')]"
   ]
  },
  {
   "cell_type": "code",
   "execution_count": null,
   "metadata": {},
   "outputs": [],
   "source": [
    "older_pnts=pd.read_pickle(wisps.OUTPUT_FILES+'/pointings_corrected.pkl')\n",
    "pnts=pd.read_pickle(wisps.OUTPUT_FILES+'/pointings_correctedf110.pkl')\n",
    "maglimits=pd.DataFrame([x.mag_limits for x in pnts])"
   ]
  },
  {
   "cell_type": "code",
   "execution_count": null,
   "metadata": {},
   "outputs": [],
   "source": [
    "MAX_LTS=maglimits.max()[['F110', 'F140', 'F160']].values\n",
    "MED_LTS=maglimits.median()[['F110', 'F140', 'F160']].values"
   ]
  },
  {
   "cell_type": "code",
   "execution_count": null,
   "metadata": {},
   "outputs": [],
   "source": [
    "corr_pols=wisps.POLYNOMIAL_RELATIONS['mag_limit_corrections']"
   ]
  },
  {
   "cell_type": "code",
   "execution_count": null,
   "metadata": {},
   "outputs": [],
   "source": [
    "sp_grid=np.arange(15, 40)\n",
    "\n",
    "d_limitsdict=(pd.DataFrame([wisps.distance({'F110W': (MED_LTS[0], 0.5), 'F140W': (MED_LTS[1], 0.5), \n",
    "                                            'F160W': (MED_LTS[2], 0.5)}, x, 0.) \n",
    "                        for x in sp_grid])[['distF110W', 'distF140W', 'distF160W']]).apply(lambda x: np.nanmean(x), axis=1)\n",
    "\n",
    "\n",
    "corrected_limits=(pd.DataFrame([wisps.distance({'F110W': (MAX_LTS[0], 0.5), 'F140W': (MAX_LTS[1], 0.5), \n",
    "                                            'F160W': (MAX_LTS[2], 0.5)}, x, 0.)\n",
    "                        for x in sp_grid])[['distF110W', 'distF140W', 'distF160W']]).apply(lambda x: np.nanmean(x), axis=1)\n",
    "\n",
    "\n",
    "new_corrected_limits=(pd.DataFrame([wisps.distance({'F110W': (MAX_LTS[0]+(corr_pols['F110W'][0])(x), 0.5), \n",
    "                                                    'F140W': (MAX_LTS[0]+(corr_pols['F110W'][0])(x), 0.5), \n",
    "                                                    'F160W': (MAX_LTS[0]+(corr_pols['F110W'][0])(x), 0.5)},\n",
    "                                                   x, 0.) \n",
    "                        for x in sp_grid])[['distF110W', 'distF140W', 'distF160W']]).apply(lambda x: np.nanmean(x), axis=1)\n"
   ]
  },
  {
   "cell_type": "code",
   "execution_count": null,
   "metadata": {},
   "outputs": [],
   "source": [
    "fig, (ax, ax1, ax2)=plt.subplots(nrows=3, figsize=(6, 10))\n",
    "sns.distplot(ucds.spt, kde=False, ax=ax, rug=True, hist_kws={'align': 'mid'})\n",
    "ax.set_xlabel('Spectral Type', fontsize=18)\n",
    "ax.set_ylabel('Number', fontsize=18)\n",
    "ax.minorticks_on()\n",
    "ax.set_yscale('log')\n",
    "\n",
    "\n",
    "sns.distplot(ucds.distance, kde=False, ax=ax1, rug=True, hist_kws={'align': 'mid'})\n",
    "plt.tight_layout()\n",
    "ax1.set_xlabel('Distance (pc)', fontsize=18)\n",
    "ax1.set_ylabel('Number', fontsize=18)\n",
    "ax1.minorticks_on()\n",
    "ax1.set_xscale('log')\n",
    "\n",
    "#for a in [ax, ax1]:\n",
    "ax.set_xticks([17, 20, 25, 30, 35, 40])\n",
    "ax.set_xticklabels(['M7', 'L0', 'L5', 'T0', 'T5', 'Y0'])\n",
    "\n",
    "\n",
    "\n",
    "#ax2.plot(sp_grid, d_limitsdict.values, c='#FF4136', linestyle='--')\n",
    "ax2.plot(sp_grid,  corrected_limits.values, c='#FF4136')\n",
    "ax2.plot(sp_grid, new_corrected_limits.values, c='#2ECC40')\n",
    "\n",
    "ax2.errorbar(wispsucd.spt, wispsucd.distance, yerr=wispsucd.distance_er , xerr= wispsucd.spt_er, label='WISP', fmt='^',  \n",
    "             mec='#111111', mfc='none', mew=3, rasterized=True, c='#0074D9')\n",
    "ax2.errorbar(hst3ducd.spt, hst3ducd.distance, yerr=hst3ducd.distance_er , xerr= hst3ducd.spt_er, label='3D-HST', fmt='o',\n",
    "             mec='#111111',  mfc='none', mew=3, rasterized=True, c='#0074D9')\n",
    "ax2.legend()\n",
    "\n",
    "\n",
    "ax2.set_yscale('log')\n",
    "ax2.set_ylabel('Distance (pc)', fontsize=18)\n",
    "ax2.set_xlabel('Spectral Type', fontsize=18)\n",
    "\n",
    "ax2.minorticks_on()\n",
    "\n",
    "ax2.set_xticks([17, 20, 25, 30, 35, 40])\n",
    "ax2.set_xticklabels(['M7', 'L0', 'L5', 'T0', 'T5', 'Y0'])\n",
    "\n",
    "plt.tight_layout()\n",
    "plt.savefig(wisps.OUTPUT_FIGURES+'/sptdistribution.pdf',  bbox_inches='tight')"
   ]
  },
  {
   "cell_type": "code",
   "execution_count": null,
   "metadata": {},
   "outputs": [],
   "source": [
    "s=np.random.choice(ldwarfs.spectra.values)\n",
    "\n",
    "m=s.flux[np.logical_and(s.wave >1.2, s.wave<1.65)].max()\n",
    "\n",
    "std= splat.STDS_DWARF_SPEX[splat.typeToNum(s.spectral_type[0])]\n",
    "\n",
    "std.normalize(waverange=[1.2, 1.6])\n",
    "\n",
    "\n",
    "med0=(s.flux[np.logical_and(s.wave >1.2, s.wave <1.6) ]).mean()\n",
    "med1=(std.flux.value[np.logical_and(std.wave.value >1.2, std.wave.value <1.6) ]).mean()\n",
    "\n",
    "std.scale(med0/med1)\n",
    "plt.plot(s.wave, s.flux)\n",
    "plt.plot(std.wave.value, std.flux.value)\n",
    "plt.xlim(1.11, 1.67)\n",
    "plt.ylim([0., m])\n",
    "print (s.spectral_type)"
   ]
  },
  {
   "cell_type": "code",
   "execution_count": null,
   "metadata": {},
   "outputs": [],
   "source": [
    "ucds[np.logical_and(ucds.spt_er>2., ucds.spt>20)].sample(n=1).spectra"
   ]
  },
  {
   "cell_type": "code",
   "execution_count": null,
   "metadata": {},
   "outputs": [],
   "source": [
    "s"
   ]
  },
  {
   "cell_type": "code",
   "execution_count": null,
   "metadata": {},
   "outputs": [],
   "source": [
    "fig, ax=plt.subplots(figsize=(7, 14))\n",
    "\n",
    "for  idx, y in enumerate(tdwarfs.spectra):\n",
    "    x=y.splat_spectrum\n",
    "    \n",
    "    if x.wave.value.min()< 0.9:\n",
    "        x.trim([0.88, 1.7])\n",
    "        \n",
    "    if x.wave.value.min()>0.9:\n",
    "        x.trim([1.1, 1.7])\n",
    "  \n",
    "    std= splat.STDS_DWARF_SPEX[splat.typeToNum(y.spectral_type[0])]\n",
    "    \n",
    "    std.normalize(waverange=[1.15, 1.65])\n",
    "    x.normalize(waverange=[1.15, 1.65])\n",
    "    \n",
    "\n",
    "    \n",
    "    med0=(x.flux.value[np.logical_and(x.wave.value >1.15, x.wave.value <1.65) ]).mean()\n",
    "    med1=(std.flux.value[np.logical_and(std.wave.value >1.15, std.wave.value <1.65) ]).mean()\n",
    "    \n",
    "    std.scale(med0/med1)\n",
    "    \n",
    "    plt.text(1.4, (x.flux.value+idx/1.5).mean(),splat.typeToNum(y.spectral_type[0]),\n",
    "             {'fontsize':17, 'weight': 'bold'}, color='#0074D9')\n",
    "    \n",
    "    \n",
    "    plt.step(x.wave.value, x.flux.value+idx/1.5, c='#0074D9')\n",
    "    plt.plot(std.wave.value, std.flux.value+ idx/1.5, c='#01FF70')\n",
    "    plt.ylim([0., 8.05])\n",
    "    plt.xlim([0.85, 1.7])\n",
    "    \n",
    "plt.minorticks_on()\n",
    " \n",
    "#mplcyberpunk.make_lines_glow(ax)\n",
    "    \n",
    "ax.set_xlabel(r'$\\lambda$ ( micron)', fontsize=24)\n",
    "ax.set_ylabel(r'Normalized Flux + offset', fontsize=24)\n",
    "\n",
    "plt.tight_layout()  \n",
    "#mplcyberpunk.add_underglow()\n",
    "#mplcyberpunk.make_lines_glow(ax)\n",
    "plt.savefig(wisps.OUTPUT_FIGURES+'/tdwarfsequence.pdf')"
   ]
  },
  {
   "cell_type": "code",
   "execution_count": null,
   "metadata": {},
   "outputs": [],
   "source": [
    "len(ldwarfs)+len(tdwarfs)"
   ]
  },
  {
   "cell_type": "code",
   "execution_count": null,
   "metadata": {},
   "outputs": [],
   "source": [
    "splat.initializeStandards()"
   ]
  },
  {
   "cell_type": "code",
   "execution_count": null,
   "metadata": {},
   "outputs": [],
   "source": [
    "def new_classification(s):\n",
    "    rngs=[[1.15,1.35],[1.45,1.67]]\n",
    "    spt,spt_e = splat.classifyByStandard(s.splat_spectrum,fit_ranges=rngs)\n",
    "    return wisps.make_spt_number(spt), spt_e"
   ]
  },
  {
   "cell_type": "code",
   "execution_count": null,
   "metadata": {},
   "outputs": [],
   "source": [
    "new_classification(ldwarfs.spectra.iloc[0])"
   ]
  },
  {
   "cell_type": "code",
   "execution_count": null,
   "metadata": {},
   "outputs": [],
   "source": [
    "ucds.to_pickle('~/research/wisps/libraries/real_ucds.pkl')"
   ]
  },
  {
   "cell_type": "code",
   "execution_count": null,
   "metadata": {},
   "outputs": [],
   "source": [
    "plt.errorbar(ucds.F140W, ucds.spt, xerr=ucds.F140W_er, yerr=ucds.spt_er, \n",
    "             fmt='o', c='k', label='WISP')\n"
   ]
  },
  {
   "cell_type": "code",
   "execution_count": null,
   "metadata": {},
   "outputs": [],
   "source": [
    "hjkn"
   ]
  },
  {
   "cell_type": "code",
   "execution_count": null,
   "metadata": {},
   "outputs": [],
   "source": [
    "def select_by_indices(df, idx, spt_range):\n",
    "    print(spt_range)\n",
    "    bs=idx.shapes\n",
    "    bx=[x for x in bs if x.shape_name==spt_range][0]\n",
    "    _, bools= bx._select(np.array([df[idx.xkey].values, df[idx.ykey].values]))\n",
    "    return bools\n",
    "\n",
    "def selected_by_rf(df)"
   ]
  },
  {
   "cell_type": "code",
   "execution_count": null,
   "metadata": {},
   "outputs": [],
   "source": [
    "import wisps.data_analysis.selection_criteria as sel_crt\n",
    "indices_to_use= pd.read_pickle(wisps.OUTPUT_FILES+'/best_indices_to_use.pkl')\n",
    "slc_crts=sel_crt.crts_from_file()"
   ]
  },
  {
   "cell_type": "code",
   "execution_count": null,
   "metadata": {},
   "outputs": [],
   "source": [
    "rfselection=pd.read_csv(wisps.OUTPUT_FILES+'/selected_by_rf.csv')\n",
    "nnres=pd.read_pickle(wisps.OUTPUT_FILES+'/deep_neural_net_classifier_results.pkl')"
   ]
  },
  {
   "cell_type": "code",
   "execution_count": null,
   "metadata": {},
   "outputs": [],
   "source": [
    "rfselection.shape"
   ]
  },
  {
   "cell_type": "code",
   "execution_count": null,
   "metadata": {},
   "outputs": [],
   "source": [
    "nnsel= pd.concat(nnres['selected'])"
   ]
  },
  {
   "cell_type": "code",
   "execution_count": null,
   "metadata": {},
   "outputs": [],
   "source": [
    "nnselection =pd.DataFrame()\n",
    "nnselection['grism_id']=np.concatenate([nnsel.l.values, nnsel.t.values])\n",
    "nnselection=nnselection.drop_duplicates('grism_id')"
   ]
  },
  {
   "cell_type": "code",
   "execution_count": null,
   "metadata": {},
   "outputs": [],
   "source": [
    "nnselection.shape"
   ]
  },
  {
   "cell_type": "code",
   "execution_count": null,
   "metadata": {},
   "outputs": [],
   "source": [
    "labelled=wisps.Annotator.group_by_spt(ucds, spt_label='spt', assign_number=False)\n",
    "\n",
    "for idxk, k in indices_to_use:\n",
    "    idx=slc_crts[idxk]\n",
    "    labelled['selected_by_{}'.format(k)]= select_by_indices(labelled, idx, k)"
   ]
  },
  {
   "cell_type": "code",
   "execution_count": null,
   "metadata": {},
   "outputs": [],
   "source": [
    "labelled['index_label']=np.logical_or.reduce([labelled['selected_by_{}'.format(x)].values \n",
    "                                              for x in  np.vstack(indices_to_use)[:,1]])"
   ]
  },
  {
   "cell_type": "code",
   "execution_count": null,
   "metadata": {},
   "outputs": [],
   "source": [
    "#add labels for index selection\n",
    "labelled['selected_by_rf']=labelled.grism_id.str.lower().isin(rfselection.grism_id.str.lower())"
   ]
  },
  {
   "cell_type": "code",
   "execution_count": null,
   "metadata": {},
   "outputs": [],
   "source": [
    "for g in labelled.groupby('spt_range'):\n",
    "    df0=g[1]\n",
    "    print ('{}'.format(g[0]))\n",
    "    print ('selected by rf {}'.format(len(df0[df0.selected_by_rf])))\n",
    "    print ('selected by indices {}'.format(len(df0[df0.index_label])))\n",
    "    print ('selected by rf and indices {}'.format(len(df0[np.logical_and(df0.index_label,df0.selected_by_rf) ])))\n",
    "    print ('---------------------------------------------------------------- ')"
   ]
  },
  {
   "cell_type": "code",
   "execution_count": null,
   "metadata": {},
   "outputs": [],
   "source": [
    "ghgjbkn"
   ]
  },
  {
   "cell_type": "code",
   "execution_count": null,
   "metadata": {},
   "outputs": [],
   "source": [
    "len(ucds)"
   ]
  },
  {
   "cell_type": "code",
   "execution_count": null,
   "metadata": {},
   "outputs": [],
   "source": [
    "ucds['f_test']=ucds.spectra.apply(lambda x: x.f_test)\n",
    "ucds['dof']=ucds.spectra.apply(lambda x: x.dof)\n",
    "ucds['line_chi']=ucds.spectra.apply(lambda x: x.line_chi)\n",
    "ucds['spex_chi']=ucds.spectra.apply(lambda x: x.spex_chi)\n",
    "ucds['wavenumber']=ucds.spectra.apply(lambda x:len(x.wave))"
   ]
  },
  {
   "cell_type": "code",
   "execution_count": null,
   "metadata": {},
   "outputs": [],
   "source": [
    "'''\n",
    "%%capture\n",
    "fold='/Users/caganze/research/wisps/figures/ltwarfs/'\n",
    "ids=0\n",
    "for idx, row in ucds.iterrows():\n",
    "    try:\n",
    "        s=row.spectra\n",
    "        filename=fold+'spectrum'+str(ids)+'.pdf'\n",
    "        s.pixels_per_image=100\n",
    "        s.plot(save=True, filename=filename)\n",
    "        ids=ids+1\n",
    "    except:\n",
    "        s=wisps.Source(filename=row.grism_id.replace('g141', 'G141'),is_ucd=False )\n",
    "        s.pixels_per_image=100\n",
    "        filename=fold+'spectrum'+str(ids)+'.pdf'\n",
    "        s.plot(save=True, filename=filename)\n",
    "        ids=ids+1\n",
    "'''"
   ]
  },
  {
   "cell_type": "code",
   "execution_count": null,
   "metadata": {},
   "outputs": [],
   "source": [
    "#ldwarfdata.to_pickle('~/desktop/wispldwarfs.pkl')"
   ]
  },
  {
   "cell_type": "code",
   "execution_count": null,
   "metadata": {},
   "outputs": [],
   "source": [
    "import pandas as pd\n",
    "import numpy as np"
   ]
  },
  {
   "cell_type": "code",
   "execution_count": null,
   "metadata": {},
   "outputs": [],
   "source": [
    "ucds=pd.read_pickle('~/research/wisps/libraries/real_ucds.pkl')"
   ]
  },
  {
   "cell_type": "code",
   "execution_count": null,
   "metadata": {},
   "outputs": [],
   "source": [
    "ucds.grism_id.to_csv('~/desktop/true_brown_dwarfs.csv')"
   ]
  },
  {
   "cell_type": "code",
   "execution_count": null,
   "metadata": {},
   "outputs": [],
   "source": [
    "\n",
    "mdwf=ucds[np.logical_and(ucds.spt_er >2, ucds.spt<20)].spectra.sample(n=1).values[0]\n",
    "\n",
    "ldwf=ucds[np.logical_and(ucds.spt_er >2, ucds.spt.between(20, 30))].spectra.sample(n=1).values[0]\n",
    "\n",
    "tdwf=ucds[np.logical_and(ucds.spt_er >2,  ucds.spt.between(30, 40))].spectra.sample(n=1).values[0]"
   ]
  },
  {
   "cell_type": "code",
   "execution_count": null,
   "metadata": {},
   "outputs": [],
   "source": [
    "for x in [mdwf, ldwf, tdwf]:\n",
    "    df=pd.DataFrame()\n",
    "    df['wave'] = x.wave\n",
    "    df['flux']= x.flux\n",
    "    df['noise']=x.noise\n",
    "    df['grism_id']=x.grism_id.upper()\n",
    "    \n",
    "    print (x.spectral_type)\n",
    "    \n",
    "    \n",
    "    df.to_csv('/users/caganze/desktop/{}.csv'.format(x.grism_id))\n",
    "    \n",
    "    #print (df)\n",
    "    \n",
    "    \n",
    "    \n",
    "    "
   ]
  },
  {
   "cell_type": "code",
   "execution_count": null,
   "metadata": {},
   "outputs": [],
   "source": [
    "plt.plot(mdwf.wave, mdwf.flux)\n",
    "plt.plot(ldwf.wave, ldwf.flux)\n",
    "plt.plot(tdwf.wave, tdwf.flux)\n",
    "plt.xlim([1.1, 1.7])\n",
    "plt.ylim([0., 0.9])\n",
    "#plt.xlim([1.1, 1.7])\n",
    "#plt.ylim([0., 1.])"
   ]
  },
  {
   "cell_type": "code",
   "execution_count": null,
   "metadata": {},
   "outputs": [],
   "source": []
  }
 ],
 "metadata": {
  "kernelspec": {
   "display_name": "Python 3",
   "language": "python",
   "name": "python3"
  },
  "language_info": {
   "codemirror_mode": {
    "name": "ipython",
    "version": 3
   },
   "file_extension": ".py",
   "mimetype": "text/x-python",
   "name": "python",
   "nbconvert_exporter": "python",
   "pygments_lexer": "ipython3",
   "version": "3.8.5"
  }
 },
 "nbformat": 4,
 "nbformat_minor": 4
}
