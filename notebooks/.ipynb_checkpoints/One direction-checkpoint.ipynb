{
 "cells": [
  {
   "cell_type": "code",
   "execution_count": 1,
   "metadata": {},
   "outputs": [
    {
     "name": "stdout",
     "output_type": "stream",
     "text": [
      "Adding 89 sources from /Users/caganze/research/splat//resources/Spectra/Public/MAGE/ to spectral database\n",
      "Adding 2404 sources from /Users/caganze/research/splat//resources/Spectra/Public/SPEX-PRISM/ to spectral database\n",
      "Adding 145 sources from /Users/caganze/research/splat//resources/Spectra/Public/LRIS-RED/ to spectral database\n"
     ]
    }
   ],
   "source": [
    "import popsims\n",
    "import matplotlib.pyplot as plt\n",
    "#import wisps\n",
    "import pandas as pd\n",
    "from astropy.coordinates import SkyCoord\n",
    "%matplotlib inline\n",
    "import astropy.units as u\n",
    "import numpy as np"
   ]
  },
  {
   "cell_type": "code",
   "execution_count": 16,
   "metadata": {},
   "outputs": [],
   "source": [
    "Rsun=8300.\n",
    "Zsun=27."
   ]
  },
  {
   "cell_type": "code",
   "execution_count": 17,
   "metadata": {},
   "outputs": [],
   "source": [
    "def get_rz(ds, l, b):\n",
    "    rd=np.sqrt( (ds * np.cos( b ) )**2 + Rsun * (Rsun - 2 * ds * np.cos( b ) * np.cos( l ) ) )\n",
    "    zd=Zsun+ ds * np.sin( b - np.arctan( Zsun / Rsun) )\n",
    "    return rd, zd"
   ]
  },
  {
   "cell_type": "code",
   "execution_count": 34,
   "metadata": {},
   "outputs": [],
   "source": [
    "coord=SkyCoord(l=45*u.degree, b=10*u.degree, frame='galactic')\n",
    "p= popsims.Pointing(coord=coord)"
   ]
  },
  {
   "cell_type": "code",
   "execution_count": 28,
   "metadata": {},
   "outputs": [],
   "source": [
    "thick_dists=p.draw_distances(0.1, 5000, \\\n",
    "                350, 2600, nsample=int(1e5))\n",
    "thin_dists=p.draw_distances(0.1, 5000, \\\n",
    "                900, 3600, nsample=int(1e5))\n",
    "\n",
    "thin_dists_incorrect=p.draw_distances(0.1, 5000, \\\n",
    "                900, 2600, nsample=int(1e5))"
   ]
  },
  {
   "cell_type": "code",
   "execution_count": 30,
   "metadata": {},
   "outputs": [
    {
     "data": {
      "text/plain": [
       "(0.9396926207859084, <Quantity 0.93969262>)"
      ]
     },
     "execution_count": 30,
     "metadata": {},
     "output_type": "execute_result"
    }
   ],
   "source": [
    "np.cos(coord.l.radian), np.cos(coord.l)"
   ]
  },
  {
   "cell_type": "code",
   "execution_count": 31,
   "metadata": {},
   "outputs": [],
   "source": [
    "r0, z0=get_rz(thin_dists, coord.l.radian, coord.b.radian)\n",
    "r1, z1=get_rz(thick_dists, coord.l.radian, coord.b.radian)\n",
    "r2, z2=get_rz(thin_dists_incorrect, coord.l.radian, coord.b.radian)"
   ]
  },
  {
   "cell_type": "code",
   "execution_count": 24,
   "metadata": {},
   "outputs": [
    {
     "data": {
      "text/plain": [
       "array([6780.65180229, 5739.32852711, 7161.91015826, ..., 5276.42281204,\n",
       "       7669.25637136, 6085.91568336])"
      ]
     },
     "execution_count": 24,
     "metadata": {},
     "output_type": "execute_result"
    }
   ],
   "source": [
    "r0"
   ]
  },
  {
   "cell_type": "code",
   "execution_count": 32,
   "metadata": {},
   "outputs": [
    {
     "data": {
      "image/png": "[encoded data removed]",
      "text/plain": [
       "<Figure size 432x288 with 1 Axes>"
      ]
     },
     "metadata": {
      "needs_background": "light"
     },
     "output_type": "display_data"
    }
   ],
   "source": [
    "fig, ax=plt.subplots()\n",
    "_= ax.hist(z0-Zsun, bins='auto', log=True, \\\n",
    "           histtype='step', color='b',  linewidth=3)\n",
    "_= ax.hist(z1-Zsun, bins='auto', log=True, \\\n",
    "           histtype='step', color='k',  linewidth=3)\n",
    "_= ax.hist(z2-Zsun, bins='auto', log=True, \\\n",
    "           histtype='step', color='r',  linewidth=3)\n",
    "#_= ax.hist(thin_dists, bins='auto')"
   ]
  },
  {
   "cell_type": "code",
   "execution_count": 36,
   "metadata": {},
   "outputs": [
    {
     "data": {
      "image/png": "[encoded data removed]",
      "text/plain": [
       "<Figure size 432x288 with 1 Axes>"
      ]
     },
     "metadata": {
      "needs_background": "light"
     },
     "output_type": "display_data"
    }
   ],
   "source": [
    "fig, ax=plt.subplots()\n",
    "_= ax.hist(r0, bins='auto', log=True, \\\n",
    "           histtype='step',  color='b',  linewidth=3)\n",
    "\n",
    "_= ax.hist(r1, bins='auto',  color='k', log=True, \\\n",
    "           histtype='step',  linewidth=3)\n",
    "\n",
    "_= ax.hist(r2, bins='auto', log=True, \\\n",
    "           histtype='step', color='r', linewidth=3)"
   ]
  },
  {
   "cell_type": "code",
   "execution_count": null,
   "metadata": {},
   "outputs": [],
   "source": []
  }
 ],
 "metadata": {
  "kernelspec": {
   "display_name": "Python 3",
   "language": "python",
   "name": "python3"
  },
  "language_info": {
   "codemirror_mode": {
    "name": "ipython",
    "version": 3
   },
   "file_extension": ".py",
   "mimetype": "text/x-python",
   "name": "python",
   "nbconvert_exporter": "python",
   "pygments_lexer": "ipython3",
   "version": "3.8.5"
  }
 },
 "nbformat": 4,
 "nbformat_minor": 4
}
