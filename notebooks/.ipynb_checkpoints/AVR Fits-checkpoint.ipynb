{
 "cells": [
  {
   "cell_type": "code",
   "execution_count": 47,
   "metadata": {},
   "outputs": [],
   "source": [
    "import numpy as np\n",
    "import matplotlib.pyplot as plt\n",
    "import pandas as pd\n",
    "%matplotlib inline"
   ]
  },
  {
   "cell_type": "markdown",
   "metadata": {},
   "source": [
    "Data from https://academic.oup.com/mnras/article/475/1/1093/4733293"
   ]
  },
  {
   "cell_type": "code",
   "execution_count": 72,
   "metadata": {},
   "outputs": [],
   "source": [
    "#for |z| > 270 pc\n",
    "metal_rich='1.6±0.5,11.3±1.3 * 2.4±0.4,14.9±1.4 * 3.0±0.3,14.0±1.3 * \\\n",
    "3.5±0.3,12.2±1.1 * 4.1±0.3,15.4±1.1 * 4.6±0.3,16.2±1.0*5.3±0.4,17.7±0.9*,\\\n",
    "5.9±0.4,20.0±1.1* 6.7±0.6,23.2±1.7* 8.0±0.8,24.8±2.0* 8.9±0.6,23.2±3.0'"
   ]
  },
  {
   "cell_type": "code",
   "execution_count": 15,
   "metadata": {},
   "outputs": [],
   "source": [
    "metal_poor='3.1±0.7,17.0±1.6 *3.9±0.3 ,19.2±1.7 * 4.6±0.3 ,18.1±1.3 *\\\n",
    "5.2±0.4 ,18.7±1.0 * 5.8±0.4 ,24.2±1.1 *6.7±0.5 ,32.8±1.7 *7.5±0.6 ,\\\n",
    "39.5±2.2 *8.6±0.7,44.2±2.7 * 10.1±0.6,47.0±3.7 '"
   ]
  },
  {
   "cell_type": "code",
   "execution_count": 68,
   "metadata": {},
   "outputs": [],
   "source": [
    "def reformat_sub_sub_string(st):\n",
    "    return [float(st.split('±')[0]),  float(st.split('±')[-1])]\n",
    "def reformat_sub_string(st):\n",
    "    vals=st.split(',') \n",
    "    return {'age':reformat_sub_sub_string(vals[0]),\n",
    "    'sigma_w':reformat_sub_sub_string(vals[-1])}\n",
    "def reformat_string(st):\n",
    "    vals=st.split('*')\n",
    "    return [reformat_sub_string(x) for x in vals]"
   ]
  },
  {
   "cell_type": "code",
   "execution_count": 69,
   "metadata": {},
   "outputs": [],
   "source": [
    " poor_vals=np.array(reformat_string(metal_poor))"
   ]
  },
  {
   "cell_type": "code",
   "execution_count": 70,
   "metadata": {},
   "outputs": [],
   "source": [
    "df_poor=pd.DataFrame.from_records(poor_vals)"
   ]
  },
  {
   "cell_type": "code",
   "execution_count": 142,
   "metadata": {},
   "outputs": [],
   "source": [
    "#df_poor\n",
    "def avr_yu(sigma, verbose=False, disk='thin', direction='azimuthal'):\n",
    "    sigma=np.array(sigma)\n",
    "    verboseprint = print if verbose else lambda *a, **k: None\n",
    "    #the dictionary has thin disk and thick disk\n",
    "    #thin disk  AVR is for [Fe<H] <-0.2 and two different fits for \n",
    "    #|z| > 270 pc and |z|<270\n",
    "    beta_dict={'thin':{'vertical': [(0.56, 0.14), (0.51, 0.15)],\n",
    "              'azimuthal':[(0.34, 0.12),(0.42, 0.14)],\n",
    "              'radial': [ (0.34, 0.17), ( 0.39, 0.13)]}}\n",
    "    beta=beta_dict[disk][direction][0]\n",
    "    verboseprint(\"Assuming Yu & Liu 2018, {} disk {} velocities an \".format(disk, direction))\n",
    "    if le:\n",
    "        sigmas= sigma**(np.random.normal(beta[0], beta[-1], 1000))\n",
    "        return np.nanmedian(sigmas), np.nanstd(sigmas)\n",
    "    else:\n",
    "        sigmas= sigma**(np.random.normal(beta[0], beta[-1], (1000, len(sigma))))\n",
    "        return np.nanmedian(sigmas, axis=0), np.nanstd(sigmas, axis=0)"
   ]
  },
  {
   "cell_type": "code",
   "execution_count": 120,
   "metadata": {},
   "outputs": [
    {
     "data": {
      "text/plain": [
       "[<matplotlib.lines.Line2D at 0x7fb7ea57cc10>]"
      ]
     },
     "execution_count": 120,
     "metadata": {},
     "output_type": "execute_result"
    },
    {
     "data": {
      "image/png": "[encoded data removed]",
      "text/plain": [
       "<Figure size 432x288 with 1 Axes>"
      ]
     },
     "metadata": {
      "needs_background": "light"
     },
     "output_type": "display_data"
    }
   ],
   "source": [
    "plt.errorbar(np.vstack(df_poor.age.values)[:,0],\n",
    "             np.vstack(df_poor.sigma_w.values)[:,0],\n",
    "             xerr=np.vstack(df_poor.age.values)[:,1],\n",
    "             yerr=np.vstack(df_poor.sigma_w.values)[:,1])\n",
    "plt.plot(AVR(np.arange(10, 50)), np.arange(10, 50))"
   ]
  },
  {
   "cell_type": "code",
   "execution_count": 149,
   "metadata": {},
   "outputs": [
    {
     "data": {
      "text/plain": [
       "numpy.ndarray"
      ]
     },
     "execution_count": 149,
     "metadata": {},
     "output_type": "execute_result"
    }
   ],
   "source": [
    "type(np.array(40))"
   ]
  },
  {
   "cell_type": "code",
   "execution_count": 136,
   "metadata": {},
   "outputs": [],
   "source": [
    "x=40."
   ]
  },
  {
   "cell_type": "code",
   "execution_count": 144,
   "metadata": {},
   "outputs": [
    {
     "ename": "TypeError",
     "evalue": "len() of unsized object",
     "output_type": "error",
     "traceback": [
      "\u001b[0;31m---------------------------------------------------------------------------\u001b[0m",
      "\u001b[0;31mTypeError\u001b[0m                                 Traceback (most recent call last)",
      "\u001b[0;32m<ipython-input-144-d2fee72f4b5d>\u001b[0m in \u001b[0;36m<module>\u001b[0;34m\u001b[0m\n\u001b[0;32m----> 1\u001b[0;31m \u001b[0mlen\u001b[0m\u001b[0;34m(\u001b[0m\u001b[0mnp\u001b[0m\u001b[0;34m.\u001b[0m\u001b[0marray\u001b[0m\u001b[0;34m(\u001b[0m\u001b[0;36m40\u001b[0m\u001b[0;34m)\u001b[0m\u001b[0;34m)\u001b[0m\u001b[0;34m\u001b[0m\u001b[0;34m\u001b[0m\u001b[0m\n\u001b[0m",
      "\u001b[0;31mTypeError\u001b[0m: len() of unsized object"
     ]
    }
   ],
   "source": [
    "len(np.array(40))"
   ]
  },
  {
   "cell_type": "code",
   "execution_count": null,
   "metadata": {},
   "outputs": [],
   "source": []
  }
 ],
 "metadata": {
  "kernelspec": {
   "display_name": "Python 3",
   "language": "python",
   "name": "python3"
  },
  "language_info": {
   "codemirror_mode": {
    "name": "ipython",
    "version": 3
   },
   "file_extension": ".py",
   "mimetype": "text/x-python",
   "name": "python",
   "nbconvert_exporter": "python",
   "pygments_lexer": "ipython3",
   "version": "3.8.5"
  }
 },
 "nbformat": 4,
 "nbformat_minor": 4
}
