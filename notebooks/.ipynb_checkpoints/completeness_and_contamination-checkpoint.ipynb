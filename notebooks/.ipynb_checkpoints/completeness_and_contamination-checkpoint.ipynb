{
 "cells": [
  {
   "cell_type": "markdown",
   "metadata": {},
   "source": [
    "This demonstrates all the steps in my candidate selection before conducting visual inspection"
   ]
  },
  {
   "cell_type": "code",
   "execution_count": 1,
   "metadata": {},
   "outputs": [
    {
     "name": "stdout",
     "output_type": "stream",
     "text": [
      "Adding 89 sources from /Users/caganze/research/splat//resources/Spectra/Public/MAGE/ to spectral database\n",
      "Adding 145 sources from /Users/caganze/research/splat//resources/Spectra/Public/LRIS-RED/ to spectral database\n",
      "Adding 2404 sources from /Users/caganze/research/splat//resources/Spectra/Public/SPEX-PRISM/ to spectral database\n"
     ]
    }
   ],
   "source": [
    "import numpy as np\n",
    "import splat\n",
    "import wisps.data_analysis as wispd\n",
    "from wisps.data_analysis import selection_criteria as sel_crt\n",
    "import shapey\n",
    "import matplotlib.pyplot as plt\n",
    "import pandas as pd\n",
    "import seaborn as sns\n",
    "from scipy import stats\n",
    "import wisps\n",
    "\n",
    "import matplotlib as mpl\n",
    "\n",
    "from tqdm import tqdm\n",
    "import random\n",
    "import matplotlib.pyplot as plt\n",
    "%matplotlib inline"
   ]
  },
  {
   "cell_type": "code",
   "execution_count": 2,
   "metadata": {},
   "outputs": [],
   "source": [
    "#some functions \n",
    "def get_indices(x):\n",
    "    if x is None :\n",
    "        return pd.Series({})\n",
    "    else:\n",
    "        return  pd.concat([pd.Series(x.indices), pd.Series(x.mags), pd.Series(x.snr)])\n",
    "    \n",
    "def get_spt(x):\n",
    "    if x is None:\n",
    "        return np.nan\n",
    "    else:\n",
    "        return x.spectral_type[0]\n",
    "#change f-test definition\n",
    "def f_test_fx(x, df1, df2):\n",
    "    return stats.f.cdf(x, df1, df2)\n",
    "\n",
    "def box_parameters(idx, spt_range):\n",
    "    bs=idx.shapes\n",
    "    b=[x for x in bs if x.shape_name==spt_range][0]\n",
    "    print ('{}  {} m: {} b: {} s:{}, comp : {}, cont: {}'.format(spt_range, idx,  round(b.coeffs[0], 2), round(b.coeffs[1], 2), round(b.scatter, 2), round(idx.completeness[spt_range], 2),  round(idx.contamination[spt_range], 3)))"
   ]
  },
  {
   "cell_type": "code",
   "execution_count": 3,
   "metadata": {},
   "outputs": [],
   "source": [
    "cands=pd.read_pickle(wisps.LIBRARIES+'/new_real_ucds.pkl')"
   ]
  },
  {
   "cell_type": "code",
   "execution_count": 4,
   "metadata": {},
   "outputs": [],
   "source": [
    "#use the same columns for all data sets\n",
    "alldata=wisps.get_big_file()\n",
    "spex=wisps.Annotator.reformat_table(wisps.datasets['spex'])\n",
    "\n",
    "cands['line_chi']=cands.spectra.apply(lambda x : x.line_chi)\n",
    "cands['spex_chi']=cands.spectra.apply(lambda x: x.spex_chi)\n",
    "cands['f_test']=cands.spectra.apply(lambda x: x.f_test)\n",
    "\n",
    "spex_df=wisps.Annotator.reformat_table(wisps.datasets['spex']).reset_index(drop=True)\n",
    "manj=wisps.Annotator.reformat_table(wisps.datasets['manjavacas']).reset_index(drop=True)\n",
    "schn=wisps.Annotator.reformat_table(wisps.datasets['schneider']).reset_index(drop=True)\n",
    "ydwarfs=(manj[manj['spt'].apply(wisps.make_spt_number)>38].append(schn)).reset_index(drop=True)\n",
    "spex_df['spt']=np.vstack(spex_df['spt'].values)[:,0]\n",
    "manj['spt']=np.vstack(manj['spt'].values)[:,0]\n",
    "schn['spt']=np.vstack(schn['spt'].values)[:,0]\n",
    "\n",
    "cands.grism_id=cands.grism_id.apply(lambda x: x.lower())\n",
    "\n",
    "cands['spt']=np.vstack(cands['spt'].values)\n",
    "                           "
   ]
  },
  {
   "cell_type": "code",
   "execution_count": 5,
   "metadata": {},
   "outputs": [],
   "source": [
    "#add x values \n",
    "spex['x']=spex.spex_chi/spex.line_chi\n",
    "alldata['x']=alldata.spex_chi/alldata.line_chi\n",
    "cands['x']=cands.spex_chi/cands.line_chi\n",
    "\n",
    "spex['f_test']=f_test_fx(spex.x.values, spex.dof.values-1, spex.dof.values-2)\n",
    "alldata['f_test']=f_test_fx(alldata.x.values, alldata.nG141.values-1, alldata.nG141.values-2)\n",
    "\n",
    "alldata=alldata.sort_values('x')\n",
    "spex=spex.sort_values('x')\n",
    "cands=cands.sort_values('x')"
   ]
  },
  {
   "cell_type": "code",
   "execution_count": 6,
   "metadata": {},
   "outputs": [],
   "source": [
    "alldata['datalabel']='alldata'\n",
    "spex['datalabel']='spex'\n",
    "cands['datalabel']='ucds'\n",
    "combined_ftest_df=pd.concat([cands, spex, alldata[(alldata.snr1>=3.) &  (alldata.mstar_flag !=0)]])"
   ]
  },
  {
   "cell_type": "code",
   "execution_count": 7,
   "metadata": {},
   "outputs": [],
   "source": [
    "#stats.f.cdf(.85564068, 108-1, 108+2)"
   ]
  },
  {
   "cell_type": "code",
   "execution_count": 8,
   "metadata": {},
   "outputs": [],
   "source": [
    "#list(spex[['x', 'dof']][spex.f_test.values >0.2].values)"
   ]
  },
  {
   "cell_type": "code",
   "execution_count": 9,
   "metadata": {},
   "outputs": [
    {
     "data": {
      "text/plain": [
       "0.012860483242400623"
      ]
     },
     "execution_count": 9,
     "metadata": {},
     "output_type": "execute_result"
    }
   ],
   "source": [
    "len(spex[np.logical_and(spex.f_test.values > 0.9, np.vstack(spex.spt.values)[:,0] >=17.)])/len(spex)"
   ]
  },
  {
   "cell_type": "code",
   "execution_count": 10,
   "metadata": {},
   "outputs": [
    {
     "data": {
      "text/plain": [
       "0.798908807482463"
      ]
     },
     "execution_count": 10,
     "metadata": {},
     "output_type": "execute_result"
    }
   ],
   "source": [
    "len(spex[np.logical_and(spex.f_test.values < 0.02, np.vstack(spex.spt.values)[:,0] >=17.)])/len(spex)"
   ]
  },
  {
   "cell_type": "code",
   "execution_count": 11,
   "metadata": {},
   "outputs": [
    {
     "data": {
      "text/plain": [
       "0.0"
      ]
     },
     "execution_count": 11,
     "metadata": {},
     "output_type": "execute_result"
    }
   ],
   "source": [
    "len(cands[np.logical_and(cands.f_test.values > 0.9, np.vstack(cands.spt.values)[:,0] >=17.)])/len(cands)"
   ]
  },
  {
   "cell_type": "code",
   "execution_count": 12,
   "metadata": {},
   "outputs": [
    {
     "data": {
      "text/plain": [
       "0.9878787878787879"
      ]
     },
     "execution_count": 12,
     "metadata": {},
     "output_type": "execute_result"
    }
   ],
   "source": [
    "len(cands[np.logical_and(cands.f_test.values < 0.02, np.vstack(cands.spt.values)[:,0] >=17.)])/len(cands)"
   ]
  },
  {
   "cell_type": "code",
   "execution_count": 13,
   "metadata": {},
   "outputs": [],
   "source": [
    "#star_ids=alldata[alldata['class_star'] !=0]\n",
    "#stars=wisps.Annotator.reformat_table(star_ids).reset_index(drop=True)\n",
    "#cy=stars[stars.grism_id.isin(cx.grism_id)]"
   ]
  },
  {
   "cell_type": "code",
   "execution_count": 14,
   "metadata": {},
   "outputs": [
    {
     "data": {
      "text/plain": [
       "[<matplotlib.lines.Line2D at 0x7fabb580c580>]"
      ]
     },
     "execution_count": 14,
     "metadata": {},
     "output_type": "execute_result"
    },
    {
     "name": "stderr",
     "output_type": "stream",
     "text": [
      "findfont: Font family ['serif'] not found. Falling back to DejaVu Sans.\n"
     ]
    },
    {
     "data": {
      "image/png": "[encoded data removed]",
      "text/plain": [
       "<Figure size 432x288 with 1 Axes>"
      ]
     },
     "metadata": {
      "needs_background": "light"
     },
     "output_type": "display_data"
    }
   ],
   "source": [
    "plt.plot(cands.x[cands.x<1.], '.')"
   ]
  },
  {
   "cell_type": "code",
   "execution_count": 15,
   "metadata": {},
   "outputs": [],
   "source": [
    "dt=alldata[(alldata.f_test<0.02) &   (alldata.snr1>=3.) &  (alldata.mstar_flag !=0)].reset_index(drop=True)\n",
    "dt['spt']=(dt['spt']).apply(wisps.make_spt_number).apply(float)"
   ]
  },
  {
   "cell_type": "code",
   "execution_count": 16,
   "metadata": {},
   "outputs": [],
   "source": [
    "dt=wisps.Annotator.reformat_table(dt).reset_index(drop=True)"
   ]
  },
  {
   "cell_type": "code",
   "execution_count": 17,
   "metadata": {},
   "outputs": [
    {
     "data": {
      "text/plain": [
       "7392"
      ]
     },
     "execution_count": 17,
     "metadata": {},
     "output_type": "execute_result"
    }
   ],
   "source": [
    "len(alldata[(alldata.f_test<0.02) &   (alldata.snr1>=3.) &  (alldata.mstar_flag !=0)])"
   ]
  },
  {
   "cell_type": "code",
   "execution_count": 18,
   "metadata": {},
   "outputs": [
    {
     "data": {
      "text/plain": [
       "dict_keys(['spex', 'subd', 'manjavacas', 'schneider', 'ucd_data'])"
      ]
     },
     "execution_count": 18,
     "metadata": {},
     "output_type": "execute_result"
    }
   ],
   "source": [
    "wisps.datasets.keys()"
   ]
  },
  {
   "cell_type": "code",
   "execution_count": 19,
   "metadata": {},
   "outputs": [],
   "source": [
    "#wisps.Annotator.reformat_table(wisps.datasets['subd'])"
   ]
  },
  {
   "cell_type": "code",
   "execution_count": 20,
   "metadata": {},
   "outputs": [
    {
     "name": "stderr",
     "output_type": "stream",
     "text": [
      "  0%|          | 0/120 [00:00<?, ?it/s]"
     ]
    },
    {
     "name": "stdout",
     "output_type": "stream",
     "text": [
      "   H_2O-1/J-Cont  H_2O-1/J-Cont_er  H_2O-2/H_2O-1  H_2O-2/H_2O-1_er  \\\n",
      "0       0.939848          0.030018       0.566692          0.066782   \n",
      "1       0.919964          0.001773       0.702612          0.002512   \n",
      "2       0.770069          0.010851       0.714493          0.013839   \n",
      "3       1.061924          0.004783       0.671167          0.006658   \n",
      "4       0.796989          0.005404       0.492055          0.007728   \n",
      "\n",
      "   H-cont/H_2O-1  H-cont/H_2O-1_er  CH_4/H_2O-1  CH_4/H_2O-1_er  \\\n",
      "0       0.708475          0.026059     0.741481        0.026249   \n",
      "1       0.789129          0.001641     0.800745        0.001612   \n",
      "2       1.087429          0.020231     1.216391        0.023561   \n",
      "3       0.622677          0.005254     0.623742        0.003726   \n",
      "4       0.717849          0.007647     0.815229        0.007582   \n",
      "\n",
      "   H_2O-2/J-Cont  H_2O-2/J-Cont_er  ...  sbinary  h_2mass  j_2mass  \\\n",
      "0       0.533959          0.063149  ...      NaN   12.445   13.200   \n",
      "1       0.646640          0.002305  ...      NaN   12.445   13.200   \n",
      "2       0.549899          0.010113  ...      NaN   14.505   15.522   \n",
      "3       0.712760          0.007228  ...      NaN   15.132   15.826   \n",
      "4       0.392244          0.006222  ...      NaN   15.710   15.710   \n",
      "\n",
      "         f_test    dof       line_chi      spex_chi          spt  Spts  \\\n",
      "0  8.009735e-14  113.0    4278.819108    996.871610  [19.0, 1.0]  19.0   \n",
      "1  1.280365e-36  113.0  704544.203817  48556.444403  [20.0, 0.0]  20.0   \n",
      "2  1.743881e-35  113.0   70169.047679   5102.356306  [24.0, 2.0]  24.0   \n",
      "3  1.417760e-18  113.0   55021.065057   9577.650506  [16.0, 0.0]  16.0   \n",
      "4  2.211855e-12  113.0  176491.641266  45278.741648  [21.0, 2.0]  21.0   \n",
      "\n",
      "              Names  \n",
      "0  11735_10002.fits  \n",
      "1  11855_10002.fits  \n",
      "2  10069_10003.fits  \n",
      "3  10144_10004.fits  \n",
      "4  11982_10005.fits  \n",
      "\n",
      "[5 rows x 50 columns]\n",
      "             x         y\n",
      "2     0.770069  0.714493\n",
      "4     0.796989  0.492055\n",
      "13    0.802200  0.706826\n",
      "14    0.881130  0.684457\n",
      "17    0.861131  0.640113\n",
      "...        ...       ...\n",
      "2390  0.767041  0.551594\n",
      "2394  0.877413  0.752486\n",
      "2417  0.789567  0.703041\n",
      "2423  0.761806  0.586595\n",
      "2446  0.856792  0.612291\n",
      "\n",
      "[677 rows x 2 columns]\n",
      "             x         y\n",
      "8     0.781234  0.659743\n",
      "10    0.776608  0.634673\n",
      "15    0.736841  0.697298\n",
      "16    0.769134  0.699098\n",
      "32    0.724635  0.859627\n",
      "...        ...       ...\n",
      "2382  0.729784  0.643293\n",
      "2395  0.779523  0.696400\n",
      "2404  0.703538  0.718189\n",
      "2435  0.754334  0.735080\n",
      "2445  0.700937  0.925383\n",
      "\n",
      "[335 rows x 2 columns]\n",
      "             x         y\n",
      "0     0.939848  0.566692\n",
      "1     0.919964  0.702612\n",
      "5     0.991836  0.714550\n",
      "7     0.943320  0.734423\n",
      "9     0.970012  0.607080\n",
      "...        ...       ...\n",
      "2443  0.915816  0.568902\n",
      "2444  0.943657  0.647755\n",
      "2447  0.898266  0.578786\n",
      "2450  0.909402  0.687127\n",
      "2451  0.919712  0.543487\n",
      "\n",
      "[828 rows x 2 columns]\n",
      "             x         y\n",
      "31    0.393438  0.182207\n",
      "44    0.590605  0.387668\n",
      "108   0.222272  0.205753\n",
      "174   0.467422  0.381668\n",
      "204   0.513094  0.315176\n",
      "...        ...       ...\n",
      "2334  0.505236  0.240404\n",
      "2354  0.346297  0.197970\n",
      "2393  0.569852  0.402417\n",
      "2416  0.265019  0.141958\n",
      "2448  0.260169  0.174418\n",
      "\n",
      "[111 rows x 2 columns]\n",
      "             x         y\n",
      "93    0.122682  0.101363\n",
      "98    0.059224  0.240603\n",
      "99    0.109849  0.273579\n",
      "116   0.053705  0.029496\n",
      "118   0.117478  0.190232\n",
      "...        ...       ...\n",
      "2419  0.124603  0.138592\n",
      "2420  0.131231  0.169544\n",
      "2422  0.138216  0.095357\n",
      "2432  0.102720  0.058179\n",
      "2449  0.156497  0.222862\n",
      "\n",
      "[89 rows x 2 columns]\n",
      "             x         y\n",
      "2452  0.987722  0.583398\n",
      "2453  0.989458  0.591645\n",
      "2454  1.027350  0.616639\n",
      "2455  0.905285  0.577062\n",
      "2456  1.059224  0.663213\n",
      "2457  0.953362  0.552796\n",
      "2458  1.025213  0.593454\n",
      "2459  0.943203  0.512539\n",
      "2460  0.940592  0.554415\n",
      "2461  1.018704  0.615220\n",
      "2462  1.009822  0.558048\n",
      "2463  0.910190  0.501680\n",
      "2464  0.956626  0.507677\n",
      "2465  1.045403  0.605383\n",
      "2466  0.728752  0.407034\n",
      "2467  1.055720  0.680517\n",
      "2468  1.010814  0.517448\n",
      "2469  0.984847  0.502723\n",
      "2470  1.002302  0.610520\n",
      "2471  1.030051  0.629916\n",
      "2472  1.000160  0.524665\n",
      "2473  1.002624  0.545889\n",
      "2474  0.954604  0.583162\n",
      "2475  0.939401  0.492542\n",
      "2476  1.031210  0.434116\n",
      "2477  0.978860  0.584146\n",
      "2478  0.961872  0.549367\n",
      "2479  1.016673  0.614558\n",
      "2480  0.843551  0.422002\n",
      "2481  0.912291  0.483479\n",
      "2482  1.020804  0.636529\n",
      "2483  1.027930  0.641335\n",
      "2484  1.032481  0.646820\n",
      "2485  1.038180  0.683780\n",
      "2486  0.975162  0.436590\n",
      "2487  1.020337  0.670600\n",
      "2488  1.029093  0.646712\n",
      "2489  1.012445  0.590559\n",
      "2490  1.046369  0.660150\n",
      "2491  1.036556  0.540207\n",
      "2492  1.019817  0.714884\n",
      "             x         y\n",
      "3     1.061924  0.671167\n",
      "6     1.042917  0.780945\n",
      "19    1.026510  0.669964\n",
      "30    1.030963  0.676954\n",
      "56    1.023926  0.699035\n",
      "...        ...       ...\n",
      "2399  1.103539  0.719766\n",
      "2400  1.103314  0.719995\n",
      "2401  1.120990  0.747346\n",
      "2410  1.028751  0.667241\n",
      "2411  1.002527  0.713306\n",
      "\n",
      "[412 rows x 2 columns]\n",
      "                                                x  \\\n",
      "0   (-0.0007600770606530798, 0.15195665428001656)   \n",
      "1      (-0.07859435644095045, 0.2410996550819051)   \n",
      "2      (-0.07518129700247658, 0.1930428893467491)   \n",
      "3    (0.019029233431848223, 0.020527548882662994)   \n",
      "4    (0.017452787351414388, 0.029870968181386487)   \n",
      "5     (0.00395831923471607, 0.035930840316886634)   \n",
      "6      (0.11611085234753676, 0.24069705578422254)   \n",
      "7     (0.007907459635535699, 0.03696322508113544)   \n",
      "8       (0.11349577830017457, 0.4008724844698011)   \n",
      "9     (0.06300636818638547, 0.020844207558116955)   \n",
      "10   (0.016042631559428422, 0.044823490778021106)   \n",
      "11    (0.05283417596913255, 0.036199486469073776)   \n",
      "12      (-0.0824386704350271, 25.867268986948737)   \n",
      "13    (0.03960002474116963, 0.024488842000469278)   \n",
      "14   (0.013014845041095464, 0.013929953202475453)   \n",
      "15     (0.04250385667406354, 0.13724329509533156)   \n",
      "16     (-0.0262037618104219, 0.07845528162713798)   \n",
      "17     (0.05791053660123961, 0.06255763087559729)   \n",
      "18   (-0.041150005523670936, 0.05601750372348696)   \n",
      "19   (0.0035324193587383803, 0.14260132275252357)   \n",
      "20    (0.03439461627393933, 0.028763296782438857)   \n",
      "21     (0.03829046419503544, 0.03318598368259444)   \n",
      "\n",
      "                                              y  \n",
      "0     (0.06307313868100875, 17.814629282693247)  \n",
      "1      (0.15814864753092273, 17.47419443624392)  \n",
      "2     (0.22521437585744802, 222.37510476486116)  \n",
      "3      (-0.2317507729065888, 41.33438939878872)  \n",
      "4      (0.3559385821721186, 100.12345800961417)  \n",
      "5   (-0.008983955640090331, 24.322192554678885)  \n",
      "6      (0.16457642942855277, 20.52813971692018)  \n",
      "7    (-0.12604603350752358, 158.62333670233735)  \n",
      "8    (-0.011242138428987405, 61.00799037399181)  \n",
      "9     (0.1467850983938644, 0.34915035179439935)  \n",
      "10     (0.14540694374571134, 23.81395613546006)  \n",
      "11    (0.03632022505543206, 28.523381135832153)  \n",
      "12     (0.11143406461767186, 35.62541306289648)  \n",
      "13     (0.37807942344837236, 3.163495654115473)  \n",
      "14     (-1.2831389421318795, 47.72664755542435)  \n",
      "15   (-0.18762192443842868, 145.10457662993645)  \n",
      "16      (0.11779074596583748, 7.33201820879947)  \n",
      "17    (-0.1102087334306939, 10.098465109464259)  \n",
      "18      (0.2051244976419458, 84.22787647706775)  \n",
      "19      (0.04343983222958722, 35.2762900093011)  \n",
      "20   (-0.06270951402545707, 15.239741920448154)  \n",
      "21      (-0.2052596927501077, 9.95614779386947)  \n"
     ]
    },
    {
     "name": "stderr",
     "output_type": "stream",
     "text": [
      "\n"
     ]
    },
    {
     "ename": "AttributeError",
     "evalue": "'tuple' object has no attribute 'dtype'",
     "output_type": "error",
     "traceback": [
      "\u001b[0;31m---------------------------------------------------------------------\u001b[0m",
      "\u001b[0;31mAttributeError\u001b[0m                      Traceback (most recent call last)",
      "\u001b[0;32m<ipython-input-20-cacdf6cdcf69>\u001b[0m in \u001b[0;36m<module>\u001b[0;34m\u001b[0m\n\u001b[1;32m      1\u001b[0m \u001b[0;31m#get criteria\u001b[0m\u001b[0;34m\u001b[0m\u001b[0;34m\u001b[0m\u001b[0;34m\u001b[0m\u001b[0m\n\u001b[1;32m      2\u001b[0m \u001b[0;31m##only run this if new data\u001b[0m\u001b[0;34m\u001b[0m\u001b[0;34m\u001b[0m\u001b[0;34m\u001b[0m\u001b[0m\n\u001b[0;32m----> 3\u001b[0;31m \u001b[0mgbhio\u001b[0m\u001b[0;34m=\u001b[0m\u001b[0msel_crt\u001b[0m\u001b[0;34m.\u001b[0m\u001b[0msave_criteria\u001b[0m\u001b[0;34m(\u001b[0m\u001b[0mconts\u001b[0m\u001b[0;34m=\u001b[0m\u001b[0mdt\u001b[0m\u001b[0;34m)\u001b[0m\u001b[0;34m\u001b[0m\u001b[0;34m\u001b[0m\u001b[0m\n\u001b[0m\u001b[1;32m      4\u001b[0m \u001b[0mcrts\u001b[0m\u001b[0;34m=\u001b[0m\u001b[0msel_crt\u001b[0m\u001b[0;34m.\u001b[0m\u001b[0mcrts_from_file\u001b[0m\u001b[0;34m(\u001b[0m\u001b[0;34m)\u001b[0m\u001b[0;34m\u001b[0m\u001b[0;34m\u001b[0m\u001b[0m\n\u001b[1;32m      5\u001b[0m \u001b[0mcontamns\u001b[0m\u001b[0;34m=\u001b[0m\u001b[0mpd\u001b[0m\u001b[0;34m.\u001b[0m\u001b[0mDataFrame\u001b[0m\u001b[0;34m(\u001b[0m\u001b[0;34m[\u001b[0m \u001b[0mx\u001b[0m\u001b[0;34m.\u001b[0m\u001b[0mcontamination\u001b[0m \u001b[0;32mfor\u001b[0m \u001b[0mx\u001b[0m \u001b[0;32min\u001b[0m \u001b[0mcrts\u001b[0m\u001b[0;34m.\u001b[0m\u001b[0mvalues\u001b[0m\u001b[0;34m(\u001b[0m\u001b[0;34m)\u001b[0m\u001b[0;34m]\u001b[0m\u001b[0;34m)\u001b[0m\u001b[0;34m\u001b[0m\u001b[0;34m\u001b[0m\u001b[0m\n",
      "\u001b[0;32m~/research/wisps/wisps/data_analysis/selection_criteria.py\u001b[0m in \u001b[0;36msave_criteria\u001b[0;34m(**kwargs)\u001b[0m\n\u001b[1;32m    546\u001b[0m         \u001b[0;31m#print (tpl_ids[[x_key, y_key, 'Names', 'Spts']])\u001b[0m\u001b[0;34m\u001b[0m\u001b[0;34m\u001b[0m\u001b[0;34m\u001b[0m\u001b[0m\n\u001b[1;32m    547\u001b[0m         \u001b[0midspace\u001b[0m\u001b[0;34m.\u001b[0m\u001b[0msubdwarfs\u001b[0m\u001b[0;34m=\u001b[0m\u001b[0mall_sds\u001b[0m\u001b[0;34m[\u001b[0m\u001b[0;34m[\u001b[0m\u001b[0mx_key\u001b[0m\u001b[0;34m,\u001b[0m \u001b[0my_key\u001b[0m\u001b[0;34m,\u001b[0m \u001b[0;34m'Names'\u001b[0m\u001b[0;34m,\u001b[0m \u001b[0;34m'Spts'\u001b[0m\u001b[0;34m]\u001b[0m\u001b[0;34m]\u001b[0m\u001b[0;34m\u001b[0m\u001b[0;34m\u001b[0m\u001b[0m\n\u001b[0;32m--> 548\u001b[0;31m         \u001b[0midspace\u001b[0m\u001b[0;34m.\u001b[0m\u001b[0mtemplates\u001b[0m\u001b[0;34m=\u001b[0m\u001b[0mtpl_ids\u001b[0m\u001b[0;34m[\u001b[0m\u001b[0;34m[\u001b[0m\u001b[0mx_key\u001b[0m\u001b[0;34m,\u001b[0m \u001b[0my_key\u001b[0m\u001b[0;34m,\u001b[0m \u001b[0;34m'Names'\u001b[0m\u001b[0;34m,\u001b[0m \u001b[0;34m'Spts'\u001b[0m\u001b[0;34m]\u001b[0m\u001b[0;34m]\u001b[0m\u001b[0;34m\u001b[0m\u001b[0;34m\u001b[0m\u001b[0m\n\u001b[0m\u001b[1;32m    549\u001b[0m         \u001b[0;31m#idspace._spex_sample=tpl_ids\u001b[0m\u001b[0;34m\u001b[0m\u001b[0;34m\u001b[0m\u001b[0;34m\u001b[0m\u001b[0m\n\u001b[1;32m    550\u001b[0m         \u001b[0;31m#annotated_df=Annotator.group_by_spt(tpl_ids)\u001b[0m\u001b[0;34m\u001b[0m\u001b[0;34m\u001b[0m\u001b[0;34m\u001b[0m\u001b[0m\n",
      "\u001b[0;32m~/research/wisps/wisps/data_analysis/selection_criteria.py\u001b[0m in \u001b[0;36mtemplates\u001b[0;34m(self, new_data)\u001b[0m\n\u001b[1;32m    162\u001b[0m             \u001b[0mannotated_df\u001b[0m\u001b[0;34m=\u001b[0m\u001b[0mAnnotator\u001b[0m\u001b[0;34m.\u001b[0m\u001b[0mgroup_by_spt\u001b[0m\u001b[0;34m(\u001b[0m\u001b[0mdf\u001b[0m\u001b[0;34m)\u001b[0m\u001b[0;34m\u001b[0m\u001b[0;34m\u001b[0m\u001b[0m\n\u001b[1;32m    163\u001b[0m \u001b[0;34m\u001b[0m\u001b[0m\n\u001b[0;32m--> 164\u001b[0;31m         \u001b[0mself\u001b[0m\u001b[0;34m.\u001b[0m\u001b[0m_calc_completeness\u001b[0m\u001b[0;34m(\u001b[0m\u001b[0mannotated_df\u001b[0m\u001b[0;34m)\u001b[0m\u001b[0;34m\u001b[0m\u001b[0;34m\u001b[0m\u001b[0m\n\u001b[0m\u001b[1;32m    165\u001b[0m \u001b[0;34m\u001b[0m\u001b[0m\n\u001b[1;32m    166\u001b[0m     \u001b[0;31m#@classmethod\u001b[0m\u001b[0;34m\u001b[0m\u001b[0;34m\u001b[0m\u001b[0;34m\u001b[0m\u001b[0m\n",
      "\u001b[0;32m~/research/wisps/wisps/data_analysis/selection_criteria.py\u001b[0m in \u001b[0;36m_calc_completeness\u001b[0;34m(self, annotated_df)\u001b[0m\n\u001b[1;32m    233\u001b[0m         \u001b[0;31m#print (ydwarfs)\u001b[0m\u001b[0;34m\u001b[0m\u001b[0;34m\u001b[0m\u001b[0;34m\u001b[0m\u001b[0m\n\u001b[1;32m    234\u001b[0m \u001b[0;34m\u001b[0m\u001b[0m\n\u001b[0;32m--> 235\u001b[0;31m         \u001b[0mself\u001b[0m\u001b[0;34m.\u001b[0m\u001b[0madd_box\u001b[0m\u001b[0;34m(\u001b[0m\u001b[0msdf\u001b[0m\u001b[0;34m,\u001b[0m \u001b[0;34m'Y dwarfs'\u001b[0m\u001b[0;34m,\u001b[0m \u001b[0;34m'#0074D9'\u001b[0m\u001b[0;34m,\u001b[0m \u001b[0;36m3.0\u001b[0m\u001b[0;34m)\u001b[0m\u001b[0;34m\u001b[0m\u001b[0;34m\u001b[0m\u001b[0m\n\u001b[0m\u001b[1;32m    236\u001b[0m \u001b[0;34m\u001b[0m\u001b[0m\n\u001b[1;32m    237\u001b[0m         \u001b[0;31m#print (self.completeness)\u001b[0m\u001b[0;34m\u001b[0m\u001b[0;34m\u001b[0m\u001b[0;34m\u001b[0m\u001b[0m\n",
      "\u001b[0;32m~/research/wisps/wisps/data_analysis/selection_criteria.py\u001b[0m in \u001b[0;36madd_box\u001b[0;34m(self, df, name, color, coeff, xshift)\u001b[0m\n\u001b[1;32m    195\u001b[0m         \u001b[0mbox\u001b[0m\u001b[0;34m.\u001b[0m\u001b[0mxshift\u001b[0m\u001b[0;34m=\u001b[0m\u001b[0mxshift\u001b[0m\u001b[0;34m\u001b[0m\u001b[0;34m\u001b[0m\u001b[0m\n\u001b[1;32m    196\u001b[0m         \u001b[0;31m#print (ddf.values.T, name)\u001b[0m\u001b[0;34m\u001b[0m\u001b[0;34m\u001b[0m\u001b[0;34m\u001b[0m\u001b[0m\n\u001b[0;32m--> 197\u001b[0;31m         \u001b[0mbox\u001b[0m\u001b[0;34m.\u001b[0m\u001b[0mdata\u001b[0m\u001b[0;34m=\u001b[0m\u001b[0mnp\u001b[0m\u001b[0;34m.\u001b[0m\u001b[0marray\u001b[0m\u001b[0;34m(\u001b[0m\u001b[0mddf\u001b[0m\u001b[0;34m.\u001b[0m\u001b[0mvalues\u001b[0m\u001b[0;34m.\u001b[0m\u001b[0mT\u001b[0m\u001b[0;34m)\u001b[0m\u001b[0;34m\u001b[0m\u001b[0;34m\u001b[0m\u001b[0m\n\u001b[0m\u001b[1;32m    198\u001b[0m         \u001b[0;31m#add this to the existing\u001b[0m\u001b[0;34m\u001b[0m\u001b[0;34m\u001b[0m\u001b[0;34m\u001b[0m\u001b[0m\n\u001b[1;32m    199\u001b[0m         \u001b[0mself\u001b[0m\u001b[0;34m.\u001b[0m\u001b[0m_shapes\u001b[0m\u001b[0;34m.\u001b[0m\u001b[0mappend\u001b[0m\u001b[0;34m(\u001b[0m\u001b[0mbox\u001b[0m\u001b[0;34m)\u001b[0m\u001b[0;34m\u001b[0m\u001b[0;34m\u001b[0m\u001b[0m\n",
      "\u001b[0;32m~/research/shapey/shapey/core.py\u001b[0m in \u001b[0;36mdata\u001b[0;34m(self, input)\u001b[0m\n\u001b[1;32m    315\u001b[0m                                 \u001b[0;32mif\u001b[0m \u001b[0minput\u001b[0m\u001b[0;34m.\u001b[0m\u001b[0mshape\u001b[0m\u001b[0;34m[\u001b[0m\u001b[0;36m0\u001b[0m\u001b[0;34m]\u001b[0m \u001b[0;34m==\u001b[0m\u001b[0;36m2\u001b[0m\u001b[0;34m:\u001b[0m\u001b[0;34m\u001b[0m\u001b[0;34m\u001b[0m\u001b[0m\n\u001b[1;32m    316\u001b[0m                                         \u001b[0mxerr\u001b[0m\u001b[0;34m=\u001b[0m\u001b[0mnp\u001b[0m\u001b[0;34m.\u001b[0m\u001b[0mzeros\u001b[0m\u001b[0;34m(\u001b[0m\u001b[0mlen\u001b[0m\u001b[0;34m(\u001b[0m\u001b[0mx\u001b[0m\u001b[0;34m)\u001b[0m\u001b[0;34m)\u001b[0m \u001b[0;31m#i don't use this much\u001b[0m\u001b[0;34m\u001b[0m\u001b[0;34m\u001b[0m\u001b[0m\n\u001b[0;32m--> 317\u001b[0;31m                                         \u001b[0mmu\u001b[0m\u001b[0;34m=\u001b[0m\u001b[0mnp\u001b[0m\u001b[0;34m.\u001b[0m\u001b[0mnanmean\u001b[0m\u001b[0;34m(\u001b[0m\u001b[0my\u001b[0m\u001b[0;34m)\u001b[0m\u001b[0;34m\u001b[0m\u001b[0;34m\u001b[0m\u001b[0m\n\u001b[0m\u001b[1;32m    318\u001b[0m                                         \u001b[0msigma\u001b[0m\u001b[0;34m=\u001b[0m\u001b[0mnp\u001b[0m\u001b[0;34m.\u001b[0m\u001b[0mnanstd\u001b[0m\u001b[0;34m(\u001b[0m\u001b[0my\u001b[0m\u001b[0;34m)\u001b[0m\u001b[0;34m\u001b[0m\u001b[0;34m\u001b[0m\u001b[0m\n\u001b[1;32m    319\u001b[0m                                         \u001b[0myerr\u001b[0m\u001b[0;34m=\u001b[0m \u001b[0mnp\u001b[0m\u001b[0;34m.\u001b[0m\u001b[0mrandom\u001b[0m\u001b[0;34m.\u001b[0m\u001b[0mnormal\u001b[0m\u001b[0;34m(\u001b[0m\u001b[0mmu\u001b[0m\u001b[0;34m,\u001b[0m \u001b[0msigma\u001b[0m\u001b[0;34m,\u001b[0m \u001b[0mlen\u001b[0m\u001b[0;34m(\u001b[0m\u001b[0my\u001b[0m\u001b[0;34m)\u001b[0m\u001b[0;34m)\u001b[0m\u001b[0;34m\u001b[0m\u001b[0;34m\u001b[0m\u001b[0m\n",
      "\u001b[0;32m<__array_function__ internals>\u001b[0m in \u001b[0;36mnanmean\u001b[0;34m(*args, **kwargs)\u001b[0m\n",
      "\u001b[0;32m/opt/anaconda3/lib/python3.8/site-packages/numpy/lib/nanfunctions.py\u001b[0m in \u001b[0;36mnanmean\u001b[0;34m(a, axis, dtype, out, keepdims)\u001b[0m\n\u001b[1;32m    948\u001b[0m     \u001b[0mcnt\u001b[0m \u001b[0;34m=\u001b[0m \u001b[0mnp\u001b[0m\u001b[0;34m.\u001b[0m\u001b[0msum\u001b[0m\u001b[0;34m(\u001b[0m\u001b[0;34m~\u001b[0m\u001b[0mmask\u001b[0m\u001b[0;34m,\u001b[0m \u001b[0maxis\u001b[0m\u001b[0;34m=\u001b[0m\u001b[0maxis\u001b[0m\u001b[0;34m,\u001b[0m \u001b[0mdtype\u001b[0m\u001b[0;34m=\u001b[0m\u001b[0mnp\u001b[0m\u001b[0;34m.\u001b[0m\u001b[0mintp\u001b[0m\u001b[0;34m,\u001b[0m \u001b[0mkeepdims\u001b[0m\u001b[0;34m=\u001b[0m\u001b[0mkeepdims\u001b[0m\u001b[0;34m)\u001b[0m\u001b[0;34m\u001b[0m\u001b[0;34m\u001b[0m\u001b[0m\n\u001b[1;32m    949\u001b[0m     \u001b[0mtot\u001b[0m \u001b[0;34m=\u001b[0m \u001b[0mnp\u001b[0m\u001b[0;34m.\u001b[0m\u001b[0msum\u001b[0m\u001b[0;34m(\u001b[0m\u001b[0marr\u001b[0m\u001b[0;34m,\u001b[0m \u001b[0maxis\u001b[0m\u001b[0;34m=\u001b[0m\u001b[0maxis\u001b[0m\u001b[0;34m,\u001b[0m \u001b[0mdtype\u001b[0m\u001b[0;34m=\u001b[0m\u001b[0mdtype\u001b[0m\u001b[0;34m,\u001b[0m \u001b[0mout\u001b[0m\u001b[0;34m=\u001b[0m\u001b[0mout\u001b[0m\u001b[0;34m,\u001b[0m \u001b[0mkeepdims\u001b[0m\u001b[0;34m=\u001b[0m\u001b[0mkeepdims\u001b[0m\u001b[0;34m)\u001b[0m\u001b[0;34m\u001b[0m\u001b[0;34m\u001b[0m\u001b[0m\n\u001b[0;32m--> 950\u001b[0;31m     \u001b[0mavg\u001b[0m \u001b[0;34m=\u001b[0m \u001b[0m_divide_by_count\u001b[0m\u001b[0;34m(\u001b[0m\u001b[0mtot\u001b[0m\u001b[0;34m,\u001b[0m \u001b[0mcnt\u001b[0m\u001b[0;34m,\u001b[0m \u001b[0mout\u001b[0m\u001b[0;34m=\u001b[0m\u001b[0mout\u001b[0m\u001b[0;34m)\u001b[0m\u001b[0;34m\u001b[0m\u001b[0;34m\u001b[0m\u001b[0m\n\u001b[0m\u001b[1;32m    951\u001b[0m \u001b[0;34m\u001b[0m\u001b[0m\n\u001b[1;32m    952\u001b[0m     \u001b[0misbad\u001b[0m \u001b[0;34m=\u001b[0m \u001b[0;34m(\u001b[0m\u001b[0mcnt\u001b[0m \u001b[0;34m==\u001b[0m \u001b[0;36m0\u001b[0m\u001b[0;34m)\u001b[0m\u001b[0;34m\u001b[0m\u001b[0;34m\u001b[0m\u001b[0m\n",
      "\u001b[0;32m/opt/anaconda3/lib/python3.8/site-packages/numpy/lib/nanfunctions.py\u001b[0m in \u001b[0;36m_divide_by_count\u001b[0;34m(a, b, out)\u001b[0m\n\u001b[1;32m    215\u001b[0m         \u001b[0;32melse\u001b[0m\u001b[0;34m:\u001b[0m\u001b[0;34m\u001b[0m\u001b[0;34m\u001b[0m\u001b[0m\n\u001b[1;32m    216\u001b[0m             \u001b[0;32mif\u001b[0m \u001b[0mout\u001b[0m \u001b[0;32mis\u001b[0m \u001b[0;32mNone\u001b[0m\u001b[0;34m:\u001b[0m\u001b[0;34m\u001b[0m\u001b[0;34m\u001b[0m\u001b[0m\n\u001b[0;32m--> 217\u001b[0;31m                 \u001b[0;32mreturn\u001b[0m \u001b[0ma\u001b[0m\u001b[0;34m.\u001b[0m\u001b[0mdtype\u001b[0m\u001b[0;34m.\u001b[0m\u001b[0mtype\u001b[0m\u001b[0;34m(\u001b[0m\u001b[0ma\u001b[0m \u001b[0;34m/\u001b[0m \u001b[0mb\u001b[0m\u001b[0;34m)\u001b[0m\u001b[0;34m\u001b[0m\u001b[0;34m\u001b[0m\u001b[0m\n\u001b[0m\u001b[1;32m    218\u001b[0m             \u001b[0;32melse\u001b[0m\u001b[0;34m:\u001b[0m\u001b[0;34m\u001b[0m\u001b[0;34m\u001b[0m\u001b[0m\n\u001b[1;32m    219\u001b[0m                 \u001b[0;31m# This is questionable, but currently a numpy scalar can\u001b[0m\u001b[0;34m\u001b[0m\u001b[0;34m\u001b[0m\u001b[0;34m\u001b[0m\u001b[0m\n",
      "\u001b[0;31mAttributeError\u001b[0m: 'tuple' object has no attribute 'dtype'"
     ]
    }
   ],
   "source": [
    "#get criteria \n",
    "##only run this if new data\n",
    "gbhio=sel_crt.save_criteria(conts=dt)\n",
    "crts=sel_crt.crts_from_file()\n",
    "contamns=pd.DataFrame([ x.contamination for x in crts.values()])\n",
    "compls=pd.DataFrame([ x.completeness for x in crts.values()])\n",
    "\n",
    "contamns.index=[x for x in crts.keys()]\n",
    "compls.index=[x for x in crts.keys()]"
   ]
  },
  {
   "cell_type": "code",
   "execution_count": null,
   "metadata": {},
   "outputs": [],
   "source": [
    "%%capture\n",
    "'''\n",
    "contamns.style.apply(lambda x: [\"background-color: #7FDBFF\" \n",
    "                          if (i >= 0 and (v < 0.1 \n",
    "                                          and v > 0. )) \n",
    "                          else \"\" for i, v in enumerate(x)], axis = 1)\n",
    "'''"
   ]
  },
  {
   "cell_type": "code",
   "execution_count": null,
   "metadata": {},
   "outputs": [],
   "source": [
    "def get_toplowest_contam(subtype, n):\n",
    "    top=contamns.sort_values('L5-T0')[:n]\n",
    "    return {subtype: [x  for x in top.index]}"
   ]
  },
  {
   "cell_type": "code",
   "execution_count": null,
   "metadata": {},
   "outputs": [],
   "source": [
    "ordered={}\n",
    "for k in ['M7-L0', 'L0-L5', 'L5-T0', 'T0-T5', 'T5-T9', 'Y dwarfs', 'subdwarfs']:\n",
    "    ordered.update(get_toplowest_contam(k, 6))"
   ]
  },
  {
   "cell_type": "code",
   "execution_count": null,
   "metadata": {},
   "outputs": [],
   "source": [
    "to_use= ordered\n"
   ]
  },
  {
   "cell_type": "code",
   "execution_count": null,
   "metadata": {},
   "outputs": [],
   "source": [
    "spex['spt']=np.vstack(spex.spt.values)[:,0]"
   ]
  },
  {
   "cell_type": "code",
   "execution_count": null,
   "metadata": {},
   "outputs": [],
   "source": [
    "from tqdm import tqdm"
   ]
  },
  {
   "cell_type": "code",
   "execution_count": null,
   "metadata": {},
   "outputs": [],
   "source": [
    "def multiplte_indices_selection(k):\n",
    "    stat_dict={}\n",
    "    indices= [crts[index_name] for index_name in to_use[k]]\n",
    "    #make selections for each index separately\n",
    "    cand_bools=[]\n",
    "    spex_bools=[]\n",
    "    trash_bools=[]\n",
    "    for idx in indices:\n",
    "        xkey=idx.xkey\n",
    "        ykey=idx.ykey\n",
    "        bx=[x for x in idx.shapes if x.shape_name==k][0]\n",
    "        _, cbools=bx._select(np.array([cands[xkey].values,cands[ykey].values]))\n",
    "        _, spbools=bx._select(np.array([spex[xkey].values,spex[ykey].values]))\n",
    "        _, trbools=bx._select(np.array([dt[xkey].values, dt[ykey].values]))\n",
    "        \n",
    "        cand_bools.append(cbools)\n",
    "        spex_bools.append(spbools)\n",
    "        trash_bools.append(trbools)\n",
    "        \n",
    "    cands_in_that_class_bool=cands.spt.apply(lambda x: wisps.is_in_that_classification(x, k))\n",
    "    spex_in_that_class_bool=spex.spt.apply(lambda x: wisps.is_in_that_classification(x, k))\n",
    "\n",
    "    cand_bools.append(cands_in_that_class_bool)\n",
    "    spex_bools.append(spex_in_that_class_bool)\n",
    "    \n",
    "    cands_selected=cands[np.logical_and.reduce(cand_bools, axis=0)]\n",
    "    spexs_selected=spex[np.logical_and.reduce(spex_bools, axis=0)]\n",
    "    \n",
    "    print (' {} selected {} out of {} UCDS'.format(k, len( cands_selected), len(cands[cands_in_that_class_bool])))\n",
    "    print ('overall completeness {}'.format( len(spexs_selected)/len(spex[spex_in_that_class_bool])))\n",
    "    print ('total contaminants {}'.format(len(dt[np.logical_and.reduce(trash_bools)])))\n",
    "    print ('-------------------------------------------')"
   ]
  },
  {
   "cell_type": "code",
   "execution_count": null,
   "metadata": {},
   "outputs": [],
   "source": [
    "#for k in ['M7-L0', 'L0-L5', 'L5-T0', 'T0-T5', 'T5-T9', 'Y dwarfs']:\n",
    "#    multiplte_indices_selection(k)"
   ]
  },
  {
   "cell_type": "code",
   "execution_count": null,
   "metadata": {},
   "outputs": [],
   "source": [
    "contamns.idxmin(axis=0)"
   ]
  },
  {
   "cell_type": "code",
   "execution_count": null,
   "metadata": {},
   "outputs": [],
   "source": [
    "from collections import OrderedDict\n",
    "ordered=[(k, contamns.idxmin(axis=0)[k]) for k in ['M7-L0', 'L0-L5', 'L5-T0', 'T0-T5', 'T5-T9', 'Y dwarfs', 'subdwarfs']]\n",
    "to_use=  [ (y, x) for x, y in ordered]"
   ]
  },
  {
   "cell_type": "code",
   "execution_count": null,
   "metadata": {},
   "outputs": [],
   "source": [
    "to_use"
   ]
  },
  {
   "cell_type": "code",
   "execution_count": null,
   "metadata": {},
   "outputs": [],
   "source": [
    "import pickle\n",
    "#save the random forest\n",
    "output_file=wisps.OUTPUT_FILES+'/best_indices_to_use.pkl'\n",
    "with open(output_file, 'wb') as file:\n",
    "    pickle.dump(to_use,file)"
   ]
  },
  {
   "cell_type": "code",
   "execution_count": null,
   "metadata": {},
   "outputs": [],
   "source": [
    "fp={}"
   ]
  },
  {
   "cell_type": "code",
   "execution_count": null,
   "metadata": {},
   "outputs": [],
   "source": [
    "cands=cands[cands.grism_id.isin(dt.grism_id)]"
   ]
  },
  {
   "cell_type": "code",
   "execution_count": null,
   "metadata": {},
   "outputs": [],
   "source": [
    "def plot_index_box(index_name, box_name, ax):\n",
    "    \n",
    "    #get the index and the box\n",
    "    idx=crts[index_name]\n",
    "    bx=[x for x in idx.shapes if x.shape_name==box_name][0]\n",
    "    \n",
    "    xkey=idx.xkey\n",
    "    ykey=idx.ykey\n",
    "\n",
    "    to_use_df=spex_df\n",
    "    if box_name.lower()=='y dwarfs':\n",
    "        to_use_df=ydwarfs\n",
    "    if box_name.lower()=='subdwarfs':\n",
    "        to_use_df=wisps.Annotator.reformat_table(idx.subdwarfs)\n",
    "        to_use_df['spt']=17\n",
    "        \n",
    "    xlim=[ bx.xrange[0]-.5*abs(np.ptp(bx.xrange)), bx.xrange[1]+.5*abs(np.ptp(bx.xrange))]\n",
    "    ylim=[ bx.yrange[0]-.5*abs(np.ptp(bx.yrange)), bx.yrange[1]+.5*abs(np.ptp(bx.yrange))]\n",
    "    \n",
    "    if box_name.upper()=='T5-T9':\n",
    "        print ('changin scale')\n",
    "        print (bx.xrange[1])\n",
    "        xlim=[ bx.xrange[0]-0.2*abs(np.ptp(bx.xrange)), np.round(bx.xrange[1]+0.2*abs(np.ptp(bx.xrange)))]\n",
    "\n",
    "    \n",
    "    #remove nans from background\n",
    "    bckgrd= dt[[xkey, ykey]].replace(-np.inf, np.nan).replace(np.inf, np.nan).dropna()\n",
    "   # ax.scatter(bckgrd[xkey], bckgrd[ykey], s=1, c='#111111', label='Background')\n",
    "    \n",
    "    bckgrd=bckgrd[(bckgrd[xkey].between(xlim[0], xlim[1])) & (bckgrd[ykey].between(ylim[0], ylim[1]))]\n",
    "\n",
    "    h=ax.hist2d(bckgrd[xkey].apply(float).values, bckgrd[ykey].apply(float).values, \\\n",
    "                cmap='gist_yarg', vmin=50, vmax=1000)\n",
    "    \n",
    "    cands_slctd, cands_bools=bx._select(np.array([cands[xkey].values,cands[ykey].values]))\n",
    "   \n",
    "    trash_slctd, trsh_bools=bx._select(np.array([dt[xkey].values, dt[ykey].values]))\n",
    "    \n",
    "    #simul_slctd, simul_bools=bx._select(np.array([simulated_data[xkey].values, simulated_data[ykey].values]))\n",
    "    \n",
    "    print (len(cands_slctd[0]), len((cands)))\n",
    "    cands_in_that_class_bool=(cands).spt.apply(lambda x: wisps.is_in_that_classification(x, box_name))\n",
    "    \n",
    "    spexs_slctd_in_that_class_bool= (to_use_df).spt.apply(lambda x: wisps.is_in_that_classification(x, box_name))\n",
    "    \n",
    "    #simulated_in_that_class_bool=(simulated_data[simul_bools]).spt.apply(lambda x: wisps.is_in_that_classification(x, box_name))\n",
    "    \n",
    "    if box_name.lower()=='subdwarfs':\n",
    "         spexs_slctd_in_that_class_bool=np.ones(len(to_use_df), dtype=bool)\n",
    "    \n",
    "    \n",
    "   \n",
    "    \n",
    "    cands_in_that_class=np.array([cands_slctd[0], \\\n",
    "                                  cands_slctd[1]])\n",
    "    \n",
    "    #simulated_in_that_class= np.array([simul_slctd[0][simulated_in_that_class_bool], simul_slctd[1][simulated_in_that_class_bool]])\n",
    "    \n",
    "    spexs_slctd_in_that_class=np.array([to_use_df[xkey][spexs_slctd_in_that_class_bool], to_use_df[ykey][spexs_slctd_in_that_class_bool]])\n",
    "    \n",
    "\n",
    "    #ax.scatter( simulated_in_that_class[0],    simulated_in_that_class[1], facecolors='none', s=10, \n",
    "    #           edgecolors='#001f3f', label='simulated')\n",
    "    \n",
    "    ax.scatter(spexs_slctd_in_that_class[0], spexs_slctd_in_that_class[1],  facecolors='none',\\\n",
    "               edgecolors='#0074D9',  label='Templates', s=50.)\n",
    "\n",
    "    #ax.scatter(cands[xkey], cands[ykey], marker='x', facecolors='#FF851B', s=40., alpha=0.5)\n",
    "    \n",
    "    \n",
    "    ax.scatter( cands_in_that_class[0],    cands_in_that_class[1], marker ='+',  s=150., alpha=1.,\n",
    "               facecolors='#FF851B', label='Discovered UCDs')\n",
    "    ax.scatter(cands[xkey].values, cands[ykey].values, marker='+',  s=150., alpha=0.3,\n",
    "               facecolors='#FF851B')\n",
    "    \n",
    "    \n",
    "    bx.color='None'\n",
    "    bx.alpha=1.\n",
    "    bx.linewidth=3\n",
    "    bx.linestyle='-'\n",
    "    bx.edgecolor='#0074D9'\n",
    "    bx.plot(ax=ax, only_shape=True, highlight=False)\n",
    "    \n",
    "    #cb = plt.colorbar(h[3], ax=ax, orientation='horizontal')\n",
    "    #cb.set_label('Counts in bin', fontsize=16)\n",
    "    \n",
    "    plt.tight_layout()\n",
    "    \n",
    "    ax.set_xlabel(r'$'+str(idx.name.split(' ')[0])+'$', fontsize=14)\n",
    "    ax.set_ylabel(r'$'+str(idx.name.split(' ')[1])+'$', fontsize=14)\n",
    "    \n",
    "    ax.set_title(box_name, fontsize=18)\n",
    "    \n",
    "    xbuffer=np.nanstd(to_use_df[[xkey,ykey]])\n",
    "    \n",
    "   \n",
    "    \n",
    "    ax.minorticks_on()\n",
    "    \n",
    "\n",
    "    if (trash_slctd.shape[1])==0:\n",
    "        fprate=0.0\n",
    "    else:\n",
    "        fprate=(trash_slctd.shape[1]- cands_slctd.shape[1])/trash_slctd.shape[1]\n",
    "        if box_name.lower()=='subdwarfs':\n",
    "                fprate=1.\n",
    "    \n",
    "    fp[box_name]=  fprate\n",
    "    \n",
    "        \n",
    "    ax.set_xlim(xlim)\n",
    "    ax.set_ylim(ylim)\n",
    "    \n",
    "    plt.tight_layout()\n",
    "    print (' {} selected {}'.format(box_name, len(bx.select( bckgrd))))\n",
    "    \n",
    "    return {str(box_name): bx}\n",
    "    \n",
    "    "
   ]
  },
  {
   "cell_type": "code",
   "execution_count": null,
   "metadata": {},
   "outputs": [],
   "source": [
    "to_use"
   ]
  },
  {
   "cell_type": "raw",
   "metadata": {},
   "source": [
    "cands"
   ]
  },
  {
   "cell_type": "code",
   "execution_count": null,
   "metadata": {},
   "outputs": [],
   "source": []
  },
  {
   "cell_type": "code",
   "execution_count": null,
   "metadata": {},
   "outputs": [],
   "source": [
    "idx=crts[to_use[1][0]]"
   ]
  },
  {
   "cell_type": "code",
   "execution_count": null,
   "metadata": {},
   "outputs": [],
   "source": [
    "import matplotlib"
   ]
  },
  {
   "cell_type": "code",
   "execution_count": null,
   "metadata": {},
   "outputs": [],
   "source": [
    "fig, ax=plt.subplots(nrows=3, ncols=3, figsize=(12, 14))\n",
    "\n",
    "bxs=[]\n",
    "for idx, k in enumerate(to_use):\n",
    "    print (idx, k)\n",
    "    b=plot_index_box( k[0], k[1], np.concatenate(ax)[idx])\n",
    "    bxs.append(b)\n",
    "\n",
    "\n",
    "\n",
    "plt.tight_layout()\n",
    "\n",
    "cax = fig.add_axes([0.5, 0.1, .3, 0.03])\n",
    "norm= matplotlib.colors.Normalize(vmin=50,vmax=1000)\n",
    "mp=matplotlib.cm.ScalarMappable(norm=norm, cmap='gist_yarg')# vmin=10, vmax=5000)\n",
    "cbar=plt.colorbar(mp, cax=cax, orientation='horizontal')\n",
    "cbar.ax.set_xlabel(r'Number of Contaminants', fontsize=18)\n",
    "\n",
    "\n",
    "fig.delaxes(np.concatenate(ax)[-1])\n",
    "fig.delaxes(np.concatenate(ax)[-2])\n",
    "\n",
    "\n",
    "\n",
    "np.concatenate(ax)[-4].set_title(r'$\\geq$ T9 ', fontsize=18)\n",
    "#subdindx_index_crt=crts['H_2O-1/J-Cont H_2O-2/H_2O-1']\n",
    "#subdrfs=wisps.Annotator.reformat_table(dummy_index_crt.subdwarfs)\n",
    "#tpls=wisps.Annotator.reformat_table(spex_df[spex_df.metallicity_class.isna()])\n",
    "#a=np.concatenate(ax)[-1]\n",
    "#tpls=tpls[tpls.spt>16]\n",
    "\n",
    "#a.scatter(dt[subdindx_index_crt.xkey], dt[subdindx_index_crt.ykey], s=1., c='#111111', alpha=0.1)\n",
    "#a.scatter(tpls[subdindx_index_crt.xkey], tpls[subdindx_index_crt.ykey], marker='+', facecolors='#0074D9',  label='SpeX', s=5.)\n",
    "#a.scatter(subdrfs[subdindx_index_crt.xkey], subdrfs[subdindx_index_crt.ykey], marker='+', facecolors='#2ECC40',  label='SpeX', s=30.)\n",
    "\n",
    "\n",
    "#a.set_xlim([0., 1.35])\n",
    "#a.set_ylim([0., 1.25])\n",
    "#a.set_title('subdwarfs', fontsize=18)\n",
    "#a.set_xlabel(r'$'+str(subdindx_index_crt.name.split(' ')[0])+'$', fontsize=15)\n",
    "#a.set_ylabel(r'$'+str(subdindx_index_crt.name.split(' ')[1])+'$', fontsize=15)\n",
    "\n",
    "np.concatenate(ax)[-3].legend(loc='center left', bbox_to_anchor=(1, 0.5))\n",
    "\n",
    "plt.savefig(wisps.OUTPUT_FIGURES+'/index_index_plots.pdf', \n",
    "            bbox_inches='tight', rasterized=True,  dpi=150)"
   ]
  },
  {
   "cell_type": "code",
   "execution_count": null,
   "metadata": {},
   "outputs": [],
   "source": []
  },
  {
   "cell_type": "code",
   "execution_count": null,
   "metadata": {},
   "outputs": [],
   "source": [
    "#.grism_id.to_csv('/users/caganze/desktop/true_brown_dwarfs.csv')"
   ]
  },
  {
   "cell_type": "code",
   "execution_count": null,
   "metadata": {},
   "outputs": [],
   "source": [
    "bx_dict={}\n",
    "for b in bxs:\n",
    "    bx_dict.update(b)"
   ]
  },
  {
   "cell_type": "code",
   "execution_count": null,
   "metadata": {},
   "outputs": [],
   "source": [
    "#invert to use\n",
    "inv_to_use = {v: k for k, v in to_use}"
   ]
  },
  {
   "cell_type": "code",
   "execution_count": null,
   "metadata": {},
   "outputs": [],
   "source": [
    "ncandidates=[]\n",
    "for spt_range in bx_dict.keys():\n",
    "    idx_name=inv_to_use[spt_range]\n",
    "    idx=crts[idx_name]\n",
    "    s, bools=(bx_dict[spt_range])._select(np.array([dt[idx.xkey].values, dt[idx.ykey].values]))\n",
    "    ncandidates.append(dt[bools])"
   ]
  },
  {
   "cell_type": "code",
   "execution_count": null,
   "metadata": {},
   "outputs": [],
   "source": [
    "candsss=(pd.concat(ncandidates).drop_duplicates(subset='grism_id'))\n",
    "cands.grism_id=cands.grism_id.apply(lambda x: x.lower().strip())\n",
    "good_indices=[crts[x] for x in inv_to_use.values()]"
   ]
  },
  {
   "cell_type": "code",
   "execution_count": null,
   "metadata": {},
   "outputs": [],
   "source": [
    "len(candsss), len(candsss[candsss.grism_id.isin(cands.grism_id.apply(lambda x: x.lower().strip())) & (candsss.spt.apply(wisps.make_spt_number)>16)])"
   ]
  },
  {
   "cell_type": "code",
   "execution_count": null,
   "metadata": {},
   "outputs": [],
   "source": [
    "len(candsss.drop_duplicates('grism_id'))/len(alldata)"
   ]
  },
  {
   "cell_type": "code",
   "execution_count": null,
   "metadata": {},
   "outputs": [],
   "source": [
    "len(candsss[candsss.grism_id.isin(cands.grism_id) & (candsss.spt.apply(wisps.make_spt_number).between(35, 40))])"
   ]
  },
  {
   "cell_type": "code",
   "execution_count": null,
   "metadata": {},
   "outputs": [],
   "source": [
    "len(candsss), len(dt), len(alldata[alldata.mstar_flag !=0])"
   ]
  },
  {
   "cell_type": "code",
   "execution_count": null,
   "metadata": {},
   "outputs": [],
   "source": [
    "len(dt)/len(alldata)"
   ]
  },
  {
   "cell_type": "code",
   "execution_count": null,
   "metadata": {},
   "outputs": [],
   "source": [
    "candsss.to_pickle(wisps.OUTPUT_FILES+'/selected_by_indices.pkl')"
   ]
  },
  {
   "cell_type": "code",
   "execution_count": null,
   "metadata": {},
   "outputs": [],
   "source": [
    "#print out table\n",
    "def round_tuple(tpl, n=2):\n",
    "    return round(tpl[0], n), round(tpl[1],n)\n",
    "\n",
    "for index, k in to_use:\n",
    "    spt_range=k\n",
    "    sindex=crts[index]\n",
    "    bs=sindex.shapes\n",
    "    bs=[x for x in bs if x.shape_name==spt_range]\n",
    "\n",
    "    bx=bs[0]\n",
    "    \n",
    "    print (\" {} & {} &  {} & {} & {} & {} & {} & {} & {}  & {} \\\\\\ \".format(spt_range,sindex.xkey, sindex.ykey, \n",
    "                                                                           round_tuple(bx.vertices[0]), round_tuple(bx.vertices[1])\n",
    "                                                                          , round_tuple(bx.vertices[2]), round_tuple(bx.vertices[3]),\n",
    "                                                                          round(sindex.completeness[spt_range], 2), \n",
    "                                                                            round(sindex.contamination[spt_range], 7),\n",
    "                                                                           round(fp[spt_range],6)))\n",
    "    "
   ]
  },
  {
   "cell_type": "code",
   "execution_count": null,
   "metadata": {},
   "outputs": [],
   "source": [
    "len(candsss)"
   ]
  },
  {
   "cell_type": "code",
   "execution_count": null,
   "metadata": {},
   "outputs": [],
   "source": [
    "#ghjk"
   ]
  },
  {
   "cell_type": "code",
   "execution_count": null,
   "metadata": {},
   "outputs": [],
   "source": [
    "stars= alldata[alldata.mstar_flag !=0]"
   ]
  },
  {
   "cell_type": "code",
   "execution_count": null,
   "metadata": {},
   "outputs": [],
   "source": [
    "cands_dff=(cands[np.logical_and(cands['snr1'] >=3., cands['spt'] >=17)]).sort_values('spt')\n",
    "spex_df=spex_df.sort_values('spt')\n",
    "\n",
    "star_snr=stars[['snr1', 'snr2', 'snr3', 'snr4']].apply(np.log10).dropna()\n",
    "star_snr=(star_snr[star_snr.snr1.between(-1, 4) & star_snr.snr3.between(-1, 4) & star_snr.snr4.between(-1, 4)]).reset_index(drop=True)\n",
    "\n",
    "\n",
    "fig, (ax, ax1)=plt.subplots(ncols=2, figsize=(12, 6))\n",
    "\n",
    "h=ax.hist2d(star_snr['snr1'], star_snr['snr3'], cmap='gist_yarg', bins=10, label='Point Sources')\n",
    "#ax.scatter(star_snr['snr1'], star_snr['snr3'], c='#111111', s=1, alpha=0.1)\n",
    "cb = plt.colorbar(h[3], ax=ax, orientation='horizontal')\n",
    "cb.set_label('Counts in bin', fontsize=16)\n",
    "plt.tight_layout()\n",
    "\n",
    "#ax.scatter(star_snr['snr1'],  star_snr['snr4'], s=1., c='k', alpha=0.1, \n",
    "#            label='3D-HST or WISP')\n",
    "\n",
    "\n",
    "ax.scatter(spex_df['snr1'].apply(np.log10), spex_df['snr3'].apply(np.log10),\n",
    "            s=10, c=spex_df.spt, \n",
    "            cmap='coolwarm',  marker='o', alpha=0.1, vmin=15, vmax=40) \n",
    "ax.scatter(spex_df['snr1'].apply(np.log10)[0], spex_df['snr3'].apply(np.log10)[0],\n",
    "            s=10, c=spex_df.spt[0], \n",
    "            cmap='coolwarm', label='Templates', marker='o', alpha=1., vmin=15, vmax=40) \n",
    "ax.scatter(cands_dff['snr1'].apply(np.log10), cands_dff['snr3'].apply(np.log10), \n",
    "           c=cands_dff['spt'], s=40,  marker='*', cmap='coolwarm', label='UCDs'\n",
    "           , vmin=15, vmax=40) \n",
    "ax.set_xlim([-0.5, 4])\n",
    "ax.set_ylim([-0.5, 4])\n",
    "ax.set_xlabel('Log J-SNR', fontsize=18)\n",
    "ax.set_ylabel('Log H-SNR', fontsize=18)\n",
    "ax.legend(fontsize=18, loc='upper left')\n",
    "\n",
    "ax.axhline(np.log10(3), c='k', xmin=np.log10(3)-0.2, linestyle='--')\n",
    "ax.axvline(np.log10(3), c='k', ymin=np.log10(3)-0.2, linestyle='--')\n",
    "\n",
    "\n",
    "\n",
    "#ax1.scatter(stars['snr1'].apply(np.log10), stars['snr4'].apply(np.log10), s=1., c='k', alpha=0.1, \n",
    "#            label='3D-HST or WISP')\n",
    "#ax1.scatter(star_snr['snr1'], star_snr['snr4'], c='#111111', s=1, alpha=0.1)\n",
    "h1=ax1.hist2d(star_snr['snr1'], star_snr['snr4'], cmap='gist_yarg', bins=10, label='Point Sources')\n",
    "\n",
    "mp=ax1.scatter(spex_df['snr1'].apply(np.log10), spex_df['snr4'].apply(np.log10), s=10, c=spex_df.spt, \n",
    "            cmap='coolwarm', label='Templates',  marker='o', alpha=0.1, vmin=15, vmax=40)\n",
    "\n",
    "ax1.scatter(cands_dff['snr1'].apply(np.log10), cands_dff['snr4'].apply(np.log10), \n",
    "                       c=cands_dff['spt'], s=40, marker='*', cmap='coolwarm', label='UCDs',  vmin=15, vmax=40) \n",
    "ax1.set_xlim([-0.5, 4])\n",
    "ax1.set_ylim([-0.5, 4])\n",
    "ax1.set_xlabel(' Log J-SNR', fontsize=18)\n",
    "ax1.set_ylabel('Log MEDIAN-SNR', fontsize=18)\n",
    "#ax.legend(fontsize=18)\n",
    "\n",
    "ax1.axhline(np.log10(3), c='k', xmin=np.log10(3)-0.2, linestyle='--')\n",
    "ax1.axvline(np.log10(3), c='k', ymin=np.log10(3)-0.2, linestyle='--')\n",
    "\n",
    "cb1 = plt.colorbar(h1[3], ax=ax1, orientation='horizontal')\n",
    "cb1.set_label('Counts in bin', fontsize=16)\n",
    "#plt.tight_layout()\n",
    "import matplotlib\n",
    "cax = fig.add_axes([1.01, 0.21, .03, 0.7])\n",
    "norm= matplotlib.colors.Normalize(vmin=15,vmax=40)\n",
    "mp=matplotlib.cm.ScalarMappable(norm=norm, cmap='coolwarm')\n",
    "cbar=plt.colorbar(mp, cax=cax, orientation='vertical')\n",
    "cbar.ax.set_ylabel(r'Spectral Type', fontsize=18)\n",
    "\n",
    "ax.minorticks_on()\n",
    "ax1.minorticks_on()\n",
    "\n",
    "cbar.ax.set_yticks([ 17, 20, 25, 30, 35, 40])\n",
    "cbar.ax.set_yticklabels(['M5', 'L0', 'L5', 'T0', 'T5', 'Y0'])\n",
    "plt.tight_layout()\n",
    "\n",
    "plt.savefig(wisps.OUTPUT_FIGURES+'/snr_cutplots.pdf', \\\n",
    "            bbox_inches='tight',rasterized=True,  dpi=100)"
   ]
  },
  {
   "cell_type": "code",
   "execution_count": null,
   "metadata": {},
   "outputs": [],
   "source": [
    "#import wisps"
   ]
  },
  {
   "cell_type": "code",
   "execution_count": null,
   "metadata": {},
   "outputs": [],
   "source": [
    "big=wisps.get_big_file()\n",
    "bigsnr=big[big.snr1>=3.]"
   ]
  },
  {
   "cell_type": "code",
   "execution_count": null,
   "metadata": {},
   "outputs": [],
   "source": [
    "#"
   ]
  },
  {
   "cell_type": "code",
   "execution_count": null,
   "metadata": {},
   "outputs": [],
   "source": [
    "fig, ax=plt.subplots(figsize=(10, 6))\n",
    "h=ax.hist(big.snr1.apply(np.log10).values, range=[-3, 4], bins=32, histtype='step',  linestyle=':', \n",
    "          label='All', log=True, linewidth=3)\n",
    "h=ax.hist(stars.snr1.apply(np.log10).values, range=[-3, 4], bins=32, histtype='step', linewidth=3, label='Point Sources',\n",
    "          linestyle='--', log=True)\n",
    "h=ax.hist(stars[stars.snr1>3].snr1.apply(np.log10).values, range=[-3, 4], bins=32, histtype='step', linewidth=3,\n",
    "          label='Selected',\n",
    "          log=True)\n",
    "#h=ax.hist(bigsnr.snr1.apply(np.log10).values, range=[-3, 4], bins=32, histtype='step', linewidth=3, log=True)\n",
    "ax.minorticks_on()\n",
    "plt.xlabel('Log SNR')\n",
    "plt.ylabel('Number')\n",
    "plt.legend()\n",
    "plt.savefig(wisps.OUTPUT_FIGURES+'/snr_distribution.pdf', bbox_inches='tight',  facecolor='white', transparent=False)"
   ]
  },
  {
   "cell_type": "code",
   "execution_count": null,
   "metadata": {},
   "outputs": [],
   "source": [
    "#s3=wisps.Source(filename='goodss-01-G141_47749')\n",
    "#s4=wisps.Source(filename='goodss-01-G141_45524')"
   ]
  },
  {
   "cell_type": "code",
   "execution_count": null,
   "metadata": {},
   "outputs": [],
   "source": [
    "bools=np.logical_and(stars.snr1.between(3, 1000), stars.f_test.between(1e-3, 1))"
   ]
  },
  {
   "cell_type": "code",
   "execution_count": null,
   "metadata": {},
   "outputs": [],
   "source": [
    "#s4._best_fit_line"
   ]
  },
  {
   "cell_type": "markdown",
   "metadata": {},
   "source": [
    "fig, ax=plt.subplots(figsize=(8, 8))\n",
    "plt.plot(s4.wave, s4.flux, color='#111111', label='Flux')\n",
    "plt.plot(s4.wave, s4.noise,  '#39CCCC', label='Noise')\n",
    "std=splat.getStandard(s4.spectral_type[0])\n",
    "std.normalize(range=[1.2, 1.5])\n",
    "chi, scale=splat.compareSpectra(s4.splat_spectrum, std,  comprange=[[1.2, 1.5]], statistic='chisqr', scale=True) \n",
    "std.scale(scale)\n",
    "plt.plot(std.wave, std.flux, color='y', label='Best fit template')\n",
    "plt.plot( s4._best_fit_line[0], color='#FF4136', label='Best fit line')\n",
    "plt.xlim([1.1, 1.7])\n",
    "plt.ylim([0, 0.1])\n",
    "plt.xlabel('Wavelength (micron)')\n",
    "plt.ylabel('Normalized Flux')\n",
    "plt.legend()\n",
    "plt.savefig(wisps.OUTPUT_FIGURES+'/example_line_fit.pdf', bbox_inches='tight',  facecolor='white', transparent=False)"
   ]
  },
  {
   "cell_type": "code",
   "execution_count": null,
   "metadata": {},
   "outputs": [],
   "source": [
    "compls.keys()"
   ]
  },
  {
   "cell_type": "code",
   "execution_count": null,
   "metadata": {},
   "outputs": [],
   "source": [
    "fig, ax=plt.subplots(figsize=(8,6))\n",
    "\n",
    "#for k in  ['L0-L5', 'L5-T0', 'M7-L0', 'T0-T5', 'T5-T9','subdwarfs']:\n",
    "ax.scatter(compls['M7-L0'].values, contamns['M7-L0'].values,  facecolors='none', edgecolors='#0074D9', \n",
    "           label='M7-L0')\n",
    "ax.scatter(compls['L0-L5'].values, contamns['L0-L5'].values, marker='^',  facecolors='none',\\\n",
    "           edgecolors='#FF851B', label='L0-L5')\n",
    "\n",
    "ax.scatter(compls['L5-T0'].values, contamns['L5-T0'].values, marker='s',  facecolors='none',\n",
    "           edgecolors='#2ECC40', label='L5-T0')\n",
    "\n",
    "ax.scatter(compls['T0-T5'].values, contamns['T0-T5'].values, marker='$...$',  facecolors='none', \n",
    "           edgecolors='#FF4136',\n",
    "           label='T0-T5')\n",
    "ax.scatter(compls['T5-T9'].values, contamns['T5-T9'].values, marker='X',  facecolors='none',\n",
    "           edgecolors='#111111',\n",
    "           label='T5-T9')\n",
    "    #h=plt.hist(contams[k].values,  bins='auto', histtype='step',\n",
    "    #      label='All', log=True, linewidth=3)\n",
    "ax.set_xlabel('Completeness')\n",
    "ax.set_ylabel('Contamination')\n",
    "plt.legend()\n",
    "ax.set_yscale('log')\n",
    "plt.savefig(wisps.OUTPUT_FIGURES+'/completeness_contam.pdf', bbox_inches='tight',  facecolor='white', transparent=False)"
   ]
  },
  {
   "cell_type": "code",
   "execution_count": null,
   "metadata": {},
   "outputs": [],
   "source": [
    "compl_contam_table=pd.DataFrame(columns=contamns.columns, index=contamns.index)"
   ]
  },
  {
   "cell_type": "code",
   "execution_count": null,
   "metadata": {},
   "outputs": [],
   "source": [
    "for k in compl_contam_table.columns:\n",
    "    for idx in compl_contam_table.index:\n",
    "        compl_contam_table.loc[idx, k]=(round(compls.loc[idx, k], 2), \\\n",
    "                                        round(contamns.loc[idx, k], 3))\n",
    "                                        "
   ]
  },
  {
   "cell_type": "code",
   "execution_count": null,
   "metadata": {},
   "outputs": [],
   "source": [
    "(compl_contam_table[['M7-L0', 'L0-L5', 'T0-T5',\\\n",
    "                    'T5-T9', 'Y dwarfs', 'subdwarfs']]).to_latex()"
   ]
  },
  {
   "cell_type": "code",
   "execution_count": null,
   "metadata": {},
   "outputs": [],
   "source": []
  }
 ],
 "metadata": {
  "kernelspec": {
   "display_name": "Python 3",
   "language": "python",
   "name": "python3"
  },
  "language_info": {
   "codemirror_mode": {
    "name": "ipython",
    "version": 3
   },
   "file_extension": ".py",
   "mimetype": "text/x-python",
   "name": "python",
   "nbconvert_exporter": "python",
   "pygments_lexer": "ipython3",
   "version": "3.8.5"
  }
 },
 "nbformat": 4,
 "nbformat_minor": 4
}
