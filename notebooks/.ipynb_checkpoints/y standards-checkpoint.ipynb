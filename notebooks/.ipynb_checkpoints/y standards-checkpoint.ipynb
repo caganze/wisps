{
 "cells": [
  {
   "cell_type": "code",
   "execution_count": 2,
   "metadata": {},
   "outputs": [
    {
     "name": "stdout",
     "output_type": "stream",
     "text": [
      "\n",
      "\n",
      "Welcome to the Spex Prism Library Analysis Toolkit (SPLAT)!\n",
      "If you make use of any features of this toolkit for your research, please remember to cite the SPLAT paper:\n",
      "\n",
      "Burgasser et al. (2017, Astro. Soc. India Conf. Series 14, p. 7); Bibcode: 2017ASInC..14....7B\n",
      "\n",
      "If you make use of any spectra or models in this toolkit, please remember to cite the original source.\n",
      "Please report any errors are feature requests to our github page, https://github.com/aburgasser/splat/\n",
      "\n",
      "\n"
     ]
    }
   ],
   "source": [
    "import splat\n",
    "import matplotlib.pyplot as plt\n",
    "%matplotlib inline"
   ]
  },
  {
   "cell_type": "code",
   "execution_count": 3,
   "metadata": {},
   "outputs": [],
   "source": [
    "#splat.initiateStandards()"
   ]
  },
  {
   "cell_type": "code",
   "execution_count": 12,
   "metadata": {},
   "outputs": [],
   "source": [
    "import glob\n",
    "import pandas as pd\n",
    "from astropy.io import ascii\n",
    "import numpy as np"
   ]
  },
  {
   "cell_type": "code",
   "execution_count": 5,
   "metadata": {},
   "outputs": [],
   "source": [
    "import astropy.units as u"
   ]
  },
  {
   "cell_type": "code",
   "execution_count": 19,
   "metadata": {},
   "outputs": [],
   "source": [
    "#get y dwarfs\n",
    "def get_shortname(n):\n",
    "        return splat.designationToShortName(n).replace('J', 'WISE')\n",
    "\n",
    "schn='/Volumes/Lacie/schneider/*.txt'\n",
    "schntb=pd.read_csv('/Volumes/Lacie/wispsdata/data/schneider2015.txt', \n",
    "                   delimiter=' ').drop(columns='Unnamed: 14')\n",
    "schntb['shortname']=schntb.Name.apply(get_shortname)\n",
    "spectra_schn=[]\n",
    "for f in glob.glob(schn):\n",
    "    d=ascii.read(f).to_pandas()\n",
    "    shortname=(f.split('/')[-1]).split('.txt')[0]\n",
    "    s=splat.Spectrum(wave=d.col1, \n",
    "                     flux=d.col2,\n",
    "                     noise=d.col3, \n",
    "                     name=shortname)\n",
    "    #measure snr \n",
    "    mask= np.logical_and(d.col1>.9, d.col1<2.4)\n",
    "    snr= (np.nanmedian(d.col2[mask]/d.col3[mask]))\n",
    "    spectra_schn.append(s)"
   ]
  },
  {
   "cell_type": "code",
   "execution_count": 22,
   "metadata": {},
   "outputs": [
    {
     "data": {
      "text/plain": [
       "[ spectrum of WISE0647-6232,\n",
       "  spectrum of WISE0350-5658,\n",
       "  spectrum of WISE1541-2250,\n",
       "  spectrum of WISE1738+2732,\n",
       "  spectrum of WISE0410+1502,\n",
       "  spectrum of WISE0943+3607,\n",
       "  spectrum of WISE0535-7500,\n",
       "  spectrum of WISE2220-3628,\n",
       "  spectrum of WISE2209+2711,\n",
       "  spectrum of WISE0325-5044,\n",
       "  spectrum of WISE1542+2230,\n",
       "  spectrum of WISE0404-6420,\n",
       "  spectrum of WISE2354+0240,\n",
       "  spectrum of WISE1639-6847,\n",
       "  spectrum of WISE2056+1459,\n",
       "  spectrum of WISE0825+2805,\n",
       "  spectrum of WISE1405+5534,\n",
       "  spectrum of WISE0734-7157,\n",
       "  spectrum of WISE1206+8401,\n",
       "  spectrum of WISE0359-5401,\n",
       "  spectrum of WISE0335+4310,\n",
       "  spectrum of WISE2212-6931]"
      ]
     },
     "execution_count": 22,
     "metadata": {},
     "output_type": "execute_result"
    }
   ],
   "source": []
  },
  {
   "cell_type": "code",
   "execution_count": null,
   "metadata": {},
   "outputs": [],
   "source": [
    "#Y0–WISE J173835.53+273259.0 (HST/WFC3; Cushing et al. 2011), and Y1–WISE J035000.32–565830.2 (HST/WFC3; Kirkpatrick et al. 2012)."
   ]
  },
  {
   "cell_type": "code",
   "execution_count": null,
   "metadata": {},
   "outputs": [],
   "source": []
  },
  {
   "cell_type": "code",
   "execution_count": 34,
   "metadata": {},
   "outputs": [],
   "source": [
    "yo_std=[x for x in spectra_schn if x.name=='WISE1738+2732'][0]\n",
    "y1_std=[x for x in spectra_schn if x.name=='WISE0350-5658'][0]"
   ]
  },
  {
   "cell_type": "code",
   "execution_count": 32,
   "metadata": {},
   "outputs": [],
   "source": [
    "#import splat.database as spd\n",
    "#spd.addUserSpectra(folder='/Volumes/Lacie/schneider/',\\\n",
    "#                              instrument='HST-WFC3',mode='update',search_str='*.txt',\\\n",
    "#        verbose=True)"
   ]
  },
  {
   "cell_type": "code",
   "execution_count": 41,
   "metadata": {},
   "outputs": [
    {
     "data": {
      "text/latex": [
       "$[3.2268699 \\times 10^{-19},~2.7935398 \\times 10^{-19},~2.4899534 \\times 10^{-19},~\\dots,~4.195772 \\times 10^{-19},~5.2637031 \\times 10^{-19},~6.5423493 \\times 10^{-19}] \\; \\mathrm{\\frac{erg}{\\mu m\\,s\\,cm^{2}}}$"
      ],
      "text/plain": [
       "<Quantity [3.22686988e-19, 2.79353975e-19, 2.48995343e-19, 2.35625374e-19,\n",
       "           2.28834486e-19, 2.31093060e-19, 2.31249527e-19, 2.27758248e-19,\n",
       "           2.38935287e-19, 2.24881761e-19, 2.08153226e-19, 2.12924605e-19,\n",
       "           2.13598835e-19, 2.02455631e-19, 2.04393125e-19, 1.95636087e-19,\n",
       "           1.93395245e-19, 2.06249946e-19, 1.98129799e-19, 1.86271105e-19,\n",
       "           1.77768989e-19, 1.74464107e-19, 1.76317980e-19, 1.83860039e-19,\n",
       "           1.97305973e-19, 1.80392663e-19, 1.84516666e-19, 1.81227504e-19,\n",
       "           1.94789382e-19, 2.01341227e-19, 1.98012802e-19, 2.11368994e-19,\n",
       "           2.14804251e-19, 2.19954532e-19, 2.39422341e-19, 2.40532166e-19,\n",
       "           2.30943580e-19, 2.16802093e-19, 2.00870172e-19, 1.86590049e-19,\n",
       "           1.75199126e-19, 1.65345802e-19, 1.57368393e-19, 1.50466808e-19,\n",
       "           1.44547772e-19, 1.44778098e-19, 1.40515900e-19, 1.42131132e-19,\n",
       "           1.37906048e-19, 1.32242835e-19, 1.29997449e-19, 1.30049472e-19,\n",
       "           1.28915679e-19, 1.26854881e-19, 1.25384526e-19, 1.25012438e-19,\n",
       "           1.25769027e-19, 1.32655302e-19, 1.36208304e-19, 1.36142697e-19,\n",
       "           1.31998720e-19, 1.32394002e-19, 1.28468249e-19, 1.30073625e-19,\n",
       "           1.27815314e-19, 1.22974270e-19, 1.26477899e-19, 1.29417627e-19,\n",
       "           1.36342130e-19, 1.33230790e-19, 1.22975174e-19, 1.22153012e-19,\n",
       "           1.21852541e-19, 1.20853717e-19, 1.20279261e-19, 1.21011295e-19,\n",
       "           1.19516547e-19, 1.18168981e-19, 1.17726348e-19, 1.20622993e-19,\n",
       "           1.22436005e-19, 1.21533962e-19, 1.17418395e-19, 1.17524289e-19,\n",
       "           1.17102175e-19, 1.16927467e-19, 1.16110069e-19, 1.15616505e-19,\n",
       "           1.19010864e-19, 1.17487566e-19, 1.17426001e-19, 1.17975199e-19,\n",
       "           1.19153729e-19, 1.20485391e-19, 1.21150014e-19, 1.24793856e-19,\n",
       "           1.28637594e-19, 1.34932731e-19, 1.42961596e-19, 1.42710959e-19,\n",
       "           1.44214791e-19, 1.46371744e-19, 1.52879021e-19, 1.53267351e-19,\n",
       "           1.46210945e-19, 1.41116445e-19, 1.34805543e-19, 1.27451138e-19,\n",
       "           1.25961439e-19, 1.25159881e-19, 1.17100264e-19, 1.16404872e-19,\n",
       "           1.18606932e-19, 1.19554906e-19, 1.17989902e-19, 1.18092348e-19,\n",
       "           1.18261446e-19, 1.19888007e-19, 1.25028770e-19, 1.23219773e-19,\n",
       "           1.30848367e-19, 1.44430362e-19, 1.65404600e-19, 1.98106420e-19,\n",
       "           2.46358080e-19, 3.20721336e-19, 4.19577203e-19, 5.26370314e-19,\n",
       "           6.54234928e-19] erg / (cm2 micron s)>"
      ]
     },
     "execution_count": 41,
     "metadata": {},
     "output_type": "execute_result"
    }
   ],
   "source": [
    "yo_std.noise"
   ]
  },
  {
   "cell_type": "code",
   "execution_count": 42,
   "metadata": {},
   "outputs": [],
   "source": [
    "y0_spex=splat.Spectrum(wave=yo_std.wave, flux=yo_std.flux, noise=yo_std.noise, \n",
    "                       instrument='WFC3-G141',\n",
    "                       name='WISE1738+2732',\n",
    "                       jmag=19.470,jmag_error=0.08,\n",
    "                       hmag=20.24, hmag_error=0.08)\n",
    "\n",
    "y1_spex=splat.Spectrum(wave=y1_std.wave, flux=y1_std.flux, noise=y1_std.noise, \n",
    "                       instrument='WFC3-G141', \n",
    "                       name='WISE0350-5658', jmag=22.09,jmag_error=0.1,\n",
    "                       hmag=22.51, hmag_error=0.2)"
   ]
  },
  {
   "cell_type": "code",
   "execution_count": 43,
   "metadata": {},
   "outputs": [],
   "source": [
    "data=pd.DataFrame({'name': ['WISE1738+2732', 'WISE0350-5658'], 'spec':[y0_spex, y1_spex], 'spt':['Y0.0', 'Y1.0']})"
   ]
  },
  {
   "cell_type": "code",
   "execution_count": 45,
   "metadata": {},
   "outputs": [],
   "source": [
    "data.to_pickle('/Volumes/Lacie/wispsdata/db/ystandards.pkl')"
   ]
  },
  {
   "cell_type": "code",
   "execution_count": 46,
   "metadata": {},
   "outputs": [],
   "source": [
    "data.to_pickle('~/ystandards.pkl')"
   ]
  },
  {
   "cell_type": "code",
   "execution_count": 52,
   "metadata": {},
   "outputs": [
    {
     "data": {
      "text/plain": [
       "WFC3-G141 spectrum of WISE1738+2732"
      ]
     },
     "execution_count": 52,
     "metadata": {},
     "output_type": "execute_result"
    }
   ],
   "source": [
    "data[data['spt']=='Y0.0'].spec.iloc[0]"
   ]
  },
  {
   "cell_type": "code",
   "execution_count": null,
   "metadata": {},
   "outputs": [],
   "source": [
    "#Add these lines to splat initiate standard\n",
    "#if t.upper().startswith('Y'):\n",
    "#df=pd.read_pickle('~/ystandards.pkl')\n",
    "#stds[t] =  df[df['spt']==t].spec.iloc[0]\n",
    "#stds[t].normalize()"
   ]
  }
 ],
 "metadata": {
  "kernelspec": {
   "display_name": "Python 3 (ipykernel)",
   "language": "python",
   "name": "python3"
  },
  "language_info": {
   "codemirror_mode": {
    "name": "ipython",
    "version": 3
   },
   "file_extension": ".py",
   "mimetype": "text/x-python",
   "name": "python",
   "nbconvert_exporter": "python",
   "pygments_lexer": "ipython3",
   "version": "3.9.7"
  }
 },
 "nbformat": 4,
 "nbformat_minor": 4
}
