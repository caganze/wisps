{
 "cells": [
  {
   "cell_type": "code",
   "execution_count": 1,
   "metadata": {},
   "outputs": [
    {
     "name": "stdout",
     "output_type": "stream",
     "text": [
      "Adding 2404 sources from /Users/caganze/research/splat//resources/Spectra/Public/SPEX-PRISM/ to spectral database\n",
      "Adding 145 sources from /Users/caganze/research/splat//resources/Spectra/Public/LRIS-RED/ to spectral database\n",
      "Adding 89 sources from /Users/caganze/research/splat//resources/Spectra/Public/MAGE/ to spectral database\n"
     ]
    }
   ],
   "source": [
    "import wisps\n",
    "import pandas as pd\n",
    "import numpy as np\n",
    "import matplotlib.pyplot as plt\n",
    "import wisps.simulations as wispsim\n",
    "import astropy.units as u\n",
    "import splat.empirical as spe\n",
    "import splat\n",
    "#plt.style.use('dark_background')"
   ]
  },
  {
   "cell_type": "markdown",
   "metadata": {},
   "source": [
    "Purpose: compare various luminosity functions"
   ]
  },
  {
   "cell_type": "code",
   "execution_count": 2,
   "metadata": {},
   "outputs": [],
   "source": [
    "%matplotlib inline"
   ]
  },
  {
   "cell_type": "code",
   "execution_count": 3,
   "metadata": {},
   "outputs": [],
   "source": [
    "import popsims"
   ]
  },
  {
   "cell_type": "code",
   "execution_count": 4,
   "metadata": {},
   "outputs": [],
   "source": [
    "baraffe=popsims.make_systems(model='baraffe2003', bfraction=0.2)\n",
    "saumon=popsims.make_systems(model='saumon2008', bfraction=0.2)\n",
    "sonora=popsims.make_systems(model='marley2019', bfraction=0.2)\n",
    "phillips=popsims.make_systems(model='phillips2020', bfraction=0.2)\n",
    "burrows=popsims.make_systems(model='burrows2001', bfraction=0.2)"
   ]
  },
  {
   "cell_type": "code",
   "execution_count": 5,
   "metadata": {},
   "outputs": [],
   "source": [
    "from astropy.io import ascii"
   ]
  },
  {
   "cell_type": "code",
   "execution_count": 6,
   "metadata": {},
   "outputs": [],
   "source": [
    "klf=pd.read_csv('/users/caganze/research/wisps/data/kirkpatricklf.txt', delimiter=',')\n",
    "dntb=ascii.read('/users/caganze/research/wisps/data/daniellalf.txt').to_pandas()"
   ]
  },
  {
   "cell_type": "code",
   "execution_count": 7,
   "metadata": {},
   "outputs": [],
   "source": [
    "def splat_mag_to_spt(mag):\n",
    "    grid=np.arange(17, 39)\n",
    "    rel=spe.typeToMag(grid, 'MKO_J',reference='dupuy2012')[0]\n",
    "    vals= np.polyval(rel, grid)\n",
    "    spt_sorted_idx=np.argsort(vals)\n",
    "    return np.interp(mag, vals[spt_sorted_idx], grid[spt_sorted_idx])\n",
    "       "
   ]
  },
  {
   "cell_type": "code",
   "execution_count": 8,
   "metadata": {},
   "outputs": [],
   "source": [
    "klf['tfm']=np.mean(np.array([klf.t0.values, klf.tf.values]), axis=0)"
   ]
  },
  {
   "cell_type": "code",
   "execution_count": 9,
   "metadata": {},
   "outputs": [],
   "source": [
    "klf['spt']=klf.tfm.apply(wispsim.splat_teff_to_spt).apply(round)"
   ]
  },
  {
   "cell_type": "code",
   "execution_count": 10,
   "metadata": {},
   "outputs": [],
   "source": [
    "klf=klf.applymap(float)"
   ]
  },
  {
   "cell_type": "code",
   "execution_count": 11,
   "metadata": {},
   "outputs": [],
   "source": [
    "dntb['spt']=dntb.M_J.apply(splat_mag_to_spt)"
   ]
  },
  {
   "cell_type": "code",
   "execution_count": 12,
   "metadata": {},
   "outputs": [],
   "source": [
    "def ryan_lf(J):\n",
    "    logphi=-0.30 + 0.11*(J-14) + 0.15*(J -14)**2.+ 0.015*(J-14)**3-0.00020*(J-14)**4\n",
    "    return (10**logphi)*(10**-3)\n",
    "\n",
    "    \n",
    "def custom_histogram(things, grid, binsize):\n",
    "    n=[]\n",
    "    for g in grid:\n",
    "        n.append(len(things[np.logical_and(g<=things, things< g+binsize)]))\n",
    "    return np.array(n)"
   ]
  },
  {
   "cell_type": "code",
   "execution_count": 13,
   "metadata": {},
   "outputs": [],
   "source": [
    "jgrid=np.arange(10, 18, .5)\n",
    "teffgrid=np.arange(50, 4000, 150)"
   ]
  },
  {
   "cell_type": "code",
   "execution_count": 14,
   "metadata": {},
   "outputs": [],
   "source": [
    "#the last point is a lower limit\n",
    "kirkpatrick2020LF={'bin_center':np.flip(np.array([2025, 1875, 1725, 1575, 1425, 1275, 1125 , 975, 825, 675, 525])), \n",
    "                   'values':np.flip(np.array([0.72, 0.50,0.78, 0.81,0.94, 1.95, 1.11, 1.72, 1.99, 2.80, 4.24])), \n",
    "                   'unc':np.flip(([0.18, 0.17, 0.20,0.20, 0.22, 0.3, 0.25, 0.3, 0.32, 0.37, 0.70]))}\n"
   ]
  },
  {
   "cell_type": "code",
   "execution_count": 15,
   "metadata": {},
   "outputs": [
    {
     "data": {
      "text/plain": [
       "2100"
      ]
     },
     "execution_count": 15,
     "metadata": {},
     "output_type": "execute_result"
    }
   ],
   "source": [
    "1950+150"
   ]
  },
  {
   "cell_type": "code",
   "execution_count": 16,
   "metadata": {},
   "outputs": [
    {
     "data": {
      "text/plain": [
       "array([ 450,  600,  750,  900, 1050, 1200, 1350, 1500, 1650, 1800, 1950,\n",
       "       2100])"
      ]
     },
     "execution_count": 16,
     "metadata": {},
     "output_type": "execute_result"
    }
   ],
   "source": [
    "binedges= np.append(kirkpatrick2020LF['bin_center']-75,\n",
    "                    kirkpatrick2020LF['bin_center'][-1]+75)\n",
    "                    \n",
    "binedges"
   ]
  },
  {
   "cell_type": "code",
   "execution_count": 17,
   "metadata": {},
   "outputs": [
    {
     "data": {
      "text/plain": [
       "{'bin_center': array([ 525,  675,  825,  975, 1125, 1275, 1425, 1575, 1725, 1875, 2025]),\n",
       " 'values': array([4.24, 2.8 , 1.99, 1.72, 1.11, 1.95, 0.94, 0.81, 0.78, 0.5 , 0.72]),\n",
       " 'unc': array([0.7 , 0.37, 0.32, 0.3 , 0.25, 0.3 , 0.22, 0.2 , 0.2 , 0.17, 0.18])}"
      ]
     },
     "execution_count": 17,
     "metadata": {},
     "output_type": "execute_result"
    }
   ],
   "source": [
    "kirkpatrick2020LF"
   ]
  },
  {
   "cell_type": "code",
   "execution_count": 18,
   "metadata": {},
   "outputs": [],
   "source": [
    "def scale_lf_teff(teffs):\n",
    "    binedges= np.append(kirkpatrick2020LF['bin_center']-75, kirkpatrick2020LF['bin_center'][-1]+75)\n",
    "    #bools=np.logical_and(teffs <= binedges[-1], teffs >= binedges[0])\n",
    "    #print (binedges[0], binedges[-1])\n",
    "    preds=np.histogram(teffs, bins=binedges, normed=False)[0]\n",
    "    \n",
    "    obs=np.array(kirkpatrick2020LF['values'])\n",
    "    unc=np.array(kirkpatrick2020LF['unc'])\n",
    "    \n",
    "    obs_monte_carlo= np.random.normal(obs, unc, (10000, len(obs)))\n",
    "    pred_monte= np.ones_like(obs_monte_carlo)*(preds)\n",
    "    unc_monte=  np.ones_like(obs_monte_carlo)*(unc)\n",
    "    \n",
    "    \n",
    "    \n",
    "    #unc_monte= \n",
    "    scale=(np.nansum((obs_monte_carlo*pred_monte)/(unc_monte**2), axis=1)\\\n",
    "           /np.nansum(((pred_monte**2)/(unc_monte**2)), axis=1))*(10**-3)\n",
    "    \n",
    "    \n",
    "    res=preds*np.nanmedian(scale), [np.nanmedian(scale), np.nanstd(scale), \\\n",
    "                                     np.sum(preds*np.nanmedian(scale))]\n",
    "    #fig, ax=plt.subplots()\n",
    "    #ax.step(kirkpatrick2020LF['bin_centertw'], preds*scale*(10**-3), where='mid')\n",
    "    #ax.errorbar(kirkpatrick2020LF['bin_center'], np.array(kirkpatrick2020LF['values'])*(10**-3),\n",
    "    #         yerr= np.array(kirkpatrick2020LF['unc'])*(10**-3), fmt='o', color='#111111')\n",
    "    return res"
   ]
  },
  {
   "cell_type": "code",
   "execution_count": 19,
   "metadata": {},
   "outputs": [
    {
     "data": {
      "text/plain": [
       "(array([1.047852e+06, 4.601700e+04, 0.000000e+00, 0.000000e+00,\n",
       "        0.000000e+00, 3.000000e+00, 4.900000e+01, 1.463000e+03,\n",
       "        9.490000e+02, 5.100000e+01]),\n",
       " array([  229.78423811,  2204.07573666,  4178.36723521,  6152.65873376,\n",
       "         8126.95023231, 10101.24173086, 12075.53322941, 14049.82472796,\n",
       "        16024.11622651, 17998.40772506, 19972.69922361]),\n",
       " [<matplotlib.patches.Polygon at 0x7ff0de571eb0>])"
      ]
     },
     "execution_count": 19,
     "metadata": {},
     "output_type": "execute_result"
    },
    {
     "name": "stderr",
     "output_type": "stream",
     "text": [
      "findfont: Font family ['serif'] not found. Falling back to DejaVu Sans.\n"
     ]
    },
    {
     "data": {
      "image/png": "[encoded data removed]",
      "text/plain": [
       "<Figure size 640x480 with 1 Axes>"
      ]
     },
     "metadata": {},
     "output_type": "display_data"
    }
   ],
   "source": [
    "fig, ax=plt.subplots()\n",
    "plt.hist(baraffe['temperature'], histtype='step', lw=4)\n",
    "plt.hist(saumon['temperature'], histtype='step', lw=4)"
   ]
  },
  {
   "cell_type": "code",
   "execution_count": 20,
   "metadata": {},
   "outputs": [],
   "source": [
    "klf['bin_center']=np.mean(np.array([klf.t0.values, klf.tf.values]), axis=0)\n",
    "klf=klf.replace(0.0,np.nan)"
   ]
  },
  {
   "cell_type": "code",
   "execution_count": 21,
   "metadata": {},
   "outputs": [],
   "source": [
    "teffs_bar=baraffe['temperature']\n",
    "teffs_saumon=saumon['temperature']\n",
    "teffs_sonora=sonora['temperature']\n",
    "teffs_phil=phillips['temperature']\n",
    "teffs_burr=burrows['temperature']\n",
    "\n",
    "#normteff_bar = 0.63*(10**-3)/ len(teffs_bar[np.logical_and(teffs_bar>=1650, teffs_bar <=1800)])\n",
    "#normteff_saumon = 0.63*(10**-3)/ len(teffs_saumon[np.logical_and(teffs_saumon>=1650, teffs_saumon <=1800)])\n",
    "#normteff_sonora= 0.63*(10**-3)/ len(teffs_sonora[np.logical_and(teffs_sonora>=1650, teffs_sonora <=1800)])\n",
    "#normteff_phil=0.63*(10**-3)/ len(teffs_phil[np.logical_and(teffs_phil>=1650, teffs_phil <=1800)])\n",
    "#jmags=wisps.drop_nan(spe.typeToMag(SIMULATED_DIST['spts'][0], '2MASS J')[0])\n",
    "#jnorm=6.570*(10**-3)/len(jmags[np.logical_and(jmags>=10.25-.25, jmags <=10.25+.25)])"
   ]
  },
  {
   "cell_type": "code",
   "execution_count": 22,
   "metadata": {},
   "outputs": [
    {
     "data": {
      "text/plain": [
       "(array([0.0039046 , 0.0029357 , 0.00230553, 0.00179828, 0.00140731,\n",
       "        0.00113068, 0.00090943, 0.00070891, 0.00060338, 0.00058993,\n",
       "        0.00060258]),\n",
       " [1.951939004389072e-08, 1.1437396966452898e-09, 0.016896335371012598])"
      ]
     },
     "execution_count": 22,
     "metadata": {},
     "output_type": "execute_result"
    }
   ],
   "source": [
    " scale_lf_teff(teffs_bar)"
   ]
  },
  {
   "cell_type": "code",
   "execution_count": 23,
   "metadata": {},
   "outputs": [],
   "source": [
    "#s0"
   ]
  },
  {
   "cell_type": "code",
   "execution_count": 24,
   "metadata": {},
   "outputs": [],
   "source": [
    "#sem_emp_phi_j=custom_histogram(jmags, jgrid, .5)*jnorm\n",
    "baraffe_phi_teff, s0= scale_lf_teff(teffs_bar)\n",
    "saumon_phi_teff, s1=scale_lf_teff(teffs_saumon)\n",
    "sonora_phi_teff, s2=scale_lf_teff(teffs_sonora)\n",
    "phil_phi_teff, s3=scale_lf_teff(teffs_phil)\n",
    "burr_phi_teff, s4=scale_lf_teff(teffs_burr)"
   ]
  },
  {
   "cell_type": "code",
   "execution_count": 25,
   "metadata": {},
   "outputs": [],
   "source": [
    "SCALE_FACTORS={'baraffe2003': s0, 'saumon2008': s1, \n",
    "               'marley2019': s2, 'phillips2020': s3, \n",
    "              'burrows2001':s4}"
   ]
  },
  {
   "cell_type": "code",
   "execution_count": 26,
   "metadata": {},
   "outputs": [
    {
     "data": {
      "text/plain": [
       "{'baraffe2003': [1.953420902384258e-08,\n",
       "  1.155015382312814e-09,\n",
       "  0.016909162946800567],\n",
       " 'saumon2008': [1.9853596612288464e-08,\n",
       "  1.1582364396163826e-09,\n",
       "  0.017004228280089434],\n",
       " 'marley2019': [1.9968596916159507e-08,\n",
       "  1.1712293081888756e-09,\n",
       "  0.01677855365301228],\n",
       " 'phillips2020': [2.0193746700185824e-08,\n",
       "  1.2032045840829727e-09,\n",
       "  0.01640436993814925],\n",
       " 'burrows2001': [2.0129339658385164e-08,\n",
       "  1.2066124272587738e-09,\n",
       "  0.016652600112588876]}"
      ]
     },
     "execution_count": 26,
     "metadata": {},
     "output_type": "execute_result"
    }
   ],
   "source": [
    "SCALE_FACTORS"
   ]
  },
  {
   "cell_type": "code",
   "execution_count": 27,
   "metadata": {},
   "outputs": [],
   "source": [
    "import pickle\n",
    "with open(wisps.OUTPUT_FILES+'/lf_scales.pkl', 'wb') as file:\n",
    "   pickle.dump(SCALE_FACTORS,file)"
   ]
  },
  {
   "cell_type": "code",
   "execution_count": 28,
   "metadata": {},
   "outputs": [],
   "source": [
    "#count how many things are in the masses of 0.1 and stuff and compare to 0.005 pc to 0.0037 pc^3\n",
    "\n",
    "#2 things doing this \n",
    "\n",
    "#teff-> bolometric correction -> simulated luminosity ---> magnitude\n",
    "\n",
    "#try will best's 2018 relation \n",
    "#and that we dont't complete samples for some magnitudes \n",
    "#compare to bochanski's measurement\n",
    "#look at the scale factors between those two plots you might you want\n",
    "\n",
    "#you should be plotting the fits that are \n",
    "#invert relations\n",
    "\n",
    "#invert\n",
    "\n",
    "#binary fraction (how many)\n",
    "#binary fraction random 20% \n",
    "#binary mass ratio from a distribution from splat (allen et al. from splat)\n",
    "#the secondary have a magnitude \n",
    "#the bianay \n",
    "#mag of the system by combining the flux\n",
    "#hst magnitude of the secondary by adding the \n",
    "#adding the\n",
    "#everything is laid out in burgasser 2007\n",
    "#educational exercise to find thre number of stars and brown dwarfs\n"
   ]
  },
  {
   "cell_type": "code",
   "execution_count": 29,
   "metadata": {},
   "outputs": [],
   "source": [
    "import seaborn as sns\n",
    "sns.set_palette(sns.color_palette('Paired'))"
   ]
  },
  {
   "cell_type": "code",
   "execution_count": 30,
   "metadata": {},
   "outputs": [],
   "source": [
    "#plt.style.use('dark_background')"
   ]
  },
  {
   "cell_type": "code",
   "execution_count": 31,
   "metadata": {},
   "outputs": [
    {
     "name": "stdout",
     "output_type": "stream",
     "text": [
      "[1 0 0 0 0 0 0 0 0 0 0]\n"
     ]
    },
    {
     "data": {
      "image/png": "[encoded data removed]",
      "text/plain": [
       "<Figure size 640x400 with 1 Axes>"
      ]
     },
     "metadata": {},
     "output_type": "display_data"
    }
   ],
   "source": [
    "fig, ax1=plt.subplots(figsize=(8, 5), ncols=1)\n",
    "#ax.step(jgrid, sem_emp_phi_j, color='#0074D9', label='Simulated')\n",
    "#ax.step(jgrid,  ryan_lf(jgrid), color='#FF4136', label='RyanJr2017')\n",
    "#ax.errorbar(dntb.M_J, dntb.Density*(10**-3), fmt='o', c='k', label='BG2019')\n",
    "\n",
    "#ax.set_xlabel('J', fontsize=18)\n",
    "#ax.set_ylabel(r'LF [pc$^{-3}$ mag$^{-1} $]', fontsize=18)\n",
    "#ax.minorticks_on()\n",
    "#ax.legend(fontsize=18)\n",
    "#ax.set_xlim([10, 16])\n",
    "#ax.set_ylim([0., 0.005])\n",
    "ax1.step(kirkpatrick2020LF['bin_center'], burr_phi_teff,  where='mid', linewidth=3)\n",
    "ax1.step(kirkpatrick2020LF['bin_center'], baraffe_phi_teff,  where='mid', linewidth=3)\n",
    "ax1.step(kirkpatrick2020LF['bin_center'], saumon_phi_teff, where='mid', linewidth=3)\n",
    "ax1.step(kirkpatrick2020LF['bin_center'], sonora_phi_teff, where='mid', linewidth=3)\n",
    "ax1.step(kirkpatrick2020LF['bin_center'], phil_phi_teff,  where='mid', linewidth=3)\n",
    "lolims=np.zeros(len(kirkpatrick2020LF['bin_center'])).astype(int)\n",
    "lolims[0]=int(1)\n",
    "\n",
    "print (lolims)\n",
    "ax1.errorbar(kirkpatrick2020LF['bin_center'], np.array(kirkpatrick2020LF['values'])*(10**-3),\n",
    "             yerr= np.array(kirkpatrick2020LF['unc'])*(10**-3),\n",
    "             fmt='o', color='k')\n",
    "\n",
    "#for index, row in klf.iterrows():\n",
    "#    if row.lf==0.0:\n",
    "#        pass\n",
    "#    elif row.lfunc==0.0:\n",
    "#        ax1.errorbar(row.tfm,  row.lf*(10**-3), yerr=0.0005, color='#B10DC9', fmt='o',lolims=True, ls='none')\n",
    "#    else:\n",
    "#        ax1.errorbar(row.tfm,  row.lf*(10**-3),  yerr=row.lfunc*(10**-3), color='#B10DC9', fmt='o')\n",
    "ax1.set_xlabel(r'T$_\\mathrm{eff}$ [K]', fontsize=18)\n",
    "ax1.set_ylabel(r'$\\frac{dN}{dT\\mathrm{eff}}$ [ K$^{-1}$ pc$^{-3}$]', fontsize=18)\n",
    "ax1.minorticks_on()\n",
    "ax1.legend(fontsize=18, labels=['B01', 'B03',  'SM08',  'M19',  'P20',  'K20'])\n",
    "ax1.set_xlim([2100, 450.])\n",
    "plt.tight_layout()\n",
    "plt.savefig(wisps.OUTPUT_FIGURES+'/lfs_teffs_plus_binaries.pdf',bbox_inches='tight',  facecolor='white', transparent=False)"
   ]
  },
  {
   "cell_type": "code",
   "execution_count": 32,
   "metadata": {},
   "outputs": [],
   "source": [
    "#ghj"
   ]
  },
  {
   "cell_type": "code",
   "execution_count": 33,
   "metadata": {},
   "outputs": [],
   "source": [
    "import splat.empirical as spe"
   ]
  },
  {
   "cell_type": "code",
   "execution_count": 34,
   "metadata": {},
   "outputs": [],
   "source": [
    "#"
   ]
  },
  {
   "cell_type": "code",
   "execution_count": 35,
   "metadata": {},
   "outputs": [],
   "source": [
    "#ms=get_mko_mag(baraffe['system_spts'].flatten())"
   ]
  },
  {
   "cell_type": "code",
   "execution_count": 36,
   "metadata": {},
   "outputs": [],
   "source": [
    "#plt.scatter(baraffe['system_spts'].flatten(), ms,  s=1)\n"
   ]
  },
  {
   "cell_type": "code",
   "execution_count": null,
   "metadata": {},
   "outputs": [],
   "source": []
  },
  {
   "cell_type": "code",
   "execution_count": 37,
   "metadata": {},
   "outputs": [],
   "source": [
    "#js_saumon=wisps.absolute_magnitude_jh(np.sort(saumon['system_spts'].flatten()))[0]\n",
    "#js_bar=wisps.absolute_magnitude_jh(np.sort( baraffe['system_spts'].flatten()))[0]\n",
    "#js_sonora=wisps.absolute_magnitude_jh(np.sort( sonora['system_spts'].flatten()))[0]\n",
    "#js_phil=wisps.absolute_magnitude_jh(np.sort( phillips['system_spts'].flatten()))[0]\n",
    "\n",
    "js_saumon=saumon['abs_2MASS_J'].values.flatten()\n",
    "js_bar=baraffe['abs_2MASS_J'].values.flatten()\n",
    "js_sonora=sonora['abs_2MASS_J'].values.flatten()\n",
    "js_phil=phillips['abs_2MASS_J'].values.flatten()\n",
    "js_burr=burrows['abs_2MASS_J'].values.flatten()"
   ]
  },
  {
   "cell_type": "code",
   "execution_count": null,
   "metadata": {},
   "outputs": [],
   "source": []
  },
  {
   "cell_type": "code",
   "execution_count": 38,
   "metadata": {},
   "outputs": [],
   "source": [
    "CRUZ={\"J\":np.array([10.75, 11.25, 11.75, 12.25, 12.75, 13.25, 13.75, 14.25, 14.75]),\n",
    "      \"lf\": np.array([2.38, 1.66, 1.16, 0.83, 0.50, 0.58, 0.50, 0.66, 0.33]),\n",
    "     'er':np.array([0.64, 0.37, 0.31, 0.26, 0.20, 0.22, 0.20, 0.23, 0.17])}\n",
    "\n",
    "DNLF={\"J\": dntb.M_J.values, 'lf': dntb.Density.values, \n",
    "     \"er\":[[1.39, 0.39, 0.29, 0.20, 0.18, 0.15, 0.41, 0.16, 0.15], \n",
    "           [1.62, 4.14, 0.31, 0.23, 0.20, 0.18, 1.65, 0.18, 0.18]]}"
   ]
  },
  {
   "cell_type": "code",
   "execution_count": 39,
   "metadata": {},
   "outputs": [],
   "source": [
    "DNLF['er_tot']=np.nanmedian(\n",
    "    DNLF['er'], axis=0)"
   ]
  },
  {
   "cell_type": "code",
   "execution_count": 40,
   "metadata": {},
   "outputs": [
    {
     "data": {
      "text/plain": [
       "12.25"
      ]
     },
     "execution_count": 40,
     "metadata": {},
     "output_type": "execute_result"
    }
   ],
   "source": [
    "DNLF['J'][np.argmin(DNLF['er_tot'])]"
   ]
  },
  {
   "cell_type": "code",
   "execution_count": 41,
   "metadata": {},
   "outputs": [
    {
     "data": {
      "text/plain": [
       "1.1"
      ]
     },
     "execution_count": 41,
     "metadata": {},
     "output_type": "execute_result"
    }
   ],
   "source": [
    "DNLF['lf'][np.argmin(DNLF['er_tot'])]"
   ]
  },
  {
   "cell_type": "code",
   "execution_count": 42,
   "metadata": {},
   "outputs": [],
   "source": [
    "mask=np.logical_and(DNLF['J'] < 14.5, DNLF['J'] > 10.5)\n",
    "\n",
    "def scale_lf_jmag(js):\n",
    "    #mask=np.logical_and(DNLF['J'] <= 15.5, DNLF['J'] >= 10.)\n",
    "    jgrid=np.array(DNLF['J'])[mask]\n",
    "    print (jgrid)\n",
    "    obs=np.array(DNLF['lf'])[mask]\n",
    "    unc=np.array(DNLF['er_tot'])[mask]\n",
    "    binedges= np.append(jgrid-0.25, jgrid[-1]+0.25)\n",
    "    #binedges=jgrid\n",
    "    print (binedges)\n",
    "    preds=np.histogram(js, bins=binedges, normed=False)[0]\n",
    "    \n",
    "   \n",
    "    obs_monte_carlo= np.random.normal(obs, unc, (10000, len(obs)))\n",
    "    pred_monte= np.ones_like(obs_monte_carlo)*(preds)\n",
    "    unc_monte=  np.ones_like(obs_monte_carlo)*(unc)\n",
    "    \n",
    "  \n",
    "    #unc_monte= \n",
    "    scale=(np.nansum((obs_monte_carlo*pred_monte)/(unc_monte**2), axis=1)\\\n",
    "           /np.nansum(((pred_monte**2)/(unc_monte**2)), axis=1))*(10**-3)\n",
    "    \n",
    "    \n",
    "    res=preds*np.nanmedian(scale), [np.nanmedian(scale), np.nanstd(scale), \\\n",
    "                                     np.sum(preds*np.nanmedian(scale))]\n",
    "    \n",
    "\n",
    "    #scale=np.nansum((obs*preds)/(unc**2))/np.nansum(((preds**2)/(unc**2)))\n",
    "    #bools=np.logical_and(js > 12., js< 12.5)\n",
    "    #print (res)\n",
    "    #scale= \n",
    "    return res[0]\n",
    "    #return 1.1*preds/len(js[bools])"
   ]
  },
  {
   "cell_type": "code",
   "execution_count": 43,
   "metadata": {},
   "outputs": [
    {
     "name": "stdout",
     "output_type": "stream",
     "text": [
      "[10.75 11.25 11.75 12.25 12.75 13.25 13.75]\n",
      "[10.5 11.  11.5 12.  12.5 13.  13.5 14. ]\n",
      "[10.75 11.25 11.75 12.25 12.75 13.25 13.75]\n",
      "[10.5 11.  11.5 12.  12.5 13.  13.5 14. ]\n",
      "[10.75 11.25 11.75 12.25 12.75 13.25 13.75]\n",
      "[10.5 11.  11.5 12.  12.5 13.  13.5 14. ]\n",
      "[10.75 11.25 11.75 12.25 12.75 13.25 13.75]\n",
      "[10.5 11.  11.5 12.  12.5 13.  13.5 14. ]\n",
      "[10.75 11.25 11.75 12.25 12.75 13.25 13.75]\n",
      "[10.5 11.  11.5 12.  12.5 13.  13.5 14. ]\n"
     ]
    }
   ],
   "source": [
    "baraffe_phi_j=scale_lf_jmag(js_bar)#*(10**-3)\n",
    "saumon_phi_j=scale_lf_jmag(js_saumon)#*(10**-3)\n",
    "sonora_phi_j=scale_lf_jmag(js_sonora)#*(10**-3)\n",
    "phil_phi_j=scale_lf_jmag(js_phil)#*(10**-3)\\\n",
    "burr_phi_j=scale_lf_jmag(js_burr)"
   ]
  },
  {
   "cell_type": "code",
   "execution_count": 44,
   "metadata": {},
   "outputs": [],
   "source": [
    "jgrid=np.array(DNLF['J'])[mask]"
   ]
  },
  {
   "cell_type": "code",
   "execution_count": 45,
   "metadata": {},
   "outputs": [
    {
     "data": {
      "text/plain": [
       "(7, 7)"
      ]
     },
     "execution_count": 45,
     "metadata": {},
     "output_type": "execute_result"
    }
   ],
   "source": [
    "len(jgrid), len(saumon_phi_j)"
   ]
  },
  {
   "cell_type": "code",
   "execution_count": 46,
   "metadata": {},
   "outputs": [],
   "source": [
    "#DNLF['J'][bools]"
   ]
  },
  {
   "cell_type": "code",
   "execution_count": 47,
   "metadata": {},
   "outputs": [
    {
     "data": {
      "image/png": "[encoded data removed]",
      "text/plain": [
       "<Figure size 640x480 with 1 Axes>"
      ]
     },
     "metadata": {},
     "output_type": "display_data"
    }
   ],
   "source": [
    "fig, ax1=plt.subplots(figsize=(8, 6), ncols=1)\n",
    "#plt.step(jgrid, ryan_lf(jgrid))\n",
    "\n",
    "plt.step(jgrid, burr_phi_j, linewidth=3, where='mid')\n",
    "plt.step(jgrid, baraffe_phi_j, linewidth=3, where='mid')\n",
    "plt.step(jgrid, saumon_phi_j, linewidth=3, where='mid')\n",
    "plt.step(jgrid, sonora_phi_j, linewidth=3, where='mid')\n",
    "plt.step(jgrid,phil_phi_j, linewidth=3, where='mid')\n",
    "plt.step(jgrid, ryan_lf(jgrid), \\\n",
    "          linewidth=3, where='mid', linestyle='-.')\n",
    "\n",
    "#plt.fill_between(jgrid, np.array(baraffe_phi_j)-0.00016, np.array(baraffe_phi_j)+0.00018,  step=\"pre\")\n",
    "\n",
    "plt.errorbar(DNLF['J'], DNLF['lf']*0.001, yerr=np.array(DNLF['er'])*0.001,color='#111111', fmt='o')\n",
    "plt.errorbar(CRUZ['J'], np.array(CRUZ['lf'])*0.001, yerr=np.array(CRUZ['er'])*0.001,color='#B10DC9', fmt='o')\n",
    "\n",
    "\n",
    "ax1.set_xlabel(r'$M_J$ [mag]', fontsize=18)\n",
    "ax1.set_ylabel(r'$\\frac{dN}{dM_J}$ [mag $^{-1}$ pc$^{-3}$]', fontsize=18)\n",
    "ax1.minorticks_on()\n",
    "ax1.legend(fontsize=18, labels=[ 'B01', 'B03', 'SM08', 'M19', 'P20', 'R16', 'B19', \n",
    "                               'C07'])\n",
    "plt.tight_layout()\n",
    "plt.xlim(10.5, 14.)\n",
    "plt.ylim([0.00, 0.006])\n",
    "plt.savefig(wisps.OUTPUT_FIGURES+'/lfs_js_plus_binaries_teff.pdf',  bbox_inches='tight')"
   ]
  },
  {
   "cell_type": "code",
   "execution_count": 48,
   "metadata": {},
   "outputs": [],
   "source": [
    "#other diagnostics\n",
    "#plt.hist(burrows['system_'])"
   ]
  },
  {
   "cell_type": "code",
   "execution_count": 49,
   "metadata": {},
   "outputs": [],
   "source": [
    "ydf=pd.read_pickle('/users/caganze/y_standards.pkl')"
   ]
  },
  {
   "cell_type": "code",
   "execution_count": 50,
   "metadata": {},
   "outputs": [
    {
     "data": {
      "text/latex": [
       "$[1.3285635 \\times 10^{-18},~9.8557513 \\times 10^{-19},~6.6973268 \\times 10^{-19},~\\dots,~1.9037891 \\times 10^{-19},~2.5777352 \\times 10^{-19},~8.5578776 \\times 10^{-20}] \\; \\mathrm{\\frac{erg}{\\mu m\\,s\\,cm^{2}}}$"
      ],
      "text/plain": [
       "<Quantity [ 1.32856353e-18,  9.85575134e-19,  6.69732679e-19,\n",
       "            4.16216842e-19,  2.96913731e-19,  2.53695329e-19,\n",
       "            1.37803474e-19,  2.16473557e-19,  9.73708785e-20,\n",
       "            2.33206237e-19,  2.41318645e-19,  1.98920847e-19,\n",
       "           -1.36325070e-20,  2.54795122e-20, -2.30349185e-20,\n",
       "           -4.58408495e-20,  3.38777157e-19,  3.95284314e-19,\n",
       "            1.55983070e-19,  2.33259915e-19,  6.52956791e-19,\n",
       "            9.01209772e-19,  1.11815437e-18,  1.46171102e-18,\n",
       "            1.81982727e-18,  2.53406172e-18,  3.21444078e-18,\n",
       "            3.88965843e-18,  4.75153680e-18,  6.00811483e-18,\n",
       "            7.27785294e-18,  8.75843970e-18,  1.01089599e-17,\n",
       "            1.12026998e-17,  1.21881182e-17,  1.33842789e-17,\n",
       "            1.30093027e-17,  1.13356724e-17,  9.31107367e-18,\n",
       "            7.46802246e-18,  5.78816846e-18,  4.34509127e-18,\n",
       "            3.32058731e-18,  2.49312337e-18,  1.72030311e-18,\n",
       "            1.16032805e-18,  7.81519795e-19,  6.04750679e-19,\n",
       "            3.15008866e-19,  5.08498972e-20, -2.60536199e-19,\n",
       "           -7.37438692e-20, -1.39260867e-20, -7.98124793e-20,\n",
       "           -1.58770816e-19, -1.99522635e-19, -1.60818318e-19,\n",
       "           -2.25924069e-19, -1.80322078e-19, -2.13395315e-19,\n",
       "           -1.58330812e-19, -6.37135859e-20, -7.42746971e-20,\n",
       "           -8.15326827e-20, -1.45888219e-19, -2.06257035e-19,\n",
       "           -4.01408650e-20,  1.41117925e-19,  2.04902591e-20,\n",
       "            1.15069143e-20, -1.52364462e-19, -1.46875099e-19,\n",
       "           -1.29220428e-19, -8.72887070e-20,  6.31476205e-20,\n",
       "            9.92910226e-20, -6.60623343e-20, -8.41343702e-20,\n",
       "           -2.13724589e-20, -5.75625912e-20, -2.21684842e-20,\n",
       "           -7.71079894e-20, -1.17320910e-19,  1.07241451e-19,\n",
       "            1.96256451e-19,  1.51737047e-19,  5.77178249e-20,\n",
       "            4.00864739e-21,  1.99315421e-19,  2.58553515e-19,\n",
       "            4.66110681e-19,  6.71437386e-19,  7.08985186e-19,\n",
       "            9.15508224e-19,  1.28427727e-18,  1.52709037e-18,\n",
       "            1.83217863e-18,  2.34433276e-18,  3.03880866e-18,\n",
       "            3.76803180e-18,  4.57783506e-18,  5.13840642e-18,\n",
       "            5.58219593e-18,  6.01472612e-18,  5.71510622e-18,\n",
       "            4.98991542e-18,  3.87854522e-18,  2.80758372e-18,\n",
       "            1.85927874e-18,  9.51717494e-19,  5.52289716e-19,\n",
       "            2.60512339e-19,  8.66378170e-20,  2.38203219e-20,\n",
       "            9.51594988e-21,  6.86738259e-20,  5.32708674e-20,\n",
       "            1.94930839e-20,  1.46905893e-19,  2.52209910e-19,\n",
       "            1.32826897e-19,  8.51444508e-20,  1.46504806e-20,\n",
       "           -2.88556633e-19, -5.03588018e-19, -5.23191643e-19,\n",
       "            1.90378913e-19,  2.57773524e-19,  8.55787762e-20] erg / (cm2 micron s)>"
      ]
     },
     "execution_count": 50,
     "metadata": {},
     "output_type": "execute_result"
    }
   ],
   "source": [
    "ydf[ydf.spt=='Y0.0'].spec.values[0].flux"
   ]
  },
  {
   "cell_type": "code",
   "execution_count": 51,
   "metadata": {},
   "outputs": [
    {
     "data": {
      "text/plain": [
       "0    WISE1738+2732\n",
       "1    WISE0350-5658\n",
       "Name: name, dtype: object"
      ]
     },
     "execution_count": 51,
     "metadata": {},
     "output_type": "execute_result"
    }
   ],
   "source": [
    "ydf.name"
   ]
  },
  {
   "cell_type": "code",
   "execution_count": null,
   "metadata": {},
   "outputs": [],
   "source": []
  }
 ],
 "metadata": {
  "kernelspec": {
   "display_name": "Python 3",
   "language": "python",
   "name": "python3"
  },
  "language_info": {
   "codemirror_mode": {
    "name": "ipython",
    "version": 3
   },
   "file_extension": ".py",
   "mimetype": "text/x-python",
   "name": "python",
   "nbconvert_exporter": "python",
   "pygments_lexer": "ipython3",
   "version": "3.8.5"
  }
 },
 "nbformat": 4,
 "nbformat_minor": 4
}
