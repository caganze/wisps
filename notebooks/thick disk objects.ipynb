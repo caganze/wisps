{
 "cells": [
  {
   "cell_type": "code",
   "execution_count": 1,
   "metadata": {},
   "outputs": [
    {
     "name": "stdout",
     "output_type": "stream",
     "text": [
      "Adding 89 sources from /Users/caganze/research/splat//resources/Spectra/Public/MAGE/ to spectral database\n",
      "Adding 2404 sources from /Users/caganze/research/splat//resources/Spectra/Public/SPEX-PRISM/ to spectral database\n",
      "Adding 145 sources from /Users/caganze/research/splat//resources/Spectra/Public/LRIS-RED/ to spectral database\n"
     ]
    }
   ],
   "source": [
    "import numpy as np\n",
    "import matplotlib.pyplot as plt\n",
    "import popsims \n",
    "import wisps\n",
    "import pandas as pd\n",
    "import wisps.simulations as wispsim\n",
    "from tqdm import tqdm \n",
    "import astropy.units as u\n",
    "import numba\n",
    "%matplotlib inline"
   ]
  },
  {
   "cell_type": "code",
   "execution_count": 3,
   "metadata": {},
   "outputs": [
    {
     "data": {
      "text/plain": [
       "'/volumes/LaCie/wispsdata/db/'"
      ]
     },
     "execution_count": 3,
     "metadata": {},
     "output_type": "execute_result"
    }
   ],
   "source": []
  },
  {
   "cell_type": "code",
   "execution_count": 6,
   "metadata": {},
   "outputs": [
    {
     "ename": "FileNotFoundError",
     "evalue": "[Errno 2] No such file or directory: '/volumes/LaCie/wispsdata/db/baraffe2003.pkl'",
     "output_type": "error",
     "traceback": [
      "\u001b[0;31m---------------------------------------------------------------------------\u001b[0m",
      "\u001b[0;31mFileNotFoundError\u001b[0m                         Traceback (most recent call last)",
      "\u001b[0;32m<ipython-input-6-ad55525a4f17>\u001b[0m in \u001b[0;36m<module>\u001b[0;34m\u001b[0m\n\u001b[1;32m      8\u001b[0m     nsample=5e4, filename=popsims.DATA_FOLDER+'/{}_thick.pkl'.format(m))})\n\u001b[1;32m      9\u001b[0m \u001b[0;34m\u001b[0m\u001b[0m\n\u001b[0;32m---> 10\u001b[0;31m     p_data.update({m+'thin': popsims.make_systems(model=m, \n\u001b[0m\u001b[1;32m     11\u001b[0m                                                   \u001b[0mrecompute\u001b[0m\u001b[0;34m=\u001b[0m\u001b[0;32mFalse\u001b[0m\u001b[0;34m,\u001b[0m  \u001b[0mmass_age_range\u001b[0m\u001b[0;34m=\u001b[0m\u001b[0;34m[\u001b[0m\u001b[0;36m0.01\u001b[0m\u001b[0;34m,\u001b[0m \u001b[0;36m0.01\u001b[0m\u001b[0;34m,\u001b[0m \u001b[0;36m0.001\u001b[0m\u001b[0;34m,\u001b[0m \u001b[0;36m8.0\u001b[0m\u001b[0;34m]\u001b[0m\u001b[0;34m,\u001b[0m\u001b[0;34m\u001b[0m\u001b[0;34m\u001b[0m\u001b[0m\n\u001b[1;32m     12\u001b[0m                   nsample=5e4, filename=popsims.DATA_FOLDER+'{}.pkl'.format(m))})\n",
      "\u001b[0;32m~/research/popsims/popsims/core.py\u001b[0m in \u001b[0;36mmake_systems\u001b[0;34m(bfraction, recompute, model, mass_age_range, nsample, return_singles, **kwargs)\u001b[0m\n\u001b[1;32m    190\u001b[0m     \u001b[0;31m#quick but dirty\u001b[0m\u001b[0;34m\u001b[0m\u001b[0;34m\u001b[0m\u001b[0;34m\u001b[0m\u001b[0m\n\u001b[1;32m    191\u001b[0m     \u001b[0;32mif\u001b[0m \u001b[0;34m'filename'\u001b[0m \u001b[0;32min\u001b[0m \u001b[0mkwargs\u001b[0m\u001b[0;34m:\u001b[0m\u001b[0;34m\u001b[0m\u001b[0;34m\u001b[0m\u001b[0m\n\u001b[0;32m--> 192\u001b[0;31m         mods=simulate_spts(name=model,\n\u001b[0m\u001b[1;32m    193\u001b[0m                                    \u001b[0mrecompute\u001b[0m\u001b[0;34m=\u001b[0m\u001b[0mrecompute\u001b[0m\u001b[0;34m,\u001b[0m \u001b[0mrange\u001b[0m\u001b[0;34m=\u001b[0m\u001b[0mmass_age_range\u001b[0m\u001b[0;34m,\u001b[0m\u001b[0;31m\\\u001b[0m\u001b[0;34m\u001b[0m\u001b[0;34m\u001b[0m\u001b[0m\n\u001b[1;32m    194\u001b[0m                               nsample=nsample, filename= kwargs.get('filename', ''))\n",
      "\u001b[0;32m~/research/popsims/popsims/core.py\u001b[0m in \u001b[0;36msimulate_spts\u001b[0;34m(**kwargs)\u001b[0m\n\u001b[1;32m    149\u001b[0m            \u001b[0mpickle\u001b[0m\u001b[0;34m.\u001b[0m\u001b[0mdump\u001b[0m\u001b[0;34m(\u001b[0m\u001b[0mvalues\u001b[0m\u001b[0;34m,\u001b[0m\u001b[0mfile\u001b[0m\u001b[0;34m)\u001b[0m\u001b[0;34m\u001b[0m\u001b[0;34m\u001b[0m\u001b[0m\n\u001b[1;32m    150\u001b[0m     \u001b[0;32melse\u001b[0m\u001b[0;34m:\u001b[0m\u001b[0;34m\u001b[0m\u001b[0;34m\u001b[0m\u001b[0m\n\u001b[0;32m--> 151\u001b[0;31m         \u001b[0mvalues\u001b[0m\u001b[0;34m=\u001b[0m\u001b[0mpd\u001b[0m\u001b[0;34m.\u001b[0m\u001b[0mread_pickle\u001b[0m\u001b[0;34m(\u001b[0m\u001b[0mfilename\u001b[0m\u001b[0;34m)\u001b[0m\u001b[0;34m\u001b[0m\u001b[0;34m\u001b[0m\u001b[0m\n\u001b[0m\u001b[1;32m    152\u001b[0m \u001b[0;34m\u001b[0m\u001b[0m\n\u001b[1;32m    153\u001b[0m     \u001b[0;32mreturn\u001b[0m \u001b[0mvalues\u001b[0m\u001b[0;34m\u001b[0m\u001b[0;34m\u001b[0m\u001b[0m\n",
      "\u001b[0;32m/opt/anaconda3/lib/python3.8/site-packages/pandas/io/pickle.py\u001b[0m in \u001b[0;36mread_pickle\u001b[0;34m(filepath_or_buffer, compression, storage_options)\u001b[0m\n\u001b[1;32m    183\u001b[0m     \"\"\"\n\u001b[1;32m    184\u001b[0m     \u001b[0mexcs_to_catch\u001b[0m \u001b[0;34m=\u001b[0m \u001b[0;34m(\u001b[0m\u001b[0mAttributeError\u001b[0m\u001b[0;34m,\u001b[0m \u001b[0mImportError\u001b[0m\u001b[0;34m,\u001b[0m \u001b[0mModuleNotFoundError\u001b[0m\u001b[0;34m,\u001b[0m \u001b[0mTypeError\u001b[0m\u001b[0;34m)\u001b[0m\u001b[0;34m\u001b[0m\u001b[0;34m\u001b[0m\u001b[0m\n\u001b[0;32m--> 185\u001b[0;31m     with get_handle(\n\u001b[0m\u001b[1;32m    186\u001b[0m         \u001b[0mfilepath_or_buffer\u001b[0m\u001b[0;34m,\u001b[0m\u001b[0;34m\u001b[0m\u001b[0;34m\u001b[0m\u001b[0m\n\u001b[1;32m    187\u001b[0m         \u001b[0;34m\"rb\"\u001b[0m\u001b[0;34m,\u001b[0m\u001b[0;34m\u001b[0m\u001b[0;34m\u001b[0m\u001b[0m\n",
      "\u001b[0;32m/opt/anaconda3/lib/python3.8/site-packages/pandas/io/common.py\u001b[0m in \u001b[0;36mget_handle\u001b[0;34m(path_or_buf, mode, encoding, compression, memory_map, is_text, errors, storage_options)\u001b[0m\n\u001b[1;32m    649\u001b[0m         \u001b[0;32melse\u001b[0m\u001b[0;34m:\u001b[0m\u001b[0;34m\u001b[0m\u001b[0;34m\u001b[0m\u001b[0m\n\u001b[1;32m    650\u001b[0m             \u001b[0;31m# Binary mode\u001b[0m\u001b[0;34m\u001b[0m\u001b[0;34m\u001b[0m\u001b[0;34m\u001b[0m\u001b[0m\n\u001b[0;32m--> 651\u001b[0;31m             \u001b[0mhandle\u001b[0m \u001b[0;34m=\u001b[0m \u001b[0mopen\u001b[0m\u001b[0;34m(\u001b[0m\u001b[0mhandle\u001b[0m\u001b[0;34m,\u001b[0m \u001b[0mioargs\u001b[0m\u001b[0;34m.\u001b[0m\u001b[0mmode\u001b[0m\u001b[0;34m)\u001b[0m\u001b[0;34m\u001b[0m\u001b[0;34m\u001b[0m\u001b[0m\n\u001b[0m\u001b[1;32m    652\u001b[0m         \u001b[0mhandles\u001b[0m\u001b[0;34m.\u001b[0m\u001b[0mappend\u001b[0m\u001b[0;34m(\u001b[0m\u001b[0mhandle\u001b[0m\u001b[0;34m)\u001b[0m\u001b[0;34m\u001b[0m\u001b[0;34m\u001b[0m\u001b[0m\n\u001b[1;32m    653\u001b[0m \u001b[0;34m\u001b[0m\u001b[0m\n",
      "\u001b[0;31mFileNotFoundError\u001b[0m: [Errno 2] No such file or directory: '/volumes/LaCie/wispsdata/db/baraffe2003.pkl'"
     ]
    }
   ],
   "source": [
    "#basic parameters with the usual assumptions \n",
    "model='baraffe2003'\n",
    "models=[model]\n",
    "p_data={}\n",
    "for m in models:\n",
    "    p_data.update({m:\\\n",
    "    popsims.make_systems(model=m, recompute=True, mass_age_range=[0.01, 0.1, 8, 14.0],\\\n",
    "    nsample=5e4, filename=popsims.DATA_FOLDER+'/{}_thick.pkl'.format(m))})\n",
    "    \n",
    "    p_data.update({m+'thin': popsims.make_systems(model=m, \n",
    "                                                  recompute=False,  mass_age_range=[0.01, 0.01, 0.001, 8.0],\n",
    "                  nsample=5e4, filename=popsims.DATA_FOLDER+'{}.pkl'.format(m))})"
   ]
  },
  {
   "cell_type": "code",
   "execution_count": null,
   "metadata": {},
   "outputs": [],
   "source": [
    "popsims.make_systems?"
   ]
  },
  {
   "cell_type": "code",
   "execution_count": 7,
   "metadata": {},
   "outputs": [
    {
     "ename": "FileNotFoundError",
     "evalue": "[Errno 2] No such file or directory: '/volumes/TOSHIBA/wispsdata/db/burrows2001.pkl'",
     "output_type": "error",
     "traceback": [
      "\u001b[0;31m---------------------------------------------------------------------------\u001b[0m",
      "\u001b[0;31mFileNotFoundError\u001b[0m                         Traceback (most recent call last)",
      "\u001b[0;32m<ipython-input-7-f07f93a20441>\u001b[0m in \u001b[0;36m<module>\u001b[0;34m\u001b[0m\n\u001b[0;32m----> 1\u001b[0;31m res=popsims.make_systems(model_name='burrows2001', recompute=True,  range=[0.01, 0.1, 0.001, 8.0],\n\u001b[0m\u001b[1;32m      2\u001b[0m                   nsample=1e6, filename='/volumes/TOSHIBA/wispsdata/db/{}.pkl'.format('burrows2001'))\n\u001b[1;32m      3\u001b[0m baraff=popsims.make_systems(model_name='baraffe2003', recompute=True,  range=[0.01, 0.1, 0.001, 8.0],\n\u001b[1;32m      4\u001b[0m                   nsample=1e6, filename='/volumes/TOSHIBA/wispsdata/db/{}.pkl'.format('baraffe2003'))\n\u001b[1;32m      5\u001b[0m \u001b[0;34m\u001b[0m\u001b[0m\n",
      "\u001b[0;32m~/research/popsims/popsims/core.py\u001b[0m in \u001b[0;36mmake_systems\u001b[0;34m(bfraction, recompute, model, mass_age_range, nsample, return_singles, **kwargs)\u001b[0m\n\u001b[1;32m    190\u001b[0m     \u001b[0;31m#quick but dirty\u001b[0m\u001b[0;34m\u001b[0m\u001b[0;34m\u001b[0m\u001b[0;34m\u001b[0m\u001b[0m\n\u001b[1;32m    191\u001b[0m     \u001b[0;32mif\u001b[0m \u001b[0;34m'filename'\u001b[0m \u001b[0;32min\u001b[0m \u001b[0mkwargs\u001b[0m\u001b[0;34m:\u001b[0m\u001b[0;34m\u001b[0m\u001b[0;34m\u001b[0m\u001b[0m\n\u001b[0;32m--> 192\u001b[0;31m         mods=simulate_spts(name=model,\n\u001b[0m\u001b[1;32m    193\u001b[0m                                    \u001b[0mrecompute\u001b[0m\u001b[0;34m=\u001b[0m\u001b[0mrecompute\u001b[0m\u001b[0;34m,\u001b[0m \u001b[0mrange\u001b[0m\u001b[0;34m=\u001b[0m\u001b[0mmass_age_range\u001b[0m\u001b[0;34m,\u001b[0m\u001b[0;31m\\\u001b[0m\u001b[0;34m\u001b[0m\u001b[0;34m\u001b[0m\u001b[0m\n\u001b[1;32m    194\u001b[0m                               nsample=nsample, filename= kwargs.get('filename', ''))\n",
      "\u001b[0;32m~/research/popsims/popsims/core.py\u001b[0m in \u001b[0;36msimulate_spts\u001b[0;34m(**kwargs)\u001b[0m\n\u001b[1;32m    146\u001b[0m \u001b[0;34m\u001b[0m\u001b[0m\n\u001b[1;32m    147\u001b[0m         \u001b[0;32mimport\u001b[0m \u001b[0mpickle\u001b[0m\u001b[0;34m\u001b[0m\u001b[0;34m\u001b[0m\u001b[0m\n\u001b[0;32m--> 148\u001b[0;31m         \u001b[0;32mwith\u001b[0m \u001b[0mopen\u001b[0m\u001b[0;34m(\u001b[0m\u001b[0mfilename\u001b[0m\u001b[0;34m,\u001b[0m \u001b[0;34m'wb'\u001b[0m\u001b[0;34m)\u001b[0m \u001b[0;32mas\u001b[0m \u001b[0mfile\u001b[0m\u001b[0;34m:\u001b[0m\u001b[0;34m\u001b[0m\u001b[0;34m\u001b[0m\u001b[0m\n\u001b[0m\u001b[1;32m    149\u001b[0m            \u001b[0mpickle\u001b[0m\u001b[0;34m.\u001b[0m\u001b[0mdump\u001b[0m\u001b[0;34m(\u001b[0m\u001b[0mvalues\u001b[0m\u001b[0;34m,\u001b[0m\u001b[0mfile\u001b[0m\u001b[0;34m)\u001b[0m\u001b[0;34m\u001b[0m\u001b[0;34m\u001b[0m\u001b[0m\n\u001b[1;32m    150\u001b[0m     \u001b[0;32melse\u001b[0m\u001b[0;34m:\u001b[0m\u001b[0;34m\u001b[0m\u001b[0;34m\u001b[0m\u001b[0m\n",
      "\u001b[0;31mFileNotFoundError\u001b[0m: [Errno 2] No such file or directory: '/volumes/TOSHIBA/wispsdata/db/burrows2001.pkl'"
     ]
    }
   ],
   "source": [
    "\n",
    "res=popsims.make_systems(model_name='burrows2001', recompute=True,  range=[0.01, 0.1, 0.001, 8.0],\n",
    "                  nsample=1e6, filename='/volumes/TOSHIBA/wispsdata/db/{}.pkl'.format('burrows2001'))\n",
    "baraff=popsims.make_systems(model_name='baraffe2003', recompute=True,  range=[0.01, 0.1, 0.001, 8.0],\n",
    "                  nsample=1e6, filename='/volumes/TOSHIBA/wispsdata/db/{}.pkl'.format('baraffe2003'))\n",
    "\n",
    "popsims.DATA_FOLDER"
   ]
  },
  {
   "cell_type": "code",
   "execution_count": 8,
   "metadata": {},
   "outputs": [
    {
     "ename": "NameError",
     "evalue": "name 'res' is not defined",
     "output_type": "error",
     "traceback": [
      "\u001b[0;31m---------------------------------------------------------------------------\u001b[0m",
      "\u001b[0;31mNameError\u001b[0m                                 Traceback (most recent call last)",
      "\u001b[0;32m<ipython-input-8-e62960c2d65d>\u001b[0m in \u001b[0;36m<module>\u001b[0;34m\u001b[0m\n\u001b[1;32m      1\u001b[0m \u001b[0mfig\u001b[0m\u001b[0;34m,\u001b[0m \u001b[0max\u001b[0m\u001b[0;34m=\u001b[0m\u001b[0mplt\u001b[0m\u001b[0;34m.\u001b[0m\u001b[0msubplots\u001b[0m\u001b[0;34m(\u001b[0m\u001b[0;34m)\u001b[0m\u001b[0;34m\u001b[0m\u001b[0;34m\u001b[0m\u001b[0m\n\u001b[0;32m----> 2\u001b[0;31m h=plt.hist(res['temperature'], bins='auto', histtype='step', label='Burro', \n\u001b[0m\u001b[1;32m      3\u001b[0m            range=[100, 3000], lw=3, density=True)\n\u001b[1;32m      4\u001b[0m h=plt.hist(baraff['temperature'], bins='auto', range=[100, 3000], density=True,\n\u001b[1;32m      5\u001b[0m            histtype='step', label='Baraffe', lw=3)\n",
      "\u001b[0;31mNameError\u001b[0m: name 'res' is not defined"
     ]
    },
    {
     "name": "stderr",
     "output_type": "stream",
     "text": [
      "findfont: Font family ['serif'] not found. Falling back to DejaVu Sans.\n"
     ]
    },
    {
     "data": {
      "image/png": "[encoded data removed]",
      "text/plain": [
       "<Figure size 432x288 with 1 Axes>"
      ]
     },
     "metadata": {
      "needs_background": "light"
     },
     "output_type": "display_data"
    }
   ],
   "source": [
    "fig, ax=plt.subplots()\n",
    "h=plt.hist(res['temperature'], bins='auto', histtype='step', label='Burro', \n",
    "           range=[100, 3000], lw=3, density=True)\n",
    "h=plt.hist(baraff['temperature'], bins='auto', range=[100, 3000], density=True,\n",
    "           histtype='step', label='Baraffe', lw=3)\n",
    "plt.legend()\n",
    "ax.set(title='Teff')"
   ]
  },
  {
   "cell_type": "code",
   "execution_count": 9,
   "metadata": {},
   "outputs": [
    {
     "ename": "NameError",
     "evalue": "name 'res' is not defined",
     "output_type": "error",
     "traceback": [
      "\u001b[0;31m---------------------------------------------------------------------------\u001b[0m",
      "\u001b[0;31mNameError\u001b[0m                                 Traceback (most recent call last)",
      "\u001b[0;32m<ipython-input-9-59d5cec843c3>\u001b[0m in \u001b[0;36m<module>\u001b[0;34m\u001b[0m\n\u001b[1;32m      1\u001b[0m \u001b[0mfig\u001b[0m\u001b[0;34m,\u001b[0m \u001b[0max\u001b[0m\u001b[0;34m=\u001b[0m\u001b[0mplt\u001b[0m\u001b[0;34m.\u001b[0m\u001b[0msubplots\u001b[0m\u001b[0;34m(\u001b[0m\u001b[0;34m)\u001b[0m\u001b[0;34m\u001b[0m\u001b[0;34m\u001b[0m\u001b[0m\n\u001b[0;32m----> 2\u001b[0;31m h=plt.hist(res['spt'], histtype='step', label='Baraffe', \n\u001b[0m\u001b[1;32m      3\u001b[0m            range=[17, 40], bins= 40-17, lw=3, density=True)\n\u001b[1;32m      4\u001b[0m h=plt.hist(baraff['system_spts'], bins= 40-17, range=[17, 40], density=True,\n\u001b[1;32m      5\u001b[0m            histtype='step', label='Burrows', lw=3)\n",
      "\u001b[0;31mNameError\u001b[0m: name 'res' is not defined"
     ]
    },
    {
     "data": {
      "image/png": "[encoded data removed]",
      "text/plain": [
       "<Figure size 432x288 with 1 Axes>"
      ]
     },
     "metadata": {
      "needs_background": "light"
     },
     "output_type": "display_data"
    }
   ],
   "source": [
    "fig, ax=plt.subplots()\n",
    "h=plt.hist(res['spt'], histtype='step', label='Baraffe', \n",
    "           range=[17, 40], bins= 40-17, lw=3, density=True)\n",
    "h=plt.hist(baraff['system_spts'], bins= 40-17, range=[17, 40], density=True,\n",
    "           histtype='step', label='Burrows', lw=3)\n",
    "plt.legend()\n",
    "ax.set(title='SpT')"
   ]
  },
  {
   "cell_type": "code",
   "execution_count": 10,
   "metadata": {},
   "outputs": [
    {
     "ename": "NameError",
     "evalue": "name 'res' is not defined",
     "output_type": "error",
     "traceback": [
      "\u001b[0;31m---------------------------------------------------------------------------\u001b[0m",
      "\u001b[0;31mNameError\u001b[0m                                 Traceback (most recent call last)",
      "\u001b[0;32m<ipython-input-10-d4cd485bbc4c>\u001b[0m in \u001b[0;36m<module>\u001b[0;34m\u001b[0m\n\u001b[1;32m      1\u001b[0m \u001b[0mfig\u001b[0m\u001b[0;34m,\u001b[0m \u001b[0max\u001b[0m\u001b[0;34m=\u001b[0m\u001b[0mplt\u001b[0m\u001b[0;34m.\u001b[0m\u001b[0msubplots\u001b[0m\u001b[0;34m(\u001b[0m\u001b[0;34m)\u001b[0m\u001b[0;34m\u001b[0m\u001b[0;34m\u001b[0m\u001b[0m\n\u001b[0;32m----> 2\u001b[0;31m h=plt.hist(res['system_age'], histtype='step', label='Baraffe', \n\u001b[0m\u001b[1;32m      3\u001b[0m            bins= 40-17, lw=3, density=True)\n\u001b[1;32m      4\u001b[0m h=plt.hist(baraff['system_age'], bins= 40-17,  density=True,\n\u001b[1;32m      5\u001b[0m            histtype='step', label='Burrows', lw=3)\n",
      "\u001b[0;31mNameError\u001b[0m: name 'res' is not defined"
     ]
    },
    {
     "data": {
      "image/png": "[encoded data removed]",
      "text/plain": [
       "<Figure size 432x288 with 1 Axes>"
      ]
     },
     "metadata": {
      "needs_background": "light"
     },
     "output_type": "display_data"
    }
   ],
   "source": [
    "fig, ax=plt.subplots()\n",
    "h=plt.hist(res['system_age'], histtype='step', label='Baraffe', \n",
    "           bins= 40-17, lw=3, density=True)\n",
    "h=plt.hist(baraff['system_age'], bins= 40-17,  density=True,\n",
    "           histtype='step', label='Burrows', lw=3)\n",
    "plt.legend()\n",
    "ax.set(title='Age')"
   ]
  },
  {
   "cell_type": "code",
   "execution_count": 11,
   "metadata": {},
   "outputs": [
    {
     "ename": "NameError",
     "evalue": "name 'res' is not defined",
     "output_type": "error",
     "traceback": [
      "\u001b[0;31m---------------------------------------------------------------------------\u001b[0m",
      "\u001b[0;31mNameError\u001b[0m                                 Traceback (most recent call last)",
      "\u001b[0;32m<ipython-input-11-936352d4288f>\u001b[0m in \u001b[0;36m<module>\u001b[0;34m\u001b[0m\n\u001b[1;32m      1\u001b[0m \u001b[0mfig\u001b[0m\u001b[0;34m,\u001b[0m \u001b[0max\u001b[0m\u001b[0;34m=\u001b[0m\u001b[0mplt\u001b[0m\u001b[0;34m.\u001b[0m\u001b[0msubplots\u001b[0m\u001b[0;34m(\u001b[0m\u001b[0;34m)\u001b[0m\u001b[0;34m\u001b[0m\u001b[0;34m\u001b[0m\u001b[0m\n\u001b[0;32m----> 2\u001b[0;31m h=plt.hist(res['system_mass'], histtype='step', label='Baraffe', \n\u001b[0m\u001b[1;32m      3\u001b[0m            bins= 40-17, lw=3, density=True)\n\u001b[1;32m      4\u001b[0m h=plt.hist(baraff['system_mass'], bins= 40-17,  density=True,\n\u001b[1;32m      5\u001b[0m            histtype='step', label='Burrows', lw=3)\n",
      "\u001b[0;31mNameError\u001b[0m: name 'res' is not defined"
     ]
    },
    {
     "data": {
      "image/png": "[encoded data removed]",
      "text/plain": [
       "<Figure size 432x288 with 1 Axes>"
      ]
     },
     "metadata": {
      "needs_background": "light"
     },
     "output_type": "display_data"
    }
   ],
   "source": [
    "fig, ax=plt.subplots()\n",
    "h=plt.hist(res['system_mass'], histtype='step', label='Baraffe', \n",
    "           bins= 40-17, lw=3, density=True)\n",
    "h=plt.hist(baraff['system_mass'], bins= 40-17,  density=True,\n",
    "           histtype='step', label='Burrows', lw=3)\n",
    "plt.legend()\n",
    "ax.set(title='Mass')"
   ]
  },
  {
   "cell_type": "code",
   "execution_count": 12,
   "metadata": {},
   "outputs": [],
   "source": [
    "import seaborn as sns"
   ]
  },
  {
   "cell_type": "code",
   "execution_count": 13,
   "metadata": {},
   "outputs": [],
   "source": [
    "colors1 = plt.cm.coolwarm(np.linspace(0., 1, 256))\n",
    "colors2=plt.cm.YlOrBr(np.linspace(0., 1, 256))\n",
    "colors = np.vstack((colors1+colors1+colors2)/3)\n",
    "import matplotlib.colors as mcolors\n",
    "mymap=mcolors.LinearSegmentedColormap.from_list('my_colormap', colors)"
   ]
  },
  {
   "cell_type": "code",
   "execution_count": 14,
   "metadata": {},
   "outputs": [],
   "source": [
    "def plot_grid(model, ax):\n",
    "\n",
    "    model_filename=wispsim.EVOL_MODELS_FOLDER+'//'+model.lower()+'.csv'\n",
    "\n",
    "    evolutiomodel=pd.read_csv( model_filename)\n",
    "\n",
    "    evolutiomodel['logmass']=np.log10(evolutiomodel.mass)\n",
    "\n",
    "    evolutiomodel['logage']=np.log10(evolutiomodel.age)\n",
    "\n",
    "    #mp=ax.scatter(np.log10(evolutiomodel.mass), np.log10(evolutiomodel.age), \n",
    "\n",
    "    #              c=evolutiomodel.temperature, vmin=200, vmax=3100, cmap=mymap, marker='*', s=200)8\n",
    "    \n",
    "\n",
    "    print  (model)\n",
    "\n",
    "    print ('mass',evolutiomodel['mass'].min(), evolutiomodel['mass'].max())\n",
    "\n",
    "    print ('age',evolutiomodel['age'].min(), evolutiomodel['age'].max())\n",
    "\n",
    "    print ('temperature',evolutiomodel['temperature'].min(), evolutiomodel['temperature'].max())\n",
    "\n",
    "   \n",
    "\n",
    "    \n",
    "\n",
    "    \n",
    "\n",
    "    sns.lineplot(data=evolutiomodel, x=\"logage\", y=\"temperature\", hue=\"logmass\", palette='cividis', \n",
    "\n",
    "                 linewidth=2.5, ax=ax, legend=False, hue_norm=(-3.31,-0.6), err_style=None)\n",
    "\n",
    "    \n",
    "\n",
    "    \n",
    "\n",
    "    #evolutiomodel.plot.hexbin(x='logmass', y='logage', C='temperature', reduce_C_function=np.nanmean, gridsize=15, cmap=mymap, ax=ax)\n",
    "    return "
   ]
  },
  {
   "cell_type": "code",
   "execution_count": 15,
   "metadata": {},
   "outputs": [
    {
     "data": {
      "text/plain": [
       "2655.2141656000003"
      ]
     },
     "execution_count": 15,
     "metadata": {},
     "output_type": "execute_result"
    }
   ],
   "source": [
    "import splat.empirical as spe\n",
    "spe.typeToTeff('M7.0')[0].value"
   ]
  },
  {
   "cell_type": "code",
   "execution_count": 16,
   "metadata": {},
   "outputs": [],
   "source": [
    "import seaborn as sns"
   ]
  },
  {
   "cell_type": "code",
   "execution_count": 17,
   "metadata": {},
   "outputs": [
    {
     "ename": "NameError",
     "evalue": "name 'res' is not defined",
     "output_type": "error",
     "traceback": [
      "\u001b[0;31m---------------------------------------------------------------------------\u001b[0m",
      "\u001b[0;31mNameError\u001b[0m                                 Traceback (most recent call last)",
      "\u001b[0;32m<ipython-input-17-081d3c7e5daa>\u001b[0m in \u001b[0;36m<module>\u001b[0;34m\u001b[0m\n\u001b[1;32m      1\u001b[0m \u001b[0mfig\u001b[0m\u001b[0;34m,\u001b[0m\u001b[0;34m(\u001b[0m\u001b[0max\u001b[0m\u001b[0;34m,\u001b[0m \u001b[0max1\u001b[0m\u001b[0;34m)\u001b[0m\u001b[0;34m=\u001b[0m\u001b[0mplt\u001b[0m\u001b[0;34m.\u001b[0m\u001b[0msubplots\u001b[0m\u001b[0;34m(\u001b[0m\u001b[0mncols\u001b[0m\u001b[0;34m=\u001b[0m\u001b[0;36m2\u001b[0m\u001b[0;34m,\u001b[0m \u001b[0mfigsize\u001b[0m\u001b[0;34m=\u001b[0m\u001b[0;34m(\u001b[0m\u001b[0;36m10\u001b[0m\u001b[0;34m,\u001b[0m \u001b[0;36m4\u001b[0m\u001b[0;34m)\u001b[0m\u001b[0;34m,\u001b[0m \u001b[0msharex\u001b[0m\u001b[0;34m=\u001b[0m\u001b[0;32mTrue\u001b[0m\u001b[0;34m,\u001b[0m \u001b[0msharey\u001b[0m\u001b[0;34m=\u001b[0m\u001b[0;32mTrue\u001b[0m\u001b[0;34m)\u001b[0m\u001b[0;34m\u001b[0m\u001b[0;34m\u001b[0m\u001b[0m\n\u001b[1;32m      2\u001b[0m \u001b[0;34m\u001b[0m\u001b[0m\n\u001b[0;32m----> 3\u001b[0;31m ax.scatter( np.log10(res['age']), res['temperature'], c= np.log10(res['mass']),\n\u001b[0m\u001b[1;32m      4\u001b[0m             alpha=0.1, s=1, cmap='cividis',vmin=-3.31, vmax=-0.6)\n\u001b[1;32m      5\u001b[0m \u001b[0mplot_grid\u001b[0m\u001b[0;34m(\u001b[0m\u001b[0;34m'burrows2001'\u001b[0m\u001b[0;34m,\u001b[0m \u001b[0max\u001b[0m\u001b[0;34m)\u001b[0m\u001b[0;34m\u001b[0m\u001b[0;34m\u001b[0m\u001b[0m\n",
      "\u001b[0;31mNameError\u001b[0m: name 'res' is not defined"
     ]
    },
    {
     "data": {
      "image/png": "[encoded data removed]",
      "text/plain": [
       "<Figure size 720x288 with 2 Axes>"
      ]
     },
     "metadata": {
      "needs_background": "light"
     },
     "output_type": "display_data"
    }
   ],
   "source": [
    "fig,(ax, ax1)=plt.subplots(ncols=2, figsize=(10, 4), sharex=True, sharey=True)\n",
    "\n",
    "ax.scatter( np.log10(res['age']), res['temperature'], c= np.log10(res['mass']),\n",
    "            alpha=0.1, s=1, cmap='cividis',vmin=-3.31, vmax=-0.6)\n",
    "plot_grid('burrows2001', ax)\n",
    "\n",
    "ax1.scatter( np.log10(baraff['age']), baraff['temperature'], c= np.log10(baraff['mass']),\n",
    "            alpha=0.1, s=1, cmap='cividis', vmin=-3.31, vmax=-0.6)\n",
    "plot_grid('baraffe2003', ax1)\n",
    "ax.set(title='B01', ylim=[300, 3000])\n",
    "ax1.set(title='B03', ylim=[300, 3000])\n",
    "\n",
    "ax.axhline(spe.typeToTeff('M7.0')[0].value, linestyle='--', color='k')\n",
    "ax1.axhline(spe.typeToTeff('M7.0')[0].value, linestyle='--', color='k')\n",
    "\n",
    "\n",
    "plt.tight_layout()"
   ]
  },
  {
   "cell_type": "code",
   "execution_count": null,
   "metadata": {},
   "outputs": [],
   "source": [
    "JKL"
   ]
  },
  {
   "cell_type": "code",
   "execution_count": null,
   "metadata": {},
   "outputs": [],
   "source": [
    "import matplotlib"
   ]
  },
  {
   "cell_type": "code",
   "execution_count": null,
   "metadata": {},
   "outputs": [],
   "source": [
    "mymap='cividis'"
   ]
  },
  {
   "cell_type": "code",
   "execution_count": null,
   "metadata": {},
   "outputs": [],
   "source": [
    "\n",
    "fig, ax=plt.subplots(figsize=(12, 8))\n",
    "plot_grid('burrows2001', ax)\n",
    "\n",
    "ax.set_ylabel(r'T$_\\mathrm{eff}$ (K)', fontsize=18)\n",
    "ax.set_xlabel(r'Log Age (Gyr)', fontsize=18)\n",
    "ax.minorticks_on()\n",
    "\n",
    "\n",
    "cax = fig.add_axes([0.4, .82, .4, 0.03])\n",
    "norm=norm = matplotlib.colors.Normalize(vmin=-3.31,vmax=-0.6)\n",
    "mp=matplotlib.cm.ScalarMappable(norm=norm, cmap=mymap)\n",
    "cbar=plt.colorbar(mp, cax=cax, orientation='horizontal')\n",
    "cbar.ax.set_xlabel(r'Mass (Msun)', fontsize=18)\n",
    "cbar.ax.set_xticks([10**-3, 10**-2.5, 10**-2, 10**-1.5, 10**-1])\n",
    "cbar.ax.set_xticklabels([r'10$^{-3}$', r'10$^{-2.5}$', r'10$^{-2}$', r'10$^{-1.5}$', r'10$^{-1}$'])    \n",
    "\n",
    "ax.set(xlabel='Log Age (Gyr)')\n",
    "plt.savefig(wisps.OUTPUT_FIGURES+'/burrows_grid.pdf', bbox_inches='tight')"
   ]
  },
  {
   "cell_type": "code",
   "execution_count": null,
   "metadata": {},
   "outputs": [],
   "source": [
    "#np.nanmedian(rands_s)"
   ]
  },
  {
   "cell_type": "code",
   "execution_count": null,
   "metadata": {},
   "outputs": [],
   "source": [
    "#plt.hist(rands_s)\n",
    "#plt.axvline(np.nanmedian(rands_s), c='k', linestyle='--')"
   ]
  },
  {
   "cell_type": "code",
   "execution_count": null,
   "metadata": {},
   "outputs": [],
   "source": [
    "#h=plt.hist(p_data[model]['system_spts'], range=[17, 40], bins=10, density=True, histtype='step')\n",
    "#h=plt.hist(p_data[model+'thin']['system_spts'], range=[17, 40], bins=10, density=True, histtype='step')"
   ]
  },
  {
   "cell_type": "code",
   "execution_count": null,
   "metadata": {},
   "outputs": [],
   "source": [
    " DISTANCE_SAMPLES=pd.read_pickle(wisps.OUTPUT_FILES+'/distance_samples{}.gz'.format(800))"
   ]
  },
  {
   "cell_type": "code",
   "execution_count": null,
   "metadata": {},
   "outputs": [],
   "source": [
    "thin_pnts=pd.read_pickle(wisps.OUTPUT_FILES+'/pointings_correctedf110.pkl')"
   ]
  },
  {
   "cell_type": "code",
   "execution_count": null,
   "metadata": {},
   "outputs": [],
   "source": [
    "\n",
    "#create new_pointings withe same parameters but different scaleheights "
   ]
  },
  {
   "cell_type": "code",
   "execution_count": null,
   "metadata": {},
   "outputs": [],
   "source": [
    "#wispsim.MAG_LIMITS"
   ]
  },
  {
   "cell_type": "code",
   "execution_count": null,
   "metadata": {},
   "outputs": [],
   "source": [
    "#get_numbers?\n",
    "@numba.jit(nopython=True)\n",
    "def fit_snr_exptime(ts, mag, d, e, f):\n",
    "    return d*mag+e*np.log(ts/1000)+f\n",
    "\n",
    "def get_snr(exp_grism, appf110s, appf140s, appf160s):\n",
    "    #print (exp_grism)\n",
    "    snrjs110= 10**(fit_snr_exptime(  exp_grism, appf110s, *list(wispsim.MAG_LIMITS['snr_exp']['F110'])))\n",
    "    snrjs140= 10**(fit_snr_exptime(  exp_grism, appf140s, *list(wispsim.MAG_LIMITS['snr_exp']['F140'])))\n",
    "    snrjs160= 10**(fit_snr_exptime(  exp_grism, appf160s, *list(wispsim.MAG_LIMITS['snr_exp']['F160'])))\n",
    "    return np.nanmin(np.vstack([snrjs110, snrjs140, snrjs160]), axis=0)\n",
    "    \n",
    "def format_maglimits(wisp_limits):\n",
    "    return {'WFC3_F110W':[16, wisp_limits['F110']],\\\n",
    "           'WFC3_F140W':[16, wisp_limits['F140']],\\\n",
    "           'WFC3_F160W':[16,wisp_limits['F160']]}\n",
    "\n",
    "def make_cuts(df, dcts, expt):\n",
    "    snr=get_snr(expt, df.WFC3_F110W.values, df.WFC3_F140W.values, df.WFC3_F160W.values)\n",
    "    bools0=np.logical_or.reduce([df[k]< dcts[k][1] for k in dcts.keys()])\n",
    "    return df[np.logical_and(bools0, snr>=3)]\n",
    "\n",
    "def get_average_distance_limits(p, cuts):\n",
    "    p.mag_limits=cuts\n",
    "    return dict(pd.DataFrame(p.distance_limits).applymap(lambda x: \\\n",
    "                    x[1]).apply(lambda x: np.nanmedian(x), axis=1))"
   ]
  },
  {
   "cell_type": "code",
   "execution_count": null,
   "metadata": {},
   "outputs": [],
   "source": [
    "fov=4.1*(u.arcmin**2)\n",
    "lf=pd.read_pickle(popsims.DATA_FOLDER+'/lf_scales.pkl')\n",
    "        #scale lf"
   ]
  },
  {
   "cell_type": "code",
   "execution_count": null,
   "metadata": {},
   "outputs": [],
   "source": [
    "#thin_pnt_index=np.arange(0, len(thin_pnts))"
   ]
  },
  {
   "cell_type": "code",
   "execution_count": null,
   "metadata": {},
   "outputs": [],
   "source": [
    "def get_numbers(w_pnts, fov, model_name='baraffe2003'):\n",
    "    pointings=[popsims.Pointing(coord=p.coord, name=p.name) for p in tqdm(w_pnts)]\n",
    "    mlimits=[x.mag_limits for x in w_pnts]\n",
    "    exptimes=[x.exposure_time for x in w_pnts]\n",
    "    NCOUNTS={}\n",
    "    COUNT_DF={}\n",
    "    for pintdex, pz in tqdm(enumerate(w_pnts)):\n",
    "        \n",
    "        scale=lf['baraffe2003']\n",
    "        teffs=p_data[model_name]['temperature']\n",
    "        spts= p_data[model_name]['spt']\n",
    "        mask= np.logical_and( spts>=17, spts<=41)\n",
    "        sn=len(teffs[np.logical_and(teffs>=450, teffs<=1950)])\n",
    "        \n",
    "        p= popsims.Pointing(coord=pz.coord, name=pz.name) \n",
    "        ml=pz.mag_limits\n",
    "        cuts=format_maglimits(ml)\n",
    "        spt_r=np.floor(spts).astype(int)[mask]\n",
    "        dct= get_average_distance_limits(p, cuts)\n",
    "    \n",
    "        assert (len(spts[mask])== len(p_data[model_name]['age'][mask]))\n",
    "\n",
    "            \n",
    "        ds= np.array([np.random.choice(DISTANCE_SAMPLES[k][pintdex]) for k in spt_r])\n",
    "        #print (ds)\n",
    "        dff= popsims.create_population(p_data[model_name],p.coord, h=900, ds=ds, kind='disk', mask=mask)\n",
    "    \n",
    "        df_cut= make_cuts(dff, cuts, pz.exposure_time)\n",
    "        \n",
    "        nxbr_counts=[]\n",
    "        \n",
    "        for spt in np.arange(17, 40):\n",
    "            sptvol=popsims.volume_calc(p.coord.galactic.l.radian, p.coord.galactic.b.radian,\n",
    "                                       1., dct[spt], 900)*(fov.to(u.radian**2)).value\n",
    "            df_select= df_cut[np.logical_and(df_cut.spt>=spt, df_cut.spt<spt+0.99)]\n",
    "            \n",
    "\n",
    "            nbrs=len(df_select)\n",
    "            cnbrs=nbrs*sptvol*(scale[-1]/sn)\n",
    "            nxbr_counts.append(cnbrs)\n",
    "        NCOUNTS[p.name]=np.array(nxbr_counts)\n",
    "        COUNT_DF[p.name]=df_cut\n",
    "        #NCOUNTS[p.name+'df']=df_cut\n",
    "    return NCOUNTS, COUNT_DF"
   ]
  },
  {
   "cell_type": "code",
   "execution_count": null,
   "metadata": {},
   "outputs": [],
   "source": [
    "#dff= popsims.create_population(p_data[m],thin_pnts[0].coord, h=900, kind='disk')"
   ]
  },
  {
   "cell_type": "code",
   "execution_count": null,
   "metadata": {},
   "outputs": [],
   "source": [
    "p_data['baraffe2003']['age']"
   ]
  },
  {
   "cell_type": "code",
   "execution_count": null,
   "metadata": {},
   "outputs": [],
   "source": [
    "#snrs=get_snr(thin_pnts[0].exposure_time,\\\n",
    "#        dff.WFC3_F110W.values,dff.WFC3_F140W.values,dff.WFC3_F160W.values)"
   ]
  },
  {
   "cell_type": "code",
   "execution_count": null,
   "metadata": {},
   "outputs": [],
   "source": [
    "#"
   ]
  },
  {
   "cell_type": "code",
   "execution_count": null,
   "metadata": {},
   "outputs": [],
   "source": [
    "#thin_pnts[:2]"
   ]
  },
  {
   "cell_type": "code",
   "execution_count": null,
   "metadata": {},
   "outputs": [],
   "source": [
    "#df_cut"
   ]
  },
  {
   "cell_type": "code",
   "execution_count": null,
   "metadata": {},
   "outputs": [],
   "source": [
    "NUMBERS, OUT_DF=get_numbers(thin_pnts, fov, model_name='baraffe2003')"
   ]
  },
  {
   "cell_type": "code",
   "execution_count": null,
   "metadata": {},
   "outputs": [],
   "source": [
    "#OUT_DF"
   ]
  },
  {
   "cell_type": "code",
   "execution_count": null,
   "metadata": {},
   "outputs": [],
   "source": [
    "def bin_by_spt_bin(sp_types, number, ltonly=False):\n",
    "    ranges=[[17, 20], [20, 25], [25, 30], [30, 35], [35, 40]]\n",
    "    if ltonly:\n",
    "        ranges=[[17, 20], [20, 30], [30, 41]]\n",
    "    numbers=[]\n",
    "    for r in ranges:\n",
    "        idx= np.logical_and((r[0]<=sp_types), (r[1]>sp_types))\n",
    "        numbers.append(np.nansum(number[idx]))\n",
    "    return numbers\n",
    "\n"
   ]
  },
  {
   "cell_type": "code",
   "execution_count": null,
   "metadata": {},
   "outputs": [],
   "source": [
    "def compute_volume(px, spt):\n",
    "    cuts=format_maglimits(px.mag_limits)\n",
    "    p=popsims.Pointing(coord=px.coord, name=px.name) \n",
    "    dct=get_average_distance_limits(p, cuts)\n",
    "    return popsims.volume_calc(p.coord.galactic.l.radian, p.coord.galactic.b.radian,\n",
    "                                       1., dct[spt], 900)*(fov.to(u.radian**2)).value"
   ]
  },
  {
   "cell_type": "code",
   "execution_count": null,
   "metadata": {},
   "outputs": [],
   "source": []
  },
  {
   "cell_type": "code",
   "execution_count": null,
   "metadata": {},
   "outputs": [],
   "source": [
    "ns=(pd.DataFrame(NUMBERS).sum(axis=1)).values"
   ]
  },
  {
   "cell_type": "code",
   "execution_count": null,
   "metadata": {},
   "outputs": [],
   "source": [
    "np.array(bin_by_spt_bin( np.arange(17, 40), ns, ltonly=False))*0.12 "
   ]
  },
  {
   "cell_type": "code",
   "execution_count": null,
   "metadata": {},
   "outputs": [],
   "source": []
  },
  {
   "cell_type": "code",
   "execution_count": null,
   "metadata": {},
   "outputs": [],
   "source": []
  }
 ],
 "metadata": {
  "kernelspec": {
   "display_name": "Python 3",
   "language": "python",
   "name": "python3"
  },
  "language_info": {
   "codemirror_mode": {
    "name": "ipython",
    "version": 3
   },
   "file_extension": ".py",
   "mimetype": "text/x-python",
   "name": "python",
   "nbconvert_exporter": "python",
   "pygments_lexer": "ipython3",
   "version": "3.8.5"
  }
 },
 "nbformat": 4,
 "nbformat_minor": 4
}
