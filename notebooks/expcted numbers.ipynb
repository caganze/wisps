{
 "cells": [
  {
   "cell_type": "code",
   "execution_count": 1,
   "metadata": {
    "scrolled": true
   },
   "outputs": [
    {
     "name": "stdout",
     "output_type": "stream",
     "text": [
      "/users/caganze/research/splat\n",
      "\n",
      "\n",
      "Welcome to the Spex Prism Library Analysis Toolkit (SPLAT)!\n",
      "If you make use of any features of this toolkit for your research, please remember to cite the SPLAT paper:\n",
      "\n",
      "Burgasser et al. (2017, Astro. Soc. India Conf. Series 14, p. 7); Bibcode: 2017ASInC..14....7B\n",
      "\n",
      "If you make use of any spectra or models in this toolkit, please remember to cite the original source.\n",
      "Please report any errors are feature requests to our github page, https://github.com/aburgasser/splat/\n",
      "\n",
      "\n"
     ]
    }
   ],
   "source": [
    "import wisps\n",
    "import numpy as np\n",
    "import matplotlib.pyplot as plt\n",
    "import wisps.simulations as wispsim\n",
    "import pandas as pd\n",
    "from tqdm import tqdm\n",
    "import seaborn as sns\n",
    "from matplotlib.colors import Normalize\n",
    "import astropy.units as u \n",
    "import wisps.simulations.effective_numbers as eff\n",
    "import seaborn as sns\n",
    "import matplotlib\n",
    "import popsims\n",
    "import itertools\n",
    "#plt.style.use('dark_background')\n",
    "\n",
    "\n",
    "%matplotlib inline"
   ]
  },
  {
   "cell_type": "code",
   "execution_count": 2,
   "metadata": {},
   "outputs": [
    {
     "data": {
      "text/plain": [
       "{'wisps': {'F110': (poly1d([ 1.20489888, 18.31086895]), 0.5038943667884174),\n",
       "  'F140': (poly1d([ 1.49122797, 17.14118556]), 0.7495636144809823),\n",
       "  'F160': (poly1d([ 1.36561328, 17.37352631]), 1.4165037712823727)},\n",
       " 'hst3d': {'F110': (None, nan),\n",
       "  'F140': (poly1d([-0.10025015, 22.66882951]), 0.21335391346949473),\n",
       "  'F160': (poly1d([ 0.14320198, 21.86199263]), 0.22142403753971857)},\n",
       " 'ncutoff': 50,\n",
       " 'snr_exp': {'F110': [-0.325132443138751,\n",
       "   0.45581918736688865,\n",
       "   1.7415826812146138,\n",
       "   19.0],\n",
       "  'F140': [-0.29813184509194934, 0.3806309280542064, 1.6254519593166021, 19.0],\n",
       "  'F160': [-0.3052935624170122,\n",
       "   0.44311870393629726,\n",
       "   1.6002181916033673,\n",
       "   19.0]},\n",
       " 'mag_unc_exp': {'F110': [19.0,\n",
       "   -0.34825934107482936,\n",
       "   0.25411795542413473,\n",
       "   -2.6922918095792334],\n",
       "  'F140': [19.0,\n",
       "   -0.4297747738627907,\n",
       "   0.25976823435662977,\n",
       "   -2.4103106665996568],\n",
       "  'F160': [19.0,\n",
       "   -0.34825934107482936,\n",
       "   0.25131407450441023,\n",
       "   -2.3670766523352955]},\n",
       " 'F110': (poly1d([ 1.20489888, 18.31086895]), 0.5038943667884174),\n",
       " 'F140': (poly1d([ 2.12204244, 15.72883812]), 0.8818377805795682),\n",
       " 'F160': (poly1d([ 0.938782  , 18.81585128]), 1.347672495695358),\n",
       " 'mag_limits': {'wisps': {'F110': (poly1d([ 1.25929308, 18.06154712]),\n",
       "    0.23360765612209988),\n",
       "   'F140': (poly1d([ 1.49122797, 17.14118556]), 0.29135610105223764),\n",
       "   'F160': (poly1d([ 1.36561328, 17.37352631]), 0.22849282117355352)}},\n",
       " 'mag_limits_imaging': {'wisps': {'F110': (poly1d([ 1.20489888, 18.31086895]),\n",
       "    0.2844013697684069),\n",
       "   'F140': (poly1d([ 1.49122797, 17.14118556]), 0.29135610105223764),\n",
       "   'F160': (poly1d([ 1.36561328, 17.37352631]), 0.22849282117355352)}},\n",
       " 'mag_limits_spectra': {'G141': {'F110': (poly1d([ 1.66755511, 16.2458525 ]),\n",
       "    0.2850291209517515),\n",
       "   'F140': (poly1d([ 2.72059274, 12.37276554]), 0.26907705512573377),\n",
       "   'F160': (poly1d([ 2.22620092, 13.9456257 ]), 0.3000711332357972)}}}"
      ]
     },
     "execution_count": 2,
     "metadata": {},
     "output_type": "execute_result"
    }
   ],
   "source": [
    " wispsim.MAG_LIMITS"
   ]
  },
  {
   "cell_type": "code",
   "execution_count": 3,
   "metadata": {},
   "outputs": [],
   "source": [
    "import popsims\n",
    "import splat"
   ]
  },
  {
   "cell_type": "code",
   "execution_count": 4,
   "metadata": {},
   "outputs": [],
   "source": [
    "sgrid=wispsim.SPGRID\n",
    "pnts=pd.read_pickle(wisps.OUTPUT_FILES+'/pointings_correctedf110.pkl')\n",
    "corr_pols=wisps.POLYNOMIAL_RELATIONS['mag_limit_corrections'] \n",
    "#klf=pd.read_csv('/users/caganze/research/wisps/data/kirkpatricklf.txt', delimiter=',')\n",
    "#klf['bin_center']=np.mean(np.array([klf.t0.values, klf.tf.values]), axis=0)\n",
    "#klf=klf.replace(0.0,np.nan)\n",
    "\n",
    "ucds=pd.read_pickle(wisps.LIBRARIES+'/new_real_ucds.pkl')\n",
    "#cands=cands[(cands.spt >=17) & (cands.snr1>=3)].reset_index(drop=True)\n",
    "cands=(ucds[ucds.selection!='']).reset_index(drop=True)\n",
    "tab=wisps.Annotator.reformat_table(cands)\n",
    "pnt_names=[x.name for x in pnts]"
   ]
  },
  {
   "cell_type": "code",
   "execution_count": 5,
   "metadata": {},
   "outputs": [
    {
     "data": {
      "text/plain": [
       "532"
      ]
     },
     "execution_count": 5,
     "metadata": {},
     "output_type": "execute_result"
    }
   ],
   "source": [
    "len(pnts)"
   ]
  },
  {
   "cell_type": "code",
   "execution_count": 6,
   "metadata": {},
   "outputs": [],
   "source": [
    "cmap= sns.color_palette(\"coolwarm\", 8, as_cmap=True)\n",
    "#cmap=matplotlib.cm.get_cmap('v')\n",
    "cnorm=Normalize(wispsim.HS[0], (wispsim.HS[-1]))"
   ]
  },
  {
   "cell_type": "code",
   "execution_count": 7,
   "metadata": {},
   "outputs": [],
   "source": [
    "kirkpatrick2020LF={'bin_center':np.flip(np.array([2025, 1875, 1725, 1575, 1425, 1275, 1125 , 975, 825, 675, 525])), \n",
    "                   'values':np.flip(np.array([0.72, 0.50,0.78, 0.81,0.94, 1.95, 1.11, 1.72, 1.99, 2.80, 4.24])), \n",
    "                   'unc':np.flip(([0.18, 0.17, 0.20,0.20, 0.22, 0.3, 0.25, 0.3, 0.32, 0.37, 0.70]))}\n"
   ]
  },
  {
   "cell_type": "code",
   "execution_count": 8,
   "metadata": {},
   "outputs": [],
   "source": [
    "MODEL_NAMES=['burrows1997', 'burrows2001', 'baraffe2003', 'saumon2008', 'marley2019', 'phillips2020']\n",
    "MODEL_SHORT_NAMES=['B97', 'B01', 'B03', 'SM08', 'M18', 'P20']\n"
   ]
  },
  {
   "cell_type": "code",
   "execution_count": null,
   "metadata": {},
   "outputs": [],
   "source": []
  },
  {
   "cell_type": "raw",
   "metadata": {},
   "source": []
  },
  {
   "cell_type": "code",
   "execution_count": 9,
   "metadata": {},
   "outputs": [],
   "source": [
    "def bin_by_spt_bin(sp_types, number, ltonly=False):\n",
    "    ranges=[[17, 20], [20, 25], [25, 30], [30, 35], [35, 40]]\n",
    "    if ltonly:\n",
    "        ranges=[[17, 20], [20, 30], [30, 41]]\n",
    "    numbers=[]\n",
    "    for r in ranges:\n",
    "        idx= np.logical_and((r[0]<=sp_types), (r[1]>sp_types))\n",
    "        numbers.append(np.nansum(number[idx]))\n",
    "    return numbers\n",
    "\n",
    "def get_all_numbers():\n",
    "    #Distribute the parameter sets evenly across the cores\n",
    "    func=lambda x, y:  get_simulated_number_model(y, x)\n",
    "\n",
    "    paramlist=[(i, j)  for i, j in itertools.product(MODEL_NAMES, wispsim.HS)]\n",
    "    res  = [func(x, y) for x,y in tqdm(paramlist)]\n",
    "    \n",
    "    nbrs = {}\n",
    "    for k in MODEL_NAMES:\n",
    "        ds0={}\n",
    "        for j in res:\n",
    "            if k in j.keys():\n",
    "                key=[x for x in j[k].keys()][0]\n",
    "                ds0.update({key: [(j[k][key])[yi] for yi in wispsim.SPGRID]})\n",
    "        #print (ds0)\n",
    "        nbrs[k]=np.array([ds0[k] for k in wispsim.HS])\n",
    "\n",
    "    return nbrs\n",
    "    \n",
    "\n",
    "\n",
    "def get_pointing(grism_id):\n",
    "    if grism_id.startswith('par'):\n",
    "        pntname=grism_id.lower().split('-')[0]\n",
    "    else:\n",
    "        pntname=grism_id.lower().split('-g141')[0]\n",
    "    loc=pnt_names.index(pntname)\n",
    "    return np.array(pnts)[loc]\n",
    "\n",
    "\n",
    "def iswithin_mag_limits(mags, pnt, spt):\n",
    "    #mgs is a dictionary\n",
    "    flags=[]\n",
    "    for k in pnt.mag_limits.keys():\n",
    "        if k =='F110' and pnt.survey =='hst3d':\n",
    "            flags.append(True)\n",
    "        else:\n",
    "            flags.append(mags[k] <= pnt.mag_limits[k]+ (corr_pols[k+'W'][0])(spt))\n",
    "    return np.logical_or.reduce(flags)\n",
    "\n",
    "def get_simulated_number_model(hidx, model):\n",
    "    #hidx is a scale height, model is evolutionary model\n",
    "    df=pd.read_hdf(wisps.OUTPUT_FILES+'/final_simulated_sample_cut_binaries_updatedrelations.h5',\\\n",
    "                       key=str(model)+str(hidx)+str('spt_abs_mag'))\n",
    "    cutdf=(df[~df.is_cut]).rename(columns={'temperature': 'teff', \\\n",
    "                                          'slprob': 'sl'})\n",
    "    #cutdf=pd.read_hdf(wisps.OUTPUT_FILES+'/final_simulated_sample_cut.h5', key=str(model)+str('h')+str(hidx)+'F110_corrected')\n",
    "    #scl_dict=pd.read_pickle(wisps.OUTPUT_FILES+'/lf_scales.pkl') \n",
    "    #scales=scl_dict[model]\n",
    "    scale=[cutdf.scale.mean(), cutdf.scale_unc.mean(), cutdf.scale_times_model.mean()]\n",
    "    #scale=scale_lf_teff(cutdf.teff)\n",
    "    NSIM=dict(zip(wispsim.SPGRID,np.zeros((len(wispsim.SPGRID), 2))))\n",
    "    cutdf['spt_r']=cutdf.spt.apply(np.round)\n",
    "    for g in cutdf.groupby('spt_r'):\n",
    "        sn= len(cutdf.teff[np.logical_and(cutdf.teff>=450, cutdf.teff<=2100)])\n",
    "        n0=scale[-1]/scale[0]\n",
    "        #print (n0)\n",
    "        scln=np.array([scale[0]*n0/sn,\\\n",
    "                       (scale[1]*scale[-1])/(sn*scale[0])])\n",
    "        #scln=np.array(scale)\n",
    "        #assert scln[0] > scale[0]\n",
    "        NSIM[g[0]]=np.nansum(g[1].sl)*scln\n",
    "    del cutdf\n",
    "    return {model: {hidx:NSIM}}\n",
    "\n"
   ]
  },
  {
   "cell_type": "code",
   "execution_count": 10,
   "metadata": {},
   "outputs": [
    {
     "data": {
      "text/plain": [
       "['burrows1997',\n",
       " 'burrows2001',\n",
       " 'baraffe2003',\n",
       " 'saumon2008',\n",
       " 'marley2019',\n",
       " 'phillips2020']"
      ]
     },
     "execution_count": 10,
     "metadata": {},
     "output_type": "execute_result"
    }
   ],
   "source": [
    "MODEL_NAMES"
   ]
  },
  {
   "cell_type": "code",
   "execution_count": null,
   "metadata": {},
   "outputs": [],
   "source": []
  },
  {
   "cell_type": "code",
   "execution_count": 11,
   "metadata": {},
   "outputs": [],
   "source": [
    "#cutdf.scale"
   ]
  },
  {
   "cell_type": "code",
   "execution_count": 12,
   "metadata": {},
   "outputs": [],
   "source": [
    "def plot_one(NUMBERS, VOLUMES, filename='/oberved_numbers_one_panel.pdf'):\n",
    "    data_to_save={}\n",
    "    # In[ ]:\n",
    "    nall=wisps.custom_histogram(cands.spt.apply(wisps.make_spt_number), sgrid, 1)\n",
    "    \n",
    "    y2=bin_by_spt_bin(wispsim.SPGRID,nobs, ltonly=False)-THICK\n",
    "    yall=bin_by_spt_bin(wispsim.SPGRID,nall, ltonly=False)-THICK\n",
    "    \n",
    "    dy2=np.sqrt(y2)\n",
    "    dyall=np.sqrt(yall)\n",
    "     #add this to the dictionary\n",
    "    data_to_save['nall']=nall\n",
    "    data_to_save['nobs']=nobs\n",
    "    data_to_save['yall']=yall\n",
    "    data_to_save['y2']=y2\n",
    "\n",
    "    fig, a=plt.subplots(figsize=(8, 6))\n",
    "    \n",
    "    #for model, a in zip(['baraffe2003', 'saumon2008', 'marley2019', 'phillips2020'], np.concatenate(ax)):\n",
    "    model='baraffe2003'\n",
    "    for idx, h in enumerate(wispsim.HS):\n",
    "            \n",
    "            ns=None\n",
    "            ns=((NUMBERS[model])[idx])[:,0]*VOLUMES[idx]\n",
    "            nuncs=((NUMBERS[model])[idx])[:,1]*VOLUMES[idx]\n",
    "            \n",
    "            a.plot(spgrid2, bin_by_spt_bin(wispsim.SPGRID,ns, ltonly=False), \n",
    "                          color= cmap(cnorm(h)), \n",
    "                   linewidth=3, drawstyle=\"steps-mid\")\n",
    "            a.fill_between(spgrid2, bin_by_spt_bin(wispsim.SPGRID,ns+nuncs, ltonly=False),  \n",
    "                           bin_by_spt_bin(wispsim.SPGRID,ns-nuncs, ltonly=False), alpha=0.5, \n",
    "                           color= cmap(cnorm(h/100)),  step=\"mid\")\n",
    "        \n",
    "        \n",
    "    a.set_yscale('log')\n",
    "    #a.errorbar(spgrid2,y2, yerr=dy2,fmt='o', color='#111111')\n",
    "    a.errorbar(spgrid2,y2, yerr=dyall,color='white', mfc='white', fmt='o')\n",
    "    a.set_xlabel('SpT',fontsize=18)\n",
    "    a.set_ylabel('N',fontsize=18)\n",
    "    a.minorticks_on()\n",
    "            \n",
    "\n",
    "    #a.set_title('Model= SM08', fontsize=18)\n",
    "    a.set_title('Model= B03', fontsize=18)\n",
    "    #a.set_title('Model= M19', fontsize=18)\n",
    "    #a.set_title('Model= P20', fontsize=18)\n",
    "\n",
    "    #a.errorbar(spgrid2,y2, yerr=dy2,fmt='o', label='Mag Limited')\n",
    "    #a.errorbar(spgrid2,yall, yerr=dyall, fmt='o', label='All Observations')\n",
    "    \n",
    "    cax = fig.add_axes([.5, 0.7, .3, 0.03])\n",
    "    mp=matplotlib.cm.ScalarMappable(norm=cnorm, cmap=cmap)\n",
    "    cbar=plt.colorbar(mp, cax=cax, orientation='horizontal')\n",
    "    cbar.ax.set_xlabel(r'Scaleheight (H)', fontsize=18)\n",
    "    #cbar.ax.set_yticks([1, 3, 5, 10])\n",
    "    #a.legend(fontsize=14, loc='upper left')\n",
    "    plt.tight_layout()\n",
    "    plt.savefig(wisps.OUTPUT_FIGURES+filename, bbox_inches='tight',  facecolor='black', transparent=False)\n",
    "    "
   ]
  },
  {
   "cell_type": "code",
   "execution_count": 13,
   "metadata": {},
   "outputs": [],
   "source": [
    "#d=pd.read_pickle(wisps.OUTPUT_FILES+'/distance_samples{}'.format(h))"
   ]
  },
  {
   "cell_type": "code",
   "execution_count": 14,
   "metadata": {},
   "outputs": [],
   "source": [
    "#expectted counts from thick disk\n",
    "#burrows models predictions\n",
    "THICK=np.array([179.8711348650041,\n",
    " 36.5808733995051,\n",
    " 1.9962377172588461,\n",
    " 2.7687157529793476,\n",
    " 1.8330505537975432])*0.12\n",
    "\n",
    "#baraffe models predictions\n",
    "#THICK=np.array([305.5287380385671,\n",
    "# 57.54032242357276,\n",
    "# 2.412890314872561,\n",
    "# 5.562359972839513,\n",
    "# 2.3976602909307294])*0.05#this is for five percent multiply by 12/5 TO GET 12 PERCENT"
   ]
  },
  {
   "cell_type": "code",
   "execution_count": 15,
   "metadata": {},
   "outputs": [],
   "source": [
    "\n",
    "tab['pnt']=tab['grism_id'].apply(get_pointing)\n",
    "tab['spt_val']=np.vstack(tab.spt.values)[:,0]\n",
    "obsmgs=tab[['F140W', 'F110W', 'F160W']].rename(columns={\"F110W\": \"F110\", \n",
    "                                                                    \"F140W\": \"F140\",\n",
    "                                                                    \"F160W\": \"F160\"}).to_dict('records')\n",
    "\n",
    "flags=[iswithin_mag_limits(x, y, z) for x, y, z in zip(obsmgs, tab.pnt.values,tab.spt.values )]\n",
    "\n",
    "#let's see what happens if we include all objects\n",
    "#flags=np.ones(len(flags)).astype(bool)\n",
    "cdf_to_use=tab[flags]\n",
    "\n",
    "nobs=wisps.custom_histogram(cdf_to_use.spt_val.apply(wisps.make_spt_number), sgrid, 1)\n",
    "\n",
    "\n",
    "spgrid2=['M7-L0', 'L0-L5', 'L5-T0', 'T0-T5', 'T5-Y0']\n",
    "spgrid2_labels=['M7-M9', 'L0-L4', 'L5-L9', 'T0-T4', 'T5-Y0']\n",
    "spgrid3=['Late M', 'L', 'T']"
   ]
  },
  {
   "cell_type": "code",
   "execution_count": 16,
   "metadata": {},
   "outputs": [
    {
     "data": {
      "text/plain": [
       "(array([17, 18, 19, 20, 21, 22, 23, 24, 25, 26, 27, 28, 29, 30, 31, 32, 33,\n",
       "        34, 35, 36, 37, 38, 39, 40, 41]),)"
      ]
     },
     "execution_count": 16,
     "metadata": {},
     "output_type": "execute_result"
    }
   ],
   "source": [
    "sgrid,"
   ]
  },
  {
   "cell_type": "code",
   "execution_count": 17,
   "metadata": {},
   "outputs": [],
   "source": [
    "#for k in ['F140', 'F110', 'F160']:\n",
    "#    tab['lim_{}'.format(k)]=tab.pnt.apply(lambda x: x.mag_limits[k])\n",
    "#    tab['detected_{}'.format(k)]= tab[k+'W'] < tab['lim_{}'.format(k)]"
   ]
  },
  {
   "cell_type": "code",
   "execution_count": 18,
   "metadata": {},
   "outputs": [],
   "source": [
    "flags=np.array(flags)"
   ]
  },
  {
   "cell_type": "code",
   "execution_count": 19,
   "metadata": {},
   "outputs": [],
   "source": [
    "spgrid=np.arange(17, 42)"
   ]
  },
  {
   "cell_type": "code",
   "execution_count": 20,
   "metadata": {},
   "outputs": [
    {
     "name": "stderr",
     "output_type": "stream",
     "text": [
      "findfont: Font family ['serif'] not found. Falling back to DejaVu Sans.\n",
      "findfont: Generic family 'serif' not found because none of the following families were found: \n"
     ]
    },
    {
     "data": {
      "image/png": "[encoded data removed]",
      "text/plain": [
       "<Figure size 864x288 with 3 Axes>"
      ]
     },
     "metadata": {
      "needs_background": "light"
     },
     "output_type": "display_data"
    }
   ],
   "source": [
    "fig, ax=plt.subplots(figsize=(12, 4), ncols=3)\n",
    "\n",
    "ax[0].errorbar(tab.spt[flags], tab.F110W[flags], xerr=tab.spt_er[flags], yerr=tab.F110W_er[flags], fmt='o', c='k')\n",
    "ax[0].errorbar(tab.spt[~flags], tab.F110W[~flags], xerr=tab.spt_er[~flags], yerr=tab.F110W_er[~flags], \\\n",
    "                mfc='white', fmt='o')\n",
    "\n",
    "ax[1].errorbar(tab.spt[flags], tab.F140W[flags], xerr=tab.spt_er[flags], yerr=tab.F140W_er[flags], fmt='o', c='k')\n",
    "ax[1].errorbar(tab.spt[~flags], tab.F140W[~flags], xerr=tab.spt_er[~flags], yerr=tab.F140W_er[~flags], \\\n",
    "                mfc='white', fmt='o')\n",
    "\n",
    "\n",
    "ax[-1].errorbar(tab.spt[flags], tab.F160W[flags], xerr=tab.spt_er[flags], yerr=tab.F160W_er[flags], fmt='o', c='k')\n",
    "ax[-1].errorbar(tab.spt[~flags], tab.F160W[~flags], xerr=tab.spt_er[~flags], yerr=tab.F160W_er[~flags], \\\n",
    "                mfc='white', fmt='o')\n",
    "\n",
    "for p in pnts:\n",
    "    ax[0].plot(spgrid, p.mag_limits['F110']+(corr_pols['F110'+'W'][0])(spgrid), alpha=0.01, c='b')\n",
    "    ax[1].plot(spgrid, p.mag_limits['F140']+(corr_pols['F140'+'W'][0])(spgrid), alpha=0.01, c='b')\n",
    "    ax[-1].plot(spgrid, p.mag_limits['F160']+(corr_pols['F160'+'W'][0])(spgrid), alpha=0.01, c='b')\n",
    "\n",
    "ax[0].set_xlabel('F110')\n",
    "ax[1].set_xlabel('F140')\n",
    "ax[-1].set_xlabel('F160')\n",
    "ax[0].set_ylabel('SpT')\n",
    "ax[1].set_ylabel('SpT')\n",
    "ax[-1].set_ylabel('SpT')\n",
    "\n",
    "for a in ax:\n",
    "    a.minorticks_on()\n",
    "plt.tight_layout()"
   ]
  },
  {
   "cell_type": "code",
   "execution_count": 21,
   "metadata": {},
   "outputs": [
    {
     "data": {
      "text/plain": [
       "Index(['H_2O-1/J-Cont', 'H_2O-1/J-Cont_er', 'H_2O-2/H_2O-1',\n",
       "       'H_2O-2/H_2O-1_er', 'H-cont/H_2O-1', 'H-cont/H_2O-1_er', 'CH_4/H_2O-1',\n",
       "       'CH_4/H_2O-1_er', 'H_2O-2/J-Cont', 'H_2O-2/J-Cont_er', 'H-cont/J-Cont',\n",
       "       'H-cont/J-Cont_er', 'CH_4/J-Cont', 'CH_4/J-Cont_er', 'H-cont/H_2O-2',\n",
       "       'H-cont/H_2O-2_er', 'CH_4/H_2O-2', 'CH_4/H_2O-2_er', 'CH_4/H-Cont',\n",
       "       'CH_4/H-Cont_er', 'H_2O-1+H_2O-2/J-Cont', 'H_2O-1+H_2O-2/J-Cont_er',\n",
       "       'H_2O-1+H_2O-2/H-Cont', 'H_2O-1+H_2O-2/H-Cont_er', 'H_2O-1+CH_4/J-Cont',\n",
       "       'H_2O-1+CH_4/J-Cont_er', 'H_2O-2+CH_4/J-Cont', 'H_2O-2+CH_4/J-Cont_er',\n",
       "       'H_2O-1+CH_4/H-Cont', 'H_2O-1+CH_4/H-Cont_er', 'H_2O-2+CH_4/H-Cont',\n",
       "       'H_2O-2+CH_4/H-Cont_er', 'spectra', 'grism_id', 'spt', 'spt_er',\n",
       "       'distance', 'distance_er', 'coord', 'designation', 'F110W', 'F110W_er',\n",
       "       'F160W', 'F160W_er', 'F140W', 'F140W_er', 'snr1', 'snr2', 'snr3',\n",
       "       'snr4', 'x', 'line_chi', 'spex_chi', 'f_test', 'selected_by_rf',\n",
       "       'selected_by_nn', 'selected_by_M7-L0', 'selected_by_L0-L5',\n",
       "       'selected_by_L5-T0', 'selected_by_T0-T5', 'selected_by_T5-T9',\n",
       "       'selected_by_Y dwarfs', 'selected_by_subdwarfs', 'index_label',\n",
       "       'selection', 'spt_range', 'data_type', 'pnt', 'spt_val'],\n",
       "      dtype='object')"
      ]
     },
     "execution_count": 21,
     "metadata": {},
     "output_type": "execute_result"
    }
   ],
   "source": [
    "tab.columns"
   ]
  },
  {
   "cell_type": "code",
   "execution_count": 22,
   "metadata": {},
   "outputs": [],
   "source": [
    "def compute_average_height_of_population():\n",
    "    pass\n",
    "    \n",
    "    return "
   ]
  },
  {
   "cell_type": "code",
   "execution_count": 23,
   "metadata": {},
   "outputs": [],
   "source": [
    "#wisps.POLYNOMIALS"
   ]
  },
  {
   "cell_type": "code",
   "execution_count": 24,
   "metadata": {},
   "outputs": [],
   "source": [
    "#.MAG_LIMITS"
   ]
  },
  {
   "cell_type": "code",
   "execution_count": 25,
   "metadata": {},
   "outputs": [],
   "source": [
    "subtab=(tab[tab.spt.between(30, 35)]).reset_index(drop=True)"
   ]
  },
  {
   "cell_type": "code",
   "execution_count": 26,
   "metadata": {},
   "outputs": [],
   "source": [
    "#with pd.option_context('display.max_rows', None, 'display.max_columns', None):  # more options can be specified also\n",
    "#    print( subtab[['F140W', 'F160W', 'lim_F140', 'lim_F160', 'detected_F140', 'detected_F160', 'grism_id',\n",
    "#                  'spt']])"
   ]
  },
  {
   "cell_type": "code",
   "execution_count": null,
   "metadata": {},
   "outputs": [],
   "source": []
  },
  {
   "cell_type": "code",
   "execution_count": 27,
   "metadata": {
    "scrolled": false
   },
   "outputs": [
    {
     "name": "stderr",
     "output_type": "stream",
     "text": [
      "100%|███████████████████████████████████████████| 72/72 [04:03<00:00,  3.38s/it]\n"
     ]
    }
   ],
   "source": [
    "#NUMBERS=pd.read_pickle(wisps.OUTPUT_FILES+'/numbers_simulated.pkl')\n",
    "NUMBERS=get_all_numbers()"
   ]
  },
  {
   "cell_type": "code",
   "execution_count": 28,
   "metadata": {},
   "outputs": [
    {
     "data": {
      "text/plain": [
       "dict_keys(['burrows1997', 'burrows2001', 'baraffe2003', 'saumon2008', 'marley2019', 'phillips2020'])"
      ]
     },
     "execution_count": 28,
     "metadata": {},
     "output_type": "execute_result"
    }
   ],
   "source": [
    "NUMBERS.keys()"
   ]
  },
  {
   "cell_type": "code",
   "execution_count": 29,
   "metadata": {},
   "outputs": [],
   "source": [
    "#plt.hist(np.log10(NUMBERS['baraffe2003'][0][:,1]))"
   ]
  },
  {
   "cell_type": "code",
   "execution_count": 30,
   "metadata": {},
   "outputs": [],
   "source": [
    "volumes=[]\n",
    "for pnt in pnts:\n",
    "    vs=[]\n",
    "    for h in wispsim.HS:\n",
    "        vsx=[]\n",
    "        for g in wispsim.SPGRID:\n",
    "            vsx.append((pnt.volumes[h])[g])\n",
    "        vs.append(vsx)\n",
    "    volumes.append(vs)\n",
    "volumes=np.array(volumes)\n",
    "\n",
    "VOLUMES=(np.nansum(volumes, axis=0))*4.1*(u.arcmin**2).to(u.radian**2)"
   ]
  },
  {
   "cell_type": "code",
   "execution_count": 31,
   "metadata": {},
   "outputs": [
    {
     "data": {
      "text/plain": [
       "(['burrows1997',\n",
       "  'burrows2001',\n",
       "  'baraffe2003',\n",
       "  'saumon2008',\n",
       "  'marley2019',\n",
       "  'phillips2020'],\n",
       " ['B97', 'B01', 'B03', 'SM08', 'M18', 'P20'])"
      ]
     },
     "execution_count": 31,
     "metadata": {},
     "output_type": "execute_result"
    }
   ],
   "source": [
    "MODEL_NAMES, MODEL_SHORT_NAMES"
   ]
  },
  {
   "cell_type": "code",
   "execution_count": 32,
   "metadata": {},
   "outputs": [],
   "source": [
    "\n",
    "def plot(NUMBERS, VOLUMES, filename='/oberved_numbers.pdf'):\n",
    "    # In[ ]:\n",
    "    nall=wisps.custom_histogram(cands.spt.apply(wisps.make_spt_number), sgrid, 1)\n",
    "    \n",
    "    y2=bin_by_spt_bin(wispsim.SPGRID,nobs, ltonly=False)-THICK\n",
    "    yall=bin_by_spt_bin(wispsim.SPGRID,nall, ltonly=False)\n",
    "    \n",
    "    dy2=np.sqrt(y2)\n",
    "    dyall=np.sqrt(yall)\n",
    "\n",
    "    fig, ax=plt.subplots(figsize=(14, 8), ncols=3, nrows=2, sharey=True, sharex=False)\n",
    "    \n",
    "    for model, name, a in zip(MODEL_NAMES, MODEL_SHORT_NAMES, np.concatenate(ax)):\n",
    "        \n",
    "        for idx, h in enumerate(wispsim.HS):\n",
    "            \n",
    "            ns=None\n",
    "            ns=((NUMBERS[model])[idx])[:,0]*VOLUMES[idx]\n",
    "            nuncs=((NUMBERS[model])[idx])[:,1]*VOLUMES[idx]\n",
    "            \n",
    "            a.plot(spgrid2_labels, bin_by_spt_bin(wispsim.SPGRID,ns, ltonly=False), \n",
    "                          color= cmap(cnorm(h)), \n",
    "                   linewidth=3, drawstyle=\"steps-mid\")\n",
    "            #a.fill_between(spgrid2, bin_by_spt_bin(wispsim.SPGRID,ns+nuncs, ltonly=False),  \n",
    "             #              bin_by_spt_bin(wispsim.SPGRID,ns-nuncs, ltonly=False), alpha=0.5, \n",
    "             #              color= cmap(cnorm(h/100)),  step=\"mid\")\n",
    "        \n",
    "        a.set_yscale('log')\n",
    "        a.errorbar(spgrid2_labels,y2, yerr=dy2,fmt='o', color='#111111')\n",
    "        a.errorbar(spgrid2_labels,yall, yerr=dyall,color='#B10DC9', mfc='white', fmt='o')\n",
    "        a.set_xlabel('SpT',fontsize=18)\n",
    "        a.set_ylabel('N',fontsize=18)\n",
    "        a.minorticks_on()\n",
    "        a.set_title('Model= {}'.format(name), fontsize=18)\n",
    "            \n",
    "\n",
    "    ax[1][-2].errorbar(spgrid2_labels,y2, yerr=dy2,fmt='o', label='Mag Limited', color='#111111')\n",
    "    ax[1][-2].errorbar(spgrid2_labels,yall, yerr=dyall,color='#B10DC9', fmt='o', mfc='white', label='All Observations')\n",
    "    \n",
    "    #ax[-1][-2].legend(fontsize=14,  bbox_to_anchor=(1.05, 1), loc='upper left')\n",
    "    #fig.delaxes(np.concatenate(ax)[-1])\n",
    "    ax[1][-2].legend( fontsize=14, loc='upper right')\n",
    "    \n",
    "    cax = fig.add_axes([1.01, 0.25, .015, 0.5])\n",
    "    mp=matplotlib.cm.ScalarMappable(norm=cnorm, cmap=cmap)\n",
    "    cbar=plt.colorbar(mp, cax=cax, orientation='vertical')\n",
    "    cbar.ax.set_ylabel(r'Scaleheight (H, pc)', fontsize=18)\n",
    "    #cbar.ax.set_yticks([1, 3, 5, 10])\n",
    "    #np.concatenate(ax)[-2].legend(loc='center left', bbox_to_anchor=(1, 1.5), fontsize=14)\n",
    "    plt.tight_layout()\n",
    "    plt.savefig(wisps.OUTPUT_FIGURES+filename, bbox_inches='tight')"
   ]
  },
  {
   "cell_type": "code",
   "execution_count": 33,
   "metadata": {
    "scrolled": false
   },
   "outputs": [
    {
     "name": "stderr",
     "output_type": "stream",
     "text": [
      "findfont: Font family ['serif'] not found. Falling back to DejaVu Sans.\n",
      "findfont: Generic family 'serif' not found because none of the following families were found: \n"
     ]
    },
    {
     "data": {
      "image/png": "[encoded data removed]",
      "text/plain": [
       "<Figure size 1008x576 with 7 Axes>"
      ]
     },
     "metadata": {
      "needs_background": "light"
     },
     "output_type": "display_data"
    }
   ],
   "source": [
    " plot(NUMBERS, VOLUMES, filename='/obs_numbers_plus_binaries_12percent_thick_disk_updated.pdf')"
   ]
  },
  {
   "cell_type": "code",
   "execution_count": 34,
   "metadata": {},
   "outputs": [],
   "source": [
    "#plot_one(NUMBERS, VOLUMES, filename='/oberved_numbers_one_panel.pdf')"
   ]
  },
  {
   "cell_type": "code",
   "execution_count": 35,
   "metadata": {},
   "outputs": [],
   "source": [
    "#bbjnkl"
   ]
  },
  {
   "cell_type": "code",
   "execution_count": 36,
   "metadata": {},
   "outputs": [],
   "source": [
    "#save into pickle file\n",
    "#NUMBERS\n",
    "#counts_numbers={'volumes': VOLUMES, 'densities': NUMBERS, 'scaleheights': wispsim.HS, 'nobs': nobs}\n",
    "#import pickle\n",
    "#with open(wisps.OUTPUT_FILES+'/expected_numbers_wisps_plus_binaries.pkl', 'wb') as file:\n",
    "#    pickle.dump(counts_numbers,file)"
   ]
  },
  {
   "cell_type": "code",
   "execution_count": 37,
   "metadata": {},
   "outputs": [],
   "source": [
    "nall=wisps.custom_histogram(cands.spt.apply(wisps.make_spt_number), sgrid, 1)\n",
    "y2=bin_by_spt_bin(wispsim.SPGRID,nobs, ltonly=False)-THICK"
   ]
  },
  {
   "cell_type": "code",
   "execution_count": 38,
   "metadata": {},
   "outputs": [
    {
     "data": {
      "text/plain": [
       "(array([54.41546382, 11.61029519,  1.76045147,  2.66775411,  0.78003393]),\n",
       " array([21.58453618,  4.38970481,  0.23954853,  0.33224589,  0.21996607]))"
      ]
     },
     "execution_count": 38,
     "metadata": {},
     "output_type": "execute_result"
    }
   ],
   "source": [
    "y2, THICK"
   ]
  },
  {
   "cell_type": "code",
   "execution_count": 39,
   "metadata": {},
   "outputs": [],
   "source": [
    "def asymetric_errors(vals):\n",
    "    if len(vals)<1:\n",
    "        return [np.nan, np.nan]\n",
    "    else:\n",
    "        med= np.nanmedian(vals)\n",
    "        up= np.nanpercentile(vals, 86)\n",
    "        dn= np.nanpercentile(vals, 14)\n",
    "        return np.array([med-dn, up-med])"
   ]
  },
  {
   "cell_type": "code",
   "execution_count": 40,
   "metadata": {},
   "outputs": [
    {
     "data": {
      "text/plain": [
       "155.0"
      ]
     },
     "execution_count": 40,
     "metadata": {},
     "output_type": "execute_result"
    }
   ],
   "source": [
    "np.nanpercentile(wispsim.HS, 10)"
   ]
  },
  {
   "cell_type": "code",
   "execution_count": null,
   "metadata": {},
   "outputs": [],
   "source": []
  },
  {
   "cell_type": "code",
   "execution_count": 41,
   "metadata": {},
   "outputs": [
    {
     "name": "stdout",
     "output_type": "stream",
     "text": [
      "all ----- [106.41546382  16.61029519   4.76045147   6.66775411   2.78003393]\n",
      "used ----- [54.41546382 11.61029519  1.76045147  2.66775411  0.78003393]\n",
      "MLT ----[76, 18, 4]\n",
      "All ----98\n"
     ]
    }
   ],
   "source": [
    "#just for L dwarfs and T dwarfs\n",
    "y3=bin_by_spt_bin(wispsim.SPGRID,nall, ltonly=False)-THICK\n",
    "y4=bin_by_spt_bin(wispsim.SPGRID,nobs, ltonly=True)#-THICK\n",
    "y5= np.nansum(y4)\n",
    "print ('all ----- {}'.format(y3))\n",
    "print ('used ----- {}'.format(y2))\n",
    "print ('MLT ----{}'.format(y4))\n",
    "print ('All ----{}'.format(y5))\n"
   ]
  },
  {
   "cell_type": "code",
   "execution_count": 42,
   "metadata": {},
   "outputs": [
    {
     "data": {
      "text/plain": [
       "(25, 2)"
      ]
     },
     "execution_count": 42,
     "metadata": {},
     "output_type": "execute_result"
    }
   ],
   "source": [
    "np.shape(NUMBERS['marley2019'][5])"
   ]
  },
  {
   "cell_type": "code",
   "execution_count": 43,
   "metadata": {},
   "outputs": [
    {
     "data": {
      "text/plain": [
       "(25,)"
      ]
     },
     "execution_count": 43,
     "metadata": {},
     "output_type": "execute_result"
    }
   ],
   "source": [
    "np.shape(wispsim.SPGRID)"
   ]
  },
  {
   "cell_type": "code",
   "execution_count": 44,
   "metadata": {},
   "outputs": [
    {
     "data": {
      "text/plain": [
       "[100, 150, 200, 250, 300, 350, 400, 450, 500, 600, 800, 1000]"
      ]
     },
     "execution_count": 44,
     "metadata": {},
     "output_type": "execute_result"
    }
   ],
   "source": [
    "wispsim.HS"
   ]
  },
  {
   "cell_type": "code",
   "execution_count": 45,
   "metadata": {},
   "outputs": [
    {
     "data": {
      "text/plain": [
       "0.003996358071361398"
      ]
     },
     "execution_count": 45,
     "metadata": {},
     "output_type": "execute_result"
    }
   ],
   "source": [
    "NUMBERS['marley2019'][5][-3][0]*VOLUMES[:,-3][5]"
   ]
  },
  {
   "cell_type": "code",
   "execution_count": 46,
   "metadata": {},
   "outputs": [],
   "source": [
    "#np.shape()"
   ]
  },
  {
   "cell_type": "code",
   "execution_count": 47,
   "metadata": {},
   "outputs": [],
   "source": [
    "#hjk"
   ]
  },
  {
   "cell_type": "code",
   "execution_count": null,
   "metadata": {},
   "outputs": [],
   "source": []
  },
  {
   "cell_type": "code",
   "execution_count": 48,
   "metadata": {},
   "outputs": [],
   "source": [
    "#PRINT THE BEST FIT NUMBER \n",
    "#best_fit={}\n",
    "numbers_fit={} #predictions for all\n",
    "numbers_fit_lt={} #predictions for M, L, T\n",
    "#numbers_fit_total={} #predictions for total number counts\n",
    "for model in MODEL_NAMES:\n",
    "        model_number_lt={}\n",
    "        model_number={}\n",
    "        for idx, h in enumerate(wispsim.HS):\n",
    "            \n",
    "            ns=None\n",
    "            ns=((NUMBERS[model])[idx])[:,0]*VOLUMES[idx]\n",
    "            nuncs=((NUMBERS[model])[idx])[:,1]*VOLUMES[idx]\n",
    "            \n",
    "            binned=np.array(bin_by_spt_bin(wispsim.SPGRID,ns, ltonly=False))\n",
    "            binned_lt= np.array(bin_by_spt_bin(wispsim.SPGRID,ns, ltonly=True))\n",
    "            #binned_unc=np.array(bin_by_spt_bin(wispsim.SPGRID,nuncs, ltonly=False))\n",
    "            #add L and \n",
    "            #compute chi-squared\n",
    "            #print (ns)\n",
    "            #chisq= abs((y2-binned)**2/(y2))\n",
    "            #model_fit.update({h: chisq})\n",
    "            #binned_total=np.append(binned, binned_lt)\n",
    "            #binned_total=np.append(binned, binned_lt)\n",
    "            model_number.update({h: binned})\n",
    "            model_number_lt.update({h: binned_lt})\n",
    "        # best_fit.update({model: model_fit})\n",
    "        numbers_fit.update({model: model_number})\n",
    "        numbers_fit_lt.update({model:  model_number_lt})"
   ]
  },
  {
   "cell_type": "code",
   "execution_count": 49,
   "metadata": {},
   "outputs": [],
   "source": [
    "#chisq_dicts=pd.DataFrame.from_records(best_fit)\n",
    "pred_number_dicts=pd.DataFrame.from_records(numbers_fit)\n",
    "pred_number_lt_dicts=pd.DataFrame.from_records(numbers_fit_lt)"
   ]
  },
  {
   "cell_type": "code",
   "execution_count": 50,
   "metadata": {},
   "outputs": [],
   "source": [
    "from scipy.interpolate import interp1d"
   ]
  },
  {
   "cell_type": "code",
   "execution_count": 51,
   "metadata": {},
   "outputs": [],
   "source": [
    "import scipy.stats as stats"
   ]
  },
  {
   "cell_type": "code",
   "execution_count": 52,
   "metadata": {},
   "outputs": [],
   "source": [
    "\n",
    "\n",
    "def get_poisson_predictions(spt_grid, obstns, predns):\n",
    "    res={}\n",
    "    for c in  predns.columns:\n",
    "        min_vals={}\n",
    "        dist={}\n",
    "        #for idx,s  in enumerate(np.append(spgrid2, ['L dwarfs', 'T dwarfs'])):\n",
    "        for idx,s  in enumerate(spt_grid):\n",
    "            #compare between subtypes\n",
    "            #predicted\n",
    "            predvals=(np.vstack(predns[c].values))[:,idx]\n",
    "            #observed\n",
    "            nreal=  obstns[idx]\n",
    "            #make an interpolation function\n",
    "            interpf = interp1d(predvals, wispsim.HS)\n",
    "            #using a 2nd degree polynomial \n",
    "            #interpf = np.poly1d(np.polyfit(predvals, wispsim.HS, 3))\n",
    "\n",
    "            #draw a bunch of random values based on a poisson distribution\n",
    "            #npoisson=np.random.poisson(nreal, 100000).astype(float)\n",
    "            #print (nreal)\n",
    "            npoisson=stats.gamma.rvs(nreal, size =int(1e5))\n",
    "            #stay within the range of possible values to avoid interpolation error\n",
    "            #i.e take this as a prior\n",
    "            #dflag=npoisson>=vals.min()\n",
    "            #uflag= npoisson <=vals.max()\n",
    "            #npoisson[dflag]= vals.min()\n",
    "            #npoisson[uflag]= vals.max()\n",
    "            #allow extraploayion\n",
    "            npoisson=npoisson[np.logical_and(npoisson>=predvals.min(), npoisson <=predvals.max())]\n",
    "            #predict scale heights\n",
    "            predhs=interpf(npoisson)\n",
    "            #use a weighted mean and std \n",
    "            #mean, unc= (np.nanmean(predhs), np.nanstd(predhs))\n",
    "\n",
    "            #print (' scale height for model {} and spt {} is {} +/- {} '.format(c, s, np.round(mean), np.round(unc, 4)))\n",
    "            dist.update({s:predhs})\n",
    "        #min_chi_ssqrs.update({c:min_vals})\n",
    "        res.update({c: dist})\n",
    "    return  res"
   ]
  },
  {
   "cell_type": "code",
   "execution_count": 53,
   "metadata": {},
   "outputs": [],
   "source": [
    "def scaleheight_to_vertical_disp(hs):\n",
    "    shape=435 #shape parameter\n",
    "    sigma_68=1.\n",
    "    return np.sqrt((np.array(hs))/shape)*20\n",
    "\n",
    "def compute_age_with_z(sigmas, z):\n",
    "    ag_bov= popsims.avr_yu(sigmas[abs(z) >270], verbose=True, nsample=2, height='above')[0]\n",
    "    ag_bel=popsims.avr_yu(sigmas[abs(z) <=270], verbose=True, nsample=2, height='below')[0]\n",
    "    return np.concatenate([ag_bov, ag_bel]).flatten()\n",
    "\n",
    "def asssymetric_med_std(x):\n",
    "    return np.round(np.nanmedian(x), 2), np.round(asymetric_errors(x), 2)"
   ]
  },
  {
   "cell_type": "code",
   "execution_count": null,
   "metadata": {},
   "outputs": [],
   "source": []
  },
  {
   "cell_type": "code",
   "execution_count": 54,
   "metadata": {},
   "outputs": [],
   "source": [
    "from popsims import galaxy"
   ]
  },
  {
   "cell_type": "code",
   "execution_count": null,
   "metadata": {},
   "outputs": [],
   "source": []
  },
  {
   "cell_type": "code",
   "execution_count": 55,
   "metadata": {},
   "outputs": [],
   "source": [
    "def resample_median_ages(ages, N, nsample=int(1e4)):\n",
    "    \"\"\"\n",
    "    Sample N stars over nsampels and recompute the median\n",
    "    \n",
    "    \"\"\"\n",
    "    if len(ages) < 1:\n",
    "        return []\n",
    "    else:\n",
    "        return np.array([np.nanmedian(np.random.choice(ages, int(N))) for x in range(int(nsample))])"
   ]
  },
  {
   "cell_type": "code",
   "execution_count": 56,
   "metadata": {},
   "outputs": [],
   "source": [
    "scale_height_dist=get_poisson_predictions(spgrid2, y2,pred_number_dicts)\n",
    "scale_height_dist_df=pd.DataFrame(scale_height_dist)"
   ]
  },
  {
   "cell_type": "code",
   "execution_count": 57,
   "metadata": {},
   "outputs": [],
   "source": [
    "scale_height_dist_df['saumon2008']['M7-L0']=[]\n",
    "from popsims import galaxy;"
   ]
  },
  {
   "cell_type": "code",
   "execution_count": 58,
   "metadata": {},
   "outputs": [],
   "source": [
    "#obs"
   ]
  },
  {
   "cell_type": "code",
   "execution_count": 59,
   "metadata": {},
   "outputs": [
    {
     "data": {
      "text/plain": [
       "{'M7-L0': 54.415463816199505,\n",
       " 'L0-L5': 11.610295192059388,\n",
       " 'L5-T0': 1.7604514739289385,\n",
       " 'T0-T5': 2.667754109642478,\n",
       " 'T5-Y0': 0.7800339335442948}"
      ]
     },
     "execution_count": 59,
     "metadata": {},
     "output_type": "execute_result"
    }
   ],
   "source": [
    "SPGRID2_DICT= dict(zip(spgrid2, y2))\n",
    "SPGRID2_DICT"
   ]
  },
  {
   "cell_type": "code",
   "execution_count": 60,
   "metadata": {},
   "outputs": [],
   "source": [
    "#marley, phillips and saumon models don't cover the parameter range\n",
    "for c in ['marley2019', 'phillips2020', 'saumon2008']:\n",
    "    scale_height_dist_df.loc['M7-L0', c]= []"
   ]
  },
  {
   "cell_type": "code",
   "execution_count": 61,
   "metadata": {},
   "outputs": [
    {
     "data": {
      "text/html": [
       "<div>\n",
       "<style scoped>\n",
       "    .dataframe tbody tr th:only-of-type {\n",
       "        vertical-align: middle;\n",
       "    }\n",
       "\n",
       "    .dataframe tbody tr th {\n",
       "        vertical-align: top;\n",
       "    }\n",
       "\n",
       "    .dataframe thead th {\n",
       "        text-align: right;\n",
       "    }\n",
       "</style>\n",
       "<table border=\"1\" class=\"dataframe\">\n",
       "  <thead>\n",
       "    <tr style=\"text-align: right;\">\n",
       "      <th></th>\n",
       "      <th>baraffe2003</th>\n",
       "      <th>burrows1997</th>\n",
       "      <th>burrows2001</th>\n",
       "      <th>marley2019</th>\n",
       "      <th>phillips2020</th>\n",
       "      <th>saumon2008</th>\n",
       "    </tr>\n",
       "  </thead>\n",
       "  <tbody>\n",
       "    <tr>\n",
       "      <th>M7-L0</th>\n",
       "      <td>[241.21800049554352, 235.63751342955297, 236.7...</td>\n",
       "      <td>[428.79281895493966, 305.9541310110099, 317.01...</td>\n",
       "      <td>[318.0847415532769, 308.0924228613017, 469.945...</td>\n",
       "      <td>[]</td>\n",
       "      <td>[]</td>\n",
       "      <td>[]</td>\n",
       "    </tr>\n",
       "    <tr>\n",
       "      <th>L0-L5</th>\n",
       "      <td>[134.34033879330883, 155.41622161614353, 127.2...</td>\n",
       "      <td>[239.61574892818453, 132.82594925662136, 245.0...</td>\n",
       "      <td>[206.857458405821, 283.1215287730155, 233.2004...</td>\n",
       "      <td>[162.7404137363389, 147.22987811073443, 176.10...</td>\n",
       "      <td>[348.9186801877568, 417.18065063781245, 225.79...</td>\n",
       "      <td>[148.37294638900093, 189.83482500272805, 169.0...</td>\n",
       "    </tr>\n",
       "    <tr>\n",
       "      <th>L5-T0</th>\n",
       "      <td>[258.62049472189403, 135.90159236679884, 100.8...</td>\n",
       "      <td>[165.65382963475324, 155.1048202790398, 119.86...</td>\n",
       "      <td>[108.44501516138804, 304.3560248079607, 144.42...</td>\n",
       "      <td>[161.96607588456982, 143.63077032074006, 351.4...</td>\n",
       "      <td>[324.80638903627244, 224.01935096856596, 117.2...</td>\n",
       "      <td>[280.3472267523346, 232.3282268222619, 106.435...</td>\n",
       "    </tr>\n",
       "    <tr>\n",
       "      <th>T0-T5</th>\n",
       "      <td>[149.2657949195236, 691.1311296832549, 184.386...</td>\n",
       "      <td>[118.18868220745973, 774.3778621566021, 171.33...</td>\n",
       "      <td>[115.97996457723917, 370.14192849044, 265.3831...</td>\n",
       "      <td>[199.46211732784158, 127.52462616583111, 144.8...</td>\n",
       "      <td>[124.34628865610742, 335.90275291599994, 251.7...</td>\n",
       "      <td>[253.99421240088282, 180.2916531920781, 189.05...</td>\n",
       "    </tr>\n",
       "    <tr>\n",
       "      <th>T5-Y0</th>\n",
       "      <td>[306.7929120650264, 271.2606355018492, 148.823...</td>\n",
       "      <td>[175.10447284876724, 313.29419881717035, 184.0...</td>\n",
       "      <td>[459.76387498465067, 340.93520343183087, 290.1...</td>\n",
       "      <td>[747.4379793664968, 146.97176916344708, 124.05...</td>\n",
       "      <td>[104.4475740086666, 385.55045824424496, 138.84...</td>\n",
       "      <td>[157.087389185894, 153.45503155361104, 100.020...</td>\n",
       "    </tr>\n",
       "  </tbody>\n",
       "</table>\n",
       "</div>"
      ],
      "text/plain": [
       "                                             baraffe2003  \\\n",
       "M7-L0  [241.21800049554352, 235.63751342955297, 236.7...   \n",
       "L0-L5  [134.34033879330883, 155.41622161614353, 127.2...   \n",
       "L5-T0  [258.62049472189403, 135.90159236679884, 100.8...   \n",
       "T0-T5  [149.2657949195236, 691.1311296832549, 184.386...   \n",
       "T5-Y0  [306.7929120650264, 271.2606355018492, 148.823...   \n",
       "\n",
       "                                             burrows1997  \\\n",
       "M7-L0  [428.79281895493966, 305.9541310110099, 317.01...   \n",
       "L0-L5  [239.61574892818453, 132.82594925662136, 245.0...   \n",
       "L5-T0  [165.65382963475324, 155.1048202790398, 119.86...   \n",
       "T0-T5  [118.18868220745973, 774.3778621566021, 171.33...   \n",
       "T5-Y0  [175.10447284876724, 313.29419881717035, 184.0...   \n",
       "\n",
       "                                             burrows2001  \\\n",
       "M7-L0  [318.0847415532769, 308.0924228613017, 469.945...   \n",
       "L0-L5  [206.857458405821, 283.1215287730155, 233.2004...   \n",
       "L5-T0  [108.44501516138804, 304.3560248079607, 144.42...   \n",
       "T0-T5  [115.97996457723917, 370.14192849044, 265.3831...   \n",
       "T5-Y0  [459.76387498465067, 340.93520343183087, 290.1...   \n",
       "\n",
       "                                              marley2019  \\\n",
       "M7-L0                                                 []   \n",
       "L0-L5  [162.7404137363389, 147.22987811073443, 176.10...   \n",
       "L5-T0  [161.96607588456982, 143.63077032074006, 351.4...   \n",
       "T0-T5  [199.46211732784158, 127.52462616583111, 144.8...   \n",
       "T5-Y0  [747.4379793664968, 146.97176916344708, 124.05...   \n",
       "\n",
       "                                            phillips2020  \\\n",
       "M7-L0                                                 []   \n",
       "L0-L5  [348.9186801877568, 417.18065063781245, 225.79...   \n",
       "L5-T0  [324.80638903627244, 224.01935096856596, 117.2...   \n",
       "T0-T5  [124.34628865610742, 335.90275291599994, 251.7...   \n",
       "T5-Y0  [104.4475740086666, 385.55045824424496, 138.84...   \n",
       "\n",
       "                                              saumon2008  \n",
       "M7-L0                                                 []  \n",
       "L0-L5  [148.37294638900093, 189.83482500272805, 169.0...  \n",
       "L5-T0  [280.3472267523346, 232.3282268222619, 106.435...  \n",
       "T0-T5  [253.99421240088282, 180.2916531920781, 189.05...  \n",
       "T5-Y0  [157.087389185894, 153.45503155361104, 100.020...  "
      ]
     },
     "execution_count": 61,
     "metadata": {},
     "output_type": "execute_result"
    }
   ],
   "source": [
    "scale_height_dist_df"
   ]
  },
  {
   "cell_type": "code",
   "execution_count": 62,
   "metadata": {},
   "outputs": [],
   "source": [
    "#scale_height_dist=get_poisson_predictions(spgrid2, y2,pred_number_dicts)\n",
    "#scale_height_dist_df=pd.DataFrame(scale_height_dist)\n",
    "vel_df=scale_height_dist_df.applymap(scaleheight_to_vertical_disp)\n",
    "age_distdf_yu=vel_df.applymap(lambda x:  galaxy.avr_yu(x, verbose=False, nsample=2, height='median')[0])\n",
    "age_distdf_just=vel_df.applymap(lambda x:  galaxy.avr_just(x, verbose=False))\n",
    "age_distdf_sand=vel_df.applymap(lambda x:  galaxy.avr_sanders(x, verbose=False))\n",
    "age_distdf_aumer=vel_df.applymap(lambda x: galaxy.avr_aumer(x, verbose=False))\n",
    "age_distdf_sharma=vel_df.applymap(lambda x: galaxy.avr_sharma(x, verbose=False, \n",
    "                                                              z= np.ones_like(x)*0.,\n",
    "                                                              met=np.ones_like(x)*0., nsample=1)[0])\n",
    "\n",
    "scalh_tables=scale_height_dist_df.applymap( asssymetric_med_std)\n",
    "vel_tables=vel_df.applymap(asssymetric_med_std)\n",
    "#age_tables_yu=age_distdf_yu.applymap( asssymetric_med_std)\n",
    "age_tables_just=age_distdf_just.applymap( asssymetric_med_std)\n",
    "#age_tables_sand=age_distdf_sand.applymap( asssymetric_med_std)\n",
    "age_tables_aumer=age_distdf_aumer.applymap( asssymetric_med_std)\n",
    "age_tables_sharma=age_distdf_sharma.applymap( asssymetric_med_std)"
   ]
  },
  {
   "cell_type": "code",
   "execution_count": 63,
   "metadata": {},
   "outputs": [],
   "source": [
    "median_diff=pd.DataFrame(columns= age_tables_sharma.columns, index=age_tables_sharma.index)"
   ]
  },
  {
   "cell_type": "code",
   "execution_count": 64,
   "metadata": {},
   "outputs": [],
   "source": [
    "for c in age_tables_sharma.columns:\n",
    "    for idx in age_tables_sharma.index:\n",
    "        diff0=(np.diff([age_tables_sharma.loc[idx, c][0], \\\n",
    "                        age_tables_aumer.loc[idx, c][0],\\\n",
    "                        age_tables_just.loc[idx, c][0]])).sum()\n",
    "        median_diff.loc[idx, c]=diff0"
   ]
  },
  {
   "cell_type": "code",
   "execution_count": 65,
   "metadata": {},
   "outputs": [
    {
     "data": {
      "text/plain": [
       "-1.0499999999999998"
      ]
     },
     "execution_count": 65,
     "metadata": {},
     "output_type": "execute_result"
    }
   ],
   "source": [
    "median_diff.max().max()"
   ]
  },
  {
   "cell_type": "code",
   "execution_count": 66,
   "metadata": {},
   "outputs": [
    {
     "data": {
      "image/png": "[encoded data removed]",
      "text/plain": [
       "<Figure size 489.6x367.2 with 1 Axes>"
      ]
     },
     "metadata": {
      "needs_background": "light"
     },
     "output_type": "display_data"
    }
   ],
   "source": [
    "fig, ax=plt.subplots(figsize=(8*0.85, 6*0.85))\n",
    "#_= plt.hist(age_distdf_sharma.loc['M7-L0', 'baraffe2003'], \\\n",
    "#            log=True, bins=32, histtype='step')\n",
    "\n",
    "#_= plt.hist(age_distdf_yu.loc['M7-L0', 'baraffe2003'], \\\n",
    "#            log=True, bins=32, histtype='step')\n",
    "\n",
    "_= sns.kdeplot(age_distdf_just.loc['M7-L0', 'baraffe2003'], lw=3, linestyle='-', \\\n",
    "               color='#7FDBFF', label='J10',\\\n",
    "                   ax=ax, common_grid=True, multiple=\"stack\", alpha=0.5)\n",
    "\n",
    "_= sns.kdeplot(age_distdf_aumer.loc['M7-L0', 'baraffe2003'], lw=4, linestyle='-', color='#FF4136', \\\n",
    "    label='A09', ax=ax, common_grid=True,multiple=\"stack\", alpha=0.5)\n",
    "\n",
    "_= sns.kdeplot(age_distdf_sharma.loc['M7-L0', 'baraffe2003'], lw=3, linestyle='-', \\\n",
    "               color='#39CCCC', label='S20',\\\n",
    "                   ax=ax, common_grid=True, multiple=\"stack\", alpha=0.5)\n",
    "\n",
    "ax.set(xlim=[1, 6], xlabel='Age (Gyr)', ylabel='Probability')\n",
    "ax.legend()\n",
    "ax.minorticks_on()\n",
    "plt.tight_layout()\n",
    "plt.savefig(wisps.OUTPUT_FIGURES+'/avr_comparisons.pdf', bbox_inches='tight')"
   ]
  },
  {
   "cell_type": "code",
   "execution_count": 67,
   "metadata": {},
   "outputs": [],
   "source": [
    "import matplotlib as mpl\n",
    "mpl.rcParams['figure.titlesize'] = 'large'"
   ]
  },
  {
   "cell_type": "code",
   "execution_count": 68,
   "metadata": {},
   "outputs": [
    {
     "data": {
      "image/png": "[encoded data removed]",
      "text/plain": [
       "<Figure size 489.6x367.2 with 1 Axes>"
      ]
     },
     "metadata": {
      "needs_background": "light"
     },
     "output_type": "display_data"
    }
   ],
   "source": [
    "idx=0\n",
    "fig, ax=plt.subplots(figsize=(8*0.85, 6*0.85))\n",
    "for m, ac in zip(['burrows1997', 'burrows2001', 'baraffe2003',], ['B97', 'B01', 'B03']):\n",
    "    predvals=(np.vstack(np.vstack(pred_number_dicts[m].values)))[:,idx]\n",
    "    #observed\n",
    "\n",
    "    #make an interpolation function\n",
    "    #interpf = np.poly1d(np.polyfit(predvals, wispsim.HS, 3))\n",
    "    interpf =interp1d(predvals, wispsim.HS)\n",
    "\n",
    "    rvs=stats.gamma.rvs(y2[idx], size =int(1e5))\n",
    "    #rvs=rvs[np.logical_and(rvs>=predvals.min(), rvs <=predvals.max())]\n",
    "\n",
    "    ax.plot(  wispsim.HS, predvals, marker='^', label=' {} Predictions'.format(ac))\n",
    "    #ax[0].plot(  rvs, interpf(rvs), '.')\n",
    "    \n",
    "ax.axhline(y2[idx], color='k', label='Observations')\n",
    "ax.axhspan(y2[idx]-np.sqrt(y2[idx]), y2[idx]+np.sqrt(y2[idx]), alpha=0.3, color='k')\n",
    "\n",
    "ax.set(xlabel='Scaleheight (pc)', ylabel='Number Counts')\n",
    "\n",
    "\n",
    "ax.minorticks_on()\n",
    "ax.legend()\n",
    "#fig.delaxes(ax0[1])\n",
    "plt.tight_layout()\n",
    "plt.savefig(wisps.OUTPUT_FIGURES+'/model_interpolation_ncounts.pdf', bbox_inches='tight')"
   ]
  },
  {
   "cell_type": "code",
   "execution_count": 69,
   "metadata": {},
   "outputs": [],
   "source": [
    "def reformat(val):\n",
    "    return str(val[0])+'$ _{-'+str(val[1][0])+'} ^{+'+str(val[1][1])+'}$'"
   ]
  },
  {
   "cell_type": "code",
   "execution_count": 70,
   "metadata": {},
   "outputs": [
    {
     "data": {
      "text/html": [
       "<div>\n",
       "<style scoped>\n",
       "    .dataframe tbody tr th:only-of-type {\n",
       "        vertical-align: middle;\n",
       "    }\n",
       "\n",
       "    .dataframe tbody tr th {\n",
       "        vertical-align: top;\n",
       "    }\n",
       "\n",
       "    .dataframe thead th {\n",
       "        text-align: right;\n",
       "    }\n",
       "</style>\n",
       "<table border=\"1\" class=\"dataframe\">\n",
       "  <thead>\n",
       "    <tr style=\"text-align: right;\">\n",
       "      <th></th>\n",
       "      <th>baraffe2003</th>\n",
       "      <th>burrows1997</th>\n",
       "      <th>burrows2001</th>\n",
       "      <th>marley2019</th>\n",
       "      <th>phillips2020</th>\n",
       "      <th>saumon2008</th>\n",
       "    </tr>\n",
       "  </thead>\n",
       "  <tbody>\n",
       "    <tr>\n",
       "      <th>M7-L0</th>\n",
       "      <td>(225.2, [17.41, 19.32])</td>\n",
       "      <td>(341.16, [40.94, 59.34])</td>\n",
       "      <td>(370.38, [52.34, 78.8])</td>\n",
       "      <td>(nan, [nan, nan])</td>\n",
       "      <td>(nan, [nan, nan])</td>\n",
       "      <td>(nan, [nan, nan])</td>\n",
       "    </tr>\n",
       "    <tr>\n",
       "      <th>L0-L5</th>\n",
       "      <td>(150.17, [24.04, 29.62])</td>\n",
       "      <td>(209.56, [43.97, 78.33])</td>\n",
       "      <td>(183.17, [35.31, 49.7])</td>\n",
       "      <td>(162.99, [28.35, 36.64])</td>\n",
       "      <td>(296.45, [92.98, 192.82])</td>\n",
       "      <td>(155.82, [25.58, 32.06])</td>\n",
       "    </tr>\n",
       "    <tr>\n",
       "      <th>L5-T0</th>\n",
       "      <td>(177.14, [60.17, 167.55])</td>\n",
       "      <td>(175.73, [59.28, 175.25])</td>\n",
       "      <td>(177.69, [60.81, 201.94])</td>\n",
       "      <td>(176.35, [58.94, 183.33])</td>\n",
       "      <td>(176.22, [59.53, 192.48])</td>\n",
       "      <td>(162.54, [48.14, 145.74])</td>\n",
       "    </tr>\n",
       "    <tr>\n",
       "      <th>T0-T5</th>\n",
       "      <td>(199.93, [74.24, 198.33])</td>\n",
       "      <td>(190.09, [67.25, 185.72])</td>\n",
       "      <td>(194.44, [70.72, 212.3])</td>\n",
       "      <td>(207.55, [80.79, 204.42])</td>\n",
       "      <td>(192.79, [69.5, 189.36])</td>\n",
       "      <td>(185.35, [64.33, 167.1])</td>\n",
       "    </tr>\n",
       "    <tr>\n",
       "      <th>T5-Y0</th>\n",
       "      <td>(190.18, [70.66, 270.14])</td>\n",
       "      <td>(184.98, [66.9, 240.72])</td>\n",
       "      <td>(185.97, [68.0, 234.1])</td>\n",
       "      <td>(190.97, [71.04, 232.7])</td>\n",
       "      <td>(184.67, [67.11, 234.24])</td>\n",
       "      <td>(198.87, [77.97, 235.82])</td>\n",
       "    </tr>\n",
       "  </tbody>\n",
       "</table>\n",
       "</div>"
      ],
      "text/plain": [
       "                     baraffe2003                burrows1997  \\\n",
       "M7-L0    (225.2, [17.41, 19.32])   (341.16, [40.94, 59.34])   \n",
       "L0-L5   (150.17, [24.04, 29.62])   (209.56, [43.97, 78.33])   \n",
       "L5-T0  (177.14, [60.17, 167.55])  (175.73, [59.28, 175.25])   \n",
       "T0-T5  (199.93, [74.24, 198.33])  (190.09, [67.25, 185.72])   \n",
       "T5-Y0  (190.18, [70.66, 270.14])   (184.98, [66.9, 240.72])   \n",
       "\n",
       "                     burrows2001                 marley2019  \\\n",
       "M7-L0    (370.38, [52.34, 78.8])          (nan, [nan, nan])   \n",
       "L0-L5    (183.17, [35.31, 49.7])   (162.99, [28.35, 36.64])   \n",
       "L5-T0  (177.69, [60.81, 201.94])  (176.35, [58.94, 183.33])   \n",
       "T0-T5   (194.44, [70.72, 212.3])  (207.55, [80.79, 204.42])   \n",
       "T5-Y0    (185.97, [68.0, 234.1])   (190.97, [71.04, 232.7])   \n",
       "\n",
       "                    phillips2020                 saumon2008  \n",
       "M7-L0          (nan, [nan, nan])          (nan, [nan, nan])  \n",
       "L0-L5  (296.45, [92.98, 192.82])   (155.82, [25.58, 32.06])  \n",
       "L5-T0  (176.22, [59.53, 192.48])  (162.54, [48.14, 145.74])  \n",
       "T0-T5   (192.79, [69.5, 189.36])   (185.35, [64.33, 167.1])  \n",
       "T5-Y0  (184.67, [67.11, 234.24])  (198.87, [77.97, 235.82])  "
      ]
     },
     "execution_count": 70,
     "metadata": {},
     "output_type": "execute_result"
    }
   ],
   "source": [
    "scalh_tables"
   ]
  },
  {
   "cell_type": "code",
   "execution_count": 71,
   "metadata": {},
   "outputs": [],
   "source": [
    "#some models don't conver the"
   ]
  },
  {
   "cell_type": "code",
   "execution_count": 72,
   "metadata": {},
   "outputs": [],
   "source": [
    "#scalh_tables[g].applymap(reformat)"
   ]
  },
  {
   "cell_type": "code",
   "execution_count": 73,
   "metadata": {},
   "outputs": [],
   "source": [
    "#vel_tables[MODEL_NAMES].applymap(reformat)"
   ]
  },
  {
   "cell_type": "code",
   "execution_count": 74,
   "metadata": {},
   "outputs": [],
   "source": [
    "#age_tables_just[MODEL_NAMES].applymap(reformat)"
   ]
  },
  {
   "cell_type": "code",
   "execution_count": null,
   "metadata": {},
   "outputs": [],
   "source": []
  },
  {
   "cell_type": "code",
   "execution_count": 75,
   "metadata": {},
   "outputs": [],
   "source": [
    "#upper and lo limits on ages \n",
    "#up_lims_table=pd.DataFrame(columns= age_tables.columns,\n",
    "#                           index=age_tables.index).fillna(0)\n",
    "#up_lims_table.saumon2008['T0-T5']=1\n",
    "#up_lims_table.saumon2008['T0-T5']=1\n",
    "\n",
    "#lo limts\n",
    "#lo_lims_table=pd.DataFrame(columns= age_tables.columns,\n",
    "#                           index=age_tables.index).fillna(0)\n",
    "#lo_lims_table.baraffe2003['T5-Y0']=1\n",
    "#lo_lims_table.baraffe2003['L5-T0']=1\n",
    "#lo_lims_table.phillips2020['T5-Y0']=1\n",
    "#lo_lims_table.saumon2008['T5-Y0']=1\n",
    "#lo_lims_table.marley2019['T5-Y0']=1\n"
   ]
  },
  {
   "cell_type": "code",
   "execution_count": 76,
   "metadata": {},
   "outputs": [],
   "source": [
    "def get_simpler_class(x):\n",
    "    if x.startswith('M'):\n",
    "        return 'Late M'\n",
    "    if x.startswith('L'):\n",
    "        return 'L'\n",
    "    if x.startswith('T'):\n",
    "        return 'T'"
   ]
  },
  {
   "cell_type": "code",
   "execution_count": 77,
   "metadata": {},
   "outputs": [],
   "source": [
    "def get_age_dictionaries(model):\n",
    "    dfs=[]\n",
    "    for hidx in wispsim.HS:\n",
    "        #hidx is a scale height, model is evolutionary model\n",
    "        df0=pd.read_hdf(wisps.OUTPUT_FILES+'/final_simulated_sample_cut_binaries_updatedrelations.h5',\\\n",
    "                          key=str(model)+str(hidx)+str('spt_abs_mag'))\n",
    "        cutdf=(df0[~df0.is_cut]).rename(columns={'temperature': 'teff', \\\n",
    "                                              'slprob': 'sl'})\n",
    "        \n",
    "        \n",
    "        dfs.append(cutdf)\n",
    "        \n",
    "    df=pd.concat(dfs)\n",
    "    print (len(df))\n",
    "    cutdf_lblded=wisps.Annotator.group_by_spt(df, spt_label='spt', assign_number=False).rename(columns={'spt_range': 'subtype'})\n",
    "    cutdf_lblded['spectclass']=  cutdf_lblded.subtype.apply(get_simpler_class)\n",
    "    final_df=cutdf_lblded[~((cutdf_lblded.spectclass=='') | (cutdf_lblded.subtype=='')|   (cutdf_lblded.subtype=='trash'))]\n",
    "\n",
    "    return final_df[['age', 'subtype', 'spt', 'spectclass']]"
   ]
  },
  {
   "cell_type": "code",
   "execution_count": 78,
   "metadata": {},
   "outputs": [
    {
     "name": "stderr",
     "output_type": "stream",
     "text": [
      "\r",
      "  0%|                                                     | 0/6 [00:00<?, ?it/s]"
     ]
    },
    {
     "name": "stdout",
     "output_type": "stream",
     "text": [
      "1153459\n"
     ]
    },
    {
     "name": "stderr",
     "output_type": "stream",
     "text": [
      "\r",
      " 17%|███████▌                                     | 1/6 [00:39<03:16, 39.25s/it]"
     ]
    },
    {
     "name": "stdout",
     "output_type": "stream",
     "text": [
      "1197436\n"
     ]
    },
    {
     "name": "stderr",
     "output_type": "stream",
     "text": [
      "\r",
      " 33%|███████████████                              | 2/6 [01:17<02:35, 38.79s/it]"
     ]
    },
    {
     "name": "stdout",
     "output_type": "stream",
     "text": [
      "1549568\n"
     ]
    },
    {
     "name": "stderr",
     "output_type": "stream",
     "text": [
      "\r",
      " 50%|██████████████████████▌                      | 3/6 [01:58<01:59, 39.77s/it]"
     ]
    },
    {
     "name": "stdout",
     "output_type": "stream",
     "text": [
      "1254762\n"
     ]
    },
    {
     "name": "stderr",
     "output_type": "stream",
     "text": [
      "\r",
      " 67%|██████████████████████████████               | 4/6 [02:38<01:19, 39.72s/it]"
     ]
    },
    {
     "name": "stdout",
     "output_type": "stream",
     "text": [
      "1085536\n"
     ]
    },
    {
     "name": "stderr",
     "output_type": "stream",
     "text": [
      "\r",
      " 83%|█████████████████████████████████████▌       | 5/6 [03:14<00:38, 38.60s/it]"
     ]
    },
    {
     "name": "stdout",
     "output_type": "stream",
     "text": [
      "955825\n"
     ]
    },
    {
     "name": "stderr",
     "output_type": "stream",
     "text": [
      "100%|█████████████████████████████████████████████| 6/6 [03:52<00:00, 38.74s/it]\n"
     ]
    }
   ],
   "source": [
    "#plot age with scale heights\n",
    "age_dictionaries={}\n",
    "for model in tqdm(MODEL_NAMES):\n",
    "       age_dictionaries[model]= get_age_dictionaries(model)\n",
    "    "
   ]
  },
  {
   "cell_type": "code",
   "execution_count": 79,
   "metadata": {},
   "outputs": [],
   "source": [
    "#a.errorbar(  agfn.age, agfn.subtype, xerr=np.vstack(agfn.unc).T,  fmt='o',xlolims=lolims, ms=20, lw=7, \n",
    "#               capsize=7, \n",
    "#               mfc='#0074D9', mec='#111111', ecolor='#111111', xuplims=uplims)\n",
    "#age_dictionaries[model].columns"
   ]
  },
  {
   "cell_type": "code",
   "execution_count": 80,
   "metadata": {},
   "outputs": [],
   "source": [
    "\n",
    "#plot age with scale heights\n",
    "age_dictionaries_median={}\n",
    "for model in MODEL_NAMES:\n",
    "    df=[]\n",
    "    for g in age_dictionaries[model].replace('T5-T9', 'T5-Y0').groupby('subtype'):\n",
    "        ages=g[1].age.values\n",
    "        n= SPGRID2_DICT[g[0]]\n",
    "        df0=pd.DataFrame()\n",
    "        rages= resample_median_ages(ages, np.round(n), nsample=int(1e4))\n",
    "        df0['age']= rages\n",
    "        df0['subtype']=g[0]\n",
    "        df.append(df0)\n",
    "    age_dictionaries_median[model]=pd.concat(df)"
   ]
  },
  {
   "cell_type": "code",
   "execution_count": 81,
   "metadata": {},
   "outputs": [],
   "source": [
    "def plot_one_age(a):\n",
    "    model='baraffe2003'\n",
    "    ds=[]\n",
    "    dfn=age_dictionaries_median[model].replace('T5-T9', 'T5-Y0')\n",
    "    for k in age_tables_just[model].keys():\n",
    "        if len(scale_height_dist[model][k]) <1:\n",
    "            pass\n",
    "        else:\n",
    "            #empirical\n",
    "            #ds0.append(age_tables_just[model][k])\n",
    "            #from simulations\n",
    "            ds.append(dfn.age[dfn.subtype==k].values)\n",
    "    #some reformatting\n",
    "    positions=[0, 1, 2, 3, 4]\n",
    "    lolims=[0, 0, 0, 0, 0]\n",
    "    if len(ds) ==4: positions=[1, 2, 3, 4]\n",
    "    v1 = a.violinplot(ds,points=100, positions=positions,\n",
    "               showmeans=True, showextrema=False, showmedians=False, vert =False)\n",
    "    #for b in v1['bodies']: \n",
    "    #      b.set_color('#0074D9')\n",
    "        #get the center\n",
    "    xerr0=np.vstack((age_tables_just[model].apply(lambda x: x[1]).values)).T\n",
    "    #xerr1=np.vstack((age_tables_sand[model].apply(lambda x: x[1]).values)).T\n",
    "    xerr2=np.vstack((age_tables_aumer[model].apply(lambda x: x[1]).values)).T\n",
    "    \n",
    "    #set size of arrows\n",
    "    xerr0.T[np.array(lolims).astype(bool)]=[0.5, 0.5]\n",
    "    #xerr1.T[np.array(lolims).astype(bool)]=[0.5, 0.5]\n",
    "    xerr2.T[np.array(lolims).astype(bool)]=[0.5, 0.5]\n",
    "    \n",
    "    #a.errorbar(age_tables_just[model].apply(lambda x: x[0]).values, \\\n",
    "    #           np.array([0, 1, 2, 3, 4])-0.5,\\\n",
    "    #           xerr=xerr0,  fmt='o', label='J10', \\\n",
    "    #          ms=10, lw=5,  capsize=5,\n",
    "    #           xlolims=lolims)\n",
    "    \n",
    "    #a.errorbar(age_tables_yu[model].apply(lambda x: x[0]).values,  np.array([0, 1, 2, 3, 4])+0.2,\\\n",
    "    #           xerr=np.vstack((age_tables_yu[model].apply(lambda x: x[1]).values)).T,  fmt='o', label='Y18',\n",
    "    #           ms=10, lw=5,  mfc='#B10DC9', mec='#B10DC9', ecolor='#B10DC9', capsize=5)\n",
    "    \n",
    "    #a.errorbar(age_tables_sand[model].apply(lambda x: x[0]).values,  np.array([0, 1, 2, 3, 4])+0.0,\\\n",
    "    #           xerr=xerr1,  fmt='o', label='SB15',\n",
    "    #           ms=10, lw=5,  mfc='#B10DC9', mec='#B10DC9', ecolor='#B10DC9', capsize=5,\n",
    "    #            xlolims=lolims)\n",
    "    \n",
    "    a.errorbar(age_tables_aumer[model].apply(lambda x: x[0]).values,  \\\n",
    "               np.array([0, 1, 2, 3, 4])+0.1,\\\n",
    "              xerr=xerr2,  fmt='o', label='AB09',\n",
    "               ms=10, lw=5, capsize=5,\n",
    "                xlolims=lolims)\n",
    "    \n",
    "    a.set_yticks([0, 1, 2, 3, 4])\n",
    "    a.set_yticklabels(spgrid2)\n",
    "    a.set_xlabel('Age (Gyr)', fontsize=18)\n",
    "    a.set_ylabel('Subtype', fontsize=18)\n",
    "    a.minorticks_on()\n",
    "    a.set_xlim([-1, 10])\n",
    "    a.set_title('Model= B03', fontsize=18)\n",
    "    a.legend(fontsize=12, loc='lower left')\n",
    "   \n",
    "    plt.tight_layout()\n",
    "    "
   ]
  },
  {
   "cell_type": "code",
   "execution_count": 82,
   "metadata": {},
   "outputs": [
    {
     "name": "stderr",
     "output_type": "stream",
     "text": [
      "findfont: Font family ['serif'] not found. Falling back to DejaVu Sans.\n",
      "findfont: Generic family 'serif' not found because none of the following families were found: \n"
     ]
    },
    {
     "data": {
      "image/png": "[encoded data removed]",
      "text/plain": [
       "<Figure size 432x576 with 1 Axes>"
      ]
     },
     "metadata": {
      "needs_background": "light"
     },
     "output_type": "display_data"
    }
   ],
   "source": [
    "##plt.style.use('dark_background')\n",
    "fig, ax=plt.subplots(figsize=(6, 8))\n",
    "plot_one_age(ax)\n",
    "plt.savefig(wisps.OUTPUT_FIGURES+'/one_age_comparison.pdf', \n",
    "            bbox_inches='tight',   facecolor='black', transparent=False)\n",
    "    "
   ]
  },
  {
   "cell_type": "code",
   "execution_count": null,
   "metadata": {},
   "outputs": [],
   "source": []
  },
  {
   "cell_type": "code",
   "execution_count": 83,
   "metadata": {},
   "outputs": [],
   "source": [
    "import scipy.stats as stats"
   ]
  },
  {
   "cell_type": "code",
   "execution_count": 84,
   "metadata": {},
   "outputs": [
    {
     "data": {
      "image/png": "[encoded data removed]",
      "text/plain": [
       "<Figure size 864x648 with 6 Axes>"
      ]
     },
     "metadata": {
      "needs_background": "light"
     },
     "output_type": "display_data"
    }
   ],
   "source": [
    "fig, ax=plt.subplots(figsize=(12, 9), ncols=3, nrows=2, sharex=False, sharey=True)\n",
    "for model, name, a in zip( MODEL_NAMES, MODEL_SHORT_NAMES, np.concatenate(ax)):\n",
    "\n",
    "    ds=[]\n",
    "    qs=[]\n",
    "    \n",
    "    dfn=age_dictionaries_median[model].replace('T5-T9', 'T5-Y0')\n",
    "    for k in age_tables_just[model].keys():\n",
    "        if len(scale_height_dist[model][k]) <1:\n",
    "            pass\n",
    "            qs.append([np.nan, np.nan])\n",
    "        else:\n",
    "            #empirical\n",
    "            #ds0.append(age_tables_just[model][k])\n",
    "            #from simulations\n",
    "            ds.append(dfn.age[dfn.subtype==k].values)\n",
    "            qs.append(np.percentile(dfn.age[dfn.subtype==k].values, [16, 84]))\n",
    "    #some reformatting\n",
    "    qs=np.vstack(qs)\n",
    "    a.hlines([0, 1, 2, 3, 4], qs[:,0], qs[:,1], color='#0074D9', linestyle='-', lw=3)\n",
    "    positions=[0, 1, 2, 3, 4]\n",
    "    lolims=[0, 0, 0, 0, 0]\n",
    "    if len(ds) ==4: positions=[1, 2, 3, 4]\n",
    "    v1 = a.violinplot(ds,points=100, positions=positions,\n",
    "               showmeans=False, showextrema=False, showmedians=True, vert =False)\n",
    "    for b in v1['bodies']: \n",
    "          b.set_color('#0074D9')\n",
    "        #get the center\n",
    "    xerr0=np.vstack((age_tables_just[model].apply(lambda x: x[1]).values)).T\n",
    "    xerr1=np.vstack((age_tables_sharma[model].apply(lambda x: x[1]).values)).T\n",
    "    xerr2=np.vstack((age_tables_aumer[model].apply(lambda x: x[1]).values)).T\n",
    "    \n",
    "    #set size of arrows\n",
    "    xerr0.T[np.array(lolims).astype(bool)]=[0.5, 0.5]\n",
    "    xerr1.T[np.array(lolims).astype(bool)]=[0.5, 0.5]\n",
    "    xerr2.T[np.array(lolims).astype(bool)]=[0.5, 0.5]\n",
    "    \n",
    "    a.errorbar(age_tables_just[model].apply(lambda x: x[0]).values, np.array([0, 1, 2, 3, 4])-0.2,\\\n",
    "               xerr=xerr0,  fmt='o', label='J10', \\\n",
    "              ms=10, lw=5,  mfc='#FF4136', mec='#FF4136', ecolor='#FF4136', capsize=5,\n",
    "               xlolims=lolims)\n",
    "    \n",
    "    a.errorbar(age_tables_sharma[model].apply(lambda x: x[0]).values, np.array([0, 1, 2, 3, 4])+0.4,\\\n",
    "           xerr=    xerr1,  fmt='o', label='S21', \\\n",
    "          ms=10, lw=5,  mfc='#FF4136', mec='#B10DC9', ecolor='#B10DC9', capsize=5,\n",
    "           xlolims=lolims)\n",
    "    \n",
    "    #a.errorbar(age_tables_yu[model].apply(lambda x: x[0]).values,  np.array([0, 1, 2, 3, 4])+0.2,\\\n",
    "    #           xerr=np.vstack((age_tables_yu[model].apply(lambda x: x[1]).values)).T,  fmt='o', label='Y18',\n",
    "    #           ms=10, lw=5,  mfc='#B10DC9', mec='#B10DC9', ecolor='#B10DC9', capsize=5)\n",
    "    \n",
    "    #a.errorbar(age_tables_sand[model].apply(lambda x: x[0]).values,  np.array([0, 1, 2, 3, 4])+0.0,\\\n",
    "    #           xerr=xerr1,  fmt='o', label='SB15',\n",
    "    #           ms=10, lw=5,  mfc='#B10DC9', mec='#B10DC9', ecolor='#B10DC9', capsize=5,\n",
    "    #            xlolims=lolims)\n",
    "    \n",
    "    a.errorbar(age_tables_aumer[model].apply(lambda x: x[0]).values,  np.array([0, 1, 2, 3, 4])+0.2,\\\n",
    "               xerr=xerr2,  fmt='o', label='AB09',\n",
    "               ms=10, lw=5,  mfc='#111111', mec='#111111', ecolor='#111111', capsize=5,\n",
    "                xlolims=lolims)\n",
    "    \n",
    "    a.set_yticks([0, 1, 2, 3, 4])\n",
    "    a.set_yticklabels(spgrid2)\n",
    "    a.set_xlabel('Age (Gyr)', fontsize=18)\n",
    "    a.set_ylabel('Subtype', fontsize=18)\n",
    "    a.minorticks_on()\n",
    "    a.set_ylim([-1, 5])\n",
    "    a.set_title('Model= {}'.format(name), fontsize=18)\n",
    "    \n",
    "ax[0][-2].legend(fontsize=12, loc='lower left')\n",
    "\n",
    "plt.tight_layout()\n",
    "plt.savefig(wisps.OUTPUT_FIGURES+'/age_comparison_plus_binaries_12percent_thick_disk_updated.jpeg', bbox_inches='tight',  \\\n",
    "            facecolor='white', transparent=True)"
   ]
  },
  {
   "cell_type": "code",
   "execution_count": 85,
   "metadata": {},
   "outputs": [],
   "source": [
    "combined_age_dists_from_avrs=pd.DataFrame(columns= age_distdf_aumer.columns, index=  age_distdf_aumer.index)"
   ]
  },
  {
   "cell_type": "code",
   "execution_count": 86,
   "metadata": {},
   "outputs": [],
   "source": [
    "#for c in combined_age_dists_from_avrs.columns:\n",
    "#    for idx in combined_age_dists_from_avrs.index:\n",
    "#        combined_age_dists_from_avrs.loc[idx, c]= np.concatenate([age_distdf_aumer.loc[idx, c], \\\n",
    "#                                                              #age_distdf_sharma.loc[idx, c],\n",
    "#                                                              age_distdf_just.loc[idx, c]])"
   ]
  },
  {
   "cell_type": "code",
   "execution_count": 87,
   "metadata": {},
   "outputs": [],
   "source": [
    "#use AUMER for now\n",
    "combined_age_dists_from_avrs=age_distdf_aumer"
   ]
  },
  {
   "cell_type": "code",
   "execution_count": 88,
   "metadata": {},
   "outputs": [
    {
     "data": {
      "text/html": [
       "<div>\n",
       "<style scoped>\n",
       "    .dataframe tbody tr th:only-of-type {\n",
       "        vertical-align: middle;\n",
       "    }\n",
       "\n",
       "    .dataframe tbody tr th {\n",
       "        vertical-align: top;\n",
       "    }\n",
       "\n",
       "    .dataframe thead th {\n",
       "        text-align: right;\n",
       "    }\n",
       "</style>\n",
       "<table border=\"1\" class=\"dataframe\">\n",
       "  <thead>\n",
       "    <tr style=\"text-align: right;\">\n",
       "      <th></th>\n",
       "      <th>baraffe2003</th>\n",
       "      <th>burrows1997</th>\n",
       "      <th>burrows2001</th>\n",
       "      <th>marley2019</th>\n",
       "      <th>phillips2020</th>\n",
       "      <th>saumon2008</th>\n",
       "    </tr>\n",
       "  </thead>\n",
       "  <tbody>\n",
       "    <tr>\n",
       "      <th>M7-L0</th>\n",
       "      <td>[3.476561279383047, 3.3862958217901675, 3.4044...</td>\n",
       "      <td>[6.63629942212469, 4.541366963683445, 4.726253...</td>\n",
       "      <td>[4.744214285139114, 4.577052318480871, 7.35616...</td>\n",
       "      <td>[]</td>\n",
       "      <td>[]</td>\n",
       "      <td>[]</td>\n",
       "    </tr>\n",
       "    <tr>\n",
       "      <th>L0-L5</th>\n",
       "      <td>[1.800578272267217, 2.121097778698391, 1.69347...</td>\n",
       "      <td>[3.450617865554817, 1.7777753430893293, 3.5380...</td>\n",
       "      <td>[2.9250900040638244, 4.162280474500733, 3.3469...</td>\n",
       "      <td>[2.233787611396815, 1.9959190212713185, 2.4410...</td>\n",
       "      <td>[5.264061544507548, 6.434679257082884, 3.22767...</td>\n",
       "      <td>[2.013347300751259, 2.655946754827629, 2.33187...</td>\n",
       "    </tr>\n",
       "    <tr>\n",
       "      <th>L5-T0</th>\n",
       "      <td>[3.7596869165559283, 1.824120137910482, 1.3050...</td>\n",
       "      <td>[2.278789530167114, 2.116320883637668, 1.58400...</td>\n",
       "      <td>[1.4153229676892662, 4.514716725056925, 1.9531...</td>\n",
       "      <td>[2.221843511556829, 1.9411533990255243, 5.3074...</td>\n",
       "      <td>[4.857028032421499, 3.1992227554421175, 1.5458...</td>\n",
       "      <td>[4.116470222485382, 3.3328917426795948, 1.3858...</td>\n",
       "    </tr>\n",
       "    <tr>\n",
       "      <th>T0-T5</th>\n",
       "      <td>[2.0269720526045485, 11.347208597620892, 2.570...</td>\n",
       "      <td>[1.5590801129837857, 12.894092808224807, 2.366...</td>\n",
       "      <td>[1.5263598648978085, 5.625223822488447, 3.8703...</td>\n",
       "      <td>[2.8078127136156716, 1.6982057411298708, 1.960...</td>\n",
       "      <td>[1.6506954643652905, 5.043895226024075, 3.6480...</td>\n",
       "      <td>[3.6841840441232008, 2.5063445308915804, 2.643...</td>\n",
       "    </tr>\n",
       "    <tr>\n",
       "      <th>T5-Y0</th>\n",
       "      <td>[4.555361483902488, 3.9668238994984426, 2.0202...</td>\n",
       "      <td>[2.4254348877313134, 4.663990800676555, 2.5652...</td>\n",
       "      <td>[7.177308684568372, 5.128897051416777, 4.27779...</td>\n",
       "      <td>[12.391133463328584, 1.9919859621296425, 1.646...</td>\n",
       "      <td>[1.3567976906366732, 5.889052765083041, 1.8685...</td>\n",
       "      <td>[2.146753641782554, 2.0910329551151805, 1.2923...</td>\n",
       "    </tr>\n",
       "  </tbody>\n",
       "</table>\n",
       "</div>"
      ],
      "text/plain": [
       "                                             baraffe2003  \\\n",
       "M7-L0  [3.476561279383047, 3.3862958217901675, 3.4044...   \n",
       "L0-L5  [1.800578272267217, 2.121097778698391, 1.69347...   \n",
       "L5-T0  [3.7596869165559283, 1.824120137910482, 1.3050...   \n",
       "T0-T5  [2.0269720526045485, 11.347208597620892, 2.570...   \n",
       "T5-Y0  [4.555361483902488, 3.9668238994984426, 2.0202...   \n",
       "\n",
       "                                             burrows1997  \\\n",
       "M7-L0  [6.63629942212469, 4.541366963683445, 4.726253...   \n",
       "L0-L5  [3.450617865554817, 1.7777753430893293, 3.5380...   \n",
       "L5-T0  [2.278789530167114, 2.116320883637668, 1.58400...   \n",
       "T0-T5  [1.5590801129837857, 12.894092808224807, 2.366...   \n",
       "T5-Y0  [2.4254348877313134, 4.663990800676555, 2.5652...   \n",
       "\n",
       "                                             burrows2001  \\\n",
       "M7-L0  [4.744214285139114, 4.577052318480871, 7.35616...   \n",
       "L0-L5  [2.9250900040638244, 4.162280474500733, 3.3469...   \n",
       "L5-T0  [1.4153229676892662, 4.514716725056925, 1.9531...   \n",
       "T0-T5  [1.5263598648978085, 5.625223822488447, 3.8703...   \n",
       "T5-Y0  [7.177308684568372, 5.128897051416777, 4.27779...   \n",
       "\n",
       "                                              marley2019  \\\n",
       "M7-L0                                                 []   \n",
       "L0-L5  [2.233787611396815, 1.9959190212713185, 2.4410...   \n",
       "L5-T0  [2.221843511556829, 1.9411533990255243, 5.3074...   \n",
       "T0-T5  [2.8078127136156716, 1.6982057411298708, 1.960...   \n",
       "T5-Y0  [12.391133463328584, 1.9919859621296425, 1.646...   \n",
       "\n",
       "                                            phillips2020  \\\n",
       "M7-L0                                                 []   \n",
       "L0-L5  [5.264061544507548, 6.434679257082884, 3.22767...   \n",
       "L5-T0  [4.857028032421499, 3.1992227554421175, 1.5458...   \n",
       "T0-T5  [1.6506954643652905, 5.043895226024075, 3.6480...   \n",
       "T5-Y0  [1.3567976906366732, 5.889052765083041, 1.8685...   \n",
       "\n",
       "                                              saumon2008  \n",
       "M7-L0                                                 []  \n",
       "L0-L5  [2.013347300751259, 2.655946754827629, 2.33187...  \n",
       "L5-T0  [4.116470222485382, 3.3328917426795948, 1.3858...  \n",
       "T0-T5  [3.6841840441232008, 2.5063445308915804, 2.643...  \n",
       "T5-Y0  [2.146753641782554, 2.0910329551151805, 1.2923...  "
      ]
     },
     "execution_count": 88,
     "metadata": {},
     "output_type": "execute_result"
    }
   ],
   "source": [
    "combined_age_dists_from_avrs"
   ]
  },
  {
   "cell_type": "code",
   "execution_count": 89,
   "metadata": {},
   "outputs": [],
   "source": [
    "for c in ['marley2019', 'phillips2020', 'saumon2008']:\n",
    "    combined_age_dists_from_avrs.loc['M7-L0', c]= []"
   ]
  },
  {
   "cell_type": "code",
   "execution_count": 90,
   "metadata": {},
   "outputs": [
    {
     "name": "stderr",
     "output_type": "stream",
     "text": [
      "findfont: Font family ['serif'] not found. Falling back to DejaVu Sans.\n",
      "findfont: Generic family 'serif' not found because none of the following families were found: \n"
     ]
    },
    {
     "data": {
      "image/png": "[encoded data removed]",
      "text/plain": [
       "<Figure size 864x648 with 6 Axes>"
      ]
     },
     "metadata": {
      "needs_background": "light"
     },
     "output_type": "display_data"
    }
   ],
   "source": [
    "\n",
    "fig, ax=plt.subplots(figsize=(12, 9), ncols=3, nrows=2, sharex=False, sharey=False)\n",
    "\n",
    "for model, name, a in zip( MODEL_NAMES, MODEL_SHORT_NAMES, np.concatenate(ax)):\n",
    "\n",
    "    master_list=[]\n",
    "    median_ages=[]\n",
    "    for idx in range(len(combined_age_dists_from_avrs.index)):\n",
    "\n",
    "        subtype=combined_age_dists_from_avrs.index[idx]\n",
    "        dfn=age_dictionaries_median[model].replace('T5-T9', 'T5-Y0')\n",
    "\n",
    "        age_simulated= dfn.age[dfn.subtype==subtype].values\n",
    "        \n",
    "        sim_df=pd.DataFrame()\n",
    "        sim_df['Age (Gyr)']=age_simulated\n",
    "        sim_df['Subtype']=idx\n",
    "        sim_df['Distribution']= 'Simulated'\n",
    "\n",
    "        real_df=pd.DataFrame()\n",
    "        real_df['Age (Gyr)']= combined_age_dists_from_avrs.loc[subtype, model]\n",
    "        real_df['Distribution']= 'Inferred'\n",
    "        real_df['Subtype']=idx\n",
    "        \n",
    "\n",
    "            \n",
    "        median_left= np.nanmedian(age_simulated)\n",
    "        median_right= np.nanmedian( real_df['Age (Gyr)'].values)\n",
    "        master_list.append(pd.concat([real_df, sim_df]))\n",
    "        median_ages.append([median_left,    median_right])\n",
    "\n",
    "\n",
    "    #visualize this differently \n",
    "    master_df=pd.concat(master_list)\n",
    "    \n",
    "    if model in  ['marley2019', 'phillips2020', 'saumon2008']:\n",
    "         master_df.loc[master_df['Subtype']==0]=0.\n",
    "        \n",
    "    _ = sns.violinplot(x=\"Subtype\", y='Age (Gyr)', hue=\"Distribution\",\n",
    "                       inner=None,\n",
    "                        data=master_df, palette = {'Simulated':'#0074D9', 'Inferred':'#3D9970'},\n",
    "                        scale='width', split=True, hue_order=['Simulated', 'Inferred'], height=4, aspect=.7, ax=a, trim=True)\n",
    "    del master_list\n",
    "    del master_df\n",
    "    \n",
    "    a.scatter(np.array([0, 1, 2, 3, 4])-0.1, np.vstack(median_ages)[:,0], color='white')\n",
    "    a.scatter(np.array([0, 1, 2, 3, 4])+0.1, np.vstack(median_ages)[:,1], color='#111111')\n",
    "    \n",
    "    a.set_xticks([0, 1, 2, 3, 4])\n",
    "    a.set_xticklabels(spgrid2_labels, fontsize=14)\n",
    "    plt.setp(a.get_yticklabels(), visible=True)\n",
    "    \n",
    "    a.set_ylim([-1, 10])\n",
    "    a.set_title('Model= {}'.format(name), fontsize=18)\n",
    "\n",
    "plt.tight_layout()\n",
    "\n",
    "plt.tight_layout()\n",
    "plt.savefig(wisps.OUTPUT_FIGURES+'/age_comparison_plus_binaries_12percent_thick_disk_updated_alt.pdf', bbox_inches='tight',  \\\n",
    "            facecolor='white', transparent=True)"
   ]
  },
  {
   "cell_type": "code",
   "execution_count": 91,
   "metadata": {},
   "outputs": [],
   "source": [
    "from matplotlib.collections import LineCollection"
   ]
  },
  {
   "cell_type": "code",
   "execution_count": null,
   "metadata": {},
   "outputs": [],
   "source": []
  },
  {
   "cell_type": "code",
   "execution_count": 92,
   "metadata": {},
   "outputs": [
    {
     "data": {
      "image/png": "[encoded data removed]",
      "text/plain": [
       "<Figure size 864x576 with 6 Axes>"
      ]
     },
     "metadata": {
      "needs_background": "light"
     },
     "output_type": "display_data"
    }
   ],
   "source": [
    "fig, ax=plt.subplots(figsize=(12, 8), ncols=3, nrows=2, sharex=False, sharey=True)\n",
    "\n",
    "for model, name, a in zip( MODEL_NAMES, MODEL_SHORT_NAMES, np.concatenate(ax)):\n",
    "    ds=[]\n",
    "    qs=[]\n",
    "    for k in scale_height_dist_df[model].index:\n",
    "        if len(scale_height_dist_df[model][k]) <10:\n",
    "            pass\n",
    "            qs.append([np.nan, np.nan])\n",
    "        else:\n",
    "            ds.append(scale_height_dist_df[model][k])\n",
    "            qs.append(np.percentile(scale_height_dist_df[model][k], [16, 84]))\n",
    "            \n",
    "    qs=np.vstack(qs)\n",
    "    a.hlines([0, 1, 2, 3, 4], qs[:,0], qs[:,1], color='#3D9970', linestyle='-', lw=3)\n",
    "\n",
    "    positions=[0, 1, 2, 3, 4]\n",
    "    if len(ds) ==4: positions=[1, 2, 3, 4]\n",
    "    v1 = a.violinplot(ds,points=3000, positions=positions,\n",
    "               showmeans=False, showmedians=True,  \\\n",
    "                      showextrema=False, vert =False)\n",
    "    for b in v1['bodies']: \n",
    "          b.set_color('#0074D9')\n",
    "    v1['cmedians'].set_color('r')\n",
    "        #get the center\n",
    "    a.set_yticks([0, 1, 2, 3, 4])\n",
    "    a.set_yticklabels(spgrid2_labels)\n",
    "    a.set_xlabel('H (pc)', fontsize=18)\n",
    "    a.set_ylabel('Subtype', fontsize=18)\n",
    "    a.minorticks_on()\n",
    "    a.set(xlim=[50, 400])\n",
    "    a.set_title('Model= {}'.format(name), fontsize=18)\n",
    "\n",
    "\n",
    "plt.tight_layout()\n",
    "plt.savefig(wisps.OUTPUT_FIGURES+'/scaleheight_comparison.pdf', bbox_inches='tight',  \\\n",
    "            facecolor='white', transparent=True)\n"
   ]
  },
  {
   "cell_type": "code",
   "execution_count": 93,
   "metadata": {},
   "outputs": [],
   "source": [
    "ls=np.concatenate([np.concatenate(scale_height_dist_df.loc['L0-L5'].values).flatten(),\\\n",
    "                  np.concatenate(scale_height_dist_df.loc['L5-T0'].values).flatten()])\n",
    "\n",
    "ts=np.concatenate([np.concatenate(scale_height_dist_df.loc['T0-T5'].values).flatten(),\\\n",
    "                  np.concatenate(scale_height_dist_df.loc['T5-Y0'].values).flatten()])"
   ]
  },
  {
   "cell_type": "code",
   "execution_count": 94,
   "metadata": {},
   "outputs": [
    {
     "name": "stdout",
     "output_type": "stream",
     "text": [
      "T  (193.12, array([ 71.01, 207.88]))\n"
     ]
    }
   ],
   "source": [
    "print ('T ', asssymetric_med_std(ts))"
   ]
  },
  {
   "cell_type": "code",
   "execution_count": 95,
   "metadata": {},
   "outputs": [
    {
     "data": {
      "text/plain": [
       "305"
      ]
     },
     "execution_count": 95,
     "metadata": {},
     "output_type": "execute_result"
    }
   ],
   "source": [
    "171+134"
   ]
  },
  {
   "cell_type": "code",
   "execution_count": 96,
   "metadata": {},
   "outputs": [
    {
     "name": "stdout",
     "output_type": "stream",
     "text": [
      "L  (176.18, array([ 46.65, 120.47]))\n"
     ]
    }
   ],
   "source": [
    "print ('L ', asssymetric_med_std(ls))"
   ]
  },
  {
   "cell_type": "code",
   "execution_count": 97,
   "metadata": {},
   "outputs": [
    {
     "name": "stdout",
     "output_type": "stream",
     "text": [
      "M  (323.6, array([101.78,  82.52]))\n"
     ]
    }
   ],
   "source": [
    "print ('M ',asssymetric_med_std(np.concatenate(scale_height_dist_df.loc['M7-L0'].values).flatten()))"
   ]
  },
  {
   "cell_type": "code",
   "execution_count": 98,
   "metadata": {},
   "outputs": [],
   "source": [
    "#print ('T ',asssymetric_med_std(np.concatenate(scale_height_dist_df.loc['T-L0'].values).flatten()))"
   ]
  },
  {
   "cell_type": "code",
   "execution_count": 99,
   "metadata": {},
   "outputs": [],
   "source": [
    "ignore_models_dict={'L0-L5': ['phillips2020'], 'M7-L0':[], 'L5-T0':[],\\\n",
    "                    'T0-T5':[], 'T5-Y0':[],  'T5-Y0':[]}"
   ]
  },
  {
   "cell_type": "code",
   "execution_count": 100,
   "metadata": {},
   "outputs": [
    {
     "data": {
      "text/html": [
       "<div>\n",
       "<style scoped>\n",
       "    .dataframe tbody tr th:only-of-type {\n",
       "        vertical-align: middle;\n",
       "    }\n",
       "\n",
       "    .dataframe tbody tr th {\n",
       "        vertical-align: top;\n",
       "    }\n",
       "\n",
       "    .dataframe thead th {\n",
       "        text-align: right;\n",
       "    }\n",
       "</style>\n",
       "<table border=\"1\" class=\"dataframe\">\n",
       "  <thead>\n",
       "    <tr style=\"text-align: right;\">\n",
       "      <th></th>\n",
       "      <th>baraffe2003</th>\n",
       "      <th>burrows1997</th>\n",
       "      <th>burrows2001</th>\n",
       "      <th>marley2019</th>\n",
       "      <th>phillips2020</th>\n",
       "      <th>saumon2008</th>\n",
       "    </tr>\n",
       "  </thead>\n",
       "  <tbody>\n",
       "    <tr>\n",
       "      <th>M7-L0</th>\n",
       "      <td>(4.14, [0.39, 0.43])</td>\n",
       "      <td>(6.68, [0.92, 1.35])</td>\n",
       "      <td>(7.29, [1.15, 1.65])</td>\n",
       "      <td>(nan, [nan, nan])</td>\n",
       "      <td>(nan, [nan, nan])</td>\n",
       "      <td>(nan, [nan, nan])</td>\n",
       "    </tr>\n",
       "    <tr>\n",
       "      <th>L0-L5</th>\n",
       "      <td>(2.58, [0.49, 0.62])</td>\n",
       "      <td>(3.8, [0.91, 1.65])</td>\n",
       "      <td>(3.25, [0.73, 1.05])</td>\n",
       "      <td>(2.84, [0.58, 0.77])</td>\n",
       "      <td>(5.3, [1.71, 3.01])</td>\n",
       "      <td>(2.69, [0.52, 0.66])</td>\n",
       "    </tr>\n",
       "    <tr>\n",
       "      <th>L5-T0</th>\n",
       "      <td>(2.97, [1.07, 2.82])</td>\n",
       "      <td>(2.95, [1.06, 2.99])</td>\n",
       "      <td>(2.97, [1.07, 3.06])</td>\n",
       "      <td>(2.98, [1.08, 2.93])</td>\n",
       "      <td>(2.94, [1.05, 2.82])</td>\n",
       "      <td>(2.75, [0.9, 2.54])</td>\n",
       "    </tr>\n",
       "    <tr>\n",
       "      <th>T0-T5</th>\n",
       "      <td>(3.41, [1.36, 3.19])</td>\n",
       "      <td>(3.24, [1.23, 2.92])</td>\n",
       "      <td>(3.29, [1.28, 3.09])</td>\n",
       "      <td>(3.52, [1.45, 2.94])</td>\n",
       "      <td>(3.29, [1.28, 3.09])</td>\n",
       "      <td>(3.17, [1.2, 2.88])</td>\n",
       "    </tr>\n",
       "    <tr>\n",
       "      <th>T5-Y0</th>\n",
       "      <td>(3.17, [1.24, 3.47])</td>\n",
       "      <td>(3.03, [1.13, 3.28])</td>\n",
       "      <td>(3.07, [1.17, 3.34])</td>\n",
       "      <td>(3.16, [1.23, 3.35])</td>\n",
       "      <td>(3.05, [1.15, 3.25])</td>\n",
       "      <td>(3.29, [1.34, 3.36])</td>\n",
       "    </tr>\n",
       "  </tbody>\n",
       "</table>\n",
       "</div>"
      ],
      "text/plain": [
       "                baraffe2003           burrows1997           burrows2001  \\\n",
       "M7-L0  (4.14, [0.39, 0.43])  (6.68, [0.92, 1.35])  (7.29, [1.15, 1.65])   \n",
       "L0-L5  (2.58, [0.49, 0.62])   (3.8, [0.91, 1.65])  (3.25, [0.73, 1.05])   \n",
       "L5-T0  (2.97, [1.07, 2.82])  (2.95, [1.06, 2.99])  (2.97, [1.07, 3.06])   \n",
       "T0-T5  (3.41, [1.36, 3.19])  (3.24, [1.23, 2.92])  (3.29, [1.28, 3.09])   \n",
       "T5-Y0  (3.17, [1.24, 3.47])  (3.03, [1.13, 3.28])  (3.07, [1.17, 3.34])   \n",
       "\n",
       "                 marley2019          phillips2020            saumon2008  \n",
       "M7-L0     (nan, [nan, nan])     (nan, [nan, nan])     (nan, [nan, nan])  \n",
       "L0-L5  (2.84, [0.58, 0.77])   (5.3, [1.71, 3.01])  (2.69, [0.52, 0.66])  \n",
       "L5-T0  (2.98, [1.08, 2.93])  (2.94, [1.05, 2.82])   (2.75, [0.9, 2.54])  \n",
       "T0-T5  (3.52, [1.45, 2.94])  (3.29, [1.28, 3.09])   (3.17, [1.2, 2.88])  \n",
       "T5-Y0  (3.16, [1.23, 3.35])  (3.05, [1.15, 3.25])  (3.29, [1.34, 3.36])  "
      ]
     },
     "execution_count": 100,
     "metadata": {},
     "output_type": "execute_result"
    }
   ],
   "source": [
    "age_tables_sharma"
   ]
  },
  {
   "cell_type": "code",
   "execution_count": 101,
   "metadata": {},
   "outputs": [
    {
     "data": {
      "text/html": [
       "<div>\n",
       "<style scoped>\n",
       "    .dataframe tbody tr th:only-of-type {\n",
       "        vertical-align: middle;\n",
       "    }\n",
       "\n",
       "    .dataframe tbody tr th {\n",
       "        vertical-align: top;\n",
       "    }\n",
       "\n",
       "    .dataframe thead th {\n",
       "        text-align: right;\n",
       "    }\n",
       "</style>\n",
       "<table border=\"1\" class=\"dataframe\">\n",
       "  <thead>\n",
       "    <tr style=\"text-align: right;\">\n",
       "      <th></th>\n",
       "      <th>baraffe2003</th>\n",
       "      <th>burrows1997</th>\n",
       "      <th>burrows2001</th>\n",
       "      <th>marley2019</th>\n",
       "      <th>phillips2020</th>\n",
       "      <th>saumon2008</th>\n",
       "    </tr>\n",
       "  </thead>\n",
       "  <tbody>\n",
       "    <tr>\n",
       "      <th>M7-L0</th>\n",
       "      <td>(3.22, [0.28, 0.31])</td>\n",
       "      <td>(5.13, [0.69, 1.01])</td>\n",
       "      <td>(5.63, [0.89, 1.36])</td>\n",
       "      <td>(nan, [nan, nan])</td>\n",
       "      <td>(nan, [nan, nan])</td>\n",
       "      <td>(nan, [nan, nan])</td>\n",
       "    </tr>\n",
       "    <tr>\n",
       "      <th>L0-L5</th>\n",
       "      <td>(2.04, [0.36, 0.46])</td>\n",
       "      <td>(2.97, [0.69, 1.27])</td>\n",
       "      <td>(2.55, [0.55, 0.79])</td>\n",
       "      <td>(2.24, [0.43, 0.57])</td>\n",
       "      <td>(4.38, [1.51, 3.31])</td>\n",
       "      <td>(2.13, [0.39, 0.5])</td>\n",
       "    </tr>\n",
       "    <tr>\n",
       "      <th>L5-T0</th>\n",
       "      <td>(2.46, [0.92, 2.74])</td>\n",
       "      <td>(2.44, [0.9, 2.86])</td>\n",
       "      <td>(2.47, [0.93, 3.32])</td>\n",
       "      <td>(2.44, [0.9, 3.0])</td>\n",
       "      <td>(2.44, [0.91, 3.16])</td>\n",
       "      <td>(2.23, [0.73, 2.35])</td>\n",
       "    </tr>\n",
       "    <tr>\n",
       "      <th>T0-T5</th>\n",
       "      <td>(2.82, [1.14, 3.29])</td>\n",
       "      <td>(2.66, [1.03, 3.06])</td>\n",
       "      <td>(2.73, [1.09, 3.53])</td>\n",
       "      <td>(2.94, [1.25, 3.41])</td>\n",
       "      <td>(2.7, [1.07, 3.13])</td>\n",
       "      <td>(2.59, [0.98, 2.74])</td>\n",
       "    </tr>\n",
       "    <tr>\n",
       "      <th>T5-Y0</th>\n",
       "      <td>(2.66, [1.08, 4.53])</td>\n",
       "      <td>(2.58, [1.02, 4.0])</td>\n",
       "      <td>(2.6, [1.04, 3.89])</td>\n",
       "      <td>(2.67, [1.09, 3.87])</td>\n",
       "      <td>(2.57, [1.03, 3.89])</td>\n",
       "      <td>(2.8, [1.2, 3.94])</td>\n",
       "    </tr>\n",
       "  </tbody>\n",
       "</table>\n",
       "</div>"
      ],
      "text/plain": [
       "                baraffe2003           burrows1997           burrows2001  \\\n",
       "M7-L0  (3.22, [0.28, 0.31])  (5.13, [0.69, 1.01])  (5.63, [0.89, 1.36])   \n",
       "L0-L5  (2.04, [0.36, 0.46])  (2.97, [0.69, 1.27])  (2.55, [0.55, 0.79])   \n",
       "L5-T0  (2.46, [0.92, 2.74])   (2.44, [0.9, 2.86])  (2.47, [0.93, 3.32])   \n",
       "T0-T5  (2.82, [1.14, 3.29])  (2.66, [1.03, 3.06])  (2.73, [1.09, 3.53])   \n",
       "T5-Y0  (2.66, [1.08, 4.53])   (2.58, [1.02, 4.0])   (2.6, [1.04, 3.89])   \n",
       "\n",
       "                 marley2019          phillips2020            saumon2008  \n",
       "M7-L0     (nan, [nan, nan])     (nan, [nan, nan])     (nan, [nan, nan])  \n",
       "L0-L5  (2.24, [0.43, 0.57])  (4.38, [1.51, 3.31])   (2.13, [0.39, 0.5])  \n",
       "L5-T0    (2.44, [0.9, 3.0])  (2.44, [0.91, 3.16])  (2.23, [0.73, 2.35])  \n",
       "T0-T5  (2.94, [1.25, 3.41])   (2.7, [1.07, 3.13])  (2.59, [0.98, 2.74])  \n",
       "T5-Y0  (2.67, [1.09, 3.87])  (2.57, [1.03, 3.89])    (2.8, [1.2, 3.94])  "
      ]
     },
     "execution_count": 101,
     "metadata": {},
     "output_type": "execute_result"
    }
   ],
   "source": [
    "age_tables_aumer"
   ]
  },
  {
   "cell_type": "code",
   "execution_count": 102,
   "metadata": {},
   "outputs": [],
   "source": [
    "def get_median(df, subtype, rund=1):\n",
    "    ignore_models=ignore_models_dict[subtype]\n",
    "    all_models=MODEL_NAMES\n",
    "    mds=[x for x in all_models if x not in ignore_models]\n",
    "    vs=np.concatenate(df[mds].loc[subtype].values).flatten()\n",
    "    val, unc=asssymetric_med_std(vs)\n",
    "    res=''\n",
    "    if np.isnan(val):\n",
    "            res += r'\\nodata&'\n",
    "    else:\n",
    "        if rund <1:\n",
    "                st=str(int(np.round(val, rund)))+ '$_{-'+ str(int(np.round(unc[0], rund)))+'}'+\\\n",
    "                '^{+'+str(int(np.round(unc[1], rund)))+'} $&'\n",
    "        else:\n",
    "                st=str(np.round(val, rund))+ '$_{-'+ str(np.round(unc[0], rund))+'}'+\\\n",
    "                '^{+'+str(np.round(unc[1], rund))+'} $&'\n",
    "        res += st\n",
    "    \n",
    "    return res\n",
    "def get_formatted_string(df, subtype, rund=1):\n",
    "    dn=df.loc[subtype]\n",
    "    res=''\n",
    "    for md in MODEL_NAMES:\n",
    "        val= dn[md][0]\n",
    "        unc=dn[md][1]\n",
    "        if np.isnan(val):\n",
    "            res += r'\\nodata &'\n",
    "        else:\n",
    "            if rund <1:\n",
    "                st=str(int(np.round(val, rund)))+ '$_{-'+ str(int(np.round(unc[0], rund)))+'}'+\\\n",
    "                '^{+'+str(int(np.round(unc[1], rund)))+'} $&'\n",
    "            else:\n",
    "                st=str(np.round(val, rund))+ '$_{-'+ str(np.round(unc[0], rund))+'}'+\\\n",
    "                '^{+'+str(np.round(unc[1], rund))+'} $&'\n",
    "            res += st\n",
    "    return res\n",
    "\n",
    "def get_age_median_from_simulation(subtype, rund=1):\n",
    "    res=''\n",
    "    \n",
    "    for model in MODEL_NAMES:\n",
    "        dfn0=age_dictionaries_median[model].replace('T5-T9', 'T5-Y0')\n",
    "        dfn=dfn0[dfn0.subtype==subtype]\n",
    "        if len(scale_height_dist[model][subtype]) <1:\n",
    "            res += r' \\nodata &'\n",
    "        else:\n",
    "            val, unc= asssymetric_med_std(dfn['age'].values)\n",
    "            if rund <1:\n",
    "                st=str(int(np.round(val, rund)))+ '$_{-'+ str(int(np.round(unc[0], rund)))+'}'+\\\n",
    "                '^{+'+str(int(np.round(unc[1], rund)))+'} $&'\n",
    "            else:\n",
    "                st=str(np.round(val, rund))+ '$_{-'+ str(np.round(unc[0], rund))+'}'+\\\n",
    "                '^{+'+str(np.round(unc[1], rund))+'} $&'\n",
    "            res += st\n",
    "    return res\n",
    "\n",
    "def get_age_median_all_from_simulation(subtype, rund=1):\n",
    "    ignore_models=ignore_models_dict[subtype]\n",
    "    ds=[]\n",
    "    res=''\n",
    "    all_models=MODEL_NAMES\n",
    "    mds=[x for x in all_models if x not in ignore_models]\n",
    "    for model in mds:\n",
    "        dfn0=age_dictionaries_median[model].replace('T5-T9', 'T5-Y0')\n",
    "        ds.append(dfn0[dfn0.subtype==subtype].age.values)\n",
    "    val, unc=asssymetric_med_std(np.concatenate(ds))\n",
    "    st=str(np.round(val, rund))+ '$_{-'+ str(np.round(unc[0], rund))+'}'+\\\n",
    "                '^{+'+str(np.round(unc[1], rund))+'} $&'\n",
    "    res += st\n",
    "    return res\n",
    "\n",
    "def get_ks_stats(subtype, rund=1, compareto='aumer'):\n",
    "    res=''\n",
    "    for model in MODEL_NAMES:\n",
    "        dfn=age_dictionaries_median[model].replace('T5-T9', 'T5-Y0')\n",
    "        x=dfn[dfn.subtype ==subtype].age.values\n",
    "        if compareto=='aumer': y=age_distdf_aumer[model][subtype]\n",
    "        if compareto=='just': y=age_distdf_just[model][subtype]\n",
    "        if compareto=='sharma': y=age_distdf_sharma[model][subtype]\n",
    "        if len(y)<2:\n",
    "            res +=r' & \\nodata '\n",
    "        else:\n",
    "            val=stats.ks_2samp(x, y, mode='asymp', alternative='two-sided')[0]\n",
    "            st= str(np.round(val, rund))+r'& \\\\nodata'\n",
    "            res += st\n",
    "    return res"
   ]
  },
  {
   "cell_type": "code",
   "execution_count": 103,
   "metadata": {},
   "outputs": [],
   "source": [
    "def custom_overlap_probability(subtype, ranges=[0, 13], rund=3, compareto='aumer'):\n",
    "    grid=np.linspace(ranges[-1], ranges[1], 100)\n",
    "   \n",
    "    res=''\n",
    "    for model in MODEL_NAMES:\n",
    "        dfn=age_dictionaries_median[model].replace('T5-T9', 'T5-Y0')\n",
    "        x=dfn[dfn.subtype ==subtype].age.values\n",
    "        if compareto=='aumer':y=age_distdf_aumer[model][subtype]\n",
    "        if compareto=='just': y=age_distdf_just[model][subtype]\n",
    "        if len(y)<2:\n",
    "            res +=r'\\nodata &'\n",
    "        else:\n",
    "            #Create overlapping probabilities\n",
    "            kde_sim=stats.kde.gaussian_kde(x)\n",
    "            kde_obs=stats.kde.gaussian_kde(y)\n",
    "\n",
    "            num=np.trapz(kde_sim(grid)*kde_obs(grid), x=grid)\n",
    "            den=np.trapz(kde_sim(grid), x=grid)*np.trapz(kde_obs(grid), x=grid)\n",
    "            val=num/den\n",
    "            st= str(np.round(val, rund))+r'& \\nodata'\n",
    "            res += st\n",
    "    \n",
    "    return res\n",
    "                                                \n",
    "                            "
   ]
  },
  {
   "cell_type": "code",
   "execution_count": 104,
   "metadata": {},
   "outputs": [],
   "source": [
    "grid=np.linspace(0, 13, 5000 )\n",
    "x=np.random.normal(5, 1, 1000)\n",
    "y=np.random.normal(5, 1, 1000)"
   ]
  },
  {
   "cell_type": "code",
   "execution_count": 105,
   "metadata": {},
   "outputs": [],
   "source": [
    "kde_sim=stats.kde.gaussian_kde(x)\n",
    "kde_obs=stats.kde.gaussian_kde(y)\n",
    "\n",
    "num=np.trapz(kde_sim(grid)*kde_obs(grid), x=grid)\n",
    "den=np.trapz(kde_sim(grid), x=grid)*np.trapz(kde_obs(grid), x=grid)"
   ]
  },
  {
   "cell_type": "code",
   "execution_count": 106,
   "metadata": {
    "scrolled": false
   },
   "outputs": [
    {
     "name": "stdout",
     "output_type": "stream",
     "text": [
      "M7-M9&$H$ (pc) &341$_{-41}^{+59} $&370$_{-52}^{+79} $&225$_{-17}^{+19} $&\\nodata &\\nodata &\\nodata &324$_{-102}^{+83} $&54&21.6\\\\ \n",
      " & $\\sigma_w$ (km/s)  &17.7$_{-1.1}^{+1.5} $&18.4$_{-1.4}^{+1.9} $&14.4$_{-0.6}^{+0.6} $&\\nodata &\\nodata &\\nodata &17.2$_{-3.0}^{+2.1} $&& \\nodata \\\\ \n",
      " & Age (Gyr) (A09)&5.1$_{-0.7}^{+1.0} $&5.6$_{-0.9}^{+1.4} $&3.2$_{-0.3}^{+0.3} $&\\nodata &\\nodata &\\nodata &4.8$_{-1.7}^{+1.4} $&& \\nodata \\\\ \n",
      " & Age (Gyr) (J10) &4.7$_{-0.8}^{+1.2} $&5.2$_{-1.0}^{+1.6} $&2.6$_{-0.3}^{+0.3} $&\\nodata &\\nodata &\\nodata &4.4$_{-1.8}^{+1.6} $&& \\nodata \\\\ \n",
      " & Age (Gyr) (S21) &6.7$_{-0.9}^{+1.4} $&7.3$_{-1.2}^{+1.6} $&4.1$_{-0.4}^{+0.4} $&\\nodata &\\nodata &\\nodata &6.3$_{-2.2}^{+1.8} $&& \\nodata \\\\ \n",
      " & Median Age (Gyr) (Simulation)&2.8$_{-0.6}^{+0.6} $&3.0$_{-0.7}^{+0.7} $&3.6$_{-0.6}^{+0.6} $&3.4$_{-0.7}^{+0.7} $& \\nodata & \\nodata &2.7$_{-2.4}^{+1.0} $&& \\\\ \n",
      " & KS (A09-Simulation) & 1.0& \\\\nodata1.0& \\\\nodata0.4& \\\\nodata & \\nodata  & \\nodata  & \\nodata & \\nodata \\\\ \n",
      " & KS (J10-Simulation) & 0.9& \\\\nodata0.9& \\\\nodata0.8& \\\\nodata & \\nodata  & \\nodata  & \\nodata & \\nodata \\\\ \n",
      " & KS (S21-Simulation) & 1.0& \\\\nodata1.0& \\\\nodata0.4& \\\\nodata & \\nodata  & \\nodata  & \\nodata & \\nodata \\\\ \n",
      "L0-L4&$H$ (pc) &210$_{-44}^{+78} $&183$_{-35}^{+50} $&150$_{-24}^{+30} $&156$_{-26}^{+32} $&163$_{-28}^{+37} $&296$_{-93}^{+193} $&168$_{-33}^{+54} $&12&4.4\\\\ \n",
      " & $\\sigma_w$ (km/s)  &13.9$_{-1.5}^{+2.4} $&13.0$_{-1.3}^{+1.7} $&11.8$_{-1.0}^{+1.1} $&12.0$_{-1.0}^{+1.2} $&12.2$_{-1.1}^{+1.3} $&16.5$_{-2.8}^{+4.7} $&12.4$_{-1.3}^{+1.8} $&& \\nodata \\\\ \n",
      " & Age (Gyr) (A09)&3.0$_{-0.7}^{+1.3} $&2.6$_{-0.6}^{+0.8} $&2.0$_{-0.4}^{+0.5} $&2.1$_{-0.4}^{+0.5} $&2.2$_{-0.4}^{+0.6} $&4.4$_{-1.5}^{+3.3} $&2.3$_{-0.5}^{+0.8} $&& \\nodata \\\\ \n",
      " & Age (Gyr) (J10) &2.4$_{-0.7}^{+1.3} $&2.0$_{-0.5}^{+0.8} $&1.5$_{-0.3}^{+0.4} $&1.5$_{-0.4}^{+0.5} $&1.6$_{-0.4}^{+0.6} $&3.9$_{-1.6}^{+3.8} $&1.7$_{-0.5}^{+0.8} $&& \\nodata \\\\ \n",
      " & Age (Gyr) (S21) &3.8$_{-0.9}^{+1.6} $&3.2$_{-0.7}^{+1.0} $&2.6$_{-0.5}^{+0.6} $&2.7$_{-0.5}^{+0.7} $&2.8$_{-0.6}^{+0.8} $&5.3$_{-1.7}^{+3.0} $&3.0$_{-0.7}^{+1.1} $&& \\nodata \\\\ \n",
      " & Median Age (Gyr) (Simulation)&2.3$_{-1.0}^{+1.3} $&2.5$_{-1.0}^{+1.4} $&2.4$_{-1.0}^{+1.3} $&3.1$_{-1.2}^{+1.4} $&2.4$_{-1.0}^{+1.4} $&1.3$_{-0.4}^{+0.7} $&2.5$_{-1.1}^{+1.4} $&& \\\\ \n",
      " & KS (A09-Simulation) & 0.3& \\\\nodata0.2& \\\\nodata0.3& \\\\nodata0.5& \\\\nodata0.2& \\\\nodata0.9& \\\\nodata& \\nodata \\\\ \n",
      " & KS (J10-Simulation) & 0.1& \\\\nodata0.3& \\\\nodata0.5& \\\\nodata0.7& \\\\nodata0.4& \\\\nodata0.8& \\\\nodata& \\nodata \\\\ \n",
      " & KS (S21-Simulation) & 0.5& \\\\nodata0.4& \\\\nodata0.3& \\\\nodata0.3& \\\\nodata0.3& \\\\nodata0.9& \\\\nodata& \\nodata \\\\ \n",
      "L5-L9&$H$ (pc) &176$_{-59}^{+175} $&178$_{-61}^{+202} $&177$_{-60}^{+168} $&163$_{-48}^{+146} $&176$_{-59}^{+183} $&176$_{-60}^{+192} $&174$_{-58}^{+179} $&2&0.2\\\\ \n",
      " & $\\sigma_w$ (km/s)  &12.7$_{-2.4}^{+5.2} $&12.8$_{-2.4}^{+5.9} $&12.8$_{-2.4}^{+5.0} $&12.2$_{-2.0}^{+4.6} $&12.7$_{-2.3}^{+5.4} $&12.7$_{-2.4}^{+5.7} $&12.6$_{-2.3}^{+5.4} $&& \\nodata \\\\ \n",
      " & Age (Gyr) (A09)&2.4$_{-0.9}^{+2.9} $&2.5$_{-0.9}^{+3.3} $&2.5$_{-0.9}^{+2.7} $&2.2$_{-0.7}^{+2.4} $&2.4$_{-0.9}^{+3.0} $&2.4$_{-0.9}^{+3.2} $&2.4$_{-0.9}^{+2.9} $&& \\nodata \\\\ \n",
      " & Age (Gyr) (J10) &1.8$_{-0.8}^{+3.0} $&1.9$_{-0.9}^{+3.6} $&1.9$_{-0.9}^{+2.9} $&1.6$_{-0.7}^{+2.4} $&1.8$_{-0.8}^{+3.2} $&1.8$_{-0.8}^{+3.4} $&1.8$_{-0.8}^{+3.1} $&& \\nodata \\\\ \n",
      " & Age (Gyr) (S21) &3.0$_{-1.1}^{+3.0} $&3.0$_{-1.1}^{+3.1} $&3.0$_{-1.1}^{+2.8} $&2.8$_{-0.9}^{+2.5} $&3.0$_{-1.1}^{+2.9} $&2.9$_{-1.0}^{+2.8} $&2.9$_{-1.0}^{+2.9} $&& \\nodata \\\\ \n",
      " & Median Age (Gyr) (Simulation)&2.4$_{-1.3}^{+1.8} $&2.5$_{-1.5}^{+1.8} $&2.8$_{-1.5}^{+1.8} $&2.7$_{-1.6}^{+1.8} $&2.6$_{-1.4}^{+1.8} $&2.6$_{-1.4}^{+1.9} $&2.6$_{-1.5}^{+1.8} $&& \\\\ \n",
      " & KS (A09-Simulation) & 0.2& \\\\nodata0.2& \\\\nodata0.1& \\\\nodata0.2& \\\\nodata0.2& \\\\nodata0.2& \\\\nodata& \\nodata \\\\ \n",
      " & KS (J10-Simulation) & 0.2& \\\\nodata0.2& \\\\nodata0.2& \\\\nodata0.3& \\\\nodata0.2& \\\\nodata0.2& \\\\nodata& \\nodata \\\\ \n",
      " & KS (S21-Simulation) & 0.3& \\\\nodata0.3& \\\\nodata0.2& \\\\nodata0.2& \\\\nodata0.2& \\\\nodata0.2& \\\\nodata& \\nodata \\\\ \n",
      "T0-T4&$H$ (pc) &190$_{-67}^{+186} $&194$_{-71}^{+212} $&200$_{-74}^{+198} $&185$_{-64}^{+167} $&208$_{-81}^{+204} $&193$_{-70}^{+189} $&195$_{-71}^{+194} $&3&0.3\\\\ \n",
      " & $\\sigma_w$ (km/s)  &13.2$_{-2.6}^{+5.4} $&13.4$_{-2.7}^{+6.0} $&13.6$_{-2.8}^{+5.6} $&13.1$_{-2.5}^{+5.0} $&13.8$_{-3.0}^{+5.6} $&13.3$_{-2.7}^{+5.4} $&13.4$_{-2.7}^{+5.5} $&& \\nodata \\\\ \n",
      " & Age (Gyr) (A09)&2.7$_{-1.0}^{+3.1} $&2.7$_{-1.1}^{+3.5} $&2.8$_{-1.1}^{+3.3} $&2.6$_{-1.0}^{+2.7} $&2.9$_{-1.2}^{+3.4} $&2.7$_{-1.1}^{+3.1} $&2.7$_{-1.1}^{+3.2} $&& \\nodata \\\\ \n",
      " & Age (Gyr) (J10) &2.1$_{-1.0}^{+3.3} $&2.1$_{-1.0}^{+3.8} $&2.2$_{-1.1}^{+3.6} $&2.0$_{-0.9}^{+2.9} $&2.3$_{-1.2}^{+3.7} $&2.1$_{-1.0}^{+3.4} $&2.1$_{-1.0}^{+3.5} $&& \\nodata \\\\ \n",
      " & Age (Gyr) (S21) &3.2$_{-1.2}^{+2.9} $&3.3$_{-1.3}^{+3.1} $&3.4$_{-1.4}^{+3.2} $&3.2$_{-1.2}^{+2.9} $&3.5$_{-1.4}^{+2.9} $&3.3$_{-1.3}^{+3.1} $&3.3$_{-1.3}^{+3.0} $&& \\nodata \\\\ \n",
      " & Median Age (Gyr) (Simulation)&2.9$_{-1.4}^{+2.0} $&3.0$_{-1.5}^{+2.1} $&3.2$_{-1.6}^{+2.1} $&3.0$_{-1.6}^{+2.0} $&3.0$_{-1.6}^{+2.0} $&3.2$_{-1.6}^{+2.1} $&3.0$_{-1.6}^{+2.1} $&& \\\\ \n",
      " & KS (A09-Simulation) & 0.1& \\\\nodata0.1& \\\\nodata0.1& \\\\nodata0.1& \\\\nodata0.1& \\\\nodata0.1& \\\\nodata& \\nodata \\\\ \n",
      " & KS (J10-Simulation) & 0.2& \\\\nodata0.2& \\\\nodata0.2& \\\\nodata0.3& \\\\nodata0.2& \\\\nodata0.3& \\\\nodata& \\nodata \\\\ \n",
      " & KS (S21-Simulation) & 0.2& \\\\nodata0.2& \\\\nodata0.2& \\\\nodata0.2& \\\\nodata0.2& \\\\nodata0.1& \\\\nodata& \\nodata \\\\ \n",
      "T5-Y0&$H$ (pc) &185$_{-67}^{+241} $&186$_{-68}^{+234} $&190$_{-71}^{+270} $&199$_{-78}^{+236} $&191$_{-71}^{+233} $&185$_{-67}^{+234} $&189$_{-70}^{+241} $&1&0.2\\\\ \n",
      " & $\\sigma_w$ (km/s)  &13.0$_{-2.6}^{+6.7} $&13.1$_{-2.7}^{+6.6} $&13.2$_{-2.7}^{+7.4} $&13.5$_{-3.0}^{+6.5} $&13.2$_{-2.8}^{+6.5} $&13.0$_{-2.6}^{+6.6} $&13.2$_{-2.7}^{+6.7} $&& \\nodata \\\\ \n",
      " & Age (Gyr) (A09)&2.6$_{-1.0}^{+4.0} $&2.6$_{-1.0}^{+3.9} $&2.7$_{-1.1}^{+4.5} $&2.8$_{-1.2}^{+3.9} $&2.7$_{-1.1}^{+3.9} $&2.6$_{-1.0}^{+3.9} $&2.6$_{-1.1}^{+4.0} $&& \\nodata \\\\ \n",
      " & Age (Gyr) (J10) &2.0$_{-1.0}^{+4.4} $&2.0$_{-1.0}^{+4.2} $&2.1$_{-1.0}^{+5.0} $&2.2$_{-1.2}^{+4.3} $&2.1$_{-1.0}^{+4.2} $&2.0$_{-1.0}^{+4.2} $&2.0$_{-1.0}^{+4.4} $&& \\nodata \\\\ \n",
      " & Age (Gyr) (S21) &3.0$_{-1.1}^{+3.3} $&3.1$_{-1.2}^{+3.3} $&3.2$_{-1.2}^{+3.5} $&3.3$_{-1.3}^{+3.4} $&3.2$_{-1.2}^{+3.4} $&3.0$_{-1.2}^{+3.2} $&3.1$_{-1.2}^{+3.3} $&& \\nodata \\\\ \n",
      " & Median Age (Gyr) (Simulation)&4.1$_{-2.8}^{+2.7} $&4.1$_{-2.6}^{+2.8} $&4.0$_{-2.6}^{+2.8} $&4.3$_{-2.8}^{+2.6} $&4.1$_{-2.7}^{+2.7} $&4.2$_{-2.8}^{+2.7} $&4.1$_{-2.7}^{+2.7} $&& \\\\ \n",
      " & KS (A09-Simulation) & 0.2& \\\\nodata0.2& \\\\nodata0.2& \\\\nodata0.2& \\\\nodata0.2& \\\\nodata0.3& \\\\nodata& \\nodata \\\\ \n",
      " & KS (J10-Simulation) & 0.3& \\\\nodata0.3& \\\\nodata0.3& \\\\nodata0.3& \\\\nodata0.3& \\\\nodata0.3& \\\\nodata& \\nodata \\\\ \n",
      " & KS (S21-Simulation) & 0.2& \\\\nodata0.2& \\\\nodata0.2& \\\\nodata0.2& \\\\nodata0.2& \\\\nodata0.2& \\\\nodata& \\nodata \\\\ \n"
     ]
    }
   ],
   "source": [
    "#print latex formatted \n",
    "for idx, subtype in enumerate(spgrid2):\n",
    "    print (spgrid2_labels[idx] + r'&$H$ (pc) &' + get_formatted_string(scalh_tables, subtype, rund=0) \\\n",
    "           + get_median(scale_height_dist_df, subtype, rund=0) +  \\\n",
    "           str(int(np.round(y2)[idx]))+'&'+  str(np.round(THICK[idx], 1)) + r'\\\\ ')\n",
    "    \n",
    "    print (r' & $\\sigma_w$ (km/s)  &' + get_formatted_string(vel_tables, subtype) \\\n",
    "           + get_median(vel_df, subtype) + '& \\\\nodata '+ r'\\\\ ')\n",
    "    \n",
    "    print (r' & Age (Gyr) (A09)&' + get_formatted_string(age_tables_aumer, subtype)  \\\n",
    "           + get_median(age_distdf_aumer, subtype)+ '& \\\\nodata '  + r'\\\\ ')\n",
    "        \n",
    "    print (r' & Age (Gyr) (J10) &' + get_formatted_string(age_tables_just, subtype) \\\n",
    "           + get_median(age_distdf_just, subtype)+ '& \\\\nodata ' + r'\\\\ ')\n",
    "\n",
    "    print (r' & Age (Gyr) (S21) &' + get_formatted_string(age_tables_sharma, subtype) \\\n",
    "           + get_median(age_distdf_sharma, subtype)+ '& \\\\nodata ' + r'\\\\ ')\n",
    "    \n",
    "    \n",
    "    print (r' & Median Age (Gyr) (Simulation)&' + get_age_median_from_simulation(subtype, rund=1)  \\\n",
    "           + get_age_median_all_from_simulation(subtype, rund=1)+ '& ' + r'\\\\ ')\n",
    "    \n",
    "    print (r' & KS (A09-Simulation) & ' + get_ks_stats(subtype, rund=1, compareto='aumer')\\\n",
    "           +  '& \\\\nodata ' + r'\\\\ ')\n",
    "    \n",
    "    print (r' & KS (J10-Simulation) & ' + get_ks_stats(subtype, rund=1, compareto='just')\\\n",
    "           +  '& \\\\nodata ' + r'\\\\ ')\n",
    "    \n",
    "    print (r' & KS (S21-Simulation) & ' + get_ks_stats(subtype, rund=1, compareto='sharma')\\\n",
    "           +  '& \\\\nodata ' + r'\\\\ ')"
   ]
  },
  {
   "cell_type": "code",
   "execution_count": 107,
   "metadata": {},
   "outputs": [],
   "source": [
    "###################run same analysis for combined L and T d"
   ]
  },
  {
   "cell_type": "code",
   "execution_count": 108,
   "metadata": {},
   "outputs": [
    {
     "data": {
      "text/plain": [
       "(array([54.41546382, 11.61029519,  1.76045147,  2.66775411,  0.78003393]),\n",
       " array([21.58453618,  4.38970481,  0.23954853,  0.33224589,  0.21996607]))"
      ]
     },
     "execution_count": 108,
     "metadata": {},
     "output_type": "execute_result"
    }
   ],
   "source": [
    "y2, THICK"
   ]
  },
  {
   "cell_type": "code",
   "execution_count": 109,
   "metadata": {},
   "outputs": [],
   "source": [
    "ltotal_scaleheight={}\n",
    "ttotal_scaleheight={}"
   ]
  },
  {
   "cell_type": "code",
   "execution_count": 110,
   "metadata": {},
   "outputs": [
    {
     "data": {
      "text/plain": [
       "array([54.41546382, 11.61029519,  1.76045147,  2.66775411,  0.78003393])"
      ]
     },
     "execution_count": 110,
     "metadata": {},
     "output_type": "execute_result"
    }
   ],
   "source": [
    "y2"
   ]
  },
  {
   "cell_type": "code",
   "execution_count": 111,
   "metadata": {},
   "outputs": [],
   "source": [
    "#CHANGE THIS\n",
    "NUMBER_OF_OBSERVED_LTS=[y2[1]+y2[2], y2[3]+y2[4]]"
   ]
  },
  {
   "cell_type": "code",
   "execution_count": 112,
   "metadata": {},
   "outputs": [
    {
     "data": {
      "text/plain": [
       "[13.370746665988326, 3.447788043186773]"
      ]
     },
     "execution_count": 112,
     "metadata": {},
     "output_type": "execute_result"
    }
   ],
   "source": [
    "NUMBER_OF_OBSERVED_LTS"
   ]
  },
  {
   "cell_type": "code",
   "execution_count": 113,
   "metadata": {},
   "outputs": [
    {
     "data": {
      "image/png": "[encoded data removed]",
      "text/plain": [
       "<Figure size 432x288 with 1 Axes>"
      ]
     },
     "metadata": {
      "needs_background": "light"
     },
     "output_type": "display_data"
    }
   ],
   "source": [
    "#compute rvs for \n",
    "fig, ax=plt.subplots()\n",
    "for m in MODEL_NAMES:\n",
    "    predvals=np.vstack(np.vstack(pred_number_dicts[m].values))[:,1]+\\\n",
    "    np.vstack(np.vstack(pred_number_dicts[m].values))[:,2]\n",
    "    interpf =interp1d(predvals, wispsim.HS)\n",
    "    rvs=stats.gamma.rvs(NUMBER_OF_OBSERVED_LTS[0], size =int(1e5))\n",
    "    npoisson=rvs[np.logical_and(rvs>=predvals.min(), rvs <=predvals.max())]\n",
    "    ltotal_scaleheight.update({m: interpf(npoisson)})\n",
    "    ax.plot(npoisson, interpf(npoisson), '^', alpha=0.1)\n",
    "    \n",
    "#compute rvs for \n",
    "for m in MODEL_NAMES:\n",
    "    predvals=np.vstack(np.vstack(pred_number_dicts[m].values))[:,3]+\\\n",
    "    np.vstack(np.vstack(pred_number_dicts[m].values))[:,4]\n",
    "    interpf =interp1d(predvals, wispsim.HS)\n",
    "    rvs=stats.gamma.rvs(NUMBER_OF_OBSERVED_LTS[-1], size =int(1e5))\n",
    "    npoisson=rvs[np.logical_and(rvs>=predvals.min(), rvs <=predvals.max())]\n",
    "    ttotal_scaleheight.update({m: interpf(npoisson)})"
   ]
  },
  {
   "cell_type": "code",
   "execution_count": 114,
   "metadata": {},
   "outputs": [
    {
     "data": {
      "text/plain": [
       "dict_keys(['burrows1997', 'burrows2001', 'baraffe2003', 'saumon2008', 'marley2019', 'phillips2020'])"
      ]
     },
     "execution_count": 114,
     "metadata": {},
     "output_type": "execute_result"
    }
   ],
   "source": [
    "ltotal_scaleheight.keys()"
   ]
  },
  {
   "cell_type": "code",
   "execution_count": 115,
   "metadata": {},
   "outputs": [],
   "source": [
    "ltotal_scaleheight['combined']=np.concatenate([ltotal_scaleheight[k] \\\n",
    "                                for k in ltotal_scaleheight.keys()])\n",
    "ttotal_scaleheight['combined']=np.concatenate([ttotal_scaleheight[k] \\\n",
    "                                for k in ttotal_scaleheight.keys()])"
   ]
  },
  {
   "cell_type": "code",
   "execution_count": 116,
   "metadata": {},
   "outputs": [
    {
     "data": {
      "image/png": "[encoded data removed]",
      "text/plain": [
       "<Figure size 432x288 with 1 Axes>"
      ]
     },
     "metadata": {
      "needs_background": "light"
     },
     "output_type": "display_data"
    }
   ],
   "source": [
    "_=plt.hist(ltotal_scaleheight['baraffe2003'], range=[100, 400], bins=100, alpha=0.5)\n",
    "_=plt.hist(ttotal_scaleheight['baraffe2003'], range=[50, 400], bins=100, alpha=0.5)"
   ]
  },
  {
   "cell_type": "code",
   "execution_count": 117,
   "metadata": {},
   "outputs": [],
   "source": [
    "ttotal_vdisp={}\n",
    "ltotal_vdisp={}\n",
    "\n",
    "ttotal_age_just={}\n",
    "ttotal_age_aumer={}\n",
    "ttotal_age_sharma={}\n",
    "\n",
    "ltotal_age_just={}\n",
    "ltotal_age_aumer={}\n",
    "ltotal_age_sharma={}\n",
    "\n",
    "for k in ttotal_scaleheight.keys():\n",
    "    ltotal_vdisp.update({k:scaleheight_to_vertical_disp(ltotal_scaleheight[k])})\n",
    "    ttotal_vdisp.update({k:scaleheight_to_vertical_disp(ttotal_scaleheight[k])})\n",
    "    \n",
    "    ttotal_age_just.update({k: galaxy.avr_just(ttotal_vdisp[k], verbose=False)})\n",
    "    ttotal_age_aumer.update({k:galaxy.avr_aumer(ttotal_vdisp[k], verbose=False)})\n",
    "    ttotal_age_sharma.update({k:galaxy.avr_sharma(ttotal_vdisp[k], \\\n",
    "                                                  z= np.ones_like(ttotal_vdisp[k])*0,\n",
    "                                                  met= np.ones_like(ttotal_vdisp[k])*0,\n",
    "                                                  verbose=False, nsample=1)[0]})\n",
    "    \n",
    "    ltotal_age_just.update({k:  galaxy.avr_just(ltotal_vdisp[k], verbose=False)})\n",
    "    ltotal_age_aumer.update({k:galaxy.avr_aumer(ltotal_vdisp[k], verbose=False)})\n",
    "    ltotal_age_sharma.update({k:galaxy.avr_sharma(ltotal_vdisp[k], \\\n",
    "                                                  z= np.ones_like(ltotal_vdisp[k])*0,\n",
    "                                                  met= np.ones_like(ltotal_vdisp[k])*0,\n",
    "                                                  verbose=False, nsample=1)[0]})\n",
    "    \n",
    "    "
   ]
  },
  {
   "cell_type": "code",
   "execution_count": 118,
   "metadata": {},
   "outputs": [],
   "source": [
    "lt_df_h=pd.DataFrame(columns= ttotal_scaleheight.keys(), index=['L', 'T'])\n",
    "lt_df_age_aumer=pd.DataFrame(columns= ttotal_scaleheight.keys(), index=['L', 'T'])\n",
    "lt_df_age_sharma=pd.DataFrame(columns= ttotal_scaleheight.keys(), index=['L', 'T'])\n",
    "lt_df_age_just=pd.DataFrame(columns= ttotal_scaleheight.keys(), index=['L', 'T'])\n",
    "lt_df_v=pd.DataFrame(columns= ttotal_scaleheight.keys(), index=['L', 'T'])"
   ]
  },
  {
   "cell_type": "code",
   "execution_count": 119,
   "metadata": {},
   "outputs": [],
   "source": [
    "for k in ttotal_scaleheight.keys():\n",
    "    lt_df_h.loc['L', k]=asssymetric_med_std(ltotal_scaleheight[k])\n",
    "    lt_df_v.loc['L', k]=asssymetric_med_std(ltotal_vdisp[k])\n",
    "    lt_df_age_aumer.loc['L', k]=asssymetric_med_std(ltotal_age_aumer[k])\n",
    "    lt_df_age_just.loc['L', k]=asssymetric_med_std(ltotal_age_just[k])\n",
    "    lt_df_age_sharma.loc['L', k]=asssymetric_med_std(ltotal_age_sharma[k])\n",
    "    \n",
    "    lt_df_h.loc['T', k]=asssymetric_med_std(ttotal_scaleheight[k])\n",
    "    lt_df_v.loc['T', k]=asssymetric_med_std(ttotal_vdisp[k])\n",
    "    lt_df_age_aumer.loc['T', k]=asssymetric_med_std(ttotal_age_aumer[k])\n",
    "    lt_df_age_just.loc['T', k]=asssymetric_med_std(ttotal_age_just[k])\n",
    "    lt_df_age_sharma.loc['T', k]=asssymetric_med_std(ttotal_age_sharma[k])"
   ]
  },
  {
   "cell_type": "code",
   "execution_count": 120,
   "metadata": {},
   "outputs": [
    {
     "data": {
      "text/html": [
       "<div>\n",
       "<style scoped>\n",
       "    .dataframe tbody tr th:only-of-type {\n",
       "        vertical-align: middle;\n",
       "    }\n",
       "\n",
       "    .dataframe tbody tr th {\n",
       "        vertical-align: top;\n",
       "    }\n",
       "\n",
       "    .dataframe thead th {\n",
       "        text-align: right;\n",
       "    }\n",
       "</style>\n",
       "<table border=\"1\" class=\"dataframe\">\n",
       "  <thead>\n",
       "    <tr style=\"text-align: right;\">\n",
       "      <th></th>\n",
       "      <th>burrows1997</th>\n",
       "      <th>burrows2001</th>\n",
       "      <th>baraffe2003</th>\n",
       "      <th>saumon2008</th>\n",
       "      <th>marley2019</th>\n",
       "      <th>phillips2020</th>\n",
       "      <th>combined</th>\n",
       "    </tr>\n",
       "  </thead>\n",
       "  <tbody>\n",
       "    <tr>\n",
       "      <th>L</th>\n",
       "      <td>202.86$ _{-41.08} ^{+69.81}$</td>\n",
       "      <td>182.25$ _{-34.52} ^{+48.49}$</td>\n",
       "      <td>150.92$ _{-23.7} ^{+29.59}$</td>\n",
       "      <td>153.73$ _{-24.76} ^{+31.44}$</td>\n",
       "      <td>162.8$ _{-27.85} ^{+35.51}$</td>\n",
       "      <td>264.84$ _{-72.88} ^{+161.26}$</td>\n",
       "      <td>175.43$ _{-37.21} ^{+75.79}$</td>\n",
       "    </tr>\n",
       "    <tr>\n",
       "      <th>T</th>\n",
       "      <td>181.63$ _{-60.59} ^{+161.94}$</td>\n",
       "      <td>185.18$ _{-63.24} ^{+176.56}$</td>\n",
       "      <td>191.18$ _{-66.3} ^{+180.85}$</td>\n",
       "      <td>185.81$ _{-63.21} ^{+156.65}$</td>\n",
       "      <td>196.8$ _{-71.2} ^{+178.77}$</td>\n",
       "      <td>184.75$ _{-63.19} ^{+163.29}$</td>\n",
       "      <td>187.55$ _{-64.71} ^{+169.27}$</td>\n",
       "    </tr>\n",
       "  </tbody>\n",
       "</table>\n",
       "</div>"
      ],
      "text/plain": [
       "                     burrows1997                    burrows2001  \\\n",
       "L   202.86$ _{-41.08} ^{+69.81}$   182.25$ _{-34.52} ^{+48.49}$   \n",
       "T  181.63$ _{-60.59} ^{+161.94}$  185.18$ _{-63.24} ^{+176.56}$   \n",
       "\n",
       "                    baraffe2003                     saumon2008  \\\n",
       "L   150.92$ _{-23.7} ^{+29.59}$   153.73$ _{-24.76} ^{+31.44}$   \n",
       "T  191.18$ _{-66.3} ^{+180.85}$  185.81$ _{-63.21} ^{+156.65}$   \n",
       "\n",
       "                    marley2019                   phillips2020  \\\n",
       "L  162.8$ _{-27.85} ^{+35.51}$  264.84$ _{-72.88} ^{+161.26}$   \n",
       "T  196.8$ _{-71.2} ^{+178.77}$  184.75$ _{-63.19} ^{+163.29}$   \n",
       "\n",
       "                        combined  \n",
       "L   175.43$ _{-37.21} ^{+75.79}$  \n",
       "T  187.55$ _{-64.71} ^{+169.27}$  "
      ]
     },
     "execution_count": 120,
     "metadata": {},
     "output_type": "execute_result"
    }
   ],
   "source": [
    "lt_df_h.applymap(reformat)"
   ]
  },
  {
   "cell_type": "code",
   "execution_count": 121,
   "metadata": {},
   "outputs": [
    {
     "data": {
      "text/html": [
       "<div>\n",
       "<style scoped>\n",
       "    .dataframe tbody tr th:only-of-type {\n",
       "        vertical-align: middle;\n",
       "    }\n",
       "\n",
       "    .dataframe tbody tr th {\n",
       "        vertical-align: top;\n",
       "    }\n",
       "\n",
       "    .dataframe thead th {\n",
       "        text-align: right;\n",
       "    }\n",
       "</style>\n",
       "<table border=\"1\" class=\"dataframe\">\n",
       "  <thead>\n",
       "    <tr style=\"text-align: right;\">\n",
       "      <th></th>\n",
       "      <th>burrows1997</th>\n",
       "      <th>burrows2001</th>\n",
       "      <th>baraffe2003</th>\n",
       "      <th>saumon2008</th>\n",
       "      <th>marley2019</th>\n",
       "      <th>phillips2020</th>\n",
       "      <th>combined</th>\n",
       "    </tr>\n",
       "  </thead>\n",
       "  <tbody>\n",
       "    <tr>\n",
       "      <th>L</th>\n",
       "      <td>13.66$ _{-1.46} ^{+2.18}$</td>\n",
       "      <td>12.95$ _{-1.29} ^{+1.62}$</td>\n",
       "      <td>11.78$ _{-0.96} ^{+1.1}$</td>\n",
       "      <td>11.89$ _{-1.0} ^{+1.16}$</td>\n",
       "      <td>12.24$ _{-1.1} ^{+1.27}$</td>\n",
       "      <td>15.61$ _{-2.32} ^{+4.19}$</td>\n",
       "      <td>12.7$ _{-1.43} ^{+2.5}$</td>\n",
       "    </tr>\n",
       "    <tr>\n",
       "      <th>T</th>\n",
       "      <td>12.92$ _{-2.37} ^{+4.85}$</td>\n",
       "      <td>13.05$ _{-2.46} ^{+5.19}$</td>\n",
       "      <td>13.26$ _{-2.54} ^{+5.24}$</td>\n",
       "      <td>13.07$ _{-2.45} ^{+4.67}$</td>\n",
       "      <td>13.45$ _{-2.71} ^{+5.13}$</td>\n",
       "      <td>13.03$ _{-2.46} ^{+4.86}$</td>\n",
       "      <td>13.13$ _{-2.5} ^{+4.98}$</td>\n",
       "    </tr>\n",
       "  </tbody>\n",
       "</table>\n",
       "</div>"
      ],
      "text/plain": [
       "                 burrows1997                burrows2001  \\\n",
       "L  13.66$ _{-1.46} ^{+2.18}$  12.95$ _{-1.29} ^{+1.62}$   \n",
       "T  12.92$ _{-2.37} ^{+4.85}$  13.05$ _{-2.46} ^{+5.19}$   \n",
       "\n",
       "                 baraffe2003                 saumon2008  \\\n",
       "L   11.78$ _{-0.96} ^{+1.1}$   11.89$ _{-1.0} ^{+1.16}$   \n",
       "T  13.26$ _{-2.54} ^{+5.24}$  13.07$ _{-2.45} ^{+4.67}$   \n",
       "\n",
       "                  marley2019               phillips2020  \\\n",
       "L   12.24$ _{-1.1} ^{+1.27}$  15.61$ _{-2.32} ^{+4.19}$   \n",
       "T  13.45$ _{-2.71} ^{+5.13}$  13.03$ _{-2.46} ^{+4.86}$   \n",
       "\n",
       "                   combined  \n",
       "L   12.7$ _{-1.43} ^{+2.5}$  \n",
       "T  13.13$ _{-2.5} ^{+4.98}$  "
      ]
     },
     "execution_count": 121,
     "metadata": {},
     "output_type": "execute_result"
    }
   ],
   "source": [
    "lt_df_v.applymap(reformat)"
   ]
  },
  {
   "cell_type": "code",
   "execution_count": 122,
   "metadata": {},
   "outputs": [
    {
     "data": {
      "text/html": [
       "<div>\n",
       "<style scoped>\n",
       "    .dataframe tbody tr th:only-of-type {\n",
       "        vertical-align: middle;\n",
       "    }\n",
       "\n",
       "    .dataframe tbody tr th {\n",
       "        vertical-align: top;\n",
       "    }\n",
       "\n",
       "    .dataframe thead th {\n",
       "        text-align: right;\n",
       "    }\n",
       "</style>\n",
       "<table border=\"1\" class=\"dataframe\">\n",
       "  <thead>\n",
       "    <tr style=\"text-align: right;\">\n",
       "      <th></th>\n",
       "      <th>burrows1997</th>\n",
       "      <th>burrows2001</th>\n",
       "      <th>baraffe2003</th>\n",
       "      <th>saumon2008</th>\n",
       "      <th>marley2019</th>\n",
       "      <th>phillips2020</th>\n",
       "      <th>combined</th>\n",
       "    </tr>\n",
       "  </thead>\n",
       "  <tbody>\n",
       "    <tr>\n",
       "      <th>L</th>\n",
       "      <td>2.86$ _{-0.64} ^{+1.13}$</td>\n",
       "      <td>2.54$ _{-0.53} ^{+0.77}$</td>\n",
       "      <td>2.05$ _{-0.36} ^{+0.46}$</td>\n",
       "      <td>2.1$ _{-0.38} ^{+0.49}$</td>\n",
       "      <td>2.23$ _{-0.42} ^{+0.55}$</td>\n",
       "      <td>3.86$ _{-1.17} ^{+2.73}$</td>\n",
       "      <td>2.43$ _{-0.57} ^{+1.21}$</td>\n",
       "    </tr>\n",
       "    <tr>\n",
       "      <th>T</th>\n",
       "      <td>2.53$ _{-0.93} ^{+2.65}$</td>\n",
       "      <td>2.58$ _{-0.97} ^{+2.9}$</td>\n",
       "      <td>2.68$ _{-1.02} ^{+2.98}$</td>\n",
       "      <td>2.59$ _{-0.97} ^{+2.56}$</td>\n",
       "      <td>2.77$ _{-1.1} ^{+2.95}$</td>\n",
       "      <td>2.58$ _{-0.97} ^{+2.67}$</td>\n",
       "      <td>2.62$ _{-0.99} ^{+2.78}$</td>\n",
       "    </tr>\n",
       "  </tbody>\n",
       "</table>\n",
       "</div>"
      ],
      "text/plain": [
       "                burrows1997               burrows2001  \\\n",
       "L  2.86$ _{-0.64} ^{+1.13}$  2.54$ _{-0.53} ^{+0.77}$   \n",
       "T  2.53$ _{-0.93} ^{+2.65}$   2.58$ _{-0.97} ^{+2.9}$   \n",
       "\n",
       "                baraffe2003                saumon2008  \\\n",
       "L  2.05$ _{-0.36} ^{+0.46}$   2.1$ _{-0.38} ^{+0.49}$   \n",
       "T  2.68$ _{-1.02} ^{+2.98}$  2.59$ _{-0.97} ^{+2.56}$   \n",
       "\n",
       "                 marley2019              phillips2020  \\\n",
       "L  2.23$ _{-0.42} ^{+0.55}$  3.86$ _{-1.17} ^{+2.73}$   \n",
       "T   2.77$ _{-1.1} ^{+2.95}$  2.58$ _{-0.97} ^{+2.67}$   \n",
       "\n",
       "                   combined  \n",
       "L  2.43$ _{-0.57} ^{+1.21}$  \n",
       "T  2.62$ _{-0.99} ^{+2.78}$  "
      ]
     },
     "execution_count": 122,
     "metadata": {},
     "output_type": "execute_result"
    }
   ],
   "source": [
    "lt_df_age_aumer.applymap(reformat)"
   ]
  },
  {
   "cell_type": "code",
   "execution_count": 123,
   "metadata": {},
   "outputs": [
    {
     "data": {
      "text/html": [
       "<div>\n",
       "<style scoped>\n",
       "    .dataframe tbody tr th:only-of-type {\n",
       "        vertical-align: middle;\n",
       "    }\n",
       "\n",
       "    .dataframe tbody tr th {\n",
       "        vertical-align: top;\n",
       "    }\n",
       "\n",
       "    .dataframe thead th {\n",
       "        text-align: right;\n",
       "    }\n",
       "</style>\n",
       "<table border=\"1\" class=\"dataframe\">\n",
       "  <thead>\n",
       "    <tr style=\"text-align: right;\">\n",
       "      <th></th>\n",
       "      <th>burrows1997</th>\n",
       "      <th>burrows2001</th>\n",
       "      <th>baraffe2003</th>\n",
       "      <th>saumon2008</th>\n",
       "      <th>marley2019</th>\n",
       "      <th>phillips2020</th>\n",
       "      <th>combined</th>\n",
       "    </tr>\n",
       "  </thead>\n",
       "  <tbody>\n",
       "    <tr>\n",
       "      <th>L</th>\n",
       "      <td>3.67$ _{-0.85} ^{+1.48}$</td>\n",
       "      <td>3.24$ _{-0.71} ^{+1.02}$</td>\n",
       "      <td>2.59$ _{-0.48} ^{+0.61}$</td>\n",
       "      <td>2.65$ _{-0.5} ^{+0.65}$</td>\n",
       "      <td>2.83$ _{-0.57} ^{+0.75}$</td>\n",
       "      <td>4.8$ _{-1.4} ^{+2.77}$</td>\n",
       "      <td>3.08$ _{-0.75} ^{+1.53}$</td>\n",
       "    </tr>\n",
       "    <tr>\n",
       "      <th>T</th>\n",
       "      <td>3.1$ _{-1.13} ^{+2.72}$</td>\n",
       "      <td>3.17$ _{-1.18} ^{+2.79}$</td>\n",
       "      <td>3.29$ _{-1.24} ^{+2.98}$</td>\n",
       "      <td>3.21$ _{-1.2} ^{+2.75}$</td>\n",
       "      <td>3.37$ _{-1.32} ^{+2.81}$</td>\n",
       "      <td>3.18$ _{-1.19} ^{+2.85}$</td>\n",
       "      <td>3.22$ _{-1.21} ^{+2.82}$</td>\n",
       "    </tr>\n",
       "  </tbody>\n",
       "</table>\n",
       "</div>"
      ],
      "text/plain": [
       "                burrows1997               burrows2001  \\\n",
       "L  3.67$ _{-0.85} ^{+1.48}$  3.24$ _{-0.71} ^{+1.02}$   \n",
       "T   3.1$ _{-1.13} ^{+2.72}$  3.17$ _{-1.18} ^{+2.79}$   \n",
       "\n",
       "                baraffe2003               saumon2008  \\\n",
       "L  2.59$ _{-0.48} ^{+0.61}$  2.65$ _{-0.5} ^{+0.65}$   \n",
       "T  3.29$ _{-1.24} ^{+2.98}$  3.21$ _{-1.2} ^{+2.75}$   \n",
       "\n",
       "                 marley2019              phillips2020  \\\n",
       "L  2.83$ _{-0.57} ^{+0.75}$    4.8$ _{-1.4} ^{+2.77}$   \n",
       "T  3.37$ _{-1.32} ^{+2.81}$  3.18$ _{-1.19} ^{+2.85}$   \n",
       "\n",
       "                   combined  \n",
       "L  3.08$ _{-0.75} ^{+1.53}$  \n",
       "T  3.22$ _{-1.21} ^{+2.82}$  "
      ]
     },
     "execution_count": 123,
     "metadata": {},
     "output_type": "execute_result"
    }
   ],
   "source": [
    "lt_df_age_sharma.applymap(reformat)"
   ]
  },
  {
   "cell_type": "code",
   "execution_count": 124,
   "metadata": {},
   "outputs": [],
   "source": [
    "def get_combined_age_lt_simulation():\n",
    "    comb_dt={'L':[], 'T':[]}\n",
    "    combined_sim_ages_dict={'L':{}, 'T':{}}\n",
    "    ks_test_dict_aumer={'L': {}, 'T':{}}\n",
    "    ks_test_dict_just={'L': {}, 'T':{}}\n",
    "    ks_test_dict_sharma={'L': {}, 'T':{}}\n",
    "    for model in tqdm(MODEL_NAMES):\n",
    "        dfn0=age_dictionaries[model].replace('T5-T9', 'T5-Y0')\n",
    "        ls=dfn0[dfn0.spt.between(20, 29)].age.values\n",
    "        ts=dfn0[dfn0.spt.between(30, 39)].age.values\n",
    "        combined_sim_ages_dict['L'].update({model:asssymetric_med_std(ls) })\n",
    "        combined_sim_ages_dict['T'].update({model:asssymetric_med_std(ts) })\n",
    "        comb_dt['L'].append(ls)\n",
    "        comb_dt['T'].append(ts)\n",
    "         \n",
    "        kstestt_aumer=stats.ks_2samp(ts, ttotal_age_aumer[model], mode='asymp', alternative='two-sided')[0]\n",
    "        kstetstl_aumer=stats.ks_2samp(ls, ltotal_age_aumer[model], mode='asymp', alternative='two-sided')[0]\n",
    "        \n",
    "        kstestt_just=stats.ks_2samp(ts, ttotal_age_just[model], mode='asymp', alternative='two-sided')[0]\n",
    "        kstetstl_just=stats.ks_2samp(ls, ltotal_age_just[model], mode='asymp', alternative='two-sided')[0]\n",
    "        \n",
    "        kstestt_sharma=stats.ks_2samp(ts, ttotal_age_sharma[model], mode='asymp', alternative='two-sided')[0]\n",
    "        kstetstl_sharma=stats.ks_2samp(ls, ltotal_age_sharma[model], mode='asymp', alternative='two-sided')[0]\n",
    "        \n",
    "        ks_test_dict_aumer['L'].update({model: kstetstl_aumer})\n",
    "        ks_test_dict_aumer['T'].update({model: kstestt_aumer })\n",
    "        \n",
    "        ks_test_dict_just['L'].update({model: kstetstl_just})\n",
    "        ks_test_dict_just['T'].update({model: kstestt_just })\n",
    "        \n",
    "        ks_test_dict_sharma['L'].update({model: kstetstl_sharma})\n",
    "        ks_test_dict_sharma['T'].update({model: kstestt_sharma })\n",
    "        \n",
    "        \n",
    "    \n",
    "    df=pd.DataFrame.from_records(  combined_sim_ages_dict).T\n",
    "    df['combined']=[ asssymetric_med_std(np.concatenate(comb_dt['L'])),\\\n",
    "               asssymetric_med_std(np.concatenate(comb_dt['T']))]\n",
    "    #print (asssymetric_med_std(np.concatenate(comb_dt['L'])))\n",
    "    #df.loc['L', 'Combined']=asssymetric_med_std(np.concatenate(comb_dt['L']))\n",
    "    #df.loc['T', 'Combined']=asssymetric_med_std(np.concatenate(comb_dt['T']))\n",
    "    return df,  ks_test_dict_aumer,  ks_test_dict_just,  ks_test_dict_sharma\n",
    "\n",
    "        \n",
    "    "
   ]
  },
  {
   "cell_type": "code",
   "execution_count": 125,
   "metadata": {},
   "outputs": [
    {
     "name": "stderr",
     "output_type": "stream",
     "text": [
      "100%|█████████████████████████████████████████████| 6/6 [00:03<00:00,  1.74it/s]\n"
     ]
    }
   ],
   "source": [
    "simu_ages_lt, lt_ks_tests_aumer, lt_ks_tests_just, lt_ks_tests_sharma = get_combined_age_lt_simulation()"
   ]
  },
  {
   "cell_type": "code",
   "execution_count": 126,
   "metadata": {},
   "outputs": [
    {
     "data": {
      "text/html": [
       "<div>\n",
       "<style scoped>\n",
       "    .dataframe tbody tr th:only-of-type {\n",
       "        vertical-align: middle;\n",
       "    }\n",
       "\n",
       "    .dataframe tbody tr th {\n",
       "        vertical-align: top;\n",
       "    }\n",
       "\n",
       "    .dataframe thead th {\n",
       "        text-align: right;\n",
       "    }\n",
       "</style>\n",
       "<table border=\"1\" class=\"dataframe\">\n",
       "  <thead>\n",
       "    <tr style=\"text-align: right;\">\n",
       "      <th></th>\n",
       "      <th>burrows1997</th>\n",
       "      <th>burrows2001</th>\n",
       "      <th>baraffe2003</th>\n",
       "      <th>saumon2008</th>\n",
       "      <th>marley2019</th>\n",
       "      <th>phillips2020</th>\n",
       "      <th>combined</th>\n",
       "    </tr>\n",
       "  </thead>\n",
       "  <tbody>\n",
       "    <tr>\n",
       "      <th>L</th>\n",
       "      <td>(2.13, [1.57, 3.72])</td>\n",
       "      <td>(2.26, [1.72, 3.78])</td>\n",
       "      <td>(2.34, [1.78, 3.73])</td>\n",
       "      <td>(2.74, [2.13, 3.63])</td>\n",
       "      <td>(2.31, [1.75, 3.77])</td>\n",
       "      <td>(1.59, [1.15, 3.4])</td>\n",
       "      <td>(2.24, [1.7, 3.77])</td>\n",
       "    </tr>\n",
       "    <tr>\n",
       "      <th>T</th>\n",
       "      <td>(3.55, [2.44, 2.99])</td>\n",
       "      <td>(3.53, [2.41, 3.01])</td>\n",
       "      <td>(3.66, [2.49, 3.0])</td>\n",
       "      <td>(3.59, [2.45, 2.98])</td>\n",
       "      <td>(3.64, [2.48, 2.96])</td>\n",
       "      <td>(3.74, [2.55, 2.95])</td>\n",
       "      <td>(3.62, [2.47, 2.98])</td>\n",
       "    </tr>\n",
       "  </tbody>\n",
       "</table>\n",
       "</div>"
      ],
      "text/plain": [
       "            burrows1997           burrows2001           baraffe2003  \\\n",
       "L  (2.13, [1.57, 3.72])  (2.26, [1.72, 3.78])  (2.34, [1.78, 3.73])   \n",
       "T  (3.55, [2.44, 2.99])  (3.53, [2.41, 3.01])   (3.66, [2.49, 3.0])   \n",
       "\n",
       "             saumon2008            marley2019          phillips2020  \\\n",
       "L  (2.74, [2.13, 3.63])  (2.31, [1.75, 3.77])   (1.59, [1.15, 3.4])   \n",
       "T  (3.59, [2.45, 2.98])  (3.64, [2.48, 2.96])  (3.74, [2.55, 2.95])   \n",
       "\n",
       "               combined  \n",
       "L   (2.24, [1.7, 3.77])  \n",
       "T  (3.62, [2.47, 2.98])  "
      ]
     },
     "execution_count": 126,
     "metadata": {},
     "output_type": "execute_result"
    }
   ],
   "source": [
    "simu_ages_lt"
   ]
  },
  {
   "cell_type": "code",
   "execution_count": 127,
   "metadata": {},
   "outputs": [],
   "source": [
    "def print_string_for_lt_only(df, k, roundx=1, use_unc=True):\n",
    "    res=''\n",
    "    for m, mshort in zip(np.append(MODEL_NAMES, 'combined'),\\\n",
    "                         np.append(MODEL_SHORT_NAMES, 'Combined')):\n",
    "        if not use_unc:\n",
    "            val=df.loc[k,m]\n",
    "            st= str(round(val, roundx))+r' $&'\n",
    "        else:\n",
    "            val, unc=(df.loc[k, m])\n",
    "            st=str(round(val, roundx))+ '$_{-'+str(round(unc[0], roundx))+'}'\\\n",
    "                + '^{+'+str(round(unc[-1], roundx))+'}'+r' $&'\n",
    "            if roundx==0:\n",
    "                st=str(int(round(val, roundx)))+ '$_{-'+str(int(round(unc[0], roundx)))+'}'\\\n",
    "                    + '^{+'+str(int(round(unc[-1], roundx)))+'}'+r' $&'\n",
    "        res+= st\n",
    "    return res + r'\\\\'"
   ]
  },
  {
   "cell_type": "code",
   "execution_count": 128,
   "metadata": {},
   "outputs": [
    {
     "data": {
      "text/plain": [
       "'203$_{-41}^{+70} $&182$_{-35}^{+48} $&151$_{-24}^{+30} $&154$_{-25}^{+31} $&163$_{-28}^{+36} $&265$_{-73}^{+161} $&175$_{-37}^{+76} $&\\\\\\\\'"
      ]
     },
     "execution_count": 128,
     "metadata": {},
     "output_type": "execute_result"
    }
   ],
   "source": [
    "print_string_for_lt_only(lt_df_h, 'L', roundx=0)"
   ]
  },
  {
   "cell_type": "code",
   "execution_count": 129,
   "metadata": {},
   "outputs": [],
   "source": [
    "lt_ks_df_aumer=pd.DataFrame(lt_ks_tests_aumer).T\n",
    "lt_ks_df_aumer['combined']=[0.0, 0.0]\n",
    "\n",
    "lt_ks_df_just=pd.DataFrame(lt_ks_tests_just).T\n",
    "lt_ks_df_just['combined']=[0.0, 0.0]\n",
    "\n",
    "lt_ks_df_sharma=pd.DataFrame(lt_ks_tests_sharma).T\n",
    "lt_ks_df_sharma['combined']=[0.0, 0.0]"
   ]
  },
  {
   "cell_type": "code",
   "execution_count": 130,
   "metadata": {},
   "outputs": [
    {
     "data": {
      "text/html": [
       "<div>\n",
       "<style scoped>\n",
       "    .dataframe tbody tr th:only-of-type {\n",
       "        vertical-align: middle;\n",
       "    }\n",
       "\n",
       "    .dataframe tbody tr th {\n",
       "        vertical-align: top;\n",
       "    }\n",
       "\n",
       "    .dataframe thead th {\n",
       "        text-align: right;\n",
       "    }\n",
       "</style>\n",
       "<table border=\"1\" class=\"dataframe\">\n",
       "  <thead>\n",
       "    <tr style=\"text-align: right;\">\n",
       "      <th></th>\n",
       "      <th>burrows1997</th>\n",
       "      <th>burrows2001</th>\n",
       "      <th>baraffe2003</th>\n",
       "      <th>saumon2008</th>\n",
       "      <th>marley2019</th>\n",
       "      <th>phillips2020</th>\n",
       "      <th>combined</th>\n",
       "    </tr>\n",
       "  </thead>\n",
       "  <tbody>\n",
       "    <tr>\n",
       "      <th>L</th>\n",
       "      <td>(3.67, [0.85, 1.48])</td>\n",
       "      <td>(3.24, [0.71, 1.02])</td>\n",
       "      <td>(2.59, [0.48, 0.61])</td>\n",
       "      <td>(2.65, [0.5, 0.65])</td>\n",
       "      <td>(2.83, [0.57, 0.75])</td>\n",
       "      <td>(4.8, [1.4, 2.77])</td>\n",
       "      <td>(3.08, [0.75, 1.53])</td>\n",
       "    </tr>\n",
       "    <tr>\n",
       "      <th>T</th>\n",
       "      <td>(3.1, [1.13, 2.72])</td>\n",
       "      <td>(3.17, [1.18, 2.79])</td>\n",
       "      <td>(3.29, [1.24, 2.98])</td>\n",
       "      <td>(3.21, [1.2, 2.75])</td>\n",
       "      <td>(3.37, [1.32, 2.81])</td>\n",
       "      <td>(3.18, [1.19, 2.85])</td>\n",
       "      <td>(3.22, [1.21, 2.82])</td>\n",
       "    </tr>\n",
       "  </tbody>\n",
       "</table>\n",
       "</div>"
      ],
      "text/plain": [
       "            burrows1997           burrows2001           baraffe2003  \\\n",
       "L  (3.67, [0.85, 1.48])  (3.24, [0.71, 1.02])  (2.59, [0.48, 0.61])   \n",
       "T   (3.1, [1.13, 2.72])  (3.17, [1.18, 2.79])  (3.29, [1.24, 2.98])   \n",
       "\n",
       "            saumon2008            marley2019          phillips2020  \\\n",
       "L  (2.65, [0.5, 0.65])  (2.83, [0.57, 0.75])    (4.8, [1.4, 2.77])   \n",
       "T  (3.21, [1.2, 2.75])  (3.37, [1.32, 2.81])  (3.18, [1.19, 2.85])   \n",
       "\n",
       "               combined  \n",
       "L  (3.08, [0.75, 1.53])  \n",
       "T  (3.22, [1.21, 2.82])  "
      ]
     },
     "execution_count": 130,
     "metadata": {},
     "output_type": "execute_result"
    }
   ],
   "source": [
    "lt_df_age_sharma"
   ]
  },
  {
   "cell_type": "code",
   "execution_count": 131,
   "metadata": {},
   "outputs": [
    {
     "data": {
      "text/html": [
       "<div>\n",
       "<style scoped>\n",
       "    .dataframe tbody tr th:only-of-type {\n",
       "        vertical-align: middle;\n",
       "    }\n",
       "\n",
       "    .dataframe tbody tr th {\n",
       "        vertical-align: top;\n",
       "    }\n",
       "\n",
       "    .dataframe thead th {\n",
       "        text-align: right;\n",
       "    }\n",
       "</style>\n",
       "<table border=\"1\" class=\"dataframe\">\n",
       "  <thead>\n",
       "    <tr style=\"text-align: right;\">\n",
       "      <th></th>\n",
       "      <th>burrows1997</th>\n",
       "      <th>burrows2001</th>\n",
       "      <th>baraffe2003</th>\n",
       "      <th>saumon2008</th>\n",
       "      <th>marley2019</th>\n",
       "      <th>phillips2020</th>\n",
       "      <th>combined</th>\n",
       "    </tr>\n",
       "  </thead>\n",
       "  <tbody>\n",
       "    <tr>\n",
       "      <th>L</th>\n",
       "      <td>(2.86, [0.64, 1.13])</td>\n",
       "      <td>(2.54, [0.53, 0.77])</td>\n",
       "      <td>(2.05, [0.36, 0.46])</td>\n",
       "      <td>(2.1, [0.38, 0.49])</td>\n",
       "      <td>(2.23, [0.42, 0.55])</td>\n",
       "      <td>(3.86, [1.17, 2.73])</td>\n",
       "      <td>(2.43, [0.57, 1.21])</td>\n",
       "    </tr>\n",
       "    <tr>\n",
       "      <th>T</th>\n",
       "      <td>(2.53, [0.93, 2.65])</td>\n",
       "      <td>(2.58, [0.97, 2.9])</td>\n",
       "      <td>(2.68, [1.02, 2.98])</td>\n",
       "      <td>(2.59, [0.97, 2.56])</td>\n",
       "      <td>(2.77, [1.1, 2.95])</td>\n",
       "      <td>(2.58, [0.97, 2.67])</td>\n",
       "      <td>(2.62, [0.99, 2.78])</td>\n",
       "    </tr>\n",
       "  </tbody>\n",
       "</table>\n",
       "</div>"
      ],
      "text/plain": [
       "            burrows1997           burrows2001           baraffe2003  \\\n",
       "L  (2.86, [0.64, 1.13])  (2.54, [0.53, 0.77])  (2.05, [0.36, 0.46])   \n",
       "T  (2.53, [0.93, 2.65])   (2.58, [0.97, 2.9])  (2.68, [1.02, 2.98])   \n",
       "\n",
       "             saumon2008            marley2019          phillips2020  \\\n",
       "L   (2.1, [0.38, 0.49])  (2.23, [0.42, 0.55])  (3.86, [1.17, 2.73])   \n",
       "T  (2.59, [0.97, 2.56])   (2.77, [1.1, 2.95])  (2.58, [0.97, 2.67])   \n",
       "\n",
       "               combined  \n",
       "L  (2.43, [0.57, 1.21])  \n",
       "T  (2.62, [0.99, 2.78])  "
      ]
     },
     "execution_count": 131,
     "metadata": {},
     "output_type": "execute_result"
    }
   ],
   "source": [
    "lt_df_age_aumer"
   ]
  },
  {
   "cell_type": "code",
   "execution_count": 132,
   "metadata": {},
   "outputs": [
    {
     "data": {
      "text/html": [
       "<div>\n",
       "<style scoped>\n",
       "    .dataframe tbody tr th:only-of-type {\n",
       "        vertical-align: middle;\n",
       "    }\n",
       "\n",
       "    .dataframe tbody tr th {\n",
       "        vertical-align: top;\n",
       "    }\n",
       "\n",
       "    .dataframe thead th {\n",
       "        text-align: right;\n",
       "    }\n",
       "</style>\n",
       "<table border=\"1\" class=\"dataframe\">\n",
       "  <thead>\n",
       "    <tr style=\"text-align: right;\">\n",
       "      <th></th>\n",
       "      <th>burrows1997</th>\n",
       "      <th>burrows2001</th>\n",
       "      <th>baraffe2003</th>\n",
       "      <th>saumon2008</th>\n",
       "      <th>marley2019</th>\n",
       "      <th>phillips2020</th>\n",
       "      <th>combined</th>\n",
       "    </tr>\n",
       "  </thead>\n",
       "  <tbody>\n",
       "    <tr>\n",
       "      <th>L</th>\n",
       "      <td>(2.26, [0.63, 1.17])</td>\n",
       "      <td>(1.93, [0.51, 0.78])</td>\n",
       "      <td>(1.47, [0.33, 0.44])</td>\n",
       "      <td>(1.51, [0.35, 0.47])</td>\n",
       "      <td>(1.64, [0.4, 0.54])</td>\n",
       "      <td>(3.29, [1.21, 3.07])</td>\n",
       "      <td>(1.83, [0.54, 1.23])</td>\n",
       "    </tr>\n",
       "    <tr>\n",
       "      <th>T</th>\n",
       "      <td>(1.92, [0.88, 2.81])</td>\n",
       "      <td>(1.98, [0.92, 3.1])</td>\n",
       "      <td>(2.07, [0.97, 3.21])</td>\n",
       "      <td>(1.99, [0.92, 2.72])</td>\n",
       "      <td>(2.16, [1.05, 3.19])</td>\n",
       "      <td>(1.97, [0.92, 2.84])</td>\n",
       "      <td>(2.02, [0.94, 2.97])</td>\n",
       "    </tr>\n",
       "  </tbody>\n",
       "</table>\n",
       "</div>"
      ],
      "text/plain": [
       "            burrows1997           burrows2001           baraffe2003  \\\n",
       "L  (2.26, [0.63, 1.17])  (1.93, [0.51, 0.78])  (1.47, [0.33, 0.44])   \n",
       "T  (1.92, [0.88, 2.81])   (1.98, [0.92, 3.1])  (2.07, [0.97, 3.21])   \n",
       "\n",
       "             saumon2008            marley2019          phillips2020  \\\n",
       "L  (1.51, [0.35, 0.47])   (1.64, [0.4, 0.54])  (3.29, [1.21, 3.07])   \n",
       "T  (1.99, [0.92, 2.72])  (2.16, [1.05, 3.19])  (1.97, [0.92, 2.84])   \n",
       "\n",
       "               combined  \n",
       "L  (1.83, [0.54, 1.23])  \n",
       "T  (2.02, [0.94, 2.97])  "
      ]
     },
     "execution_count": 132,
     "metadata": {},
     "output_type": "execute_result"
    }
   ],
   "source": [
    "lt_df_age_just"
   ]
  },
  {
   "cell_type": "code",
   "execution_count": 133,
   "metadata": {
    "scrolled": true
   },
   "outputs": [
    {
     "name": "stdout",
     "output_type": "stream",
     "text": [
      "L&$H$ (pc) &203$_{-41}^{+70} $&182$_{-35}^{+48} $&151$_{-24}^{+30} $&154$_{-25}^{+31} $&163$_{-28}^{+36} $&265$_{-73}^{+161} $&175$_{-37}^{+76} $&\\\\\n",
      " & $\\sigma_w$ (km/s)  &13.7$_{-1.5}^{+2.2} $&13.0$_{-1.3}^{+1.6} $&11.8$_{-1.0}^{+1.1} $&11.9$_{-1.0}^{+1.2} $&12.2$_{-1.1}^{+1.3} $&15.6$_{-2.3}^{+4.2} $&12.7$_{-1.4}^{+2.5} $&\\\\\n",
      " & Age (Gyr) (A09) &2.9$_{-0.6}^{+1.1} $&2.5$_{-0.5}^{+0.8} $&2.0$_{-0.4}^{+0.5} $&2.1$_{-0.4}^{+0.5} $&2.2$_{-0.4}^{+0.6} $&3.9$_{-1.2}^{+2.7} $&2.4$_{-0.6}^{+1.2} $&\\\\\n",
      " & Age (Gyr) (J10) &2.3$_{-0.6}^{+1.2} $&1.9$_{-0.5}^{+0.8} $&1.5$_{-0.3}^{+0.4} $&1.5$_{-0.4}^{+0.5} $&1.6$_{-0.4}^{+0.5} $&3.3$_{-1.2}^{+3.1} $&1.8$_{-0.5}^{+1.2} $&\\\\\n",
      " & Age (Gyr) (S21) &3.7$_{-0.8}^{+1.5} $&3.2$_{-0.7}^{+1.0} $&2.6$_{-0.5}^{+0.6} $&2.6$_{-0.5}^{+0.6} $&2.8$_{-0.6}^{+0.8} $&4.8$_{-1.4}^{+2.8} $&3.1$_{-0.8}^{+1.5} $&\\\\\n",
      " & Median Age (Gyr) (Simulation)&2.1$_{-1.6}^{+3.7} $&2.3$_{-1.7}^{+3.8} $&2.3$_{-1.8}^{+3.7} $&2.7$_{-2.1}^{+3.6} $&2.3$_{-1.8}^{+3.8} $&1.6$_{-1.2}^{+3.4} $&2.2$_{-1.7}^{+3.8} $&\\\\\n",
      " & KS (A09-Simulation) & 0.4 $&0.4 $&0.4 $&0.4 $&0.4 $&0.6 $&0.0 $&\\\\\n",
      " & KS (J10-Simulation) & 0.3 $&0.3 $&0.5 $&0.5 $&0.4 $&0.5 $&0.0 $&\\\\\n",
      " & KS (S21-Simulation) & 0.5 $&0.5 $&0.4 $&0.4 $&0.4 $&0.7 $&0.0 $&\\\\\n",
      "T&$H$ (pc) &182$_{-61}^{+162} $&185$_{-63}^{+177} $&191$_{-66}^{+181} $&186$_{-63}^{+157} $&197$_{-71}^{+179} $&185$_{-63}^{+163} $&188$_{-65}^{+169} $&\\\\\n",
      " & $\\sigma_w$ (km/s)  &12.9$_{-2.4}^{+4.8} $&13.0$_{-2.5}^{+5.2} $&13.3$_{-2.5}^{+5.2} $&13.1$_{-2.4}^{+4.7} $&13.4$_{-2.7}^{+5.1} $&13.0$_{-2.5}^{+4.9} $&13.1$_{-2.5}^{+5.0} $&\\\\\n",
      " & Age (Gyr) (A09) &2.5$_{-0.9}^{+2.6} $&2.6$_{-1.0}^{+2.9} $&2.7$_{-1.0}^{+3.0} $&2.6$_{-1.0}^{+2.6} $&2.8$_{-1.1}^{+3.0} $&2.6$_{-1.0}^{+2.7} $&2.6$_{-1.0}^{+2.8} $&\\\\\n",
      " & Age (Gyr) (J10) &1.9$_{-0.9}^{+2.8} $&2.0$_{-0.9}^{+3.1} $&2.1$_{-1.0}^{+3.2} $&2.0$_{-0.9}^{+2.7} $&2.2$_{-1.0}^{+3.2} $&2.0$_{-0.9}^{+2.8} $&2.0$_{-0.9}^{+3.0} $&\\\\\n",
      " & Age (Gyr) (S21) &3.1$_{-1.1}^{+2.7} $&3.2$_{-1.2}^{+2.8} $&3.3$_{-1.2}^{+3.0} $&3.2$_{-1.2}^{+2.8} $&3.4$_{-1.3}^{+2.8} $&3.2$_{-1.2}^{+2.8} $&3.2$_{-1.2}^{+2.8} $&\\\\\n",
      " & Median Age (Gyr) (Simulation)&3.6$_{-2.4}^{+3.0} $&3.5$_{-2.4}^{+3.0} $&3.7$_{-2.5}^{+3.0} $&3.6$_{-2.4}^{+3.0} $&3.6$_{-2.5}^{+3.0} $&3.7$_{-2.6}^{+3.0} $&3.6$_{-2.5}^{+3.0} $&\\\\\n",
      " & KS (A09-Simulation) & 0.2 $&0.2 $&0.2 $&0.2 $&0.2 $&0.2 $&0.0 $&\\\\\n",
      " & KS (J10-Simulation) & 0.3 $&0.3 $&0.3 $&0.3 $&0.3 $&0.3 $&0.0 $&\\\\\n",
      " & KS (S21-Simulation) & 0.2 $&0.2 $&0.2 $&0.2 $&0.2 $&0.2 $&0.0 $&\\\\\n"
     ]
    }
   ],
   "source": [
    "for k in ['L', 'T']:\n",
    "    print (k + r'&$H$ (pc) &' + print_string_for_lt_only(lt_df_h, k, roundx=0) )\n",
    "    print (r' & $\\sigma_w$ (km/s)  &' + print_string_for_lt_only(lt_df_v, k, roundx=1))\n",
    "    print (r' & Age (Gyr) (A09) &' + print_string_for_lt_only(lt_df_age_aumer, k, roundx=1))\n",
    "    print (r' & Age (Gyr) (J10) &' + print_string_for_lt_only(lt_df_age_just, k, roundx=1))\n",
    "    print (r' & Age (Gyr) (S21) &' + print_string_for_lt_only(lt_df_age_sharma, k, roundx=1)) \n",
    "    print (r' & Median Age (Gyr) (Simulation)&' +print_string_for_lt_only(simu_ages_lt, k, roundx=1))\n",
    "    print (r' & KS (A09-Simulation) & ' +print_string_for_lt_only(lt_ks_df_aumer, k,  roundx=1, use_unc=False))\n",
    "    print (r' & KS (J10-Simulation) & ' +print_string_for_lt_only(lt_ks_df_just, k,  roundx=1, use_unc=False))\n",
    "    print (r' & KS (S21-Simulation) & ' +print_string_for_lt_only(lt_ks_df_sharma, k,  roundx=1, use_unc=False))\n",
    "    #print ('%%%%%%%%%%%%%%%%%%%%%%%%%%%%%%%%%%%%%%%%%%%')\n",
    "\n",
    "    \n",
    "\n"
   ]
  },
  {
   "cell_type": "code",
   "execution_count": 134,
   "metadata": {},
   "outputs": [
    {
     "data": {
      "text/plain": [
       "71.42399999999999"
      ]
     },
     "execution_count": 134,
     "metadata": {},
     "output_type": "execute_result"
    }
   ],
   "source": [
    "(124*4.8)*0.12"
   ]
  },
  {
   "cell_type": "code",
   "execution_count": 135,
   "metadata": {},
   "outputs": [
    {
     "data": {
      "text/plain": [
       "164"
      ]
     },
     "execution_count": 135,
     "metadata": {},
     "output_type": "execute_result"
    }
   ],
   "source": [
    "len(ucds)"
   ]
  },
  {
   "cell_type": "code",
   "execution_count": 136,
   "metadata": {},
   "outputs": [],
   "source": [
    "#just ages themselves "
   ]
  },
  {
   "cell_type": "code",
   "execution_count": 137,
   "metadata": {},
   "outputs": [
    {
     "ename": "NameError",
     "evalue": "name 'FGHJ' is not defined",
     "output_type": "error",
     "traceback": [
      "\u001b[0;31m---------------------------------------------------------------------------\u001b[0m",
      "\u001b[0;31mNameError\u001b[0m                                 Traceback (most recent call last)",
      "\u001b[0;32m/var/folders/p5/jqfspzln0z965dsfd1pj_5900000gp/T/ipykernel_6865/2239714889.py\u001b[0m in \u001b[0;36m<module>\u001b[0;34m\u001b[0m\n\u001b[0;32m----> 1\u001b[0;31m \u001b[0mFGHJ\u001b[0m\u001b[0;34m\u001b[0m\u001b[0;34m\u001b[0m\u001b[0m\n\u001b[0m",
      "\u001b[0;31mNameError\u001b[0m: name 'FGHJ' is not defined"
     ]
    }
   ],
   "source": [
    "FGHJ"
   ]
  },
  {
   "cell_type": "code",
   "execution_count": null,
   "metadata": {},
   "outputs": [],
   "source": [
    "VOLUMESF110=np.nansum(volumes.T, axis=2)*4.1*(u.arcmin**2).to(u.radian**2)"
   ]
  },
  {
   "cell_type": "code",
   "execution_count": null,
   "metadata": {},
   "outputs": [],
   "source": [
    "cnorm=Normalize(wispsim.HS[0], (wispsim.HS[-1]))"
   ]
  },
  {
   "cell_type": "code",
   "execution_count": null,
   "metadata": {},
   "outputs": [],
   "source": [
    "fig, ax=plt.subplots(figsize=(8, 5))\n",
    "for idx, h in enumerate(wispsim.HS):\n",
    "    #plt.plot(wispsim.SPGRID, np.log10(OLDERVOLUMES[idx]), color=cmap(cnorm(h/100)),\n",
    "     #   linewidth=3, linestyle='--', alpha=0.3)\n",
    "    \n",
    "    plt.plot(wispsim.SPGRID, np.log10(VOLUMES[idx]), color=cmap(cnorm(h)),\n",
    "             linewidth=3, label=r'h ={} pc'.format(h), linestyle='-')\n",
    "\n",
    "#plt.plot(wispsim.SPGRID, np.log10(vsunif), label=r'd$^3$' )\n",
    "plt.ylabel(r'Log  Veff', fontsize=18)\n",
    "plt.xlabel('SpT', fontsize=18)\n",
    "#plt.legend(fontsize=14)\n",
    "cax = fig.add_axes([.3, 0.4, .3, 0.03])\n",
    "mp=matplotlib.cm.ScalarMappable(norm=cnorm, cmap=cmap)\n",
    "cbar=plt.colorbar(mp, cax=cax, orientation='horizontal')\n",
    "cbar.ax.set_xlabel(r' H (pc)', fontsize=18)\n",
    "cax.minorticks_on()\n",
    "plt.minorticks_on()\n",
    "#plt.grid(which='both')\n",
    "\n",
    "plt.tight_layout()\n",
    "ax.set_xticks([20, 25, 30, 35, 40])\n",
    "ax.set_xticklabels(['L0', 'L5', 'T0', 'T5', 'Y0'])\n",
    "\n",
    "plt.savefig(wisps.OUTPUT_FIGURES+'/simulation_volumes.pdf', bbox_inches='tight')"
   ]
  },
  {
   "cell_type": "code",
   "execution_count": null,
   "metadata": {},
   "outputs": [],
   "source": [
    "steps=np.arange(len(pnts))\n",
    "AREA=4.1*(u.arcmin**2).to(u.radian**2)\n"
   ]
  },
  {
   "cell_type": "code",
   "execution_count": null,
   "metadata": {},
   "outputs": [],
   "source": [
    "np.shape(volumes[:,  ])\n",
    "import splat"
   ]
  },
  {
   "cell_type": "code",
   "execution_count": null,
   "metadata": {},
   "outputs": [],
   "source": [
    "fig, ((ax, ax1), (ax2, ax3))=plt.subplots(figsize=(10, 8), ncols=2, nrows=2)\n",
    "for idx, h in enumerate(wispsim.HS):\n",
    "    ax.step(steps, np.log10(np.cumsum(volumes[:, idx, 0])*AREA), color=cmap(cnorm(h)), linewidth=3)\n",
    "    ax1.step(steps, np.log10(np.cumsum(volumes[:,idx, 9])*AREA), color=cmap(cnorm(h)), linewidth=3)\n",
    "    ax2.step(steps, np.log10(np.cumsum(volumes[:,idx, -6])*AREA), color=cmap(cnorm(h)), linewidth=3)\n",
    "    ax3.step(steps, np.log10(np.cumsum(volumes[:, idx, -1])*AREA), color=cmap(cnorm(h)), linewidth=3, label=r'h ={}'.format(h))\n",
    "\n",
    "\n",
    "\n",
    "#ax2.set_ylabel(r'Log Cumulative Veff (pc$^3$)', fontsize=18)\n",
    "\n",
    "for a in [ax, ax1, ax2, ax3]:\n",
    "    a.set_xlabel('Number of Pointings', fontsize=18)\n",
    "    a.minorticks_on()\n",
    "    a.set_ylabel(r'Log Cumulative Veff (pc$^3$)', fontsize=18)\n",
    "    \n",
    "ax.set_title('{} UCDs'.format(splat.typeToNum(wispsim.SPGRID[0])), fontsize=18)\n",
    "ax1.set_title('{} UCDs'.format(splat.typeToNum(wispsim.SPGRID[9])), fontsize=18)\n",
    "ax2.set_title('{} UCDs'.format(splat.typeToNum(wispsim.SPGRID[-6])), fontsize=18)\n",
    "ax3.set_title('{} UCDs'.format(splat.typeToNum(wispsim.SPGRID[-1])), fontsize=18)\n",
    "\n",
    "#ax3.legend(fontsize=15)\n",
    "cax = fig.add_axes([.6, 0.2, .3, 0.03])\n",
    "mp=matplotlib.cm.ScalarMappable(norm=cnorm, cmap=cmap)\n",
    "cbar=plt.colorbar(mp, cax=cax, orientation='horizontal')\n",
    "cbar.ax.set_xlabel(r' H (pc)', fontsize=18)\n",
    "cax.minorticks_on()\n",
    "\n",
    "plt.tight_layout()\n",
    "\n",
    "\n",
    "plt.savefig(wisps.OUTPUT_FIGURES+'/cumulative_volumes.pdf', bbox_inches='tight')"
   ]
  },
  {
   "cell_type": "code",
   "execution_count": null,
   "metadata": {},
   "outputs": [],
   "source": [
    "LIT_SCALEHEIGHT={'ryan05': {'h': 350, 'her': 50, 'spt':[16, 19]},\\\n",
    "                 'pirzkal09':{'h': 370, 'her':60, 'spt':[14, 19]}, \\\n",
    "                 'holder14': {'h': 400, 'her':100 , 'spt':[15, 19]},\\\n",
    "                 'bochanski':{'h':300, 'her':15, 'spt': [10, 18]},\\\n",
    "                 'vanVledder':{'h': 290, 'her':20, 'spt':[10, 19]}, \\\n",
    "                 'ryan2016' :{'h':350, 'her':50, 'spt':[10, 19]},\\\n",
    "                 'carnero': {'h': 450 , 'her':0, 'spt':[20, 40]}}\n",
    "\n",
    "LIT_VELOCITY={'burgasser2015m': {'val':  13.8,  'er': 0.3, 'spt':[17, 19]},\\\n",
    "              'burgasser2015l':{'val': 19.5 , 'er': 0.4, 'spt':[20, 24]},\\\n",
    "            'hsu2021m':{'val': 16.3 , 'er':0.3, 'spt':[17, 19]}, \\\n",
    "            'hsu2021l': {'val':  15.3, 'er':0.3 , 'spt':[20, 29]},\\\n",
    "            'hsu2021t': {'val': 13.3, 'er': 0.4, 'spt':[30, 40]}}\n",
    "\n",
    "MY_SCALEHEIGHT={'m':{'h': 395, 'her':[144, 94], 'spt':[17, 19] }, \\\n",
    "                'l':{'h': 193, 'her':[41, 96], 'spt':[20, 29] },\\\n",
    "                't':{'h': 237, 'her':[98, 248], 'spt':[30, 40] }}\n",
    "\n",
    "MY_VELOCITY={'m':{'val': 19.9, 'er':[3.9,2.1], 'spt':[17, 19] }, \\\n",
    "                'l':{'val': 13.3, 'er':[1.5, 3.0], 'spt':[20, 29] },\\\n",
    "                't':{'val': 14.7, 'er':[3.5, 6.4], 'spt':[30, 40] }}"
   ]
  },
  {
   "cell_type": "code",
   "execution_count": null,
   "metadata": {},
   "outputs": [],
   "source": [
    "fig, ax=plt.subplots(figsize=(8, 6))\n",
    "for k in LIT_SCALEHEIGHT.keys():\n",
    "    sperr=[np.nanmedian(LIT_SCALEHEIGHT[k]['spt'])-LIT_SCALEHEIGHT[k]['spt'][0],\\\n",
    "          LIT_SCALEHEIGHT[k]['spt'][1]-np.nanmedian(LIT_SCALEHEIGHT[k]['spt'])]\n",
    "    \n",
    "    ax.errorbar(np.nanmedian(LIT_SCALEHEIGHT[k]['spt']), LIT_SCALEHEIGHT[k]['h'],\\\n",
    "                fmt='o', color='#111111', yerr= LIT_SCALEHEIGHT[k]['her'], \\\n",
    "               xerr=np.vstack(sperr))\n",
    "\n",
    "    \n",
    "for k in MY_SCALEHEIGHT:\n",
    "    sperr= [np.nanmedian(MY_SCALEHEIGHT[k]['spt'])-MY_SCALEHEIGHT[k]['spt'][0],\\\n",
    "    MY_SCALEHEIGHT[k]['spt'][-1]-np.nanmedian(MY_SCALEHEIGHT[k]['spt'])]\n",
    "    ax.errorbar(np.nanmedian(MY_SCALEHEIGHT[k]['spt']), MY_SCALEHEIGHT[k]['h'], fmt='o', \\\n",
    "                color='#01FF70', ms=10, lw=5, capsize=5, \\\n",
    "                xerr=np.vstack(sperr), yerr=np.vstack(MY_SCALEHEIGHT[k]['her']), \\\n",
    "                )\n",
    "\n",
    "ax.set_ylabel('Scaleheight (pc)', fontsize=18)\n",
    "ax.set_xlabel('Spectral Type', fontsize=18)\n",
    "ax.minorticks_on()\n",
    "\n",
    "ax.set_xticks([15, 20, 25, 30, 35, 40])\n",
    "ax.set_xticklabels(['M5', 'L0', 'L5', 'T0', 'T5', 'Y0'])\n",
    "\n",
    "#ax.legend()\n",
    "plt.tight_layout()\n",
    "plt.savefig(wisps.OUTPUT_FIGURES+'/scale_height_literature.pdf', \n",
    "            bbox_inches='tight',   facecolor='black', transparent=False)\n",
    "    "
   ]
  },
  {
   "cell_type": "code",
   "execution_count": null,
   "metadata": {},
   "outputs": [],
   "source": [
    "fig, ax=plt.subplots(figsize=(8, 6))\n",
    "for k in LIT_VELOCITY.keys():\n",
    "    sperr=[np.nanmedian(LIT_VELOCITY[k]['spt'])-LIT_VELOCITY[k]['spt'][0],\\\n",
    "          LIT_VELOCITY[k]['spt'][1]-np.nanmedian(LIT_VELOCITY[k]['spt'])]\n",
    "    \n",
    "    ax.errorbar(np.nanmedian(LIT_VELOCITY[k]['spt']), LIT_VELOCITY[k]['val'],\\\n",
    "                fmt='o', color='#111111', yerr= LIT_VELOCITY[k]['er'], \\\n",
    "               xerr=np.vstack(sperr))\n",
    "\n",
    "    \n",
    "for k in MY_SCALEHEIGHT:\n",
    "    sperr= [np.nanmedian(MY_VELOCITY[k]['spt'])-MY_VELOCITY[k]['spt'][0],\\\n",
    "    MY_VELOCITY[k]['spt'][-1]-np.nanmedian(MY_VELOCITY[k]['spt'])]\n",
    "    ax.errorbar(np.nanmedian(MY_VELOCITY[k]['spt'])+0.5, MY_VELOCITY[k]['val'], fmt='o', \\\n",
    "                color='#01FF70', ms=10, lw=5, capsize=5, \\\n",
    "                xerr=np.vstack(sperr), yerr=np.vstack(MY_VELOCITY[k]['er']), \\\n",
    "                )\n",
    "\n",
    "ax.set_ylabel('Vertical velocity dispersion (km/s)', fontsize=18)\n",
    "ax.set_xlabel('Spectral Type', fontsize=18)\n",
    "ax.minorticks_on()\n",
    "\n",
    "ax.set_xticks([15, 20, 25, 30, 35, 40])\n",
    "ax.set_xticklabels(['M5', 'L0', 'L5', 'T0', 'T5', 'Y0'])\n",
    "\n",
    "#ax.legend()\n",
    "plt.tight_layout()\n",
    "plt.savefig(wisps.OUTPUT_FIGURES+'/velocity_literature.pdf', \n",
    "            bbox_inches='tight',   facecolor='black', transparent=False)\n",
    "    "
   ]
  },
  {
   "cell_type": "code",
   "execution_count": null,
   "metadata": {},
   "outputs": [],
   "source": [
    "cands[cands.spt>35].spectra.iloc[0].grism_id"
   ]
  },
  {
   "cell_type": "code",
   "execution_count": null,
   "metadata": {},
   "outputs": [],
   "source": [
    "124*4.4"
   ]
  },
  {
   "cell_type": "code",
   "execution_count": null,
   "metadata": {},
   "outputs": [],
   "source": []
  }
 ],
 "metadata": {
  "kernelspec": {
   "display_name": "Python 3 (ipykernel)",
   "language": "python",
   "name": "python3"
  },
  "language_info": {
   "codemirror_mode": {
    "name": "ipython",
    "version": 3
   },
   "file_extension": ".py",
   "mimetype": "text/x-python",
   "name": "python",
   "nbconvert_exporter": "python",
   "pygments_lexer": "ipython3",
   "version": "3.9.7"
  }
 },
 "nbformat": 4,
 "nbformat_minor": 4
}
