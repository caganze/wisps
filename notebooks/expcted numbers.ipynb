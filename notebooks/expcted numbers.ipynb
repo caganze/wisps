{
 "cells": [
  {
   "cell_type": "code",
   "execution_count": 1,
   "metadata": {
    "scrolled": true
   },
   "outputs": [
    {
     "name": "stdout",
     "output_type": "stream",
     "text": [
      "Adding 2404 sources from /Users/caganze/research/splat//resources/Spectra/Public/SPEX-PRISM/ to spectral database\n",
      "Adding 89 sources from /Users/caganze/research/splat//resources/Spectra/Public/MAGE/ to spectral database\n",
      "Adding 145 sources from /Users/caganze/research/splat//resources/Spectra/Public/LRIS-RED/ to spectral database\n"
     ]
    }
   ],
   "source": [
    "import wisps\n",
    "import numpy as np\n",
    "import matplotlib.pyplot as plt\n",
    "import wisps.simulations as wispsim\n",
    "import pandas as pd\n",
    "from tqdm import tqdm\n",
    "import seaborn as sns\n",
    "from matplotlib.colors import Normalize\n",
    "import astropy.units as u \n",
    "import wisps.simulations.effective_numbers as eff\n",
    "import seaborn as sns\n",
    "import matplotlib\n",
    "import popsims\n",
    "import itertools\n",
    "#plt.style.use('dark_background')\n",
    "\n",
    "\n",
    "%matplotlib inline"
   ]
  },
  {
   "cell_type": "code",
   "execution_count": 2,
   "metadata": {},
   "outputs": [
    {
     "data": {
      "text/plain": [
       "{'wisps': {'F110': (poly1d([ 1.20489888, 18.31086895]), 0.5038943667884174),\n",
       "  'F140': (poly1d([ 1.49122797, 17.14118556]), 0.7495636144809823),\n",
       "  'F160': (poly1d([ 1.36561328, 17.37352631]), 1.4165037712823727)},\n",
       " 'hst3d': {'F110': (None, nan),\n",
       "  'F140': (poly1d([-0.10025015, 22.66882951]), 0.21335391346949473),\n",
       "  'F160': (poly1d([ 0.14320198, 21.86199263]), 0.22142403753971857)},\n",
       " 'ncutoff': 50,\n",
       " 'snr_exp': {'F110': [-0.21776493087453463,\n",
       "   0.40243890093647827,\n",
       "   1.3217319110936687,\n",
       "   19.6],\n",
       "  'F140': [-0.23887719632181675,\n",
       "   0.22807276171378127,\n",
       "   1.3281585332391845,\n",
       "   19.8],\n",
       "  'F160': [-0.23620324541815893, 0.3944339579480163, 1.533439801902046, 18.6]},\n",
       " 'mag_unc_exp': {'F110': [19.632175805849474,\n",
       "   -0.34825934107482936,\n",
       "   0.2541179554241336,\n",
       "   -2.5316445863281594],\n",
       "  'F140': [19.883179094204745,\n",
       "   -0.4297747738627907,\n",
       "   0.2597682343566299,\n",
       "   -2.1808887926774023],\n",
       "  'F160': [18.59282531952516,\n",
       "   -0.34825934107482936,\n",
       "   0.2513140745044105,\n",
       "   -2.469405380320458]},\n",
       " 'F110': (poly1d([ 1.20489888, 18.31086895]), 0.5038943667884174),\n",
       " 'F140': (poly1d([ 2.12204244, 15.72883812]), 0.8818377805795682),\n",
       " 'F160': (poly1d([ 0.938782  , 18.81585128]), 1.347672495695358),\n",
       " 'mag_limits': {'wisps': {'F110': (poly1d([ 1.25929308, 18.06154712]),\n",
       "    0.23360765612209988),\n",
       "   'F140': (poly1d([ 1.49122797, 17.14118556]), 0.29135610105223764),\n",
       "   'F160': (poly1d([ 1.36561328, 17.37352631]), 0.22849282117355352)}}}"
      ]
     },
     "execution_count": 2,
     "metadata": {},
     "output_type": "execute_result"
    }
   ],
   "source": [
    " wispsim.MAG_LIMITS"
   ]
  },
  {
   "cell_type": "code",
   "execution_count": 3,
   "metadata": {},
   "outputs": [],
   "source": [
    "import popsims\n",
    "import splat"
   ]
  },
  {
   "cell_type": "code",
   "execution_count": 4,
   "metadata": {},
   "outputs": [],
   "source": [
    "sgrid=wispsim.SPGRID\n",
    "pnts=pd.read_pickle(wisps.OUTPUT_FILES+'/pointings_correctedf110.pkl')\n",
    "corr_pols=wisps.POLYNOMIAL_RELATIONS['mag_limit_corrections'] \n",
    "klf=pd.read_csv('/users/caganze/research/wisps/data/kirkpatricklf.txt', delimiter=',')\n",
    "klf['bin_center']=np.mean(np.array([klf.t0.values, klf.tf.values]), axis=0)\n",
    "klf=klf.replace(0.0,np.nan)\n",
    "\n",
    "ucds=pd.read_pickle(wisps.LIBRARIES+'/new_real_ucds.pkl')\n",
    "#cands=cands[(cands.spt >=17) & (cands.snr1>=3)].reset_index(drop=True)\n",
    "cands=(ucds[ucds.selection!='']).reset_index(drop=True)\n",
    "tab=wisps.Annotator.reformat_table(cands)\n",
    "pnt_names=[x.name for x in pnts]"
   ]
  },
  {
   "cell_type": "code",
   "execution_count": 5,
   "metadata": {},
   "outputs": [],
   "source": [
    "#spgrid"
   ]
  },
  {
   "cell_type": "code",
   "execution_count": 6,
   "metadata": {},
   "outputs": [],
   "source": [
    "#cmap= sns.color_palette(\"coolwarm\", 8, as_cmap=True)\n",
    "cmap=matplotlib.cm.get_cmap('coolwarm')\n",
    "cnorm=Normalize(wispsim.HS[0], (wispsim.HS[-1]))"
   ]
  },
  {
   "cell_type": "code",
   "execution_count": 7,
   "metadata": {},
   "outputs": [],
   "source": [
    "kirkpatrick2020LF={'bin_center':np.flip(np.array([2025, 1875, 1725, 1575, 1425, 1275, 1125 , 975, 825, 675, 525])), \n",
    "                   'values':np.flip(np.array([0.72, 0.50,0.78, 0.81,0.94, 1.95, 1.11, 1.72, 1.99, 2.80, 4.24])), \n",
    "                   'unc':np.flip(([0.18, 0.17, 0.20,0.20, 0.22, 0.3, 0.25, 0.3, 0.32, 0.37, 0.70]))}\n"
   ]
  },
  {
   "cell_type": "code",
   "execution_count": 8,
   "metadata": {},
   "outputs": [],
   "source": [
    "MODEL_NAMES=['burrows1997', 'burrows2001', 'baraffe2003', 'saumon2008', 'marley2019', 'phillips2020']\n",
    "MODEL_SHORT_NAMES=['B97', 'B01', 'B03', 'SM08', 'M19', 'P20']\n"
   ]
  },
  {
   "cell_type": "code",
   "execution_count": 9,
   "metadata": {},
   "outputs": [],
   "source": [
    "def bin_by_spt_bin(sp_types, number, ltonly=False):\n",
    "    ranges=[[17, 20], [20, 25], [25, 30], [30, 35], [35, 40]]\n",
    "    if ltonly:\n",
    "        ranges=[[17, 20], [20, 30], [30, 41]]\n",
    "    numbers=[]\n",
    "    for r in ranges:\n",
    "        idx= np.logical_and((r[0]<=sp_types), (r[1]>sp_types))\n",
    "        numbers.append(np.nansum(number[idx]))\n",
    "    return numbers\n",
    "\n",
    "def get_all_numbers():\n",
    "    #Distribute the parameter sets evenly across the cores\n",
    "    func=lambda x, y:  get_simulated_number_model(y, x)\n",
    "\n",
    "    paramlist=[(i, j)  for i, j in itertools.product(MODEL_NAMES, wispsim.HS)]\n",
    "    res  = [func(x, y) for x,y in tqdm(paramlist)]\n",
    "    \n",
    "    nbrs = {}\n",
    "    for k in MODEL_NAMES:\n",
    "        ds0={}\n",
    "        for j in res:\n",
    "            if k in j.keys():\n",
    "                key=[x for x in j[k].keys()][0]\n",
    "                ds0.update({key: [(j[k][key])[yi] for yi in wispsim.SPGRID]})\n",
    "        #print (ds0)\n",
    "        nbrs[k]=np.array([ds0[k] for k in wispsim.HS])\n",
    "\n",
    "    return nbrs\n",
    "    \n",
    "\n",
    "\n",
    "def get_pointing(grism_id):\n",
    "    if grism_id.startswith('par'):\n",
    "        pntname=grism_id.lower().split('-')[0]\n",
    "    else:\n",
    "        pntname=grism_id.lower().split('-g141')[0]\n",
    "    loc=pnt_names.index(pntname)\n",
    "    return np.array(pnts)[loc]\n",
    "\n",
    "\n",
    "def iswithin_mag_limits(mags, pnt, spt):\n",
    "    #mgs is a dictionary\n",
    "    flags=[]\n",
    "    for k in pnt.mag_limits.keys():\n",
    "        if k =='F110' and pnt.survey =='hst3d':\n",
    "            flags.append(True)\n",
    "        else:\n",
    "            flags.append(mags[k] <= pnt.mag_limits[k]+ (corr_pols[k+'W'][0])(spt))\n",
    "    return np.logical_or.reduce(flags)\n",
    "\n",
    "def get_simulated_number_model(hidx, model):\n",
    "    #hidx is a scale height, model is evolutionary model\n",
    "    df=pd.read_hdf(wisps.OUTPUT_FILES+'/final_simulated_sample_cut_binaries.h5',\\\n",
    "                       key=str(model)+str(hidx)+str('spt_abs_mag'))\n",
    "    cutdf=(df[~df.is_cut]).rename(columns={'temperature': 'teff', \\\n",
    "                                          'slprob': 'sl'})\n",
    "    #cutdf=pd.read_hdf(wisps.OUTPUT_FILES+'/final_simulated_sample_cut.h5', key=str(model)+str('h')+str(hidx)+'F110_corrected')\n",
    "    #scl_dict=pd.read_pickle(wisps.OUTPUT_FILES+'/lf_scales.pkl') \n",
    "    #scales=scl_dict[model]\n",
    "    scale=[cutdf.scale.mean(), cutdf.scale_unc.mean(), cutdf.scale_times_model.mean()]\n",
    "    #scale=scale_lf_teff(cutdf.teff)\n",
    "    NSIM=dict(zip(wispsim.SPGRID,np.zeros((len(wispsim.SPGRID), 2))))\n",
    "    cutdf['spt_r']=cutdf.spt.apply(np.round)\n",
    "    for g in cutdf.groupby('spt_r'):\n",
    "        sn= len(cutdf.teff[np.logical_and(cutdf.teff>=450, cutdf.teff<=2100)])\n",
    "        n0=scale[-1]/scale[0]\n",
    "        #print (n0)\n",
    "        scln=np.array([scale[0]*n0/sn,\\\n",
    "                       (scale[1]*scale[-1])/(sn*scale[0])])\n",
    "        #scln=np.array(scale)\n",
    "        #assert scln[0] > scale[0]\n",
    "        NSIM[g[0]]=np.nansum(g[1].sl)*scln\n",
    "    del cutdf\n",
    "    return {model: {hidx:NSIM}}\n",
    "\n"
   ]
  },
  {
   "cell_type": "code",
   "execution_count": 10,
   "metadata": {},
   "outputs": [
    {
     "data": {
      "text/plain": [
       "['burrows1997',\n",
       " 'burrows2001',\n",
       " 'baraffe2003',\n",
       " 'saumon2008',\n",
       " 'marley2019',\n",
       " 'phillips2020']"
      ]
     },
     "execution_count": 10,
     "metadata": {},
     "output_type": "execute_result"
    }
   ],
   "source": [
    "MODEL_NAMES"
   ]
  },
  {
   "cell_type": "code",
   "execution_count": null,
   "metadata": {},
   "outputs": [],
   "source": []
  },
  {
   "cell_type": "code",
   "execution_count": 11,
   "metadata": {},
   "outputs": [],
   "source": [
    "#cutdf.scale"
   ]
  },
  {
   "cell_type": "code",
   "execution_count": 12,
   "metadata": {},
   "outputs": [],
   "source": [
    "def plot_one(NUMBERS, VOLUMES, filename='/oberved_numbers_one_panel.pdf'):\n",
    "    data_to_save={}\n",
    "    # In[ ]:\n",
    "    nall=wisps.custom_histogram(cands.spt.apply(wisps.make_spt_number), sgrid, 1)\n",
    "    \n",
    "    y2=bin_by_spt_bin(wispsim.SPGRID,nobs, ltonly=False)-THICK\n",
    "    yall=bin_by_spt_bin(wispsim.SPGRID,nall, ltonly=False)-THICK\n",
    "    \n",
    "    dy2=np.sqrt(y2)\n",
    "    dyall=np.sqrt(yall)\n",
    "     #add this to the dictionary\n",
    "    data_to_save['nall']=nall\n",
    "    data_to_save['nobs']=nobs\n",
    "    data_to_save['yall']=yall\n",
    "    data_to_save['y2']=y2\n",
    "\n",
    "    fig, a=plt.subplots(figsize=(8, 6))\n",
    "    \n",
    "    #for model, a in zip(['baraffe2003', 'saumon2008', 'marley2019', 'phillips2020'], np.concatenate(ax)):\n",
    "    model='baraffe2003'\n",
    "    for idx, h in enumerate(wispsim.HS):\n",
    "            \n",
    "            ns=None\n",
    "            ns=((NUMBERS[model])[idx])[:,0]*VOLUMES[idx]\n",
    "            nuncs=((NUMBERS[model])[idx])[:,1]*VOLUMES[idx]\n",
    "            \n",
    "            a.plot(spgrid2, bin_by_spt_bin(wispsim.SPGRID,ns, ltonly=False), \n",
    "                          color= cmap(cnorm(h)), \n",
    "                   linewidth=3, drawstyle=\"steps-mid\")\n",
    "            a.fill_between(spgrid2, bin_by_spt_bin(wispsim.SPGRID,ns+nuncs, ltonly=False),  \n",
    "                           bin_by_spt_bin(wispsim.SPGRID,ns-nuncs, ltonly=False), alpha=0.5, \n",
    "                           color= cmap(cnorm(h/100)),  step=\"mid\")\n",
    "        \n",
    "        \n",
    "    a.set_yscale('log')\n",
    "    #a.errorbar(spgrid2,y2, yerr=dy2,fmt='o', color='#111111')\n",
    "    #a.errorbar(spgrid2,yall, yerr=dyall,color='#B10DC9', mfc='white', fmt='o')\n",
    "    a.set_xlabel('SpT',fontsize=18)\n",
    "    a.set_ylabel('N',fontsize=18)\n",
    "    a.minorticks_on()\n",
    "            \n",
    "\n",
    "    #a.set_title('Model= SM08', fontsize=18)\n",
    "    a.set_title('Model= B03', fontsize=18)\n",
    "    #a.set_title('Model= M19', fontsize=18)\n",
    "    #a.set_title('Model= P20', fontsize=18)\n",
    "\n",
    "    a.errorbar(spgrid2,y2, yerr=dy2,fmt='o', label='Mag Limited')\n",
    "    #a.errorbar(spgrid2,yall, yerr=dyall, fmt='o', label='All Observations')\n",
    "    \n",
    "    cax = fig.add_axes([.5, 0.7, .3, 0.03])\n",
    "    mp=matplotlib.cm.ScalarMappable(norm=cnorm, cmap=cmap)\n",
    "    cbar=plt.colorbar(mp, cax=cax, orientation='horizontal')\n",
    "    cbar.ax.set_xlabel(r'Scaleheight (H)', fontsize=18)\n",
    "    #cbar.ax.set_yticks([1, 3, 5, 10])\n",
    "    #a.legend(fontsize=14, loc='upper left')\n",
    "    plt.tight_layout()\n",
    "    plt.savefig(wisps.OUTPUT_FIGURES+filename, bbox_inches='tight')\n",
    "    "
   ]
  },
  {
   "cell_type": "code",
   "execution_count": 13,
   "metadata": {},
   "outputs": [],
   "source": [
    "#d=pd.read_pickle(wisps.OUTPUT_FILES+'/distance_samples{}'.format(h))"
   ]
  },
  {
   "cell_type": "code",
   "execution_count": 14,
   "metadata": {},
   "outputs": [],
   "source": [
    "#expectted counts from thick disk\n",
    "THICK=np.array([8.79798048, 2.30571423, 0.14145726, 0.08853498, 0.01784511])"
   ]
  },
  {
   "cell_type": "code",
   "execution_count": 15,
   "metadata": {},
   "outputs": [],
   "source": [
    "\n",
    "tab['pnt']=tab['grism_id'].apply(get_pointing)\n",
    "tab['spt_val']=np.vstack(tab.spt.values)[:,0]\n",
    "obsmgs=tab[['F140W', 'F110W', 'F160W']].rename(columns={\"F110W\": \"F110\", \n",
    "                                                                    \"F140W\": \"F140\",\n",
    "                                                                    \"F160W\": \"F160\"}).to_dict('records')\n",
    "\n",
    "flags=[iswithin_mag_limits(x, y, z) for x, y, z in zip(obsmgs, tab.pnt.values,tab.spt.values )]\n",
    "\n",
    "#let's see what happens if we include all objects\n",
    "#flags=np.ones(len(flags)).astype(bool)\n",
    "cdf_to_use=tab[flags]\n",
    "\n",
    "nobs=wisps.custom_histogram(cdf_to_use.spt_val.apply(wisps.make_spt_number), sgrid, 1)\n",
    "\n",
    "\n",
    "spgrid2=['M7-L0', 'L0-L5', 'L5-T0', 'T0-T5', 'T5-Y0']\n",
    "spgrid3=['Late M', 'L', 'T']"
   ]
  },
  {
   "cell_type": "code",
   "execution_count": 16,
   "metadata": {},
   "outputs": [
    {
     "data": {
      "text/plain": [
       "(array([17, 18, 19, 20, 21, 22, 23, 24, 25, 26, 27, 28, 29, 30, 31, 32, 33,\n",
       "        34, 35, 36, 37, 38, 39, 40, 41]),)"
      ]
     },
     "execution_count": 16,
     "metadata": {},
     "output_type": "execute_result"
    }
   ],
   "source": [
    "sgrid,"
   ]
  },
  {
   "cell_type": "code",
   "execution_count": 17,
   "metadata": {},
   "outputs": [],
   "source": [
    "#for k in ['F140', 'F110', 'F160']:\n",
    "#    tab['lim_{}'.format(k)]=tab.pnt.apply(lambda x: x.mag_limits[k])\n",
    "#    tab['detected_{}'.format(k)]= tab[k+'W'] < tab['lim_{}'.format(k)]"
   ]
  },
  {
   "cell_type": "code",
   "execution_count": 18,
   "metadata": {},
   "outputs": [],
   "source": [
    "flags=np.array(flags)"
   ]
  },
  {
   "cell_type": "code",
   "execution_count": 19,
   "metadata": {},
   "outputs": [],
   "source": [
    "spgrid=np.arange(17, 42)"
   ]
  },
  {
   "cell_type": "code",
   "execution_count": 20,
   "metadata": {},
   "outputs": [
    {
     "name": "stderr",
     "output_type": "stream",
     "text": [
      "findfont: Font family ['serif'] not found. Falling back to DejaVu Sans.\n"
     ]
    },
    {
     "data": {
      "image/png": "[encoded data removed]",
      "text/plain": [
       "<Figure size 864x288 with 3 Axes>"
      ]
     },
     "metadata": {
      "needs_background": "light"
     },
     "output_type": "display_data"
    }
   ],
   "source": [
    "fig, ax=plt.subplots(figsize=(12, 4), ncols=3)\n",
    "\n",
    "ax[0].errorbar(tab.spt[flags], tab.F110W[flags], xerr=tab.spt_er[flags], yerr=tab.F110W_er[flags], fmt='o', c='k')\n",
    "ax[0].errorbar(tab.spt[~flags], tab.F110W[~flags], xerr=tab.spt_er[~flags], yerr=tab.F110W_er[~flags], \\\n",
    "                mfc='white', fmt='o')\n",
    "\n",
    "ax[1].errorbar(tab.spt[flags], tab.F140W[flags], xerr=tab.spt_er[flags], yerr=tab.F140W_er[flags], fmt='o', c='k')\n",
    "ax[1].errorbar(tab.spt[~flags], tab.F140W[~flags], xerr=tab.spt_er[~flags], yerr=tab.F140W_er[~flags], \\\n",
    "                mfc='white', fmt='o')\n",
    "\n",
    "\n",
    "ax[-1].errorbar(tab.spt[flags], tab.F160W[flags], xerr=tab.spt_er[flags], yerr=tab.F160W_er[flags], fmt='o', c='k')\n",
    "ax[-1].errorbar(tab.spt[~flags], tab.F160W[~flags], xerr=tab.spt_er[~flags], yerr=tab.F160W_er[~flags], \\\n",
    "                mfc='white', fmt='o')\n",
    "\n",
    "for p in pnts:\n",
    "    ax[0].plot(spgrid, p.mag_limits['F110']+(corr_pols['F110'+'W'][0])(spgrid), alpha=0.01, c='b')\n",
    "    ax[1].plot(spgrid, p.mag_limits['F140']+(corr_pols['F140'+'W'][0])(spgrid), alpha=0.01, c='b')\n",
    "    ax[-1].plot(spgrid, p.mag_limits['F160']+(corr_pols['F160'+'W'][0])(spgrid), alpha=0.01, c='b')\n",
    "\n",
    "ax[0].set_xlabel('F110')\n",
    "ax[1].set_xlabel('F140')\n",
    "ax[-1].set_xlabel('F160')\n",
    "ax[0].set_ylabel('SpT')\n",
    "ax[1].set_ylabel('SpT')\n",
    "ax[-1].set_ylabel('SpT')\n",
    "\n",
    "for a in ax:\n",
    "    a.minorticks_on()\n",
    "plt.tight_layout()"
   ]
  },
  {
   "cell_type": "code",
   "execution_count": 21,
   "metadata": {},
   "outputs": [],
   "source": [
    "#wisps.POLYNOMIALS"
   ]
  },
  {
   "cell_type": "code",
   "execution_count": 22,
   "metadata": {},
   "outputs": [],
   "source": [
    "#.MAG_LIMITS"
   ]
  },
  {
   "cell_type": "code",
   "execution_count": 23,
   "metadata": {},
   "outputs": [],
   "source": [
    "subtab=(tab[tab.spt.between(30, 35)]).reset_index(drop=True)"
   ]
  },
  {
   "cell_type": "code",
   "execution_count": 24,
   "metadata": {},
   "outputs": [],
   "source": [
    "#with pd.option_context('display.max_rows', None, 'display.max_columns', None):  # more options can be specified also\n",
    "#    print( subtab[['F140W', 'F160W', 'lim_F140', 'lim_F160', 'detected_F140', 'detected_F160', 'grism_id',\n",
    "#                  'spt']])"
   ]
  },
  {
   "cell_type": "code",
   "execution_count": null,
   "metadata": {},
   "outputs": [],
   "source": []
  },
  {
   "cell_type": "code",
   "execution_count": 25,
   "metadata": {
    "scrolled": false
   },
   "outputs": [
    {
     "name": "stderr",
     "output_type": "stream",
     "text": [
      "100%|██████████| 72/72 [09:28<00:00,  7.90s/it]\n"
     ]
    }
   ],
   "source": [
    "#NUMBERS=pd.read_pickle(wisps.OUTPUT_FILES+'/numbers_simulated.pkl')\n",
    "NUMBERS=get_all_numbers()"
   ]
  },
  {
   "cell_type": "code",
   "execution_count": 26,
   "metadata": {},
   "outputs": [
    {
     "data": {
      "text/plain": [
       "dict_keys(['burrows1997', 'burrows2001', 'baraffe2003', 'saumon2008', 'marley2019', 'phillips2020'])"
      ]
     },
     "execution_count": 26,
     "metadata": {},
     "output_type": "execute_result"
    }
   ],
   "source": [
    "NUMBERS.keys()"
   ]
  },
  {
   "cell_type": "code",
   "execution_count": 27,
   "metadata": {},
   "outputs": [],
   "source": [
    "#plt.hist(np.log10(NUMBERS['baraffe2003'][0][:,1]))"
   ]
  },
  {
   "cell_type": "code",
   "execution_count": 28,
   "metadata": {},
   "outputs": [],
   "source": [
    "volumes=[]\n",
    "for pnt in pnts:\n",
    "    vs=[]\n",
    "    for h in wispsim.HS:\n",
    "        vsx=[]\n",
    "        for g in wispsim.SPGRID:\n",
    "            vsx.append((pnt.volumes[h])[g])\n",
    "        vs.append(vsx)\n",
    "    volumes.append(vs)\n",
    "volumes=np.array(volumes)\n",
    "\n",
    "VOLUMES=(np.nansum(volumes, axis=0))*4.1*(u.arcmin**2).to(u.radian**2)"
   ]
  },
  {
   "cell_type": "code",
   "execution_count": 29,
   "metadata": {},
   "outputs": [
    {
     "data": {
      "text/plain": [
       "(['burrows1997',\n",
       "  'burrows2001',\n",
       "  'baraffe2003',\n",
       "  'saumon2008',\n",
       "  'marley2019',\n",
       "  'phillips2020'],\n",
       " ['B97', 'B01', 'B03', 'SM08', 'M19', 'P20'])"
      ]
     },
     "execution_count": 29,
     "metadata": {},
     "output_type": "execute_result"
    }
   ],
   "source": [
    "MODEL_NAMES, MODEL_SHORT_NAMES"
   ]
  },
  {
   "cell_type": "code",
   "execution_count": 30,
   "metadata": {},
   "outputs": [],
   "source": [
    "\n",
    "def plot(NUMBERS, VOLUMES, filename='/oberved_numbers.pdf'):\n",
    "    # In[ ]:\n",
    "    nall=wisps.custom_histogram(cands.spt.apply(wisps.make_spt_number), sgrid, 1)\n",
    "    \n",
    "    y2=bin_by_spt_bin(wispsim.SPGRID,nobs, ltonly=False)-THICK\n",
    "    yall=bin_by_spt_bin(wispsim.SPGRID,nall, ltonly=False)\n",
    "    \n",
    "    dy2=np.sqrt(y2)\n",
    "    dyall=np.sqrt(yall)\n",
    "\n",
    "    fig, ax=plt.subplots(figsize=(14, 8), ncols=3, nrows=2, sharey=True, sharex=False)\n",
    "    \n",
    "    for model, name, a in zip(MODEL_NAMES, MODEL_SHORT_NAMES, np.concatenate(ax)):\n",
    "        \n",
    "        for idx, h in enumerate(wispsim.HS):\n",
    "            \n",
    "            ns=None\n",
    "            ns=((NUMBERS[model])[idx])[:,0]*VOLUMES[idx]\n",
    "            nuncs=((NUMBERS[model])[idx])[:,1]*VOLUMES[idx]\n",
    "            \n",
    "            a.plot(spgrid2, bin_by_spt_bin(wispsim.SPGRID,ns, ltonly=False), \n",
    "                          color= cmap(cnorm(h)), \n",
    "                   linewidth=3, drawstyle=\"steps-mid\")\n",
    "            #a.fill_between(spgrid2, bin_by_spt_bin(wispsim.SPGRID,ns+nuncs, ltonly=False),  \n",
    "             #              bin_by_spt_bin(wispsim.SPGRID,ns-nuncs, ltonly=False), alpha=0.5, \n",
    "             #              color= cmap(cnorm(h/100)),  step=\"mid\")\n",
    "        \n",
    "        a.set_yscale('log')\n",
    "        a.errorbar(spgrid2,y2, yerr=dy2,fmt='o', color='#111111')\n",
    "        a.errorbar(spgrid2,yall, yerr=dyall,color='#B10DC9', mfc='white', fmt='o')\n",
    "        a.set_xlabel('SpT',fontsize=18)\n",
    "        a.set_ylabel('N',fontsize=18)\n",
    "        a.minorticks_on()\n",
    "        a.set_title('Model= {}'.format(name), fontsize=18)\n",
    "            \n",
    "\n",
    "    ax[1][-2].errorbar(spgrid2,y2, yerr=dy2,fmt='o', label='Mag Limited', color='#111111')\n",
    "    ax[1][-2].errorbar(spgrid2,yall, yerr=dyall,color='#B10DC9', fmt='o', mfc='white', label='All Observations')\n",
    "    \n",
    "    #ax[-1][-2].legend(fontsize=14,  bbox_to_anchor=(1.05, 1), loc='upper left')\n",
    "    #fig.delaxes(np.concatenate(ax)[-1])\n",
    "    ax[1][-2].legend( fontsize=14, loc='upper right')\n",
    "    \n",
    "    cax = fig.add_axes([1.01, 0.25, .015, 0.5])\n",
    "    mp=matplotlib.cm.ScalarMappable(norm=cnorm, cmap=cmap)\n",
    "    cbar=plt.colorbar(mp, cax=cax, orientation='vertical')\n",
    "    cbar.ax.set_ylabel(r'Scaleheight (H, pc)', fontsize=18)\n",
    "    #cbar.ax.set_yticks([1, 3, 5, 10])\n",
    "    #np.concatenate(ax)[-2].legend(loc='center left', bbox_to_anchor=(1, 1.5), fontsize=14)\n",
    "    plt.tight_layout()\n",
    "    plt.savefig(wisps.OUTPUT_FIGURES+filename, bbox_inches='tight')"
   ]
  },
  {
   "cell_type": "code",
   "execution_count": 31,
   "metadata": {
    "scrolled": false
   },
   "outputs": [
    {
     "name": "stderr",
     "output_type": "stream",
     "text": [
      "findfont: Font family ['serif'] not found. Falling back to DejaVu Sans.\n"
     ]
    },
    {
     "data": {
      "image/png": "[encoded data removed]",
      "text/plain": [
       "<Figure size 1008x576 with 7 Axes>"
      ]
     },
     "metadata": {
      "needs_background": "light"
     },
     "output_type": "display_data"
    }
   ],
   "source": [
    " plot(NUMBERS, VOLUMES, filename='/obs_numbers_plus_binaries.pdf')"
   ]
  },
  {
   "cell_type": "code",
   "execution_count": 32,
   "metadata": {},
   "outputs": [],
   "source": [
    "#save into pickle file\n",
    "#NUMBERS\n",
    "counts_numbers={'volumes': VOLUMES, 'densities': NUMBERS, 'scaleheights': wispsim.HS, 'nobs': nobs}\n",
    "import pickle\n",
    "with open(wisps.OUTPUT_FILES+'/expected_numbers_wisps_plus_binaries.pkl', 'wb') as file:\n",
    "    pickle.dump(counts_numbers,file)"
   ]
  },
  {
   "cell_type": "code",
   "execution_count": 33,
   "metadata": {},
   "outputs": [],
   "source": [
    "nall=wisps.custom_histogram(cands.spt.apply(wisps.make_spt_number), sgrid, 1)\n",
    "y2=bin_by_spt_bin(wispsim.SPGRID,nobs, ltonly=False)-THICK"
   ]
  },
  {
   "cell_type": "code",
   "execution_count": 34,
   "metadata": {},
   "outputs": [],
   "source": [
    "def asymetric_errors(vals):\n",
    "    if len(vals)<1:\n",
    "        return [np.nan, np.nan]\n",
    "    else:\n",
    "        med= np.nanmedian(vals)\n",
    "        up= np.nanpercentile(vals, 86)\n",
    "        dn= np.nanpercentile(vals, 14)\n",
    "        return np.array([med-dn, up-med])"
   ]
  },
  {
   "cell_type": "code",
   "execution_count": 35,
   "metadata": {},
   "outputs": [
    {
     "data": {
      "text/plain": [
       "155.00000000000003"
      ]
     },
     "execution_count": 35,
     "metadata": {},
     "output_type": "execute_result"
    }
   ],
   "source": [
    "np.nanpercentile(wispsim.HS, 10)"
   ]
  },
  {
   "cell_type": "code",
   "execution_count": null,
   "metadata": {},
   "outputs": [],
   "source": []
  },
  {
   "cell_type": "code",
   "execution_count": 36,
   "metadata": {},
   "outputs": [
    {
     "name": "stdout",
     "output_type": "stream",
     "text": [
      "all ----- [119.20201952  18.69428577   4.85854274   6.91146502   2.98215489]\n",
      "used ----- [64.20201952 12.69428577  1.85854274  2.91146502  0.98215489]\n",
      "MLT ----[73, 17, 4]\n",
      "All ----94\n"
     ]
    }
   ],
   "source": [
    "#just for L dwarfs and T dwarfs\n",
    "y3=bin_by_spt_bin(wispsim.SPGRID,nall, ltonly=False)-THICK\n",
    "y4=bin_by_spt_bin(wispsim.SPGRID,nobs, ltonly=True)#-THICK\n",
    "y5= np.nansum(y4)\n",
    "print ('all ----- {}'.format(y3))\n",
    "print ('used ----- {}'.format(y2))\n",
    "print ('MLT ----{}'.format(y4))\n",
    "print ('All ----{}'.format(y5))\n"
   ]
  },
  {
   "cell_type": "code",
   "execution_count": 37,
   "metadata": {},
   "outputs": [
    {
     "data": {
      "text/plain": [
       "(25, 2)"
      ]
     },
     "execution_count": 37,
     "metadata": {},
     "output_type": "execute_result"
    }
   ],
   "source": [
    "np.shape(NUMBERS['marley2019'][5])"
   ]
  },
  {
   "cell_type": "code",
   "execution_count": 38,
   "metadata": {},
   "outputs": [
    {
     "data": {
      "text/plain": [
       "(25,)"
      ]
     },
     "execution_count": 38,
     "metadata": {},
     "output_type": "execute_result"
    }
   ],
   "source": [
    "np.shape(wispsim.SPGRID)"
   ]
  },
  {
   "cell_type": "code",
   "execution_count": 39,
   "metadata": {},
   "outputs": [
    {
     "data": {
      "text/plain": [
       "[100, 150, 200, 250, 300, 350, 400, 450, 500, 600, 800, 1000]"
      ]
     },
     "execution_count": 39,
     "metadata": {},
     "output_type": "execute_result"
    }
   ],
   "source": [
    "wispsim.HS"
   ]
  },
  {
   "cell_type": "code",
   "execution_count": 40,
   "metadata": {},
   "outputs": [
    {
     "data": {
      "text/plain": [
       "0.005918152661878017"
      ]
     },
     "execution_count": 40,
     "metadata": {},
     "output_type": "execute_result"
    }
   ],
   "source": [
    "NUMBERS['marley2019'][5][-3][0]*VOLUMES[:,-3][5]"
   ]
  },
  {
   "cell_type": "code",
   "execution_count": 42,
   "metadata": {},
   "outputs": [],
   "source": [
    "#np.shape()"
   ]
  },
  {
   "cell_type": "code",
   "execution_count": 44,
   "metadata": {},
   "outputs": [],
   "source": [
    "#hjk"
   ]
  },
  {
   "cell_type": "code",
   "execution_count": null,
   "metadata": {},
   "outputs": [],
   "source": []
  },
  {
   "cell_type": "code",
   "execution_count": 45,
   "metadata": {},
   "outputs": [],
   "source": [
    "#PRINT THE BEST FIT NUMBER \n",
    "#best_fit={}\n",
    "numbers_fit={} #predictions for all\n",
    "numbers_fit_lt={} #predictions for M, L, T\n",
    "#numbers_fit_total={} #predictions for total number counts\n",
    "for model in MODEL_NAMES:\n",
    "        model_number_lt={}\n",
    "        model_number={}\n",
    "        for idx, h in enumerate(wispsim.HS):\n",
    "            \n",
    "            ns=None\n",
    "            ns=((NUMBERS[model])[idx])[:,0]*VOLUMES[idx]\n",
    "            nuncs=((NUMBERS[model])[idx])[:,1]*VOLUMES[idx]\n",
    "            \n",
    "            binned=np.array(bin_by_spt_bin(wispsim.SPGRID,ns, ltonly=False))\n",
    "            binned_lt= np.array(bin_by_spt_bin(wispsim.SPGRID,ns, ltonly=True))\n",
    "            #binned_unc=np.array(bin_by_spt_bin(wispsim.SPGRID,nuncs, ltonly=False))\n",
    "            #add L and \n",
    "            #compute chi-squared\n",
    "            #print (ns)\n",
    "            #chisq= abs((y2-binned)**2/(y2))\n",
    "            #model_fit.update({h: chisq})\n",
    "            #binned_total=np.append(binned, binned_lt)\n",
    "            #binned_total=np.append(binned, binned_lt)\n",
    "            model_number.update({h: binned})\n",
    "            model_number_lt.update({h: binned_lt})\n",
    "        # best_fit.update({model: model_fit})\n",
    "        numbers_fit.update({model: model_number})\n",
    "        numbers_fit_lt.update({model:  model_number_lt})"
   ]
  },
  {
   "cell_type": "code",
   "execution_count": 46,
   "metadata": {},
   "outputs": [],
   "source": [
    "#chisq_dicts=pd.DataFrame.from_records(best_fit)\n",
    "pred_number_dicts=pd.DataFrame.from_records(numbers_fit)\n",
    "pred_number_lt_dicts=pd.DataFrame.from_records(numbers_fit_lt)"
   ]
  },
  {
   "cell_type": "code",
   "execution_count": 47,
   "metadata": {},
   "outputs": [],
   "source": [
    "from scipy.interpolate import interp1d"
   ]
  },
  {
   "cell_type": "code",
   "execution_count": 48,
   "metadata": {},
   "outputs": [],
   "source": [
    "import scipy.stats as stats"
   ]
  },
  {
   "cell_type": "code",
   "execution_count": 49,
   "metadata": {},
   "outputs": [],
   "source": [
    "\n",
    "\n",
    "def get_poisson_predictions(spt_grid, obstns, predns):\n",
    "    res={}\n",
    "    for c in  predns.columns:\n",
    "        min_vals={}\n",
    "        dist={}\n",
    "        #for idx,s  in enumerate(np.append(spgrid2, ['L dwarfs', 'T dwarfs'])):\n",
    "        for idx,s  in enumerate(spt_grid):\n",
    "            #compare between subtypes\n",
    "            #predicted\n",
    "            predvals=(np.vstack(predns[c].values))[:,idx]\n",
    "            #observed\n",
    "            nreal=  obstns[idx]\n",
    "            #make an interpolation function\n",
    "            interpf = interp1d(predvals, wispsim.HS)\n",
    "            #using a 2nd degree polynomial \n",
    "            #interpf = np.poly1d(np.polyfit(predvals, wispsim.HS, 3))\n",
    "\n",
    "            #draw a bunch of random values based on a poisson distribution\n",
    "            #npoisson=np.random.poisson(nreal, 100000).astype(float)\n",
    "            #print (nreal)\n",
    "            npoisson=stats.gamma.rvs(nreal, size =int(1e5))\n",
    "            #stay within the range of possible values to avoid interpolation error\n",
    "            #i.e take this as a prior\n",
    "            #dflag=npoisson>=vals.min()\n",
    "            #uflag= npoisson <=vals.max()\n",
    "            #npoisson[dflag]= vals.min()\n",
    "            #npoisson[uflag]= vals.max()\n",
    "            #allow extraploayion\n",
    "            npoisson=npoisson[np.logical_and(npoisson>=predvals.min(), npoisson <=predvals.max())]\n",
    "            #predict scale heights\n",
    "            predhs=interpf(npoisson)\n",
    "            #use a weighted mean and std \n",
    "            #mean, unc= (np.nanmean(predhs), np.nanstd(predhs))\n",
    "\n",
    "            #print (' scale height for model {} and spt {} is {} +/- {} '.format(c, s, np.round(mean), np.round(unc, 4)))\n",
    "            dist.update({s:predhs})\n",
    "        #min_chi_ssqrs.update({c:min_vals})\n",
    "        res.update({c: dist})\n",
    "    return  res"
   ]
  },
  {
   "cell_type": "code",
   "execution_count": 50,
   "metadata": {},
   "outputs": [],
   "source": [
    "popsims.avr_yu?"
   ]
  },
  {
   "cell_type": "code",
   "execution_count": 51,
   "metadata": {},
   "outputs": [],
   "source": [
    "def scaleheight_to_vertical_disp(hs):\n",
    "    shape=435 #shape parameter\n",
    "    sigma_68=1.\n",
    "    return np.sqrt((np.array(hs))/shape)*20\n",
    "\n",
    "def compute_age_with_z(sigmas, z):\n",
    "    ag_bov= popsims.avr_yu(sigmas[abs(z) >270], verbose=True, nsample=2, height='above')[0]\n",
    "    ag_bel=popsims.avr_yu(sigmas[abs(z) <=270], verbose=True, nsample=2, height='below')[0]\n",
    "    return np.concatenate([ag_bov, ag_bel]).flatten()\n",
    "\n",
    "def asssymetric_med_std(x):\n",
    "    return np.round(np.nanmedian(x), 2), np.round(asymetric_errors(x), 2)"
   ]
  },
  {
   "cell_type": "code",
   "execution_count": 52,
   "metadata": {},
   "outputs": [],
   "source": [
    "def avr_aumer(sigma,  direction='vertical', verbose=False):\n",
    "    #return the age from an age-velocity dispersion \n",
    "    verboseprint = print if verbose else lambda *a, **k: None\n",
    "    result=None\n",
    "    beta_dict={'radial': [0.307, 0.001, 41.899],\n",
    "                'total': [ 0.385, 0.261, 57.15747],\n",
    "                'azimuthal':[0.430, 0.715, 28.823],\n",
    "                'vertical':[0.445, 0.001, 23.831],\n",
    "                }\n",
    "\n",
    "    verboseprint(\"Assuming Aumer & Binney 2009 Metal-Rich Fits and {} velocity \".format(direction))\n",
    "\n",
    "    beta, tau1, sigma10=beta_dict[direction]\n",
    "       \n",
    "    result=((sigma/sigma10)**(1/beta))*(10+tau1)-tau1\n",
    "\n",
    "    return result"
   ]
  },
  {
   "cell_type": "code",
   "execution_count": 53,
   "metadata": {},
   "outputs": [],
   "source": [
    "scale_height_dist=get_poisson_predictions(spgrid2, y2,pred_number_dicts)\n",
    "scale_height_dist_df=pd.DataFrame(scale_height_dist)"
   ]
  },
  {
   "cell_type": "code",
   "execution_count": 54,
   "metadata": {},
   "outputs": [],
   "source": [
    "#scale_height_dist"
   ]
  },
  {
   "cell_type": "code",
   "execution_count": 55,
   "metadata": {},
   "outputs": [],
   "source": [
    "scale_height_dist_df['saumon2008']['M7-L0']=[]"
   ]
  },
  {
   "cell_type": "code",
   "execution_count": 56,
   "metadata": {},
   "outputs": [],
   "source": [
    "#scale_height_dist=get_poisson_predictions(spgrid2, y2,pred_number_dicts)\n",
    "#scale_height_dist_df=pd.DataFrame(scale_height_dist)\n",
    "vel_df=scale_height_dist_df.applymap(scaleheight_to_vertical_disp)\n",
    "age_distdf_yu=vel_df.applymap(lambda x: popsims.avr_yu(x, verbose=False, nsample=2, height='median')[0])\n",
    "age_distdf_just=vel_df.applymap(lambda x: popsims.avr_just(x, verbose=False))\n",
    "age_distdf_sand=vel_df.applymap(lambda x: popsims.avr_sanders(x, verbose=False))\n",
    "age_distdf_aumer=vel_df.applymap(lambda x: avr_aumer(x, verbose=False))\n",
    "\n",
    "\n",
    "\n",
    "scalh_tables=scale_height_dist_df.applymap( asssymetric_med_std)\n",
    "vel_tables=vel_df.applymap(asssymetric_med_std)\n",
    "age_tables_yu=age_distdf_yu.applymap( asssymetric_med_std)\n",
    "age_tables_just=age_distdf_just.applymap( asssymetric_med_std)\n",
    "age_tables_sand=age_distdf_sand.applymap( asssymetric_med_std)\n",
    "age_tables_aumer=age_distdf_aumer.applymap( asssymetric_med_std)"
   ]
  },
  {
   "cell_type": "code",
   "execution_count": 57,
   "metadata": {},
   "outputs": [],
   "source": [
    "import matplotlib as mpl\n",
    "mpl.rcParams['figure.titlesize'] = 'large'"
   ]
  },
  {
   "cell_type": "code",
   "execution_count": 58,
   "metadata": {},
   "outputs": [
    {
     "data": {
      "text/plain": [
       "Index(['baraffe2003', 'burrows1997', 'burrows2001', 'marley2019',\n",
       "       'phillips2020', 'saumon2008'],\n",
       "      dtype='object')"
      ]
     },
     "execution_count": 58,
     "metadata": {},
     "output_type": "execute_result"
    }
   ],
   "source": [
    "pred_number_dicts.keys()"
   ]
  },
  {
   "cell_type": "code",
   "execution_count": 59,
   "metadata": {},
   "outputs": [
    {
     "data": {
      "image/png": "[encoded data removed]",
      "text/plain": [
       "<Figure size 576x432 with 1 Axes>"
      ]
     },
     "metadata": {
      "needs_background": "light"
     },
     "output_type": "display_data"
    }
   ],
   "source": [
    "idx=0\n",
    "fig, ax=plt.subplots(figsize=(8, 6))\n",
    "for m, ac in zip(['burrows1997', 'burrows2001', 'baraffe2003',], ['B97', 'B01', 'B03']):\n",
    "    predvals=(np.vstack(np.vstack(pred_number_dicts[m].values)))[:,idx]\n",
    "    #observed\n",
    "\n",
    "    #make an interpolation function\n",
    "    #interpf = np.poly1d(np.polyfit(predvals, wispsim.HS, 3))\n",
    "    interpf =interp1d(predvals, wispsim.HS)\n",
    "\n",
    "    rvs=stats.gamma.rvs(y2[idx], size =int(1e5))\n",
    "    #rvs=rvs[np.logical_and(rvs>=predvals.min(), rvs <=predvals.max())]\n",
    "\n",
    "    ax.plot(  wispsim.HS, predvals, marker='^', label=' {} Predictions'.format(ac))\n",
    "    #ax[0].plot(  rvs, interpf(rvs), '.')\n",
    "    \n",
    "ax.axhline(y2[idx], color='r', label='Observations')\n",
    "ax.axhspan(y2[idx]-np.sqrt(y2[idx]), y2[idx]+np.sqrt(y2[idx]), alpha=0.3, color='red')\n",
    "\n",
    "ax.set(xlabel='Scaleheight (pc)', ylabel='Number Counts')\n",
    "\n",
    "\n",
    "ax.minorticks_on()\n",
    "ax.legend()\n",
    "#fig.delaxes(ax0[1])\n",
    "plt.tight_layout()\n",
    "plt.savefig(wisps.OUTPUT_FIGURES+'/model_interpolation_ncounts.pdf', bbox_inches='tight')"
   ]
  },
  {
   "cell_type": "code",
   "execution_count": 60,
   "metadata": {},
   "outputs": [],
   "source": [
    "def reformat(val):\n",
    "    return str(val[0])+'$ _{-'+str(val[1][0])+'} ^{+'+str(val[1][1])+'}$'"
   ]
  },
  {
   "cell_type": "code",
   "execution_count": 61,
   "metadata": {},
   "outputs": [
    {
     "data": {
      "text/html": [
       "<div>\n",
       "<style scoped>\n",
       "    .dataframe tbody tr th:only-of-type {\n",
       "        vertical-align: middle;\n",
       "    }\n",
       "\n",
       "    .dataframe tbody tr th {\n",
       "        vertical-align: top;\n",
       "    }\n",
       "\n",
       "    .dataframe thead th {\n",
       "        text-align: right;\n",
       "    }\n",
       "</style>\n",
       "<table border=\"1\" class=\"dataframe\">\n",
       "  <thead>\n",
       "    <tr style=\"text-align: right;\">\n",
       "      <th></th>\n",
       "      <th>burrows1997</th>\n",
       "      <th>burrows2001</th>\n",
       "      <th>baraffe2003</th>\n",
       "      <th>saumon2008</th>\n",
       "      <th>marley2019</th>\n",
       "      <th>phillips2020</th>\n",
       "    </tr>\n",
       "  </thead>\n",
       "  <tbody>\n",
       "    <tr>\n",
       "      <th>M7-L0</th>\n",
       "      <td>446.73$ _{-56.68} ^{+65.67}$</td>\n",
       "      <td>476.88$ _{-58.93} ^{+77.61}$</td>\n",
       "      <td>292.51$ _{-26.1} ^{+29.9}$</td>\n",
       "      <td>nan$ _{-nan} ^{+nan}$</td>\n",
       "      <td>nan$ _{-nan} ^{+nan}$</td>\n",
       "      <td>nan$ _{-nan} ^{+nan}$</td>\n",
       "    </tr>\n",
       "    <tr>\n",
       "      <th>L0-L5</th>\n",
       "      <td>221.13$ _{-45.66} ^{+66.77}$</td>\n",
       "      <td>195.01$ _{-35.51} ^{+50.03}$</td>\n",
       "      <td>158.58$ _{-25.5} ^{+30.29}$</td>\n",
       "      <td>168.24$ _{-27.98} ^{+35.03}$</td>\n",
       "      <td>178.7$ _{-31.45} ^{+41.18}$</td>\n",
       "      <td>302.56$ _{-83.05} ^{+149.86}$</td>\n",
       "    </tr>\n",
       "    <tr>\n",
       "      <th>L5-T0</th>\n",
       "      <td>167.96$ _{-52.67} ^{+154.39}$</td>\n",
       "      <td>173.83$ _{-57.36} ^{+168.8}$</td>\n",
       "      <td>168.66$ _{-52.77} ^{+151.89}$</td>\n",
       "      <td>149.94$ _{-38.15} ^{+107.38}$</td>\n",
       "      <td>169.22$ _{-53.29} ^{+157.86}$</td>\n",
       "      <td>168.0$ _{-52.41} ^{+153.2}$</td>\n",
       "    </tr>\n",
       "    <tr>\n",
       "      <th>T0-T5</th>\n",
       "      <td>225.87$ _{-91.05} ^{+216.69}$</td>\n",
       "      <td>230.55$ _{-93.92} ^{+218.25}$</td>\n",
       "      <td>238.45$ _{-99.42} ^{+241.12}$</td>\n",
       "      <td>218.59$ _{-85.08} ^{+213.71}$</td>\n",
       "      <td>246.94$ _{-103.9} ^{+240.77}$</td>\n",
       "      <td>227.88$ _{-91.42} ^{+239.14}$</td>\n",
       "    </tr>\n",
       "    <tr>\n",
       "      <th>T5-Y0</th>\n",
       "      <td>169.97$ _{-54.95} ^{+188.86}$</td>\n",
       "      <td>170.53$ _{-55.69} ^{+176.78}$</td>\n",
       "      <td>178.14$ _{-62.35} ^{+183.31}$</td>\n",
       "      <td>184.66$ _{-66.44} ^{+207.91}$</td>\n",
       "      <td>174.64$ _{-59.17} ^{+195.29}$</td>\n",
       "      <td>170.74$ _{-55.91} ^{+180.16}$</td>\n",
       "    </tr>\n",
       "  </tbody>\n",
       "</table>\n",
       "</div>"
      ],
      "text/plain": [
       "                         burrows1997                    burrows2001  \\\n",
       "M7-L0   446.73$ _{-56.68} ^{+65.67}$   476.88$ _{-58.93} ^{+77.61}$   \n",
       "L0-L5   221.13$ _{-45.66} ^{+66.77}$   195.01$ _{-35.51} ^{+50.03}$   \n",
       "L5-T0  167.96$ _{-52.67} ^{+154.39}$   173.83$ _{-57.36} ^{+168.8}$   \n",
       "T0-T5  225.87$ _{-91.05} ^{+216.69}$  230.55$ _{-93.92} ^{+218.25}$   \n",
       "T5-Y0  169.97$ _{-54.95} ^{+188.86}$  170.53$ _{-55.69} ^{+176.78}$   \n",
       "\n",
       "                         baraffe2003                     saumon2008  \\\n",
       "M7-L0     292.51$ _{-26.1} ^{+29.9}$          nan$ _{-nan} ^{+nan}$   \n",
       "L0-L5    158.58$ _{-25.5} ^{+30.29}$   168.24$ _{-27.98} ^{+35.03}$   \n",
       "L5-T0  168.66$ _{-52.77} ^{+151.89}$  149.94$ _{-38.15} ^{+107.38}$   \n",
       "T0-T5  238.45$ _{-99.42} ^{+241.12}$  218.59$ _{-85.08} ^{+213.71}$   \n",
       "T5-Y0  178.14$ _{-62.35} ^{+183.31}$  184.66$ _{-66.44} ^{+207.91}$   \n",
       "\n",
       "                          marley2019                   phillips2020  \n",
       "M7-L0          nan$ _{-nan} ^{+nan}$          nan$ _{-nan} ^{+nan}$  \n",
       "L0-L5    178.7$ _{-31.45} ^{+41.18}$  302.56$ _{-83.05} ^{+149.86}$  \n",
       "L5-T0  169.22$ _{-53.29} ^{+157.86}$    168.0$ _{-52.41} ^{+153.2}$  \n",
       "T0-T5  246.94$ _{-103.9} ^{+240.77}$  227.88$ _{-91.42} ^{+239.14}$  \n",
       "T5-Y0  174.64$ _{-59.17} ^{+195.29}$  170.74$ _{-55.91} ^{+180.16}$  "
      ]
     },
     "execution_count": 61,
     "metadata": {},
     "output_type": "execute_result"
    }
   ],
   "source": [
    "scalh_tables[MODEL_NAMES].applymap(reformat)"
   ]
  },
  {
   "cell_type": "code",
   "execution_count": 62,
   "metadata": {},
   "outputs": [
    {
     "data": {
      "text/html": [
       "<div>\n",
       "<style scoped>\n",
       "    .dataframe tbody tr th:only-of-type {\n",
       "        vertical-align: middle;\n",
       "    }\n",
       "\n",
       "    .dataframe tbody tr th {\n",
       "        vertical-align: top;\n",
       "    }\n",
       "\n",
       "    .dataframe thead th {\n",
       "        text-align: right;\n",
       "    }\n",
       "</style>\n",
       "<table border=\"1\" class=\"dataframe\">\n",
       "  <thead>\n",
       "    <tr style=\"text-align: right;\">\n",
       "      <th></th>\n",
       "      <th>burrows1997</th>\n",
       "      <th>burrows2001</th>\n",
       "      <th>baraffe2003</th>\n",
       "      <th>saumon2008</th>\n",
       "      <th>marley2019</th>\n",
       "      <th>phillips2020</th>\n",
       "    </tr>\n",
       "  </thead>\n",
       "  <tbody>\n",
       "    <tr>\n",
       "      <th>M7-L0</th>\n",
       "      <td>20.27$ _{-1.33} ^{+1.44}$</td>\n",
       "      <td>20.94$ _{-1.34} ^{+1.64}$</td>\n",
       "      <td>16.4$ _{-0.75} ^{+0.82}$</td>\n",
       "      <td>nan$ _{-nan} ^{+nan}$</td>\n",
       "      <td>nan$ _{-nan} ^{+nan}$</td>\n",
       "      <td>nan$ _{-nan} ^{+nan}$</td>\n",
       "    </tr>\n",
       "    <tr>\n",
       "      <th>L0-L5</th>\n",
       "      <td>14.26$ _{-1.56} ^{+2.01}$</td>\n",
       "      <td>13.39$ _{-1.28} ^{+1.62}$</td>\n",
       "      <td>12.08$ _{-1.01} ^{+1.1}$</td>\n",
       "      <td>12.44$ _{-1.08} ^{+1.23}$</td>\n",
       "      <td>12.82$ _{-1.18} ^{+1.4}$</td>\n",
       "      <td>16.68$ _{-2.47} ^{+3.72}$</td>\n",
       "    </tr>\n",
       "    <tr>\n",
       "      <th>L5-T0</th>\n",
       "      <td>12.43$ _{-2.13} ^{+4.79}$</td>\n",
       "      <td>12.64$ _{-2.29} ^{+5.11}$</td>\n",
       "      <td>12.45$ _{-2.13} ^{+4.71}$</td>\n",
       "      <td>11.74$ _{-1.6} ^{+3.64}$</td>\n",
       "      <td>12.47$ _{-2.15} ^{+4.87}$</td>\n",
       "      <td>12.43$ _{-2.12} ^{+4.76}$</td>\n",
       "    </tr>\n",
       "    <tr>\n",
       "      <th>T0-T5</th>\n",
       "      <td>14.41$ _{-3.28} ^{+5.76}$</td>\n",
       "      <td>14.56$ _{-3.35} ^{+5.75}$</td>\n",
       "      <td>14.81$ _{-3.5} ^{+6.19}$</td>\n",
       "      <td>14.18$ _{-3.1} ^{+5.76}$</td>\n",
       "      <td>15.07$ _{-3.6} ^{+6.11}$</td>\n",
       "      <td>14.48$ _{-3.27} ^{+6.25}$</td>\n",
       "    </tr>\n",
       "    <tr>\n",
       "      <th>T5-Y0</th>\n",
       "      <td>12.5$ _{-2.22} ^{+5.66}$</td>\n",
       "      <td>12.52$ _{-2.25} ^{+5.35}$</td>\n",
       "      <td>12.8$ _{-2.48} ^{+5.43}$</td>\n",
       "      <td>13.03$ _{-2.6} ^{+5.97}$</td>\n",
       "      <td>12.67$ _{-2.37} ^{+5.77}$</td>\n",
       "      <td>12.53$ _{-2.25} ^{+5.43}$</td>\n",
       "    </tr>\n",
       "  </tbody>\n",
       "</table>\n",
       "</div>"
      ],
      "text/plain": [
       "                     burrows1997                burrows2001  \\\n",
       "M7-L0  20.27$ _{-1.33} ^{+1.44}$  20.94$ _{-1.34} ^{+1.64}$   \n",
       "L0-L5  14.26$ _{-1.56} ^{+2.01}$  13.39$ _{-1.28} ^{+1.62}$   \n",
       "L5-T0  12.43$ _{-2.13} ^{+4.79}$  12.64$ _{-2.29} ^{+5.11}$   \n",
       "T0-T5  14.41$ _{-3.28} ^{+5.76}$  14.56$ _{-3.35} ^{+5.75}$   \n",
       "T5-Y0   12.5$ _{-2.22} ^{+5.66}$  12.52$ _{-2.25} ^{+5.35}$   \n",
       "\n",
       "                     baraffe2003                 saumon2008  \\\n",
       "M7-L0   16.4$ _{-0.75} ^{+0.82}$      nan$ _{-nan} ^{+nan}$   \n",
       "L0-L5   12.08$ _{-1.01} ^{+1.1}$  12.44$ _{-1.08} ^{+1.23}$   \n",
       "L5-T0  12.45$ _{-2.13} ^{+4.71}$   11.74$ _{-1.6} ^{+3.64}$   \n",
       "T0-T5   14.81$ _{-3.5} ^{+6.19}$   14.18$ _{-3.1} ^{+5.76}$   \n",
       "T5-Y0   12.8$ _{-2.48} ^{+5.43}$   13.03$ _{-2.6} ^{+5.97}$   \n",
       "\n",
       "                      marley2019               phillips2020  \n",
       "M7-L0      nan$ _{-nan} ^{+nan}$      nan$ _{-nan} ^{+nan}$  \n",
       "L0-L5   12.82$ _{-1.18} ^{+1.4}$  16.68$ _{-2.47} ^{+3.72}$  \n",
       "L5-T0  12.47$ _{-2.15} ^{+4.87}$  12.43$ _{-2.12} ^{+4.76}$  \n",
       "T0-T5   15.07$ _{-3.6} ^{+6.11}$  14.48$ _{-3.27} ^{+6.25}$  \n",
       "T5-Y0  12.67$ _{-2.37} ^{+5.77}$  12.53$ _{-2.25} ^{+5.43}$  "
      ]
     },
     "execution_count": 62,
     "metadata": {},
     "output_type": "execute_result"
    }
   ],
   "source": [
    "vel_tables[MODEL_NAMES].applymap(reformat)"
   ]
  },
  {
   "cell_type": "code",
   "execution_count": 63,
   "metadata": {},
   "outputs": [
    {
     "data": {
      "text/html": [
       "<div>\n",
       "<style scoped>\n",
       "    .dataframe tbody tr th:only-of-type {\n",
       "        vertical-align: middle;\n",
       "    }\n",
       "\n",
       "    .dataframe tbody tr th {\n",
       "        vertical-align: top;\n",
       "    }\n",
       "\n",
       "    .dataframe thead th {\n",
       "        text-align: right;\n",
       "    }\n",
       "</style>\n",
       "<table border=\"1\" class=\"dataframe\">\n",
       "  <thead>\n",
       "    <tr style=\"text-align: right;\">\n",
       "      <th></th>\n",
       "      <th>burrows1997</th>\n",
       "      <th>burrows2001</th>\n",
       "      <th>baraffe2003</th>\n",
       "      <th>saumon2008</th>\n",
       "      <th>marley2019</th>\n",
       "      <th>phillips2020</th>\n",
       "    </tr>\n",
       "  </thead>\n",
       "  <tbody>\n",
       "    <tr>\n",
       "      <th>M7-L0</th>\n",
       "      <td>6.78$ _{-1.15} ^{+1.4}$</td>\n",
       "      <td>7.42$ _{-1.22} ^{+1.69}$</td>\n",
       "      <td>3.78$ _{-0.46} ^{+0.55}$</td>\n",
       "      <td>nan$ _{-nan} ^{+nan}$</td>\n",
       "      <td>nan$ _{-nan} ^{+nan}$</td>\n",
       "      <td>nan$ _{-nan} ^{+nan}$</td>\n",
       "    </tr>\n",
       "    <tr>\n",
       "      <th>L0-L5</th>\n",
       "      <td>2.55$ _{-0.72} ^{+1.15}$</td>\n",
       "      <td>2.13$ _{-0.54} ^{+0.82}$</td>\n",
       "      <td>1.58$ _{-0.36} ^{+0.46}$</td>\n",
       "      <td>1.72$ _{-0.41} ^{+0.54}$</td>\n",
       "      <td>1.88$ _{-0.47} ^{+0.65}$</td>\n",
       "      <td>3.97$ _{-1.44} ^{+2.94}$</td>\n",
       "    </tr>\n",
       "    <tr>\n",
       "      <th>L5-T0</th>\n",
       "      <td>1.72$ _{-0.74} ^{+2.61}$</td>\n",
       "      <td>1.81$ _{-0.82} ^{+2.91}$</td>\n",
       "      <td>1.73$ _{-0.75} ^{+2.57}$</td>\n",
       "      <td>1.45$ _{-0.53} ^{+1.71}$</td>\n",
       "      <td>1.74$ _{-0.75} ^{+2.68}$</td>\n",
       "      <td>1.72$ _{-0.74} ^{+2.59}$</td>\n",
       "    </tr>\n",
       "    <tr>\n",
       "      <th>T0-T5</th>\n",
       "      <td>2.63$ _{-1.39} ^{+4.07}$</td>\n",
       "      <td>2.71$ _{-1.45} ^{+4.12}$</td>\n",
       "      <td>2.84$ _{-1.54} ^{+4.63}$</td>\n",
       "      <td>2.51$ _{-1.29} ^{+3.98}$</td>\n",
       "      <td>2.99$ _{-1.63} ^{+4.66}$</td>\n",
       "      <td>2.66$ _{-1.4} ^{+4.54}$</td>\n",
       "    </tr>\n",
       "    <tr>\n",
       "      <th>T5-Y0</th>\n",
       "      <td>1.75$ _{-0.78} ^{+3.28}$</td>\n",
       "      <td>1.76$ _{-0.79} ^{+3.05}$</td>\n",
       "      <td>1.87$ _{-0.89} ^{+3.2}$</td>\n",
       "      <td>1.97$ _{-0.96} ^{+3.71}$</td>\n",
       "      <td>1.82$ _{-0.84} ^{+3.42}$</td>\n",
       "      <td>1.76$ _{-0.79} ^{+3.11}$</td>\n",
       "    </tr>\n",
       "  </tbody>\n",
       "</table>\n",
       "</div>"
      ],
      "text/plain": [
       "                    burrows1997               burrows2001  \\\n",
       "M7-L0   6.78$ _{-1.15} ^{+1.4}$  7.42$ _{-1.22} ^{+1.69}$   \n",
       "L0-L5  2.55$ _{-0.72} ^{+1.15}$  2.13$ _{-0.54} ^{+0.82}$   \n",
       "L5-T0  1.72$ _{-0.74} ^{+2.61}$  1.81$ _{-0.82} ^{+2.91}$   \n",
       "T0-T5  2.63$ _{-1.39} ^{+4.07}$  2.71$ _{-1.45} ^{+4.12}$   \n",
       "T5-Y0  1.75$ _{-0.78} ^{+3.28}$  1.76$ _{-0.79} ^{+3.05}$   \n",
       "\n",
       "                    baraffe2003                saumon2008  \\\n",
       "M7-L0  3.78$ _{-0.46} ^{+0.55}$     nan$ _{-nan} ^{+nan}$   \n",
       "L0-L5  1.58$ _{-0.36} ^{+0.46}$  1.72$ _{-0.41} ^{+0.54}$   \n",
       "L5-T0  1.73$ _{-0.75} ^{+2.57}$  1.45$ _{-0.53} ^{+1.71}$   \n",
       "T0-T5  2.84$ _{-1.54} ^{+4.63}$  2.51$ _{-1.29} ^{+3.98}$   \n",
       "T5-Y0   1.87$ _{-0.89} ^{+3.2}$  1.97$ _{-0.96} ^{+3.71}$   \n",
       "\n",
       "                     marley2019              phillips2020  \n",
       "M7-L0     nan$ _{-nan} ^{+nan}$     nan$ _{-nan} ^{+nan}$  \n",
       "L0-L5  1.88$ _{-0.47} ^{+0.65}$  3.97$ _{-1.44} ^{+2.94}$  \n",
       "L5-T0  1.74$ _{-0.75} ^{+2.68}$  1.72$ _{-0.74} ^{+2.59}$  \n",
       "T0-T5  2.99$ _{-1.63} ^{+4.66}$   2.66$ _{-1.4} ^{+4.54}$  \n",
       "T5-Y0  1.82$ _{-0.84} ^{+3.42}$  1.76$ _{-0.79} ^{+3.11}$  "
      ]
     },
     "execution_count": 63,
     "metadata": {},
     "output_type": "execute_result"
    }
   ],
   "source": [
    "age_tables_just[MODEL_NAMES].applymap(reformat)"
   ]
  },
  {
   "cell_type": "code",
   "execution_count": null,
   "metadata": {},
   "outputs": [],
   "source": []
  },
  {
   "cell_type": "code",
   "execution_count": 64,
   "metadata": {},
   "outputs": [],
   "source": [
    "#upper and lo limits on ages \n",
    "#up_lims_table=pd.DataFrame(columns= age_tables.columns,\n",
    "#                           index=age_tables.index).fillna(0)\n",
    "#up_lims_table.saumon2008['T0-T5']=1\n",
    "#up_lims_table.saumon2008['T0-T5']=1\n",
    "\n",
    "#lo limts\n",
    "#lo_lims_table=pd.DataFrame(columns= age_tables.columns,\n",
    "#                           index=age_tables.index).fillna(0)\n",
    "#lo_lims_table.baraffe2003['T5-Y0']=1\n",
    "#lo_lims_table.baraffe2003['L5-T0']=1\n",
    "#lo_lims_table.phillips2020['T5-Y0']=1\n",
    "#lo_lims_table.saumon2008['T5-Y0']=1\n",
    "#lo_lims_table.marley2019['T5-Y0']=1\n"
   ]
  },
  {
   "cell_type": "code",
   "execution_count": 65,
   "metadata": {},
   "outputs": [],
   "source": [
    "def get_simpler_class(x):\n",
    "    if x.startswith('M'):\n",
    "        return 'Late M'\n",
    "    if x.startswith('L'):\n",
    "        return 'L'\n",
    "    if x.startswith('T'):\n",
    "        return 'T'"
   ]
  },
  {
   "cell_type": "code",
   "execution_count": 66,
   "metadata": {},
   "outputs": [],
   "source": [
    "def get_age_dictionaries(model):\n",
    "    dfs=[]\n",
    "    for hidx in wispsim.HS:\n",
    "        #hidx is a scale height, model is evolutionary model\n",
    "        df0=pd.read_hdf(wisps.OUTPUT_FILES+'/final_simulated_sample_cut_binaries.h5',\\\n",
    "                          key=str(model)+str(hidx)+str('spt_abs_mag'))\n",
    "        cutdf=(df0[~df0.is_cut]).rename(columns={'temperature': 'teff', \\\n",
    "                                              'slprob': 'sl'})\n",
    "        \n",
    "        \n",
    "        dfs.append(cutdf)\n",
    "        \n",
    "    df=pd.concat(dfs)\n",
    "    print (len(df))\n",
    "    cutdf_lblded=wisps.Annotator.group_by_spt(df, spt_label='spt', assign_number=False).rename(columns={'spt_range': 'subtype'})\n",
    "    cutdf_lblded['spectclass']=  cutdf_lblded.subtype.apply(get_simpler_class)\n",
    "    final_df=cutdf_lblded[~((cutdf_lblded.spectclass=='') | (cutdf_lblded.subtype=='')|   (cutdf_lblded.subtype=='trash'))]\n",
    "\n",
    "    return final_df[['age', 'subtype', 'spt', 'spectclass']]"
   ]
  },
  {
   "cell_type": "code",
   "execution_count": 67,
   "metadata": {},
   "outputs": [
    {
     "name": "stderr",
     "output_type": "stream",
     "text": [
      "\r",
      "  0%|          | 0/6 [00:00<?, ?it/s]"
     ]
    },
    {
     "name": "stdout",
     "output_type": "stream",
     "text": [
      "2292373\n"
     ]
    },
    {
     "name": "stderr",
     "output_type": "stream",
     "text": [
      "\r",
      " 17%|█▋        | 1/6 [01:38<08:13, 98.64s/it]"
     ]
    },
    {
     "name": "stdout",
     "output_type": "stream",
     "text": [
      "2366156\n"
     ]
    },
    {
     "name": "stderr",
     "output_type": "stream",
     "text": [
      "\r",
      " 33%|███▎      | 2/6 [03:08<06:23, 95.88s/it]"
     ]
    },
    {
     "name": "stdout",
     "output_type": "stream",
     "text": [
      "2913532\n"
     ]
    },
    {
     "name": "stderr",
     "output_type": "stream",
     "text": [
      "\r",
      " 50%|█████     | 3/6 [05:58<05:54, 118.14s/it]"
     ]
    },
    {
     "name": "stdout",
     "output_type": "stream",
     "text": [
      "2400605\n"
     ]
    },
    {
     "name": "stderr",
     "output_type": "stream",
     "text": [
      "\r",
      " 67%|██████▋   | 4/6 [07:57<03:57, 118.52s/it]"
     ]
    },
    {
     "name": "stdout",
     "output_type": "stream",
     "text": [
      "2150898\n"
     ]
    },
    {
     "name": "stderr",
     "output_type": "stream",
     "text": [
      "\r",
      " 83%|████████▎ | 5/6 [09:38<01:53, 113.21s/it]"
     ]
    },
    {
     "name": "stdout",
     "output_type": "stream",
     "text": [
      "1948771\n"
     ]
    },
    {
     "name": "stderr",
     "output_type": "stream",
     "text": [
      "100%|██████████| 6/6 [11:23<00:00, 113.86s/it]\n"
     ]
    }
   ],
   "source": [
    "#plot age with scale heights\n",
    "age_dictionaries={}\n",
    "for model in tqdm(MODEL_NAMES):\n",
    "       age_dictionaries[model]= get_age_dictionaries(model)\n",
    "    "
   ]
  },
  {
   "cell_type": "code",
   "execution_count": 68,
   "metadata": {},
   "outputs": [],
   "source": [
    "#a.errorbar(  agfn.age, agfn.subtype, xerr=np.vstack(agfn.unc).T,  fmt='o',xlolims=lolims, ms=20, lw=7, \n",
    "#               capsize=7, \n",
    "#               mfc='#0074D9', mec='#111111', ecolor='#111111', xuplims=uplims)\n",
    "#age_dictionaries[model].columns"
   ]
  },
  {
   "cell_type": "code",
   "execution_count": 69,
   "metadata": {},
   "outputs": [],
   "source": [
    "#plot_one(NUMBERS, VOLUMES, filename='/oberved_numbers_one_panel.pdf')"
   ]
  },
  {
   "cell_type": "code",
   "execution_count": null,
   "metadata": {},
   "outputs": [],
   "source": []
  },
  {
   "cell_type": "code",
   "execution_count": 70,
   "metadata": {},
   "outputs": [],
   "source": [
    "def plot_one_age(a):\n",
    "    model='baraffe2003'\n",
    "    ds=[]\n",
    "    dfn=age_dictionaries[model].replace('T5-T9', 'T5-Y0')\n",
    "    for k in age_tables_just[model].keys():\n",
    "        if len(scale_height_dist[model][k]) <1:\n",
    "            pass\n",
    "        else:\n",
    "            #empirical\n",
    "            #ds0.append(age_tables_just[model][k])\n",
    "            #from simulations\n",
    "            ds.append(dfn.age[dfn.subtype==k].values)\n",
    "    #some reformatting\n",
    "    positions=[0, 1, 2, 3, 4]\n",
    "    lolims=[0, 0, 0, 0, 0]\n",
    "    if len(ds) ==4: positions=[1, 2, 3, 4]\n",
    "    v1 = a.violinplot(ds,points=100, positions=positions,\n",
    "               showmeans=True, showextrema=False, showmedians=False, vert =False)\n",
    "    #for b in v1['bodies']: \n",
    "    #      b.set_color('#0074D9')\n",
    "        #get the center\n",
    "    xerr0=np.vstack((age_tables_just[model].apply(lambda x: x[1]).values)).T\n",
    "    xerr1=np.vstack((age_tables_sand[model].apply(lambda x: x[1]).values)).T\n",
    "    xerr2=np.vstack((age_tables_aumer[model].apply(lambda x: x[1]).values)).T\n",
    "    \n",
    "    #set size of arrows\n",
    "    xerr0.T[np.array(lolims).astype(bool)]=[0.5, 0.5]\n",
    "    xerr1.T[np.array(lolims).astype(bool)]=[0.5, 0.5]\n",
    "    xerr2.T[np.array(lolims).astype(bool)]=[0.5, 0.5]\n",
    "    \n",
    "    #a.errorbar(age_tables_just[model].apply(lambda x: x[0]).values, [0, 1, 2, 3, 4],\\\n",
    "    #           xerr=xerr0,  fmt='o', label='J10', \\\n",
    "    #          ms=10, lw=5,  capsize=5,\n",
    "    #           xlolims=lolims)\n",
    "    \n",
    "    #a.errorbar(age_tables_yu[model].apply(lambda x: x[0]).values,  np.array([0, 1, 2, 3, 4])+0.2,\\\n",
    "    #           xerr=np.vstack((age_tables_yu[model].apply(lambda x: x[1]).values)).T,  fmt='o', label='Y18',\n",
    "    #           ms=10, lw=5,  mfc='#B10DC9', mec='#B10DC9', ecolor='#B10DC9', capsize=5)\n",
    "    \n",
    "    #a.errorbar(age_tables_sand[model].apply(lambda x: x[0]).values,  np.array([0, 1, 2, 3, 4])+0.0,\\\n",
    "    #           xerr=xerr1,  fmt='o', label='SB15',\n",
    "    #           ms=10, lw=5,  mfc='#B10DC9', mec='#B10DC9', ecolor='#B10DC9', capsize=5,\n",
    "    #            xlolims=lolims)\n",
    "    \n",
    "    #a.errorbar(age_tables_aumer[model].apply(lambda x: x[0]).values,  np.array([0, 1, 2, 3, 4])+0.01,\\\n",
    "    #           xerr=xerr2,  fmt='o', label='AB09',\n",
    "    #           ms=10, lw=5, capsize=5,\n",
    "    #            xlolims=lolims)\n",
    "    \n",
    "    a.set_yticks([0, 1, 2, 3, 4])\n",
    "    a.set_yticklabels(spgrid2)\n",
    "    a.set_xlabel('Age (Gyr)', fontsize=18)\n",
    "    a.set_ylabel('Subtype', fontsize=18)\n",
    "    a.minorticks_on()\n",
    "    a.set_xlim([-1, 10])\n",
    "    a.set_title('Model= B03', fontsize=18)\n",
    "    #a.legend(fontsize=12, loc='lower left')\n",
    "   \n",
    "    plt.tight_layout()\n",
    "    "
   ]
  },
  {
   "cell_type": "code",
   "execution_count": 71,
   "metadata": {},
   "outputs": [],
   "source": [
    "##plt.style.use('dark_background')\n",
    "#fig, ax=plt.subplots(figsize=(6, 8))\n",
    "#plot_one_age(ax)\n",
    "#plt.savefig(wisps.OUTPUT_FIGURES+'/age_comparison_simsonly.pdf', bbox_inches='tight')"
   ]
  },
  {
   "cell_type": "code",
   "execution_count": 72,
   "metadata": {},
   "outputs": [],
   "source": [
    "import scipy.stats as stats"
   ]
  },
  {
   "cell_type": "code",
   "execution_count": 73,
   "metadata": {},
   "outputs": [
    {
     "name": "stderr",
     "output_type": "stream",
     "text": [
      "findfont: Font family ['serif'] not found. Falling back to DejaVu Sans.\n"
     ]
    },
    {
     "data": {
      "image/png": "[encoded data removed]",
      "text/plain": [
       "<Figure size 864x648 with 6 Axes>"
      ]
     },
     "metadata": {
      "needs_background": "light"
     },
     "output_type": "display_data"
    }
   ],
   "source": [
    "fig, ax=plt.subplots(figsize=(12, 9), ncols=3, nrows=2, sharex=False, sharey=True)\n",
    "for model, name, a in zip( MODEL_NAMES, MODEL_SHORT_NAMES, np.concatenate(ax)):\n",
    "\n",
    "    ds=[]\n",
    "    qs=[]\n",
    "    \n",
    "    dfn=age_dictionaries[model].replace('T5-T9', 'T5-Y0')\n",
    "    for k in age_tables_just[model].keys():\n",
    "        if len(scale_height_dist[model][k]) <1:\n",
    "            pass\n",
    "            qs.append([np.nan, np.nan])\n",
    "        else:\n",
    "            #empirical\n",
    "            #ds0.append(age_tables_just[model][k])\n",
    "            #from simulations\n",
    "            ds.append(dfn.age[dfn.subtype==k].values)\n",
    "            qs.append(np.percentile(dfn.age[dfn.subtype==k].values, [16, 84]))\n",
    "    #some reformatting\n",
    "    qs=np.vstack(qs)\n",
    "    a.hlines([0, 1, 2, 3, 4], qs[:,0], qs[:,1], color='#0074D9', linestyle='-', lw=3)\n",
    "    positions=[0, 1, 2, 3, 4]\n",
    "    lolims=[0, 0, 0, 0, 0]\n",
    "    if len(ds) ==4: positions=[1, 2, 3, 4]\n",
    "    v1 = a.violinplot(ds,points=100, positions=positions,\n",
    "               showmeans=False, showextrema=False, showmedians=True, vert =False)\n",
    "    for b in v1['bodies']: \n",
    "          b.set_color('#0074D9')\n",
    "        #get the center\n",
    "    xerr0=np.vstack((age_tables_just[model].apply(lambda x: x[1]).values)).T\n",
    "    xerr1=np.vstack((age_tables_sand[model].apply(lambda x: x[1]).values)).T\n",
    "    xerr2=np.vstack((age_tables_aumer[model].apply(lambda x: x[1]).values)).T\n",
    "    \n",
    "    #set size of arrows\n",
    "    xerr0.T[np.array(lolims).astype(bool)]=[0.5, 0.5]\n",
    "    xerr1.T[np.array(lolims).astype(bool)]=[0.5, 0.5]\n",
    "    xerr2.T[np.array(lolims).astype(bool)]=[0.5, 0.5]\n",
    "    \n",
    "    a.errorbar(age_tables_just[model].apply(lambda x: x[0]).values, np.array([0, 1, 2, 3, 4])-0.2,\\\n",
    "               xerr=xerr0,  fmt='o', label='J10', \\\n",
    "              ms=10, lw=5,  mfc='#FF4136', mec='#FF4136', ecolor='#FF4136', capsize=5,\n",
    "               xlolims=lolims)\n",
    "    \n",
    "    #a.errorbar(age_tables_yu[model].apply(lambda x: x[0]).values,  np.array([0, 1, 2, 3, 4])+0.2,\\\n",
    "    #           xerr=np.vstack((age_tables_yu[model].apply(lambda x: x[1]).values)).T,  fmt='o', label='Y18',\n",
    "    #           ms=10, lw=5,  mfc='#B10DC9', mec='#B10DC9', ecolor='#B10DC9', capsize=5)\n",
    "    \n",
    "    #a.errorbar(age_tables_sand[model].apply(lambda x: x[0]).values,  np.array([0, 1, 2, 3, 4])+0.0,\\\n",
    "    #           xerr=xerr1,  fmt='o', label='SB15',\n",
    "    #           ms=10, lw=5,  mfc='#B10DC9', mec='#B10DC9', ecolor='#B10DC9', capsize=5,\n",
    "    #            xlolims=lolims)\n",
    "    \n",
    "    a.errorbar(age_tables_aumer[model].apply(lambda x: x[0]).values,  np.array([0, 1, 2, 3, 4])+0.2,\\\n",
    "               xerr=xerr2,  fmt='o', label='AB09',\n",
    "               ms=10, lw=5,  mfc='#111111', mec='#111111', ecolor='#111111', capsize=5,\n",
    "                xlolims=lolims)\n",
    "    \n",
    "    a.set_yticks([0, 1, 2, 3, 4])\n",
    "    a.set_yticklabels(spgrid2)\n",
    "    a.set_xlabel('Age (Gyr)', fontsize=18)\n",
    "    a.set_ylabel('Subtype', fontsize=18)\n",
    "    a.minorticks_on()\n",
    "    a.set_ylim([-1, 5])\n",
    "    a.set_title('Model= {}'.format(name), fontsize=18)\n",
    "    \n",
    "ax[0][-2].legend(fontsize=12, loc='lower left')\n",
    "\n",
    "plt.tight_layout()\n",
    "plt.savefig(wisps.OUTPUT_FIGURES+'/age_comparison_plus_binaries.pdf', bbox_inches='tight',  \\\n",
    "            facecolor='white', transparent=True)"
   ]
  },
  {
   "cell_type": "code",
   "execution_count": 74,
   "metadata": {},
   "outputs": [],
   "source": [
    "scale_height_dist['saumon2008']['M7-L0']=[]"
   ]
  },
  {
   "cell_type": "code",
   "execution_count": 75,
   "metadata": {},
   "outputs": [
    {
     "data": {
      "text/plain": [
       "(4,)"
      ]
     },
     "execution_count": 75,
     "metadata": {},
     "output_type": "execute_result"
    }
   ],
   "source": [
    "np.shape(ds)"
   ]
  },
  {
   "cell_type": "code",
   "execution_count": 76,
   "metadata": {},
   "outputs": [
    {
     "data": {
      "text/plain": [
       "array([128.07249044, 255.85179428])"
      ]
     },
     "execution_count": 76,
     "metadata": {},
     "output_type": "execute_result"
    }
   ],
   "source": [
    "#fig, ax=plt.subplots()\n",
    "np.percentile((scale_height_dist[model][k]).flatten(), [25,75], axis=0)"
   ]
  },
  {
   "cell_type": "code",
   "execution_count": 77,
   "metadata": {},
   "outputs": [],
   "source": [
    "from matplotlib.collections import LineCollection"
   ]
  },
  {
   "cell_type": "code",
   "execution_count": 78,
   "metadata": {},
   "outputs": [
    {
     "data": {
      "image/png": "[encoded data removed]",
      "text/plain": [
       "<Figure size 864x576 with 6 Axes>"
      ]
     },
     "metadata": {
      "needs_background": "light"
     },
     "output_type": "display_data"
    }
   ],
   "source": [
    "fig, ax=plt.subplots(figsize=(12, 8), ncols=3, nrows=2, sharex=False, sharey=True)\n",
    "\n",
    "for model, name, a in zip( MODEL_NAMES, MODEL_SHORT_NAMES, np.concatenate(ax)):\n",
    "    ds=[]\n",
    "    qs=[]\n",
    "    for k in scale_height_dist[model].keys():\n",
    "        if len(scale_height_dist[model][k]) <1:\n",
    "            pass\n",
    "            qs.append([np.nan, np.nan])\n",
    "        else:\n",
    "            ds.append(scale_height_dist[model][k])\n",
    "            qs.append(np.percentile(scale_height_dist[model][k], [16, 84]))\n",
    "            \n",
    "    qs=np.vstack(qs)\n",
    "    a.hlines([0, 1, 2, 3, 4], qs[:,0], qs[:,1], color='r', linestyle='-', lw=3)\n",
    "\n",
    "    positions=[0, 1, 2, 3, 4]\n",
    "    if len(ds) ==4: positions=[1, 2, 3, 4]\n",
    "    v1 = a.violinplot(ds,points=3000, positions=positions,\n",
    "               showmeans=False, showmedians=True,  \\\n",
    "                      showextrema=False, vert =False)\n",
    "    for b in v1['bodies']: \n",
    "          b.set_color('#FF4136')\n",
    "    v1['cmedians'].set_color('r')\n",
    "        #get the center\n",
    "    a.set_yticks([0, 1, 2, 3, 4])\n",
    "    a.set_yticklabels(spgrid2)\n",
    "    a.set_xlabel('H (pc)', fontsize=18)\n",
    "    a.set_ylabel('Subtype', fontsize=18)\n",
    "    a.minorticks_on()\n",
    "    a.set(xlim=[50, 700])\n",
    "    a.set_title('Model= {}'.format(name), fontsize=18)\n",
    "\n",
    "\n",
    "plt.tight_layout()\n",
    "plt.savefig(wisps.OUTPUT_FIGURES+'/scaleheight_comparison_plus_binaries.pdf', bbox_inches='tight',  \\\n",
    "            facecolor='white', transparent=True)\n"
   ]
  },
  {
   "cell_type": "code",
   "execution_count": 79,
   "metadata": {},
   "outputs": [],
   "source": [
    "a.violinplot?"
   ]
  },
  {
   "cell_type": "code",
   "execution_count": 80,
   "metadata": {},
   "outputs": [],
   "source": [
    "ls=np.concatenate([np.concatenate(scale_height_dist_df.loc['L0-L5'].values).flatten(),\\\n",
    "                  np.concatenate(scale_height_dist_df.loc['L5-T0'].values).flatten()])\n",
    "\n",
    "ts=np.concatenate([np.concatenate(scale_height_dist_df.loc['T0-T5'].values).flatten(),\\\n",
    "                  np.concatenate(scale_height_dist_df.loc['T5-Y0'].values).flatten()])"
   ]
  },
  {
   "cell_type": "code",
   "execution_count": 81,
   "metadata": {},
   "outputs": [
    {
     "name": "stdout",
     "output_type": "stream",
     "text": [
      "T  (210.57, array([ 84.03, 223.21]))\n"
     ]
    }
   ],
   "source": [
    "print ('T ', asssymetric_med_std(ts))"
   ]
  },
  {
   "cell_type": "code",
   "execution_count": 82,
   "metadata": {},
   "outputs": [
    {
     "data": {
      "text/plain": [
       "305"
      ]
     },
     "execution_count": 82,
     "metadata": {},
     "output_type": "execute_result"
    }
   ],
   "source": [
    "171+134"
   ]
  },
  {
   "cell_type": "code",
   "execution_count": 83,
   "metadata": {},
   "outputs": [
    {
     "name": "stdout",
     "output_type": "stream",
     "text": [
      "L  (183.87, array([ 51.37, 105.69]))\n"
     ]
    }
   ],
   "source": [
    "print ('L ', asssymetric_med_std(ls))"
   ]
  },
  {
   "cell_type": "code",
   "execution_count": 84,
   "metadata": {},
   "outputs": [
    {
     "name": "stdout",
     "output_type": "stream",
     "text": [
      "M  (423.56, array([136.12,  89.69]))\n"
     ]
    }
   ],
   "source": [
    "print ('M ',asssymetric_med_std(np.concatenate(scale_height_dist_df.loc['M7-L0'].values).flatten()))"
   ]
  },
  {
   "cell_type": "code",
   "execution_count": 85,
   "metadata": {},
   "outputs": [],
   "source": [
    "#print ('T ',asssymetric_med_std(np.concatenate(scale_height_dist_df.loc['T-L0'].values).flatten()))"
   ]
  },
  {
   "cell_type": "code",
   "execution_count": 86,
   "metadata": {},
   "outputs": [],
   "source": [
    "ignore_models_dict={'L0-L5': ['phillips2020'], 'M7-L0':[], 'L5-T0':[],\\\n",
    "                    'T0-T5':[], 'T5-Y0':[],  'T5-Y0':[]}"
   ]
  },
  {
   "cell_type": "code",
   "execution_count": 87,
   "metadata": {},
   "outputs": [],
   "source": [
    "def get_median(df, subtype, rund=1):\n",
    "    ignore_models=ignore_models_dict[subtype]\n",
    "    all_models=MODEL_NAMES\n",
    "    mds=[x for x in all_models if x not in ignore_models]\n",
    "    vs=np.concatenate(df[mds].loc[subtype].values).flatten()\n",
    "    val, unc=asssymetric_med_std(vs)\n",
    "    res=''\n",
    "    if np.isnan(val):\n",
    "            res += r'\\nodata'\n",
    "    else:\n",
    "        if rund <1:\n",
    "                st=str(int(np.round(val, rund)))+ '$_{-'+ str(int(np.round(unc[0], rund)))+'}'+\\\n",
    "                '^{+'+str(int(np.round(unc[1], rund)))+'} $&'\n",
    "        else:\n",
    "                st=str(np.round(val, rund))+ '$_{-'+ str(np.round(unc[0], rund))+'}'+\\\n",
    "                '^{+'+str(np.round(unc[1], rund))+'} $&'\n",
    "        res += st\n",
    "    \n",
    "    return res\n",
    "def get_formatted_string(df, subtype, rund=1):\n",
    "    dn=df.loc[subtype]\n",
    "    res=''\n",
    "    for md in MODEL_NAMES:\n",
    "        val= dn[md][0]\n",
    "        unc=dn[md][1]\n",
    "        if np.isnan(val):\n",
    "            res += r'\\nodata &'\n",
    "        else:\n",
    "            if rund <1:\n",
    "                st=str(int(np.round(val, rund)))+ '$_{-'+ str(int(np.round(unc[0], rund)))+'}'+\\\n",
    "                '^{+'+str(int(np.round(unc[1], rund)))+'} $&'\n",
    "            else:\n",
    "                st=str(np.round(val, rund))+ '$_{-'+ str(np.round(unc[0], rund))+'}'+\\\n",
    "                '^{+'+str(np.round(unc[1], rund))+'} $&'\n",
    "            res += st\n",
    "    return res\n",
    "\n",
    "def get_age_median_from_simulation(subtype, rund=1):\n",
    "    res=''\n",
    "    \n",
    "    for model in MODEL_NAMES:\n",
    "        dfn0=age_dictionaries[model].replace('T5-T9', 'T5-Y0')\n",
    "        dfn=dfn0[dfn0.subtype==subtype]\n",
    "        if len(scale_height_dist[model][subtype]) <1:\n",
    "            res += r'\\nodata &'\n",
    "        else:\n",
    "            val, unc= asssymetric_med_std(dfn['age'].values)\n",
    "            if rund <1:\n",
    "                st=str(int(np.round(val, rund)))+ '$_{-'+ str(int(np.round(unc[0], rund)))+'}'+\\\n",
    "                '^{+'+str(int(np.round(unc[1], rund)))+'} $&'\n",
    "            else:\n",
    "                st=str(np.round(val, rund))+ '$_{-'+ str(np.round(unc[0], rund))+'}'+\\\n",
    "                '^{+'+str(np.round(unc[1], rund))+'} $&'\n",
    "            res += st\n",
    "    return res\n",
    "\n",
    "def get_age_median_all_from_simulation(subtype, rund=1):\n",
    "    ignore_models=ignore_models_dict[subtype]\n",
    "    ds=[]\n",
    "    res=''\n",
    "    all_models=MODEL_NAMES\n",
    "    mds=[x for x in all_models if x not in ignore_models]\n",
    "    for model in mds:\n",
    "        dfn0=age_dictionaries[model].replace('T5-T9', 'T5-Y0')\n",
    "        ds.append(dfn0[dfn0.subtype==subtype].age.values)\n",
    "    val, unc=asssymetric_med_std(np.concatenate(ds))\n",
    "    st=str(np.round(val, rund))+ '$_{-'+ str(np.round(unc[0], rund))+'}'+\\\n",
    "                '^{+'+str(np.round(unc[1], rund))+'} $&'\n",
    "    res += st\n",
    "    return res\n",
    "\n",
    "def get_ks_stats(subtype, rund=1, compareto='aumer'):\n",
    "    res=''\n",
    "    for model in MODEL_NAMES:\n",
    "        dfn=age_dictionaries[model].replace('T5-T9', 'T5-Y0')\n",
    "        x=dfn[dfn.subtype ==subtype].age.values\n",
    "        if compareto=='aumer': y=age_distdf_aumer[model][subtype]\n",
    "        if compareto=='just': y=age_distdf_just[model][subtype]\n",
    "        if len(y)<2:\n",
    "            res +=r'\\nodata'\n",
    "        else:\n",
    "            val=stats.ks_2samp(x, y, mode='asymp', alternative='two-sided')[0]\n",
    "            st= str(np.round(val, rund))+'&'\n",
    "            res += st\n",
    "    return res"
   ]
  },
  {
   "cell_type": "code",
   "execution_count": 88,
   "metadata": {},
   "outputs": [],
   "source": [
    "def custom_overlap_probability(subtype, ranges=[0, 13], rund=3, compareto='aumer'):\n",
    "    grid=np.linspace(ranges[-1], ranges[1], 100)\n",
    "   \n",
    "    res=''\n",
    "    for model in MODEL_NAMES:\n",
    "        dfn=age_dictionaries[model].replace('T5-T9', 'T5-Y0')\n",
    "        x=dfn[dfn.subtype ==subtype].age.values\n",
    "        if compareto=='aumer':y=age_distdf_aumer[model][subtype]\n",
    "        if compareto=='just': y=age_distdf_just[model][subtype]\n",
    "        if len(y)<2:\n",
    "            res +='\\nodata'\n",
    "        else:\n",
    "            #Create overlapping probabilities\n",
    "            kde_sim=stats.kde.gaussian_kde(x)\n",
    "            kde_obs=stats.kde.gaussian_kde(y)\n",
    "\n",
    "            num=np.trapz(kde_sim(grid)*kde_obs(grid), x=grid)\n",
    "            den=np.trapz(kde_sim(grid), x=grid)*np.trapz(kde_obs(grid), x=grid)\n",
    "            val=num/den\n",
    "            st= str(np.round(val, rund))+'&'\n",
    "            res += st\n",
    "    \n",
    "    return res\n",
    "                                                \n",
    "                            "
   ]
  },
  {
   "cell_type": "code",
   "execution_count": 89,
   "metadata": {},
   "outputs": [],
   "source": [
    "grid=np.linspace(0, 13, 5000 )\n",
    "x=np.random.normal(5, 1, 1000)\n",
    "y=np.random.normal(5, 1, 1000)"
   ]
  },
  {
   "cell_type": "code",
   "execution_count": 90,
   "metadata": {},
   "outputs": [],
   "source": [
    "kde_sim=stats.kde.gaussian_kde(x)\n",
    "kde_obs=stats.kde.gaussian_kde(y)\n",
    "\n",
    "num=np.trapz(kde_sim(grid)*kde_obs(grid), x=grid)\n",
    "den=np.trapz(kde_sim(grid), x=grid)*np.trapz(kde_obs(grid), x=grid)"
   ]
  },
  {
   "cell_type": "code",
   "execution_count": 91,
   "metadata": {},
   "outputs": [
    {
     "data": {
      "text/plain": [
       "[<matplotlib.lines.Line2D at 0x7fe6e982d8e0>]"
      ]
     },
     "execution_count": 91,
     "metadata": {},
     "output_type": "execute_result"
    },
    {
     "data": {
      "image/png": "[encoded data removed]",
      "text/plain": [
       "<Figure size 432x288 with 1 Axes>"
      ]
     },
     "metadata": {
      "needs_background": "light"
     },
     "output_type": "display_data"
    }
   ],
   "source": [
    "plt.plot(grid, kde_sim(grid))\n",
    "plt.plot(grid, kde_obs(grid))"
   ]
  },
  {
   "cell_type": "code",
   "execution_count": 92,
   "metadata": {},
   "outputs": [
    {
     "data": {
      "text/plain": [
       "0.2707958733862105"
      ]
     },
     "execution_count": 92,
     "metadata": {},
     "output_type": "execute_result"
    }
   ],
   "source": [
    "num/den"
   ]
  },
  {
   "cell_type": "code",
   "execution_count": 93,
   "metadata": {},
   "outputs": [
    {
     "data": {
      "text/html": [
       "<div>\n",
       "<style scoped>\n",
       "    .dataframe tbody tr th:only-of-type {\n",
       "        vertical-align: middle;\n",
       "    }\n",
       "\n",
       "    .dataframe tbody tr th {\n",
       "        vertical-align: top;\n",
       "    }\n",
       "\n",
       "    .dataframe thead th {\n",
       "        text-align: right;\n",
       "    }\n",
       "</style>\n",
       "<table border=\"1\" class=\"dataframe\">\n",
       "  <thead>\n",
       "    <tr style=\"text-align: right;\">\n",
       "      <th></th>\n",
       "      <th>baraffe2003</th>\n",
       "      <th>burrows1997</th>\n",
       "      <th>burrows2001</th>\n",
       "      <th>marley2019</th>\n",
       "      <th>phillips2020</th>\n",
       "      <th>saumon2008</th>\n",
       "    </tr>\n",
       "  </thead>\n",
       "  <tbody>\n",
       "    <tr>\n",
       "      <th>M7-L0</th>\n",
       "      <td>(292.51, [26.1, 29.9])</td>\n",
       "      <td>(446.73, [56.68, 65.67])</td>\n",
       "      <td>(476.88, [58.93, 77.61])</td>\n",
       "      <td>(nan, [nan, nan])</td>\n",
       "      <td>(nan, [nan, nan])</td>\n",
       "      <td>(nan, [nan, nan])</td>\n",
       "    </tr>\n",
       "    <tr>\n",
       "      <th>L0-L5</th>\n",
       "      <td>(158.58, [25.5, 30.29])</td>\n",
       "      <td>(221.13, [45.66, 66.77])</td>\n",
       "      <td>(195.01, [35.51, 50.03])</td>\n",
       "      <td>(178.7, [31.45, 41.18])</td>\n",
       "      <td>(302.56, [83.05, 149.86])</td>\n",
       "      <td>(168.24, [27.98, 35.03])</td>\n",
       "    </tr>\n",
       "    <tr>\n",
       "      <th>L5-T0</th>\n",
       "      <td>(168.66, [52.77, 151.89])</td>\n",
       "      <td>(167.96, [52.67, 154.39])</td>\n",
       "      <td>(173.83, [57.36, 168.8])</td>\n",
       "      <td>(169.22, [53.29, 157.86])</td>\n",
       "      <td>(168.0, [52.41, 153.2])</td>\n",
       "      <td>(149.94, [38.15, 107.38])</td>\n",
       "    </tr>\n",
       "    <tr>\n",
       "      <th>T0-T5</th>\n",
       "      <td>(238.45, [99.42, 241.12])</td>\n",
       "      <td>(225.87, [91.05, 216.69])</td>\n",
       "      <td>(230.55, [93.92, 218.25])</td>\n",
       "      <td>(246.94, [103.9, 240.77])</td>\n",
       "      <td>(227.88, [91.42, 239.14])</td>\n",
       "      <td>(218.59, [85.08, 213.71])</td>\n",
       "    </tr>\n",
       "    <tr>\n",
       "      <th>T5-Y0</th>\n",
       "      <td>(178.14, [62.35, 183.31])</td>\n",
       "      <td>(169.97, [54.95, 188.86])</td>\n",
       "      <td>(170.53, [55.69, 176.78])</td>\n",
       "      <td>(174.64, [59.17, 195.29])</td>\n",
       "      <td>(170.74, [55.91, 180.16])</td>\n",
       "      <td>(184.66, [66.44, 207.91])</td>\n",
       "    </tr>\n",
       "  </tbody>\n",
       "</table>\n",
       "</div>"
      ],
      "text/plain": [
       "                     baraffe2003                burrows1997  \\\n",
       "M7-L0     (292.51, [26.1, 29.9])   (446.73, [56.68, 65.67])   \n",
       "L0-L5    (158.58, [25.5, 30.29])   (221.13, [45.66, 66.77])   \n",
       "L5-T0  (168.66, [52.77, 151.89])  (167.96, [52.67, 154.39])   \n",
       "T0-T5  (238.45, [99.42, 241.12])  (225.87, [91.05, 216.69])   \n",
       "T5-Y0  (178.14, [62.35, 183.31])  (169.97, [54.95, 188.86])   \n",
       "\n",
       "                     burrows2001                 marley2019  \\\n",
       "M7-L0   (476.88, [58.93, 77.61])          (nan, [nan, nan])   \n",
       "L0-L5   (195.01, [35.51, 50.03])    (178.7, [31.45, 41.18])   \n",
       "L5-T0   (173.83, [57.36, 168.8])  (169.22, [53.29, 157.86])   \n",
       "T0-T5  (230.55, [93.92, 218.25])  (246.94, [103.9, 240.77])   \n",
       "T5-Y0  (170.53, [55.69, 176.78])  (174.64, [59.17, 195.29])   \n",
       "\n",
       "                    phillips2020                 saumon2008  \n",
       "M7-L0          (nan, [nan, nan])          (nan, [nan, nan])  \n",
       "L0-L5  (302.56, [83.05, 149.86])   (168.24, [27.98, 35.03])  \n",
       "L5-T0    (168.0, [52.41, 153.2])  (149.94, [38.15, 107.38])  \n",
       "T0-T5  (227.88, [91.42, 239.14])  (218.59, [85.08, 213.71])  \n",
       "T5-Y0  (170.74, [55.91, 180.16])  (184.66, [66.44, 207.91])  "
      ]
     },
     "execution_count": 93,
     "metadata": {},
     "output_type": "execute_result"
    }
   ],
   "source": [
    "scalh_tables"
   ]
  },
  {
   "cell_type": "code",
   "execution_count": 94,
   "metadata": {},
   "outputs": [
    {
     "data": {
      "text/html": [
       "<div>\n",
       "<style scoped>\n",
       "    .dataframe tbody tr th:only-of-type {\n",
       "        vertical-align: middle;\n",
       "    }\n",
       "\n",
       "    .dataframe tbody tr th {\n",
       "        vertical-align: top;\n",
       "    }\n",
       "\n",
       "    .dataframe thead th {\n",
       "        text-align: right;\n",
       "    }\n",
       "</style>\n",
       "<table border=\"1\" class=\"dataframe\">\n",
       "  <thead>\n",
       "    <tr style=\"text-align: right;\">\n",
       "      <th></th>\n",
       "      <th>baraffe2003</th>\n",
       "      <th>burrows1997</th>\n",
       "      <th>burrows2001</th>\n",
       "      <th>marley2019</th>\n",
       "      <th>phillips2020</th>\n",
       "      <th>saumon2008</th>\n",
       "    </tr>\n",
       "  </thead>\n",
       "  <tbody>\n",
       "    <tr>\n",
       "      <th>M7-L0</th>\n",
       "      <td>(292.51, [26.1, 29.9])</td>\n",
       "      <td>(446.73, [56.68, 65.67])</td>\n",
       "      <td>(476.88, [58.93, 77.61])</td>\n",
       "      <td>(nan, [nan, nan])</td>\n",
       "      <td>(nan, [nan, nan])</td>\n",
       "      <td>(nan, [nan, nan])</td>\n",
       "    </tr>\n",
       "    <tr>\n",
       "      <th>L0-L5</th>\n",
       "      <td>(158.58, [25.5, 30.29])</td>\n",
       "      <td>(221.13, [45.66, 66.77])</td>\n",
       "      <td>(195.01, [35.51, 50.03])</td>\n",
       "      <td>(178.7, [31.45, 41.18])</td>\n",
       "      <td>(302.56, [83.05, 149.86])</td>\n",
       "      <td>(168.24, [27.98, 35.03])</td>\n",
       "    </tr>\n",
       "    <tr>\n",
       "      <th>L5-T0</th>\n",
       "      <td>(168.66, [52.77, 151.89])</td>\n",
       "      <td>(167.96, [52.67, 154.39])</td>\n",
       "      <td>(173.83, [57.36, 168.8])</td>\n",
       "      <td>(169.22, [53.29, 157.86])</td>\n",
       "      <td>(168.0, [52.41, 153.2])</td>\n",
       "      <td>(149.94, [38.15, 107.38])</td>\n",
       "    </tr>\n",
       "    <tr>\n",
       "      <th>T0-T5</th>\n",
       "      <td>(238.45, [99.42, 241.12])</td>\n",
       "      <td>(225.87, [91.05, 216.69])</td>\n",
       "      <td>(230.55, [93.92, 218.25])</td>\n",
       "      <td>(246.94, [103.9, 240.77])</td>\n",
       "      <td>(227.88, [91.42, 239.14])</td>\n",
       "      <td>(218.59, [85.08, 213.71])</td>\n",
       "    </tr>\n",
       "    <tr>\n",
       "      <th>T5-Y0</th>\n",
       "      <td>(178.14, [62.35, 183.31])</td>\n",
       "      <td>(169.97, [54.95, 188.86])</td>\n",
       "      <td>(170.53, [55.69, 176.78])</td>\n",
       "      <td>(174.64, [59.17, 195.29])</td>\n",
       "      <td>(170.74, [55.91, 180.16])</td>\n",
       "      <td>(184.66, [66.44, 207.91])</td>\n",
       "    </tr>\n",
       "  </tbody>\n",
       "</table>\n",
       "</div>"
      ],
      "text/plain": [
       "                     baraffe2003                burrows1997  \\\n",
       "M7-L0     (292.51, [26.1, 29.9])   (446.73, [56.68, 65.67])   \n",
       "L0-L5    (158.58, [25.5, 30.29])   (221.13, [45.66, 66.77])   \n",
       "L5-T0  (168.66, [52.77, 151.89])  (167.96, [52.67, 154.39])   \n",
       "T0-T5  (238.45, [99.42, 241.12])  (225.87, [91.05, 216.69])   \n",
       "T5-Y0  (178.14, [62.35, 183.31])  (169.97, [54.95, 188.86])   \n",
       "\n",
       "                     burrows2001                 marley2019  \\\n",
       "M7-L0   (476.88, [58.93, 77.61])          (nan, [nan, nan])   \n",
       "L0-L5   (195.01, [35.51, 50.03])    (178.7, [31.45, 41.18])   \n",
       "L5-T0   (173.83, [57.36, 168.8])  (169.22, [53.29, 157.86])   \n",
       "T0-T5  (230.55, [93.92, 218.25])  (246.94, [103.9, 240.77])   \n",
       "T5-Y0  (170.53, [55.69, 176.78])  (174.64, [59.17, 195.29])   \n",
       "\n",
       "                    phillips2020                 saumon2008  \n",
       "M7-L0          (nan, [nan, nan])          (nan, [nan, nan])  \n",
       "L0-L5  (302.56, [83.05, 149.86])   (168.24, [27.98, 35.03])  \n",
       "L5-T0    (168.0, [52.41, 153.2])  (149.94, [38.15, 107.38])  \n",
       "T0-T5  (227.88, [91.42, 239.14])  (218.59, [85.08, 213.71])  \n",
       "T5-Y0  (170.74, [55.91, 180.16])  (184.66, [66.44, 207.91])  "
      ]
     },
     "execution_count": 94,
     "metadata": {},
     "output_type": "execute_result"
    }
   ],
   "source": [
    "scalh_tables"
   ]
  },
  {
   "cell_type": "code",
   "execution_count": 95,
   "metadata": {
    "scrolled": false
   },
   "outputs": [
    {
     "name": "stdout",
     "output_type": "stream",
     "text": [
      "M7-L0&$H$ (pc) &447$_{-57}^{+66} $&477$_{-59}^{+78} $&293$_{-26}^{+30} $&\\nodata &\\nodata &\\nodata &424$_{-136}^{+90} $&64&8.8\\\\ \n",
      " & $\\sigma_w$ (km/s)  &20.3$_{-1.3}^{+1.4} $&20.9$_{-1.3}^{+1.6} $&16.4$_{-0.8}^{+0.8} $&\\nodata &\\nodata &\\nodata &19.7$_{-3.5}^{+2.0} $&& \\\\ \n",
      " & Age (Gyr) (J10) &6.8$_{-1.2}^{+1.4} $&7.4$_{-1.2}^{+1.7} $&3.8$_{-0.5}^{+0.6} $&\\nodata &\\nodata &\\nodata &6.3$_{-2.6}^{+1.9} $&& \\\\ \n",
      " & Age (Gyr) (A09)&7.0$_{-1.0}^{+1.2} $&7.5$_{-1.0}^{+1.4} $&4.3$_{-0.4}^{+0.5} $&\\nodata &\\nodata &\\nodata &6.6$_{-2.3}^{+1.6} $&& \\\\ \n",
      " & Age (Gyr) (Simulation)&2.6$_{-2.3}^{+3.8} $&2.8$_{-2.4}^{+3.7} $&3.5$_{-2.9}^{+3.2} $&\\nodata &\\nodata &\\nodata &2.8$_{-2.5}^{+3.7} $&& \\\\ \n",
      " & KS (A09-Simulation) & 0.7&0.8&0.5&\\nodata\\nodata\\nodata& \\\\ \n",
      " & KS (J10-Simulation) & 0.7&0.7&0.4&\\nodata\\nodata\\nodata& \\\\ \n",
      "L0-L5&$H$ (pc) &221$_{-46}^{+67} $&195$_{-36}^{+50} $&159$_{-26}^{+30} $&168$_{-28}^{+35} $&179$_{-31}^{+41} $&303$_{-83}^{+150} $&181$_{-35}^{+55} $&13&2.3\\\\ \n",
      " & $\\sigma_w$ (km/s)  &14.3$_{-1.6}^{+2.0} $&13.4$_{-1.3}^{+1.6} $&12.1$_{-1.0}^{+1.1} $&12.4$_{-1.1}^{+1.2} $&12.8$_{-1.2}^{+1.4} $&16.7$_{-2.5}^{+3.7} $&12.9$_{-1.3}^{+1.8} $&& \\\\ \n",
      " & Age (Gyr) (J10) &2.6$_{-0.7}^{+1.2} $&2.1$_{-0.5}^{+0.8} $&1.6$_{-0.4}^{+0.5} $&1.7$_{-0.4}^{+0.5} $&1.9$_{-0.5}^{+0.6} $&4.0$_{-1.4}^{+2.9} $&1.9$_{-0.5}^{+0.9} $&& \\\\ \n",
      " & Age (Gyr) (A09)&3.2$_{-0.7}^{+1.1} $&2.7$_{-0.6}^{+0.8} $&2.2$_{-0.4}^{+0.5} $&2.3$_{-0.4}^{+0.6} $&2.5$_{-0.5}^{+0.6} $&4.5$_{-1.4}^{+2.6} $&2.5$_{-0.5}^{+0.9} $&& \\\\ \n",
      " & Age (Gyr) (Simulation)&2.1$_{-1.7}^{+3.9} $&2.2$_{-1.8}^{+3.9} $&2.2$_{-1.8}^{+3.9} $&3.0$_{-2.4}^{+3.6} $&2.2$_{-1.8}^{+3.9} $&1.2$_{-0.9}^{+3.4} $&2.4$_{-1.9}^{+3.9} $&& \\\\ \n",
      " & KS (A09-Simulation) & 0.5&0.4&0.4&0.4&0.4&0.7&& \\\\ \n",
      " & KS (J10-Simulation) & 0.4&0.3&0.4&0.5&0.4&0.6&& \\\\ \n",
      "L5-T0&$H$ (pc) &168$_{-53}^{+154} $&174$_{-57}^{+169} $&169$_{-53}^{+152} $&150$_{-38}^{+107} $&169$_{-53}^{+158} $&168$_{-52}^{+153} $&166$_{-51}^{+149} $&2&0.1\\\\ \n",
      " & $\\sigma_w$ (km/s)  &12.4$_{-2.1}^{+4.8} $&12.6$_{-2.3}^{+5.1} $&12.4$_{-2.1}^{+4.7} $&11.7$_{-1.6}^{+3.6} $&12.5$_{-2.2}^{+4.9} $&12.4$_{-2.1}^{+4.8} $&12.4$_{-2.1}^{+4.7} $&& \\\\ \n",
      " & Age (Gyr) (J10) &1.7$_{-0.7}^{+2.6} $&1.8$_{-0.8}^{+2.9} $&1.7$_{-0.8}^{+2.6} $&1.4$_{-0.5}^{+1.7} $&1.7$_{-0.8}^{+2.7} $&1.7$_{-0.7}^{+2.6} $&1.7$_{-0.7}^{+2.5} $&& \\\\ \n",
      " & Age (Gyr) (A09)&2.3$_{-0.8}^{+2.5} $&2.4$_{-0.9}^{+2.8} $&2.3$_{-0.8}^{+2.5} $&2.0$_{-0.6}^{+1.7} $&2.3$_{-0.8}^{+2.6} $&2.3$_{-0.8}^{+2.5} $&2.3$_{-0.8}^{+2.4} $&& \\\\ \n",
      " & Age (Gyr) (Simulation)&2.1$_{-1.5}^{+3.1} $&2.2$_{-1.6}^{+3.3} $&2.6$_{-1.8}^{+3.4} $&2.4$_{-1.7}^{+3.3} $&2.3$_{-1.7}^{+3.3} $&2.4$_{-1.7}^{+3.3} $&2.3$_{-1.7}^{+3.3} $&& \\\\ \n",
      " & KS (A09-Simulation) & 0.3&0.3&0.3&0.3&0.3&0.3&& \\\\ \n",
      " & KS (J10-Simulation) & 0.2&0.2&0.2&0.3&0.2&0.2&& \\\\ \n",
      "T0-T5&$H$ (pc) &226$_{-91}^{+217} $&231$_{-94}^{+218} $&238$_{-99}^{+241} $&219$_{-85}^{+214} $&247$_{-104}^{+241} $&228$_{-91}^{+239} $&231$_{-94}^{+229} $&3&0.1\\\\ \n",
      " & $\\sigma_w$ (km/s)  &14.4$_{-3.3}^{+5.8} $&14.6$_{-3.4}^{+5.8} $&14.8$_{-3.5}^{+6.2} $&14.2$_{-3.1}^{+5.8} $&15.1$_{-3.6}^{+6.1} $&14.5$_{-3.3}^{+6.2} $&14.6$_{-3.4}^{+6.0} $&& \\\\ \n",
      " & Age (Gyr) (J10) &2.6$_{-1.4}^{+4.1} $&2.7$_{-1.4}^{+4.1} $&2.8$_{-1.5}^{+4.6} $&2.5$_{-1.3}^{+4.0} $&3.0$_{-1.6}^{+4.7} $&2.7$_{-1.4}^{+4.5} $&2.7$_{-1.4}^{+4.4} $&& \\\\ \n",
      " & Age (Gyr) (A09)&3.2$_{-1.4}^{+3.6} $&3.3$_{-1.5}^{+3.7} $&3.4$_{-1.6}^{+4.1} $&3.1$_{-1.3}^{+3.6} $&3.6$_{-1.6}^{+4.1} $&3.3$_{-1.4}^{+4.0} $&3.3$_{-1.5}^{+3.9} $&& \\\\ \n",
      " & Age (Gyr) (Simulation)&3.0$_{-2.1}^{+3.0} $&3.0$_{-2.1}^{+3.0} $&3.3$_{-2.3}^{+3.1} $&3.1$_{-2.2}^{+3.0} $&3.1$_{-2.1}^{+3.0} $&3.3$_{-2.3}^{+3.1} $&3.1$_{-2.2}^{+3.1} $&& \\\\ \n",
      " & KS (A09-Simulation) & 0.2&0.2&0.2&0.2&0.2&0.2&& \\\\ \n",
      " & KS (J10-Simulation) & 0.1&0.1&0.1&0.1&0.1&0.1&& \\\\ \n",
      "T5-Y0&$H$ (pc) &170$_{-55}^{+189} $&171$_{-56}^{+177} $&178$_{-62}^{+183} $&185$_{-66}^{+208} $&175$_{-59}^{+195} $&171$_{-56}^{+180} $&175$_{-59}^{+192} $&1&0.0\\\\ \n",
      " & $\\sigma_w$ (km/s)  &12.5$_{-2.2}^{+5.7} $&12.5$_{-2.2}^{+5.4} $&12.8$_{-2.5}^{+5.4} $&13.0$_{-2.6}^{+6.0} $&12.7$_{-2.4}^{+5.8} $&12.5$_{-2.2}^{+5.4} $&12.7$_{-2.4}^{+5.7} $&& \\\\ \n",
      " & Age (Gyr) (J10) &1.8$_{-0.8}^{+3.3} $&1.8$_{-0.8}^{+3.0} $&1.9$_{-0.9}^{+3.2} $&2.0$_{-1.0}^{+3.7} $&1.8$_{-0.8}^{+3.4} $&1.8$_{-0.8}^{+3.1} $&1.8$_{-0.8}^{+3.4} $&& \\\\ \n",
      " & Age (Gyr) (A09)&2.4$_{-0.8}^{+3.1} $&2.4$_{-0.8}^{+2.9} $&2.5$_{-1.0}^{+3.0} $&2.6$_{-1.0}^{+3.4} $&2.4$_{-0.9}^{+3.2} $&2.4$_{-0.8}^{+2.9} $&2.4$_{-0.9}^{+3.1} $&& \\\\ \n",
      " & Age (Gyr) (Simulation)&4.2$_{-2.8}^{+2.7} $&4.1$_{-2.7}^{+2.8} $&4.2$_{-2.7}^{+2.7} $&4.3$_{-2.8}^{+2.6} $&4.2$_{-2.7}^{+2.7} $&4.2$_{-2.7}^{+2.7} $&4.2$_{-2.7}^{+2.7} $&& \\\\ \n",
      " & KS (A09-Simulation) & 0.3&0.3&0.3&0.3&0.3&0.3&& \\\\ \n",
      " & KS (J10-Simulation) & 0.4&0.4&0.4&0.4&0.4&0.4&& \\\\ \n"
     ]
    }
   ],
   "source": [
    "#print latex formatted \n",
    "for idx, subtype in enumerate(spgrid2):\n",
    "    print (subtype + r'&$H$ (pc) &' + get_formatted_string(scalh_tables, subtype, rund=0) \\\n",
    "           + get_median(scale_height_dist_df, subtype, rund=0) +  \\\n",
    "           str(int(np.round(y2)[idx]))+'&'+  str(np.round(THICK[idx], 1)) + r'\\\\ ')\n",
    "    print (r' & $\\sigma_w$ (km/s)  &' + get_formatted_string(vel_tables, subtype) \\\n",
    "           + get_median(vel_df, subtype) + '& '+ r'\\\\ ')\n",
    "    print (r' & Age (Gyr) (J10) &' + get_formatted_string(age_tables_just, subtype) \\\n",
    "           + get_median(age_distdf_just, subtype)+ '& ' + r'\\\\ ')\n",
    "    #print (r' & Age (Gyr) (SB15)&' + get_formatted_string(age_tables_sand, subtype)  \\\n",
    "    #       + get_median(age_distdf_sand, subtype) + r'\\\\ ')\n",
    "    #print (r' & Age (Gyr) (Y18)&' + get_formatted_string(age_tables_yu, subtype)  \\\n",
    "    #       + get_median(age_distdf_yu, subtype) + r'\\\\ ')\n",
    "    print (r' & Age (Gyr) (A09)&' + get_formatted_string(age_tables_aumer, subtype)  \\\n",
    "           + get_median(age_distdf_aumer, subtype)+ '& '  + r'\\\\ ')\n",
    "    \n",
    "    print (r' & Age (Gyr) (Simulation)&' + get_age_median_from_simulation(subtype, rund=1)  \\\n",
    "           + get_age_median_all_from_simulation(subtype, rund=1)+ '& ' + r'\\\\ ')\n",
    "    \n",
    "    print (r' & KS (A09-Simulation) & ' + get_ks_stats(subtype, rund=1, compareto='aumer')\\\n",
    "           +  '& ' + r'\\\\ ')\n",
    "    \n",
    "    print (r' & KS (J10-Simulation) & ' + get_ks_stats(subtype, rund=1, compareto='just')\\\n",
    "           +  '& ' + r'\\\\ ')"
   ]
  },
  {
   "cell_type": "code",
   "execution_count": 96,
   "metadata": {},
   "outputs": [],
   "source": [
    "###################run same analysis for combined L and T d"
   ]
  },
  {
   "cell_type": "code",
   "execution_count": 97,
   "metadata": {},
   "outputs": [
    {
     "data": {
      "text/plain": [
       "([73, 17, 4],\n",
       " array([8.79798048, 2.30571423, 0.14145726, 0.08853498, 0.01784511]))"
      ]
     },
     "execution_count": 97,
     "metadata": {},
     "output_type": "execute_result"
    }
   ],
   "source": [
    "y4, THICK"
   ]
  },
  {
   "cell_type": "code",
   "execution_count": 98,
   "metadata": {},
   "outputs": [],
   "source": [
    "ltotal_scaleheight={}\n",
    "ttotal_scaleheight={}"
   ]
  },
  {
   "cell_type": "code",
   "execution_count": 99,
   "metadata": {},
   "outputs": [
    {
     "data": {
      "image/png": "[encoded data removed]",
      "text/plain": [
       "<Figure size 432x288 with 1 Axes>"
      ]
     },
     "metadata": {
      "needs_background": "light"
     },
     "output_type": "display_data"
    }
   ],
   "source": [
    "#compute rvs for \n",
    "fig, ax=plt.subplots()\n",
    "for m in MODEL_NAMES:\n",
    "    predvals=np.vstack(np.vstack(pred_number_dicts[m].values))[:,1]+\\\n",
    "    np.vstack(np.vstack(pred_number_dicts[m].values))[:,2]\n",
    "    interpf =interp1d(predvals, wispsim.HS)\n",
    "    rvs=stats.gamma.rvs(17, size =int(1e5))\n",
    "    npoisson=rvs[np.logical_and(rvs>=predvals.min(), rvs <=predvals.max())]\n",
    "    ltotal_scaleheight.update({m: interpf(npoisson)})\n",
    "    ax.plot(npoisson, interpf(npoisson), '^', alpha=0.1)\n",
    "    \n",
    "#compute rvs for \n",
    "for m in MODEL_NAMES:\n",
    "    predvals=np.vstack(np.vstack(pred_number_dicts[m].values))[:,3]+\\\n",
    "    np.vstack(np.vstack(pred_number_dicts[m].values))[:,4]\n",
    "    interpf =interp1d(predvals, wispsim.HS)\n",
    "    rvs=stats.gamma.rvs(4, size =int(1e5))\n",
    "    npoisson=rvs[np.logical_and(rvs>=predvals.min(), rvs <=predvals.max())]\n",
    "    ttotal_scaleheight.update({m: interpf(npoisson)})"
   ]
  },
  {
   "cell_type": "code",
   "execution_count": 100,
   "metadata": {},
   "outputs": [
    {
     "data": {
      "text/plain": [
       "dict_keys(['burrows1997', 'burrows2001', 'baraffe2003', 'saumon2008', 'marley2019', 'phillips2020'])"
      ]
     },
     "execution_count": 100,
     "metadata": {},
     "output_type": "execute_result"
    }
   ],
   "source": [
    "ltotal_scaleheight.keys()"
   ]
  },
  {
   "cell_type": "code",
   "execution_count": 101,
   "metadata": {},
   "outputs": [],
   "source": [
    "ltotal_scaleheight['combined']=np.concatenate([ltotal_scaleheight[k] \\\n",
    "                                for k in ltotal_scaleheight.keys()])\n",
    "ttotal_scaleheight['combined']=np.concatenate([ttotal_scaleheight[k] \\\n",
    "                                for k in ttotal_scaleheight.keys()])"
   ]
  },
  {
   "cell_type": "code",
   "execution_count": 102,
   "metadata": {},
   "outputs": [],
   "source": [
    "ttotal_vdisp={}\n",
    "ltotal_vdisp={}\n",
    "\n",
    "ttotal_age_just={}\n",
    "ttotal_age_aumer={}\n",
    "\n",
    "ltotal_age_just={}\n",
    "ltotal_age_aumer={}\n",
    "for k in ttotal_scaleheight.keys():\n",
    "    ltotal_vdisp.update({k:scaleheight_to_vertical_disp(ltotal_scaleheight[k])})\n",
    "    ttotal_vdisp.update({k:scaleheight_to_vertical_disp(ttotal_scaleheight[k])})\n",
    "    \n",
    "    ttotal_age_just.update({k: popsims.avr_just(ttotal_vdisp[k], verbose=False)})\n",
    "    ttotal_age_aumer.update({k: avr_aumer(ttotal_vdisp[k], verbose=False)})\n",
    "    \n",
    "    ltotal_age_just.update({k:  popsims.avr_just(ltotal_vdisp[k], verbose=False)})\n",
    "    ltotal_age_aumer.update({k:avr_aumer(ltotal_vdisp[k], verbose=False)})\n",
    "    \n",
    "    "
   ]
  },
  {
   "cell_type": "code",
   "execution_count": 103,
   "metadata": {},
   "outputs": [],
   "source": [
    "#"
   ]
  },
  {
   "cell_type": "code",
   "execution_count": 104,
   "metadata": {},
   "outputs": [],
   "source": [
    "lt_df_h=pd.DataFrame(columns= ttotal_scaleheight.keys(), index=['L', 'T'])\n",
    "lt_df_age_aumer=pd.DataFrame(columns= ttotal_scaleheight.keys(), index=['L', 'T'])\n",
    "lt_df_age_just=pd.DataFrame(columns= ttotal_scaleheight.keys(), index=['L', 'T'])\n",
    "lt_df_v=pd.DataFrame(columns= ttotal_scaleheight.keys(), index=['L', 'T'])"
   ]
  },
  {
   "cell_type": "code",
   "execution_count": 105,
   "metadata": {},
   "outputs": [],
   "source": [
    "for k in ttotal_scaleheight.keys():\n",
    "    lt_df_h.loc['L', k]=asssymetric_med_std(ltotal_scaleheight[k])\n",
    "    lt_df_v.loc['L', k]=asssymetric_med_std(ltotal_vdisp[k])\n",
    "    lt_df_age_aumer.loc['L', k]=asssymetric_med_std(ltotal_age_aumer[k])\n",
    "    lt_df_age_just.loc['L', k]=asssymetric_med_std(ltotal_age_just[k])\n",
    "    \n",
    "    lt_df_h.loc['T', k]=asssymetric_med_std(ttotal_scaleheight[k])\n",
    "    lt_df_v.loc['T', k]=asssymetric_med_std(ttotal_vdisp[k])\n",
    "    lt_df_age_aumer.loc['T', k]=asssymetric_med_std(ttotal_age_aumer[k])\n",
    "    lt_df_age_just.loc['T', k]=asssymetric_med_std(ttotal_age_just[k])"
   ]
  },
  {
   "cell_type": "code",
   "execution_count": 106,
   "metadata": {},
   "outputs": [
    {
     "data": {
      "text/html": [
       "<div>\n",
       "<style scoped>\n",
       "    .dataframe tbody tr th:only-of-type {\n",
       "        vertical-align: middle;\n",
       "    }\n",
       "\n",
       "    .dataframe tbody tr th {\n",
       "        vertical-align: top;\n",
       "    }\n",
       "\n",
       "    .dataframe thead th {\n",
       "        text-align: right;\n",
       "    }\n",
       "</style>\n",
       "<table border=\"1\" class=\"dataframe\">\n",
       "  <thead>\n",
       "    <tr style=\"text-align: right;\">\n",
       "      <th></th>\n",
       "      <th>burrows1997</th>\n",
       "      <th>burrows2001</th>\n",
       "      <th>baraffe2003</th>\n",
       "      <th>saumon2008</th>\n",
       "      <th>marley2019</th>\n",
       "      <th>phillips2020</th>\n",
       "      <th>combined</th>\n",
       "    </tr>\n",
       "  </thead>\n",
       "  <tbody>\n",
       "    <tr>\n",
       "      <th>L</th>\n",
       "      <td>241.86$ _{-50.03} ^{+73.06}$</td>\n",
       "      <td>217.0$ _{-40.55} ^{+54.31}$</td>\n",
       "      <td>174.17$ _{-26.82} ^{+33.44}$</td>\n",
       "      <td>180.56$ _{-29.26} ^{+36.88}$</td>\n",
       "      <td>196.09$ _{-33.01} ^{+46.34}$</td>\n",
       "      <td>323.66$ _{-86.33} ^{+151.69}$</td>\n",
       "      <td>207.81$ _{-44.72} ^{+94.65}$</td>\n",
       "    </tr>\n",
       "    <tr>\n",
       "      <th>T</th>\n",
       "      <td>197.07$ _{-68.66} ^{+166.25}$</td>\n",
       "      <td>199.1$ _{-70.41} ^{+168.2}$</td>\n",
       "      <td>209.13$ _{-76.82} ^{+178.22}$</td>\n",
       "      <td>206.41$ _{-74.26} ^{+172.17}$</td>\n",
       "      <td>213.41$ _{-79.19} ^{+182.97}$</td>\n",
       "      <td>198.27$ _{-69.16} ^{+169.05}$</td>\n",
       "      <td>203.58$ _{-72.89} ^{+173.93}$</td>\n",
       "    </tr>\n",
       "  </tbody>\n",
       "</table>\n",
       "</div>"
      ],
      "text/plain": [
       "                     burrows1997                  burrows2001  \\\n",
       "L   241.86$ _{-50.03} ^{+73.06}$  217.0$ _{-40.55} ^{+54.31}$   \n",
       "T  197.07$ _{-68.66} ^{+166.25}$  199.1$ _{-70.41} ^{+168.2}$   \n",
       "\n",
       "                     baraffe2003                     saumon2008  \\\n",
       "L   174.17$ _{-26.82} ^{+33.44}$   180.56$ _{-29.26} ^{+36.88}$   \n",
       "T  209.13$ _{-76.82} ^{+178.22}$  206.41$ _{-74.26} ^{+172.17}$   \n",
       "\n",
       "                      marley2019                   phillips2020  \\\n",
       "L   196.09$ _{-33.01} ^{+46.34}$  323.66$ _{-86.33} ^{+151.69}$   \n",
       "T  213.41$ _{-79.19} ^{+182.97}$  198.27$ _{-69.16} ^{+169.05}$   \n",
       "\n",
       "                        combined  \n",
       "L   207.81$ _{-44.72} ^{+94.65}$  \n",
       "T  203.58$ _{-72.89} ^{+173.93}$  "
      ]
     },
     "execution_count": 106,
     "metadata": {},
     "output_type": "execute_result"
    }
   ],
   "source": [
    "lt_df_h.applymap(reformat)"
   ]
  },
  {
   "cell_type": "code",
   "execution_count": 107,
   "metadata": {},
   "outputs": [
    {
     "data": {
      "text/html": [
       "<div>\n",
       "<style scoped>\n",
       "    .dataframe tbody tr th:only-of-type {\n",
       "        vertical-align: middle;\n",
       "    }\n",
       "\n",
       "    .dataframe tbody tr th {\n",
       "        vertical-align: top;\n",
       "    }\n",
       "\n",
       "    .dataframe thead th {\n",
       "        text-align: right;\n",
       "    }\n",
       "</style>\n",
       "<table border=\"1\" class=\"dataframe\">\n",
       "  <thead>\n",
       "    <tr style=\"text-align: right;\">\n",
       "      <th></th>\n",
       "      <th>burrows1997</th>\n",
       "      <th>burrows2001</th>\n",
       "      <th>baraffe2003</th>\n",
       "      <th>saumon2008</th>\n",
       "      <th>marley2019</th>\n",
       "      <th>phillips2020</th>\n",
       "      <th>combined</th>\n",
       "    </tr>\n",
       "  </thead>\n",
       "  <tbody>\n",
       "    <tr>\n",
       "      <th>L</th>\n",
       "      <td>14.91$ _{-1.63} ^{+2.1}$</td>\n",
       "      <td>14.13$ _{-1.39} ^{+1.67}$</td>\n",
       "      <td>12.66$ _{-1.02} ^{+1.16}$</td>\n",
       "      <td>12.89$ _{-1.09} ^{+1.25}$</td>\n",
       "      <td>13.43$ _{-1.18} ^{+1.5}$</td>\n",
       "      <td>17.25$ _{-2.48} ^{+3.66}$</td>\n",
       "      <td>13.82$ _{-1.58} ^{+2.85}$</td>\n",
       "    </tr>\n",
       "    <tr>\n",
       "      <th>T</th>\n",
       "      <td>13.46$ _{-2.6} ^{+4.82}$</td>\n",
       "      <td>13.53$ _{-2.65} ^{+4.85}$</td>\n",
       "      <td>13.87$ _{-2.84} ^{+5.01}$</td>\n",
       "      <td>13.78$ _{-2.75} ^{+4.88}$</td>\n",
       "      <td>14.01$ _{-2.9} ^{+5.08}$</td>\n",
       "      <td>13.5$ _{-2.61} ^{+4.88}$</td>\n",
       "      <td>13.68$ _{-2.72} ^{+4.95}$</td>\n",
       "    </tr>\n",
       "  </tbody>\n",
       "</table>\n",
       "</div>"
      ],
      "text/plain": [
       "                burrows1997                burrows2001  \\\n",
       "L  14.91$ _{-1.63} ^{+2.1}$  14.13$ _{-1.39} ^{+1.67}$   \n",
       "T  13.46$ _{-2.6} ^{+4.82}$  13.53$ _{-2.65} ^{+4.85}$   \n",
       "\n",
       "                 baraffe2003                 saumon2008  \\\n",
       "L  12.66$ _{-1.02} ^{+1.16}$  12.89$ _{-1.09} ^{+1.25}$   \n",
       "T  13.87$ _{-2.84} ^{+5.01}$  13.78$ _{-2.75} ^{+4.88}$   \n",
       "\n",
       "                 marley2019               phillips2020  \\\n",
       "L  13.43$ _{-1.18} ^{+1.5}$  17.25$ _{-2.48} ^{+3.66}$   \n",
       "T  14.01$ _{-2.9} ^{+5.08}$   13.5$ _{-2.61} ^{+4.88}$   \n",
       "\n",
       "                    combined  \n",
       "L  13.82$ _{-1.58} ^{+2.85}$  \n",
       "T  13.68$ _{-2.72} ^{+4.95}$  "
      ]
     },
     "execution_count": 107,
     "metadata": {},
     "output_type": "execute_result"
    }
   ],
   "source": [
    "lt_df_v.applymap(reformat)"
   ]
  },
  {
   "cell_type": "code",
   "execution_count": 108,
   "metadata": {},
   "outputs": [
    {
     "data": {
      "text/html": [
       "<div>\n",
       "<style scoped>\n",
       "    .dataframe tbody tr th:only-of-type {\n",
       "        vertical-align: middle;\n",
       "    }\n",
       "\n",
       "    .dataframe tbody tr th {\n",
       "        vertical-align: top;\n",
       "    }\n",
       "\n",
       "    .dataframe thead th {\n",
       "        text-align: right;\n",
       "    }\n",
       "</style>\n",
       "<table border=\"1\" class=\"dataframe\">\n",
       "  <thead>\n",
       "    <tr style=\"text-align: right;\">\n",
       "      <th></th>\n",
       "      <th>burrows1997</th>\n",
       "      <th>burrows2001</th>\n",
       "      <th>baraffe2003</th>\n",
       "      <th>saumon2008</th>\n",
       "      <th>marley2019</th>\n",
       "      <th>phillips2020</th>\n",
       "      <th>combined</th>\n",
       "    </tr>\n",
       "  </thead>\n",
       "  <tbody>\n",
       "    <tr>\n",
       "      <th>L</th>\n",
       "      <td>3.49$ _{-0.8} ^{+1.2}$</td>\n",
       "      <td>3.09$ _{-0.64} ^{+0.88}$</td>\n",
       "      <td>2.41$ _{-0.41} ^{+0.53}$</td>\n",
       "      <td>2.51$ _{-0.45} ^{+0.58}$</td>\n",
       "      <td>2.75$ _{-0.52} ^{+0.74}$</td>\n",
       "      <td>4.84$ _{-1.42} ^{+2.61}$</td>\n",
       "      <td>2.94$ _{-0.7} ^{+1.54}$</td>\n",
       "    </tr>\n",
       "    <tr>\n",
       "      <th>T</th>\n",
       "      <td>2.77$ _{-1.06} ^{+2.74}$</td>\n",
       "      <td>2.8$ _{-1.09} ^{+2.77}$</td>\n",
       "      <td>2.96$ _{-1.19} ^{+2.96}$</td>\n",
       "      <td>2.92$ _{-1.15} ^{+2.85}$</td>\n",
       "      <td>3.03$ _{-1.23} ^{+3.05}$</td>\n",
       "      <td>2.79$ _{-1.07} ^{+2.79}$</td>\n",
       "      <td>2.87$ _{-1.13} ^{+2.88}$</td>\n",
       "    </tr>\n",
       "  </tbody>\n",
       "</table>\n",
       "</div>"
      ],
      "text/plain": [
       "                burrows1997               burrows2001  \\\n",
       "L    3.49$ _{-0.8} ^{+1.2}$  3.09$ _{-0.64} ^{+0.88}$   \n",
       "T  2.77$ _{-1.06} ^{+2.74}$   2.8$ _{-1.09} ^{+2.77}$   \n",
       "\n",
       "                baraffe2003                saumon2008  \\\n",
       "L  2.41$ _{-0.41} ^{+0.53}$  2.51$ _{-0.45} ^{+0.58}$   \n",
       "T  2.96$ _{-1.19} ^{+2.96}$  2.92$ _{-1.15} ^{+2.85}$   \n",
       "\n",
       "                 marley2019              phillips2020  \\\n",
       "L  2.75$ _{-0.52} ^{+0.74}$  4.84$ _{-1.42} ^{+2.61}$   \n",
       "T  3.03$ _{-1.23} ^{+3.05}$  2.79$ _{-1.07} ^{+2.79}$   \n",
       "\n",
       "                   combined  \n",
       "L   2.94$ _{-0.7} ^{+1.54}$  \n",
       "T  2.87$ _{-1.13} ^{+2.88}$  "
      ]
     },
     "execution_count": 108,
     "metadata": {},
     "output_type": "execute_result"
    }
   ],
   "source": [
    "lt_df_age_aumer.applymap(reformat)"
   ]
  },
  {
   "cell_type": "code",
   "execution_count": 109,
   "metadata": {},
   "outputs": [],
   "source": [
    "def get_combined_age_lt_simulation():\n",
    "    comb_dt={'L':[], 'T':[]}\n",
    "    combined_sim_ages_dict={'L':{}, 'T':{}}\n",
    "    ks_test_dict_aumer={'L': {}, 'T':{}}\n",
    "    ks_test_dict_just={'L': {}, 'T':{}}\n",
    "    for model in tqdm(MODEL_NAMES):\n",
    "        dfn0=age_dictionaries[model].replace('T5-T9', 'T5-Y0')\n",
    "        ls=dfn0[dfn0.spt.between(20, 29)].age.values\n",
    "        ts=dfn0[dfn0.spt.between(30, 39)].age.values\n",
    "        combined_sim_ages_dict['L'].update({model:asssymetric_med_std(ls) })\n",
    "        combined_sim_ages_dict['T'].update({model:asssymetric_med_std(ts) })\n",
    "        comb_dt['L'].append(ls)\n",
    "        comb_dt['T'].append(ts)\n",
    "         \n",
    "        kstestt_aumer=stats.ks_2samp(ts, ttotal_age_aumer[model], mode='asymp', alternative='two-sided')[0]\n",
    "        kstetstl_aumer=stats.ks_2samp(ls, ltotal_age_aumer[model], mode='asymp', alternative='two-sided')[0]\n",
    "        \n",
    "        kstestt_just=stats.ks_2samp(ts, ttotal_age_just[model], mode='asymp', alternative='two-sided')[0]\n",
    "        kstetstl_just=stats.ks_2samp(ls, ltotal_age_just[model], mode='asymp', alternative='two-sided')[0]\n",
    "        \n",
    "        ks_test_dict_aumer['L'].update({model: kstetstl_aumer})\n",
    "        ks_test_dict_aumer['T'].update({model: kstestt_aumer })\n",
    "        \n",
    "        ks_test_dict_just['L'].update({model: kstetstl_just})\n",
    "        ks_test_dict_just['T'].update({model: kstestt_just })\n",
    "        \n",
    "        \n",
    "    \n",
    "    df=pd.DataFrame.from_records(  combined_sim_ages_dict).T\n",
    "    df['combined']=[ asssymetric_med_std(np.concatenate(comb_dt['L'])),\\\n",
    "               asssymetric_med_std(np.concatenate(comb_dt['T']))]\n",
    "    #print (asssymetric_med_std(np.concatenate(comb_dt['L'])))\n",
    "    #df.loc['L', 'Combined']=asssymetric_med_std(np.concatenate(comb_dt['L']))\n",
    "    #df.loc['T', 'Combined']=asssymetric_med_std(np.concatenate(comb_dt['T']))\n",
    "    return df,  ks_test_dict_aumer,  ks_test_dict_just\n",
    "\n",
    "        \n",
    "    "
   ]
  },
  {
   "cell_type": "code",
   "execution_count": 110,
   "metadata": {},
   "outputs": [
    {
     "name": "stderr",
     "output_type": "stream",
     "text": [
      "100%|██████████| 6/6 [00:08<00:00,  1.39s/it]\n"
     ]
    }
   ],
   "source": [
    "simu_ages_lt, lt_ks_tests_aumer, lt_ks_tests_just = get_combined_age_lt_simulation()"
   ]
  },
  {
   "cell_type": "code",
   "execution_count": 111,
   "metadata": {},
   "outputs": [
    {
     "data": {
      "text/html": [
       "<div>\n",
       "<style scoped>\n",
       "    .dataframe tbody tr th:only-of-type {\n",
       "        vertical-align: middle;\n",
       "    }\n",
       "\n",
       "    .dataframe tbody tr th {\n",
       "        vertical-align: top;\n",
       "    }\n",
       "\n",
       "    .dataframe thead th {\n",
       "        text-align: right;\n",
       "    }\n",
       "</style>\n",
       "<table border=\"1\" class=\"dataframe\">\n",
       "  <thead>\n",
       "    <tr style=\"text-align: right;\">\n",
       "      <th></th>\n",
       "      <th>burrows1997</th>\n",
       "      <th>burrows2001</th>\n",
       "      <th>baraffe2003</th>\n",
       "      <th>saumon2008</th>\n",
       "      <th>marley2019</th>\n",
       "      <th>phillips2020</th>\n",
       "      <th>combined</th>\n",
       "    </tr>\n",
       "  </thead>\n",
       "  <tbody>\n",
       "    <tr>\n",
       "      <th>L</th>\n",
       "      <td>(2.08, [1.58, 3.68])</td>\n",
       "      <td>(2.16, [1.69, 3.76])</td>\n",
       "      <td>(2.31, [1.81, 3.73])</td>\n",
       "      <td>(2.64, [2.09, 3.65])</td>\n",
       "      <td>(2.24, [1.75, 3.76])</td>\n",
       "      <td>(1.61, [1.22, 3.45])</td>\n",
       "      <td>(2.19, [1.71, 3.75])</td>\n",
       "    </tr>\n",
       "    <tr>\n",
       "      <th>T</th>\n",
       "      <td>(3.72, [2.54, 2.94])</td>\n",
       "      <td>(3.7, [2.5, 2.95])</td>\n",
       "      <td>(3.81, [2.56, 2.92])</td>\n",
       "      <td>(3.78, [2.56, 2.9])</td>\n",
       "      <td>(3.79, [2.56, 2.91])</td>\n",
       "      <td>(3.87, [2.6, 2.89])</td>\n",
       "      <td>(3.78, [2.55, 2.92])</td>\n",
       "    </tr>\n",
       "  </tbody>\n",
       "</table>\n",
       "</div>"
      ],
      "text/plain": [
       "            burrows1997           burrows2001           baraffe2003  \\\n",
       "L  (2.08, [1.58, 3.68])  (2.16, [1.69, 3.76])  (2.31, [1.81, 3.73])   \n",
       "T  (3.72, [2.54, 2.94])    (3.7, [2.5, 2.95])  (3.81, [2.56, 2.92])   \n",
       "\n",
       "             saumon2008            marley2019          phillips2020  \\\n",
       "L  (2.64, [2.09, 3.65])  (2.24, [1.75, 3.76])  (1.61, [1.22, 3.45])   \n",
       "T   (3.78, [2.56, 2.9])  (3.79, [2.56, 2.91])   (3.87, [2.6, 2.89])   \n",
       "\n",
       "               combined  \n",
       "L  (2.19, [1.71, 3.75])  \n",
       "T  (3.78, [2.55, 2.92])  "
      ]
     },
     "execution_count": 111,
     "metadata": {},
     "output_type": "execute_result"
    }
   ],
   "source": [
    "simu_ages_lt"
   ]
  },
  {
   "cell_type": "code",
   "execution_count": 112,
   "metadata": {},
   "outputs": [],
   "source": [
    "def print_string_for_lt_only(df, k, roundx=1, use_unc=True):\n",
    "    res=''\n",
    "    for m, mshort in zip(np.append(MODEL_NAMES, 'combined'),\\\n",
    "                         np.append(MODEL_SHORT_NAMES, 'Combined')):\n",
    "        if not use_unc:\n",
    "            val=df.loc[k,m]\n",
    "            st= str(round(val, roundx))+r' $&'\n",
    "        else:\n",
    "            val, unc=(df.loc[k, m])\n",
    "            st=str(round(val, roundx))+ '$_{-'+str(round(unc[0], roundx))+'}'\\\n",
    "                + '^{+'+str(round(unc[-1], roundx))+'}'+r' $&'\n",
    "            if roundx==0:\n",
    "                st=str(int(round(val, roundx)))+ '$_{-'+str(int(round(unc[0], roundx)))+'}'\\\n",
    "                    + '^{+'+str(int(round(unc[-1], roundx)))+'}'+r' $&'\n",
    "        res+= st\n",
    "    return res + r'\\\\'"
   ]
  },
  {
   "cell_type": "code",
   "execution_count": 113,
   "metadata": {},
   "outputs": [
    {
     "data": {
      "text/plain": [
       "'242$_{-50}^{+73} $&217$_{-41}^{+54} $&174$_{-27}^{+33} $&181$_{-29}^{+37} $&196$_{-33}^{+46} $&324$_{-86}^{+152} $&208$_{-45}^{+95} $&\\\\\\\\'"
      ]
     },
     "execution_count": 113,
     "metadata": {},
     "output_type": "execute_result"
    }
   ],
   "source": [
    "print_string_for_lt_only(lt_df_h, 'L', roundx=0)"
   ]
  },
  {
   "cell_type": "code",
   "execution_count": 114,
   "metadata": {},
   "outputs": [],
   "source": [
    "lt_ks_df_aumer=pd.DataFrame(lt_ks_tests_aumer).T\n",
    "lt_ks_df_aumer['combined']=[0.0, 0.0]\n",
    "\n",
    "lt_ks_df_just=pd.DataFrame(lt_ks_tests_just).T\n",
    "lt_ks_df_just['combined']=[0.0, 0.0]"
   ]
  },
  {
   "cell_type": "code",
   "execution_count": null,
   "metadata": {},
   "outputs": [],
   "source": []
  },
  {
   "cell_type": "code",
   "execution_count": 116,
   "metadata": {},
   "outputs": [],
   "source": [
    "#lt_ks_df"
   ]
  },
  {
   "cell_type": "code",
   "execution_count": 117,
   "metadata": {},
   "outputs": [
    {
     "data": {
      "text/plain": [
       "[73, 17, 4]"
      ]
     },
     "execution_count": 117,
     "metadata": {},
     "output_type": "execute_result"
    }
   ],
   "source": [
    "y4"
   ]
  },
  {
   "cell_type": "code",
   "execution_count": 118,
   "metadata": {
    "scrolled": true
   },
   "outputs": [
    {
     "name": "stdout",
     "output_type": "stream",
     "text": [
      "L&$H$ (pc) &242$_{-50}^{+73} $&217$_{-41}^{+54} $&174$_{-27}^{+33} $&181$_{-29}^{+37} $&196$_{-33}^{+46} $&324$_{-86}^{+152} $&208$_{-45}^{+95} $&\\\\\n",
      " & $\\sigma_w$ (km/s)  &14.9$_{-1.6}^{+2.1} $&14.1$_{-1.4}^{+1.7} $&12.7$_{-1.0}^{+1.2} $&12.9$_{-1.1}^{+1.2} $&13.4$_{-1.2}^{+1.5} $&17.2$_{-2.5}^{+3.7} $&13.8$_{-1.6}^{+2.8} $&\\\\\n",
      " & Age (Gyr) (J10) &2.9$_{-0.8}^{+1.3} $&2.5$_{-0.6}^{+0.9} $&1.8$_{-0.4}^{+0.5} $&1.9$_{-0.4}^{+0.6} $&2.2$_{-0.5}^{+0.8} $&4.4$_{-1.5}^{+3.0} $&2.3$_{-0.7}^{+1.6} $&\\\\\n",
      " & Age (Gyr) (A09) &3.5$_{-0.8}^{+1.2} $&3.1$_{-0.6}^{+0.9} $&2.4$_{-0.4}^{+0.5} $&2.5$_{-0.4}^{+0.6} $&2.8$_{-0.5}^{+0.7} $&4.8$_{-1.4}^{+2.6} $&2.9$_{-0.7}^{+1.5} $&\\\\\n",
      " & Age (Gyr) (Simulation)&2.1$_{-1.6}^{+3.7} $&2.2$_{-1.7}^{+3.8} $&2.3$_{-1.8}^{+3.7} $&2.6$_{-2.1}^{+3.6} $&2.2$_{-1.8}^{+3.8} $&1.6$_{-1.2}^{+3.4} $&2.2$_{-1.7}^{+3.8} $&\\\\\n",
      " & KS (A09-Simulation) & 0.5 $&0.5 $&0.4 $&0.4 $&0.4 $&0.6 $&0.0 $&\\\\\n",
      " & KS (J10-Simulation) & 0.4 $&0.4 $&0.4 $&0.4 $&0.3 $&0.6 $&0.0 $&\\\\\n",
      "%%%%%%%%%%%%%%%%%%%%%%%%%%%%%%%%%%%%%%%%%%%\n",
      "T&$H$ (pc) &197$_{-69}^{+166} $&199$_{-70}^{+168} $&209$_{-77}^{+178} $&206$_{-74}^{+172} $&213$_{-79}^{+183} $&198$_{-69}^{+169} $&204$_{-73}^{+174} $&\\\\\n",
      " & $\\sigma_w$ (km/s)  &13.5$_{-2.6}^{+4.8} $&13.5$_{-2.6}^{+4.8} $&13.9$_{-2.8}^{+5.0} $&13.8$_{-2.8}^{+4.9} $&14.0$_{-2.9}^{+5.1} $&13.5$_{-2.6}^{+4.9} $&13.7$_{-2.7}^{+5.0} $&\\\\\n",
      " & Age (Gyr) (J10) &2.2$_{-1.0}^{+2.9} $&2.2$_{-1.0}^{+3.0} $&2.4$_{-1.2}^{+3.2} $&2.3$_{-1.1}^{+3.1} $&2.4$_{-1.2}^{+3.3} $&2.2$_{-1.0}^{+3.0} $&2.3$_{-1.1}^{+3.1} $&\\\\\n",
      " & Age (Gyr) (A09) &2.8$_{-1.1}^{+2.7} $&2.8$_{-1.1}^{+2.8} $&3.0$_{-1.2}^{+3.0} $&2.9$_{-1.2}^{+2.8} $&3.0$_{-1.2}^{+3.0} $&2.8$_{-1.1}^{+2.8} $&2.9$_{-1.1}^{+2.9} $&\\\\\n",
      " & Age (Gyr) (Simulation)&3.7$_{-2.5}^{+2.9} $&3.7$_{-2.5}^{+3.0} $&3.8$_{-2.6}^{+2.9} $&3.8$_{-2.6}^{+2.9} $&3.8$_{-2.6}^{+2.9} $&3.9$_{-2.6}^{+2.9} $&3.8$_{-2.6}^{+2.9} $&\\\\\n",
      " & KS (A09-Simulation) & 0.2 $&0.2 $&0.2 $&0.2 $&0.1 $&0.2 $&0.0 $&\\\\\n",
      " & KS (J10-Simulation) & 0.3 $&0.3 $&0.2 $&0.3 $&0.2 $&0.3 $&0.0 $&\\\\\n",
      "%%%%%%%%%%%%%%%%%%%%%%%%%%%%%%%%%%%%%%%%%%%\n"
     ]
    }
   ],
   "source": [
    "for k in ['L', 'T']:\n",
    "    print (k + r'&$H$ (pc) &' + print_string_for_lt_only(lt_df_h, k, roundx=0) )\n",
    "    print (r' & $\\sigma_w$ (km/s)  &' + print_string_for_lt_only(lt_df_v, k, roundx=1))\n",
    "    print (r' & Age (Gyr) (J10) &' +print_string_for_lt_only(lt_df_age_just, k, roundx=1))\n",
    "    print (r' & Age (Gyr) (A09) &' + print_string_for_lt_only(lt_df_age_aumer, k, roundx=1))\n",
    "    print (r' & Age (Gyr) (Simulation)&' +print_string_for_lt_only(simu_ages_lt, k, roundx=1))\n",
    "    print (r' & KS (A09-Simulation) & ' +print_string_for_lt_only(lt_ks_df_aumer, k,  roundx=1, use_unc=False))\n",
    "    print (r' & KS (J10-Simulation) & ' +print_string_for_lt_only(lt_ks_df_just, k,  roundx=1, use_unc=False))\n",
    "    print ('%%%%%%%%%%%%%%%%%%%%%%%%%%%%%%%%%%%%%%%%%%%')\n",
    "\n",
    "    \n",
    "\n"
   ]
  },
  {
   "cell_type": "code",
   "execution_count": 119,
   "metadata": {},
   "outputs": [
    {
     "data": {
      "text/plain": [
       "164"
      ]
     },
     "execution_count": 119,
     "metadata": {},
     "output_type": "execute_result"
    }
   ],
   "source": [
    "len(ucds)"
   ]
  },
  {
   "cell_type": "code",
   "execution_count": 120,
   "metadata": {},
   "outputs": [
    {
     "data": {
      "text/plain": [
       "{'wisps': {'F110': (poly1d([ 1.20489888, 18.31086895]), 0.5038943667884174),\n",
       "  'F140': (poly1d([ 1.49122797, 17.14118556]), 0.7495636144809823),\n",
       "  'F160': (poly1d([ 1.36561328, 17.37352631]), 1.4165037712823727)},\n",
       " 'hst3d': {'F110': (None, nan),\n",
       "  'F140': (poly1d([-0.10025015, 22.66882951]), 0.21335391346949473),\n",
       "  'F160': (poly1d([ 0.14320198, 21.86199263]), 0.22142403753971857)},\n",
       " 'ncutoff': 50,\n",
       " 'snr_exp': {'F110': [-0.21776493087453463,\n",
       "   0.40243890093647827,\n",
       "   1.3217319110936687,\n",
       "   19.6],\n",
       "  'F140': [-0.23887719632181675,\n",
       "   0.22807276171378127,\n",
       "   1.3281585332391845,\n",
       "   19.8],\n",
       "  'F160': [-0.23620324541815893, 0.3944339579480163, 1.533439801902046, 18.6]},\n",
       " 'mag_unc_exp': {'F110': [19.632175805849474,\n",
       "   -0.34825934107482936,\n",
       "   0.2541179554241336,\n",
       "   -2.5316445863281594],\n",
       "  'F140': [19.883179094204745,\n",
       "   -0.4297747738627907,\n",
       "   0.2597682343566299,\n",
       "   -2.1808887926774023],\n",
       "  'F160': [18.59282531952516,\n",
       "   -0.34825934107482936,\n",
       "   0.2513140745044105,\n",
       "   -2.469405380320458]},\n",
       " 'F110': (poly1d([ 1.20489888, 18.31086895]), 0.5038943667884174),\n",
       " 'F140': (poly1d([ 2.12204244, 15.72883812]), 0.8818377805795682),\n",
       " 'F160': (poly1d([ 0.938782  , 18.81585128]), 1.347672495695358),\n",
       " 'mag_limits': {'wisps': {'F110': (poly1d([ 1.25929308, 18.06154712]),\n",
       "    0.23360765612209988),\n",
       "   'F140': (poly1d([ 1.49122797, 17.14118556]), 0.29135610105223764),\n",
       "   'F160': (poly1d([ 1.36561328, 17.37352631]), 0.22849282117355352)}}}"
      ]
     },
     "execution_count": 120,
     "metadata": {},
     "output_type": "execute_result"
    }
   ],
   "source": [
    " wispsim.MAG_LIMITS"
   ]
  },
  {
   "cell_type": "code",
   "execution_count": 121,
   "metadata": {},
   "outputs": [],
   "source": [
    "VOLUMESF110=np.nansum(volumes.T, axis=2)*4.1*(u.arcmin**2).to(u.radian**2)"
   ]
  },
  {
   "cell_type": "code",
   "execution_count": 122,
   "metadata": {},
   "outputs": [],
   "source": [
    "cnorm=Normalize(wispsim.HS[0], (wispsim.HS[-1]))"
   ]
  },
  {
   "cell_type": "code",
   "execution_count": 123,
   "metadata": {},
   "outputs": [
    {
     "data": {
      "image/png": "[encoded data removed]",
      "text/plain": [
       "<Figure size 576x360 with 2 Axes>"
      ]
     },
     "metadata": {
      "needs_background": "light"
     },
     "output_type": "display_data"
    }
   ],
   "source": [
    "fig, ax=plt.subplots(figsize=(8, 5))\n",
    "for idx, h in enumerate(wispsim.HS):\n",
    "    #plt.plot(wispsim.SPGRID, np.log10(OLDERVOLUMES[idx]), color=cmap(cnorm(h/100)),\n",
    "     #   linewidth=3, linestyle='--', alpha=0.3)\n",
    "    \n",
    "    plt.plot(wispsim.SPGRID, np.log10(VOLUMES[idx]), color=cmap(cnorm(h)),\n",
    "             linewidth=3, label=r'h ={} pc'.format(h), linestyle='-')\n",
    "\n",
    "#plt.plot(wispsim.SPGRID, np.log10(vsunif), label=r'd$^3$' )\n",
    "plt.ylabel(r'Log  Veff', fontsize=18)\n",
    "plt.xlabel('SpT', fontsize=18)\n",
    "#plt.legend(fontsize=14)\n",
    "cax = fig.add_axes([.3, 0.4, .3, 0.03])\n",
    "mp=matplotlib.cm.ScalarMappable(norm=cnorm, cmap=cmap)\n",
    "cbar=plt.colorbar(mp, cax=cax, orientation='horizontal')\n",
    "cbar.ax.set_xlabel(r' H (pc)', fontsize=18)\n",
    "cax.minorticks_on()\n",
    "plt.minorticks_on()\n",
    "#plt.grid(which='both')\n",
    "\n",
    "plt.tight_layout()\n",
    "ax.set_xticks([20, 25, 30, 35, 40])\n",
    "ax.set_xticklabels(['L0', 'L5', 'T0', 'T5', 'Y0'])\n",
    "\n",
    "plt.savefig(wisps.OUTPUT_FIGURES+'/simulation_volumes.pdf', bbox_inches='tight')"
   ]
  },
  {
   "cell_type": "code",
   "execution_count": 126,
   "metadata": {},
   "outputs": [],
   "source": [
    "steps=np.arange(len(pnts))\n",
    "AREA=4.1*(u.arcmin**2).to(u.radian**2)\n"
   ]
  },
  {
   "cell_type": "code",
   "execution_count": 124,
   "metadata": {},
   "outputs": [
    {
     "data": {
      "text/plain": [
       "(533, 12, 25)"
      ]
     },
     "execution_count": 124,
     "metadata": {},
     "output_type": "execute_result"
    }
   ],
   "source": [
    "np.shape(volumes[:,  ])"
   ]
  },
  {
   "cell_type": "code",
   "execution_count": 127,
   "metadata": {},
   "outputs": [
    {
     "data": {
      "image/png": "[encoded data removed]",
      "text/plain": [
       "<Figure size 720x576 with 5 Axes>"
      ]
     },
     "metadata": {
      "needs_background": "light"
     },
     "output_type": "display_data"
    }
   ],
   "source": [
    "fig, ((ax, ax1), (ax2, ax3))=plt.subplots(figsize=(10, 8), ncols=2, nrows=2)\n",
    "for idx, h in enumerate(wispsim.HS):\n",
    "    ax.step(steps, np.log10(np.cumsum(volumes[:, idx, 0])*AREA), color=cmap(cnorm(h)), linewidth=3)\n",
    "    ax1.step(steps, np.log10(np.cumsum(volumes[:,idx, 9])*AREA), color=cmap(cnorm(h)), linewidth=3)\n",
    "    ax2.step(steps, np.log10(np.cumsum(volumes[:,idx, -6])*AREA), color=cmap(cnorm(h)), linewidth=3)\n",
    "    ax3.step(steps, np.log10(np.cumsum(volumes[:, idx, -1])*AREA), color=cmap(cnorm(h)), linewidth=3, label=r'h ={}'.format(h))\n",
    "\n",
    "\n",
    "ax.set_ylabel(r'Log Cumulative Veff (pc$^3$)', fontsize=18)\n",
    "ax2.set_ylabel(r'Log Cumulative Veff (pc$^3$)', fontsize=18)\n",
    "\n",
    "for a in [ax, ax1, ax2, ax3]:\n",
    "    a.set_xlabel('Number of Pointings', fontsize=18)\n",
    "    a.minorticks_on()\n",
    "    \n",
    "ax.set_title('{} UCDs'.format(splat.typeToNum(wispsim.SPGRID[0])), fontsize=18)\n",
    "ax1.set_title('{} UCDs'.format(splat.typeToNum(wispsim.SPGRID[9])), fontsize=18)\n",
    "ax2.set_title('{} UCDs'.format(splat.typeToNum(wispsim.SPGRID[-6])), fontsize=18)\n",
    "ax3.set_title('{} UCDs'.format(splat.typeToNum(wispsim.SPGRID[-1])), fontsize=18)\n",
    "\n",
    "#ax3.legend(fontsize=15)\n",
    "cax = fig.add_axes([.6, 0.2, .3, 0.03])\n",
    "mp=matplotlib.cm.ScalarMappable(norm=cnorm, cmap=cmap)\n",
    "cbar=plt.colorbar(mp, cax=cax, orientation='horizontal')\n",
    "cbar.ax.set_xlabel(r' H (pc)', fontsize=18)\n",
    "cax.minorticks_on()\n",
    "\n",
    "plt.tight_layout()\n",
    "\n",
    "\n",
    "plt.savefig(wisps.OUTPUT_FIGURES+'/cumulative_volumes.pdf', bbox_inches='tight')"
   ]
  },
  {
   "cell_type": "code",
   "execution_count": null,
   "metadata": {},
   "outputs": [],
   "source": []
  }
 ],
 "metadata": {
  "kernelspec": {
   "display_name": "Python 3",
   "language": "python",
   "name": "python3"
  },
  "language_info": {
   "codemirror_mode": {
    "name": "ipython",
    "version": 3
   },
   "file_extension": ".py",
   "mimetype": "text/x-python",
   "name": "python",
   "nbconvert_exporter": "python",
   "pygments_lexer": "ipython3",
   "version": "3.8.5"
  }
 },
 "nbformat": 4,
 "nbformat_minor": 4
}
