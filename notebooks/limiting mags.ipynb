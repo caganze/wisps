{
 "cells": [
  {
   "cell_type": "code",
   "execution_count": 1,
   "metadata": {},
   "outputs": [
    {
     "name": "stdout",
     "output_type": "stream",
     "text": [
      "Adding 89 sources from /Users/caganze/research/splat//resources/Spectra/Public/MAGE/ to spectral database\n",
      "Adding 145 sources from /Users/caganze/research/splat//resources/Spectra/Public/LRIS-RED/ to spectral database\n",
      "Adding 2404 sources from /Users/caganze/research/splat//resources/Spectra/Public/SPEX-PRISM/ to spectral database\n"
     ]
    }
   ],
   "source": [
    "import splat\n",
    "import wisps\n",
    "import matplotlib.pyplot as plt\n",
    "import pandas as pd\n",
    "import numpy as np\n",
    "\n",
    "import seaborn as sns\n",
    "import matplotlib as mpl\n",
    "from tqdm import tqdm\n",
    "\n",
    "\n",
    "%matplotlib inline"
   ]
  },
  {
   "cell_type": "code",
   "execution_count": 2,
   "metadata": {},
   "outputs": [
    {
     "ename": "OSError",
     "evalue": "[Errno 6] Device not configured",
     "output_type": "error",
     "traceback": [
      "\u001b[0;31m---------------------------------------------------------------------------\u001b[0m",
      "\u001b[0;31mOSError\u001b[0m                                   Traceback (most recent call last)",
      "\u001b[0;32m<ipython-input-2-cff9d87d1047>\u001b[0m in \u001b[0;36m<module>\u001b[0;34m\u001b[0m\n\u001b[1;32m      2\u001b[0m \u001b[0malld\u001b[0m\u001b[0;34m=\u001b[0m\u001b[0mwisps\u001b[0m\u001b[0;34m.\u001b[0m\u001b[0mget_big_file\u001b[0m\u001b[0;34m(\u001b[0m\u001b[0;34m)\u001b[0m\u001b[0;34m\u001b[0m\u001b[0;34m\u001b[0m\u001b[0m\n\u001b[1;32m      3\u001b[0m \u001b[0malld\u001b[0m\u001b[0;34m=\u001b[0m\u001b[0mwisps\u001b[0m\u001b[0;34m.\u001b[0m\u001b[0mAnnotator\u001b[0m\u001b[0;34m.\u001b[0m\u001b[0mreformat_table\u001b[0m\u001b[0;34m(\u001b[0m\u001b[0malld\u001b[0m\u001b[0;34m)\u001b[0m\u001b[0;34m\u001b[0m\u001b[0;34m\u001b[0m\u001b[0m\n\u001b[0;32m----> 4\u001b[0;31m \u001b[0mhst3d_phot\u001b[0m\u001b[0;34m=\u001b[0m\u001b[0mpd\u001b[0m\u001b[0;34m.\u001b[0m\u001b[0mread_csv\u001b[0m\u001b[0;34m(\u001b[0m\u001b[0mwisps\u001b[0m\u001b[0;34m.\u001b[0m\u001b[0mOUTPUT_FILES\u001b[0m\u001b[0;34m+\u001b[0m\u001b[0;34m'/hst3d_photometry_all.csv'\u001b[0m\u001b[0;34m)\u001b[0m\u001b[0;34m\u001b[0m\u001b[0;34m\u001b[0m\u001b[0m\n\u001b[0m\u001b[1;32m      5\u001b[0m \u001b[0;34m\u001b[0m\u001b[0m\n\u001b[1;32m      6\u001b[0m \u001b[0mhst3d_phot\u001b[0m\u001b[0;34m.\u001b[0m\u001b[0mgrism_id\u001b[0m\u001b[0;34m=\u001b[0m\u001b[0mhst3d_phot\u001b[0m\u001b[0;34m.\u001b[0m\u001b[0mgrism_id\u001b[0m\u001b[0;34m.\u001b[0m\u001b[0mstr\u001b[0m\u001b[0;34m.\u001b[0m\u001b[0mlower\u001b[0m\u001b[0;34m(\u001b[0m\u001b[0;34m)\u001b[0m\u001b[0;34m\u001b[0m\u001b[0;34m\u001b[0m\u001b[0m\n",
      "\u001b[0;32m/opt/anaconda3/lib/python3.8/site-packages/pandas/io/parsers.py\u001b[0m in \u001b[0;36mread_csv\u001b[0;34m(filepath_or_buffer, sep, delimiter, header, names, index_col, usecols, squeeze, prefix, mangle_dupe_cols, dtype, engine, converters, true_values, false_values, skipinitialspace, skiprows, skipfooter, nrows, na_values, keep_default_na, na_filter, verbose, skip_blank_lines, parse_dates, infer_datetime_format, keep_date_col, date_parser, dayfirst, cache_dates, iterator, chunksize, compression, thousands, decimal, lineterminator, quotechar, quoting, doublequote, escapechar, comment, encoding, dialect, error_bad_lines, warn_bad_lines, delim_whitespace, low_memory, memory_map, float_precision, storage_options)\u001b[0m\n\u001b[1;32m    608\u001b[0m     \u001b[0mkwds\u001b[0m\u001b[0;34m.\u001b[0m\u001b[0mupdate\u001b[0m\u001b[0;34m(\u001b[0m\u001b[0mkwds_defaults\u001b[0m\u001b[0;34m)\u001b[0m\u001b[0;34m\u001b[0m\u001b[0;34m\u001b[0m\u001b[0m\n\u001b[1;32m    609\u001b[0m \u001b[0;34m\u001b[0m\u001b[0m\n\u001b[0;32m--> 610\u001b[0;31m     \u001b[0;32mreturn\u001b[0m \u001b[0m_read\u001b[0m\u001b[0;34m(\u001b[0m\u001b[0mfilepath_or_buffer\u001b[0m\u001b[0;34m,\u001b[0m \u001b[0mkwds\u001b[0m\u001b[0;34m)\u001b[0m\u001b[0;34m\u001b[0m\u001b[0;34m\u001b[0m\u001b[0m\n\u001b[0m\u001b[1;32m    611\u001b[0m \u001b[0;34m\u001b[0m\u001b[0m\n\u001b[1;32m    612\u001b[0m \u001b[0;34m\u001b[0m\u001b[0m\n",
      "\u001b[0;32m/opt/anaconda3/lib/python3.8/site-packages/pandas/io/parsers.py\u001b[0m in \u001b[0;36m_read\u001b[0;34m(filepath_or_buffer, kwds)\u001b[0m\n\u001b[1;32m    466\u001b[0m \u001b[0;34m\u001b[0m\u001b[0m\n\u001b[1;32m    467\u001b[0m     \u001b[0;32mwith\u001b[0m \u001b[0mparser\u001b[0m\u001b[0;34m:\u001b[0m\u001b[0;34m\u001b[0m\u001b[0;34m\u001b[0m\u001b[0m\n\u001b[0;32m--> 468\u001b[0;31m         \u001b[0;32mreturn\u001b[0m \u001b[0mparser\u001b[0m\u001b[0;34m.\u001b[0m\u001b[0mread\u001b[0m\u001b[0;34m(\u001b[0m\u001b[0mnrows\u001b[0m\u001b[0;34m)\u001b[0m\u001b[0;34m\u001b[0m\u001b[0;34m\u001b[0m\u001b[0m\n\u001b[0m\u001b[1;32m    469\u001b[0m \u001b[0;34m\u001b[0m\u001b[0m\n\u001b[1;32m    470\u001b[0m \u001b[0;34m\u001b[0m\u001b[0m\n",
      "\u001b[0;32m/opt/anaconda3/lib/python3.8/site-packages/pandas/io/parsers.py\u001b[0m in \u001b[0;36mread\u001b[0;34m(self, nrows)\u001b[0m\n\u001b[1;32m   1055\u001b[0m     \u001b[0;32mdef\u001b[0m \u001b[0mread\u001b[0m\u001b[0;34m(\u001b[0m\u001b[0mself\u001b[0m\u001b[0;34m,\u001b[0m \u001b[0mnrows\u001b[0m\u001b[0;34m=\u001b[0m\u001b[0;32mNone\u001b[0m\u001b[0;34m)\u001b[0m\u001b[0;34m:\u001b[0m\u001b[0;34m\u001b[0m\u001b[0;34m\u001b[0m\u001b[0m\n\u001b[1;32m   1056\u001b[0m         \u001b[0mnrows\u001b[0m \u001b[0;34m=\u001b[0m \u001b[0mvalidate_integer\u001b[0m\u001b[0;34m(\u001b[0m\u001b[0;34m\"nrows\"\u001b[0m\u001b[0;34m,\u001b[0m \u001b[0mnrows\u001b[0m\u001b[0;34m)\u001b[0m\u001b[0;34m\u001b[0m\u001b[0;34m\u001b[0m\u001b[0m\n\u001b[0;32m-> 1057\u001b[0;31m         \u001b[0mindex\u001b[0m\u001b[0;34m,\u001b[0m \u001b[0mcolumns\u001b[0m\u001b[0;34m,\u001b[0m \u001b[0mcol_dict\u001b[0m \u001b[0;34m=\u001b[0m \u001b[0mself\u001b[0m\u001b[0;34m.\u001b[0m\u001b[0m_engine\u001b[0m\u001b[0;34m.\u001b[0m\u001b[0mread\u001b[0m\u001b[0;34m(\u001b[0m\u001b[0mnrows\u001b[0m\u001b[0;34m)\u001b[0m\u001b[0;34m\u001b[0m\u001b[0;34m\u001b[0m\u001b[0m\n\u001b[0m\u001b[1;32m   1058\u001b[0m \u001b[0;34m\u001b[0m\u001b[0m\n\u001b[1;32m   1059\u001b[0m         \u001b[0;32mif\u001b[0m \u001b[0mindex\u001b[0m \u001b[0;32mis\u001b[0m \u001b[0;32mNone\u001b[0m\u001b[0;34m:\u001b[0m\u001b[0;34m\u001b[0m\u001b[0;34m\u001b[0m\u001b[0m\n",
      "\u001b[0;32m/opt/anaconda3/lib/python3.8/site-packages/pandas/io/parsers.py\u001b[0m in \u001b[0;36mread\u001b[0;34m(self, nrows)\u001b[0m\n\u001b[1;32m   2059\u001b[0m     \u001b[0;32mdef\u001b[0m \u001b[0mread\u001b[0m\u001b[0;34m(\u001b[0m\u001b[0mself\u001b[0m\u001b[0;34m,\u001b[0m \u001b[0mnrows\u001b[0m\u001b[0;34m=\u001b[0m\u001b[0;32mNone\u001b[0m\u001b[0;34m)\u001b[0m\u001b[0;34m:\u001b[0m\u001b[0;34m\u001b[0m\u001b[0;34m\u001b[0m\u001b[0m\n\u001b[1;32m   2060\u001b[0m         \u001b[0;32mtry\u001b[0m\u001b[0;34m:\u001b[0m\u001b[0;34m\u001b[0m\u001b[0;34m\u001b[0m\u001b[0m\n\u001b[0;32m-> 2061\u001b[0;31m             \u001b[0mdata\u001b[0m \u001b[0;34m=\u001b[0m \u001b[0mself\u001b[0m\u001b[0;34m.\u001b[0m\u001b[0m_reader\u001b[0m\u001b[0;34m.\u001b[0m\u001b[0mread\u001b[0m\u001b[0;34m(\u001b[0m\u001b[0mnrows\u001b[0m\u001b[0;34m)\u001b[0m\u001b[0;34m\u001b[0m\u001b[0;34m\u001b[0m\u001b[0m\n\u001b[0m\u001b[1;32m   2062\u001b[0m         \u001b[0;32mexcept\u001b[0m \u001b[0mStopIteration\u001b[0m\u001b[0;34m:\u001b[0m\u001b[0;34m\u001b[0m\u001b[0;34m\u001b[0m\u001b[0m\n\u001b[1;32m   2063\u001b[0m             \u001b[0;32mif\u001b[0m \u001b[0mself\u001b[0m\u001b[0;34m.\u001b[0m\u001b[0m_first_chunk\u001b[0m\u001b[0;34m:\u001b[0m\u001b[0;34m\u001b[0m\u001b[0;34m\u001b[0m\u001b[0m\n",
      "\u001b[0;32mpandas/_libs/parsers.pyx\u001b[0m in \u001b[0;36mpandas._libs.parsers.TextReader.read\u001b[0;34m()\u001b[0m\n",
      "\u001b[0;32mpandas/_libs/parsers.pyx\u001b[0m in \u001b[0;36mpandas._libs.parsers.TextReader._read_low_memory\u001b[0;34m()\u001b[0m\n",
      "\u001b[0;32mpandas/_libs/parsers.pyx\u001b[0m in \u001b[0;36mpandas._libs.parsers.TextReader._read_rows\u001b[0;34m()\u001b[0m\n",
      "\u001b[0;32mpandas/_libs/parsers.pyx\u001b[0m in \u001b[0;36mpandas._libs.parsers.TextReader._tokenize_rows\u001b[0;34m()\u001b[0m\n",
      "\u001b[0;32mpandas/_libs/parsers.pyx\u001b[0m in \u001b[0;36mpandas._libs.parsers.raise_parser_error\u001b[0;34m()\u001b[0m\n",
      "\u001b[0;31mOSError\u001b[0m: [Errno 6] Device not configured"
     ]
    }
   ],
   "source": [
    "#get data \n",
    "alld=wisps.get_big_file()\n",
    "alld=wisps.Annotator.reformat_table(alld)\n",
    "hst3d_phot=pd.read_csv(wisps.OUTPUT_FILES+'/hst3d_photometry_all.csv')\n",
    "\n",
    "hst3d_phot.grism_id=hst3d_phot.grism_id.str.lower()\n",
    "#do a left merge\n",
    "merged=alld.merge(hst3d_phot[['grism_id', 'flux_radius']], on='grism_id', how='left')\n",
    "\n",
    "\n",
    "#determine stars based on where they fall based on UCDs\n",
    "ucds=pd.read_pickle(wisps.LIBRARIES+'/new_real_ucds.pkl')\n",
    "hucds=ucds[~ucds.grism_id.str.lower().str.startswith('par')]\n",
    "hucds['flux_radius']=hst3d_phot[hst3d_phot.grism_id.str.lower().isin(ucds.grism_id.str.lower().values)].flux_radius.values"
   ]
  },
  {
   "cell_type": "code",
   "execution_count": null,
   "metadata": {},
   "outputs": [],
   "source": [
    "#add appropriate exposure times\n"
   ]
  },
  {
   "cell_type": "code",
   "execution_count": null,
   "metadata": {},
   "outputs": [],
   "source": []
  },
  {
   "cell_type": "code",
   "execution_count": null,
   "metadata": {},
   "outputs": [],
   "source": [
    "#ensure things are saved\n",
    "assert (merged.shape[0] == alld.shape[0])"
   ]
  },
  {
   "cell_type": "code",
   "execution_count": null,
   "metadata": {},
   "outputs": [],
   "source": [
    "#hst3d_phot.dropna()\n",
    "smldff=hst3d_phot[['Faper160_mag', 'flux_radius']].dropna()\n",
    "smldff=smldff[np.logical_and.reduce([smldff.Faper160_mag <30., \n",
    "                             smldff.Faper160_mag >15., \n",
    "                             smldff.flux_radius<10.,\n",
    "                             smldff.flux_radius>2.])]"
   ]
  },
  {
   "cell_type": "code",
   "execution_count": null,
   "metadata": {},
   "outputs": [],
   "source": [
    "#c"
   ]
  },
  {
   "cell_type": "code",
   "execution_count": null,
   "metadata": {},
   "outputs": [],
   "source": [
    "fig, ax=plt.subplots()\n",
    "#plt.scatter(hst3d_phot['Faper160_mag'],  hst3d_phot['flux_radius'], s=1., alpha=0.1, c='k', marker='+')\n",
    "h=plt.hist2d(smldff['Faper160_mag'],  smldff['flux_radius'], bins=32, cmap='gist_yarg')\n",
    "plt.scatter( hucds['F160W'],  hucds['flux_radius'], c='y', marker='*')\n",
    "\n",
    "line_cut=np.poly1d(np.polyfit([ 20.0, 26.0], [10.0, 1.5], 1))\n",
    "\n",
    "plt.plot(np.arange(15, 30.0),line_cut(np.arange(15.0, 30.0)), c='#0074D9', linestyle='--')\n",
    "plt.axhline(1.5,  c='#0074D9', linestyle='--')\n",
    "\n",
    "cbar=plt.colorbar(h[3])\n",
    "cbar.ax.set_title('Number of Sources')\n",
    "plt.ylim([0., 10.])\n",
    "plt.xlim([15, 31.])\n",
    "plt.minorticks_on()\n",
    "plt.ylabel('Flux Radius')\n",
    "plt.xlabel('F160W')\n",
    "plt.tight_layout()\n",
    "plt.savefig(wisps.OUTPUT_FIGURES+ '/point_sources_cut.pdf', bbox_inches='tight')"
   ]
  },
  {
   "cell_type": "code",
   "execution_count": null,
   "metadata": {},
   "outputs": [],
   "source": []
  },
  {
   "cell_type": "code",
   "execution_count": null,
   "metadata": {},
   "outputs": [],
   "source": [
    "bools0= np.logical_and(merged.class_star !=0, merged.grism_id.str.startswith('par')) \n",
    "bools1= np.logical_and((~merged.grism_id.str.startswith('par')), (merged.flux_radius_x <  line_cut(merged.F160)))\n",
    "bools2= merged.flux_radius_x < 1.5\n",
    "merged['mstar_flag']= np.logical_or.reduce([bools0, bools1, bools2]).astype(int)"
   ]
  },
  {
   "cell_type": "code",
   "execution_count": null,
   "metadata": {},
   "outputs": [],
   "source": [
    "merged['flux_radius']=merged['flux_radius_x']\n",
    "merg=merged.drop(['flux_radius_x', 'flux_radius_y'], axis=1)"
   ]
  },
  {
   "cell_type": "code",
   "execution_count": null,
   "metadata": {},
   "outputs": [],
   "source": [
    "#merg.to_hdf(wisps.LIBRARIES+'/master_dataset.h5', key='new')"
   ]
  },
  {
   "cell_type": "code",
   "execution_count": null,
   "metadata": {},
   "outputs": [],
   "source": [
    "#merged.mstar_flag"
   ]
  },
  {
   "cell_type": "code",
   "execution_count": null,
   "metadata": {},
   "outputs": [],
   "source": [
    "fig, ax=plt.subplots()\n",
    "plt.scatter(merged['F160'],  merged['flux_radius'], s=1., alpha=0.3,\n",
    "            c=merged.mstar_flag, marker='+', cmap='tab20b')\n",
    "plt.scatter( hucds['F160W'],  hucds['flux_radius'], c='#111111', marker='*')\n",
    "\n",
    "#line_cut=np.poly1d(np.polyfit([ 15.0, 26.0], [10.0, 2.0], 1))\n",
    "\n",
    "#plt.plot(np.arange(15, 30.0),line_cut(np.arange(15.0, 30.0)), c='b')\n",
    "plt.ylim([1, 10])\n",
    "plt.xlim([15, 27])\n",
    "\n",
    "\n",
    "plt.ylabel('FlUX RADIUS')\n",
    "plt.xlabel('F160W')\n",
    "plt.minorticks_on()\n",
    "#plt.savefig(wisps.OUTPUT_FIGURES+ '/point_sources_cut.pdf', dpi=50000, rasterized=True)"
   ]
  },
  {
   "cell_type": "code",
   "execution_count": null,
   "metadata": {},
   "outputs": [],
   "source": [
    "line_cut"
   ]
  },
  {
   "cell_type": "code",
   "execution_count": null,
   "metadata": {},
   "outputs": [],
   "source": [
    "#jhkl"
   ]
  },
  {
   "cell_type": "code",
   "execution_count": null,
   "metadata": {},
   "outputs": [],
   "source": [
    "stars=(merged[merged.mstar_flag >0]).reset_index(drop=True)\n",
    "stars=stars[stars.snr1>=3.0]\n",
    "cutphot=merged[((merged.snr1>=3.0))]\n",
    "wispsph=alld[alld.grism_id.str.startswith('par')]\n",
    "hst3d=alld[~ alld.grism_id.str.startswith('par')]\n",
    "\n",
    "starswisp=stars[stars.grism_id.str.startswith('par')]\n",
    "starshst3d=stars[(~ stars.grism_id.str.startswith('par'))]\n"
   ]
  },
  {
   "cell_type": "code",
   "execution_count": null,
   "metadata": {},
   "outputs": [],
   "source": [
    "#https://rmflight.github.io/post/finding-modes-using-kernel-density-estimates/"
   ]
  },
  {
   "cell_type": "code",
   "execution_count": null,
   "metadata": {},
   "outputs": [],
   "source": [
    "mag_limits={'wisps':{'F110W':[22.5, 18.0], 'F140W':[22., 16.0], 'F160W':[22.0, 16.0] }, \n",
    "            'hst3d':{'F140W':[23., 16.0], 'F160W':[23., 16.0] }}"
   ]
  },
  {
   "cell_type": "code",
   "execution_count": null,
   "metadata": {},
   "outputs": [],
   "source": [
    "fig, ax=plt.subplots(ncols=3, figsize=(12, 4))\n",
    "##top\n",
    "h=ax[2].hist(wispsph.F160.dropna().values, label='wisps', bins='auto', color='#0074D9', density=True, histtype='step', linestyle='--')\n",
    "h=ax[0].hist(wispsph.F110.dropna().values,  label='wisps', bins='auto', color='#0074D9', density=True, histtype='step', linestyle='--')\n",
    "h=ax[1].hist(wispsph.F140.replace(np.inf, np.nan).dropna().values,   label='wisps', bins='auto', color='#0074D9', density=True, histtype='step' , linestyle='--')\n",
    "#h=cutphot.F140.replace(np.inf, np.nan).dropna().plot(kind='hist', ax=ax[0][2], bins='auto',label='F140', color='#7FDBFF', density=True)\n",
    "\n",
    "h=ax[2].hist(hst3d.F160.dropna().values,  label='3d-hst', bins='auto', color='#FF851B', density=True, histtype='step', linestyle='--')\n",
    "#h=ax[2].hist(hst3d.F110.dropna().values,  label='3d-hst', bins='auto', color='#2ECC40', density=True, histtype='step',  linestyle='--')\n",
    "h=ax[1].hist(hst3d.F140.replace(np.inf, np.nan).dropna().values,  label='3d-sht', bins='auto', color='#FF851B', density=True, histtype='step',  linestyle='--')\n",
    "\n",
    "h=ax[2].hist(starswisp.F160.dropna().values,  label='ps wisp', bins='auto', color='#0074D9', density=True, linewidth=3, histtype='step')\n",
    "h=ax[0].hist(starswisp.F110.dropna().values,   label='ps wisp', bins='auto', color='#0074D9', density=True, linewidth=3,histtype='step')\n",
    "h=ax[1].hist(starswisp.F140.replace(np.inf, np.nan).dropna().values,   label='ps wisp', bins='auto',  color='#0074D9', linewidth=3,density=True, histtype='step')\n",
    "\n",
    "h=ax[2].hist(starshst3d.F160.dropna().values,  label='ps 3d-hst', bins='auto', color='#FF851B', linewidth=3,density=True, histtype='step')\n",
    "#h=ax[2].hist(starshst3d.F110.dropna().values,   label='ps 3d-hst', bins='auto', color='#111111', density=True, histtype='step')\n",
    "h=ax[1].hist(starshst3d.F140.replace(np.inf, np.nan).dropna().values,   label='ps 3d-hst', bins='auto', linewidth=3, color='#FF851B', density=True, histtype='step')\n",
    "\n",
    "\n",
    "#bayesian blocks\n",
    "#H2 = ax[0][0].hist(cutphot.F160.replace(np.inf, np.nan).dropna(), bins=edgesf160, color='#111111',  density=True, lw =2, histtype='step')\n",
    "#H2 = ax[0][1].hist(cutphot.F110.replace(np.inf, np.nan).dropna(), bins=edges110, color='#111111',  density=True, lw =2, histtype='step')\n",
    "#H2 =ax[0][2].hist(cutphot.F140.replace(np.inf, np.nan).dropna(), bins=edges140, color='#111111',  density=True, lw =2, histtype='step')\n",
    "\n",
    "#ax[0].axvline(mag_limits['wisps']['F140W'][0], color='#B10DC9', linestyle='-')\n",
    "#ax[0].axvline(mag_limits['hst3d']['F140W'][0], color='#111111', linestyle='-')\n",
    "\n",
    "#ax[2].axvline(mag_limits['wisps']['F110W'][0], color='#B10DC9', linestyle='-')\n",
    "#ax[0][1].axvline(23,  color='#111111')\n",
    "\n",
    "\n",
    "#ax[1].axvline(mag_limits['wisps']['F160W'][0],color='#B10DC9', linestyle='-')\n",
    "#ax[1].axvline(mag_limits['hst3d']['F160W'][0], color='#111111', linestyle='-')\n",
    "\n",
    "\n",
    "\n",
    "\n",
    "\n",
    "#ax[1][0].scatter( cutphot.F160, cutphot.exposure, marker=',', alpha=0.1, s=50)\n",
    "#sns.kdeplot( cutphot.F160, cutphot.exposure, ax=ax[1][0])\n",
    "#df=cutphot[['F160', 'exposure']].replace(np.inf, np.nan).dropna()\n",
    "#ax[1][0].hist2d(df.F160.values, df.exposure.values, cmap=wisps.MYCOLORMAP)\n",
    "\n",
    "#df=cutphot[['F110', 'exposure']].replace(np.inf, np.nan).dropna()\n",
    "#ax[1][2].hist2d(df.F110.values, df.exposure.values, cmap=wisps.MYCOLORMAP)\n",
    "\n",
    "#df=cutphot[['F140', 'exposure']].replace(np.inf, np.nan).dropna()\n",
    "#ax[1][1].hist2d(df.F140.values, df.exposure.values, cmap=wisps.MYCOLORMAP)\n",
    "\n",
    "#sns.kdeplot( df.F160, df.exposure, ax=ax[1][0], shade=True)\n",
    "#ax[1][1].scatter( cutphot.F110, cutphot.exposure, marker=',', alpha=0.1, s=50)\n",
    "#ax[1][2].scatter( cutphot.F140, cutphot.exposure, marker=',', alpha=0.1, s=50)\n",
    "\n",
    "\n",
    "\n",
    "ax[2].set_xlabel('F160W', fontsize=18)\n",
    "ax[0].set_xlabel('F110W', fontsize=18)\n",
    "ax[1].set_xlabel('F140W', fontsize=18)\n",
    "\n",
    "#ax[1][0].set_ylabel('Exposure (s)', fontsize=18)\n",
    "ax[2].set_ylabel('Density', fontsize=18)\n",
    "#ax[1][2].set_ylabel('Exposure (s)', fontsize=18)\n",
    "\n",
    "for a in ax:\n",
    "    a.set_xticks(np.arange(14, 30, 2.0))\n",
    "    a.set_xlim([14, 30])\n",
    "    a.yaxis.set_ticks_position('both')\n",
    "    a.xaxis.set_ticks_position('both')\n",
    "    a.xaxis.set_minor_locator\n",
    "    #a.tick_params(which='major',direction='inout')\n",
    "    a.tick_params(which='minor', direction='in')\n",
    "    #ml = MultipleLocator(.5)\n",
    "    #a.xaxis.set_minor_locator(ml)\n",
    "    a.minorticks_on()\n",
    "\n",
    "\n",
    "#ax[0][0].set_ylim([0., 0.35])\n",
    "#ax[0][1].set_ylim([0., 0.30])\n",
    "#ax[0][2].set_ylim([0., 0.35])\n",
    "\n",
    "\n",
    "ax[0].legend(loc='upper left', fontsize=10)\n",
    "ax[1].legend(loc='upper left', fontsize=10)\n",
    "ax[2].legend(loc='upper left', fontsize=10)\n",
    "    \n",
    "plt.tight_layout()\n",
    "plt.savefig(wisps.OUTPUT_FIGURES+'/mag_limits_all.pdf', bbox_inches='tight')\n"
   ]
  },
  {
   "cell_type": "code",
   "execution_count": null,
   "metadata": {},
   "outputs": [],
   "source": [
    "ucds=pd.read_pickle('~/research/wisps/libraries/real_ucds.pkl')\n",
    "ucds['class_star']=alld[alld.grism_id.str.lower().isin(ucds.grism_id.str.lower().values)].class_star.values"
   ]
  },
  {
   "cell_type": "code",
   "execution_count": null,
   "metadata": {},
   "outputs": [],
   "source": [
    "wucds=ucds[ucds.grism_id.str.lower().str.startswith('par')]\n",
    "hucds=ucds[~ucds.grism_id.str.lower().str.startswith('par')]"
   ]
  },
  {
   "cell_type": "raw",
   "metadata": {},
   "source": []
  },
  {
   "cell_type": "code",
   "execution_count": null,
   "metadata": {},
   "outputs": [],
   "source": [
    "fig, (ax, ax1)=plt.subplots(ncols=2, sharex=True, sharey=True)\n",
    "cx=ax.scatter(starswisp.snr1.apply(np.log10), starswisp.class_star,\n",
    "            alpha=.5, marker='+',  c= starswisp.F160, cmap='coolwarm')\n",
    "        \n",
    "ax.scatter(wucds.snr1.apply(np.log10), wucds.class_star, marker='*', c='k')\n",
    "plt.colorbar(cx, ax=ax)\n",
    "#sns.scatterplot(starswisp.snr1.apply(np.log10), starswisp.snr1.apply(np.log10, s=5, color=\".15\", ax=ax)\n",
    "#sns.histplot(x=cutdf.appF140, y=cutdf.snr.apply(np.log10), bins=50, pthresh=.1, cmap=\"mako\")\n",
    "#sns.kdeplot(starswisp.snr1.apply(np.log10), cutdf.snr.apply(np.log10), levels=5, color=\"w\", linewidths=1)\n",
    "\n",
    "c=ax1.scatter(starshst3d.snr1.apply(np.log10), starshst3d.class_star, \n",
    "            alpha=.5, marker='+', c=starshst3d.F160, cmap='coolwarm')\n",
    "ax1.scatter(hucds.snr1.apply(np.log10), hucds.class_star, marker='*', c='k')\n",
    "plt.colorbar(c)\n",
    "ax.axvline(np.log10(4))\n",
    "ax1.axvline(np.log10(4))\n",
    "\n",
    "plt.ylim([0.0, 1.])\n",
    "#plt.xlabel('')\n",
    "plt.xlim([0.2, 1.5])"
   ]
  },
  {
   "cell_type": "code",
   "execution_count": null,
   "metadata": {},
   "outputs": [],
   "source": [
    "from astropy.io import fits\n",
    "from astropy.table import Table"
   ]
  },
  {
   "cell_type": "code",
   "execution_count": null,
   "metadata": {},
   "outputs": [],
   "source": [
    "#scal=fits.open('https://urldefense.com/v3/__http://homepages.spa.umn.edu/*mscarlat/WISPPhotometricCatalog_v1.2.fits__;fg!!Mih3wA!V4jOw3ITlkzp1jvdGyu3fXDBgLCi8r-HtAKdSNKE66P5ojZq6a8aHNcZOde7Y84$')"
   ]
  },
  {
   "cell_type": "code",
   "execution_count": null,
   "metadata": {},
   "outputs": [],
   "source": [
    "#def grism_id(row): return 'par'+ str(int(row.PAR))+'-'+ str(int(row.OBJ)).zfill(5)\n",
    "#tbl=Table(scal[1].data)\n",
    "#tbl_df=(tbl['RA', 'DEC', 'PAR','OBJ', 'MAG_AUTO_F140W']).to_pandas()\n",
    "#tbl_df['grism_id']=tbl_df.apply(grism_id, axis=1)\n",
    "#merged=tbl_df.merge(fphot, on='grism_id')\n",
    "#merged.columns\n",
    "#plt.plot(merged.F140, merged.MAG_AUTO_F140W)"
   ]
  },
  {
   "cell_type": "code",
   "execution_count": null,
   "metadata": {},
   "outputs": [],
   "source": [
    "#tbl.columns"
   ]
  },
  {
   "cell_type": "code",
   "execution_count": null,
   "metadata": {},
   "outputs": [],
   "source": [
    "#sean_catalog= pd.read_csv(wisps.OUTPUT_FILES+'/wisps_point_sources.csv')"
   ]
  },
  {
   "cell_type": "code",
   "execution_count": null,
   "metadata": {},
   "outputs": [],
   "source": [
    "\n",
    "#import glob\n",
    "#fileo=glob.glob(wisps.REMOTE_FOLDER+'/wisps/archive.stsci.edu/missions/hlsp/wisp/v6.2/'\\\n",
    "#+'par'+str(32)+'/*'+str('f140')+'*_cat.txt')[0]"
   ]
  },
  {
   "cell_type": "code",
   "execution_count": null,
   "metadata": {},
   "outputs": [],
   "source": [
    "#!open '/volumes/burgasserlab/Surveys///wisps/archive.stsci.edu/missions/hlsp/wisp/v6.2/par32/hlsp_wisp_hst_wfc3_par32_f140w_v6.2_cat.txt'"
   ]
  },
  {
   "cell_type": "code",
   "execution_count": null,
   "metadata": {},
   "outputs": [],
   "source": [
    "#from astropy.io import ascii\n",
    "#ascii.read(fileo).to_pandas()"
   ]
  },
  {
   "cell_type": "code",
   "execution_count": null,
   "metadata": {},
   "outputs": [],
   "source": [
    "#plt.scatter(sean_catalog.half_light_rad, sean_catalog.mag, marker='+')"
   ]
  },
  {
   "cell_type": "code",
   "execution_count": null,
   "metadata": {},
   "outputs": [],
   "source": [
    "#s=ucds.spectra[ucds.class_star ==0 ].values[0]"
   ]
  },
  {
   "cell_type": "code",
   "execution_count": null,
   "metadata": {},
   "outputs": [],
   "source": [
    "#plt.plot(s.wave, s.flux)\n",
    "#plt.xlim([1.1,1.7])\n",
    "#plt.ylim([0.0, 1.])"
   ]
  },
  {
   "cell_type": "code",
   "execution_count": null,
   "metadata": {},
   "outputs": [],
   "source": [
    "fig, ax1=plt.subplots(figsize=(8, 4), ncols=1, sharey=False)\n",
    "#h=ax.hist(phot.f_test, bins='auto', color='#001f3f', density=False, histtype='step')\n",
    "\n",
    "#ax.axvline(.4, color='#2ECC40', linestyle='--')\n",
    "#ax.set_xlabel('F(x)', fontsize=18)\n",
    "#ax.set_ylabel('N', fontsize=18)\n",
    "#ax.minorticks_on()\n",
    "\n",
    "\n",
    "h=ax1.hist(alld.snr1.apply(np.log10), bins='auto', \n",
    "           color='#001f3f', density=False, histtype='step')\n",
    "\n",
    "ax1.axvline(np.log10(3.), color='#2ECC40', linestyle='--')\n",
    "ax1.set_xlabel('Log J-SNR', fontsize=18)\n",
    "ax1.set_ylabel('N', fontsize=18)\n",
    "ax1.set_xlim([-1., 3.])\n",
    "\n",
    "ax1.minorticks_on()\n",
    "plt.tight_layout()\n",
    "\n",
    "plt.savefig(wisps.OUTPUT_FIGURES+'/f_test_snr_distr.pdf')"
   ]
  },
  {
   "cell_type": "code",
   "execution_count": null,
   "metadata": {},
   "outputs": [],
   "source": [
    "import wisps.simulations as wispsim#jk"
   ]
  },
  {
   "cell_type": "code",
   "execution_count": null,
   "metadata": {},
   "outputs": [],
   "source": [
    "plt.scatter(stars.expt_f140w.values, stars.expt_f110w.values)\n",
    "plt.scatter(stars.expt_f160w.values, stars.expt_f110w.values)\n",
    "plt.plot([1, 6000], [1, 6000], c='k')"
   ]
  },
  {
   "cell_type": "code",
   "execution_count": null,
   "metadata": {},
   "outputs": [],
   "source": [
    "def get_polynomials(survey):\n",
    "    exposure_times=[]\n",
    "    mags=[]\n",
    "    df=None\n",
    "    \n",
    "    if survey=='wisps': df= wisps.Annotator.reformat_table(starswisp)\n",
    "    if survey=='hst3d': \n",
    "        df= wisps.Annotator.reformat_table(starshst3d)\n",
    "    \n",
    "    for g in df.groupby('pointing'):\n",
    "        if len(g[1]) < 50:\n",
    "            pass\n",
    "        else:\n",
    "            exposure_times.append(np.nanmedian(g[1].expt_f140w.values))\n",
    "            mags.append([wispsim.get_max_value(g[1].F110.values), \n",
    "                         wispsim.get_max_value(g[1].F140.values), \n",
    "                         wispsim.get_max_value(g[1].F160.values)])\n",
    "            \n",
    "    mags=np.vstack(mags)\n",
    "    if survey=='hst3d': \n",
    "        p0=None\n",
    "    else:\n",
    "        bools0=np.logical_or.reduce([np.isnan(mags[:, 0]), mags[:,0] <15, mags[:,0] >35])\n",
    "        _, p0=wisps.fit_with_nsigma_clipping(np.log10(exposure_times)[~bools0], \n",
    "                                             mags[:, 0][~bools0], (mags[:, 0]/100)[~bools0], \n",
    "                                             sigma=3, n=1)\n",
    "        \n",
    "    bools1=np.logical_or.reduce([np.isnan(mags[:, 1]), mags[:,1] <15, mags[:,1] >35])\n",
    "    bools2=np.logical_or.reduce([np.isnan(mags[:, 2]), mags[:,2] <15, mags[:,2] >35])\n",
    "    _, p1=wisps.fit_with_nsigma_clipping(np.log10(exposure_times)[~bools1],\n",
    "                                         mags[:, 1][~bools1], (mags[:, 1]/10)[~bools1], \n",
    "                                         sigma=3, n=1)\n",
    "    _, p2=wisps.fit_with_nsigma_clipping(np.log10(exposure_times)[~bools2], \n",
    "                                         mags[:, 2][~bools2], (mags[:, 2]/10)[~bools2],  \n",
    "                                         sigma=3, n=1)\n",
    "    if p0 is None:\n",
    "        sct0=None\n",
    "    else:\n",
    "        sct0= np.nanmedian((mags[:,0]-p0(np.log10(exposure_times)))**2)**0.5\n",
    "    sct1= np.nanmedian((mags[:,1]-p1(np.log10(exposure_times)))**2)**0.5\n",
    "    sct2= np.nanmedian((mags[:,2]-p2(np.log10(exposure_times)))**2)**0.5\n",
    "    print (sct0, np.nanstd(mags[:,0]))\n",
    "    print (sct1, np.nanstd(mags[:,1]))\n",
    "    print (sct2, np.nanstd(mags[:,2]))\n",
    "    return {survey: {\"F110\":(p0, sct0), \n",
    "                     \"F140\": (p1, sct1),\n",
    "                       \"F160\":(p2, sct2)}}, [mags,  exposure_times]"
   ]
  },
  {
   "cell_type": "code",
   "execution_count": null,
   "metadata": {},
   "outputs": [],
   "source": [
    "wisppol, mags0= get_polynomials('wisps')\n",
    "hst3dpol, mags1= get_polynomials('hst3d')"
   ]
  },
  {
   "cell_type": "code",
   "execution_count": null,
   "metadata": {},
   "outputs": [],
   "source": [
    "np.nanmedian(mags1[0], axis=0)"
   ]
  },
  {
   "cell_type": "code",
   "execution_count": null,
   "metadata": {},
   "outputs": [],
   "source": [
    "expgrid=np.linspace(2, 4.2, 100)"
   ]
  },
  {
   "cell_type": "code",
   "execution_count": null,
   "metadata": {},
   "outputs": [],
   "source": [
    "(wisppol['wisps']['F160'][1])"
   ]
  },
  {
   "cell_type": "code",
   "execution_count": null,
   "metadata": {},
   "outputs": [],
   "source": [
    "fig, ax=plt.subplots()\n",
    "plt.plot(np.log10(mags0[1]), mags0[0][:,2], 'o')\n",
    "plt.plot(np.log10(mags1[1]), mags1[0][:,2], 'o')\n",
    "\n",
    "plt.plot(expgrid, (wisppol['wisps']['F140'][0])(expgrid))\n",
    "plt.plot(expgrid, (hst3dpol['hst3d']['F140'][0])(expgrid))\n",
    "plt.ylim([19, 25])"
   ]
  },
  {
   "cell_type": "code",
   "execution_count": null,
   "metadata": {},
   "outputs": [],
   "source": []
  },
  {
   "cell_type": "code",
   "execution_count": null,
   "metadata": {},
   "outputs": [],
   "source": [
    "#fit magnitude uncertainty as a functio\n",
    "stars= (merg[merg.mstar_flag !=0]).reset_index(drop=True)\n",
    "mask2=np.logical_or.reduce([np.isnan(stars.F140.values), np.isnan(stars.F140_er.values), \n",
    "                           np.abs(stars.F140_er.values)>=2 , stars.F140<15,  stars.F140>30 ])\n",
    "\n",
    "mask3=np.logical_or.reduce([np.isnan(stars.F160.values), np.isnan(stars.F160_er.values), \n",
    "                           np.abs(stars.F160_er.values)>2 , stars.F160<15,  stars.F160>30  ])\n",
    "\n",
    "mask1=np.logical_or.reduce([np.isnan(stars.F110.values), np.isnan(stars.F110_er.values), \n",
    "                           np.abs(stars.F110_er.values)>2 , stars.F110<15,  stars.F110>30  ])\n",
    "\n",
    "mdata1=stars.F110.values[~mask1]\n",
    "muncdata1= stars.F110_er.values[~mask1]\n",
    "tdata1=stars.expt_f140w.values[~mask1]\n",
    "#snrdata1=stars.exposure_time.values[~mask1]/np.nanmedian(stars.exposure_time.values[~mask1])\n",
    "\n",
    "mdata2=stars.F140.values[~mask2]\n",
    "muncdata2= stars.F140_er.values[~mask2]\n",
    "tdata2=stars.expt_f140w.values[~mask2]\n",
    "\n",
    "mdata3=stars.F160.values[~mask3]\n",
    "muncdata3= stars.F160_er.values[~mask3]\n",
    "tdata3=stars.expt_f140w.values[~mask3]"
   ]
  },
  {
   "cell_type": "code",
   "execution_count": null,
   "metadata": {},
   "outputs": [],
   "source": [
    "#bjkl"
   ]
  },
  {
   "cell_type": "code",
   "execution_count": null,
   "metadata": {},
   "outputs": [],
   "source": [
    "#!pip install emcee"
   ]
  },
  {
   "cell_type": "code",
   "execution_count": null,
   "metadata": {},
   "outputs": [],
   "source": []
  },
  {
   "cell_type": "code",
   "execution_count": null,
   "metadata": {},
   "outputs": [],
   "source": [
    "\n",
    "def fit_snr_exptime(params, snr, ts, mag):\n",
    "    d, e, f=params\n",
    "    snrfits= d*mag+e*np.log(ts/1000)+f\n",
    "    return np.nansum((snrfits-snr)**2)/len(snr)"
   ]
  },
  {
   "cell_type": "code",
   "execution_count": null,
   "metadata": {},
   "outputs": [],
   "source": [
    "d0, e0, f0=2.0, 2.0, 1.0\n",
    "ts=stars.exposure_time.values\n",
    "snrs=stars.snr1.apply(np.log10).values\n",
    "mags110= stars.F110.values\n",
    "mags140= stars.F140.values\n",
    "mags160= stars.F140.values\n",
    "mask= np.logical_and.reduce([snrs >=-4, snrs<5, mags110>15, mags110<30])\n"
   ]
  },
  {
   "cell_type": "code",
   "execution_count": null,
   "metadata": {},
   "outputs": [],
   "source": [
    "from scipy.optimize import minimize"
   ]
  },
  {
   "cell_type": "code",
   "execution_count": null,
   "metadata": {},
   "outputs": [],
   "source": [
    "d0, e0, f0=2.0, 2.0, 1.0\n",
    "res110 = minimize(fit_snr_exptime, [d0, e0, f0], \n",
    "               args=(snrs[mask], ts[mask], mags110[mask]),\n",
    "               method='nelder-mead')\n",
    "res140 = minimize(fit_snr_exptime, [d0, e0, f0], \n",
    "               args=(snrs[mask], ts[mask], mags140[mask]),\n",
    "               method='nelder-mead')\n",
    "res160 = minimize(fit_snr_exptime, [d0, e0, f0], \n",
    "               args=(snrs[mask], ts[mask], mags160[mask]),\n",
    "               method='nelder-mead')\n",
    "print ('-----error messages -------')\n",
    "print (res110.message)\n",
    "print (res140.message)\n",
    "print (res160.message)"
   ]
  },
  {
   "cell_type": "code",
   "execution_count": null,
   "metadata": {},
   "outputs": [],
   "source": [
    "fig, ax=plt.subplots(ncols=3,sharex=True, sharey=True )\n",
    "\n",
    "ax[0].plot(mags110[mask], snrs[mask], '.', alpha=0.5)\n",
    "ax[0].plot(mags110, res110.x[0]*mags110+res110.x[1]*np.log(ts/1000)+res110.x[2], '.',\n",
    "            c='r')\n",
    "ax[1].plot(mags140[mask], snrs[mask], '.', alpha=0.5)\n",
    "ax[1].plot(mags140, res140.x[0]*mags140+res140.x[1]*np.log(ts/1000)+res140.x[2], '.',\n",
    "            c='r')\n",
    "ax[2].plot(mags160[mask], snrs[mask], '.', alpha=0.5)\n",
    "ax[2].plot(mags160, res160.x[0]*mags160+res160.x[1]*np.log(ts/1000)+res160.x[2], '.',\n",
    "            c='r')\n",
    "ax[0].set_xlabel('MAG')\n",
    "ax[0].set_ylabel('LOG J-SNR')\n",
    "plt.tight_layout()"
   ]
  },
  {
   "cell_type": "code",
   "execution_count": null,
   "metadata": {},
   "outputs": [],
   "source": [
    "pol={}\n",
    "pol['mag_limits'] = wisppol\n",
    "pol['ncutoff']=50\n",
    "pol['snr_exp']= {'F110':res110.x, \n",
    "                 'F140': res140.x,\n",
    "                 'F160': res160.x}"
   ]
  },
  {
   "cell_type": "code",
   "execution_count": null,
   "metadata": {},
   "outputs": [],
   "source": []
  },
  {
   "cell_type": "code",
   "execution_count": null,
   "metadata": {},
   "outputs": [],
   "source": [
    "polprv=pd.read_pickle(wisps.OUTPUT_FILES+'/magnitude_cutoff.pkl')\n",
    "\n",
    "for k in pol.keys():\n",
    "    polprv[k]=pol[k]"
   ]
  },
  {
   "cell_type": "code",
   "execution_count": null,
   "metadata": {},
   "outputs": [],
   "source": [
    " polprv"
   ]
  },
  {
   "cell_type": "code",
   "execution_count": null,
   "metadata": {},
   "outputs": [],
   "source": [
    "import pickle\n",
    "output_file=wisps.OUTPUT_FILES+'/magnitude_cutoff.pkl'\n",
    "with open(output_file, 'wb') as file:\n",
    "    pickle.dump(polprv,file)"
   ]
  },
  {
   "cell_type": "code",
   "execution_count": null,
   "metadata": {},
   "outputs": [],
   "source": [
    "pnts=pd.read_pickle(wisps.OUTPUT_FILES+'/pointings_correctedf110.pkl')"
   ]
  },
  {
   "cell_type": "code",
   "execution_count": null,
   "metadata": {},
   "outputs": [],
   "source": [
    "mlts=pd.DataFrame([x.mag_limits for x in pnts])\n",
    "mlts['exp']=[x.imag_exptime for x in pnts]\n",
    "plt.scatter(mlts.exp, mlts.F140)"
   ]
  },
  {
   "cell_type": "code",
   "execution_count": null,
   "metadata": {},
   "outputs": [],
   "source": [
    "LINE_CUT={'MIN_FLUX':1.5, 'POL': line_cut}"
   ]
  },
  {
   "cell_type": "code",
   "execution_count": null,
   "metadata": {},
   "outputs": [],
   "source": []
  },
  {
   "cell_type": "code",
   "execution_count": null,
   "metadata": {},
   "outputs": [],
   "source": [
    "import pickle\n",
    "output_file=wisps.OUTPUT_FILES+'/line_point_sources_cut.pkl'\n",
    "with open(output_file, 'wb') as file:\n",
    "    pickle.dump(LINE_CUT,file)"
   ]
  },
  {
   "cell_type": "code",
   "execution_count": null,
   "metadata": {},
   "outputs": [],
   "source": [
    "line_cut"
   ]
  },
  {
   "cell_type": "code",
   "execution_count": null,
   "metadata": {},
   "outputs": [],
   "source": []
  }
 ],
 "metadata": {
  "kernelspec": {
   "display_name": "Python 3",
   "language": "python",
   "name": "python3"
  },
  "language_info": {
   "codemirror_mode": {
    "name": "ipython",
    "version": 3
   },
   "file_extension": ".py",
   "mimetype": "text/x-python",
   "name": "python",
   "nbconvert_exporter": "python",
   "pygments_lexer": "ipython3",
   "version": "3.8.5"
  }
 },
 "nbformat": 4,
 "nbformat_minor": 4
}
