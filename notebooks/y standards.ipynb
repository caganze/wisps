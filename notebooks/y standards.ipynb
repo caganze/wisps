{
 "cells": [
  {
   "cell_type": "code",
   "execution_count": 1,
   "metadata": {},
   "outputs": [
    {
     "name": "stdout",
     "output_type": "stream",
     "text": [
      "\n",
      "\n",
      "Welcome to the Spex Prism Library Analysis Toolkit (SPLAT)!\n",
      "If you make use of any features of this toolkit for your research, please remember to cite the SPLAT paper:\n",
      "\n",
      "Burgasser et al. (2017, Astro. Soc. India Conf. Series 14, p. 7); Bibcode: 2017ASInC..14....7B\n",
      "\n",
      "If you make use of any spectra or models in this toolkit, please remember to cite the original source.\n",
      "Please report any errors are feature requests to our github page, https://github.com/aburgasser/splat/\n",
      "\n",
      "\n"
     ]
    }
   ],
   "source": [
    "import splat\n",
    "import matplotlib.pyplot as plt\n",
    "%matplotlib inline"
   ]
  },
  {
   "cell_type": "code",
   "execution_count": 2,
   "metadata": {},
   "outputs": [],
   "source": [
    "import glob\n",
    "import pandas as pd\n",
    "from astropy.io import ascii\n",
    "import numpy as np"
   ]
  },
  {
   "cell_type": "code",
   "execution_count": 3,
   "metadata": {},
   "outputs": [],
   "source": [
    "import astropy.units as u"
   ]
  },
  {
   "cell_type": "code",
   "execution_count": 4,
   "metadata": {},
   "outputs": [],
   "source": [
    "#get y dwarfs\n",
    "def get_shortname(n):\n",
    "        return splat.designationToShortName(n).replace('J', 'WISE')\n",
    "\n",
    "schn='/Volumes/Lacie/schneider/*.txt'\n",
    "schntb=pd.read_csv('/Volumes/Lacie/wispsdata/data/schneider2015.txt', \n",
    "                   delimiter=' ').drop(columns='Unnamed: 14')\n",
    "schntb['shortname']=schntb.Name.apply(get_shortname)\n",
    "spectra_schn=[]\n",
    "for f in glob.glob(schn):\n",
    "    d=ascii.read(f).to_pandas()\n",
    "    shortname=(f.split('/')[-1]).split('.txt')[0]\n",
    "    s=splat.Spectrum(wave=d.col1, \n",
    "                     flux=d.col2,\n",
    "                     noise=d.col3, \n",
    "                     name=shortname)\n",
    "    #measure snr \n",
    "    mask= np.logical_and(d.col1>1.0, d.col1<2.4)\n",
    "    snr= (np.nanmedian(d.col2[mask]/d.col3[mask]))\n",
    "    spectra_schn.append(s)"
   ]
  },
  {
   "cell_type": "code",
   "execution_count": 5,
   "metadata": {},
   "outputs": [],
   "source": [
    "# spectra_schn"
   ]
  },
  {
   "cell_type": "code",
   "execution_count": 6,
   "metadata": {},
   "outputs": [],
   "source": [
    "#Y0–WISE J173835.53+273259.0 (HST/WFC3; Cushing et al. 2011), and Y1–WISE J035000.32–565830.2 (HST/WFC3; Kirkpatrick et al. 2012)."
   ]
  },
  {
   "cell_type": "code",
   "execution_count": 7,
   "metadata": {},
   "outputs": [],
   "source": [
    "#spectra_schn= spectra_schn.flatten()"
   ]
  },
  {
   "cell_type": "code",
   "execution_count": 8,
   "metadata": {},
   "outputs": [],
   "source": [
    "yo_std=[x for x in spectra_schn if x.name=='WISE1738+2732'][0]\n",
    "y1_std=[x for x in spectra_schn if x.name=='WISE0350-5658'][0]"
   ]
  },
  {
   "cell_type": "code",
   "execution_count": 9,
   "metadata": {},
   "outputs": [],
   "source": [
    "#import splat.database as spd\n",
    "#spd.addUserSpectra(folder='/Volumes/Lacie/schneider/',\\\n",
    "#                              instrument='HST-WFC3',mode='update',search_str='*.txt',\\\n",
    "#        verbose=True)"
   ]
  },
  {
   "cell_type": "code",
   "execution_count": 10,
   "metadata": {},
   "outputs": [
    {
     "data": {
      "text/latex": [
       "$[3.2268699 \\times 10^{-19},~2.7935398 \\times 10^{-19},~2.4899534 \\times 10^{-19},~\\dots,~4.195772 \\times 10^{-19},~5.2637031 \\times 10^{-19},~6.5423493 \\times 10^{-19}] \\; \\mathrm{\\frac{erg}{\\mu m\\,s\\,cm^{2}}}$"
      ],
      "text/plain": [
       "<Quantity [3.22686988e-19, 2.79353975e-19, 2.48995343e-19, 2.35625374e-19,\n",
       "           2.28834486e-19, 2.31093060e-19, 2.31249527e-19, 2.27758248e-19,\n",
       "           2.38935287e-19, 2.24881761e-19, 2.08153226e-19, 2.12924605e-19,\n",
       "           2.13598835e-19, 2.02455631e-19, 2.04393125e-19, 1.95636087e-19,\n",
       "           1.93395245e-19, 2.06249946e-19, 1.98129799e-19, 1.86271105e-19,\n",
       "           1.77768989e-19, 1.74464107e-19, 1.76317980e-19, 1.83860039e-19,\n",
       "           1.97305973e-19, 1.80392663e-19, 1.84516666e-19, 1.81227504e-19,\n",
       "           1.94789382e-19, 2.01341227e-19, 1.98012802e-19, 2.11368994e-19,\n",
       "           2.14804251e-19, 2.19954532e-19, 2.39422341e-19, 2.40532166e-19,\n",
       "           2.30943580e-19, 2.16802093e-19, 2.00870172e-19, 1.86590049e-19,\n",
       "           1.75199126e-19, 1.65345802e-19, 1.57368393e-19, 1.50466808e-19,\n",
       "           1.44547772e-19, 1.44778098e-19, 1.40515900e-19, 1.42131132e-19,\n",
       "           1.37906048e-19, 1.32242835e-19, 1.29997449e-19, 1.30049472e-19,\n",
       "           1.28915679e-19, 1.26854881e-19, 1.25384526e-19, 1.25012438e-19,\n",
       "           1.25769027e-19, 1.32655302e-19, 1.36208304e-19, 1.36142697e-19,\n",
       "           1.31998720e-19, 1.32394002e-19, 1.28468249e-19, 1.30073625e-19,\n",
       "           1.27815314e-19, 1.22974270e-19, 1.26477899e-19, 1.29417627e-19,\n",
       "           1.36342130e-19, 1.33230790e-19, 1.22975174e-19, 1.22153012e-19,\n",
       "           1.21852541e-19, 1.20853717e-19, 1.20279261e-19, 1.21011295e-19,\n",
       "           1.19516547e-19, 1.18168981e-19, 1.17726348e-19, 1.20622993e-19,\n",
       "           1.22436005e-19, 1.21533962e-19, 1.17418395e-19, 1.17524289e-19,\n",
       "           1.17102175e-19, 1.16927467e-19, 1.16110069e-19, 1.15616505e-19,\n",
       "           1.19010864e-19, 1.17487566e-19, 1.17426001e-19, 1.17975199e-19,\n",
       "           1.19153729e-19, 1.20485391e-19, 1.21150014e-19, 1.24793856e-19,\n",
       "           1.28637594e-19, 1.34932731e-19, 1.42961596e-19, 1.42710959e-19,\n",
       "           1.44214791e-19, 1.46371744e-19, 1.52879021e-19, 1.53267351e-19,\n",
       "           1.46210945e-19, 1.41116445e-19, 1.34805543e-19, 1.27451138e-19,\n",
       "           1.25961439e-19, 1.25159881e-19, 1.17100264e-19, 1.16404872e-19,\n",
       "           1.18606932e-19, 1.19554906e-19, 1.17989902e-19, 1.18092348e-19,\n",
       "           1.18261446e-19, 1.19888007e-19, 1.25028770e-19, 1.23219773e-19,\n",
       "           1.30848367e-19, 1.44430362e-19, 1.65404600e-19, 1.98106420e-19,\n",
       "           2.46358080e-19, 3.20721336e-19, 4.19577203e-19, 5.26370314e-19,\n",
       "           6.54234928e-19] erg / (cm2 micron s)>"
      ]
     },
     "execution_count": 10,
     "metadata": {},
     "output_type": "execute_result"
    }
   ],
   "source": [
    "yo_std.noise"
   ]
  },
  {
   "cell_type": "code",
   "execution_count": 11,
   "metadata": {},
   "outputs": [],
   "source": [
    "y0_spex=splat.Spectrum(wave=yo_std.wave, flux=yo_std.flux, noise=yo_std.noise, \n",
    "                       instrument='WFC3-G141',\n",
    "                       name='WISE1738+2732',\n",
    "                       jmag=19.470,jmag_error=0.08,\n",
    "                       hmag=20.24, hmag_error=0.08)\n",
    "\n",
    "y1_spex=splat.Spectrum(wave=y1_std.wave, flux=y1_std.flux, noise=y1_std.noise, \n",
    "                       instrument='WFC3-G141', \n",
    "                       name='WISE0350-5658', jmag=22.09,jmag_error=0.1,\n",
    "                       hmag=22.51, hmag_error=0.2)"
   ]
  },
  {
   "cell_type": "code",
   "execution_count": 12,
   "metadata": {},
   "outputs": [],
   "source": [
    "data=pd.DataFrame({'name': ['WISE1738+2732', 'WISE0350-5658'], 'spec':[y0_spex, y1_spex], 'spt':['Y0.0', 'Y1.0']})"
   ]
  },
  {
   "cell_type": "code",
   "execution_count": 13,
   "metadata": {},
   "outputs": [],
   "source": [
    "data.to_pickle('/Volumes/Lacie/wispsdata/db/ystandards.pkl')"
   ]
  },
  {
   "cell_type": "code",
   "execution_count": 14,
   "metadata": {},
   "outputs": [],
   "source": [
    "data.to_pickle('~/ystandards.pkl')"
   ]
  },
  {
   "cell_type": "code",
   "execution_count": 15,
   "metadata": {},
   "outputs": [
    {
     "data": {
      "text/plain": [
       "WFC3-G141 spectrum of WISE1738+2732"
      ]
     },
     "execution_count": 15,
     "metadata": {},
     "output_type": "execute_result"
    }
   ],
   "source": [
    "data[data['spt']=='Y0.0'].spec.iloc[0]"
   ]
  },
  {
   "cell_type": "code",
   "execution_count": 16,
   "metadata": {},
   "outputs": [],
   "source": [
    "#Add these lines to splat initiate standard\n",
    "#if t.upper().startswith('Y'):\n",
    "#df=pd.read_pickle('~/ystandards.pkl')\n",
    "#stds[t] =  df[df['spt']==t].spec.iloc[0]\n",
    "#stds[t].normalize()"
   ]
  },
  {
   "cell_type": "code",
   "execution_count": 17,
   "metadata": {},
   "outputs": [
    {
     "name": "stdout",
     "output_type": "stream",
     "text": [
      "Warning: Creating an empty Spectrum object\n",
      "\n",
      "Warning: spectrum object has a flux vector of zero length - maybe empty?\n",
      "\n",
      "Warning: normalize is attempting to divide by nan; ignoring\n",
      "Warning: Creating an empty Spectrum object\n",
      "\n",
      "Warning: spectrum object has a flux vector of zero length - maybe empty?\n",
      "\n",
      "Warning: normalize is attempting to divide by nan; ignoring\n"
     ]
    }
   ],
   "source": [
    "splat.initializeStandards()"
   ]
  },
  {
   "cell_type": "code",
   "execution_count": 18,
   "metadata": {},
   "outputs": [
    {
     "data": {
      "text/plain": [
       "{'M0.0': SPEX-PRISM spectrum of Gliese 270 (M0.0),\n",
       " 'M1.0': SPEX-PRISM spectrum of Gl424 (M1.0),\n",
       " 'M2.0': SPEX-PRISM spectrum of Gliese 91 (M2.0),\n",
       " 'M3.0': SPEX-PRISM spectrum of Gl752A (M3.0),\n",
       " 'M4.0': SPEX-PRISM spectrum of Gliese 213 (M4.0),\n",
       " 'M5.0': SPEX-PRISM spectrum of Wolf 47 (M5.0),\n",
       " 'M6.0': SPEX-PRISM spectrum of LHS 1375 (M6.0),\n",
       " 'M7.0': SPEX-PRISM spectrum of VB 8 (M7.0),\n",
       " 'M8.0': SPEX-PRISM spectrum of VB 10 (M8.0),\n",
       " 'M9.0': SPEX-PRISM spectrum of LHS 2924 (M9.0),\n",
       " 'L0.0': SPEX-PRISM spectrum of 2MASP J0345432+254023 (L0.0),\n",
       " 'L1.0': SPEX-PRISM spectrum of 2MASSW J2130446-084520 (L1.0),\n",
       " 'L2.0': SPEX-PRISM spectrum of Kelu-1 (L2.0),\n",
       " 'L3.0': SPEX-PRISM spectrum of 2MASSW J1506544+132106 (L3.0),\n",
       " 'L4.0': SPEX-PRISM spectrum of 2MASS J21580457-1550098 (L4.0),\n",
       " 'L5.0': SPEX-PRISM spectrum of SDSS J083506.16+195304.4 (L5.0),\n",
       " 'L6.0': SPEX-PRISM spectrum of 2MASSI J1010148-040649 (L6.0),\n",
       " 'L7.0': SPEX-PRISM spectrum of 2MASSI J0103320+193536 (L7.0),\n",
       " 'L8.0': SPEX-PRISM spectrum of 2MASSW J1632291+190441 (L8.0),\n",
       " 'L9.0': SPEX-PRISM spectrum of DENIS-P J0255-4700 (L9.0),\n",
       " 'T0.0': SPEX-PRISM spectrum of SDSS J120747.17+024424.8 (T0.0),\n",
       " 'T1.0': SPEX-PRISM spectrum of SDSSp J083717.22-000018.3 (T1.0),\n",
       " 'T2.0': SPEX-PRISM spectrum of SDSSp J125453.90-012247.4 (T2.0),\n",
       " 'T3.0': SPEX-PRISM spectrum of 2MASS J12095613-1004008 (T3.0),\n",
       " 'T4.0': SPEX-PRISM spectrum of 2MASSI J2254188+312349 (T4.0),\n",
       " 'T5.0': SPEX-PRISM spectrum of 2MASS J15031961+2525196 (T5.0),\n",
       " 'T6.0': SPEX-PRISM spectrum of SDSSp J162414.37+002915.6 (T6.0),\n",
       " 'T7.0': SPEX-PRISM spectrum of 2MASSI J0727182+171001 (T7.0),\n",
       " 'T8.0': SPEX-PRISM spectrum of 2MASSI J0415195-093506 (T8.0),\n",
       " 'T9.0': SPEX-PRISM spectrum of UGPS J072227.51-054031.2 (T9.0),\n",
       " 'Y0.0': WFC3-G141 spectrum of WISE1738+2732,\n",
       " 'Y1.0': WFC3-G141 spectrum of WISE0350-5658}"
      ]
     },
     "execution_count": 18,
     "metadata": {},
     "output_type": "execute_result"
    }
   ],
   "source": [
    "splat.STDS_DWARF_SPEX"
   ]
  },
  {
   "cell_type": "code",
   "execution_count": null,
   "metadata": {},
   "outputs": [],
   "source": []
  }
 ],
 "metadata": {
  "kernelspec": {
   "display_name": "Python 3 (ipykernel)",
   "language": "python",
   "name": "python3"
  },
  "language_info": {
   "codemirror_mode": {
    "name": "ipython",
    "version": 3
   },
   "file_extension": ".py",
   "mimetype": "text/x-python",
   "name": "python",
   "nbconvert_exporter": "python",
   "pygments_lexer": "ipython3",
   "version": "3.9.7"
  }
 },
 "nbformat": 4,
 "nbformat_minor": 4
}
