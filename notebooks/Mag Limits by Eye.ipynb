{
 "cells": [
  {
   "cell_type": "code",
   "execution_count": 1,
   "metadata": {},
   "outputs": [],
   "source": [
    "import wisps\n",
    "import wisps.simulations as wispsim\n",
    "import pandas as pd\n",
    "import matplotlib.pyplot as plt\n",
    "import numpy as np\n",
    "\n",
    "%matplotlib inline"
   ]
  },
  {
   "cell_type": "code",
   "execution_count": 2,
   "metadata": {},
   "outputs": [],
   "source": [
    "pnts=pd.read_pickle(wisps.OUTPUT_FILES+'/pointings_correctedf110.pkl')"
   ]
  },
  {
   "cell_type": "code",
   "execution_count": 3,
   "metadata": {},
   "outputs": [
    {
     "data": {
      "text/plain": [
       "array([], dtype=float64)"
      ]
     },
     "execution_count": 3,
     "metadata": {},
     "output_type": "execute_result"
    }
   ],
   "source": [
    "wisps.drop_nan((pnts[0]).mags['F110'])"
   ]
  },
  {
   "cell_type": "code",
   "execution_count": 4,
   "metadata": {},
   "outputs": [],
   "source": [
    "madf=pd.DataFrame.from_records([x.mag_limits for x in pnts])\n",
    "madf['survey']=[x.survey for x in pnts]\n",
    "madf['snr1']=[np.nanmedian(np.log10(x.snr1)) for x in pnts]\n",
    "madf['exp']=[np.nanmedian(x.exposure_times) for x in pnts]"
   ]
  },
  {
   "cell_type": "code",
   "execution_count": 5,
   "metadata": {},
   "outputs": [],
   "source": [
    "mags=pd.DataFrame.from_records([x.mags for x in pnts])\n",
    "mags['exp']=[x.exposure_times.mean() for x in pnts]\n",
    "mags['survey']=[x.survey for x in pnts]"
   ]
  },
  {
   "cell_type": "code",
   "execution_count": 6,
   "metadata": {},
   "outputs": [],
   "source": [
    "hmags=mags.F140[np.logical_and(mags.exp.between(4000, 5000), mags.survey=='wisps')].values.flatten()\n",
    "wmags=mags.F140[np.logical_and(mags.exp.between(4000, 5000), mags.survey=='hst3d')].values.flatten()"
   ]
  },
  {
   "cell_type": "code",
   "execution_count": 7,
   "metadata": {},
   "outputs": [
    {
     "name": "stdout",
     "output_type": "stream",
     "text": [
      "22.566082675926566\n",
      "21.721\n"
     ]
    },
    {
     "name": "stderr",
     "output_type": "stream",
     "text": [
      "findfont: Font family ['serif'] not found. Falling back to DejaVu Sans.\n"
     ]
    },
    {
     "data": {
      "image/png": "[encoded data removed]",
      "text/plain": [
       "<Figure size 432x288 with 1 Axes>"
      ]
     },
     "metadata": {
      "needs_background": "light"
     },
     "output_type": "display_data"
    }
   ],
   "source": [
    "h=plt.hist(wisps.drop_nan(np.hstack(wmags).astype(float)), label='WISP', bins=32, density=True, histtype='step')\n",
    "h=plt.hist(wisps.drop_nan(np.hstack(hmags).astype(float)),label='3D-HST', bins=32, density=True,histtype='step')\n",
    "\n",
    "plt.xlabel('F140W')\n",
    "plt.axvline(np.nanmedian(np.hstack(wmags).astype(float)), c='blue')\n",
    "plt.axvline(np.nanmedian(np.hstack(hmags).astype(float)), c='orange')\n",
    "\n",
    "print (np.nanmedian(np.hstack(wmags).astype(float)))\n",
    "print (np.nanmedian(np.hstack(hmags).astype(float)))\n",
    "plt.legend()\n",
    "plt.tight_layout()\n",
    "plt.minorticks_on()"
   ]
  },
  {
   "cell_type": "code",
   "execution_count": 8,
   "metadata": {},
   "outputs": [],
   "source": [
    "\n",
    "def get_max_value(values):\n",
    "    values=wisps.drop_nan(values)\n",
    "    if len(values)<1:\n",
    "        return np.nan\n",
    "    if len(values)>=1:\n",
    "        kernel = wisps.kernel_density(values)\n",
    "        height = kernel.pdf(values)\n",
    "        mode_value = values[np.argmax(height)]\n",
    "        return height, float(mode_value)\n"
   ]
  },
  {
   "cell_type": "code",
   "execution_count": 9,
   "metadata": {},
   "outputs": [],
   "source": [
    "p=np.random.choice(pnts)"
   ]
  },
  {
   "cell_type": "markdown",
   "metadata": {},
   "source": [
    "m=wisps.drop_nan(p.mags['F140'])\n",
    "ml=p.mag_limits['F140']\n",
    "for p in pnts:\n",
    "    #p=np.random.choice(pnts)\n",
    "    fig, ax=plt.subplots(ncols=3, figsize=(14,4))\n",
    "    for k, a in zip(['F110', 'F140', 'F160'], ax):\n",
    "        m=wisps.drop_nan(p.mags[k])\n",
    "        if len(m) < 50:\n",
    "            pass\n",
    "        else:\n",
    "            ml=p.mag_limits[k]\n",
    "            kde, mx= get_max_value(m)\n",
    "            a.plot(m, kde, '.')\n",
    "            h=a.hist(m, bins=32, histtype='step', density=True)\n",
    "            a.axvline(ml, c='b')\n",
    "            a.axvline(mx, c='k')\n",
    "            a.set_title(p.name.upper() + ' '+ k.upper())\n",
    "            a.minorticks_on()\n",
    "\n",
    "            \n",
    "        \n",
    "    \n",
    "   \n",
    "  \n",
    "        \n",
    "      \n"
   ]
  },
  {
   "cell_type": "code",
   "execution_count": null,
   "metadata": {},
   "outputs": [],
   "source": []
  },
  {
   "cell_type": "code",
   "execution_count": 10,
   "metadata": {},
   "outputs": [
    {
     "data": {
      "text/plain": [
       "<AxesSubplot:xlabel='exp', ylabel='F140'>"
      ]
     },
     "execution_count": 10,
     "metadata": {},
     "output_type": "execute_result"
    },
    {
     "name": "stderr",
     "output_type": "stream",
     "text": [
      "findfont: Font family ['serif'] not found. Falling back to DejaVu Sans.\n"
     ]
    },
    {
     "data": {
      "image/png": "[encoded data removed]",
      "text/plain": [
       "<Figure size 432x288 with 1 Axes>"
      ]
     },
     "metadata": {
      "needs_background": "light"
     },
     "output_type": "display_data"
    }
   ],
   "source": [
    "import seaborn as sns\n",
    "sns.scatterplot(y='F140', x='exp', hue='survey', s=500., palette=['#FF851B', '#0074D9'], \n",
    "                data=madf, marker='+')\n",
    "#plt.xlim([0.5, 1.5])"
   ]
  },
  {
   "cell_type": "code",
   "execution_count": 11,
   "metadata": {},
   "outputs": [],
   "source": [
    "bf= wisps.get_big_file()\n",
    "stars=(bf[ bf.mstar_flag !=0]).reset_index(drop=True)"
   ]
  },
  {
   "cell_type": "code",
   "execution_count": 12,
   "metadata": {},
   "outputs": [],
   "source": [
    "dfs=[]\n",
    "for idx in np.arange(80):\n",
    "    #print (500+50*(idx-1), 500+50*idx)\n",
    "    dfs.append(stars[(stars.exposure_time.apply(float).between(500+50*(idx-1), 500+50*idx)) & (~stars.F160.isna()) ])\n",
    "#df1=stars[(stars.exposure_time.apply(float).between(2000, 4000)) & (~stars.F160.isna()) ]\n",
    "#df2=stars[(stars.exposure_time.apply(float).between(4000, 6000)) & (~stars.F160.isna()) ]\n",
    "#df3=stars[(stars.exposure_time.apply(float) > 3000) & (~stars.F160.isna())]"
   ]
  },
  {
   "cell_type": "code",
   "execution_count": 13,
   "metadata": {},
   "outputs": [],
   "source": [
    "dfs=[x for x in dfs if not x.empty]"
   ]
  },
  {
   "cell_type": "code",
   "execution_count": 14,
   "metadata": {},
   "outputs": [
    {
     "data": {
      "text/plain": [
       "35"
      ]
     },
     "execution_count": 14,
     "metadata": {},
     "output_type": "execute_result"
    }
   ],
   "source": [
    "len(dfs)"
   ]
  },
  {
   "cell_type": "code",
   "execution_count": 15,
   "metadata": {},
   "outputs": [
    {
     "name": "stdout",
     "output_type": "stream",
     "text": [
      "703.0\n",
      "4012.0\n"
     ]
    },
    {
     "data": {
      "text/plain": [
       "Text(0, 0.5, 'Log (unc/ F140)')"
      ]
     },
     "execution_count": 15,
     "metadata": {},
     "output_type": "execute_result"
    },
    {
     "data": {
      "image/png": "[encoded data removed]",
      "text/plain": [
       "<Figure size 432x288 with 1 Axes>"
      ]
     },
     "metadata": {
      "needs_background": "light"
     },
     "output_type": "display_data"
    }
   ],
   "source": [
    "fig, ax=plt.subplots()\n",
    "\n",
    "\n",
    "#ax.scatter(df1.F160, df1.F160_er, s=5., alpha=0.3)\n",
    "#ax.scatter(df2.F160, df2.F160_er, s=5., alpha=0.3)\n",
    "medians=[d.exposure_time.median() for d in dfs]\n",
    "sns.set_palette('coolwarm')\n",
    "\n",
    "df0=[x for x in dfs if x.exposure_time.median() <1500][0]\n",
    "df1=[x for x in dfs if x.exposure_time.median() > 4000][0]\n",
    "\n",
    "print (df0.exposure_time.median())\n",
    "print (df1.exposure_time.median())\n",
    "\n",
    "for idx in np.argsort(medians):\n",
    "    #mask=np.logical_and(dfs[idx].F160 > 10, dfs[idx].F160 <30 )\n",
    "    #print (len(dfs[idx].F160[mask]))\n",
    "    _, p= wisps.fit_with_nsigma_clipping(dfs[idx].F160, np.log10(dfs[idx].F160_er/dfs[idx].F160),\n",
    "                                         abs(np.log10(dfs[idx].F160_er/dfs[idx].F160)/10000.), \n",
    "                                         n=1, sigma=5)\n",
    "    #print (p)\n",
    "    ax.plot(np.arange(15, 40), p(np.arange(15, 40)))\n",
    "#\n",
    "\n",
    "#pol= np.poly1d(np.polyfit(dfs[idx].F160[mask], dfs[idx].F160_er[mask], 6))\n",
    "\n",
    "#ax.scatter(df1.F160, np.log10(df1.F160_er/df1.F160),s=1, c='#FF4136', label='med {}'.format(df1.exposure_time.median()))\n",
    "#ax.scatter(df0.F160, np.log10(df0.F160_er/df0.F160),s=1, c='#0074D9', label='med {}'.format(df0.exposure_time.median()))\n",
    "\n",
    "#ax.plot(np.arange(15, 27), pol(np.arange(15, 27)))\n",
    "\n",
    "plt.xlim(15, 28)\n",
    "#plt.ylim([-0.01, 0.1])\n",
    "plt.minorticks_on()\n",
    "\n",
    "plt.xlabel('F160W')\n",
    "plt.ylabel(r'Log (unc/ F140)')"
   ]
  },
  {
   "cell_type": "code",
   "execution_count": 65,
   "metadata": {},
   "outputs": [
    {
     "name": "stdout",
     "output_type": "stream",
     "text": [
      " \n",
      "0.6086 x - 19.75\n"
     ]
    },
    {
     "data": {
      "text/plain": [
       "Text(0, 0.5, 'Error/Mag')"
      ]
     },
     "execution_count": 65,
     "metadata": {},
     "output_type": "execute_result"
    },
    {
     "data": {
      "image/png": "[encoded data removed]",
      "text/plain": [
       "<Figure size 432x288 with 1 Axes>"
      ]
     },
     "metadata": {
      "needs_background": "light"
     },
     "output_type": "display_data"
    }
   ],
   "source": [
    "stars=stars.sort_values('exposure_time')\n",
    "dfsml=stars[stars.exposure_time==603]\n",
    "\n",
    "x=dfsml.F140\n",
    "mask= np.logical_and(x > 15, x<27)\n",
    "y=dfsml.F140_er/dfsml.F140\n",
    "\n",
    "fit=np.poly1d(np.polyfit(x[mask], np.log(y[mask]), 1))\n",
    "\n",
    "print (fit)\n",
    "plt.scatter(x, y)\n",
    "plt.plot(np.arange(10, 27), np.exp(fit(np.arange(10, 27))), c='k')\n",
    "plt.ylim([-0.01, 0.02])\n",
    "plt.xlabel('F160W')\n",
    "#plt.yscale('log')\n",
    "plt.ylabel('Error/Mag')"
   ]
  },
  {
   "cell_type": "code",
   "execution_count": 66,
   "metadata": {},
   "outputs": [
    {
     "ename": "AttributeError",
     "evalue": "'DataFrame' object has no attribute 'expousre_time'",
     "output_type": "error",
     "traceback": [
      "\u001b[0;31m---------------------------------------------------------------------------\u001b[0m",
      "\u001b[0;31mAttributeError\u001b[0m                            Traceback (most recent call last)",
      "\u001b[0;32m<ipython-input-66-c91c1d5e47bf>\u001b[0m in \u001b[0;36m<module>\u001b[0;34m\u001b[0m\n\u001b[0;32m----> 1\u001b[0;31m \u001b[0mstars\u001b[0m\u001b[0;34m.\u001b[0m\u001b[0mexpousre_time\u001b[0m\u001b[0;34m\u001b[0m\u001b[0;34m\u001b[0m\u001b[0m\n\u001b[0m",
      "\u001b[0;32m/opt/anaconda3/lib/python3.8/site-packages/pandas/core/generic.py\u001b[0m in \u001b[0;36m__getattr__\u001b[0;34m(self, name)\u001b[0m\n\u001b[1;32m   5134\u001b[0m             \u001b[0;32mif\u001b[0m \u001b[0mself\u001b[0m\u001b[0;34m.\u001b[0m\u001b[0m_info_axis\u001b[0m\u001b[0;34m.\u001b[0m\u001b[0m_can_hold_identifiers_and_holds_name\u001b[0m\u001b[0;34m(\u001b[0m\u001b[0mname\u001b[0m\u001b[0;34m)\u001b[0m\u001b[0;34m:\u001b[0m\u001b[0;34m\u001b[0m\u001b[0;34m\u001b[0m\u001b[0m\n\u001b[1;32m   5135\u001b[0m                 \u001b[0;32mreturn\u001b[0m \u001b[0mself\u001b[0m\u001b[0;34m[\u001b[0m\u001b[0mname\u001b[0m\u001b[0;34m]\u001b[0m\u001b[0;34m\u001b[0m\u001b[0;34m\u001b[0m\u001b[0m\n\u001b[0;32m-> 5136\u001b[0;31m             \u001b[0;32mreturn\u001b[0m \u001b[0mobject\u001b[0m\u001b[0;34m.\u001b[0m\u001b[0m__getattribute__\u001b[0m\u001b[0;34m(\u001b[0m\u001b[0mself\u001b[0m\u001b[0;34m,\u001b[0m \u001b[0mname\u001b[0m\u001b[0;34m)\u001b[0m\u001b[0;34m\u001b[0m\u001b[0;34m\u001b[0m\u001b[0m\n\u001b[0m\u001b[1;32m   5137\u001b[0m \u001b[0;34m\u001b[0m\u001b[0m\n\u001b[1;32m   5138\u001b[0m     \u001b[0;32mdef\u001b[0m \u001b[0m__setattr__\u001b[0m\u001b[0;34m(\u001b[0m\u001b[0mself\u001b[0m\u001b[0;34m,\u001b[0m \u001b[0mname\u001b[0m\u001b[0;34m:\u001b[0m \u001b[0mstr\u001b[0m\u001b[0;34m,\u001b[0m \u001b[0mvalue\u001b[0m\u001b[0;34m)\u001b[0m \u001b[0;34m->\u001b[0m \u001b[0;32mNone\u001b[0m\u001b[0;34m:\u001b[0m\u001b[0;34m\u001b[0m\u001b[0;34m\u001b[0m\u001b[0m\n",
      "\u001b[0;31mAttributeError\u001b[0m: 'DataFrame' object has no attribute 'expousre_time'"
     ]
    }
   ],
   "source": [
    "stars.expousre_time"
   ]
  },
  {
   "cell_type": "code",
   "execution_count": 39,
   "metadata": {},
   "outputs": [
    {
     "data": {
      "text/html": [
       "<div>\n",
       "<style scoped>\n",
       "    .dataframe tbody tr th:only-of-type {\n",
       "        vertical-align: middle;\n",
       "    }\n",
       "\n",
       "    .dataframe tbody tr th {\n",
       "        vertical-align: top;\n",
       "    }\n",
       "\n",
       "    .dataframe thead th {\n",
       "        text-align: right;\n",
       "    }\n",
       "</style>\n",
       "<table border=\"1\" class=\"dataframe\">\n",
       "  <thead>\n",
       "    <tr style=\"text-align: right;\">\n",
       "      <th></th>\n",
       "      <th>snr1</th>\n",
       "      <th>snr2</th>\n",
       "      <th>snr3</th>\n",
       "      <th>snr4</th>\n",
       "      <th>H_2O-1/J-Cont</th>\n",
       "      <th>H_2O-1/J-Cont_er</th>\n",
       "      <th>H_2O-2/H_2O-1</th>\n",
       "      <th>H_2O-2/H_2O-1_er</th>\n",
       "      <th>H-cont/H_2O-1</th>\n",
       "      <th>H-cont/H_2O-1_er</th>\n",
       "      <th>...</th>\n",
       "      <th>RA</th>\n",
       "      <th>DEC</th>\n",
       "      <th>survey</th>\n",
       "      <th>x</th>\n",
       "      <th>pointing</th>\n",
       "      <th>exposure_time</th>\n",
       "      <th>observation_date</th>\n",
       "      <th>nG141</th>\n",
       "      <th>mstar_flag</th>\n",
       "      <th>flux_radius</th>\n",
       "    </tr>\n",
       "  </thead>\n",
       "  <tbody>\n",
       "    <tr>\n",
       "      <th>1134</th>\n",
       "      <td>0.668264</td>\n",
       "      <td>0.893736</td>\n",
       "      <td>1.027727</td>\n",
       "      <td>0.906970</td>\n",
       "      <td>2.245977</td>\n",
       "      <td>22.166052</td>\n",
       "      <td>0.995828</td>\n",
       "      <td>16.142620</td>\n",
       "      <td>0.771099</td>\n",
       "      <td>4.301910</td>\n",
       "      <td>...</td>\n",
       "      <td>326.037415</td>\n",
       "      <td>14.8121</td>\n",
       "      <td>WISP</td>\n",
       "      <td>0.694424</td>\n",
       "      <td>par263</td>\n",
       "      <td>603.0</td>\n",
       "      <td>2012-11-12</td>\n",
       "      <td>86</td>\n",
       "      <td>1</td>\n",
       "      <td>NaN</td>\n",
       "    </tr>\n",
       "    <tr>\n",
       "      <th>27429</th>\n",
       "      <td>18.343784</td>\n",
       "      <td>20.433226</td>\n",
       "      <td>21.395914</td>\n",
       "      <td>20.433226</td>\n",
       "      <td>1.023096</td>\n",
       "      <td>0.087109</td>\n",
       "      <td>0.917703</td>\n",
       "      <td>0.072781</td>\n",
       "      <td>0.888949</td>\n",
       "      <td>0.071988</td>\n",
       "      <td>...</td>\n",
       "      <td>326.063873</td>\n",
       "      <td>14.7994</td>\n",
       "      <td>WISP</td>\n",
       "      <td>2.110202</td>\n",
       "      <td>par263</td>\n",
       "      <td>603.0</td>\n",
       "      <td>2012-11-12</td>\n",
       "      <td>179</td>\n",
       "      <td>1</td>\n",
       "      <td>NaN</td>\n",
       "    </tr>\n",
       "    <tr>\n",
       "      <th>14318</th>\n",
       "      <td>1.018930</td>\n",
       "      <td>1.092547</td>\n",
       "      <td>1.179757</td>\n",
       "      <td>1.110129</td>\n",
       "      <td>0.960723</td>\n",
       "      <td>8.383745</td>\n",
       "      <td>0.938523</td>\n",
       "      <td>22.970895</td>\n",
       "      <td>0.701932</td>\n",
       "      <td>8.782062</td>\n",
       "      <td>...</td>\n",
       "      <td>185.218521</td>\n",
       "      <td>45.7425</td>\n",
       "      <td>WISP</td>\n",
       "      <td>0.591358</td>\n",
       "      <td>par233</td>\n",
       "      <td>603.0</td>\n",
       "      <td>2012-07-28</td>\n",
       "      <td>132</td>\n",
       "      <td>1</td>\n",
       "      <td>NaN</td>\n",
       "    </tr>\n",
       "    <tr>\n",
       "      <th>14315</th>\n",
       "      <td>1.237257</td>\n",
       "      <td>1.235376</td>\n",
       "      <td>1.215999</td>\n",
       "      <td>1.269898</td>\n",
       "      <td>0.949161</td>\n",
       "      <td>2.284239</td>\n",
       "      <td>0.769996</td>\n",
       "      <td>3.940172</td>\n",
       "      <td>0.607230</td>\n",
       "      <td>13.857155</td>\n",
       "      <td>...</td>\n",
       "      <td>185.224640</td>\n",
       "      <td>45.7453</td>\n",
       "      <td>WISP</td>\n",
       "      <td>0.661219</td>\n",
       "      <td>par233</td>\n",
       "      <td>603.0</td>\n",
       "      <td>2012-07-28</td>\n",
       "      <td>195</td>\n",
       "      <td>1</td>\n",
       "      <td>NaN</td>\n",
       "    </tr>\n",
       "    <tr>\n",
       "      <th>14314</th>\n",
       "      <td>1.249729</td>\n",
       "      <td>1.395114</td>\n",
       "      <td>1.542027</td>\n",
       "      <td>1.139831</td>\n",
       "      <td>-0.287437</td>\n",
       "      <td>3.229689</td>\n",
       "      <td>-3.490068</td>\n",
       "      <td>144.293094</td>\n",
       "      <td>-3.952187</td>\n",
       "      <td>10.812878</td>\n",
       "      <td>...</td>\n",
       "      <td>185.219849</td>\n",
       "      <td>45.7522</td>\n",
       "      <td>WISP</td>\n",
       "      <td>0.541708</td>\n",
       "      <td>par233</td>\n",
       "      <td>603.0</td>\n",
       "      <td>2012-07-28</td>\n",
       "      <td>71</td>\n",
       "      <td>1</td>\n",
       "      <td>NaN</td>\n",
       "    </tr>\n",
       "    <tr>\n",
       "      <th>...</th>\n",
       "      <td>...</td>\n",
       "      <td>...</td>\n",
       "      <td>...</td>\n",
       "      <td>...</td>\n",
       "      <td>...</td>\n",
       "      <td>...</td>\n",
       "      <td>...</td>\n",
       "      <td>...</td>\n",
       "      <td>...</td>\n",
       "      <td>...</td>\n",
       "      <td>...</td>\n",
       "      <td>...</td>\n",
       "      <td>...</td>\n",
       "      <td>...</td>\n",
       "      <td>...</td>\n",
       "      <td>...</td>\n",
       "      <td>...</td>\n",
       "      <td>...</td>\n",
       "      <td>...</td>\n",
       "      <td>...</td>\n",
       "      <td>...</td>\n",
       "    </tr>\n",
       "    <tr>\n",
       "      <th>29967</th>\n",
       "      <td>17.795860</td>\n",
       "      <td>20.781681</td>\n",
       "      <td>23.805539</td>\n",
       "      <td>20.873258</td>\n",
       "      <td>1.016693</td>\n",
       "      <td>0.087849</td>\n",
       "      <td>1.039078</td>\n",
       "      <td>0.094744</td>\n",
       "      <td>1.024533</td>\n",
       "      <td>0.086074</td>\n",
       "      <td>...</td>\n",
       "      <td>147.230774</td>\n",
       "      <td>13.8348</td>\n",
       "      <td>WISP</td>\n",
       "      <td>2.155809</td>\n",
       "      <td>par427</td>\n",
       "      <td>14635.0</td>\n",
       "      <td>2016-05-06</td>\n",
       "      <td>170</td>\n",
       "      <td>1</td>\n",
       "      <td>NaN</td>\n",
       "    </tr>\n",
       "    <tr>\n",
       "      <th>29968</th>\n",
       "      <td>3.693593</td>\n",
       "      <td>3.306184</td>\n",
       "      <td>3.019426</td>\n",
       "      <td>3.458640</td>\n",
       "      <td>1.608822</td>\n",
       "      <td>0.792238</td>\n",
       "      <td>0.608101</td>\n",
       "      <td>0.293105</td>\n",
       "      <td>0.390531</td>\n",
       "      <td>0.237945</td>\n",
       "      <td>...</td>\n",
       "      <td>147.242599</td>\n",
       "      <td>13.8395</td>\n",
       "      <td>WISP</td>\n",
       "      <td>0.738584</td>\n",
       "      <td>par427</td>\n",
       "      <td>14635.0</td>\n",
       "      <td>2016-05-06</td>\n",
       "      <td>152</td>\n",
       "      <td>1</td>\n",
       "      <td>NaN</td>\n",
       "    </tr>\n",
       "    <tr>\n",
       "      <th>29990</th>\n",
       "      <td>14.291403</td>\n",
       "      <td>14.504405</td>\n",
       "      <td>14.533887</td>\n",
       "      <td>15.054266</td>\n",
       "      <td>1.077990</td>\n",
       "      <td>0.105145</td>\n",
       "      <td>0.832612</td>\n",
       "      <td>0.084384</td>\n",
       "      <td>0.703450</td>\n",
       "      <td>0.067357</td>\n",
       "      <td>...</td>\n",
       "      <td>147.212509</td>\n",
       "      <td>13.8337</td>\n",
       "      <td>WISP</td>\n",
       "      <td>1.722116</td>\n",
       "      <td>par427</td>\n",
       "      <td>14635.0</td>\n",
       "      <td>2016-05-06</td>\n",
       "      <td>182</td>\n",
       "      <td>1</td>\n",
       "      <td>NaN</td>\n",
       "    </tr>\n",
       "    <tr>\n",
       "      <th>29996</th>\n",
       "      <td>1.607669</td>\n",
       "      <td>3.151929</td>\n",
       "      <td>4.447580</td>\n",
       "      <td>2.541008</td>\n",
       "      <td>0.959877</td>\n",
       "      <td>3.609330</td>\n",
       "      <td>2.242967</td>\n",
       "      <td>40.255504</td>\n",
       "      <td>1.856206</td>\n",
       "      <td>8.976700</td>\n",
       "      <td>...</td>\n",
       "      <td>147.238586</td>\n",
       "      <td>13.8209</td>\n",
       "      <td>WISP</td>\n",
       "      <td>1.125321</td>\n",
       "      <td>par427</td>\n",
       "      <td>14635.0</td>\n",
       "      <td>2016-05-06</td>\n",
       "      <td>148</td>\n",
       "      <td>1</td>\n",
       "      <td>NaN</td>\n",
       "    </tr>\n",
       "    <tr>\n",
       "      <th>5327</th>\n",
       "      <td>0.838236</td>\n",
       "      <td>1.853510</td>\n",
       "      <td>2.474993</td>\n",
       "      <td>1.503738</td>\n",
       "      <td>0.699353</td>\n",
       "      <td>1.983352</td>\n",
       "      <td>1.109712</td>\n",
       "      <td>5.452581</td>\n",
       "      <td>1.365590</td>\n",
       "      <td>5.128117</td>\n",
       "      <td>...</td>\n",
       "      <td>147.212814</td>\n",
       "      <td>13.8400</td>\n",
       "      <td>WISP</td>\n",
       "      <td>0.908837</td>\n",
       "      <td>par427</td>\n",
       "      <td>14635.0</td>\n",
       "      <td>2016-05-06</td>\n",
       "      <td>54</td>\n",
       "      <td>1</td>\n",
       "      <td>NaN</td>\n",
       "    </tr>\n",
       "  </tbody>\n",
       "</table>\n",
       "<p>46561 rows × 60 columns</p>\n",
       "</div>"
      ],
      "text/plain": [
       "            snr1       snr2       snr3       snr4  H_2O-1/J-Cont  \\\n",
       "1134    0.668264   0.893736   1.027727   0.906970       2.245977   \n",
       "27429  18.343784  20.433226  21.395914  20.433226       1.023096   \n",
       "14318   1.018930   1.092547   1.179757   1.110129       0.960723   \n",
       "14315   1.237257   1.235376   1.215999   1.269898       0.949161   \n",
       "14314   1.249729   1.395114   1.542027   1.139831      -0.287437   \n",
       "...          ...        ...        ...        ...            ...   \n",
       "29967  17.795860  20.781681  23.805539  20.873258       1.016693   \n",
       "29968   3.693593   3.306184   3.019426   3.458640       1.608822   \n",
       "29990  14.291403  14.504405  14.533887  15.054266       1.077990   \n",
       "29996   1.607669   3.151929   4.447580   2.541008       0.959877   \n",
       "5327    0.838236   1.853510   2.474993   1.503738       0.699353   \n",
       "\n",
       "       H_2O-1/J-Cont_er  H_2O-2/H_2O-1  H_2O-2/H_2O-1_er  H-cont/H_2O-1  \\\n",
       "1134          22.166052       0.995828         16.142620       0.771099   \n",
       "27429          0.087109       0.917703          0.072781       0.888949   \n",
       "14318          8.383745       0.938523         22.970895       0.701932   \n",
       "14315          2.284239       0.769996          3.940172       0.607230   \n",
       "14314          3.229689      -3.490068        144.293094      -3.952187   \n",
       "...                 ...            ...               ...            ...   \n",
       "29967          0.087849       1.039078          0.094744       1.024533   \n",
       "29968          0.792238       0.608101          0.293105       0.390531   \n",
       "29990          0.105145       0.832612          0.084384       0.703450   \n",
       "29996          3.609330       2.242967         40.255504       1.856206   \n",
       "5327           1.983352       1.109712          5.452581       1.365590   \n",
       "\n",
       "       H-cont/H_2O-1_er  ...          RA      DEC  survey         x  pointing  \\\n",
       "1134           4.301910  ...  326.037415  14.8121    WISP  0.694424    par263   \n",
       "27429          0.071988  ...  326.063873  14.7994    WISP  2.110202    par263   \n",
       "14318          8.782062  ...  185.218521  45.7425    WISP  0.591358    par233   \n",
       "14315         13.857155  ...  185.224640  45.7453    WISP  0.661219    par233   \n",
       "14314         10.812878  ...  185.219849  45.7522    WISP  0.541708    par233   \n",
       "...                 ...  ...         ...      ...     ...       ...       ...   \n",
       "29967          0.086074  ...  147.230774  13.8348    WISP  2.155809    par427   \n",
       "29968          0.237945  ...  147.242599  13.8395    WISP  0.738584    par427   \n",
       "29990          0.067357  ...  147.212509  13.8337    WISP  1.722116    par427   \n",
       "29996          8.976700  ...  147.238586  13.8209    WISP  1.125321    par427   \n",
       "5327           5.128117  ...  147.212814  13.8400    WISP  0.908837    par427   \n",
       "\n",
       "       exposure_time  observation_date  nG141  mstar_flag  flux_radius  \n",
       "1134           603.0        2012-11-12     86           1          NaN  \n",
       "27429          603.0        2012-11-12    179           1          NaN  \n",
       "14318          603.0        2012-07-28    132           1          NaN  \n",
       "14315          603.0        2012-07-28    195           1          NaN  \n",
       "14314          603.0        2012-07-28     71           1          NaN  \n",
       "...              ...               ...    ...         ...          ...  \n",
       "29967        14635.0        2016-05-06    170           1          NaN  \n",
       "29968        14635.0        2016-05-06    152           1          NaN  \n",
       "29990        14635.0        2016-05-06    182           1          NaN  \n",
       "29996        14635.0        2016-05-06    148           1          NaN  \n",
       "5327         14635.0        2016-05-06     54           1          NaN  \n",
       "\n",
       "[46561 rows x 60 columns]"
      ]
     },
     "execution_count": 39,
     "metadata": {},
     "output_type": "execute_result"
    }
   ],
   "source": [
    "stars"
   ]
  },
  {
   "cell_type": "code",
   "execution_count": 37,
   "metadata": {},
   "outputs": [
    {
     "data": {
      "text/plain": [
       "<matplotlib.collections.PathCollection at 0x7fc1774211c0>"
      ]
     },
     "execution_count": 37,
     "metadata": {},
     "output_type": "execute_result"
    },
    {
     "data": {
      "image/png": "[encoded data removed]",
      "text/plain": [
       "<Figure size 432x288 with 1 Axes>"
      ]
     },
     "metadata": {
      "needs_background": "light"
     },
     "output_type": "display_data"
    }
   ],
   "source": [
    "plt.scatter(x[mask], np.log10(y[mask]))"
   ]
  },
  {
   "cell_type": "code",
   "execution_count": 31,
   "metadata": {},
   "outputs": [
    {
     "data": {
      "image/png": "[encoded data removed]",
      "text/plain": [
       "<Figure size 432x288 with 2 Axes>"
      ]
     },
     "metadata": {
      "needs_background": "light"
     },
     "output_type": "display_data"
    }
   ],
   "source": [
    "#c=plt.scatter(x[mask],y[mask], \n",
    "#            s=2, c=stars.exposure_time[mask], alpha=0.5, cmap='viridis')\n",
    "plt.plot(np.arange(1, 30), np.exp(fit(np.arange(1, 30))) )\n",
    "plt.colorbar(c)\n",
    "#plt.xlim([15, 28.])\n",
    "#plt.ylim([-0.01, 0.06])\n",
    "plt.xlabel('F160W')\n",
    "plt.ylabel('Uncertainty')\n",
    "plt.minorticks_on()"
   ]
  },
  {
   "cell_type": "code",
   "execution_count": null,
   "metadata": {},
   "outputs": [],
   "source": []
  },
  {
   "cell_type": "code",
   "execution_count": null,
   "metadata": {},
   "outputs": [],
   "source": []
  }
 ],
 "metadata": {
  "kernelspec": {
   "display_name": "Python 3",
   "language": "python",
   "name": "python3"
  },
  "language_info": {
   "codemirror_mode": {
    "name": "ipython",
    "version": 3
   },
   "file_extension": ".py",
   "mimetype": "text/x-python",
   "name": "python",
   "nbconvert_exporter": "python",
   "pygments_lexer": "ipython3",
   "version": "3.8.5"
  }
 },
 "nbformat": 4,
 "nbformat_minor": 4
}
