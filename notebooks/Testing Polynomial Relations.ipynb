{
 "cells": [
  {
   "cell_type": "code",
   "execution_count": 1,
   "metadata": {},
   "outputs": [
    {
     "name": "stdout",
     "output_type": "stream",
     "text": [
      "/users/caganze/research/splat\n",
      "\n",
      "\n",
      "Welcome to the Spex Prism Library Analysis Toolkit (SPLAT)!\n",
      "If you make use of any features of this toolkit for your research, please remember to cite the SPLAT paper:\n",
      "\n",
      "Burgasser et al. (2017, Astro. Soc. India Conf. Series 14, p. 7); Bibcode: 2017ASInC..14....7B\n",
      "\n",
      "If you make use of any spectra or models in this toolkit, please remember to cite the original source.\n",
      "Please report any errors are feature requests to our github page, https://github.com/aburgasser/splat/\n",
      "\n",
      "\n"
     ]
    }
   ],
   "source": [
    "import splat\n",
    "import splat.empirical as spe\n",
    "import matplotlib.pyplot as plt\n",
    "import numpy as np\n",
    "from scipy.interpolate import interp1d\n",
    "import popsims\n",
    "%matplotlib inline"
   ]
  },
  {
   "cell_type": "code",
   "execution_count": 2,
   "metadata": {},
   "outputs": [],
   "source": [
    "x, y=spe.typeToTeff(20, ref='mamajek')"
   ]
  },
  {
   "cell_type": "code",
   "execution_count": 3,
   "metadata": {},
   "outputs": [],
   "source": [
    "from popsims.relations import LITERATURE_POLYNOMIALS"
   ]
  },
  {
   "cell_type": "code",
   "execution_count": null,
   "metadata": {},
   "outputs": [],
   "source": [
    "for k in LITERATURE_POLYNOMIALS['kirkpatrick2021']:\n",
    "    pol= LITERATURE_POLYNOMIALS['kirkpatrick2021'][k]\n",
    "    \n",
    "    xs= np.random.uniform(10, 45, 1000)\n",
    "    ys=popsims.tools.apply_polynomial_relation(pol, xs, xerr=0.0, nsample=1000)\n",
    "    \n",
    "    fig, ax=plt.subplots()\n",
    "    ax.scatter(xs, ys[0], s=1, marker='+')\n",
    "    ax.set(title=k)\n",
    "    "
   ]
  },
  {
   "cell_type": "code",
   "execution_count": null,
   "metadata": {},
   "outputs": [],
   "source": [
    "\n",
    "xs= np.random.uniform(10, 42, 100)\n",
    "xerr= np.ones_like(xs)*1e-4\n",
    "y, unc=popsims.tools.apply_polynomial_relation(LITERATURE_POLYNOMIALS['kirkpatrick2021']['x=spt,y=teff'], xs, xerr=xerr,  nsample=10000)\n",
    "\n",
    "\n",
    "ys=np.random.uniform(100, 4000, 1000)\n",
    "xgrid=np.arange(20, 43)\n",
    "x=popsims.tools.inverse_polynomial_relation(LITERATURE_POLYNOMIALS['kirkpatrick2021']['x=spt,y=teff'], ys, xgrid, nsample=10000)\n",
    "\n",
    "\n",
    "fig, ax=plt.subplots(figsize=(12, 8))\n",
    "ax.scatter(x[0], ys, label='inverse relation')\n",
    "ax.scatter(xs, y,   c='k',  label='relation')"
   ]
  },
  {
   "cell_type": "code",
   "execution_count": null,
   "metadata": {},
   "outputs": [],
   "source": [
    "d=popsims.make_systems(nsample=int(1e6))"
   ]
  },
  {
   "cell_type": "code",
   "execution_count": null,
   "metadata": {},
   "outputs": [],
   "source": [
    "fig, ax=plt.subplots(figsize=(12, 8))\n",
    "for a in np.arange(10, 43):\n",
    "    ab=popsims.relations.spt_to_teff_kirkpatrick(a)\n",
    "    ax.errorbar(a, ab[0], yerr=ab[-1], marker='o', c='k')\n",
    "    \n",
    "    ab_m=spe.typeToTeff(float(a), ref='mamajek')\n",
    "    \n",
    "    ax.errorbar(a, ab_m[0].value, yerr=ab_m[-1].value, marker='o', color='blue', \\\n",
    "                mfc='white', zorder=1)\n",
    "    \n",
    "    ax.set(xlabel='Spectral Type', ylabel='Teff')\n",
    "    ax.minorticks_on()\n",
    "\n",
    "#teffs=np.random.uniform(100, 4000, 10_0000)\n",
    "ax.scatter( d.prim_spt, d.temperature, s=0.1)"
   ]
  },
  {
   "cell_type": "code",
   "execution_count": null,
   "metadata": {},
   "outputs": [],
   "source": []
  }
 ],
 "metadata": {
  "kernelspec": {
   "display_name": "Python 3 (ipykernel)",
   "language": "python",
   "name": "python3"
  },
  "language_info": {
   "codemirror_mode": {
    "name": "ipython",
    "version": 3
   },
   "file_extension": ".py",
   "mimetype": "text/x-python",
   "name": "python",
   "nbconvert_exporter": "python",
   "pygments_lexer": "ipython3",
   "version": "3.9.7"
  }
 },
 "nbformat": 4,
 "nbformat_minor": 4
}
