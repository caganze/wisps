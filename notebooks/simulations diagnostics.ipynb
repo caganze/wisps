{
 "cells": [
  {
   "cell_type": "code",
   "execution_count": 1,
   "metadata": {},
   "outputs": [
    {
     "name": "stdout",
     "output_type": "stream",
     "text": [
      "Adding 145 sources from /Users/caganze/research/splat//resources/Spectra/Public/LRIS-RED/ to spectral database\n",
      "Adding 2404 sources from /Users/caganze/research/splat//resources/Spectra/Public/SPEX-PRISM/ to spectral database\n",
      "Adding 89 sources from /Users/caganze/research/splat//resources/Spectra/Public/MAGE/ to spectral database\n"
     ]
    }
   ],
   "source": [
    "import numpy as np\n",
    "import wisps\n",
    "import wisps.simulations as wispsim\n",
    "import matplotlib.pyplot as plt\n",
    "from astropy.coordinates import SkyCoord\n",
    "import astropy.units as u\n",
    "from tqdm import tqdm \n",
    "import pandas as pd\n",
    "import matplotlib as mpl\n",
    "import wisps.simulations.effective_numbers as eff\n",
    "import astropy.coordinates as astrocoord\n",
    "from wisps import drop_nan\n",
    "import seaborn as sns\n",
    "%matplotlib inline\n",
    "import splat"
   ]
  },
  {
   "cell_type": "markdown",
   "metadata": {},
   "source": [
    "###Step by step checking\n",
    "\n",
    "1. Distances before and after cuts "
   ]
  },
  {
   "cell_type": "code",
   "execution_count": null,
   "metadata": {},
   "outputs": [],
   "source": [
    "d150=pd.read_pickle(wisps.OUTPUT_FILES+'/distance_samples{}'.format(150))\n",
    "d500=pd.read_pickle(wisps.OUTPUT_FILES+'/distance_samples{}'.format(500))"
   ]
  },
  {
   "cell_type": "code",
   "execution_count": null,
   "metadata": {},
   "outputs": [],
   "source": [
    "wispsim"
   ]
  },
  {
   "cell_type": "code",
   "execution_count": null,
   "metadata": {},
   "outputs": [],
   "source": [
    "cands=pd.read_pickle(wisps.LIBRARIES+'/real_ucds.pkl')\n"
   ]
  },
  {
   "cell_type": "code",
   "execution_count": null,
   "metadata": {},
   "outputs": [],
   "source": [
    "#(d500[17][-1]).min()"
   ]
  },
  {
   "cell_type": "code",
   "execution_count": null,
   "metadata": {},
   "outputs": [],
   "source": [
    "fig, ax=plt.subplots()\n",
    "h=plt.hist(d150[17][-1], bins=32, histtype='step', density=True)\n",
    "h=plt.hist(d500[17][-1], bins=32, histtype='step', density=True)\n",
    "#plt.hist(cands.distance.apply(np.log10), density=True,  histtype='step' )\n",
    "#sns.kdeplot(cands.distance.apply(np.log10), ax=ax, label='observed', c='k')\n"
   ]
  },
  {
   "cell_type": "code",
   "execution_count": null,
   "metadata": {},
   "outputs": [],
   "source": []
  },
  {
   "cell_type": "code",
   "execution_count": null,
   "metadata": {},
   "outputs": [],
   "source": []
  },
  {
   "cell_type": "code",
   "execution_count": null,
   "metadata": {},
   "outputs": [],
   "source": [
    "cmap_teff=sns.diverging_palette(100, 300, s=80, l=55, n=19, as_cmap=True)"
   ]
  },
  {
   "cell_type": "code",
   "execution_count": null,
   "metadata": {},
   "outputs": [],
   "source": [
    "#older_pnts=pd.read_pickle(wisps.OUTPUT_FILES+'/pointings_corrected.pkl')\n",
    "#older_pnts=pd.read_pickle(wisps.OUTPUT_FILES+'/pointings_unccorrected.pkl')\n",
    "\n",
    "pnts=pd.read_pickle(wisps.OUTPUT_FILES+'/pointings_correctedf110.pkl')\n",
    "#pnts140=pd.read_pickle(wisps.OUTPUT_FILES+'/pointings_correctedf140.pkl')\n",
    "#pnts160=pd.read_pickle(wisps.OUTPUT_FILES+'/pointings_correctedf160.pkl')"
   ]
  },
  {
   "cell_type": "code",
   "execution_count": null,
   "metadata": {},
   "outputs": [],
   "source": [
    "def bin_volumes(pnts):\n",
    "    volumes=[]\n",
    "    dlimits=[]\n",
    "    for pnt in pnts:\n",
    "        vs=[]\n",
    "        dls=[]\n",
    "        for g in wispsim.SPGRID:\n",
    "            vsx=[]\n",
    "            for h in wispsim.HS:\n",
    "                vsx.append((pnt.volumes[h])[g])\n",
    "            dls.append(pnt.dist_limits[g])\n",
    "            vs.append(vsx)\n",
    "        volumes.append(vs)\n",
    "        dlimits.append(dls)\n",
    "    volumes=np.array(volumes)\n",
    "    dlimits=np.array(dlimits)\n",
    "    \n",
    "    return  volumes, dlimits"
   ]
  },
  {
   "cell_type": "code",
   "execution_count": null,
   "metadata": {},
   "outputs": [],
   "source": [
    "volumes110, _ =bin_volumes(pnts)\n",
    "#oldervolumes, _=bin_volumes(older_pnts)\n",
    "#volumes140, _=bin_volumes(pnts140)\n",
    "#volumes160, _=bin_volumes(pnts160)"
   ]
  },
  {
   "cell_type": "code",
   "execution_count": null,
   "metadata": {},
   "outputs": [],
   "source": [
    "#fig = plt.figure(figsize=(8,5))\n",
    "#ax = fig.add_subplot(111, projection=\"mollweide\")\n",
    "#c=ax.scatter(galc.l.wrap_at(180*u.degree).radian,galc.b.wrap_at(90*u.degree).radian, marker='+', cmap='viridis')\n",
    "#ax.set_xlabel('l (deg)', fontsize=18)\n",
    "#ax.set_ylabel('b (deg)', fontsize=18)\n",
    "#plt.grid()\n",
    "#plt.savefig(wisps.OUTPUT_FIGURES+'/fields_skymap.pdf', bbox_inches='tight')"
   ]
  },
  {
   "cell_type": "code",
   "execution_count": null,
   "metadata": {},
   "outputs": [],
   "source": [
    "from matplotlib.colors import Normalize\n"
   ]
  },
  {
   "cell_type": "code",
   "execution_count": null,
   "metadata": {},
   "outputs": [],
   "source": [
    "from scipy import integrate"
   ]
  },
  {
   "cell_type": "code",
   "execution_count": null,
   "metadata": {},
   "outputs": [],
   "source": [
    "volume_fx=np.vectorize(wispsim.custom_volume)"
   ]
  },
  {
   "cell_type": "code",
   "execution_count": null,
   "metadata": {},
   "outputs": [],
   "source": [
    "import seaborn as sns\n",
    "import matplotlib\n",
    "#cmap= sns.color_palette(\"coolwarm\", 8, as_cmap=True)\n",
    "cmap=matplotlib.cm.get_cmap('coolwarm')\n",
    "cnorm=Normalize(wispsim.HS[0]/100, (wispsim.HS[-1])/100)"
   ]
  },
  {
   "cell_type": "code",
   "execution_count": null,
   "metadata": {},
   "outputs": [],
   "source": [
    "ds=np.logspace(0, 3.5, 1000)\n",
    "fig, ax=plt.subplots(figsize=(8, 5))\n",
    "for idx, h in tqdm(enumerate(wispsim.HS)):\n",
    "    plt.plot(ds, np.log10(volume_fx(0.,np.pi/4, 0, ds,h)), color=cmap(cnorm(h/100)), label=r'h ={}'.format(h))\n",
    "plt.plot(ds, np.log10(ds**3), c='k', label=r'd$^3$')\n",
    "plt.ylabel(r'Log Veff (pc$^3$)', fontsize=18)\n",
    "plt.xlabel('d (pc)', fontsize=18)\n",
    "plt.legend(fontsize=14)"
   ]
  },
  {
   "cell_type": "code",
   "execution_count": null,
   "metadata": {},
   "outputs": [],
   "source": [
    "VOLUMESF110=np.nansum(volumes110.T, axis=2)*4.1*(u.arcmin**2).to(u.radian**2)\n",
    "#OLDERVOLUMES=np.nansum(oldervolumes.T, axis=2)*4.1*(u.arcmin**2).to(u.radian**2)\n",
    "#VOLUMESF140=np.nansum(volumes140.T, axis=2)*4.1*(u.arcmin**2).to(u.radian**2)\n",
    "#VOLUMESF160=np.nansum(volumes160.T, axis=2)*4.1*(u.arcmin**2).to(u.radian**2)"
   ]
  },
  {
   "cell_type": "code",
   "execution_count": null,
   "metadata": {},
   "outputs": [],
   "source": [
    "h=500"
   ]
  },
  {
   "cell_type": "code",
   "execution_count": null,
   "metadata": {},
   "outputs": [],
   "source": [
    "cands=pd.read_pickle(wisps.LIBRARIES+'/real_ucds.pkl')"
   ]
  },
  {
   "cell_type": "code",
   "execution_count": null,
   "metadata": {},
   "outputs": [],
   "source": [
    "mag_f=pd.DataFrame.from_records([x.mag_limits for x in pnts])"
   ]
  },
  {
   "cell_type": "code",
   "execution_count": null,
   "metadata": {},
   "outputs": [],
   "source": []
  },
  {
   "cell_type": "code",
   "execution_count": null,
   "metadata": {},
   "outputs": [],
   "source": [
    "model='baraffe2003'\n",
    "hidx=400\n",
    "cutdf=pd.read_hdf(wisps.OUTPUT_FILES+'/final_simulated_sample_cut.h5', key=str(model)+str('h')+str(hidx)+'F110_corrected')"
   ]
  },
  {
   "cell_type": "code",
   "execution_count": null,
   "metadata": {},
   "outputs": [],
   "source": [
    "spts=cutdf.spt.values\n",
    "scales=(wisps.POLYNOMIAL_RELATIONS['mag_limit_corrections']['F110W'])[0](spts)"
   ]
  },
  {
   "cell_type": "code",
   "execution_count": null,
   "metadata": {},
   "outputs": [],
   "source": [
    "fig, ax=plt.subplots(figsize=(8, 5))\n",
    "for idx, h in enumerate(wispsim.HS):\n",
    "    #plt.plot(wispsim.SPGRID, np.log10(OLDERVOLUMES[idx]), color=cmap(cnorm(h/100)),\n",
    "     #   linewidth=3, linestyle='--', alpha=0.3)\n",
    "    \n",
    "    plt.plot(wispsim.SPGRID, np.log10(VOLUMESF110[idx]), color=cmap(cnorm(h/100)),\n",
    "             linewidth=3, label=r'h ={} pc'.format(h), linestyle='-')\n",
    "\n",
    "#plt.plot(wispsim.SPGRID, np.log10(vsunif), label=r'd$^3$' )\n",
    "plt.ylabel(r'Log  Veff', fontsize=18)\n",
    "plt.xlabel('SpT', fontsize=18)\n",
    "#plt.legend(fontsize=14)\n",
    "cax = fig.add_axes([.3, 0.4, .3, 0.03])\n",
    "mp=matplotlib.cm.ScalarMappable(norm=cnorm, cmap=cmap)\n",
    "cbar=plt.colorbar(mp, cax=cax, orientation='horizontal')\n",
    "cbar.ax.set_xlabel(r' H (pc)', fontsize=18)\n",
    "cax.minorticks_on()\n",
    "plt.minorticks_on()\n",
    "#plt.grid(which='both')\n",
    "\n",
    "plt.tight_layout()\n",
    "ax.set_xticks([20, 25, 30, 35, 40])\n",
    "ax.set_xticklabels(['L0', 'L5', 'T0', 'T5', 'Y0'])\n",
    "\n",
    "plt.savefig(wisps.OUTPUT_FIGURES+'/simulation_volumes.pdf', bbox_inches='tight')"
   ]
  },
  {
   "cell_type": "code",
   "execution_count": null,
   "metadata": {},
   "outputs": [],
   "source": [
    "np.nansum(VOLUMESF110[0][:3])*(10**-3)"
   ]
  },
  {
   "cell_type": "code",
   "execution_count": null,
   "metadata": {},
   "outputs": [],
   "source": []
  },
  {
   "cell_type": "code",
   "execution_count": null,
   "metadata": {},
   "outputs": [],
   "source": [
    "model='baraffe2003'\n",
    "hidx=500\n",
    "fig, ax=plt.subplots()\n",
    "for hidx in wispsim.HS:\n",
    "    cutdf=pd.read_hdf(wisps.OUTPUT_FILES+'/final_simulated_sample_cut.h5', key=str(model)+str('h')+str(hidx)+'F110_corrected')\n",
    "    #cutdf=cutdf[cutdf.snr >= 3.]\n",
    "    sns.kdeplot(cutdf.d.apply(np.log10), label='simulated h= {} pc'.format(hidx), ax=ax)\n",
    "    \n",
    "cands=cands[cands.snr1 >=3.]\n",
    "sns.kdeplot(cands.distance.apply(np.log10), label='observed', c='k')\n",
    "\n",
    "plt.hist(wisps.drop_nan(cands.distance.apply(np.log10)), density=True)\n",
    "#plt.legend()\n",
    "ax.set_xlim([2, 4])\n",
    "plt.xlabel('Log Distance')\n",
    "plt.xscale('log')\n",
    "plt.ylabel('Normalized Number')"
   ]
  },
  {
   "cell_type": "code",
   "execution_count": null,
   "metadata": {},
   "outputs": [],
   "source": [
    "model='baraffe2003'\n",
    "fig, ax=plt.subplots(ncols=2, figsize=(12, 6))\n",
    "for idx, hidx in enumerate([350, 1000]):\n",
    "    cutdf=pd.read_hdf(wisps.OUTPUT_FILES+'/final_simulated_sample_cut.h5', key=str(model)+str('h')+str(hidx)+'F110_corrected')\n",
    "    #cutdf=cutdf[cutdf.snr >= 3.]\n",
    "    ax[idx].scatter(cutdf.spt, cutdf.d, c=cutdf.sl, s=5, alpha=.5, cmap='viridis')\n",
    "    ax[idx].errorbar(cands.spt,cands.distance,   label='observed', c='k',  fmt='o', alpha=1.)\n",
    "    ax[idx].set_yscale('log')\n",
    "    ax[idx].set_ylabel('Distance (pc)')\n",
    "    ax[idx].set_xlabel('SpT')\n",
    "    ax[idx].set_title('h = {} pc'.format(hidx), fontsize=18)"
   ]
  },
  {
   "cell_type": "code",
   "execution_count": null,
   "metadata": {},
   "outputs": [],
   "source": [
    "cutdf=pd.read_hdf(wisps.OUTPUT_FILES+'/final_simulated_sample_cut.h5', key=str('baraffe2003')+str('h')+str(1000)+'F110_corrected')\n"
   ]
  },
  {
   "cell_type": "code",
   "execution_count": null,
   "metadata": {},
   "outputs": [],
   "source": [
    "h=plt.hist(cutdf.appf110, density=True, bins=32)\n",
    "plt.hist(cands.F110W, density=True,  histtype='step' )"
   ]
  },
  {
   "cell_type": "code",
   "execution_count": null,
   "metadata": {},
   "outputs": [],
   "source": [
    "h=plt.scatter(cutdf.appf110, np.log10(cutdf.f110_unc), s=10)# density=True, bins=32)"
   ]
  },
  {
   "cell_type": "code",
   "execution_count": null,
   "metadata": {},
   "outputs": [],
   "source": [
    "x=[2, 3]\n",
    "print ('{}{}'.format(*x))"
   ]
  },
  {
   "cell_type": "code",
   "execution_count": null,
   "metadata": {},
   "outputs": [],
   "source": [
    "h=plt.scatter(cutdf.appf110, np.log10(cutdf.snrj110), s=10)\n",
    "# density=True, bins=32)"
   ]
  },
  {
   "cell_type": "code",
   "execution_count": null,
   "metadata": {},
   "outputs": [],
   "source": [
    "c=plt.scatter(cutdf.snr.apply(np.log10), cutdf.appf140, s=5, \n",
    "              alpha=0.5, marker='+', c=cutdf.spt, cmap='coolwarm')\n",
    "#is this binning a problem?\n",
    "plt.xlabel('LOG J-SNR')\n",
    "plt.ylabel('SpT')\n",
    "plt.axvline(np.log10(3.))\n",
    "plt.colorbar(c)\n",
    "plt.minorticks_on()"
   ]
  },
  {
   "cell_type": "code",
   "execution_count": null,
   "metadata": {},
   "outputs": [],
   "source": [
    "cutdf['spt_r']=cutdf.spt.apply(np.round)"
   ]
  },
  {
   "cell_type": "code",
   "execution_count": null,
   "metadata": {},
   "outputs": [],
   "source": [
    "plt.plot([x[1].spt_r.mean() for x in cutdf.groupby('spt_r')], \n",
    "         [x[1].sl.mean() for x in cutdf.groupby('spt_r')])"
   ]
  },
  {
   "cell_type": "code",
   "execution_count": null,
   "metadata": {},
   "outputs": [],
   "source": [
    "wcands=cands[cands.grism_id.str.lower().str.startswith('par')]\n",
    "hcands=cands[~cands.grism_id.str.lower().str.startswith('par')]"
   ]
  },
  {
   "cell_type": "code",
   "execution_count": null,
   "metadata": {},
   "outputs": [],
   "source": [
    "#sns.kdeplot(cutdf.appF140, cutdf.snr.apply(np.log10), s=50, marker=',', alpha=0.01)\n",
    "#sns.kdeplot(cutdf.appF140, cutdf.snr.apply(np.log10),  fill=True)\n",
    "sns.scatterplot(cutdf.appf140, cutdf.spt, s=5, \n",
    "                color='#AAAAAA', alpha=0.7)\n",
    "#sns.histplot(x=cutdf.appF140, y=cutdf.snr.apply(np.log10), bins=50, pthresh=.1, cmap=\"mako\")\n",
    "sns.kdeplot(cutdf.appf140, cutdf.spt, levels=np.flip(1-np.array([ 0.5, 0.75, 0.89, 0.94, 0.96])), \n",
    "            color=\"#001f3f\", linewidths=1)\n",
    "\n",
    "plt.errorbar(wcands.F140W, wcands.spt, xerr=wcands.F140W_er, yerr=wcands.spt_er, fmt='o', c='k', label='WISP')\n",
    "plt.errorbar(hcands.F140W, hcands.spt, xerr=hcands.F140W_er, yerr=hcands.spt_er, fmt='o', c='#B10DC9', \n",
    "             label='HST-3D')\n",
    "\n",
    "\n",
    "#is this binning a problem?\n",
    "plt.xlabel('F140W')\n",
    "plt.legend()\n",
    "plt.ylabel('SpT')\n",
    "plt.minorticks_on()\n",
    "#plt.colorbar(c)\n",
    "\n",
    "#plt.minorticks_on()"
   ]
  },
  {
   "cell_type": "code",
   "execution_count": null,
   "metadata": {},
   "outputs": [],
   "source": [
    "#pd.DataFrame.from_records(cutdf.pnt.apply(lambda x: x.mag_limits).values)"
   ]
  },
  {
   "cell_type": "code",
   "execution_count": null,
   "metadata": {},
   "outputs": [],
   "source": [
    "plt.scatter(cutdf.pnt.apply(lambda x: np.log10(x.imag_exptime/1000)), cutdf.f140,\n",
    "            alpha=0.1)"
   ]
  },
  {
   "cell_type": "code",
   "execution_count": null,
   "metadata": {},
   "outputs": [],
   "source": [
    "c=plt.scatter(cutdf.appf140, cutdf.spt, s=10,marker='.', alpha=0.1)"
   ]
  },
  {
   "cell_type": "code",
   "execution_count": null,
   "metadata": {},
   "outputs": [],
   "source": [
    "volumes=[]\n",
    "dlimits=[]\n",
    "for pnt in pnts:\n",
    "    vs=[]\n",
    "    dls=[]\n",
    "    for g in wispsim.SPGRID:\n",
    "        vsx=[]\n",
    "        for h in wispsim.HS:\n",
    "            vsx.append((pnt.volumes[h])[g])\n",
    "        dls.append(pnt.dist_limits[g])\n",
    "        vs.append(vsx)\n",
    "    volumes.append(vs)\n",
    "    dlimits.append(dls)\n",
    "volumes=np.array(volumes)\n",
    "dlimits=np.array(dlimits)\n",
    "\n",
    "steps=np.arange(len(pnts))\n",
    "AREA=4.1*(u.arcmin**2).to(u.radian**2)"
   ]
  },
  {
   "cell_type": "code",
   "execution_count": null,
   "metadata": {},
   "outputs": [],
   "source": [
    "fig, ((ax, ax1), (ax2, ax3))=plt.subplots(figsize=(10, 8), ncols=2, nrows=2)\n",
    "for idx, h in enumerate(wispsim.HS):\n",
    "    ax.step(steps, np.log10(np.cumsum(volumes[:, 0, idx])*AREA), color=cmap(cnorm(h/100)), linewidth=3)\n",
    "    ax1.step(steps, np.log10(np.cumsum(volumes[:, 9, idx])*AREA), color=cmap(cnorm(h/100)), linewidth=3)\n",
    "    ax2.step(steps, np.log10(np.cumsum(volumes[:,-6 , idx])*AREA), color=cmap(cnorm(h/100)), linewidth=3)\n",
    "    ax3.step(steps, np.log10(np.cumsum(volumes[:, -1, idx])*AREA), color=cmap(cnorm(h/100)), linewidth=3, label=r'h ={}'.format(h))\n",
    "\n",
    "\n",
    "ax.set_ylabel(r'Log Cumulative Veff (pc$^3$)', fontsize=18)\n",
    "ax2.set_ylabel(r'Log Cumulative Veff (pc$^3$)', fontsize=18)\n",
    "\n",
    "for a in [ax, ax1, ax2, ax3]:\n",
    "    a.set_xlabel('Number of Pointings', fontsize=18)\n",
    "    a.minorticks_on()\n",
    "    \n",
    "ax.set_title('{} UCDs'.format(splat.typeToNum(wispsim.SPGRID[0])), fontsize=18)\n",
    "ax1.set_title('{} UCDs'.format(splat.typeToNum(wispsim.SPGRID[9])), fontsize=18)\n",
    "ax2.set_title('{} UCDs'.format(splat.typeToNum(wispsim.SPGRID[-6])), fontsize=18)\n",
    "ax3.set_title('{} UCDs'.format(splat.typeToNum(wispsim.SPGRID[-1])), fontsize=18)\n",
    "\n",
    "#ax3.legend(fontsize=15)\n",
    "cax = fig.add_axes([.6, 0.2, .3, 0.03])\n",
    "mp=matplotlib.cm.ScalarMappable(norm=cnorm, cmap=cmap)\n",
    "cbar=plt.colorbar(mp, cax=cax, orientation='horizontal')\n",
    "cbar.ax.set_xlabel(r' H (pc)', fontsize=18)\n",
    "cax.minorticks_on()\n",
    "\n",
    "plt.tight_layout()\n",
    "\n",
    "\n",
    "plt.savefig(wisps.OUTPUT_FIGURES+'/cumulative_volumes.pdf', bbox_inches='tight')"
   ]
  },
  {
   "cell_type": "code",
   "execution_count": null,
   "metadata": {},
   "outputs": [],
   "source": [
    "import numba"
   ]
  },
  {
   "cell_type": "code",
   "execution_count": null,
   "metadata": {},
   "outputs": [],
   "source": [
    "@numba.jit\n",
    "def get_kde(r, z):\n",
    "    kde=wisps.kernel_density([r, z])\n",
    "    dens=kde.pdf([r, z])\n",
    "    return dens"
   ]
  },
  {
   "cell_type": "code",
   "execution_count": null,
   "metadata": {},
   "outputs": [],
   "source": [
    "cutdf150=pd.read_hdf(wisps.OUTPUT_FILES+'/final_simulated_sample_cut.h5', key=str(model)+str('h')+str(150)+'F110_corrected')\n",
    "cutdf150['ra']=cutdf150.pnt.apply(lambda x: x.coord.ra)\n",
    "cutdf150['dec']=cutdf150.pnt.apply(lambda x: x.coord.dec)\n",
    "galc150=SkyCoord(ra=cutdf150['ra'].values, dec=cutdf150['dec'].values, distance= cutdf150.d.values*u.pc)\n",
    "\n",
    "cutdf400=pd.read_hdf(wisps.OUTPUT_FILES+'/final_simulated_sample_cut.h5', key=str(model)+str('h')+str(350)+'F110_corrected')\n",
    "cutdf400['ra']=cutdf400.pnt.apply(lambda x: x.coord.ra)\n",
    "cutdf400['dec']=cutdf400.pnt.apply(lambda x: x.coord.dec)\n",
    "galc400=SkyCoord(ra=cutdf400['ra'].values, dec=cutdf400['dec'].values, distance= cutdf400.d.values*u.pc)"
   ]
  },
  {
   "cell_type": "code",
   "execution_count": null,
   "metadata": {},
   "outputs": [],
   "source": [
    "mask1=(cutdf400.spt>=20).values\n",
    "#mask1="
   ]
  },
  {
   "cell_type": "code",
   "execution_count": null,
   "metadata": {},
   "outputs": [],
   "source": [
    "#mask0"
   ]
  },
  {
   "cell_type": "code",
   "execution_count": null,
   "metadata": {},
   "outputs": [],
   "source": [
    "galoc0=galc150.transform_to(astrocoord.Galactocentric(galcen_distance=8.3*u.kpc))\n",
    "x0, y0, z0=galoc0.cartesian.xyz\n",
    "\n",
    "galoc1=galc400.transform_to(astrocoord.Galactocentric(galcen_distance=8.3*u.kpc))\n",
    "x1, y1, z1=galoc1.cartesian.xyz\n",
    "\n",
    "d0=(x0**2+y0**2+z0**2)**(0.5)\n",
    "r0=(x0**2+y0**2)**(0.5)\n",
    "\n",
    "d1=(x1**2+y1**2+z1**2)**(0.5)\n",
    "r1=(x1**2+y1**2)**(0.5)\n",
    "\n",
    "\n",
    "realcoords=SkyCoord(cands.coord.values)\n",
    "\n",
    "galoc=realcoords.transform_to(astrocoord.Galactocentric(galcen_distance=8.3*u.kpc))\n",
    "x, y, z=galoc.cartesian.xyz\n",
    "\n",
    "r=(x**2+y**2)**0.5"
   ]
  },
  {
   "cell_type": "code",
   "execution_count": null,
   "metadata": {},
   "outputs": [],
   "source": [
    "#mask0= "
   ]
  },
  {
   "cell_type": "code",
   "execution_count": null,
   "metadata": {},
   "outputs": [],
   "source": [
    "fig, ax=plt.subplots( figsize=(10, 6), ncols=2, sharey='row')\n",
    "\n",
    "\n",
    "h=ax[0].hist(r1.flatten().value[~mask1], \n",
    "          bins=32, histtype='step', density=True, log=True, linewidth=3)\n",
    "h=ax[0].hist(r1.flatten().value[mask1],\n",
    "          bins=32, histtype='step',  density=True, log=True, linewidth=3)\n",
    "#h=ax[0].hist(d1.flatten().value,  color='#0074D9', bins=32, density=True,\n",
    "#          histtype='step', label=\"h = 400 pc\", log=True)\n",
    "\n",
    "h=ax[1].hist(z1.flatten().value[~mask1], bins=32, density=True,\n",
    "         histtype='step', log=True, label='M', linewidth=3)\n",
    "\n",
    "h=ax[1].hist(z1.flatten().value[mask1],  bins=32, density=True,\n",
    "         histtype='step',  log=True, label='L \\&T', linewidth=3)\n",
    "ax[1].legend()\n",
    "\n",
    "#h=ax[1].hist(z1.flatten().value,  color='#0074D9', bins=32, density=True,  \n",
    "#          histtype='step', label=\"h = 400 pc\", log=True)\n",
    "\n",
    "#fig, ax=plt.subplots( figsize=(10, 10))\n",
    "#h=ax.hist(z0.flatten().value, color='#FF4136',\n",
    "#          bins='auto', histtype='step', label=\"h = 200 pc\")\n",
    "#\n",
    "#h=ax.hist(z1.flatten().value,  color='#0074D9', bins='auto', \n",
    "#          histtype='step', label=\"h = 400 pc\")\n",
    "#c1=ax1[0].scatter(np.log10(r0), z0, c=cutdf150.spt.values, vmin=17, vmax= 40, cmap='coolwarm', \n",
    "#                  s=1, alpha=0.5)\n",
    "\n",
    "#ax1[0].set_title(\"h = 200 pc\", fontsize=18)\n",
    "#ax1[1].set_title(\"h = 400 pc\", fontsize=18)\n",
    "\n",
    "#c=ax1[1].scatter(np.log10(r1), z1, c=cutdf400.spt.values,  vmin=17, vmax= 40, \n",
    "#                 cmap='coolwarm',   s=1, alpha=0.5)\n",
    "\n",
    "#cbar0=plt.colorbar(c, ax=ax1[1],    orientation='horizontal')\n",
    "#cbar1=plt.colorbar(c1, ax=ax1[0],    orientation='horizontal')\n",
    "\n",
    "#sc=ax1[1].scatter(np.log10(r), z, c=cands.spt.values, s=50, cmap='coolwarm',  marker='*', edgecolors='#111111', \n",
    "#                   vmin=17, vmax= 40, label='Real UCDs')\n",
    "#sc=ax1[0].scatter(np.log10(r), z, c=cands.spt.values, s=50, cmap='coolwarm',  marker='*', edgecolors='#111111', \n",
    "#                  vmin=17, vmax= 40,label='Real UCDs')\n",
    "\n",
    "#cbar0.ax.set_xlabel(r'Spectral Type', fontsize=18)\n",
    "#cbar1.ax.set_xlabel(r'Spectral Type', fontsize=18)\n",
    "#cbar1.ax.set_xlabel(r'Log $ \\rho/ \\rho_0$ ', fontsize=18)\n",
    "\n",
    "#ax[0].legend(fontsize=15, loc='lower left')\n",
    "#ax[0].set_xlabel('Log Distance (pc)', fontsize=18)\n",
    "#ax[0].set_ylabel('N', fontsize=18)\n",
    "\n",
    "#ax[1].set_xlabel('Z (pc)', fontsize=18)\n",
    "#ax[1].set_ylabel('N', fontsize=18)\n",
    "#ax[1].set_yscale('log')\n",
    "\n",
    "#ax1[0].legend(fontsize=15, loc='lower left')\n",
    "#ax1[0].set_xlabel('R (pc)', fontsize=18)\n",
    "#ax1[0].set_ylabel('Z (pc)', fontsize=18)\n",
    "\n",
    "#ax1[1].legend(fontsize=15, loc='lower left')\n",
    "#ax1[1].set_xlabel('R (pc)', fontsize=18)\n",
    "#ax1[1].set_ylabel('Z (pc)', fontsize=18)\n",
    "\n",
    "#ax1[0].set_xticks(np.array([10, 100, 500, 1000]))#, major=True)\n",
    "#ax1[1].set_xticks([10, 100, 500, 1000], major=True)\n",
    "\n",
    "#ax1[0].set_xscale('log')\n",
    "#ax1[1].set_xscale('log')\n",
    "\n",
    "ax[0].axvline(8300, c='k', linestyle='--')\n",
    "ax[-1].axvline(27, c='k', linestyle='--')\n",
    "\n",
    "for a in ax:\n",
    "    a.minorticks_on()\n",
    "    #a.set_xscale('log')\n",
    "    \n",
    "#cbar0.ax.set_xticks([17, 20, 25, 30, 35])\n",
    "#cbar0.ax.set_xticklabels(['M7', 'L0', 'L5', 'T0', 'T5'])\n",
    "\n",
    "#cbar1.ax.set_xticks([17, 20, 25, 30, 35])\n",
    "#cbar1.ax.set_xticklabels(['M7', 'L0', 'L5', 'T0', 'T5'])\n",
    "#plt.tight_layout()\n",
    "plt.savefig(wisps.OUTPUT_FIGURES+'/simulation_distances.jpeg', bbox_inches='tight', rasterized=True)"
   ]
  },
  {
   "cell_type": "code",
   "execution_count": null,
   "metadata": {},
   "outputs": [],
   "source": [
    "gh"
   ]
  },
  {
   "cell_type": "code",
   "execution_count": null,
   "metadata": {},
   "outputs": [],
   "source": [
    "corr_pols=wisps.POLYNOMIAL_RELATIONS['mag_limit_corrections'] "
   ]
  },
  {
   "cell_type": "code",
   "execution_count": null,
   "metadata": {},
   "outputs": [],
   "source": [
    "wispsim.MAG_LIMITS['ncutoff']"
   ]
  },
  {
   "cell_type": "code",
   "execution_count": null,
   "metadata": {},
   "outputs": [],
   "source": [
    "def less_than_fifty(row):\n",
    "    ser={'lF110':False, 'lF140':False, 'lF160':False}\n",
    "    \n",
    "    if row.nF110 <wispsim.MAG_LIMITS['ncutoff']:\n",
    "        ser['lF110']=True\n",
    "    if row.nF140 <wispsim.MAG_LIMITS['ncutoff']:\n",
    "        ser['lF140']=True\n",
    "    if row.nF160 <wispsim.MAG_LIMITS['ncutoff']:\n",
    "        ser['lF160']=True\n",
    "    return pd.Series(ser)\n",
    "\n",
    "maglimits=pd.DataFrame([x.mag_limits for x in pnts])\n",
    "maglimits['imexp']=[x.imag_exptime for x in pnts]\n",
    "#exposure_times=[np.nanmean(x.exposure_time) for x in pnts]\n",
    "maglimits['pointing']=[x.name for x in pnts]\n",
    "maglimits['survey']=[x.survey for x in pnts]\n",
    "#maglimits['exp']=np.log10(exposure_times)\n",
    "\n",
    "nsrcs=pd.DataFrame([x.number_of_sources  for x in pnts])\n",
    "number_of_sources=nsrcs.rename(columns={'F140': 'nF140', 'F160': 'nF160', 'F110':'nF110'})\n",
    "less_than_df=number_of_sources.apply(less_than_fifty, axis=1)\n",
    "number_of_sources['pointing']=[x.name for x in pnts]\n",
    "number_of_sources=number_of_sources.join(less_than_df)\n",
    "mag_lts_df=maglimits.merge(number_of_sources, on='pointing')\n"
   ]
  },
  {
   "cell_type": "code",
   "execution_count": null,
   "metadata": {},
   "outputs": [],
   "source": [
    "mag_lts_df.imexp.median(), mag_lts_df.imexp.std()"
   ]
  },
  {
   "cell_type": "code",
   "execution_count": null,
   "metadata": {},
   "outputs": [],
   "source": [
    "wispmglts=mag_lts_df[mag_lts_df.survey=='wisps']\n",
    "hst3dpmglts=mag_lts_df[mag_lts_df.survey!='wisps']"
   ]
  },
  {
   "cell_type": "code",
   "execution_count": null,
   "metadata": {},
   "outputs": [],
   "source": [
    "hst3dpmglts.F140.max()"
   ]
  },
  {
   "cell_type": "code",
   "execution_count": null,
   "metadata": {},
   "outputs": [],
   "source": [
    "wispmglts.F110.max()"
   ]
  },
  {
   "cell_type": "code",
   "execution_count": null,
   "metadata": {},
   "outputs": [],
   "source": [
    "(wispsim.MAG_LIMITS['hst3d']['F140'][0])(np.log(812))"
   ]
  },
  {
   "cell_type": "code",
   "execution_count": null,
   "metadata": {},
   "outputs": [],
   "source": [
    "fig, ax=plt.subplots(ncols=3, figsize=(12, 4),  sharex=True, sharey=True)\n",
    "\n",
    "ax[0].scatter(wispmglts['F110'][wispmglts.lF110.apply(bool)],\n",
    "              np.log10(wispmglts.imexp)[wispmglts.lF110.apply(bool)], \n",
    "         facecolors='none', edgecolors='r', marker='o')\n",
    "ax[0].scatter(wispmglts['F110'][~wispmglts.lF110.apply(bool)],\n",
    "              np.log10(wispmglts.imexp)[~wispmglts.lF110.apply(bool)], \n",
    "         marker='+', color='#111111')\n",
    "ax[0].plot( wispsim.MAG_LIMITS['wisps']['F110'][0](np.arange(2, 4, 0.1)),\n",
    "              np.arange(2, 4, 0.1), color='#111111')\n",
    "\n",
    "ax[1].scatter(wispmglts['F140'][wispmglts.lF140.apply(bool)],\n",
    "              np.log10(wispmglts.imexp)[wispmglts.lF140.apply(bool)], \n",
    "           facecolors='none', edgecolors='r', marker='o')\n",
    "ax[1].scatter(wispmglts['F140'][~wispmglts.lF140.apply(bool)],\n",
    "              np.log10(wispmglts.imexp)[~wispmglts.lF140.apply(bool)], \n",
    "           marker='+', color='#111111')\n",
    "ax[1].plot( wispsim.MAG_LIMITS['wisps']['F140'][0](np.arange(2, 4, 0.1)),\n",
    "              np.arange(2, 4, 0.1),  color='#111111')\n",
    "ax[1].scatter(hst3dpmglts['F140'], np.log10(hst3dpmglts.imexp),  \n",
    "              marker='^', color='#111111')\n",
    "\n",
    "#ax[1][1].scatter(hst3dpmglts['F140'], np.log10(hst3dpmglts.imexp), \n",
    "#           c=hst3dpmglts.lF140.apply(int), cmap='coolwarm', marker='o')\n",
    "\n",
    "ax[2].scatter(wispmglts['F160'][wispmglts.lF160.apply(bool)],\n",
    "              np.log10(wispmglts.imexp)[wispmglts.lF160.apply(bool)], \n",
    "             facecolors='none', edgecolors='r', marker='o',\n",
    "             label='WISP fits')\n",
    "\n",
    "ax[2].scatter(wispmglts['F160'][~wispmglts.lF160.apply(bool)],\n",
    "              np.log10(wispmglts.imexp)[~wispmglts.lF160.apply(bool)], \n",
    "             marker='+',  color='#111111', label='WISP')\n",
    "ax[2].plot( wispsim.MAG_LIMITS['wisps']['F160'][0](np.arange(2, 4, 0.1)),\n",
    "              np.arange(2, 4, 0.1),  color='#111111')\n",
    "\n",
    "ax[2].scatter(hst3dpmglts['F160'], np.log10(hst3dpmglts.imexp),  \n",
    "              marker='^', label='3D-HST', color='#111111')\n",
    "ax[2].legend(fontsize=12)\n",
    "\n",
    "#ax[1][1].set_ylim([2.8, 2.95])\n",
    "#ax[1][2].set_ylim([2.8, 2.95])\n",
    "for a in ax:\n",
    "    a.minorticks_on()\n",
    "    a.set_ylabel('Log Exposure Time (s)')\n",
    "\n",
    "ax[0].set_xlabel(r'F110W $_{\\mathrm{lim}}$')\n",
    "ax[1].set_xlabel(r'F140W $_{\\mathrm{lim}}$')\n",
    "ax[2].set_xlabel(r'F160W $_{\\mathrm{lim}}$')\n",
    "\n",
    "plt.savefig(wisps.OUTPUT_FIGURES+'/mag_limit.pdf', \n",
    "            bbox_inches='tight', rasterized=True)"
   ]
  },
  {
   "cell_type": "code",
   "execution_count": null,
   "metadata": {},
   "outputs": [],
   "source": [
    "from scipy import stats\n",
    "def get_random_pointing(survey, key):\n",
    "    ps=[x for x in pnts if x.survey.startswith(survey)]\n",
    "    p=pnts[np.random.randint(len(ps))]\n",
    "    vals=wisps.drop_nan(np.vstack(p.mags[key])[:,0])\n",
    "    print (p)\n",
    "    return p, vals\n",
    "\n",
    "def get_max_value(values):\n",
    "    values=wisps.drop_nan(values)\n",
    "    if len(values)<1:\n",
    "        return np.nan\n",
    "    if np.equal.reduce(values):\n",
    "        return np.nanmean(values)\n",
    "    if len(values)>=1:\n",
    "        kernel= stats.gaussian_kde(distr, bw_method=0.2)\n",
    "        #kernel = wisps.kernel_density(values)\n",
    "        height = kernel.pdf(np.linspace(20, 25, 100))\n",
    "        mode_value = values[np.argmax(height)]\n",
    "        print (mode_value)\n",
    "        return float(mode_value)\n",
    "    \n",
    "def get_mag_limit(pnt, key, mags):\n",
    "    #fit for less than 50\n",
    "    maglt=np.nan\n",
    "    survey= 'wisps'\n",
    "  \n",
    "    #leave 3d hst alone\n",
    "    if (not pnt.name.lower().startswith('par')): \n",
    "        survey='hst3d'\n",
    "        if (key=='F110'): \n",
    "            return maglt\n",
    "        else:\n",
    "            maglt=get_max_value(mags)\n",
    "            print (pnt.imag_exptime, maglt)\n",
    "            return maglt\n",
    "            \n",
    "    if pnt.name.lower().startswith('par'): \n",
    "        if (len(mags) < MAG_LIMITS['ncutoff']):\n",
    "            magpol=MAG_LIMITS[survey][key][0]\n",
    "            magsctt=MAG_LIMITS[survey][key][1]\n",
    "            maglt=np.random.normal(magpol(np.log10(pnt.imag_exptime)), magsctt)\n",
    "            return maglt\n",
    "\n",
    "        #things aove 50 objects\n",
    "        if (len(mags) >= MAG_LIMITS['ncutoff']): \n",
    "            maglt=get_max_value(mags)\n",
    "            return maglt"
   ]
  },
  {
   "cell_type": "code",
   "execution_count": null,
   "metadata": {},
   "outputs": [],
   "source": [
    "fig, ax=plt.subplots()\n",
    "p, m=get_random_pointing('hst3d', 'F140')\n",
    "plt.hist(m, density=True)\n",
    "sns.kdeplot(m, ax=ax)\n",
    "plt.axvline(get_mag_limit(p, 'F140', m), c='k')"
   ]
  },
  {
   "cell_type": "code",
   "execution_count": null,
   "metadata": {},
   "outputs": [],
   "source": []
  },
  {
   "cell_type": "code",
   "execution_count": null,
   "metadata": {},
   "outputs": [],
   "source": [
    "#"
   ]
  },
  {
   "cell_type": "code",
   "execution_count": null,
   "metadata": {},
   "outputs": [],
   "source": [
    "#magpolw=wispsim.MAG_LIMITS[survey][][0]\n",
    "#magpolh=wispsim.MAG_LIMITS[survey][key][0]\n",
    "\n",
    "#magsctt=MAG_LIMITS[survey][key][1]\n",
    "\n",
    "#maglt=np.nanmean(np.random.normal(magpol(np.log10(pnt.exposure_time)), magsctt, 100))"
   ]
  },
  {
   "cell_type": "code",
   "execution_count": null,
   "metadata": {},
   "outputs": [],
   "source": [
    "mag_lts_df['survey']=mag_lts_df['survey'].str.upper()\n",
    "mag_lts_df=mag_lts_df.rename(columns={\"survey\": 'SURVEY'})\n"
   ]
  },
  {
   "cell_type": "code",
   "execution_count": null,
   "metadata": {},
   "outputs": [],
   "source": [
    "import seaborn as sns"
   ]
  },
  {
   "cell_type": "code",
   "execution_count": null,
   "metadata": {},
   "outputs": [],
   "source": [
    "wisps_pnts=[x for x in pnts if x.name.startswith('par')]"
   ]
  },
  {
   "cell_type": "code",
   "execution_count": null,
   "metadata": {},
   "outputs": [],
   "source": [
    "hst3d_pnts=[x for x in pnts if not x.name.startswith('par')]"
   ]
  },
  {
   "cell_type": "code",
   "execution_count": null,
   "metadata": {},
   "outputs": [],
   "source": [
    "pols={'wisps':{}, 'hst3d':{}}"
   ]
  },
  {
   "cell_type": "code",
   "execution_count": null,
   "metadata": {},
   "outputs": [],
   "source": [
    "#wisps.MAG_LIMITS"
   ]
  },
  {
   "cell_type": "code",
   "execution_count": null,
   "metadata": {},
   "outputs": [],
   "source": [
    "pnt_dicts={'wisps':wisps_pnts, 'hst3d':hst3d_pnts}"
   ]
  },
  {
   "cell_type": "code",
   "execution_count": null,
   "metadata": {},
   "outputs": [],
   "source": [
    "import scipy"
   ]
  },
  {
   "cell_type": "code",
   "execution_count": null,
   "metadata": {},
   "outputs": [],
   "source": [
    "def get_random_pointing(survey, key):\n",
    "    pntsx=[x for x in pnts if x.survey.startswith(survey)]\n",
    "    p=pntsx[np.random.randint(len(pntsx))]\n",
    "    vals=wisps.drop_nan(np.vstack(p.mags[key])[:,0])\n",
    "    print (p)\n",
    "    return p, vals\n",
    "\n",
    "def draw_stuff(survey='wisp', key='F140'):\n",
    "    p, vals=get_random_pointing(survey, key)\n",
    "    while np.isnan(vals).all():\n",
    "        p, vals=get_random_pointing(survey, key)\n",
    "    return p, vals"
   ]
  },
  {
   "cell_type": "code",
   "execution_count": null,
   "metadata": {},
   "outputs": [],
   "source": []
  },
  {
   "cell_type": "code",
   "execution_count": null,
   "metadata": {},
   "outputs": [],
   "source": [
    "fig, ax=plt.subplots(figsize=(12, 4), ncols=3)\n",
    "\n",
    "p0, vals0=draw_stuff(survey='wisp', key='F110')\n",
    "vals0=wisps.drop_nan(vals0)\n",
    "frq0, edges0=np.histogram(vals0, bins=int(np.ptp(vals0)/0.5), normed=True)\n",
    "grid0=np.linspace(vals0.min(), vals0.max(),1000)\n",
    "kde0=wisps.kernel_density(vals0).pdf(grid0)\n",
    "ax[0].plot(grid0, kde0, c='b')\n",
    "ax[0].bar(edges0[:-1], frq0, width=np.diff(edges0), align=\"edge\", label='0.5 hist', color='#7FDBFF', \n",
    "        edgecolor='#7FDBFF', fill=True)\n",
    "#ax[0].axvline(p0.mag_limits['F110'], c='#2ECC40', linestyle='--', label='kde')\n",
    "ax[0].axvline(wispsim.get_max_value(vals0))\n",
    "\n",
    "p1, vals1=draw_stuff(survey='hst3d', key='F140')\n",
    "vals1=wisps.drop_nan(vals1)\n",
    "frq1, edges1=np.histogram(vals1, bins=int(np.ptp(vals1)/0.5), normed=True)\n",
    "grid1=np.linspace(vals1.min(), vals1.max(),1000)\n",
    "kde1=wisps.kernel_density(vals1).pdf(grid1)\n",
    "ax[1].plot(grid1, kde1, c='b')\n",
    "ax[1].bar(edges1[:-1], frq1, width=np.diff(edges1), align=\"edge\", label='0.5 hist', color='#7FDBFF', \n",
    "        edgecolor='#7FDBFF', fill=True)\n",
    "#ax[1].axvline(p1.mag_limits['F140'], c='#2ECC40', linestyle='--', label='kde')\n",
    "ax[1].axvline(wispsim.get_max_value(vals1))\n",
    "\n",
    "p2, vals2=draw_stuff(survey='hst3d', key='F160')\n",
    "vals2=wisps.drop_nan(vals2)\n",
    "frq2, edges2=np.histogram(vals2, bins=int(np.ptp(vals2)/0.5), normed=True)\n",
    "kde2=wisps.kernel_density(vals2).pdf(vals2)\n",
    "ax[2].plot(vals2[np.argsort(vals2)], kde2[np.argsort(vals2)], c='b')\n",
    "ax[2].bar(edges2[:-1], frq2, width=np.diff(edges2), align=\"edge\", label='0.5 hist', color='#7FDBFF', \n",
    "        edgecolor='#7FDBFF', fill=True)\n",
    "#ax[2].axvline(p2.mag_limits['F160'], c='#2ECC40', linestyle='--', label='kde')\n",
    "ax[2].axvline(wispsim.get_max_value(vals2))\n",
    "\n",
    "\n",
    "\n",
    "ax[0].set_xlabel('F110W')\n",
    "ax[0].set_title(p0.name.upper()+ ' N= {}'.format(len(vals0)))\n",
    "\n",
    "ax[1].set_xlabel('F140W')\n",
    "ax[1].set_title(p1.name.upper() + ' N= {}'.format(len(vals1)))\n",
    "\n",
    "ax[2].set_xlabel('F160W')\n",
    "ax[2].set_title(p2.name.upper() + ' N= {}'.format(len(vals2)))\n",
    "\n",
    "plt.savefig(wisps.OUTPUT_FIGURES+'/mag_limit_illustration.pdf')"
   ]
  },
  {
   "cell_type": "code",
   "execution_count": null,
   "metadata": {},
   "outputs": [],
   "source": [
    "#plt.errorbar(volumes[0][0], volumes[0][0], fmt='o', mec='none')"
   ]
  },
  {
   "cell_type": "code",
   "execution_count": null,
   "metadata": {},
   "outputs": [],
   "source": []
  },
  {
   "cell_type": "code",
   "execution_count": null,
   "metadata": {},
   "outputs": [],
   "source": []
  }
 ],
 "metadata": {
  "kernelspec": {
   "display_name": "Python 3",
   "language": "python",
   "name": "python3"
  },
  "language_info": {
   "codemirror_mode": {
    "name": "ipython",
    "version": 3
   },
   "file_extension": ".py",
   "mimetype": "text/x-python",
   "name": "python",
   "nbconvert_exporter": "python",
   "pygments_lexer": "ipython3",
   "version": "3.8.5"
  }
 },
 "nbformat": 4,
 "nbformat_minor": 4
}
